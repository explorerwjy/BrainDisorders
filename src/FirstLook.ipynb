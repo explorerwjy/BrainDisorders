{
 "cells": [
  {
   "cell_type": "code",
   "execution_count": 21,
   "metadata": {
    "collapsed": false
   },
   "outputs": [
    {
     "name": "stdout",
     "output_type": "stream",
     "text": [
      "The autoreload extension is already loaded. To reload it, use:\n",
      "  %reload_ext autoreload\n"
     ]
    }
   ],
   "source": [
    "%load_ext autoreload\n",
    "%autoreload 2\n",
    "from utils import *\n",
    "dat_dir = \"/Users/jiayao/Work/BrainDisorders/data/\""
   ]
  },
  {
   "cell_type": "markdown",
   "metadata": {},
   "source": [
    "# ADHD_JULY2017"
   ]
  },
  {
   "cell_type": "code",
   "execution_count": 4,
   "metadata": {
    "collapsed": false
   },
   "outputs": [
    {
     "data": {
      "text/html": [
       "<div>\n",
       "<style>\n",
       "    .dataframe thead tr:only-child th {\n",
       "        text-align: right;\n",
       "    }\n",
       "\n",
       "    .dataframe thead th {\n",
       "        text-align: left;\n",
       "    }\n",
       "\n",
       "    .dataframe tbody tr th {\n",
       "        vertical-align: top;\n",
       "    }\n",
       "</style>\n",
       "<table border=\"1\" class=\"dataframe\">\n",
       "  <thead>\n",
       "    <tr style=\"text-align: right;\">\n",
       "      <th></th>\n",
       "      <th>CHR</th>\n",
       "      <th>SNP</th>\n",
       "      <th>BP</th>\n",
       "      <th>A1</th>\n",
       "      <th>A2</th>\n",
       "      <th>INFO</th>\n",
       "      <th>OR</th>\n",
       "      <th>SE</th>\n",
       "      <th>P</th>\n",
       "    </tr>\n",
       "  </thead>\n",
       "  <tbody>\n",
       "    <tr>\n",
       "      <th>0</th>\n",
       "      <td>1</td>\n",
       "      <td>rs202152658</td>\n",
       "      <td>751343</td>\n",
       "      <td>A</td>\n",
       "      <td>T</td>\n",
       "      <td>0.884</td>\n",
       "      <td>1.03118</td>\n",
       "      <td>0.0221</td>\n",
       "      <td>0.16540</td>\n",
       "    </tr>\n",
       "    <tr>\n",
       "      <th>1</th>\n",
       "      <td>1</td>\n",
       "      <td>rs143225517</td>\n",
       "      <td>751756</td>\n",
       "      <td>T</td>\n",
       "      <td>C</td>\n",
       "      <td>0.884</td>\n",
       "      <td>0.96977</td>\n",
       "      <td>0.0221</td>\n",
       "      <td>0.16540</td>\n",
       "    </tr>\n",
       "    <tr>\n",
       "      <th>2</th>\n",
       "      <td>1</td>\n",
       "      <td>rs3094315</td>\n",
       "      <td>752566</td>\n",
       "      <td>A</td>\n",
       "      <td>G</td>\n",
       "      <td>0.943</td>\n",
       "      <td>0.96002</td>\n",
       "      <td>0.0190</td>\n",
       "      <td>0.03208</td>\n",
       "    </tr>\n",
       "    <tr>\n",
       "      <th>3</th>\n",
       "      <td>1</td>\n",
       "      <td>rs3131972</td>\n",
       "      <td>752721</td>\n",
       "      <td>A</td>\n",
       "      <td>G</td>\n",
       "      <td>0.939</td>\n",
       "      <td>1.04081</td>\n",
       "      <td>0.0188</td>\n",
       "      <td>0.03301</td>\n",
       "    </tr>\n",
       "    <tr>\n",
       "      <th>4</th>\n",
       "      <td>1</td>\n",
       "      <td>rs3131971</td>\n",
       "      <td>752894</td>\n",
       "      <td>T</td>\n",
       "      <td>C</td>\n",
       "      <td>0.940</td>\n",
       "      <td>1.04300</td>\n",
       "      <td>0.0191</td>\n",
       "      <td>0.02772</td>\n",
       "    </tr>\n",
       "    <tr>\n",
       "      <th>5</th>\n",
       "      <td>1</td>\n",
       "      <td>rs61770173</td>\n",
       "      <td>753405</td>\n",
       "      <td>A</td>\n",
       "      <td>C</td>\n",
       "      <td>0.878</td>\n",
       "      <td>0.96754</td>\n",
       "      <td>0.0213</td>\n",
       "      <td>0.12080</td>\n",
       "    </tr>\n",
       "    <tr>\n",
       "      <th>6</th>\n",
       "      <td>1</td>\n",
       "      <td>rs3131970</td>\n",
       "      <td>753425</td>\n",
       "      <td>T</td>\n",
       "      <td>C</td>\n",
       "      <td>0.879</td>\n",
       "      <td>1.03345</td>\n",
       "      <td>0.0213</td>\n",
       "      <td>0.12170</td>\n",
       "    </tr>\n",
       "    <tr>\n",
       "      <th>7</th>\n",
       "      <td>1</td>\n",
       "      <td>rs2073814</td>\n",
       "      <td>753474</td>\n",
       "      <td>C</td>\n",
       "      <td>G</td>\n",
       "      <td>0.914</td>\n",
       "      <td>1.03842</td>\n",
       "      <td>0.0189</td>\n",
       "      <td>0.04622</td>\n",
       "    </tr>\n",
       "    <tr>\n",
       "      <th>8</th>\n",
       "      <td>1</td>\n",
       "      <td>rs2073813</td>\n",
       "      <td>753541</td>\n",
       "      <td>A</td>\n",
       "      <td>G</td>\n",
       "      <td>0.885</td>\n",
       "      <td>1.03407</td>\n",
       "      <td>0.0213</td>\n",
       "      <td>0.11650</td>\n",
       "    </tr>\n",
       "    <tr>\n",
       "      <th>9</th>\n",
       "      <td>1</td>\n",
       "      <td>rs3131969</td>\n",
       "      <td>754182</td>\n",
       "      <td>A</td>\n",
       "      <td>G</td>\n",
       "      <td>0.886</td>\n",
       "      <td>1.03283</td>\n",
       "      <td>0.0211</td>\n",
       "      <td>0.12700</td>\n",
       "    </tr>\n",
       "  </tbody>\n",
       "</table>\n",
       "</div>"
      ],
      "text/plain": [
       "   CHR          SNP      BP A1 A2   INFO       OR      SE        P\n",
       "0    1  rs202152658  751343  A  T  0.884  1.03118  0.0221  0.16540\n",
       "1    1  rs143225517  751756  T  C  0.884  0.96977  0.0221  0.16540\n",
       "2    1    rs3094315  752566  A  G  0.943  0.96002  0.0190  0.03208\n",
       "3    1    rs3131972  752721  A  G  0.939  1.04081  0.0188  0.03301\n",
       "4    1    rs3131971  752894  T  C  0.940  1.04300  0.0191  0.02772\n",
       "5    1   rs61770173  753405  A  C  0.878  0.96754  0.0213  0.12080\n",
       "6    1    rs3131970  753425  T  C  0.879  1.03345  0.0213  0.12170\n",
       "7    1    rs2073814  753474  C  G  0.914  1.03842  0.0189  0.04622\n",
       "8    1    rs2073813  753541  A  G  0.885  1.03407  0.0213  0.11650\n",
       "9    1    rs3131969  754182  A  G  0.886  1.03283  0.0211  0.12700"
      ]
     },
     "execution_count": 4,
     "metadata": {},
     "output_type": "execute_result"
    }
   ],
   "source": [
    "adhd_july2017 = pd.read_csv(dat_dir + \"adhd_jul2017.tsv\", delimiter=\"\\t\")\n",
    "adhd_july2017.head(10)"
   ]
  },
  {
   "cell_type": "code",
   "execution_count": 27,
   "metadata": {
    "collapsed": false
   },
   "outputs": [
    {
     "data": {
      "image/png": "[encoded data removed]",
      "text/plain": [
       "<matplotlib.figure.Figure at 0x10dda1210>"
      ]
     },
     "metadata": {},
     "output_type": "display_data"
    },
    {
     "data": {
      "image/png": "[encoded data removed]",
      "text/plain": [
       "<matplotlib.figure.Figure at 0x10e225a10>"
      ]
     },
     "metadata": {},
     "output_type": "display_data"
    }
   ],
   "source": [
    "PlotQQ(adhd_july2017[\"P\"])\n",
    "adhd_july2017[\"P\"].hist()\n",
    "plt.show()"
   ]
  },
  {
   "cell_type": "code",
   "execution_count": 22,
   "metadata": {
    "collapsed": false
   },
   "outputs": [
    {
     "data": {
      "text/html": [
       "<div>\n",
       "<style>\n",
       "    .dataframe thead tr:only-child th {\n",
       "        text-align: right;\n",
       "    }\n",
       "\n",
       "    .dataframe thead th {\n",
       "        text-align: left;\n",
       "    }\n",
       "\n",
       "    .dataframe tbody tr th {\n",
       "        vertical-align: top;\n",
       "    }\n",
       "</style>\n",
       "<table border=\"1\" class=\"dataframe\">\n",
       "  <thead>\n",
       "    <tr style=\"text-align: right;\">\n",
       "      <th></th>\n",
       "      <th>CHR</th>\n",
       "      <th>SNP</th>\n",
       "      <th>BP</th>\n",
       "      <th>A1</th>\n",
       "      <th>A2</th>\n",
       "      <th>FRQ_A_33426</th>\n",
       "      <th>FRQ_U_32541</th>\n",
       "      <th>INFO</th>\n",
       "      <th>OR</th>\n",
       "      <th>SE</th>\n",
       "      <th>P</th>\n",
       "      <th>Direction</th>\n",
       "      <th>HetPVa</th>\n",
       "    </tr>\n",
       "  </thead>\n",
       "  <tbody>\n",
       "    <tr>\n",
       "      <th>0</th>\n",
       "      <td>8</td>\n",
       "      <td>rs62513865</td>\n",
       "      <td>101592213</td>\n",
       "      <td>T</td>\n",
       "      <td>C</td>\n",
       "      <td>0.0767</td>\n",
       "      <td>0.0801</td>\n",
       "      <td>0.937</td>\n",
       "      <td>0.99332</td>\n",
       "      <td>0.0229</td>\n",
       "      <td>0.7692</td>\n",
       "      <td>--++---+-+--+------++++++-+-+---++----+--+-+++-++</td>\n",
       "      <td>0.6740</td>\n",
       "    </tr>\n",
       "    <tr>\n",
       "      <th>1</th>\n",
       "      <td>8</td>\n",
       "      <td>rs79643588</td>\n",
       "      <td>106973048</td>\n",
       "      <td>A</td>\n",
       "      <td>G</td>\n",
       "      <td>0.0940</td>\n",
       "      <td>0.0990</td>\n",
       "      <td>1.000</td>\n",
       "      <td>0.99164</td>\n",
       "      <td>0.0202</td>\n",
       "      <td>0.6775</td>\n",
       "      <td>-+---+-----++---+++----++-----+++++++++++-----+--</td>\n",
       "      <td>0.6852</td>\n",
       "    </tr>\n",
       "    <tr>\n",
       "      <th>2</th>\n",
       "      <td>8</td>\n",
       "      <td>rs17396518</td>\n",
       "      <td>108690829</td>\n",
       "      <td>T</td>\n",
       "      <td>G</td>\n",
       "      <td>0.5620</td>\n",
       "      <td>0.5610</td>\n",
       "      <td>0.980</td>\n",
       "      <td>1.00572</td>\n",
       "      <td>0.0121</td>\n",
       "      <td>0.6359</td>\n",
       "      <td>--+-+-++---+++-+++-++++---+++++++++++-+-+------++</td>\n",
       "      <td>0.1675</td>\n",
       "    </tr>\n",
       "    <tr>\n",
       "      <th>3</th>\n",
       "      <td>8</td>\n",
       "      <td>rs983166</td>\n",
       "      <td>108681675</td>\n",
       "      <td>A</td>\n",
       "      <td>C</td>\n",
       "      <td>0.5600</td>\n",
       "      <td>0.5570</td>\n",
       "      <td>1.000</td>\n",
       "      <td>1.00975</td>\n",
       "      <td>0.0120</td>\n",
       "      <td>0.4172</td>\n",
       "      <td>--+-+-----+++-+++++++++--+-++++-++-++-+-++-+---++</td>\n",
       "      <td>0.5547</td>\n",
       "    </tr>\n",
       "    <tr>\n",
       "      <th>4</th>\n",
       "      <td>8</td>\n",
       "      <td>rs28842593</td>\n",
       "      <td>103044620</td>\n",
       "      <td>T</td>\n",
       "      <td>C</td>\n",
       "      <td>0.8410</td>\n",
       "      <td>0.8440</td>\n",
       "      <td>0.941</td>\n",
       "      <td>0.99452</td>\n",
       "      <td>0.0169</td>\n",
       "      <td>0.7458</td>\n",
       "      <td>++--+---+-++-+--+++--++--++--++++-++-++++-+-+++--</td>\n",
       "      <td>0.3384</td>\n",
       "    </tr>\n",
       "  </tbody>\n",
       "</table>\n",
       "</div>"
      ],
      "text/plain": [
       "   CHR         SNP         BP A1 A2  FRQ_A_33426  FRQ_U_32541   INFO       OR  \\\n",
       "0    8  rs62513865  101592213  T  C       0.0767       0.0801  0.937  0.99332   \n",
       "1    8  rs79643588  106973048  A  G       0.0940       0.0990  1.000  0.99164   \n",
       "2    8  rs17396518  108690829  T  G       0.5620       0.5610  0.980  1.00572   \n",
       "3    8    rs983166  108681675  A  C       0.5600       0.5570  1.000  1.00975   \n",
       "4    8  rs28842593  103044620  T  C       0.8410       0.8440  0.941  0.99452   \n",
       "\n",
       "       SE       P                                          Direction  HetPVa  \n",
       "0  0.0229  0.7692  --++---+-+--+------++++++-+-+---++----+--+-+++-++  0.6740  \n",
       "1  0.0202  0.6775  -+---+-----++---+++----++-----+++++++++++-----+--  0.6852  \n",
       "2  0.0121  0.6359  --+-+-++---+++-+++-++++---+++++++++++-+-+------++  0.1675  \n",
       "3  0.0120  0.4172  --+-+-----+++-+++++++++--+-++++-++-++-+-++-+---++  0.5547  \n",
       "4  0.0169  0.7458  ++--+---+-++-+--+++--++--++--++++-++-++++-+-+++--  0.3384  "
      ]
     },
     "execution_count": 22,
     "metadata": {},
     "output_type": "execute_result"
    }
   ],
   "source": [
    "SCZ_2018 = pd.read_csv(dat_dir + \"SCZvsCONT.sumstats.tsv\", delimiter=\"\\t\")\n",
    "SCZ_2018.head(5)"
   ]
  },
  {
   "cell_type": "code",
   "execution_count": 23,
   "metadata": {
    "collapsed": false
   },
   "outputs": [
    {
     "data": {
      "image/png": "[encoded data removed]",
      "text/plain": [
       "<matplotlib.figure.Figure at 0x10cd68f50>"
      ]
     },
     "metadata": {},
     "output_type": "display_data"
    },
    {
     "data": {
      "image/png": "[encoded data removed]",
      "text/plain": [
       "<matplotlib.figure.Figure at 0x14b267490>"
      ]
     },
     "metadata": {},
     "output_type": "display_data"
    }
   ],
   "source": [
    "PlotQQ(SCZ_2018[\"P\"])\n",
    "SCZ_2018[\"P\"].hist()\n",
    "plt.show()"
   ]
  }
 ],
 "metadata": {
  "kernelspec": {
   "display_name": "Python 2",
   "language": "python",
   "name": "python2"
  },
  "language_info": {
   "codemirror_mode": {
    "name": "ipython",
    "version": 2
   },
   "file_extension": ".py",
   "mimetype": "text/x-python",
   "name": "python",
   "nbconvert_exporter": "python",
   "pygments_lexer": "ipython2",
   "version": "2.7.13"
  }
 },
 "nbformat": 4,
 "nbformat_minor": 2
}
