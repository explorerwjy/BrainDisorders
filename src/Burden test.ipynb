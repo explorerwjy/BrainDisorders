{
 "cells": [
  {
   "cell_type": "code",
   "execution_count": 12,
   "metadata": {
    "collapsed": false
   },
   "outputs": [
    {
     "name": "stdout",
     "output_type": "stream",
     "text": [
      "The autoreload extension is already loaded. To reload it, use:\n",
      "  %reload_ext autoreload\n"
     ]
    }
   ],
   "source": [
    "%load_ext autoreload\n",
    "%autoreload 2\n",
    "from utils import *\n",
    "from IPython.display import display, HTML\n",
    "import scipy.stats \n",
    "ins = BrainSpan()"
   ]
  },
  {
   "cell_type": "code",
   "execution_count": 7,
   "metadata": {
    "collapsed": true
   },
   "outputs": [],
   "source": [
    "def loaddict():\n",
    "    res = {}\n",
    "    fin = open(\"/Users/jiayao/Work/BrainDisorders/src/cds.dict\", 'rb')\n",
    "    for l in fin:\n",
    "        llist = l.strip().split()\n",
    "        gene, exon_s, cds_s, cds_e = llist[0], int(llist[1])-1, int(llist[2])-1, int(llist[3])\n",
    "        if gene not in res:\n",
    "            res[gene] = {}\n",
    "        if exon_s not in res[gene]:\n",
    "            res[gene][exon_s] = (cds_s, cds_e)\n",
    "    return res\n",
    "cds_dict = loaddict()\n",
    "def addcds(row, cds_dict):\n",
    "    s = row[\"start\"]\n",
    "    gene = row[\"gene_symbol\"]\n",
    "    if gene not in cds_dict:\n",
    "        return row[\"exon length\"]\n",
    "    if s in cds_dict[gene]:\n",
    "        cds_s, cds_e = cds_dict[gene][s]\n",
    "        return cds_e - cds_s\n",
    "    else:\n",
    "        return row[\"exon length\"]"
   ]
  },
  {
   "cell_type": "code",
   "execution_count": 10,
   "metadata": {
    "collapsed": false
   },
   "outputs": [
    {
     "data": {
      "text/html": [
       "<div>\n",
       "<style>\n",
       "    .dataframe thead tr:only-child th {\n",
       "        text-align: right;\n",
       "    }\n",
       "\n",
       "    .dataframe thead th {\n",
       "        text-align: left;\n",
       "    }\n",
       "\n",
       "    .dataframe tbody tr th {\n",
       "        vertical-align: top;\n",
       "    }\n",
       "</style>\n",
       "<table border=\"1\" class=\"dataframe\">\n",
       "  <thead>\n",
       "    <tr style=\"text-align: right;\">\n",
       "      <th></th>\n",
       "      <th>row_num</th>\n",
       "      <th>gene_id</th>\n",
       "      <th>ensembl_gene_id</th>\n",
       "      <th>gene_symbol</th>\n",
       "      <th>entrez_id</th>\n",
       "      <th>start</th>\n",
       "      <th>end</th>\n",
       "      <th>exon length</th>\n",
       "      <th>cds length</th>\n",
       "    </tr>\n",
       "  </thead>\n",
       "  <tbody>\n",
       "    <tr>\n",
       "      <th>0</th>\n",
       "      <td>1</td>\n",
       "      <td>1086864</td>\n",
       "      <td>ENSG00000000003</td>\n",
       "      <td>TSPAN6</td>\n",
       "      <td>7105.0</td>\n",
       "      <td>99883666</td>\n",
       "      <td>99884983</td>\n",
       "      <td>1317</td>\n",
       "      <td>1317</td>\n",
       "    </tr>\n",
       "    <tr>\n",
       "      <th>1</th>\n",
       "      <td>2</td>\n",
       "      <td>1086864</td>\n",
       "      <td>ENSG00000000003</td>\n",
       "      <td>TSPAN6</td>\n",
       "      <td>7105.0</td>\n",
       "      <td>99885755</td>\n",
       "      <td>99885863</td>\n",
       "      <td>108</td>\n",
       "      <td>66</td>\n",
       "    </tr>\n",
       "    <tr>\n",
       "      <th>2</th>\n",
       "      <td>3</td>\n",
       "      <td>1086864</td>\n",
       "      <td>ENSG00000000003</td>\n",
       "      <td>TSPAN6</td>\n",
       "      <td>7105.0</td>\n",
       "      <td>99887481</td>\n",
       "      <td>99887565</td>\n",
       "      <td>84</td>\n",
       "      <td>84</td>\n",
       "    </tr>\n",
       "    <tr>\n",
       "      <th>3</th>\n",
       "      <td>4</td>\n",
       "      <td>1086864</td>\n",
       "      <td>ENSG00000000003</td>\n",
       "      <td>TSPAN6</td>\n",
       "      <td>7105.0</td>\n",
       "      <td>99888401</td>\n",
       "      <td>99888536</td>\n",
       "      <td>135</td>\n",
       "      <td>135</td>\n",
       "    </tr>\n",
       "    <tr>\n",
       "      <th>4</th>\n",
       "      <td>5</td>\n",
       "      <td>1086864</td>\n",
       "      <td>ENSG00000000003</td>\n",
       "      <td>TSPAN6</td>\n",
       "      <td>7105.0</td>\n",
       "      <td>99888927</td>\n",
       "      <td>99889026</td>\n",
       "      <td>99</td>\n",
       "      <td>99</td>\n",
       "    </tr>\n",
       "  </tbody>\n",
       "</table>\n",
       "</div>"
      ],
      "text/plain": [
       "   row_num  gene_id  ensembl_gene_id gene_symbol  entrez_id     start  \\\n",
       "0        1  1086864  ENSG00000000003      TSPAN6     7105.0  99883666   \n",
       "1        2  1086864  ENSG00000000003      TSPAN6     7105.0  99885755   \n",
       "2        3  1086864  ENSG00000000003      TSPAN6     7105.0  99887481   \n",
       "3        4  1086864  ENSG00000000003      TSPAN6     7105.0  99888401   \n",
       "4        5  1086864  ENSG00000000003      TSPAN6     7105.0  99888927   \n",
       "\n",
       "        end  exon length  cds length  \n",
       "0  99884983         1317        1317  \n",
       "1  99885863          108          66  \n",
       "2  99887565           84          84  \n",
       "3  99888536          135         135  \n",
       "4  99889026           99          99  "
      ]
     },
     "execution_count": 10,
     "metadata": {},
     "output_type": "execute_result"
    }
   ],
   "source": [
    "# Columns Meta Data\n",
    "bp_exon_col_meta = pd.read_csv(\n",
    "    \"/Users/jiayao/Work/BrainDisorders/data/expression/brainspan/exons_matrix/columns_metadata.csv\", delimiter=\",\")\n",
    "bp_exon_col_meta.age.unique()\n",
    "bp_exon_col_meta[\"Period\"] = bp_exon_col_meta.apply(lambda row: ins.TemporalMap(row[\"age\"])[0], axis=1)\n",
    "bp_exon_col_meta[\"Stage\"] = bp_exon_col_meta.apply(lambda row: ins.TemporalMap(row[\"age\"])[1], axis=1)\n",
    "bp_exon_col_meta[\"Description\"] = bp_exon_col_meta.apply(lambda row: ins.TemporalMap(row[\"age\"])[2], axis=1)\n",
    "\n",
    "strcture_count = bp_exon_col_meta.groupby(\"structure_acronym\")[\"structure_acronym\"].count()\n",
    "Regions = bp_exon_col_meta.drop_duplicates(\"structure_acronym\")[[\"structure_id\",\"structure_acronym\",\"structure_name\"]]\n",
    "Regions[\"sample count\"] = Regions.apply(lambda row: strcture_count[row[\"structure_acronym\"]], axis=1)\n",
    "Regions.to_excel(\"../data/expression/brainspan/exons_matrix/Regions.xlsx\", index=False)\n",
    "# Rows Meta Data\n",
    "bp_exon_row_meta = pd.read_csv(\n",
    "    \"/Users/jiayao/Work/BrainDisorders/data/expression/brainspan/exons_matrix/rows_metadata.csv\", delimiter=\",\")\n",
    "bp_exon_row_meta[\"exon length\"] = bp_exon_row_meta[\"end\"] - bp_exon_row_meta[\"start\"]\n",
    "bp_exon_row_meta[\"cds length\"] = bp_exon_row_meta.apply(lambda row: addcds(row, cds_dict), axis=1)\n",
    "bp_exon_row_meta.head(5)"
   ]
  },
  {
   "cell_type": "code",
   "execution_count": 14,
   "metadata": {
    "collapsed": false
   },
   "outputs": [],
   "source": [
    "expdict_gene = ins.LoadGeneSetDataFromFil2(\"./data/qn.ProbandLGD_PRE.Regionsgt20.GeneLog2Exp.csv\")\n",
    "expdict_exon = ins.LoadGeneSetDataFromFil(\"./data/qn.ProbandLGD_PRE.Regionsgt20.GeneExonLog2Exp.csv\")"
   ]
  },
  {
   "cell_type": "code",
   "execution_count": 42,
   "metadata": {
    "collapsed": false
   },
   "outputs": [
    {
     "name": "stderr",
     "output_type": "stream",
     "text": [
      "/Users/jiayao/anaconda2/lib/python2.7/site-packages/ipykernel/__main__.py:10: RuntimeWarning: invalid value encountered in double_scalars\n"
     ]
    }
   ],
   "source": [
    "gene_bias_dict = {}\n",
    "for gene, exps in expdict_gene.items():\n",
    "    tmp = []\n",
    "    #print exps\n",
    "    for stage in ins.Stages:\n",
    "        tmp.append(np.mean(exps[stage]))\n",
    "    #print len(tmp)\n",
    "    pre, post = np.mean(tmp[:6]), np.mean(tmp[6:])\n",
    "    try:\n",
    "        bias = pre/post\n",
    "    except:\n",
    "        bias = 0\n",
    "    gene_bias_dict[gene] = (pre, post, bias)"
   ]
  },
  {
   "cell_type": "code",
   "execution_count": 43,
   "metadata": {
    "collapsed": false
   },
   "outputs": [
    {
     "data": {
      "image/png": "[encoded data removed]",
      "text/plain": [
       "<Figure size 576x396 with 1 Axes>"
      ]
     },
     "metadata": {},
     "output_type": "display_data"
    }
   ],
   "source": [
    "dat = [x[2] for x in gene_bias_dict.values()]\n",
    "dat = np.array(dat)\n",
    "dat = dat[~np.isnan(dat)]\n",
    "plt.hist(dat, bins=20)\n",
    "plt.show()"
   ]
  },
  {
   "cell_type": "code",
   "execution_count": 44,
   "metadata": {
    "collapsed": false
   },
   "outputs": [
    {
     "name": "stdout",
     "output_type": "stream",
     "text": [
      "(94, 15)\n",
      "94 118 2151\n"
     ]
    }
   ],
   "source": [
    "bp_exon_row_meta_with_gene = pd.read_excel(\"data/GenesExonsTargetedByLGD_wilger2014_predicted.xlsx\", index=False)\n",
    "bp_exon_row_meta_with_gene = bp_exon_row_meta_with_gene.replace(np.nan, '', regex=True)\n",
    "print bp_exon_row_meta_with_gene.groupby('gene_symbol').count().shape\n",
    "expdict = ins.LoadGeneSetDataFromFil(\"data/qn.ProbandLGD_PRE.Regionsgt20.GeneExonLog2Exp.csv\")\n",
    "Genes = list(set(bp_exon_row_meta_with_gene[\"gene_symbol\"].values))\n",
    "\n",
    "SSCLGD_predicted = GeneExonSet(expdict)\n",
    "for i, gene in enumerate(Genes):\n",
    "    gene_df = bp_exon_row_meta_with_gene[bp_exon_row_meta_with_gene[\"gene_symbol\"]==gene]\n",
    "    TargetedExon = map(int, gene_df[gene_df[\"Vars\"]!=\"\"][\"row_num\"])\n",
    "    UntargetedExon = map(int, gene_df[gene_df[\"Vars\"]==\"\"][\"row_num\"])\n",
    "    TargetedExonLength = map(int, gene_df[gene_df[\"Vars\"]!=\"\"][\"cds length\"])\n",
    "    UntargetedExonLength = map(int, gene_df[gene_df[\"Vars\"]==\"\"][\"cds length\"])\n",
    "    SSCLGD_predicted.addGene(gene, TargetedExon, UntargetedExon, TargetedExonLength, UntargetedExonLength)\n",
    "print len(SSCLGD_predicted.genes), len(SSCLGD_predicted.TargetedExon),len(SSCLGD_predicted.UntargetedExon)"
   ]
  },
  {
   "cell_type": "code",
   "execution_count": 45,
   "metadata": {
    "collapsed": false
   },
   "outputs": [
    {
     "data": {
      "text/html": [
       "<div>\n",
       "<style>\n",
       "    .dataframe thead tr:only-child th {\n",
       "        text-align: right;\n",
       "    }\n",
       "\n",
       "    .dataframe thead th {\n",
       "        text-align: left;\n",
       "    }\n",
       "\n",
       "    .dataframe tbody tr th {\n",
       "        vertical-align: top;\n",
       "    }\n",
       "</style>\n",
       "<table border=\"1\" class=\"dataframe\">\n",
       "  <thead>\n",
       "    <tr style=\"text-align: right;\">\n",
       "      <th></th>\n",
       "      <th>row_num</th>\n",
       "      <th>gene_id</th>\n",
       "      <th>ensembl_gene_id</th>\n",
       "      <th>gene_symbol</th>\n",
       "      <th>entrez_id</th>\n",
       "      <th>start</th>\n",
       "      <th>end</th>\n",
       "      <th>exon length</th>\n",
       "      <th>cds length</th>\n",
       "      <th>NVIQ70</th>\n",
       "      <th>VIQ70</th>\n",
       "      <th>Gender</th>\n",
       "      <th>Func</th>\n",
       "      <th>Vars</th>\n",
       "      <th>GeneHited</th>\n",
       "      <th>Last</th>\n",
       "    </tr>\n",
       "  </thead>\n",
       "  <tbody>\n",
       "    <tr>\n",
       "      <th>0</th>\n",
       "      <td>1249</td>\n",
       "      <td>1086943</td>\n",
       "      <td>ENSG00000005108</td>\n",
       "      <td>THSD7A</td>\n",
       "      <td>221981</td>\n",
       "      <td>11410063</td>\n",
       "      <td>11415505</td>\n",
       "      <td>5442</td>\n",
       "      <td>82</td>\n",
       "      <td></td>\n",
       "      <td></td>\n",
       "      <td></td>\n",
       "      <td></td>\n",
       "      <td></td>\n",
       "      <td>T</td>\n",
       "      <td>F</td>\n",
       "    </tr>\n",
       "    <tr>\n",
       "      <th>1</th>\n",
       "      <td>1250</td>\n",
       "      <td>1086943</td>\n",
       "      <td>ENSG00000005108</td>\n",
       "      <td>THSD7A</td>\n",
       "      <td>221981</td>\n",
       "      <td>11416196</td>\n",
       "      <td>11416284</td>\n",
       "      <td>88</td>\n",
       "      <td>88</td>\n",
       "      <td></td>\n",
       "      <td></td>\n",
       "      <td></td>\n",
       "      <td></td>\n",
       "      <td></td>\n",
       "      <td>T</td>\n",
       "      <td>F</td>\n",
       "    </tr>\n",
       "    <tr>\n",
       "      <th>2</th>\n",
       "      <td>1251</td>\n",
       "      <td>1086943</td>\n",
       "      <td>ENSG00000005108</td>\n",
       "      <td>THSD7A</td>\n",
       "      <td>221981</td>\n",
       "      <td>11418696</td>\n",
       "      <td>11418907</td>\n",
       "      <td>211</td>\n",
       "      <td>211</td>\n",
       "      <td></td>\n",
       "      <td></td>\n",
       "      <td></td>\n",
       "      <td></td>\n",
       "      <td></td>\n",
       "      <td>T</td>\n",
       "      <td>F</td>\n",
       "    </tr>\n",
       "    <tr>\n",
       "      <th>3</th>\n",
       "      <td>1252</td>\n",
       "      <td>1086943</td>\n",
       "      <td>ENSG00000005108</td>\n",
       "      <td>THSD7A</td>\n",
       "      <td>221981</td>\n",
       "      <td>11419256</td>\n",
       "      <td>11419382</td>\n",
       "      <td>126</td>\n",
       "      <td>83</td>\n",
       "      <td></td>\n",
       "      <td></td>\n",
       "      <td></td>\n",
       "      <td></td>\n",
       "      <td></td>\n",
       "      <td>T</td>\n",
       "      <td>F</td>\n",
       "    </tr>\n",
       "    <tr>\n",
       "      <th>4</th>\n",
       "      <td>1253</td>\n",
       "      <td>1086943</td>\n",
       "      <td>ENSG00000005108</td>\n",
       "      <td>THSD7A</td>\n",
       "      <td>221981</td>\n",
       "      <td>11422147</td>\n",
       "      <td>11422243</td>\n",
       "      <td>96</td>\n",
       "      <td>96</td>\n",
       "      <td></td>\n",
       "      <td></td>\n",
       "      <td></td>\n",
       "      <td></td>\n",
       "      <td></td>\n",
       "      <td>T</td>\n",
       "      <td>F</td>\n",
       "    </tr>\n",
       "  </tbody>\n",
       "</table>\n",
       "</div>"
      ],
      "text/plain": [
       "   row_num  gene_id  ensembl_gene_id gene_symbol entrez_id     start  \\\n",
       "0     1249  1086943  ENSG00000005108      THSD7A    221981  11410063   \n",
       "1     1250  1086943  ENSG00000005108      THSD7A    221981  11416196   \n",
       "2     1251  1086943  ENSG00000005108      THSD7A    221981  11418696   \n",
       "3     1252  1086943  ENSG00000005108      THSD7A    221981  11419256   \n",
       "4     1253  1086943  ENSG00000005108      THSD7A    221981  11422147   \n",
       "\n",
       "        end  exon length  cds length NVIQ70 VIQ70 Gender Func Vars GeneHited  \\\n",
       "0  11415505         5442          82                                       T   \n",
       "1  11416284           88          88                                       T   \n",
       "2  11418907          211         211                                       T   \n",
       "3  11419382          126          83                                       T   \n",
       "4  11422243           96          96                                       T   \n",
       "\n",
       "  Last  \n",
       "0    F  \n",
       "1    F  \n",
       "2    F  \n",
       "3    F  \n",
       "4    F  "
      ]
     },
     "execution_count": 45,
     "metadata": {},
     "output_type": "execute_result"
    }
   ],
   "source": [
    "bp_exon_row_meta_with_gene.head()"
   ]
  },
  {
   "cell_type": "code",
   "execution_count": 108,
   "metadata": {
    "collapsed": false
   },
   "outputs": [
    {
     "name": "stderr",
     "output_type": "stream",
     "text": [
      "/Users/jiayao/anaconda2/lib/python2.7/site-packages/ipykernel/__main__.py:8: RuntimeWarning: invalid value encountered in double_scalars\n",
      "/Users/jiayao/anaconda2/lib/python2.7/site-packages/ipykernel/__main__.py:8: RuntimeWarning: divide by zero encountered in double_scalars\n"
     ]
    }
   ],
   "source": [
    "def GetExonExp(gene, ExonID):\n",
    "    # expdict[gene][ExonID]\n",
    "    tmp = []\n",
    "    for stage in ins.Stages:\n",
    "        tmp.append(np.mean(expdict[gene][ExonID][stage]))\n",
    "    pre, post = np.mean(tmp[:6]), np.mean(tmp[6:])\n",
    "    try:\n",
    "        bias = pre/post\n",
    "    except:\n",
    "        bias = 0\n",
    "    return pre, post, bias \n",
    "\n",
    "class EXON:\n",
    "    def __init__(self, ID, hitted, genepre, genepost, genebias, exonpre, exonpost, exonbias, exonCDS):\n",
    "        self.ID = ID\n",
    "        self.hitted = hitted\n",
    "        self.genepre = genepre\n",
    "        self.genepost = genepost\n",
    "        self.genebias = genebias\n",
    "        self.exonpre = exonpre\n",
    "        self.exonpost = exonpost\n",
    "        self.exonbias = exonbias\n",
    "        if self.genebias == 0:\n",
    "            self.relbias = 0\n",
    "        else: \n",
    "            try:\n",
    "                self.relbias = self.exonbias / self.genebias\n",
    "            except:\n",
    "                self.relbias = 0\n",
    "        if math.isnan(self.relbias):\n",
    "            self.relbias = 0\n",
    "        if self.relbias > 10:\n",
    "            self.relbias = 10\n",
    "        self.CDSLength = exonCDS\n",
    "        \n",
    "ExonPool = []\n",
    "for gene in SSCLGD_predicted.genes:\n",
    "    gegnepre, genepost, genebias = gene_bias_dict[gene]\n",
    "    for exonID in SSCLGD_predicted.Genes[gene].TargetedExons:\n",
    "        exonpre, exonpost, exonbias = GetExonExp(gene, exonID)\n",
    "        exonCDS = bp_exon_row_meta_with_gene[bp_exon_row_meta_with_gene[\"row_num\"]==exonID][\"cds length\"].values[0]\n",
    "        Exon = EXON(exonID, True, gegnepre, genepost, genebias, exonpre, exonpost, exonbias, exonCDS)\n",
    "        ExonPool.append(Exon)\n",
    "    for exonID in SSCLGD_predicted.Genes[gene].UntargetedExons:\n",
    "        exonpre, exonpost, exonbias = GetExonExp(gene, exonID)\n",
    "        exonCDS = bp_exon_row_meta_with_gene[bp_exon_row_meta_with_gene[\"row_num\"]==exonID][\"cds length\"].values[0]\n",
    "        Exon = EXON(exonID, False, gegnepre, genepost, genebias, exonpre, exonpost, exonbias, exonCDS)\n",
    "        ExonPool.append(Exon)"
   ]
  },
  {
   "cell_type": "code",
   "execution_count": 109,
   "metadata": {
    "collapsed": true
   },
   "outputs": [],
   "source": [
    "ExonPool.sort(key=lambda x: x.relbias)"
   ]
  },
  {
   "cell_type": "code",
   "execution_count": 110,
   "metadata": {
    "collapsed": false
   },
   "outputs": [
    {
     "name": "stdout",
     "output_type": "stream",
     "text": [
      "[0, 0, 0, 0, 0, 0, 0, 0, 0, 0]\n",
      "8.08223493643 0.0\n"
     ]
    },
    {
     "data": {
      "image/png": "[encoded data removed]",
      "text/plain": [
       "<Figure size 576x396 with 1 Axes>"
      ]
     },
     "metadata": {},
     "output_type": "display_data"
    }
   ],
   "source": [
    "dat = [x.relbias for x in ExonPool if x.relbias < 10]\n",
    "print dat[:10]\n",
    "dat = np.array(dat)\n",
    "dat = dat[~np.isnan(dat)]\n",
    "print max(dat), min(dat)\n",
    "plt.hist(dat, bins=100)\n",
    "plt.xlim(0,2)\n",
    "plt.show()"
   ]
  },
  {
   "cell_type": "code",
   "execution_count": 111,
   "metadata": {
    "collapsed": false
   },
   "outputs": [
    {
     "name": "stdout",
     "output_type": "stream",
     "text": [
      "567\n",
      "0 567\n",
      "567 1134\n",
      "1134 1701\n",
      "1701 2269\n",
      "0 0 0.973198929336\n",
      "1 0.973635176554 1.04427429984\n",
      "2 1.04427559356 1.12797854071\n",
      "3 1.12807971854 10\n"
     ]
    }
   ],
   "source": [
    "parts = []\n",
    "step = len(ExonPool)/4\n",
    "print step\n",
    "ExonPool = sorted(ExonPool, key=lambda x: x.relbias)\n",
    "for i in range(3):\n",
    "    print i*step,(i+1)*step\n",
    "    parts.append(ExonPool[i*step:(i+1)*step])\n",
    "print 3*step, len(ExonPool)\n",
    "parts.append(ExonPool[3*step:])\n",
    "for i in range(4):\n",
    "    #print i, min([x.relbias for x in parts[i]]), max([x.relbias for x in parts[i]])\n",
    "    print i, parts[i][0].relbias, parts[i][-1].relbias#, min([x.relbias for x in parts[i]]), max([x.relbias for x in parts[i]])"
   ]
  },
  {
   "cell_type": "code",
   "execution_count": 113,
   "metadata": {
    "collapsed": false
   },
   "outputs": [],
   "source": [
    "for i in range(len(ExonPool)-1):\n",
    "    if ExonPool[i].relbias > ExonPool[i+1].relbias:\n",
    "        print i"
   ]
  },
  {
   "cell_type": "code",
   "execution_count": 116,
   "metadata": {
    "collapsed": false
   },
   "outputs": [
    {
     "data": {
      "image/png": "[encoded data removed]",
      "text/plain": [
       "<Figure size 576x396 with 1 Axes>"
      ]
     },
     "metadata": {},
     "output_type": "display_data"
    }
   ],
   "source": [
    "plt.hist([x.relbias for x in parts[0]], bins=100, alpha=0.5)\n",
    "plt.hist([x.relbias for x in parts[1]], bins=100, alpha=0.5)\n",
    "plt.hist([x.relbias for x in parts[2]], bins=100, alpha=0.5)\n",
    "plt.hist([x.relbias for x in parts[3]], bins=100, alpha=0.5)\n",
    "plt.xlim(0,5)\n",
    "plt.show()"
   ]
  },
  {
   "cell_type": "code",
   "execution_count": 117,
   "metadata": {
    "collapsed": false
   },
   "outputs": [
    {
     "name": "stdout",
     "output_type": "stream",
     "text": [
      "509255\n"
     ]
    }
   ],
   "source": [
    "TotalCDS = sum([x.CDSLength for x in ExonPool])\n",
    "print TotalCDS"
   ]
  },
  {
   "cell_type": "code",
   "execution_count": null,
   "metadata": {
    "collapsed": true
   },
   "outputs": [],
   "source": [
    "for i in range(3):\n",
    "    P = sum([x.CDSLength for x in parts[i]])/TotalCDS\n",
    "    print scipy.stats.binom_test()"
   ]
  }
 ],
 "metadata": {
  "kernelspec": {
   "display_name": "Python 2",
   "language": "python",
   "name": "python2"
  },
  "language_info": {
   "codemirror_mode": {
    "name": "ipython",
    "version": 2
   },
   "file_extension": ".py",
   "mimetype": "text/x-python",
   "name": "python",
   "nbconvert_exporter": "python",
   "pygments_lexer": "ipython2",
   "version": "2.7.13"
  }
 },
 "nbformat": 4,
 "nbformat_minor": 2
}
