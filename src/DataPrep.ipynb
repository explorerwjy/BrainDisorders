{
 "cells": [
  {
   "cell_type": "code",
   "execution_count": 293,
   "metadata": {},
   "outputs": [
    {
     "name": "stdout",
     "output_type": "stream",
     "text": [
      "The autoreload extension is already loaded. To reload it, use:\n",
      "  %reload_ext autoreload\n"
     ]
    }
   ],
   "source": [
    "%load_ext autoreload\n",
    "%autoreload 2\n",
    "from utils import *\n",
    "from IPython.display import display, HTML\n",
    "ins = BrainSpan()"
   ]
  },
  {
   "cell_type": "markdown",
   "metadata": {},
   "source": [
    "# Variants"
   ]
  },
  {
   "cell_type": "code",
   "execution_count": 74,
   "metadata": {},
   "outputs": [
    {
     "data": {
      "text/html": [
       "<div>\n",
       "<style>\n",
       "    .dataframe thead tr:only-child th {\n",
       "        text-align: right;\n",
       "    }\n",
       "\n",
       "    .dataframe thead th {\n",
       "        text-align: left;\n",
       "    }\n",
       "\n",
       "    .dataframe tbody tr th {\n",
       "        vertical-align: top;\n",
       "    }\n",
       "</style>\n",
       "<table border=\"1\" class=\"dataframe\">\n",
       "  <thead>\n",
       "    <tr style=\"text-align: right;\">\n",
       "      <th></th>\n",
       "      <th>familyId</th>\n",
       "      <th>location</th>\n",
       "      <th>variant</th>\n",
       "      <th>vcfVariant</th>\n",
       "      <th>inChild</th>\n",
       "      <th>fromParent</th>\n",
       "      <th>effectGene</th>\n",
       "      <th>effectType</th>\n",
       "      <th>familyDescription</th>\n",
       "      <th>CSHL</th>\n",
       "      <th>YALE</th>\n",
       "      <th>UW</th>\n",
       "      <th>IossifovWE2012</th>\n",
       "      <th>EichlerWE2012</th>\n",
       "      <th>StateWE2012</th>\n",
       "      <th>EichlerTG2012</th>\n",
       "    </tr>\n",
       "  </thead>\n",
       "  <tbody>\n",
       "    <tr>\n",
       "      <th>0</th>\n",
       "      <td>14505</td>\n",
       "      <td>1:897349</td>\n",
       "      <td>sub(G-&gt;A)</td>\n",
       "      <td>1:897349:G:A</td>\n",
       "      <td>pM</td>\n",
       "      <td>NaN</td>\n",
       "      <td>KLHL17</td>\n",
       "      <td>synonymous</td>\n",
       "      <td>pMsM</td>\n",
       "      <td>NaN</td>\n",
       "      <td>NaN</td>\n",
       "      <td>weak:valid</td>\n",
       "      <td>NaN</td>\n",
       "      <td>NaN</td>\n",
       "      <td>NaN</td>\n",
       "      <td>NaN</td>\n",
       "    </tr>\n",
       "    <tr>\n",
       "      <th>1</th>\n",
       "      <td>14320</td>\n",
       "      <td>3:127395222</td>\n",
       "      <td>sub(T-&gt;G)</td>\n",
       "      <td>3:127395222:T:G</td>\n",
       "      <td>pF</td>\n",
       "      <td>NaN</td>\n",
       "      <td>ABTB1</td>\n",
       "      <td>noStart</td>\n",
       "      <td>pFsM</td>\n",
       "      <td>strong</td>\n",
       "      <td>NaN</td>\n",
       "      <td>NaN</td>\n",
       "      <td>NaN</td>\n",
       "      <td>NaN</td>\n",
       "      <td>NaN</td>\n",
       "      <td>NaN</td>\n",
       "    </tr>\n",
       "  </tbody>\n",
       "</table>\n",
       "</div>"
      ],
      "text/plain": [
       "   familyId     location    variant       vcfVariant inChild fromParent  \\\n",
       "0     14505     1:897349  sub(G->A)     1:897349:G:A      pM        NaN   \n",
       "1     14320  3:127395222  sub(T->G)  3:127395222:T:G      pF        NaN   \n",
       "\n",
       "  effectGene  effectType familyDescription    CSHL YALE          UW  \\\n",
       "0     KLHL17  synonymous              pMsM     NaN  NaN  weak:valid   \n",
       "1      ABTB1     noStart              pFsM  strong  NaN         NaN   \n",
       "\n",
       "  IossifovWE2012 EichlerWE2012 StateWE2012 EichlerTG2012  \n",
       "0            NaN           NaN         NaN           NaN  \n",
       "1            NaN           NaN         NaN           NaN  "
      ]
     },
     "metadata": {},
     "output_type": "display_data"
    }
   ],
   "source": [
    "nature13908_vars = \"/Users/jiayao/Work/BrainDisorders/data/nature13908-s2/Supplementary_Table_2.xlsx\"\n",
    "all_var = pd.read_excel(nature13908_vars)\n",
    "display(all_var.head(2))\n",
    "LGD = set([\"noStart\", \"frame-shift\", \"nonsense\", \"noEnd\", \"no-frame-shift-newStop\",\"splice-site\"])\n",
    "MIS = set([\"missense\"])\n",
    "SYN = set([\"synonymous\"])\n",
    "InPro = set([\"pMsM\", \"pMsF\", \"pFsF\", \"pF\", \"pM\", \"pFsM\"])\n",
    "InSib = set([\"pMsM\", \"pMsF\", \"pFsF\", \"sF\", \"sM\", \"pFsM\"])"
   ]
  },
  {
   "cell_type": "code",
   "execution_count": 75,
   "metadata": {},
   "outputs": [],
   "source": [
    "DatDir = \"/Users/jiayao/Work/BrainDisorders/data/DenovoVariants/\"\n",
    "ProLGD = all_var[(all_var[\"inChild\"].isin(InPro)) & (all_var[\"effectType\"].isin(LGD))]\n",
    "ProMIS = all_var[(all_var[\"inChild\"].isin(InPro)) & (all_var[\"effectType\"].isin(MIS))]\n",
    "ProSYN = all_var[(all_var[\"inChild\"].isin(InPro)) & (all_var[\"effectType\"].isin(SYN))]\n",
    "SibLGD = all_var[(all_var[\"inChild\"].isin(InSib)) & (all_var[\"effectType\"].isin(LGD))]\n",
    "SibMIS = all_var[(all_var[\"inChild\"].isin(InSib)) & (all_var[\"effectType\"].isin(MIS))]\n",
    "SibSYN = all_var[(all_var[\"inChild\"].isin(InSib)) & (all_var[\"effectType\"].isin(SYN))]\n",
    "SibNSYN = all_var[(all_var[\"inChild\"].isin(InSib)) & (all_var[\"effectType\"].isin(MIS.union(LGD)))]\n",
    "ProLGD.to_excel(DatDir + \"wigler2014ProLGD.xlsx\", index=False)\n",
    "ProMIS.to_excel(DatDir + \"wigler2014ProMIS.xlsx\", index=False)\n",
    "ProSYN.to_excel(DatDir + \"wigler2014ProSYN.xlsx\", index=False)\n",
    "SibLGD.to_excel(DatDir + \"wigler2014SibLGD.xlsx\", index=False)\n",
    "SibMIS.to_excel(DatDir + \"wigler2014SibMIS.xlsx\", index=False)\n",
    "SibSYN.to_excel(DatDir + \"wigler2014SibSYN.xlsx\", index=False)\n",
    "SibNSYN.to_excel(DatDir + \"wigler2014SibNSYN.xlsx\", index=False)"
   ]
  },
  {
   "cell_type": "code",
   "execution_count": 76,
   "metadata": {},
   "outputs": [
    {
     "name": "stdout",
     "output_type": "stream",
     "text": [
      "(489, 16) 468\n"
     ]
    }
   ],
   "source": [
    "DatDir = \"/Users/jiayao/Work/BrainDisorders/data/DenovoVariants/\"\n",
    "ProLGD = pd.read_excel(DatDir+\"wigler2014SibSYN.xlsx\")\n",
    "print ProLGD.shape, len(set(ProLGD[\"effectGene\"].values))"
   ]
  },
  {
   "cell_type": "code",
   "execution_count": 25,
   "metadata": {},
   "outputs": [],
   "source": [
    "GeneCount = ProLGD.groupby(\"effectGene\")[\"effectGene\"].count()\n",
    "ProLGD.insert(list(ProLGD.columns.values).index(\"effectGene\")+1, \"GeneCount\", ProLGD.apply\n",
    "                 (lambda row: GeneCount[row[\"effectGene\"]], axis=1), allow_duplicates=False )\n",
    "ProLGD.head()\n",
    "RecProLGD = ProLGD[ProLGD[\"GeneCount\"]>=2]"
   ]
  },
  {
   "cell_type": "code",
   "execution_count": 26,
   "metadata": {},
   "outputs": [
    {
     "data": {
      "text/html": [
       "<div>\n",
       "<style>\n",
       "    .dataframe thead tr:only-child th {\n",
       "        text-align: right;\n",
       "    }\n",
       "\n",
       "    .dataframe thead th {\n",
       "        text-align: left;\n",
       "    }\n",
       "\n",
       "    .dataframe tbody tr th {\n",
       "        vertical-align: top;\n",
       "    }\n",
       "</style>\n",
       "<table border=\"1\" class=\"dataframe\">\n",
       "  <thead>\n",
       "    <tr style=\"text-align: right;\">\n",
       "      <th></th>\n",
       "      <th>familyId</th>\n",
       "      <th>location</th>\n",
       "      <th>variant</th>\n",
       "      <th>vcfVariant</th>\n",
       "      <th>inChild</th>\n",
       "      <th>fromParent</th>\n",
       "      <th>effectGene</th>\n",
       "      <th>GeneCount</th>\n",
       "      <th>effectType</th>\n",
       "      <th>familyDescription</th>\n",
       "      <th>CSHL</th>\n",
       "      <th>YALE</th>\n",
       "      <th>UW</th>\n",
       "      <th>IossifovWE2012</th>\n",
       "      <th>EichlerWE2012</th>\n",
       "      <th>StateWE2012</th>\n",
       "      <th>EichlerTG2012</th>\n",
       "    </tr>\n",
       "  </thead>\n",
       "  <tbody>\n",
       "    <tr>\n",
       "      <th>108</th>\n",
       "      <td>13545</td>\n",
       "      <td>20:49509095</td>\n",
       "      <td>ins(T)</td>\n",
       "      <td>20:49509094:G:GT</td>\n",
       "      <td>pM</td>\n",
       "      <td>NaN</td>\n",
       "      <td>ADNP</td>\n",
       "      <td>2</td>\n",
       "      <td>frame-shift</td>\n",
       "      <td>pM</td>\n",
       "      <td>NaN</td>\n",
       "      <td>strong:valid</td>\n",
       "      <td>NaN</td>\n",
       "      <td>NaN</td>\n",
       "      <td>NaN</td>\n",
       "      <td>NaN</td>\n",
       "      <td>yes</td>\n",
       "    </tr>\n",
       "    <tr>\n",
       "      <th>123</th>\n",
       "      <td>12130</td>\n",
       "      <td>20:49510028</td>\n",
       "      <td>del(2)</td>\n",
       "      <td>20:49510027:CTT:C</td>\n",
       "      <td>pF</td>\n",
       "      <td>NaN</td>\n",
       "      <td>ADNP</td>\n",
       "      <td>2</td>\n",
       "      <td>frame-shift</td>\n",
       "      <td>pF</td>\n",
       "      <td>NaN</td>\n",
       "      <td>NaN</td>\n",
       "      <td>strong:valid</td>\n",
       "      <td>NaN</td>\n",
       "      <td>yes</td>\n",
       "      <td>NaN</td>\n",
       "      <td>NaN</td>\n",
       "    </tr>\n",
       "    <tr>\n",
       "      <th>242</th>\n",
       "      <td>12645</td>\n",
       "      <td>4:114232545</td>\n",
       "      <td>sub(C-&gt;T)</td>\n",
       "      <td>4:114232545:C:T</td>\n",
       "      <td>pM</td>\n",
       "      <td>NaN</td>\n",
       "      <td>ANK2</td>\n",
       "      <td>3</td>\n",
       "      <td>nonsense</td>\n",
       "      <td>pMsM</td>\n",
       "      <td>strong:valid</td>\n",
       "      <td>NaN</td>\n",
       "      <td>NaN</td>\n",
       "      <td>yes</td>\n",
       "      <td>NaN</td>\n",
       "      <td>NaN</td>\n",
       "      <td>NaN</td>\n",
       "    </tr>\n",
       "    <tr>\n",
       "      <th>259</th>\n",
       "      <td>14256</td>\n",
       "      <td>4:114251469</td>\n",
       "      <td>sub(C-&gt;T)</td>\n",
       "      <td>4:114251469:C:T</td>\n",
       "      <td>pM</td>\n",
       "      <td>NaN</td>\n",
       "      <td>ANK2</td>\n",
       "      <td>3</td>\n",
       "      <td>nonsense</td>\n",
       "      <td>pMsF</td>\n",
       "      <td>NaN</td>\n",
       "      <td>strong:valid</td>\n",
       "      <td>NaN</td>\n",
       "      <td>NaN</td>\n",
       "      <td>NaN</td>\n",
       "      <td>NaN</td>\n",
       "      <td>NaN</td>\n",
       "    </tr>\n",
       "    <tr>\n",
       "      <th>264</th>\n",
       "      <td>13768</td>\n",
       "      <td>4:114277600</td>\n",
       "      <td>del(1)</td>\n",
       "      <td>4:114277599:AG:A</td>\n",
       "      <td>pM</td>\n",
       "      <td>NaN</td>\n",
       "      <td>ANK2</td>\n",
       "      <td>3</td>\n",
       "      <td>frame-shift</td>\n",
       "      <td>pMsF</td>\n",
       "      <td>strong</td>\n",
       "      <td>NaN</td>\n",
       "      <td>NaN</td>\n",
       "      <td>NaN</td>\n",
       "      <td>NaN</td>\n",
       "      <td>NaN</td>\n",
       "      <td>NaN</td>\n",
       "    </tr>\n",
       "  </tbody>\n",
       "</table>\n",
       "</div>"
      ],
      "text/plain": [
       "     familyId     location    variant         vcfVariant inChild fromParent  \\\n",
       "108     13545  20:49509095     ins(T)   20:49509094:G:GT      pM        NaN   \n",
       "123     12130  20:49510028     del(2)  20:49510027:CTT:C      pF        NaN   \n",
       "242     12645  4:114232545  sub(C->T)    4:114232545:C:T      pM        NaN   \n",
       "259     14256  4:114251469  sub(C->T)    4:114251469:C:T      pM        NaN   \n",
       "264     13768  4:114277600     del(1)   4:114277599:AG:A      pM        NaN   \n",
       "\n",
       "    effectGene  GeneCount   effectType familyDescription          CSHL  \\\n",
       "108       ADNP          2  frame-shift                pM           NaN   \n",
       "123       ADNP          2  frame-shift                pF           NaN   \n",
       "242       ANK2          3     nonsense              pMsM  strong:valid   \n",
       "259       ANK2          3     nonsense              pMsF           NaN   \n",
       "264       ANK2          3  frame-shift              pMsF        strong   \n",
       "\n",
       "             YALE            UW IossifovWE2012 EichlerWE2012 StateWE2012  \\\n",
       "108  strong:valid           NaN            NaN           NaN         NaN   \n",
       "123           NaN  strong:valid            NaN           yes         NaN   \n",
       "242           NaN           NaN            yes           NaN         NaN   \n",
       "259  strong:valid           NaN            NaN           NaN         NaN   \n",
       "264           NaN           NaN            NaN           NaN         NaN   \n",
       "\n",
       "    EichlerTG2012  \n",
       "108           yes  \n",
       "123           NaN  \n",
       "242           NaN  \n",
       "259           NaN  \n",
       "264           NaN  "
      ]
     },
     "execution_count": 26,
     "metadata": {},
     "output_type": "execute_result"
    }
   ],
   "source": [
    "RecProLGD.head()"
   ]
  },
  {
   "cell_type": "code",
   "execution_count": 27,
   "metadata": {},
   "outputs": [
    {
     "name": "stdout",
     "output_type": "stream",
     "text": [
      "(67, 17)\n"
     ]
    }
   ],
   "source": [
    "print RecProLGD.shape"
   ]
  },
  {
   "cell_type": "code",
   "execution_count": 28,
   "metadata": {
    "collapsed": true
   },
   "outputs": [],
   "source": [
    "RecProLGD.to_excel(DatDir + \"wigler2014RecProLGD.xlsx\", index=False)"
   ]
  },
  {
   "cell_type": "markdown",
   "metadata": {},
   "source": [
    "# Go Term"
   ]
  },
  {
   "cell_type": "code",
   "execution_count": 43,
   "metadata": {},
   "outputs": [
    {
     "name": "stderr",
     "output_type": "stream",
     "text": [
      "  wget.download(http://purl.obolibrary.org/obo/go/go-basic.obo out=go-basic.obo)\n",
      "  wget.download(ftp://ftp.ncbi.nlm.nih.gov/gene/DATA/gene2go.gz out=gene2go.gz)\n"
     ]
    },
    {
     "name": "stdout",
     "output_type": "stream",
     "text": [
      "  gunzip gene2go.gz\n",
      "  17,983 items READ: gene2go\n",
      "17983 GO terms associated with human NCBI Entrez GeneIDs\n",
      "go-basic.obo: fmt(1.2) rel(2018-10-23) 47,358 GO Terms; optional_attrs(comment def relationship synonym xref)\n"
     ]
    }
   ],
   "source": [
    "# Get http://geneontology.org/ontology/go-basic.obo\n",
    "from goatools.base import download_go_basic_obo\n",
    "obo_fname = download_go_basic_obo()\n",
    "\n",
    "# Get ftp://ftp.ncbi.nlm.nih.gov/gene/DATA/gene2go.gz\n",
    "from goatools.base import download_ncbi_associations\n",
    "gene2go = download_ncbi_associations()\n",
    "\n",
    "from goatools.associations import read_ncbi_gene2go\n",
    "\n",
    "go2geneids_human = read_ncbi_gene2go(\"gene2go\", taxids=[9606], go2geneids=True)\n",
    "print(\"{N} GO terms associated with human NCBI Entrez GeneIDs\".format(N=len(go2geneids_human)))\n",
    "\n",
    "from goatools.go_search import GoSearch\n",
    "\n",
    "srchhelp = GoSearch(\"go-basic.obo\", go2items=go2geneids_human)"
   ]
  },
  {
   "cell_type": "code",
   "execution_count": 30,
   "metadata": {},
   "outputs": [
    {
     "name": "stdout",
     "output_type": "stream",
     "text": [
      "/Users/jiayao/Work/BrainDisorders/src/data/go-basic.obo: fmt(1.2) rel(2018-10-19) 47,359 GO Terms\n"
     ]
    }
   ],
   "source": [
    "from goatools import obo_parser\n",
    "import wget\n",
    "import os\n",
    "go_obo_url = 'http://purl.obolibrary.org/obo/go/go-basic.obo'\n",
    "data_folder = os.getcwd() + '/data'\n",
    "\n",
    "# Check if we have the ./data directory already\n",
    "if(not os.path.isfile(data_folder)):\n",
    "    # Emulate mkdir -p (no error if folder exists)\n",
    "    try:\n",
    "        os.mkdir(data_folder)\n",
    "    except OSError as e:\n",
    "        if(e.errno != 17):\n",
    "            raise e\n",
    "else:\n",
    "    raise Exception('Data path (' + data_folder + ') exists as a file. '\n",
    "                   'Please rename, remove or change the desired location of the data path.')\n",
    "\n",
    "def find_children(term1, go, go_term_set={}, ret=False):\n",
    "    for term2 in term1.children:\n",
    "        go_term_set.update({term2})\n",
    "        \n",
    "        # Recurse on term to find all children\n",
    "        find_children(term2, go, go_term_set)\n",
    "    if(ret):\n",
    "        return go_term_set\n",
    "    \n",
    "# Check if the file exists already\n",
    "if(not os.path.isfile(data_folder+'/go-basic.obo')):\n",
    "    go_obo = wget.download(go_obo_url, data_folder+'/go-basic.obo')\n",
    "else:\n",
    "    go_obo = data_folder+'/go-basic.obo'\n",
    "go = obo_parser.GODag(go_obo)"
   ]
  },
  {
   "cell_type": "code",
   "execution_count": 100,
   "metadata": {},
   "outputs": [],
   "source": [
    "def GetALLGo(GoID):\n",
    "    Root = go[GoID]\n",
    "    all_go = Root.get_all_children()\n",
    "    all_go.add(GoID)\n",
    "    return all_go"
   ]
  },
  {
   "cell_type": "code",
   "execution_count": 101,
   "metadata": {
    "collapsed": true
   },
   "outputs": [],
   "source": [
    "chromatin_organization = \"GO:0006325\"\n",
    "synaptic_signaling = \"GO:0099536\"\n",
    "synapse = \"GO:0045202\"\n",
    "cortical_cytoskeleton = \"GO:0030863\"\n",
    "presynaptic_cytoskeleton = \"GO:0099569\"\n",
    "postsynaptic_cytoskeleton = \"GO:0099571\"\n",
    "channel_activity = \"GO:0015267\""
   ]
  },
  {
   "cell_type": "code",
   "execution_count": 102,
   "metadata": {},
   "outputs": [],
   "source": [
    "goset_chromatin_organization = GetALLGo(chromatin_organization)\n",
    "goset_synaptic_signaling = GetALLGo(synaptic_signaling)\n",
    "goset_synapse = GetALLGo(synapse)\n",
    "goset_presynaptic_cytoskeleton = GetALLGo(presynaptic_cytoskeleton)\n",
    "goset_postsynaptic_cytoskeleton = GetALLGo(postsynaptic_cytoskeleton)\n",
    "goset_cortical_cytoskeleton = GetALLGo(cortical_cytoskeleton)\n",
    "goset_channel_activity = GetALLGo(channel_activity)"
   ]
  },
  {
   "cell_type": "code",
   "execution_count": 103,
   "metadata": {},
   "outputs": [],
   "source": [
    "chromatin_geneids = srchhelp.get_items(goset_chromatin_organization)\n",
    "synaptic_signaling_geneids = srchhelp.get_items(goset_synaptic_signaling)\n",
    "synapse_geneids = srchhelp.get_items(goset_synapse)\n",
    "presynaptic_cyto_geneids = srchhelp.get_items(goset_presynaptic_cytoskeleton)\n",
    "postsynaptic_cyto_geneids = srchhelp.get_items(goset_postsynaptic_cytoskeleton)\n",
    "cortical_cytoskeleton_geneids = srchhelp.get_items(goset_cortical_cytoskeleton)\n",
    "channel_geneids = srchhelp.get_items(goset_channel_activity)"
   ]
  },
  {
   "cell_type": "code",
   "execution_count": 104,
   "metadata": {},
   "outputs": [
    {
     "name": "stdout",
     "output_type": "stream",
     "text": [
      "713\n",
      "324\n",
      "714\n",
      "8\n",
      "7\n",
      "74\n",
      "467\n"
     ]
    }
   ],
   "source": [
    "print len(chromatin_geneids)\n",
    "print len(synaptic_signaling_geneids)\n",
    "print len(synapse_geneids)\n",
    "print len(presynaptic_cyto_geneids)\n",
    "print len(postsynaptic_cyto_geneids)\n",
    "print len(cortical_cytoskeleton_geneids)\n",
    "print len(channel_geneids)"
   ]
  },
  {
   "cell_type": "code",
   "execution_count": 105,
   "metadata": {},
   "outputs": [],
   "source": [
    "cyto_sig = presynaptic_cyto_geneids.union(postsynaptic_cyto_geneids).union(cortical_cytoskeleton_geneids).union(synaptic_signaling_geneids)\n",
    "chromatin = chromatin_geneids\n",
    "synapse = synapse_geneids\n",
    "channel = channel_geneids"
   ]
  },
  {
   "cell_type": "code",
   "execution_count": 106,
   "metadata": {},
   "outputs": [],
   "source": [
    "dat_dir = '/Users/jiayao/Work/BrainDisorders/data/functions/'\n",
    "def to_file(filename, _list):\n",
    "    fout = open(filename, 'wb')\n",
    "    for term in _list:\n",
    "        fout.write(\"{}\\n\".format(term))\n",
    "#print chromatin_geneids\n",
    "\n",
    "to_file(dat_dir+\"go_cyto_sig.list\", cyto_sig)\n",
    "to_file(dat_dir+\"go_chromatin.list\", chromatin)\n",
    "to_file(dat_dir+\"go_synapse.list\", synapse)\n",
    "to_file(dat_dir+\"go_channel.list\", channel)"
   ]
  },
  {
   "cell_type": "markdown",
   "metadata": {
    "collapsed": true
   },
   "source": [
    "# Select Recurrent Mutation Data"
   ]
  },
  {
   "cell_type": "code",
   "execution_count": 305,
   "metadata": {},
   "outputs": [
    {
     "data": {
      "text/html": [
       "<div>\n",
       "<style scoped>\n",
       "    .dataframe tbody tr th:only-of-type {\n",
       "        vertical-align: middle;\n",
       "    }\n",
       "\n",
       "    .dataframe tbody tr th {\n",
       "        vertical-align: top;\n",
       "    }\n",
       "\n",
       "    .dataframe thead th {\n",
       "        text-align: right;\n",
       "    }\n",
       "</style>\n",
       "<table border=\"1\" class=\"dataframe\">\n",
       "  <thead>\n",
       "    <tr style=\"text-align: right;\">\n",
       "      <th></th>\n",
       "      <th>0</th>\n",
       "      <th>1</th>\n",
       "      <th>2</th>\n",
       "      <th>3</th>\n",
       "      <th>4</th>\n",
       "      <th>5</th>\n",
       "      <th>6</th>\n",
       "      <th>7</th>\n",
       "      <th>8</th>\n",
       "      <th>9</th>\n",
       "      <th>...</th>\n",
       "      <th>515</th>\n",
       "      <th>516</th>\n",
       "      <th>517</th>\n",
       "      <th>518</th>\n",
       "      <th>519</th>\n",
       "      <th>520</th>\n",
       "      <th>521</th>\n",
       "      <th>522</th>\n",
       "      <th>523</th>\n",
       "      <th>524</th>\n",
       "    </tr>\n",
       "  </thead>\n",
       "  <tbody>\n",
       "    <tr>\n",
       "      <th>0</th>\n",
       "      <td>1</td>\n",
       "      <td>13.636583</td>\n",
       "      <td>40.862901</td>\n",
       "      <td>32.178981</td>\n",
       "      <td>27.939465</td>\n",
       "      <td>29.324584</td>\n",
       "      <td>23.885710</td>\n",
       "      <td>24.887880</td>\n",
       "      <td>16.432391</td>\n",
       "      <td>45.570680</td>\n",
       "      <td>...</td>\n",
       "      <td>4.347437</td>\n",
       "      <td>4.101772</td>\n",
       "      <td>2.987192</td>\n",
       "      <td>3.862508</td>\n",
       "      <td>3.362597</td>\n",
       "      <td>2.566516</td>\n",
       "      <td>3.049593</td>\n",
       "      <td>5.025746</td>\n",
       "      <td>1.893471</td>\n",
       "      <td>8.942586</td>\n",
       "    </tr>\n",
       "    <tr>\n",
       "      <th>1</th>\n",
       "      <td>2</td>\n",
       "      <td>31.731240</td>\n",
       "      <td>86.587706</td>\n",
       "      <td>60.131360</td>\n",
       "      <td>57.718046</td>\n",
       "      <td>58.326412</td>\n",
       "      <td>54.090394</td>\n",
       "      <td>50.138146</td>\n",
       "      <td>35.408905</td>\n",
       "      <td>94.937737</td>\n",
       "      <td>...</td>\n",
       "      <td>6.332389</td>\n",
       "      <td>5.479924</td>\n",
       "      <td>5.946744</td>\n",
       "      <td>6.017439</td>\n",
       "      <td>5.585987</td>\n",
       "      <td>3.870925</td>\n",
       "      <td>4.083335</td>\n",
       "      <td>7.451925</td>\n",
       "      <td>2.946266</td>\n",
       "      <td>3.868906</td>\n",
       "    </tr>\n",
       "  </tbody>\n",
       "</table>\n",
       "<p>2 rows × 525 columns</p>\n",
       "</div>"
      ],
      "text/plain": [
       "   0          1          2          3          4          5          6    \\\n",
       "0    1  13.636583  40.862901  32.178981  27.939465  29.324584  23.885710   \n",
       "1    2  31.731240  86.587706  60.131360  57.718046  58.326412  54.090394   \n",
       "\n",
       "         7          8          9      ...          515       516       517  \\\n",
       "0  24.887880  16.432391  45.570680    ...     4.347437  4.101772  2.987192   \n",
       "1  50.138146  35.408905  94.937737    ...     6.332389  5.479924  5.946744   \n",
       "\n",
       "        518       519       520       521       522       523       524  \n",
       "0  3.862508  3.362597  2.566516  3.049593  5.025746  1.893471  8.942586  \n",
       "1  6.017439  5.585987  3.870925  4.083335  7.451925  2.946266  3.868906  \n",
       "\n",
       "[2 rows x 525 columns]"
      ]
     },
     "metadata": {},
     "output_type": "display_data"
    }
   ],
   "source": [
    "BS_row_meta = \"/Users/jiayao/Work/BrainDisorders/data/expression/brainspan/exons_matrix/rows_metadata.csv\"\n",
    "BS_row_meta_withvar = \"/Users/jiayao/Work/BrainDisorders/src/data/RecGenesExonsTargetedByLGD_wilger2014_predicted.xlsx\"\n",
    "wigler_fam_info = \"/Users/jiayao/Work/BrainDisorders/data/nature13908-s2/Supplementary_Table_1.xlsx\"\n",
    "VarFil = \"/Users/jiayao/Work/BrainDisorders/data/DenovoVariants/wigler2014RecProLGD.xlsx\"\n",
    "df_row = pd.read_excel(BS_row_meta_withvar, index_col=\"row_num\")\n",
    "df_row = pd.read_csv(BS_row_meta, index_col=\"row_num\")\n",
    "df_fam = pd.read_excel(wigler_fam_info)\n",
    "df_var = pd.read_excel(VarFil)\n",
    "\n",
    "# Columns Meta Data\n",
    "bp_exon_col_meta = pd.read_csv(\n",
    "    \"/Users/jiayao/Work/BrainDisorders/data/expression/brainspan/exons_matrix/columns_metadata.csv\", delimiter=\",\")\n",
    "bp_exon_col_meta.age.unique()\n",
    "bp_exon_col_meta[\"Period\"] = bp_exon_col_meta.apply(lambda row: ins.TemporalMap(row[\"age\"])[0], axis=1)\n",
    "bp_exon_col_meta[\"Stage\"] = bp_exon_col_meta.apply(lambda row: ins.TemporalMap(row[\"age\"])[1], axis=1)\n",
    "bp_exon_col_meta[\"Description\"] = bp_exon_col_meta.apply(lambda row: ins.TemporalMap(row[\"age\"])[2], axis=1)\n",
    "# Exon RPKM Norm by Gene RPKM\n",
    "NormExonExp = pd.read_csv(\n",
    "    \"/Users/jiayao/Work/BrainDisorders/data/expression/brainspan/exons_matrix/NormedExonExpMatrix.csv\", header = None)\n",
    "NormExonExp.head(2)\n",
    "# Exon RPKM Matrix\n",
    "ExonExp = pd.read_csv(\"../data/expression/brainspan/exons_matrix/expression_matrix.csv\", header=None)\n",
    "display(ExonExp.head(2))\n",
    "Regionsgt20 = ['OFC', 'VFC', 'HIP', 'ITC', 'AMY', 'DFC', 'STC', 'MFC', 'STR', 'IPC', \n",
    "            'V1C', 'S1C', 'A1C', 'M1C', 'CBC', 'MD']\n",
    "RegionsCortex = [\"OFC\", \"VFC\", \"ITC\", \"DFC\", \"STC\", \"MFC\"]\n",
    "bp_exon_row_meta = pd.read_csv(\n",
    "    \"/Users/jiayao/Work/BrainDisorders/data/expression/brainspan/exons_matrix/rows_metadata.csv\", delimiter=\",\")"
   ]
  },
  {
   "cell_type": "code",
   "execution_count": 167,
   "metadata": {},
   "outputs": [
    {
     "ename": "NameError",
     "evalue": "name 'df_var' is not defined",
     "output_type": "error",
     "traceback": [
      "\u001b[0;31m\u001b[0m",
      "\u001b[0;31mNameError\u001b[0mTraceback (most recent call last)",
      "\u001b[0;32m<ipython-input-167-496dcf9fd644>\u001b[0m in \u001b[0;36m<module>\u001b[0;34m()\u001b[0m\n\u001b[1;32m      1\u001b[0m \u001b[0mins\u001b[0m \u001b[0;34m=\u001b[0m \u001b[0mBrainSpan\u001b[0m\u001b[0;34m(\u001b[0m\u001b[0;34m)\u001b[0m\u001b[0;34m\u001b[0m\u001b[0m\n\u001b[0;32m----> 2\u001b[0;31m \u001b[0mGenes\u001b[0m \u001b[0;34m=\u001b[0m \u001b[0mlist\u001b[0m\u001b[0;34m(\u001b[0m\u001b[0mset\u001b[0m\u001b[0;34m(\u001b[0m\u001b[0mdf_var\u001b[0m\u001b[0;34m[\u001b[0m\u001b[0;34m\"effectGene\"\u001b[0m\u001b[0;34m]\u001b[0m\u001b[0;34m.\u001b[0m\u001b[0mvalues\u001b[0m\u001b[0;34m)\u001b[0m\u001b[0;34m)\u001b[0m\u001b[0;34m\u001b[0m\u001b[0m\n\u001b[0m\u001b[1;32m      3\u001b[0m \u001b[0mrows\u001b[0m \u001b[0;34m=\u001b[0m \u001b[0mdf_row\u001b[0m\u001b[0;34m[\u001b[0m\u001b[0mdf_row\u001b[0m\u001b[0;34m[\u001b[0m\u001b[0;34m\"gene_symbol\"\u001b[0m\u001b[0;34m]\u001b[0m\u001b[0;34m.\u001b[0m\u001b[0misin\u001b[0m\u001b[0;34m(\u001b[0m\u001b[0mGenes\u001b[0m\u001b[0;34m)\u001b[0m\u001b[0;34m]\u001b[0m\u001b[0;34m\u001b[0m\u001b[0m\n\u001b[1;32m      4\u001b[0m \u001b[0midxs\u001b[0m \u001b[0;34m=\u001b[0m \u001b[0mrows\u001b[0m\u001b[0;34m.\u001b[0m\u001b[0mindex\u001b[0m\u001b[0;34m.\u001b[0m\u001b[0mvalues\u001b[0m\u001b[0;34m\u001b[0m\u001b[0m\n\u001b[1;32m      5\u001b[0m \u001b[0mmatrix\u001b[0m \u001b[0;34m=\u001b[0m \u001b[0mExonExp\u001b[0m\u001b[0;34m[\u001b[0m\u001b[0mExonExp\u001b[0m\u001b[0;34m[\u001b[0m\u001b[0;36m0\u001b[0m\u001b[0;34m]\u001b[0m\u001b[0;34m.\u001b[0m\u001b[0misin\u001b[0m\u001b[0;34m(\u001b[0m\u001b[0midxs\u001b[0m\u001b[0;34m)\u001b[0m\u001b[0;34m]\u001b[0m\u001b[0;34m\u001b[0m\u001b[0m\n",
      "\u001b[0;31mNameError\u001b[0m: name 'df_var' is not defined"
     ]
    }
   ],
   "source": [
    "ins = BrainSpan()\n",
    "Genes = list(set(df_var[\"effectGene\"].values))\n",
    "rows = df_row[df_row[\"gene_symbol\"].isin(Genes)]\n",
    "idxs = rows.index.values\n",
    "matrix = ExonExp[ExonExp[0].isin(idxs)]"
   ]
  },
  {
   "cell_type": "code",
   "execution_count": null,
   "metadata": {
    "collapsed": true
   },
   "outputs": [],
   "source": []
  },
  {
   "cell_type": "code",
   "execution_count": 107,
   "metadata": {},
   "outputs": [],
   "source": [
    "stage2column_num = {}\n",
    "for stage in ins.Stages:\n",
    "    column_num = set(bp_exon_col_meta[bp_exon_col_meta[\"Period\"]==stage][\"column_num\"].values)\n",
    "    stage2column_num[stage] = column_num"
   ]
  },
  {
   "cell_type": "code",
   "execution_count": 144,
   "metadata": {
    "scrolled": false
   },
   "outputs": [],
   "source": [
    "OutFil = \"/Users/jiayao/Work/BrainDisorders/data/expression/brainspan/exons_matrix/exon_ralexp_avg2time.csv\"\n",
    "writer = csv.writer(open(OutFil, 'wb'))\n",
    "header = [\"column_num\"] + [\"mean_\"+ x for x in ins.Stages] + [\"var_mean_\"+ x for x in ins.Stages]\n",
    "writer.writerow(header)\n",
    "matrix = NormExonExp\n",
    "for i, row in matrix.iterrows():\n",
    "    means, var_means = [], []\n",
    "    for stage in ins.Stages:\n",
    "        points = np.array([])\n",
    "        for sample in stage2column_num[stage]:\n",
    "            exp = row[sample]\n",
    "            points = np.append(points, exp)\n",
    "        mean, var_mean = round(points.mean(),6), round(points.var() / points.size, 6)\n",
    "        means.append(mean)\n",
    "        var_means.append(var_mean)\n",
    "    writer.writerow([int(row[0])]+means+var_means)"
   ]
  },
  {
   "cell_type": "code",
   "execution_count": 168,
   "metadata": {},
   "outputs": [],
   "source": [
    "GeneExp = pd.read_csv(\"/Users/jiayao/Work/BrainDisorders/data/expression/brainspan/gene_matrix/qn.expression_matrix.csv\", header=None)\n",
    "GeneRow = pd.read_csv(\"/Users/jiayao/Work/BrainDisorders/data/expression/brainspan/gene_matrix/rows_metadata.csv\")\n",
    "GeneCol = pd.read_csv(\"/Users/jiayao/Work/BrainDisorders/data/expression/brainspan/gene_matrix/columns_metadata.csv\")\n",
    "GeneCol[\"Period\"] = GeneCol.apply(lambda row: ins.TemporalMap(row[\"age\"])[0], axis=1)\n",
    "GeneCol[\"Stage\"] = GeneCol.apply(lambda row: ins.TemporalMap(row[\"age\"])[1], axis=1)\n",
    "GeneCol[\"Description\"] = GeneCol.apply(lambda row: ins.TemporalMap(row[\"age\"])[2], axis=1)\n",
    "GeneDat = [GeneExp, GeneRow, GeneCol]\n",
    "gene_stage2column_num = {}\n",
    "for stage in ins.Stages:\n",
    "    column_num = set(GeneCol[GeneCol[\"Period\"]==stage][\"column_num\"].values)\n",
    "    gene_stage2column_num[stage] = column_num"
   ]
  },
  {
   "cell_type": "code",
   "execution_count": 149,
   "metadata": {},
   "outputs": [],
   "source": [
    "OutFil = \"/Users/jiayao/Work/BrainDisorders/data/expression/brainspan/gene_matrix/gene_exp_avg2time.csv\"\n",
    "writer = csv.writer(open(OutFil, 'wb'))\n",
    "header = [\"column_num\"] + [\"mean_\"+ x for x in ins.Stages] + [\"var_mean_\"+ x for x in ins.Stages]\n",
    "writer.writerow(header)\n",
    "matrix = GeneExp\n",
    "for i, row in matrix.iterrows():\n",
    "    means, var_means = [], []\n",
    "    for stage in ins.Stages:\n",
    "        points = np.array([])\n",
    "        for sample in gene_stage2column_num[stage]:\n",
    "            exp = row[sample]\n",
    "            points = np.append(points, exp)\n",
    "        mean, var_mean = round(points.mean(),6), round(points.var() / points.size, 6)\n",
    "        means.append(mean)\n",
    "        var_means.append(var_mean)\n",
    "    writer.writerow([int(row[0])]+means+var_means)"
   ]
  },
  {
   "cell_type": "code",
   "execution_count": 308,
   "metadata": {},
   "outputs": [],
   "source": [
    "qnExonExp = pd.read_csv(\"../data/expression/brainspan/exons_matrix/qn_exons_matrix.csv\", header=None)"
   ]
  },
  {
   "cell_type": "code",
   "execution_count": 108,
   "metadata": {},
   "outputs": [],
   "source": [
    "OutFil = \"/Users/jiayao/Work/BrainDisorders/data/expression/brainspan/exons_matrix/qn.exon_exp_avg2time.csv\"\n",
    "writer = csv.writer(open(OutFil, 'wb'))\n",
    "header = [\"column_num\"] + [\"mean_\"+ x for x in ins.Stages] + [\"var_mean_\"+ x for x in ins.Stages]\n",
    "writer.writerow(header)\n",
    "matrix = ExonExp\n",
    "for i, row in matrix.iterrows():\n",
    "    means, var_means = [], []\n",
    "    for stage in ins.Stages:\n",
    "        points = np.array([])\n",
    "        for sample in stage2column_num[stage]:\n",
    "            exp = row[sample]\n",
    "            points = np.append(points, exp)\n",
    "        mean, var_mean = round(points.mean(),6), round(points.var() / points.size, 6)\n",
    "        means.append(mean)\n",
    "        var_means.append(var_mean)\n",
    "    writer.writerow([int(row[0])]+means+var_means)"
   ]
  },
  {
   "cell_type": "code",
   "execution_count": 165,
   "metadata": {
    "collapsed": true
   },
   "outputs": [],
   "source": [
    "exon_exp_avg2time = pd.read_csv(\"/Users/jiayao/Work/BrainDisorders/data/expression/brainspan/exons_matrix/exon_exp_avg2time.csv\")"
   ]
  },
  {
   "cell_type": "code",
   "execution_count": 167,
   "metadata": {},
   "outputs": [],
   "source": [
    "OutFil = \"/Users/jiayao/Work/BrainDisorders/data/expression/brainspan/exons_matrix/exon_selfnorm_avg2time.csv\"\n",
    "writer = csv.writer(open(OutFil, 'wb'))\n",
    "header = [\"column_num\"] + [\"mean_total_time\"] + [x for x in ins.Stages]\n",
    "writer.writerow(header)\n",
    "matrix = exon_exp_avg2time\n",
    "for i, row in matrix.iterrows():\n",
    "    dat = row[1:12].values\n",
    "    mean = np.mean(dat)\n",
    "    if mean != 0:\n",
    "        tmp = [float(x)/mean for x in dat]\n",
    "    else:\n",
    "        tmp = [0] * 11\n",
    "    writer.writerow([int(row[0])]+[mean]+tmp)"
   ]
  },
  {
   "cell_type": "code",
   "execution_count": null,
   "metadata": {
    "collapsed": true
   },
   "outputs": [],
   "source": []
  },
  {
   "cell_type": "code",
   "execution_count": 33,
   "metadata": {},
   "outputs": [],
   "source": [
    "# CDS\n",
    "f_cds = open(\"/Users/jiayao/Work/Resources/gencode.v10.cds.gtf\", 'rb')\n",
    "#f_cds = open(\"/Users/jiayao/Work/Resources/test\", 'rb')\n",
    "F = f_cds.readlines()\n",
    "res = {}\n",
    "for i,l in enumerate(F):\n",
    "    llist = l.strip().split(\"\\t\")\n",
    "    if llist[2] == \"CDS\":    \n",
    "        info = llist[8].split(\";\")\n",
    "        gene = info[4].split()[-1].strip('\"')\n",
    "        if gene not in res:\n",
    "            res[gene] = {}\n",
    "        cds_s = int(llist[3])\n",
    "        cds_e = int(llist[4])\n",
    "        e_line = F[i-1]\n",
    "        e_llist = e_line.strip().split(\"\\t\")\n",
    "        exon_s, exon_e = int(e_llist[3]), int(e_llist[4])\n",
    "        if exon_s not in res[gene]:\n",
    "        #print exon_s <= cds_s, exon_e >= cds_e \n",
    "            res[gene][exon_s] = (cds_s, cds_e)"
   ]
  },
  {
   "cell_type": "code",
   "execution_count": 34,
   "metadata": {},
   "outputs": [],
   "source": [
    "fout = open(\"cds.dict\", 'wb')\n",
    "for k,v in res.items():\n",
    "    for kk, vv in v.items():\n",
    "        fout.write(\"{}\\t{}\\t{}\\t{}\\n\".format(k, kk, vv[0], vv[1]))"
   ]
  },
  {
   "cell_type": "code",
   "execution_count": 50,
   "metadata": {},
   "outputs": [
    {
     "ename": "TypeError",
     "evalue": "unhashable type: 'dict'",
     "output_type": "error",
     "traceback": [
      "\u001b[0;31m\u001b[0m",
      "\u001b[0;31mTypeError\u001b[0mTraceback (most recent call last)",
      "\u001b[0;32m<ipython-input-50-da1a5cd32dd5>\u001b[0m in \u001b[0;36m<module>\u001b[0;34m()\u001b[0m\n\u001b[1;32m      1\u001b[0m df = pd.DataFrame({{'A': 5, 'B': 2, 'C': 3, 'D': 4},\n\u001b[1;32m      2\u001b[0m                    \u001b[0;34m{\u001b[0m\u001b[0;34m'A'\u001b[0m\u001b[0;34m:\u001b[0m \u001b[0;36m4\u001b[0m\u001b[0;34m,\u001b[0m \u001b[0;34m'B'\u001b[0m\u001b[0;34m:\u001b[0m \u001b[0;36m1\u001b[0m\u001b[0;34m,\u001b[0m \u001b[0;34m'C'\u001b[0m\u001b[0;34m:\u001b[0m \u001b[0;36m4\u001b[0m\u001b[0;34m,\u001b[0m \u001b[0;34m'D'\u001b[0m\u001b[0;34m:\u001b[0m \u001b[0;36m2\u001b[0m\u001b[0;34m}\u001b[0m\u001b[0;34m,\u001b[0m\u001b[0;34m\u001b[0m\u001b[0m\n\u001b[0;32m----> 3\u001b[0;31m                    {'A': 3, 'B': 4, 'C': 6, 'D': 8}})\n\u001b[0m",
      "\u001b[0;31mTypeError\u001b[0m: unhashable type: 'dict'"
     ]
    }
   ],
   "source": [
    "df = pd.DataFrame({{'A': 5, 'B': 2, 'C': 3, 'D': 4},\n",
    "                   {'A': 4, 'B': 1, 'C': 4, 'D': 2},\n",
    "                   {'A': 3, 'B': 4, 'C': 6, 'D': 8}})"
   ]
  },
  {
   "cell_type": "code",
   "execution_count": 51,
   "metadata": {},
   "outputs": [
    {
     "data": {
      "text/html": [
       "<div>\n",
       "<style>\n",
       "    .dataframe thead tr:only-child th {\n",
       "        text-align: right;\n",
       "    }\n",
       "\n",
       "    .dataframe thead th {\n",
       "        text-align: left;\n",
       "    }\n",
       "\n",
       "    .dataframe tbody tr th {\n",
       "        vertical-align: top;\n",
       "    }\n",
       "</style>\n",
       "<table border=\"1\" class=\"dataframe\">\n",
       "  <thead>\n",
       "    <tr style=\"text-align: right;\">\n",
       "      <th></th>\n",
       "      <th>C1</th>\n",
       "      <th>C2</th>\n",
       "      <th>C3</th>\n",
       "    </tr>\n",
       "  </thead>\n",
       "  <tbody>\n",
       "    <tr>\n",
       "      <th>A</th>\n",
       "      <td>5</td>\n",
       "      <td>4</td>\n",
       "      <td>3</td>\n",
       "    </tr>\n",
       "    <tr>\n",
       "      <th>B</th>\n",
       "      <td>2</td>\n",
       "      <td>1</td>\n",
       "      <td>4</td>\n",
       "    </tr>\n",
       "    <tr>\n",
       "      <th>C</th>\n",
       "      <td>3</td>\n",
       "      <td>4</td>\n",
       "      <td>6</td>\n",
       "    </tr>\n",
       "    <tr>\n",
       "      <th>D</th>\n",
       "      <td>4</td>\n",
       "      <td>2</td>\n",
       "      <td>8</td>\n",
       "    </tr>\n",
       "  </tbody>\n",
       "</table>\n",
       "</div>"
      ],
      "text/plain": [
       "   C1  C2  C3\n",
       "A   5   4   3\n",
       "B   2   1   4\n",
       "C   3   4   6\n",
       "D   4   2   8"
      ]
     },
     "execution_count": 51,
     "metadata": {},
     "output_type": "execute_result"
    }
   ],
   "source": [
    "df"
   ]
  },
  {
   "cell_type": "code",
   "execution_count": 48,
   "metadata": {
    "collapsed": true
   },
   "outputs": [],
   "source": [
    "df_n = quantileNormalize(df)"
   ]
  },
  {
   "cell_type": "code",
   "execution_count": 49,
   "metadata": {},
   "outputs": [
    {
     "data": {
      "text/html": [
       "<div>\n",
       "<style>\n",
       "    .dataframe thead tr:only-child th {\n",
       "        text-align: right;\n",
       "    }\n",
       "\n",
       "    .dataframe thead th {\n",
       "        text-align: left;\n",
       "    }\n",
       "\n",
       "    .dataframe tbody tr th {\n",
       "        vertical-align: top;\n",
       "    }\n",
       "</style>\n",
       "<table border=\"1\" class=\"dataframe\">\n",
       "  <thead>\n",
       "    <tr style=\"text-align: right;\">\n",
       "      <th></th>\n",
       "      <th>C1</th>\n",
       "      <th>C2</th>\n",
       "      <th>C3</th>\n",
       "    </tr>\n",
       "  </thead>\n",
       "  <tbody>\n",
       "    <tr>\n",
       "      <th>A</th>\n",
       "      <td>5.666667</td>\n",
       "      <td>4.666667</td>\n",
       "      <td>2.000000</td>\n",
       "    </tr>\n",
       "    <tr>\n",
       "      <th>B</th>\n",
       "      <td>2.000000</td>\n",
       "      <td>2.000000</td>\n",
       "      <td>3.000000</td>\n",
       "    </tr>\n",
       "    <tr>\n",
       "      <th>C</th>\n",
       "      <td>3.000000</td>\n",
       "      <td>4.666667</td>\n",
       "      <td>4.666667</td>\n",
       "    </tr>\n",
       "    <tr>\n",
       "      <th>D</th>\n",
       "      <td>4.666667</td>\n",
       "      <td>3.000000</td>\n",
       "      <td>5.666667</td>\n",
       "    </tr>\n",
       "  </tbody>\n",
       "</table>\n",
       "</div>"
      ],
      "text/plain": [
       "         C1        C2        C3\n",
       "A  5.666667  4.666667  2.000000\n",
       "B  2.000000  2.000000  3.000000\n",
       "C  3.000000  4.666667  4.666667\n",
       "D  4.666667  3.000000  5.666667"
      ]
     },
     "execution_count": 49,
     "metadata": {},
     "output_type": "execute_result"
    }
   ],
   "source": [
    "df_n"
   ]
  },
  {
   "cell_type": "code",
   "execution_count": 74,
   "metadata": {},
   "outputs": [
    {
     "data": {
      "text/html": [
       "<div>\n",
       "<style>\n",
       "    .dataframe thead tr:only-child th {\n",
       "        text-align: right;\n",
       "    }\n",
       "\n",
       "    .dataframe thead th {\n",
       "        text-align: left;\n",
       "    }\n",
       "\n",
       "    .dataframe tbody tr th {\n",
       "        vertical-align: top;\n",
       "    }\n",
       "</style>\n",
       "<table border=\"1\" class=\"dataframe\">\n",
       "  <thead>\n",
       "    <tr style=\"text-align: right;\">\n",
       "      <th></th>\n",
       "      <th>1</th>\n",
       "      <th>2</th>\n",
       "      <th>3</th>\n",
       "      <th>4</th>\n",
       "      <th>5</th>\n",
       "      <th>6</th>\n",
       "      <th>7</th>\n",
       "      <th>8</th>\n",
       "      <th>9</th>\n",
       "      <th>10</th>\n",
       "      <th>...</th>\n",
       "      <th>515</th>\n",
       "      <th>516</th>\n",
       "      <th>517</th>\n",
       "      <th>518</th>\n",
       "      <th>519</th>\n",
       "      <th>520</th>\n",
       "      <th>521</th>\n",
       "      <th>522</th>\n",
       "      <th>523</th>\n",
       "      <th>524</th>\n",
       "    </tr>\n",
       "    <tr>\n",
       "      <th>0</th>\n",
       "      <th></th>\n",
       "      <th></th>\n",
       "      <th></th>\n",
       "      <th></th>\n",
       "      <th></th>\n",
       "      <th></th>\n",
       "      <th></th>\n",
       "      <th></th>\n",
       "      <th></th>\n",
       "      <th></th>\n",
       "      <th></th>\n",
       "      <th></th>\n",
       "      <th></th>\n",
       "      <th></th>\n",
       "      <th></th>\n",
       "      <th></th>\n",
       "      <th></th>\n",
       "      <th></th>\n",
       "      <th></th>\n",
       "      <th></th>\n",
       "      <th></th>\n",
       "    </tr>\n",
       "  </thead>\n",
       "  <tbody>\n",
       "    <tr>\n",
       "      <th>1</th>\n",
       "      <td>13.636583</td>\n",
       "      <td>40.862901</td>\n",
       "      <td>32.178981</td>\n",
       "      <td>27.939465</td>\n",
       "      <td>29.324584</td>\n",
       "      <td>23.885710</td>\n",
       "      <td>24.887880</td>\n",
       "      <td>16.432391</td>\n",
       "      <td>45.570680</td>\n",
       "      <td>38.173687</td>\n",
       "      <td>...</td>\n",
       "      <td>4.347437</td>\n",
       "      <td>4.101772</td>\n",
       "      <td>2.987192</td>\n",
       "      <td>3.862508</td>\n",
       "      <td>3.362597</td>\n",
       "      <td>2.566516</td>\n",
       "      <td>3.049593</td>\n",
       "      <td>5.025746</td>\n",
       "      <td>1.893471</td>\n",
       "      <td>8.942586</td>\n",
       "    </tr>\n",
       "    <tr>\n",
       "      <th>2</th>\n",
       "      <td>31.731240</td>\n",
       "      <td>86.587706</td>\n",
       "      <td>60.131360</td>\n",
       "      <td>57.718046</td>\n",
       "      <td>58.326412</td>\n",
       "      <td>54.090394</td>\n",
       "      <td>50.138146</td>\n",
       "      <td>35.408905</td>\n",
       "      <td>94.937737</td>\n",
       "      <td>90.762179</td>\n",
       "      <td>...</td>\n",
       "      <td>6.332389</td>\n",
       "      <td>5.479924</td>\n",
       "      <td>5.946744</td>\n",
       "      <td>6.017439</td>\n",
       "      <td>5.585987</td>\n",
       "      <td>3.870925</td>\n",
       "      <td>4.083335</td>\n",
       "      <td>7.451925</td>\n",
       "      <td>2.946266</td>\n",
       "      <td>3.868906</td>\n",
       "    </tr>\n",
       "  </tbody>\n",
       "</table>\n",
       "<p>2 rows × 524 columns</p>\n",
       "</div>"
      ],
      "text/plain": [
       "         1          2          3          4          5          6    \\\n",
       "0                                                                     \n",
       "1  13.636583  40.862901  32.178981  27.939465  29.324584  23.885710   \n",
       "2  31.731240  86.587706  60.131360  57.718046  58.326412  54.090394   \n",
       "\n",
       "         7          8          9          10     ...          515       516  \\\n",
       "0                                                ...                          \n",
       "1  24.887880  16.432391  45.570680  38.173687    ...     4.347437  4.101772   \n",
       "2  50.138146  35.408905  94.937737  90.762179    ...     6.332389  5.479924   \n",
       "\n",
       "        517       518       519       520       521       522       523  \\\n",
       "0                                                                         \n",
       "1  2.987192  3.862508  3.362597  2.566516  3.049593  5.025746  1.893471   \n",
       "2  5.946744  6.017439  5.585987  3.870925  4.083335  7.451925  2.946266   \n",
       "\n",
       "        524  \n",
       "0            \n",
       "1  8.942586  \n",
       "2  3.868906  \n",
       "\n",
       "[2 rows x 524 columns]"
      ]
     },
     "metadata": {},
     "output_type": "display_data"
    }
   ],
   "source": [
    "ExonExp = pd.read_csv(\"../data/expression/brainspan/exons_matrix/expression_matrix.csv\", header=None, index_col=0)\n",
    "display(ExonExp.head(2))"
   ]
  },
  {
   "cell_type": "code",
   "execution_count": 77,
   "metadata": {
    "collapsed": true
   },
   "outputs": [],
   "source": [
    "df_n = quantileNormalize(test)"
   ]
  },
  {
   "cell_type": "code",
   "execution_count": 81,
   "metadata": {},
   "outputs": [
    {
     "data": {
      "text/html": [
       "<div>\n",
       "<style>\n",
       "    .dataframe thead tr:only-child th {\n",
       "        text-align: right;\n",
       "    }\n",
       "\n",
       "    .dataframe thead th {\n",
       "        text-align: left;\n",
       "    }\n",
       "\n",
       "    .dataframe tbody tr th {\n",
       "        vertical-align: top;\n",
       "    }\n",
       "</style>\n",
       "<table border=\"1\" class=\"dataframe\">\n",
       "  <thead>\n",
       "    <tr style=\"text-align: right;\">\n",
       "      <th></th>\n",
       "      <th>1</th>\n",
       "      <th>2</th>\n",
       "      <th>3</th>\n",
       "      <th>4</th>\n",
       "      <th>5</th>\n",
       "      <th>6</th>\n",
       "      <th>7</th>\n",
       "      <th>8</th>\n",
       "      <th>9</th>\n",
       "      <th>10</th>\n",
       "      <th>...</th>\n",
       "      <th>515</th>\n",
       "      <th>516</th>\n",
       "      <th>517</th>\n",
       "      <th>518</th>\n",
       "      <th>519</th>\n",
       "      <th>520</th>\n",
       "      <th>521</th>\n",
       "      <th>522</th>\n",
       "      <th>523</th>\n",
       "      <th>524</th>\n",
       "    </tr>\n",
       "    <tr>\n",
       "      <th>0</th>\n",
       "      <th></th>\n",
       "      <th></th>\n",
       "      <th></th>\n",
       "      <th></th>\n",
       "      <th></th>\n",
       "      <th></th>\n",
       "      <th></th>\n",
       "      <th></th>\n",
       "      <th></th>\n",
       "      <th></th>\n",
       "      <th></th>\n",
       "      <th></th>\n",
       "      <th></th>\n",
       "      <th></th>\n",
       "      <th></th>\n",
       "      <th></th>\n",
       "      <th></th>\n",
       "      <th></th>\n",
       "      <th></th>\n",
       "      <th></th>\n",
       "      <th></th>\n",
       "    </tr>\n",
       "  </thead>\n",
       "  <tbody>\n",
       "    <tr>\n",
       "      <th>1</th>\n",
       "      <td>8.788037</td>\n",
       "      <td>8.788037</td>\n",
       "      <td>8.788037</td>\n",
       "      <td>8.788037</td>\n",
       "      <td>8.788037</td>\n",
       "      <td>8.788037</td>\n",
       "      <td>8.788037</td>\n",
       "      <td>8.788037</td>\n",
       "      <td>8.788037</td>\n",
       "      <td>8.788037</td>\n",
       "      <td>...</td>\n",
       "      <td>8.788037</td>\n",
       "      <td>11.735517</td>\n",
       "      <td>8.788037</td>\n",
       "      <td>8.788037</td>\n",
       "      <td>8.788037</td>\n",
       "      <td>8.788037</td>\n",
       "      <td>8.788037</td>\n",
       "      <td>11.735517</td>\n",
       "      <td>8.788037</td>\n",
       "      <td>17.842278</td>\n",
       "    </tr>\n",
       "    <tr>\n",
       "      <th>2</th>\n",
       "      <td>13.123562</td>\n",
       "      <td>11.735517</td>\n",
       "      <td>17.842278</td>\n",
       "      <td>17.842278</td>\n",
       "      <td>11.735517</td>\n",
       "      <td>17.842278</td>\n",
       "      <td>13.123562</td>\n",
       "      <td>14.893546</td>\n",
       "      <td>17.842278</td>\n",
       "      <td>17.842278</td>\n",
       "      <td>...</td>\n",
       "      <td>13.123562</td>\n",
       "      <td>17.842278</td>\n",
       "      <td>17.842278</td>\n",
       "      <td>13.123562</td>\n",
       "      <td>11.735517</td>\n",
       "      <td>17.842278</td>\n",
       "      <td>13.123562</td>\n",
       "      <td>14.893546</td>\n",
       "      <td>14.893546</td>\n",
       "      <td>11.735517</td>\n",
       "    </tr>\n",
       "    <tr>\n",
       "      <th>3</th>\n",
       "      <td>14.893546</td>\n",
       "      <td>17.842278</td>\n",
       "      <td>13.123562</td>\n",
       "      <td>11.735517</td>\n",
       "      <td>17.842278</td>\n",
       "      <td>14.893546</td>\n",
       "      <td>14.893546</td>\n",
       "      <td>13.123562</td>\n",
       "      <td>14.893546</td>\n",
       "      <td>14.893546</td>\n",
       "      <td>...</td>\n",
       "      <td>14.893546</td>\n",
       "      <td>14.893546</td>\n",
       "      <td>13.123562</td>\n",
       "      <td>14.893546</td>\n",
       "      <td>17.842278</td>\n",
       "      <td>14.893546</td>\n",
       "      <td>11.735517</td>\n",
       "      <td>17.842278</td>\n",
       "      <td>13.123562</td>\n",
       "      <td>14.893546</td>\n",
       "    </tr>\n",
       "    <tr>\n",
       "      <th>4</th>\n",
       "      <td>11.735517</td>\n",
       "      <td>13.123562</td>\n",
       "      <td>14.893546</td>\n",
       "      <td>13.123562</td>\n",
       "      <td>13.123562</td>\n",
       "      <td>11.735517</td>\n",
       "      <td>11.735517</td>\n",
       "      <td>11.735517</td>\n",
       "      <td>13.123562</td>\n",
       "      <td>13.123562</td>\n",
       "      <td>...</td>\n",
       "      <td>17.842278</td>\n",
       "      <td>13.123562</td>\n",
       "      <td>11.735517</td>\n",
       "      <td>17.842278</td>\n",
       "      <td>13.123562</td>\n",
       "      <td>13.123562</td>\n",
       "      <td>14.893546</td>\n",
       "      <td>13.123562</td>\n",
       "      <td>11.735517</td>\n",
       "      <td>8.788037</td>\n",
       "    </tr>\n",
       "    <tr>\n",
       "      <th>5</th>\n",
       "      <td>17.842278</td>\n",
       "      <td>14.893546</td>\n",
       "      <td>11.735517</td>\n",
       "      <td>14.893546</td>\n",
       "      <td>14.893546</td>\n",
       "      <td>13.123562</td>\n",
       "      <td>17.842278</td>\n",
       "      <td>17.842278</td>\n",
       "      <td>11.735517</td>\n",
       "      <td>11.735517</td>\n",
       "      <td>...</td>\n",
       "      <td>11.735517</td>\n",
       "      <td>8.788037</td>\n",
       "      <td>14.893546</td>\n",
       "      <td>11.735517</td>\n",
       "      <td>14.893546</td>\n",
       "      <td>11.735517</td>\n",
       "      <td>17.842278</td>\n",
       "      <td>8.788037</td>\n",
       "      <td>17.842278</td>\n",
       "      <td>13.123562</td>\n",
       "    </tr>\n",
       "  </tbody>\n",
       "</table>\n",
       "<p>5 rows × 524 columns</p>\n",
       "</div>"
      ],
      "text/plain": [
       "         1          2          3          4          5          6    \\\n",
       "0                                                                     \n",
       "1   8.788037   8.788037   8.788037   8.788037   8.788037   8.788037   \n",
       "2  13.123562  11.735517  17.842278  17.842278  11.735517  17.842278   \n",
       "3  14.893546  17.842278  13.123562  11.735517  17.842278  14.893546   \n",
       "4  11.735517  13.123562  14.893546  13.123562  13.123562  11.735517   \n",
       "5  17.842278  14.893546  11.735517  14.893546  14.893546  13.123562   \n",
       "\n",
       "         7          8          9          10     ...            515  \\\n",
       "0                                                ...                  \n",
       "1   8.788037   8.788037   8.788037   8.788037    ...       8.788037   \n",
       "2  13.123562  14.893546  17.842278  17.842278    ...      13.123562   \n",
       "3  14.893546  13.123562  14.893546  14.893546    ...      14.893546   \n",
       "4  11.735517  11.735517  13.123562  13.123562    ...      17.842278   \n",
       "5  17.842278  17.842278  11.735517  11.735517    ...      11.735517   \n",
       "\n",
       "         516        517        518        519        520        521  \\\n",
       "0                                                                     \n",
       "1  11.735517   8.788037   8.788037   8.788037   8.788037   8.788037   \n",
       "2  17.842278  17.842278  13.123562  11.735517  17.842278  13.123562   \n",
       "3  14.893546  13.123562  14.893546  17.842278  14.893546  11.735517   \n",
       "4  13.123562  11.735517  17.842278  13.123562  13.123562  14.893546   \n",
       "5   8.788037  14.893546  11.735517  14.893546  11.735517  17.842278   \n",
       "\n",
       "         522        523        524  \n",
       "0                                   \n",
       "1  11.735517   8.788037  17.842278  \n",
       "2  14.893546  14.893546  11.735517  \n",
       "3  17.842278  13.123562  14.893546  \n",
       "4  13.123562  11.735517   8.788037  \n",
       "5   8.788037  17.842278  13.123562  \n",
       "\n",
       "[5 rows x 524 columns]"
      ]
     },
     "execution_count": 81,
     "metadata": {},
     "output_type": "execute_result"
    }
   ],
   "source": [
    "df_n.head(10)"
   ]
  },
  {
   "cell_type": "code",
   "execution_count": 84,
   "metadata": {},
   "outputs": [],
   "source": [
    "df_n = df_n.round(6)"
   ]
  },
  {
   "cell_type": "code",
   "execution_count": 85,
   "metadata": {
    "collapsed": true
   },
   "outputs": [],
   "source": [
    "df_n.to_csv(\"/Users/jiayao/Work/BrainDisorders/data/expression/brainspan/exons_matrix/qn_exons_matrix.csv\", sep=\",\", header=None)"
   ]
  },
  {
   "cell_type": "code",
   "execution_count": 110,
   "metadata": {},
   "outputs": [
    {
     "data": {
      "text/html": [
       "<div>\n",
       "<style>\n",
       "    .dataframe thead tr:only-child th {\n",
       "        text-align: right;\n",
       "    }\n",
       "\n",
       "    .dataframe thead th {\n",
       "        text-align: left;\n",
       "    }\n",
       "\n",
       "    .dataframe tbody tr th {\n",
       "        vertical-align: top;\n",
       "    }\n",
       "</style>\n",
       "<table border=\"1\" class=\"dataframe\">\n",
       "  <thead>\n",
       "    <tr style=\"text-align: right;\">\n",
       "      <th></th>\n",
       "      <th>1</th>\n",
       "      <th>2</th>\n",
       "      <th>3</th>\n",
       "      <th>4</th>\n",
       "      <th>5</th>\n",
       "      <th>6</th>\n",
       "      <th>7</th>\n",
       "      <th>8</th>\n",
       "      <th>9</th>\n",
       "      <th>10</th>\n",
       "      <th>...</th>\n",
       "      <th>515</th>\n",
       "      <th>516</th>\n",
       "      <th>517</th>\n",
       "      <th>518</th>\n",
       "      <th>519</th>\n",
       "      <th>520</th>\n",
       "      <th>521</th>\n",
       "      <th>522</th>\n",
       "      <th>523</th>\n",
       "      <th>524</th>\n",
       "    </tr>\n",
       "    <tr>\n",
       "      <th>0</th>\n",
       "      <th></th>\n",
       "      <th></th>\n",
       "      <th></th>\n",
       "      <th></th>\n",
       "      <th></th>\n",
       "      <th></th>\n",
       "      <th></th>\n",
       "      <th></th>\n",
       "      <th></th>\n",
       "      <th></th>\n",
       "      <th></th>\n",
       "      <th></th>\n",
       "      <th></th>\n",
       "      <th></th>\n",
       "      <th></th>\n",
       "      <th></th>\n",
       "      <th></th>\n",
       "      <th></th>\n",
       "      <th></th>\n",
       "      <th></th>\n",
       "      <th></th>\n",
       "    </tr>\n",
       "  </thead>\n",
       "  <tbody>\n",
       "    <tr>\n",
       "      <th>1</th>\n",
       "      <td>36.447128</td>\n",
       "      <td>24.251253</td>\n",
       "      <td>19.330479</td>\n",
       "      <td>27.668607</td>\n",
       "      <td>19.998231</td>\n",
       "      <td>14.680673</td>\n",
       "      <td>27.548101</td>\n",
       "      <td>16.580183</td>\n",
       "      <td>44.587799</td>\n",
       "      <td>44.943915</td>\n",
       "      <td>...</td>\n",
       "      <td>2.320932</td>\n",
       "      <td>1.781548</td>\n",
       "      <td>2.277359</td>\n",
       "      <td>1.832737</td>\n",
       "      <td>1.555696</td>\n",
       "      <td>2.081944</td>\n",
       "      <td>3.484685</td>\n",
       "      <td>4.816781</td>\n",
       "      <td>3.034464</td>\n",
       "      <td>3.082820</td>\n",
       "    </tr>\n",
       "    <tr>\n",
       "      <th>2</th>\n",
       "      <td>0.044081</td>\n",
       "      <td>0.067338</td>\n",
       "      <td>0.000000</td>\n",
       "      <td>0.145466</td>\n",
       "      <td>0.185188</td>\n",
       "      <td>0.311180</td>\n",
       "      <td>0.000000</td>\n",
       "      <td>0.000000</td>\n",
       "      <td>0.473831</td>\n",
       "      <td>0.181220</td>\n",
       "      <td>...</td>\n",
       "      <td>0.758571</td>\n",
       "      <td>0.000000</td>\n",
       "      <td>0.061869</td>\n",
       "      <td>0.026876</td>\n",
       "      <td>0.100691</td>\n",
       "      <td>0.140675</td>\n",
       "      <td>0.300576</td>\n",
       "      <td>0.126526</td>\n",
       "      <td>0.000000</td>\n",
       "      <td>0.424134</td>\n",
       "    </tr>\n",
       "  </tbody>\n",
       "</table>\n",
       "<p>2 rows × 524 columns</p>\n",
       "</div>"
      ],
      "text/plain": [
       "         1          2          3          4          5          6    \\\n",
       "0                                                                     \n",
       "1  36.447128  24.251253  19.330479  27.668607  19.998231  14.680673   \n",
       "2   0.044081   0.067338   0.000000   0.145466   0.185188   0.311180   \n",
       "\n",
       "         7          8          9          10     ...          515       516  \\\n",
       "0                                                ...                          \n",
       "1  27.548101  16.580183  44.587799  44.943915    ...     2.320932  1.781548   \n",
       "2   0.000000   0.000000   0.473831   0.181220    ...     0.758571  0.000000   \n",
       "\n",
       "        517       518       519       520       521       522       523  \\\n",
       "0                                                                         \n",
       "1  2.277359  1.832737  1.555696  2.081944  3.484685  4.816781  3.034464   \n",
       "2  0.061869  0.026876  0.100691  0.140675  0.300576  0.126526  0.000000   \n",
       "\n",
       "        524  \n",
       "0            \n",
       "1  3.082820  \n",
       "2  0.424134  \n",
       "\n",
       "[2 rows x 524 columns]"
      ]
     },
     "metadata": {},
     "output_type": "display_data"
    }
   ],
   "source": [
    "GeneExp = pd.read_csv(\"../data/expression/brainspan/gene_matrix/expression_matrix.csv\", header=None, index_col=0)\n",
    "display(GeneExp.head(2))\n",
    "df_n = quantileNormalize(GeneExp)\n",
    "df_n = df_n.round(6)\n",
    "df_n.to_csv(\"/Users/jiayao/Work/BrainDisorders/data/expression/brainspan/gene_matrix/qn.expression_matrix.csv\", sep=\",\", header=None)"
   ]
  },
  {
   "cell_type": "code",
   "execution_count": 78,
   "metadata": {},
   "outputs": [
    {
     "data": {
      "text/html": [
       "<div>\n",
       "<style>\n",
       "    .dataframe thead tr:only-child th {\n",
       "        text-align: right;\n",
       "    }\n",
       "\n",
       "    .dataframe thead th {\n",
       "        text-align: left;\n",
       "    }\n",
       "\n",
       "    .dataframe tbody tr th {\n",
       "        vertical-align: top;\n",
       "    }\n",
       "</style>\n",
       "<table border=\"1\" class=\"dataframe\">\n",
       "  <thead>\n",
       "    <tr style=\"text-align: right;\">\n",
       "      <th></th>\n",
       "      <th>row_num</th>\n",
       "      <th>gene_id</th>\n",
       "      <th>ensembl_gene_id</th>\n",
       "      <th>gene_symbol</th>\n",
       "      <th>entrez_id</th>\n",
       "      <th>start</th>\n",
       "      <th>end</th>\n",
       "      <th>exon length</th>\n",
       "    </tr>\n",
       "  </thead>\n",
       "  <tbody>\n",
       "    <tr>\n",
       "      <th>0</th>\n",
       "      <td>1</td>\n",
       "      <td>1086864</td>\n",
       "      <td>ENSG00000000003</td>\n",
       "      <td>TSPAN6</td>\n",
       "      <td>7105.0</td>\n",
       "      <td>99883666</td>\n",
       "      <td>99884983</td>\n",
       "      <td>1317</td>\n",
       "    </tr>\n",
       "    <tr>\n",
       "      <th>1</th>\n",
       "      <td>2</td>\n",
       "      <td>1086864</td>\n",
       "      <td>ENSG00000000003</td>\n",
       "      <td>TSPAN6</td>\n",
       "      <td>7105.0</td>\n",
       "      <td>99885755</td>\n",
       "      <td>99885863</td>\n",
       "      <td>108</td>\n",
       "    </tr>\n",
       "  </tbody>\n",
       "</table>\n",
       "</div>"
      ],
      "text/plain": [
       "   row_num  gene_id  ensembl_gene_id gene_symbol  entrez_id     start  \\\n",
       "0        1  1086864  ENSG00000000003      TSPAN6     7105.0  99883666   \n",
       "1        2  1086864  ENSG00000000003      TSPAN6     7105.0  99885755   \n",
       "\n",
       "        end  exon length  \n",
       "0  99884983         1317  \n",
       "1  99885863          108  "
      ]
     },
     "metadata": {},
     "output_type": "display_data"
    },
    {
     "data": {
      "text/html": [
       "<div>\n",
       "<style>\n",
       "    .dataframe thead tr:only-child th {\n",
       "        text-align: right;\n",
       "    }\n",
       "\n",
       "    .dataframe thead th {\n",
       "        text-align: left;\n",
       "    }\n",
       "\n",
       "    .dataframe tbody tr th {\n",
       "        vertical-align: top;\n",
       "    }\n",
       "</style>\n",
       "<table border=\"1\" class=\"dataframe\">\n",
       "  <thead>\n",
       "    <tr style=\"text-align: right;\">\n",
       "      <th></th>\n",
       "      <th>0</th>\n",
       "      <th>1</th>\n",
       "      <th>2</th>\n",
       "      <th>3</th>\n",
       "      <th>4</th>\n",
       "      <th>5</th>\n",
       "      <th>6</th>\n",
       "      <th>7</th>\n",
       "      <th>8</th>\n",
       "      <th>9</th>\n",
       "      <th>...</th>\n",
       "      <th>515</th>\n",
       "      <th>516</th>\n",
       "      <th>517</th>\n",
       "      <th>518</th>\n",
       "      <th>519</th>\n",
       "      <th>520</th>\n",
       "      <th>521</th>\n",
       "      <th>522</th>\n",
       "      <th>523</th>\n",
       "      <th>524</th>\n",
       "    </tr>\n",
       "  </thead>\n",
       "  <tbody>\n",
       "    <tr>\n",
       "      <th>0</th>\n",
       "      <td>1</td>\n",
       "      <td>12.147751</td>\n",
       "      <td>39.243277</td>\n",
       "      <td>28.518602</td>\n",
       "      <td>23.230875</td>\n",
       "      <td>26.230301</td>\n",
       "      <td>20.025094</td>\n",
       "      <td>19.736859</td>\n",
       "      <td>16.195879</td>\n",
       "      <td>40.864157</td>\n",
       "      <td>...</td>\n",
       "      <td>6.641969</td>\n",
       "      <td>6.717663</td>\n",
       "      <td>2.946814</td>\n",
       "      <td>5.231312</td>\n",
       "      <td>3.525105</td>\n",
       "      <td>2.775830</td>\n",
       "      <td>4.319969</td>\n",
       "      <td>9.799409</td>\n",
       "      <td>1.883989</td>\n",
       "      <td>21.652156</td>\n",
       "    </tr>\n",
       "    <tr>\n",
       "      <th>1</th>\n",
       "      <td>2</td>\n",
       "      <td>29.148381</td>\n",
       "      <td>82.511717</td>\n",
       "      <td>55.319827</td>\n",
       "      <td>51.980301</td>\n",
       "      <td>53.281452</td>\n",
       "      <td>49.598084</td>\n",
       "      <td>44.207035</td>\n",
       "      <td>33.799339</td>\n",
       "      <td>88.398147</td>\n",
       "      <td>...</td>\n",
       "      <td>9.013514</td>\n",
       "      <td>8.462362</td>\n",
       "      <td>5.768021</td>\n",
       "      <td>7.981446</td>\n",
       "      <td>6.169699</td>\n",
       "      <td>4.133613</td>\n",
       "      <td>5.709670</td>\n",
       "      <td>13.147673</td>\n",
       "      <td>2.943256</td>\n",
       "      <td>12.461572</td>\n",
       "    </tr>\n",
       "  </tbody>\n",
       "</table>\n",
       "<p>2 rows × 525 columns</p>\n",
       "</div>"
      ],
      "text/plain": [
       "   0          1          2          3          4          5          6    \\\n",
       "0    1  12.147751  39.243277  28.518602  23.230875  26.230301  20.025094   \n",
       "1    2  29.148381  82.511717  55.319827  51.980301  53.281452  49.598084   \n",
       "\n",
       "         7          8          9      ...           515       516       517  \\\n",
       "0  19.736859  16.195879  40.864157    ...      6.641969  6.717663  2.946814   \n",
       "1  44.207035  33.799339  88.398147    ...      9.013514  8.462362  5.768021   \n",
       "\n",
       "        518       519       520       521        522       523        524  \n",
       "0  5.231312  3.525105  2.775830  4.319969   9.799409  1.883989  21.652156  \n",
       "1  7.981446  6.169699  4.133613  5.709670  13.147673  2.943256  12.461572  \n",
       "\n",
       "[2 rows x 525 columns]"
      ]
     },
     "metadata": {},
     "output_type": "display_data"
    }
   ],
   "source": [
    "ins = BrainSpan()\n",
    "bp_exon_col_meta = pd.read_csv(\n",
    "    \"/Users/jiayao/Work/BrainDisorders/data/expression/brainspan/exons_matrix/columns_metadata.csv\", delimiter=\",\")\n",
    "bp_exon_col_meta.age.unique()\n",
    "bp_exon_col_meta[\"Period\"] = bp_exon_col_meta.apply(lambda row: ins.TemporalMap(row[\"age\"])[0], axis=1)\n",
    "bp_exon_col_meta[\"Stage\"] = bp_exon_col_meta.apply(lambda row: ins.TemporalMap(row[\"age\"])[1], axis=1)\n",
    "bp_exon_col_meta[\"Description\"] = bp_exon_col_meta.apply(lambda row: ins.TemporalMap(row[\"age\"])[2], axis=1)\n",
    "# Rows Meta Data\n",
    "bp_exon_row_meta = pd.read_csv(\n",
    "    \"/Users/jiayao/Work/BrainDisorders/data/expression/brainspan/exons_matrix/rows_metadata.csv\", delimiter=\",\")\n",
    "bp_exon_row_meta[\"exon length\"] = bp_exon_row_meta[\"end\"] - bp_exon_row_meta[\"start\"]\n",
    "display(bp_exon_row_meta.head(2))\n",
    "ExonExp = pd.read_csv(\"../data/expression/brainspan/exons_matrix/qn_exons_matrix.csv\", header=None)\n",
    "display(ExonExp.head(2))"
   ]
  },
  {
   "cell_type": "code",
   "execution_count": 296,
   "metadata": {},
   "outputs": [],
   "source": [
    "Regionsgt20 = ['OFC', 'VFC', 'HIP', 'ITC', 'AMY', 'DFC', 'STC', 'MFC', 'STR', 'IPC', \n",
    "            'V1C', 'S1C', 'A1C', 'M1C', 'CBC', 'MD']"
   ]
  },
  {
   "cell_type": "code",
   "execution_count": 297,
   "metadata": {},
   "outputs": [],
   "source": [
    "GeneExp = pd.read_csv(\"/Users/jiayao/Work/BrainDisorders/data/expression/brainspan/gene_matrix/qn.expression_matrix.csv\", header=None)\n",
    "GeneRow = pd.read_csv(\"/Users/jiayao/Work/BrainDisorders/data/expression/brainspan/gene_matrix/rows_metadata.csv\")\n",
    "GeneCol = pd.read_csv(\"/Users/jiayao/Work/BrainDisorders/data/expression/brainspan/gene_matrix/columns_metadata.csv\")\n",
    "GeneCol[\"Period\"] = GeneCol.apply(lambda row: ins.TemporalMap(row[\"age\"])[0], axis=1)\n",
    "GeneCol[\"Stage\"] = GeneCol.apply(lambda row: ins.TemporalMap(row[\"age\"])[1], axis=1)\n",
    "GeneCol[\"Description\"] = GeneCol.apply(lambda row: ins.TemporalMap(row[\"age\"])[2], axis=1)\n",
    "GeneDat = [GeneExp, GeneRow, GeneCol]\n",
    "gene_stage2column_num = {}\n",
    "for stage in ins.Stages:\n",
    "    column_num = set(GeneCol[GeneCol[\"Period\"]==stage][\"column_num\"].values)\n",
    "    gene_stage2column_num[stage] = column_num"
   ]
  },
  {
   "cell_type": "code",
   "execution_count": 299,
   "metadata": {},
   "outputs": [
    {
     "name": "stdout",
     "output_type": "stream",
     "text": [
      "98\n",
      "Total Num of Genes: 98\n"
     ]
    },
    {
     "name": "stderr",
     "output_type": "stream",
     "text": [
      "/Users/jiayao/Work/BrainDisorders/src/utils.py:1467: FutureWarning: get_value is deprecated and will be removed in a future release. Please use .at[] or .iat[] accessors instead\n",
      "  exp = Matrix.get_value(GeneID-1, col)\n"
     ]
    }
   ],
   "source": [
    "bp_exon_row_meta_lgdpre_with_gene = pd.read_excel(\"./data/ProLGD_wilger2014_predicted.July20.xlsx\")\n",
    "#bp_exon_row_meta_lgdpre_with_gene = bp_exon_row_meta_lgdpre_with_gene.replace(np.nan, '', regex=True)\n",
    "Genes = list(set(bp_exon_row_meta_lgdpre_with_gene[\"effectGene\"].values))\n",
    "print(len(Genes))\n",
    "ins.LoadGeneSetData2Fil2(\"qn.ProbandLGD_PRE.Regionsgt20.98Genes.GeneLog2Exp.csv\", \n",
    "                        Genes, Regionsgt20, GeneRow, GeneCol, GeneExp)"
   ]
  },
  {
   "cell_type": "code",
   "execution_count": 175,
   "metadata": {},
   "outputs": [
    {
     "data": {
      "text/plain": [
       "1128"
      ]
     },
     "execution_count": 175,
     "metadata": {},
     "output_type": "execute_result"
    }
   ],
   "source": [
    "94 * 12"
   ]
  },
  {
   "cell_type": "code",
   "execution_count": 80,
   "metadata": {},
   "outputs": [
    {
     "ename": "IOError",
     "evalue": "[Errno 2] No such file or directory: 'GenesExonsTargetedBySYN.xlsx'",
     "output_type": "error",
     "traceback": [
      "\u001b[0;31m\u001b[0m",
      "\u001b[0;31mIOError\u001b[0mTraceback (most recent call last)",
      "\u001b[0;32m<ipython-input-80-7b807a1582db>\u001b[0m in \u001b[0;36m<module>\u001b[0;34m()\u001b[0m\n\u001b[0;32m----> 1\u001b[0;31m \u001b[0mbp_exon_row_meta_syn_with_gene\u001b[0m \u001b[0;34m=\u001b[0m \u001b[0mpd\u001b[0m\u001b[0;34m.\u001b[0m\u001b[0mread_excel\u001b[0m\u001b[0;34m(\u001b[0m\u001b[0;34m\"GenesExonsTargetedBySYN.xlsx\"\u001b[0m\u001b[0;34m,\u001b[0m \u001b[0mindex\u001b[0m\u001b[0;34m=\u001b[0m\u001b[0mFalse\u001b[0m\u001b[0;34m)\u001b[0m\u001b[0;34m\u001b[0m\u001b[0m\n\u001b[0m\u001b[1;32m      2\u001b[0m \u001b[0mbp_exon_row_meta_syn_with_gene\u001b[0m \u001b[0;34m=\u001b[0m \u001b[0mbp_exon_row_meta_syn_with_gene\u001b[0m\u001b[0;34m.\u001b[0m\u001b[0mreplace\u001b[0m\u001b[0;34m(\u001b[0m\u001b[0mnp\u001b[0m\u001b[0;34m.\u001b[0m\u001b[0mnan\u001b[0m\u001b[0;34m,\u001b[0m \u001b[0;34m''\u001b[0m\u001b[0;34m,\u001b[0m \u001b[0mregex\u001b[0m\u001b[0;34m=\u001b[0m\u001b[0mTrue\u001b[0m\u001b[0;34m)\u001b[0m\u001b[0;34m\u001b[0m\u001b[0m\n",
      "\u001b[0;32m/Users/jiayao/anaconda2/lib/python2.7/site-packages/pandas/io/excel.pyc\u001b[0m in \u001b[0;36mread_excel\u001b[0;34m(io, sheetname, header, skiprows, skip_footer, index_col, names, parse_cols, parse_dates, date_parser, na_values, thousands, convert_float, has_index_names, converters, dtype, true_values, false_values, engine, squeeze, **kwds)\u001b[0m\n\u001b[1;32m    201\u001b[0m \u001b[0;34m\u001b[0m\u001b[0m\n\u001b[1;32m    202\u001b[0m     \u001b[0;32mif\u001b[0m \u001b[0;32mnot\u001b[0m \u001b[0misinstance\u001b[0m\u001b[0;34m(\u001b[0m\u001b[0mio\u001b[0m\u001b[0;34m,\u001b[0m \u001b[0mExcelFile\u001b[0m\u001b[0;34m)\u001b[0m\u001b[0;34m:\u001b[0m\u001b[0;34m\u001b[0m\u001b[0m\n\u001b[0;32m--> 203\u001b[0;31m         \u001b[0mio\u001b[0m \u001b[0;34m=\u001b[0m \u001b[0mExcelFile\u001b[0m\u001b[0;34m(\u001b[0m\u001b[0mio\u001b[0m\u001b[0;34m,\u001b[0m \u001b[0mengine\u001b[0m\u001b[0;34m=\u001b[0m\u001b[0mengine\u001b[0m\u001b[0;34m)\u001b[0m\u001b[0;34m\u001b[0m\u001b[0m\n\u001b[0m\u001b[1;32m    204\u001b[0m \u001b[0;34m\u001b[0m\u001b[0m\n\u001b[1;32m    205\u001b[0m     return io._parse_excel(\n",
      "\u001b[0;32m/Users/jiayao/anaconda2/lib/python2.7/site-packages/pandas/io/excel.pyc\u001b[0m in \u001b[0;36m__init__\u001b[0;34m(self, io, **kwds)\u001b[0m\n\u001b[1;32m    258\u001b[0m             \u001b[0mself\u001b[0m\u001b[0;34m.\u001b[0m\u001b[0mbook\u001b[0m \u001b[0;34m=\u001b[0m \u001b[0mxlrd\u001b[0m\u001b[0;34m.\u001b[0m\u001b[0mopen_workbook\u001b[0m\u001b[0;34m(\u001b[0m\u001b[0mfile_contents\u001b[0m\u001b[0;34m=\u001b[0m\u001b[0mdata\u001b[0m\u001b[0;34m)\u001b[0m\u001b[0;34m\u001b[0m\u001b[0m\n\u001b[1;32m    259\u001b[0m         \u001b[0;32melif\u001b[0m \u001b[0misinstance\u001b[0m\u001b[0;34m(\u001b[0m\u001b[0mio\u001b[0m\u001b[0;34m,\u001b[0m \u001b[0mcompat\u001b[0m\u001b[0;34m.\u001b[0m\u001b[0mstring_types\u001b[0m\u001b[0;34m)\u001b[0m\u001b[0;34m:\u001b[0m\u001b[0;34m\u001b[0m\u001b[0m\n\u001b[0;32m--> 260\u001b[0;31m             \u001b[0mself\u001b[0m\u001b[0;34m.\u001b[0m\u001b[0mbook\u001b[0m \u001b[0;34m=\u001b[0m \u001b[0mxlrd\u001b[0m\u001b[0;34m.\u001b[0m\u001b[0mopen_workbook\u001b[0m\u001b[0;34m(\u001b[0m\u001b[0mio\u001b[0m\u001b[0;34m)\u001b[0m\u001b[0;34m\u001b[0m\u001b[0m\n\u001b[0m\u001b[1;32m    261\u001b[0m         \u001b[0;32melse\u001b[0m\u001b[0;34m:\u001b[0m\u001b[0;34m\u001b[0m\u001b[0m\n\u001b[1;32m    262\u001b[0m             raise ValueError('Must explicitly set engine if not passing in'\n",
      "\u001b[0;32m/Users/jiayao/anaconda2/lib/python2.7/site-packages/xlrd/__init__.pyc\u001b[0m in \u001b[0;36mopen_workbook\u001b[0;34m(filename, logfile, verbosity, use_mmap, file_contents, encoding_override, formatting_info, on_demand, ragged_rows)\u001b[0m\n\u001b[1;32m    393\u001b[0m         \u001b[0mpeek\u001b[0m \u001b[0;34m=\u001b[0m \u001b[0mfile_contents\u001b[0m\u001b[0;34m[\u001b[0m\u001b[0;34m:\u001b[0m\u001b[0mpeeksz\u001b[0m\u001b[0;34m]\u001b[0m\u001b[0;34m\u001b[0m\u001b[0m\n\u001b[1;32m    394\u001b[0m     \u001b[0;32melse\u001b[0m\u001b[0;34m:\u001b[0m\u001b[0;34m\u001b[0m\u001b[0m\n\u001b[0;32m--> 395\u001b[0;31m         \u001b[0;32mwith\u001b[0m \u001b[0mopen\u001b[0m\u001b[0;34m(\u001b[0m\u001b[0mfilename\u001b[0m\u001b[0;34m,\u001b[0m \u001b[0;34m\"rb\"\u001b[0m\u001b[0;34m)\u001b[0m \u001b[0;32mas\u001b[0m \u001b[0mf\u001b[0m\u001b[0;34m:\u001b[0m\u001b[0;34m\u001b[0m\u001b[0m\n\u001b[0m\u001b[1;32m    396\u001b[0m             \u001b[0mpeek\u001b[0m \u001b[0;34m=\u001b[0m \u001b[0mf\u001b[0m\u001b[0;34m.\u001b[0m\u001b[0mread\u001b[0m\u001b[0;34m(\u001b[0m\u001b[0mpeeksz\u001b[0m\u001b[0;34m)\u001b[0m\u001b[0;34m\u001b[0m\u001b[0m\n\u001b[1;32m    397\u001b[0m     \u001b[0;32mif\u001b[0m \u001b[0mpeek\u001b[0m \u001b[0;34m==\u001b[0m \u001b[0;34mb\"PK\\x03\\x04\"\u001b[0m\u001b[0;34m:\u001b[0m \u001b[0;31m# a ZIP file\u001b[0m\u001b[0;34m\u001b[0m\u001b[0m\n",
      "\u001b[0;31mIOError\u001b[0m: [Errno 2] No such file or directory: 'GenesExonsTargetedBySYN.xlsx'"
     ]
    }
   ],
   "source": [
    "bp_exon_row_meta_syn_with_gene = pd.read_excel(\"GenesExonsTargetedBySYN.xlsx\", index=False)\n",
    "bp_exon_row_meta_syn_with_gene = bp_exon_row_meta_syn_with_gene.replace(np.nan, '', regex=True)"
   ]
  },
  {
   "cell_type": "code",
   "execution_count": 99,
   "metadata": {},
   "outputs": [
    {
     "data": {
      "text/html": [
       "<div>\n",
       "<style>\n",
       "    .dataframe thead tr:only-child th {\n",
       "        text-align: right;\n",
       "    }\n",
       "\n",
       "    .dataframe thead th {\n",
       "        text-align: left;\n",
       "    }\n",
       "\n",
       "    .dataframe tbody tr th {\n",
       "        vertical-align: top;\n",
       "    }\n",
       "</style>\n",
       "<table border=\"1\" class=\"dataframe\">\n",
       "  <thead>\n",
       "    <tr style=\"text-align: right;\">\n",
       "      <th></th>\n",
       "      <th>row_num</th>\n",
       "      <th>gene_id</th>\n",
       "      <th>ensembl_gene_id</th>\n",
       "      <th>gene_symbol</th>\n",
       "      <th>entrez_id</th>\n",
       "      <th>start</th>\n",
       "      <th>end</th>\n",
       "      <th>exon length</th>\n",
       "      <th>cds length</th>\n",
       "      <th>NVIQ70</th>\n",
       "      <th>VIQ70</th>\n",
       "      <th>Gender</th>\n",
       "      <th>Func</th>\n",
       "      <th>Vars</th>\n",
       "      <th>GeneHited</th>\n",
       "      <th>Last</th>\n",
       "    </tr>\n",
       "  </thead>\n",
       "  <tbody>\n",
       "    <tr>\n",
       "      <th>0</th>\n",
       "      <td>137</td>\n",
       "      <td>1086873</td>\n",
       "      <td>ENSG00000001167</td>\n",
       "      <td>NFYA</td>\n",
       "      <td>4800</td>\n",
       "      <td>41040683</td>\n",
       "      <td>41040823</td>\n",
       "      <td>140</td>\n",
       "      <td>140</td>\n",
       "      <td></td>\n",
       "      <td></td>\n",
       "      <td></td>\n",
       "      <td></td>\n",
       "      <td></td>\n",
       "      <td>T</td>\n",
       "      <td>F</td>\n",
       "    </tr>\n",
       "    <tr>\n",
       "      <th>1</th>\n",
       "      <td>138</td>\n",
       "      <td>1086873</td>\n",
       "      <td>ENSG00000001167</td>\n",
       "      <td>NFYA</td>\n",
       "      <td>4800</td>\n",
       "      <td>41046767</td>\n",
       "      <td>41046903</td>\n",
       "      <td>136</td>\n",
       "      <td>75</td>\n",
       "      <td></td>\n",
       "      <td></td>\n",
       "      <td></td>\n",
       "      <td></td>\n",
       "      <td></td>\n",
       "      <td>T</td>\n",
       "      <td>F</td>\n",
       "    </tr>\n",
       "    <tr>\n",
       "      <th>2</th>\n",
       "      <td>139</td>\n",
       "      <td>1086873</td>\n",
       "      <td>ENSG00000001167</td>\n",
       "      <td>NFYA</td>\n",
       "      <td>4800</td>\n",
       "      <td>41048549</td>\n",
       "      <td>41048636</td>\n",
       "      <td>87</td>\n",
       "      <td>87</td>\n",
       "      <td></td>\n",
       "      <td></td>\n",
       "      <td></td>\n",
       "      <td></td>\n",
       "      <td></td>\n",
       "      <td>T</td>\n",
       "      <td>F</td>\n",
       "    </tr>\n",
       "    <tr>\n",
       "      <th>3</th>\n",
       "      <td>140</td>\n",
       "      <td>1086873</td>\n",
       "      <td>ENSG00000001167</td>\n",
       "      <td>NFYA</td>\n",
       "      <td>4800</td>\n",
       "      <td>41051784</td>\n",
       "      <td>41051931</td>\n",
       "      <td>147</td>\n",
       "      <td>147</td>\n",
       "      <td></td>\n",
       "      <td></td>\n",
       "      <td></td>\n",
       "      <td></td>\n",
       "      <td></td>\n",
       "      <td>T</td>\n",
       "      <td>F</td>\n",
       "    </tr>\n",
       "    <tr>\n",
       "      <th>4</th>\n",
       "      <td>141</td>\n",
       "      <td>1086873</td>\n",
       "      <td>ENSG00000001167</td>\n",
       "      <td>NFYA</td>\n",
       "      <td>4800</td>\n",
       "      <td>41057317</td>\n",
       "      <td>41057449</td>\n",
       "      <td>132</td>\n",
       "      <td>132</td>\n",
       "      <td></td>\n",
       "      <td></td>\n",
       "      <td></td>\n",
       "      <td></td>\n",
       "      <td></td>\n",
       "      <td>T</td>\n",
       "      <td>F</td>\n",
       "    </tr>\n",
       "  </tbody>\n",
       "</table>\n",
       "</div>"
      ],
      "text/plain": [
       "   row_num  gene_id  ensembl_gene_id gene_symbol entrez_id     start  \\\n",
       "0      137  1086873  ENSG00000001167        NFYA      4800  41040683   \n",
       "1      138  1086873  ENSG00000001167        NFYA      4800  41046767   \n",
       "2      139  1086873  ENSG00000001167        NFYA      4800  41048549   \n",
       "3      140  1086873  ENSG00000001167        NFYA      4800  41051784   \n",
       "4      141  1086873  ENSG00000001167        NFYA      4800  41057317   \n",
       "\n",
       "        end  exon length  cds length NVIQ70 VIQ70 Gender Func Vars GeneHited  \\\n",
       "0  41040823          140         140                                       T   \n",
       "1  41046903          136          75                                       T   \n",
       "2  41048636           87          87                                       T   \n",
       "3  41051931          147         147                                       T   \n",
       "4  41057449          132         132                                       T   \n",
       "\n",
       "  Last  \n",
       "0    F  \n",
       "1    F  \n",
       "2    F  \n",
       "3    F  \n",
       "4    F  "
      ]
     },
     "execution_count": 99,
     "metadata": {},
     "output_type": "execute_result"
    }
   ],
   "source": [
    "bp_exon_row_meta_syn_with_gene.head()"
   ]
  },
  {
   "cell_type": "code",
   "execution_count": 66,
   "metadata": {
    "collapsed": true
   },
   "outputs": [],
   "source": [
    "ins = BrainSpan()"
   ]
  },
  {
   "cell_type": "code",
   "execution_count": 100,
   "metadata": {},
   "outputs": [
    {
     "name": "stdout",
     "output_type": "stream",
     "text": [
      "Total Num of Genes: 593\n"
     ]
    }
   ],
   "source": [
    "Genes = list(set(bp_exon_row_meta_syn_with_gene[\"gene_symbol\"].values))\n",
    "ins.LoadGeneSetData2Fil(\"qn.ProbandSYN.Regionsgt20.GeneExonLog2Exp.csv\", \n",
    "                        Genes, Regionsgt20, bp_exon_row_meta_syn_with_gene, bp_exon_col_meta, ExonExp)"
   ]
  },
  {
   "cell_type": "code",
   "execution_count": 101,
   "metadata": {},
   "outputs": [
    {
     "name": "stdout",
     "output_type": "stream",
     "text": [
      "Total Num of Genes: 1436\n"
     ]
    }
   ],
   "source": [
    "bp_exon_row_meta_mis_with_gene = pd.read_excel(\"GenesExonsTargetedByMIS.xlsx\", index=False)\n",
    "bp_exon_row_meta_mis_with_gene = bp_exon_row_meta_mis_with_gene.replace(np.nan, '', regex=True)\n",
    "Genes = list(set(bp_exon_row_meta_mis_with_gene[\"gene_symbol\"].values))\n",
    "ins.LoadGeneSetData2Fil(\"qn.ProbandMIS.Regionsgt20.GeneExonLog2Exp.csv\", \n",
    "                        Genes, Regionsgt20, bp_exon_row_meta_mis_with_gene, bp_exon_col_meta, ExonExp)"
   ]
  },
  {
   "cell_type": "code",
   "execution_count": 102,
   "metadata": {},
   "outputs": [
    {
     "name": "stdout",
     "output_type": "stream",
     "text": [
      "Total Num of Genes: 452\n"
     ]
    }
   ],
   "source": [
    "bp_exon_row_meta_sibsyn_with_gene = pd.read_excel(\"GenesExonsTargetedBySibSYN.xlsx\", index=False)\n",
    "bp_exon_row_meta_sibsyn_with_gene = bp_exon_row_meta_sibsyn_with_gene.replace(np.nan, '', regex=True)\n",
    "Genes = list(set(bp_exon_row_meta_sibsyn_with_gene[\"gene_symbol\"].values))\n",
    "ins.LoadGeneSetData2Fil(\"qn.SiblingSYN.Regionsgt20.GeneExonLog2Exp.csv\", \n",
    "                        Genes, Regionsgt20, bp_exon_row_meta_sibsyn_with_gene, bp_exon_col_meta, ExonExp)"
   ]
  },
  {
   "cell_type": "code",
   "execution_count": 104,
   "metadata": {},
   "outputs": [
    {
     "name": "stdout",
     "output_type": "stream",
     "text": [
      "Total Num of Genes: 176\n"
     ]
    }
   ],
   "source": [
    "bp_exon_row_meta_siblgd_with_gene = pd.read_excel(\"GenesExonsTargetedBySibLGD.xlsx\", index=False)\n",
    "bp_exon_row_meta_siblgd_with_gene = bp_exon_row_meta_siblgd_with_gene.replace(np.nan, '', regex=True)\n",
    "Genes = list(set(bp_exon_row_meta_siblgd_with_gene[\"gene_symbol\"].values))\n",
    "ins.LoadGeneSetData2Fil(\"qn.SinglingLGD.Regionsgt20.GeneExonLog2Exp.csv\", \n",
    "                        Genes, Regionsgt20, bp_exon_row_meta_siblgd_with_gene, bp_exon_col_meta, ExonExp)"
   ]
  },
  {
   "cell_type": "code",
   "execution_count": null,
   "metadata": {},
   "outputs": [],
   "source": []
  },
  {
   "cell_type": "code",
   "execution_count": 309,
   "metadata": {},
   "outputs": [
    {
     "name": "stdout",
     "output_type": "stream",
     "text": [
      "98\n",
      "Total Num of Genes: 98\n"
     ]
    },
    {
     "name": "stderr",
     "output_type": "stream",
     "text": [
      "/Users/jiayao/Work/BrainDisorders/src/utils.py:1446: FutureWarning: get_value is deprecated and will be removed in a future release. Please use .at[] or .iat[] accessors instead\n",
      "  exp = Matrix.get_value(ExonID-1, col)\n"
     ]
    }
   ],
   "source": [
    "#bp_exon_row_meta_lgdpre_with_gene = pd.read_excel(\"GenesExonsTargetedByLGD_SCZ_predicted.xlsx\", index=False)\n",
    "#bp_exon_row_meta_lgdpre_with_gene = bp_exon_row_meta_lgdpre_with_gene.replace(np.nan, '', regex=True)\n",
    "#Genes = list(set(bp_exon_row_meta_lgdpre_with_gene[\"gene_symbol\"].values))\n",
    "bp_exon_row_meta_lgdpre_with_gene = pd.read_excel(\"./data/ProLGD_wilger2014_predicted.July20.xlsx\")\n",
    "#bp_exon_row_meta_lgdpre_with_gene = bp_exon_row_meta_lgdpre_with_gene.replace(np.nan, '', regex=True)\n",
    "Genes = list(set(bp_exon_row_meta_lgdpre_with_gene[\"effectGene\"].values))\n",
    "print(len(Genes))\n",
    "ins.LoadGeneSetData2Fil(\"qn.ProbandLGD_PRE.Regionsgt20.98Genes.GeneExonLog2Exp.csv\", \n",
    "                        Genes, Regionsgt20, bp_exon_row_meta, bp_exon_col_meta, qnExonExp)"
   ]
  },
  {
   "cell_type": "code",
   "execution_count": null,
   "metadata": {},
   "outputs": [],
   "source": []
  },
  {
   "cell_type": "code",
   "execution_count": 106,
   "metadata": {},
   "outputs": [
    {
     "name": "stdout",
     "output_type": "stream",
     "text": [
      "Total Num of Genes: 553\n"
     ]
    }
   ],
   "source": [
    "bp_exon_row_meta_scz_with_gene = pd.read_excel(\"GenesExonsTargetedByLGD_SCZ.xlsx\", index=False)\n",
    "bp_exon_row_meta_scz_with_gene = bp_exon_row_meta_scz_with_gene.replace(np.nan, '', regex=True)\n",
    "Genes = list(set(bp_exon_row_meta_scz_with_gene[\"gene_symbol\"].values))\n",
    "ins.LoadGeneSetData2Fil(\"qn.SCZ.Regionsgt20.GeneExonLog2Exp.csv\", \n",
    "                        Genes, Regionsgt20, bp_exon_row_meta_scz_with_gene, bp_exon_col_meta, ExonExp)"
   ]
  },
  {
   "cell_type": "markdown",
   "metadata": {
    "collapsed": true
   },
   "source": [
    "# Get bed file of genomics regions associated with Austism"
   ]
  },
  {
   "cell_type": "code",
   "execution_count": 118,
   "metadata": {},
   "outputs": [
    {
     "name": "stdout",
     "output_type": "stream",
     "text": [
      "set([u'HECTD1', u'PCSK2', u'CASP8AP2', u'TNRC6B', u'L1CAM', u'GOLGA5', u'DYRK1A', u'CUL3', u'JAKMIP1', u'SLC25A6', u'IRF2BPL', u'ATP1B1', u'NMT1', u'UBR5', u'ARID1B', u'NRXN1', u'TERF2', u'WNT7B', u'FOXP1', u'ADNP', u'ELAVL2', u'PHF21A', u'KAT2B', u'ARHGAP5', u'NCKAP1', u'SPEN', u'CHD2', u'UBAP2L', u'CHD8', u'TNRC18', u'NBEA', u'CDC42BPB', u'KATNAL2', u'PAX5', u'SYNGAP1', u'MED13L', u'WDFY3', u'MBD5', u'PHF2', u'PHF3', u'DSCAML1', u'SRCAP', u'GIGYF2', u'ZFHX3', u'CSMD2', u'CBX4', u'NEDD9', u'THSD7A', u'MSL2', u'KDM6B', u'DOT1L', u'PDCD1', u'ASH1L', u'LARP4B', u'WAC', u'TBR1', u'DLL1', u'BTAF1', u'XKR6', u'EIF2AK2', u'ATP1A1', u'CIC', u'DIP2A', u'BCL11A', u'CTNNB1', u'ZMYND11', u'DSCAM', u'UBN2', u'SPTBN1', u'ANKRD11', u'POGZ', u'LTN1', u'AHDC1', u'RAI1', u'SCN2A', u'MED13', u'CNOT3', u'NACC1', u'INTS6', u'TANC2', u'VCP', u'SUFU', u'TRIP12', u'SHANK2', u'NFIB', u'NFIA', u'SPAST', u'NOTCH1', u'C11orf24', u'GRIN2B', u'ANK2', u'MAP3K14', u'KAT6A', u'ILF2']) 94\n"
     ]
    }
   ],
   "source": [
    "bp_exon_row_meta_lgd_with_gene = pd.read_excel(\"./data/GenesExonsTargetedByLGD_wilger2014_predicted.xlsx\", index=False)\n",
    "bp_exon_row_meta_lgd_with_gene = bp_exon_row_meta_lgd_with_gene.replace(np.nan, '', regex=True)\n",
    "bp_exon_row_meta_lgd_with_gene.head(20)\n",
    "Genes = set(bp_exon_row_meta_lgd_with_gene[\"gene_symbol\"])\n",
    "print Genes, len(Genes)"
   ]
  },
  {
   "cell_type": "code",
   "execution_count": 118,
   "metadata": {
    "collapsed": true
   },
   "outputs": [],
   "source": [
    "GenCodeV10Fil = \"/Users/jiayao/Work/Resources/gencode.v10.annotation.gtf\"\n",
    "Fout = \"ASD.Genes.raw.bed\"\n",
    "writer = csv.writer(open(Fout, 'wb'), delimiter=\"\\t\")\n",
    "for l in open(GenCodeV10Fil):\n",
    "    if l.startswith(\"#\"):\n",
    "        continue\n",
    "    llist = l.strip().split(\"\\t\")  \n",
    "    info = llist[8].split(\";\")\n",
    "    gene = info[4].split()[-1].strip('\"')\n",
    "    if gene in Genes:\n",
    "        Chr, start, end = llist[0].strip(\"Chr\"), llist[3], llist[4]\n",
    "        writer.writerow([Chr, start, end, gene])"
   ]
  },
  {
   "cell_type": "markdown",
   "metadata": {},
   "source": [
    "# Extract neurotypical individuals LGD variants from gnomAD"
   ]
  },
  {
   "cell_type": "code",
   "execution_count": 4,
   "metadata": {},
   "outputs": [
    {
     "name": "stdout",
     "output_type": "stream",
     "text": [
      "['Allele', 'Consequence', 'IMPACT', 'SYMBOL', 'Gene', 'Feature_type', 'Feature', 'BIOTYPE', 'EXON', 'INTRON', 'HGVSc', 'HGVSp', 'cDNA_position', 'CDS_position', 'Protein_position', 'Amino_acids', 'Codons', 'Existing_variation', 'ALLELE_NUM', 'DISTANCE', 'STRAND', 'FLAGS', 'VARIANT_CLASS', 'MINIMISED', 'SYMBOL_SOURCE', 'HGNC_ID', 'CANONICAL', 'TSL', 'APPRIS', 'CCDS', 'ENSP', 'SWISSPROT', 'TREMBL', 'UNIPARC', 'GENE_PHENO', 'SIFT', 'PolyPhen', 'DOMAINS', 'HGVS_OFFSET', 'GMAF', 'AFR_MAF', 'AMR_MAF', 'EAS_MAF', 'EUR_MAF', 'SAS_MAF', 'AA_MAF', 'EA_MAF', 'ExAC_MAF', 'ExAC_Adj_MAF', 'ExAC_AFR_MAF', 'ExAC_AMR_MAF', 'ExAC_EAS_MAF', 'ExAC_FIN_MAF', 'ExAC_NFE_MAF', 'ExAC_OTH_MAF', 'ExAC_SAS_MAF', 'CLIN_SIG', 'SOMATIC', 'PHENO', 'PUBMED', 'MOTIF_NAME', 'MOTIF_POS', 'HIGH_INF_POS', 'MOTIF_SCORE_CHANGE', 'LoF', 'LoF_filter', 'LoF_flags', 'LoF_info']\n"
     ]
    }
   ],
   "source": [
    "CSQ_FMT = 'Allele|Consequence|IMPACT|SYMBOL|Gene|Feature_type|Feature|BIOTYPE|EXON|INTRON|HGVSc|HGVSp|cDNA_position|CDS_position|Protein_position|Amino_acids|Codons|Existing_variation|ALLELE_NUM|DISTANCE|STRAND|FLAGS|VARIANT_CLASS|MINIMISED|SYMBOL_SOURCE|HGNC_ID|CANONICAL|TSL|APPRIS|CCDS|ENSP|SWISSPROT|TREMBL|UNIPARC|GENE_PHENO|SIFT|PolyPhen|DOMAINS|HGVS_OFFSET|GMAF|AFR_MAF|AMR_MAF|EAS_MAF|EUR_MAF|SAS_MAF|AA_MAF|EA_MAF|ExAC_MAF|ExAC_Adj_MAF|ExAC_AFR_MAF|ExAC_AMR_MAF|ExAC_EAS_MAF|ExAC_FIN_MAF|ExAC_NFE_MAF|ExAC_OTH_MAF|ExAC_SAS_MAF|CLIN_SIG|SOMATIC|PHENO|PUBMED|MOTIF_NAME|MOTIF_POS|HIGH_INF_POS|MOTIF_SCORE_CHANGE|LoF|LoF_filter|LoF_flags|LoF_info'\n",
    "CSQ_FMT = CSQ_FMT.split(\"|\")\n",
    "print CSQ_FMT\n",
    "def getINFO(info_string):\n",
    "    infolist = info_string.split(';')\n",
    "    infodict = {}\n",
    "    for kv in infolist:\n",
    "        kv = kv.split('=')\n",
    "        if len(kv) == 2:\n",
    "            k, v = kv\n",
    "            if k in infodict:\n",
    "                infodict[k].append(v) \n",
    "            else:\n",
    "                infodict[k] = [v]\n",
    "    return infodict\n",
    "def searchCANONICAL(CSQLIST):\n",
    "    for csq in CSQLIST:\n",
    "        csq = csq.split(\"|\")\n",
    "        CSQ = dict(zip(CSQ_FMT, csq))\n",
    "        if CSQ[\"CANONICAL\"] == \"YES\":\n",
    "            #return csq\n",
    "            return \"YES\"\n",
    "    return None\n",
    "def displayCSQ(head, _dict):\n",
    "    for item in head:\n",
    "        print \"{}:{}\\t\".format(item, _dict[item]),"
   ]
  },
  {
   "cell_type": "code",
   "execution_count": 5,
   "metadata": {},
   "outputs": [
    {
     "name": "stdout",
     "output_type": "stream",
     "text": [
      "set(['stopgain', 'frameshift_insertion', 'stoploss', 'frameshift_deletion'])\n"
     ]
    }
   ],
   "source": [
    "LGD_class = set([\"stoploss\", \"stopgain\", \"frameshift_insertion\", \"frameshift_deletion\"])\n",
    "print LGD_class"
   ]
  },
  {
   "cell_type": "code",
   "execution_count": 23,
   "metadata": {},
   "outputs": [],
   "source": [
    "import gzip\n",
    "gnomad_file = \"../data/gnomad.exomes.ASD.genes.vcf.gz\"\n",
    "hand = gzip.open(gnomad_file, 'rb')\n",
    "outfil = csv.writer(open(\"benigh.tsv\", 'wb'), delimiter=\"\\t\")\n",
    "fout2 = open(\"benign.vcf\", 'wb')\n",
    "#outfil.writerow(head)\n",
    "for l in hand:\n",
    "    if l.startswith(\"#\"):\n",
    "        fout2.write(l)\n",
    "        continue\n",
    "    llist = l.strip().split(\"\\t\")\n",
    "    if llist[6] != \"PASS\":\n",
    "        continue\n",
    "    Chr, Pos, ID, ref, alts = llist[0:5]\n",
    "    INFO_string = llist[7]\n",
    "    info_dict = getINFO(INFO_string)\n",
    "    for i,alt in enumerate(alts.split(',')):\n",
    "        #if info_dict[\"AC_Female\"] == 0:\n",
    "        #    continue\n",
    "        exoincfunc = info_dict[\"ExonicFunc.refGene\"][i]\n",
    "        AF = info_dict[\"gnomAD_exome_ALL\"][i]\n",
    "        Gene = info_dict[\"Gene.refGene\"][i]\n",
    "        AC_male = info_dict[\"AC_Male\"][0].split(\",\")[i]\n",
    "        AC_female = info_dict[\"AC_Female\"][0].split(\",\")[i]\n",
    "        if exoincfunc in LGD_class:\n",
    "            outfil.writerow([Chr, Pos, ref, alt, Gene, exoincfunc, AF, AC_male, AC_female])\n",
    "            fout2.write(l)\n",
    "        else:\n",
    "            continue"
   ]
  },
  {
   "cell_type": "code",
   "execution_count": 146,
   "metadata": {},
   "outputs": [
    {
     "name": "stdout",
     "output_type": "stream",
     "text": [
      "set(['stopgain', 'frameshift_insertion', 'stoploss', 'frameshift_deletion'])\n"
     ]
    }
   ],
   "source": [
    "print LGD_class #AC_Male AC_Female"
   ]
  },
  {
   "cell_type": "code",
   "execution_count": 24,
   "metadata": {
    "collapsed": true
   },
   "outputs": [],
   "source": [
    "outfil = pd.read_csv(\"benigh.tsv\",  delimiter=\"\\t\")"
   ]
  },
  {
   "cell_type": "code",
   "execution_count": 29,
   "metadata": {},
   "outputs": [
    {
     "name": "stdout",
     "output_type": "stream",
     "text": [
      "(1160, 9)\n"
     ]
    }
   ],
   "source": [
    "T1 = outfil[outfil[\"AF\"]!=0]\n",
    "print T1.shape"
   ]
  },
  {
   "cell_type": "code",
   "execution_count": 30,
   "metadata": {},
   "outputs": [
    {
     "name": "stdout",
     "output_type": "stream",
     "text": [
      "(684, 9) (580, 9)\n"
     ]
    }
   ],
   "source": [
    "T2 = T1[T1[\"AC_Male\"]!=0]\n",
    "T3 = T1[T1[\"AC_Female\"]!=0]\n",
    "print T2.shape, T3.shape"
   ]
  },
  {
   "cell_type": "code",
   "execution_count": 34,
   "metadata": {},
   "outputs": [],
   "source": [
    "T1.to_csv(\"../data/benign.all.tsv\", index=False, sep=\"\\t\")\n",
    "T2.to_csv(\"../data/benign.male.tsv\", index=False, sep=\"\\t\")\n",
    "T3.to_csv(\"../data/benign.female.tsv\", index=False, sep=\"\\t\")"
   ]
  },
  {
   "cell_type": "code",
   "execution_count": 56,
   "metadata": {
    "collapsed": true
   },
   "outputs": [],
   "source": [
    "import gzip\n",
    "gnomad_file = \"../data/ExAC.r0.3.nonpsych.ASD.genes.vcf.hg19_multianno.vcf.gz\"\n",
    "hand = gzip.open(gnomad_file, 'rb')\n",
    "outfil = csv.writer(open(\"../data/benign.AC1.nonssych.tsv\", 'wb'), delimiter=\"\\t\")\n",
    "outfil.writerow([\"#Chr\",\"Pos\",\"Ref\",\"Alt\",\"Gene\",\"Consequence\",\"AF\", \"AC\"])\n",
    "for l in hand:\n",
    "    if l.startswith(\"#\"):\n",
    "        fout2.write(l)\n",
    "        continue\n",
    "    llist = l.strip().split(\"\\t\")\n",
    "    if llist[6] != \"PASS\":\n",
    "        continue\n",
    "    Chr, Pos, ID, ref, alts = llist[0:5]\n",
    "    INFO_string = llist[7]\n",
    "    info_dict = getINFO(INFO_string)\n",
    "    for i,alt in enumerate(alts.split(',')):\n",
    "        #if info_dict[\"AC_Female\"] == 0:\n",
    "        #    continue\n",
    "        exoincfunc = info_dict[\"ExonicFunc.refGene\"][i]\n",
    "        AF = info_dict[\"gnomAD_exome_ALL\"][i]\n",
    "        Gene = info_dict[\"Gene.refGene\"][i]\n",
    "        AC = info_dict[\"AC\"][0].split(\",\")[i]\n",
    "        if int(AC) != 1:\n",
    "            continue\n",
    "        #AC_male = info_dict[\"AC_Male\"][0].split(\",\")[i]\n",
    "        #AC_female = info_dict[\"AC_Female\"][0].split(\",\")[i]\n",
    "        if exoincfunc in LGD_class:\n",
    "            outfil.writerow([Chr, Pos, ref, alt, Gene, exoincfunc, AF, AC])\n",
    "        else:\n",
    "            continue"
   ]
  },
  {
   "cell_type": "code",
   "execution_count": 120,
   "metadata": {},
   "outputs": [
    {
     "name": "stdout",
     "output_type": "stream",
     "text": [
      "set([u'HECTD1', u'PCSK2', u'CASP8AP2', u'TNRC6B', u'L1CAM', u'GOLGA5', u'DYRK1A', u'CUL3', u'JAKMIP1', u'SLC25A6', u'IRF2BPL', u'ATP1B1', u'NMT1', u'UBR5', u'ARID1B', u'NRXN1', u'TERF2', u'WNT7B', u'FOXP1', u'ADNP', u'ELAVL2', u'PHF21A', u'KAT2B', u'ARHGAP5', u'NCKAP1', u'SPEN', u'CHD2', u'UBAP2L', u'CHD8', u'TNRC18', u'NBEA', u'CDC42BPB', u'KATNAL2', u'PAX5', u'SYNGAP1', u'MED13L', u'WDFY3', u'MBD5', u'PHF2', u'PHF3', u'DSCAML1', u'SRCAP', u'GIGYF2', u'ZFHX3', u'CSMD2', u'CBX4', u'NEDD9', u'THSD7A', u'MSL2', u'KDM6B', u'DOT1L', u'PDCD1', u'ASH1L', u'LARP4B', u'WAC', u'TBR1', u'DLL1', u'BTAF1', u'XKR6', u'EIF2AK2', u'ATP1A1', u'CIC', u'DIP2A', u'BCL11A', u'CTNNB1', u'ZMYND11', u'DSCAM', u'UBN2', u'SPTBN1', u'ANKRD11', u'POGZ', u'LTN1', u'AHDC1', u'RAI1', u'SCN2A', u'MED13', u'CNOT3', u'NACC1', u'INTS6', u'TANC2', u'VCP', u'SUFU', u'TRIP12', u'SHANK2', u'NFIB', u'NFIA', u'SPAST', u'NOTCH1', u'C11orf24', u'GRIN2B', u'ANK2', u'MAP3K14', u'KAT6A', u'ILF2']) 94\n"
     ]
    }
   ],
   "source": [
    "print Genes, len(Genes)"
   ]
  },
  {
   "cell_type": "code",
   "execution_count": 123,
   "metadata": {},
   "outputs": [],
   "source": [
    "def parseMC(MC):\n",
    "    return MC.split(\"|\")[1].split(\",\")[0].split(\",\")[0]\n",
    "def parseGENEINFO(GENEINFO):\n",
    "    return GENEINFO.split(\":\")[0]\n",
    "#predicted_genes = set([x.strip() for x in file()])\n",
    "gnomad_file = \"../data/clinvar_20190108.vcf\"\n",
    "hand = open(gnomad_file, 'rb')\n",
    "outfil = csv.writer(open(\"../data/clinvar.predicted.genes.tsv\", 'wb'), delimiter=\"\\t\")\n",
    "outfil.writerow([\"#Chr\",\"Pos\",\"Ref\",\"Alt\",\"Gene\",\"Consequence\",\"AF\", \"CLNSIG\", \"CLNDN\"])\n",
    "for l in hand:\n",
    "    if l.startswith(\"#\"):\n",
    "        fout2.write(l)\n",
    "        continue\n",
    "    llist = l.strip().split(\"\\t\")\n",
    "\n",
    "    Chr, Pos, ID, ref, alts = llist[0:5]\n",
    "    INFO_string = llist[7]\n",
    "    info_dict = getINFO(INFO_string)\n",
    "    for i,alt in enumerate(alts.split(',')):\n",
    "        #if info_dict[\"AC_Female\"] == 0:\n",
    "        #    continue\n",
    "        try:\n",
    "            exoincfunc = parseMC(info_dict[\"MC\"][i])\n",
    "        except:\n",
    "            exoincfunc = \".\"\n",
    "        try:\n",
    "            AF = info_dict[\"AF_EXAC\"][i]\n",
    "        except:\n",
    "            AF = '0'\n",
    "        try:\n",
    "            Gene = parseGENEINFO(info_dict[\"GENEINFO\"][i])\n",
    "        except:\n",
    "            Gene = \".\"\n",
    "        if Gene not in Genes:\n",
    "            continue\n",
    "        try:\n",
    "            CLNSIG = info_dict[\"CLNSIG\"][i]\n",
    "        except:\n",
    "            CLNSIG = '.'\n",
    "        try:\n",
    "            CLNDN = info_dict[\"CLNDN\"][i]\n",
    "        except:\n",
    "            CLNDN = \".\"\n",
    "\n",
    "        #if exoincfunc in LGD_class:\n",
    "        #    outfil.writerow([Chr, Pos, ref, alt, Gene, exoincfunc, AF, AC])\n",
    "        #else:\n",
    "        #    continue\n",
    "        outfil.writerow([Chr, Pos, ref, alt, Gene, exoincfunc, AF, CLNSIG, CLNDN])"
   ]
  },
  {
   "cell_type": "code",
   "execution_count": 134,
   "metadata": {},
   "outputs": [
    {
     "name": "stdout",
     "output_type": "stream",
     "text": [
      "(672, 9)\n"
     ]
    },
    {
     "name": "stderr",
     "output_type": "stream",
     "text": [
      "/Users/jiayao/anaconda2/lib/python2.7/site-packages/ipykernel/__main__.py:4: UserWarning: Boolean Series key will be reindexed to match DataFrame index.\n"
     ]
    }
   ],
   "source": [
    "df = pd.read_csv(\"../data/clinvar.predicted.genes.tsv\", sep=\"\\t\")\n",
    "clinvar_lgd = set([\"frameshift_variant\", \"nonsense\", \"splice_acceptor_variant\", \"splice_donor_variant\"])\n",
    "df1 = df[(df[\"Consequence\"].isin(clinvar_lgd)) & (df[\"CLNSIG\"].isin([\"Pathogenic\", \"Likely_pathogenic\"]))]\n",
    "df1 = df1[df[\"CLNDN\"]!=\"not_provided\"]\n",
    "print df1.shape\n",
    "df1.to_csv(\"../data/DenovoVariants/clinvar.predicted.path.lgd.tsv\", index=False, sep=\"\\t\")"
   ]
  },
  {
   "cell_type": "code",
   "execution_count": 133,
   "metadata": {},
   "outputs": [
    {
     "name": "stdout",
     "output_type": "stream",
     "text": [
      "(8, 9)\n"
     ]
    }
   ],
   "source": [
    "df = pd.read_csv(\"../data/clinvar.predicted.genes.tsv\", sep=\"\\t\")\n",
    "clinvar_lgd = set([\"frameshift_variant\", \"nonsense\", \"splice_acceptor_variant\", \"splice_donor_variant\"])\n",
    "df1 = df[(df[\"Consequence\"].isin(clinvar_lgd)) & (df[\"CLNSIG\"].isin([\"Benign\", \"Likely_benign\", \"Benign/Likely_benign\"]))]\n",
    "#df1 = df1[df[\"CLNDN\"]==\"not_provided\"]\n",
    "print df1.shape\n",
    "df1.to_csv(\"../data/DenovoVariants/clinvar.predicted.benign.lgd.tsv\", index=False, sep=\"\\t\")"
   ]
  },
  {
   "cell_type": "code",
   "execution_count": 135,
   "metadata": {
    "scrolled": false
   },
   "outputs": [
    {
     "name": "stdout",
     "output_type": "stream",
     "text": [
      "set(['Seizures', 'IRF2BPL-related_condition', 'Hydrocephalus_due_to_aqueductal_stenosis', 'Neurodevelopmental_disorder', 'Hydrocephalus,_X-linked,_with_hirschsprung_disease', 'KBG_syndrome', 'White-sutton_syndrome', 'Wide_mouth', 'Inborn_genetic_diseases', 'Autism_17', 'Early_infantile_epileptic_encephalopathy_11', 'Mental_retardation,_autosomal_dominant_5', 'Helsmoortel-van_der_aa_syndrome', 'NEURODEVELOPMENTAL_DISORDER_WITH_REGRESSION,_ABNORMAL_MOVEMENTS,_LOSS_OF_SPEECH,_AND_SEIZURES', 'Adams-Oliver_syndrome_5', 'Medulloblastoma_with_extensive_nodularity', 'Autism_spectrum_disorder', 'Desanto-shinawi_syndrome', 'Heart,_malformation_of', 'Macrocephalus', 'Pseudohypoaldosteronism,_type_2', 'Benign_familial_neonatal-infantile_seizures', 'Abdominal_obesity-metabolic_syndrome_3', 'Delayed_speech_and_language_development', 'Mental_retardation,_autosomal_dominant_7', 'intellectual_deficiency', 'Hearing_impairment', 'MENTAL_RETARDATION,_AUTOSOMAL_DOMINANT_52', 'Vesicoureteral_reflux', 'Thick_lower_lip_vermilion', 'Autism,_severe', 'Intellectual_disability', 'Transposition_of_the_great_arteries,_dextro-looped_1', 'Behavioral_abnormality', 'Microcephaly', 'Mental_retardation_and_distinctive_facial_features_with_or_without_cardiac_defects', 'Cerebral_visual_impairment_and_intellectual_disability', 'Abnormality_of_the_dentition', 'Autistic_disorder_of_childhood_onset', 'Epileptic_encephalopathy,_early_infantile,_27', 'Aortic_valve_disorder', 'Autism,_susceptibility_to,_18', 'Cleft_palate', 'Coffin-Siris_syndrome_1', 'Hypertrichosis', 'Hydrocephalus,_X-linked,_with_congenital_idiopathic_intestinal_pseudoobstruction', 'Moderate_intellectual_deficiency', 'Cerebellar_ataxia', 'Mental_retardation,_autosomal_dominant_19', 'Torticollis', 'Autism_Spectrum_Disorder_with_Intellectual_Disability', 'Cryptorchidism', 'Epileptic_encephalopathy,_childhood-onset', 'Leber_congenital_amaurosis_16', 'Adenoid_cystic_carcinoma', 'Medulloblastoma', 'Exudative_vitreoretinopathy_1', 'TRIP12_associated_autism_with_facial_dysmorphology', 'Spastic_paraplegia_4,_autosomal_dominant', 'Mental_retardation,_autosomal_dominant_6', 'Mental_retardation,_autosomal_dominant_1', 'History_of_neurodevelopmental_disorder', 'Floating-Harbor_syndrome', 'Smith-Magenis_syndrome', 'Xia-Gibbs_syndrome', 'MENTAL_RETARDATION,_AUTOSOMAL_DOMINANT_49', 'Coffin-Siris_syndrome', 'Severe_global_developmental_delay', 'Spastic_paraplegia', 'Gorlin_syndrome', 'Pitt-Hopkins-like_syndrome_2', 'MENTAL_RETARDATION,_AUTOSOMAL_DOMINANT_45', 'Coffin_Siris/Intellectual_Disability', 'Autistic_behavior', 'X-linked_hydrocephalus_syndrome', 'Mental_retardation_with_language_impairment_and_with_or_without_autistic_features', 'Nicolaides-Baraitser_syndrome', 'Spastic_paraplegia_1', 'Mental_retardation,_autosomal_dominant_30', 'Mental_retardation,_autosomal_dominant_32', 'Brain_malformations_and_urinary_tract_defects', 'Intellectual_developmental_disorder_with_persistence_of_fetal_hemoglobin', 'Mental_retardation,_autosomal_dominant'])\n"
     ]
    }
   ],
   "source": [
    "print set([x.split(\"|\")[0] for x in df1[\"CLNDN\"].values])"
   ]
  },
  {
   "cell_type": "code",
   "execution_count": 100,
   "metadata": {},
   "outputs": [],
   "source": [
    "df = pd.read_excel(\"/Users/jiayao/Work/BrainDisorders/data/DenovoVariants/denovodb.schizophrenia.xlsx\")\n",
    "df = df.drop_duplicates([\"#SampleID\",\"Chr\",\"Position\"])\n",
    "df.to_csv(\"/Users/jiayao/Work/BrainDisorders/data/DenovoVariants/denovodb.schizophrenia.dedup.tsv\", sep=\"\\t\")"
   ]
  },
  {
   "cell_type": "code",
   "execution_count": 101,
   "metadata": {},
   "outputs": [
    {
     "data": {
      "text/plain": [
       "(596, 31)"
      ]
     },
     "execution_count": 101,
     "metadata": {},
     "output_type": "execute_result"
    }
   ],
   "source": [
    "df.shape"
   ]
  },
  {
   "cell_type": "code",
   "execution_count": 161,
   "metadata": {},
   "outputs": [
    {
     "name": "stdout",
     "output_type": "stream",
     "text": [
      "['83593', '9874', '91746', '9140', '5660', '4288', '1833', '55269', '3320', '259173', '3008', '7862', '3655', '83715', '9829', '27252', '83879', '316', '1951', '205717', '84343', '27284', '51663', '7915', '8294', '22999', '56479', '5649', '23303', '6713', '26147', '54932', '51703', '5140', '9415', '116985', '726', '55572', '3888', '56890', '79023', '57523', '87', '4308', '4350', '1327', '8943', '10994', '23152', '7052', '5116', '2033', '84061', '3667', '79142', '6002', '161', '84647', '124944', '8857', '28981', '1662', '821', '55748', '11200', '26586']\n",
      "['RASSF5', 'TLK1', 'YTHDC1', 'ATG12', 'PSAP', 'MKI67', 'EPYC', 'PSPC1', 'HSP90AA1', 'ALS2CL', 'HIST1H1E', 'BRPF1', 'ITGA6', 'ESPN', 'DNAJC6', 'KLHL20', 'CDCA7', 'AOX1', 'CELSR3', 'KIAA2018', 'HPS3', 'SULT1B1', 'ZFR', 'ALDH5A1', 'HIST1H4I', 'RIMS1', 'KCNQ5', 'RELN', 'KIF13B', 'SQLE', 'PHF19', 'EXD3', 'ACSL5', 'PDE3B', 'FADS2', 'ARAP1', 'CAPN5', 'FOXRED1', 'KRT82', 'MDM1', 'NUP37', 'NYNRIN', 'ACTN1', 'TRPM1', 'MPG', 'COX4I1', 'AP3D1', 'ILVBL', 'CIC', 'TGM2', 'PCNT', 'EP300', 'MAGT1', 'IRS1', 'PHF23', 'RGS12', 'AP2A2', 'PLA2G12B', 'C17orf49', 'FCGBP', 'IFT81', 'DDX10', 'CANX', 'CNDP2', 'CHEK2', 'CKAP2']\n"
     ]
    }
   ],
   "source": [
    "maps = pd.read_csv(\"/Users/jiayao/Work/BrainDisorders/data/expression/brainspan/gene_matrix/rows_metadata.csv\")\n",
    "maps = dict(zip(maps[\"entrez_id\"].values, maps[\"gene_symbol\"].values))\n",
    "scz_genes = [x.strip() for x in file(\"/Users/jiayao/Work/BrainDisorders/data/scz-predicted-wiglerlike.txt\")]\n",
    "print scz_genes\n",
    "scz_genes = [maps[int(x)] for x in scz_genes if int(x) in maps]\n",
    "print scz_genes"
   ]
  },
  {
   "cell_type": "code",
   "execution_count": 162,
   "metadata": {
    "collapsed": true
   },
   "outputs": [],
   "source": [
    "with open(\"/Users/jiayao/Work/BrainDisorders/data/scz-predicted-wiglerlike.genesymbol.txt\", 'wb') as f:\n",
    "    for gene in scz_genes:\n",
    "        f.write(gene+\"\\n\")"
   ]
  },
  {
   "cell_type": "code",
   "execution_count": 151,
   "metadata": {},
   "outputs": [],
   "source": [
    "df = pd.read_csv(\"/Users/jiayao/Work/BrainDisorders/data/DenovoVariants/denovo-db.non-ssc-samples.variants.tsv\", sep=\"\\t\")\n",
    "df = df[df[\"Gene\"].isin(Genes)]"
   ]
  },
  {
   "cell_type": "code",
   "execution_count": 150,
   "metadata": {},
   "outputs": [
    {
     "name": "stdout",
     "output_type": "stream",
     "text": [
      "(241, 31)\n"
     ]
    }
   ],
   "source": [
    "LGD = [   \"frameshift\", \"frameshift-near-splice\", \n",
    "          \"splice-acceptor\", \"splice-donor\",\n",
    "          \"start-lost\", \"stop-gained\", \"stop-gained-near-splice\", \"stop-lost\"]\n",
    "df = df[df[\"PrimaryPhenotype\"]!=\"autism\"]\n",
    "#df = df[df[\"PrimaryPhenotype\"]!=\"intellectualDisability\"]\n",
    "df = df[df[\"FunctionClass\"].isin(LGD)]\n",
    "df = df.drop_duplicates([\"#SampleID\",\"Chr\",\"Position\"])\n",
    "print df.shape\n",
    "df.to_csv(\"/Users/jiayao/Work/BrainDisorders/data/DenovoVariants/denovo-db.non-autism.predicted.genes.lgd.tsv\", index=\"False\", sep=\"\\t\")"
   ]
  },
  {
   "cell_type": "code",
   "execution_count": 152,
   "metadata": {},
   "outputs": [
    {
     "name": "stdout",
     "output_type": "stream",
     "text": [
      "(56, 31)\n"
     ]
    }
   ],
   "source": [
    "LGD = [   \"frameshift\", \"frameshift-near-splice\", \n",
    "          \"splice-acceptor\", \"splice-donor\",\n",
    "          \"start-lost\", \"stop-gained\", \"stop-gained-near-splice\", \"stop-lost\"]\n",
    "#df = df[df[\"PrimaryPhenotype\"]!=\"autism\"]\n",
    "df = df[df[\"PrimaryPhenotype\"]==\"intellectualDisability\"]\n",
    "df = df[df[\"FunctionClass\"].isin(LGD)]\n",
    "df = df.drop_duplicates([\"#SampleID\",\"Chr\",\"Position\"])\n",
    "print df.shape\n",
    "df.to_csv(\"/Users/jiayao/Work/BrainDisorders/data/DenovoVariants/denovo-db.ID.predicted.genes.lgd.tsv\", index=\"False\", sep=\"\\t\")"
   ]
  },
  {
   "cell_type": "code",
   "execution_count": 7,
   "metadata": {},
   "outputs": [
    {
     "name": "stdout",
     "output_type": "stream",
     "text": [
      "352\n"
     ]
    }
   ],
   "source": [
    "Variants = pd.read_excel(\"/Users/jiayao/Work/BrainDisorders/data/DenovoVariants/wigler2014ProLGD.xlsx\")\n",
    "Variants.loc[Variants[\"effectGene\"]==\"KMT2E\", \"effectGene\"] = \"MLL5\" \n",
    "LGDGenes = set(Variants[\"effectGene\"].values)\n",
    "print(len(LGDGenes))"
   ]
  },
  {
   "cell_type": "code",
   "execution_count": 10,
   "metadata": {},
   "outputs": [
    {
     "data": {
      "text/plain": [
       "True"
      ]
     },
     "execution_count": 10,
     "metadata": {},
     "output_type": "execute_result"
    }
   ],
   "source": [
    "\"MLL5\" in LGDGenes"
   ]
  },
  {
   "cell_type": "code",
   "execution_count": 8,
   "metadata": {},
   "outputs": [],
   "source": [
    "qn_gene_exp = pd.read_csv(\n",
    "    \"/Users/jiayao/Work/BrainDisorders/data/expression/brainspan/gene_matrix/qn.expression_matrix.csv\", \n",
    "    header=None, names=[x if x>0 else \"index\" for x in range(525)])\n",
    "gene_exp_col = pd.read_csv(\n",
    "    \"/Users/jiayao/Work/BrainDisorders/data/expression/brainspan/gene_matrix/columns_metadata.csv\")\n",
    "gene_exp_row = pd.read_csv(\n",
    "    \"/Users/jiayao/Work/BrainDisorders/data/expression/brainspan/gene_matrix/rows_metadata.csv\")\n",
    "gene_exp_row_recgenes = gene_exp_row[gene_exp_row[\"gene_symbol\"].isin(LGDGenes)]\n",
    "qn_gene_exp_recgenes = qn_gene_exp[qn_gene_exp[\"index\"].isin(gene_exp_row_recgenes[\"row_num\"].values)]\n",
    "qn_gene_exp_recgenes.to_csv(\"unifiedmodel/LGDGenes_exp_matrix.csv\", index=False)"
   ]
  },
  {
   "cell_type": "code",
   "execution_count": 9,
   "metadata": {},
   "outputs": [],
   "source": [
    "qn_exon_exp = pd.read_csv(\n",
    "    \"/Users/jiayao/Work/BrainDisorders/data/expression/brainspan/exons_matrix/qn_exons_matrix.csv\", \n",
    "    header=None, names=[x if x>0 else \"index\" for x in range(525)])\n",
    "exon_exp_col = pd.read_csv(\n",
    "    \"/Users/jiayao/Work/BrainDisorders/data/expression/brainspan/exons_matrix/columns_metadata.csv\")\n",
    "exon_exp_row = pd.read_csv(\n",
    "    \"/Users/jiayao/Work/BrainDisorders/data/expression/brainspan/exons_matrix/rows_metadata.csv\")\n",
    "exon_exp_row_recgenes = exon_exp_row[exon_exp_row[\"gene_symbol\"].isin(LGDGenes)]\n",
    "qn_exon_exp_recgenes = qn_exon_exp[qn_exon_exp[\"index\"].isin(exon_exp_row_recgenes[\"row_num\"].values)]\n",
    "qn_exon_exp_recgenes.to_csv(\"unifiedmodel/LGDExons_exp_matrix.csv\", index=False)"
   ]
  },
  {
   "cell_type": "code",
   "execution_count": null,
   "metadata": {},
   "outputs": [],
   "source": [
    "#Get IQ of each genes\n",
    "Rs = []\n",
    "for i in range(5000):\n",
    "    ALL_RelExp = np.array([])\n",
    "    ALL_Normed_IQD = np.array([])\n",
    "    for gene in Genes:\n",
    "        df = Variants[Variants[\"effectGene\"]==gene]\n",
    "        exon_df = exon_exp_row_recgenes[exon_exp_row_recgenes[\"gene_symbol\"]==gene]\n",
    "        population, weights = GetExonProb(exon_df)\n",
    "        IQs = [max(0, (100-x)) for x in df[\"NVIQ\"].values]\n",
    "        rel_exps = []\n",
    "        for i in range(len(IQs)):\n",
    "            idx = choice(population, weights)\n",
    "            rel_exps.append(exon_exp_row_recgenes.at[idx, \"rel.exp\"])\n",
    "        regr = regGene(rel_exps, IQs)\n",
    "        slope = regr.coef_[0]\n",
    "        ALL_RelExp = np.append(ALL_RelExp, rel_exps)\n",
    "        NormIQDs = np.array([x/slope for x in IQs])\n",
    "        ALL_Normed_IQD = np.append(ALL_Normed_IQD, NormIQDs)\n",
    "    model = linear_model.LinearRegression(fit_intercept=False)\n",
    "    ALL_RelExp = ALL_RelExp.reshape(-1,1)\n",
    "    R, P = scipy.stats.pearsonr([x[0] for x in ALL_RelExp], ALL_Normed_IQD) \n",
    "    Rs.append(R)"
   ]
  },
  {
   "cell_type": "code",
   "execution_count": null,
   "metadata": {},
   "outputs": [],
   "source": [
    "Rs = sorted(Rs)\n",
    "R = 0.629\n",
    "pvalue = 0\n",
    "for i,v in enumerate(Rs):\n",
    "    if v > R:\n",
    "        break\n",
    "pvalue = 1 - i/5000\n",
    "print(pvalue)"
   ]
  },
  {
   "cell_type": "code",
   "execution_count": 19,
   "metadata": {},
   "outputs": [],
   "source": [
    "class GTFRecord:\n",
    "    def __init__(self, Chr, source, Type, start, end, strand, info):\n",
    "        self.Chr = Chr\n",
    "        self.source = source\n",
    "        self.Type = Type\n",
    "        self.start = start\n",
    "        self.end = end\n",
    "        self.strand = strand\n",
    "        self.info = info\n",
    "\n",
    "class GTFGene:\n",
    "    def __init__(self, GeneName, GeneID, strand):\n",
    "        self.GeneName = GeneName\n",
    "        self.GeneID = GeneID\n",
    "        self.strand = strand\n",
    "        self.Transcripts = {}\n",
    "\n",
    "class GTFTranscript:\n",
    "    def __init__(self, gene, TranscriptID, TranscriptName, strand):\n",
    "        self.TranscriptID = TranscriptID\n",
    "        self.TranscriptName = TranscriptName\n",
    "        self.GeneName = gene\n",
    "        self.Exons = []\n",
    "        self.strand = strand\n",
    "    def LastExonJunction(self): # Interval of last exon and 2nd-last 55nt EEJ, tuple of tuple\n",
    "        if self.strand == \"+\":\n",
    "            LEJ = (self.Exons[-2].end - 55, self.Exons[-2].end)\n",
    "            LE = (self.Exons[-1].start, self.Exons[-1].end)\n",
    "        elif self.strand == \"-\":\n",
    "            LEJ = (self.Exons[-2].start, self.Exons[-2].start + 50)\n",
    "            LE = (self.Exons[-1].start, self.Exons[-1].end)\n",
    "        return (LE, LEJ)\n",
    "        \n",
    "class GTFExon:\n",
    "    def __init__(self, start, end, TranscriptID, strand):\n",
    "        self.TranscriptID = TranscriptID\n",
    "        self.start = int(start)\n",
    "        self.end = int(end)\n",
    "        self.strand = strand\n",
    "        \n",
    "def gtf_info_parser(info):\n",
    "    res = {}\n",
    "    for term in info.split(\";\"):\n",
    "        if term == \"\":\n",
    "            continue\n",
    "        # print(\">\",term)\n",
    "        key, v = term.split()\n",
    "        v = v.strip('\"')\n",
    "        res[key] = v\n",
    "    return res\n",
    "            \n",
    "def LoadGeneCode(genecodefil):\n",
    "    Genes = {} \n",
    "    Transcripts = {}\n",
    "    hand = open(genecodefil, 'rt')\n",
    "    for l in hand:\n",
    "        if l.startswith(\"#\"):\n",
    "            continue\n",
    "        llist = l.strip().split(\"\\t\")\n",
    "        info = gtf_info_parser(llist[8]) \n",
    "        if llist[2] == \"gene\":\n",
    "            Genes[info[\"gene_name\"]] = GTFRecord(\n",
    "                llist[0], llist[1], llist[2], llist[3], llist[4], llist[6], info)\n",
    "            Transcripts[info[\"gene_name\"]] = []\n",
    "        elif llist[2] == \"transcript\":\n",
    "            if info[\"gene_name\"] not in Genes:\n",
    "                Genes[info[\"gene_name\"]] = GTFRecord(\n",
    "                    llist[0], llist[1], llist[2], llist[3], llist[4], llist[6], info)\n",
    "                Transcripts[info[\"gene_name\"]] = []\n",
    "            Transcripts[info[\"gene_name\"]].append(\n",
    "                GTFRecord(llist[0], llist[1], llist[2], llist[3], llist[4], llist[6], info))\n",
    "    return Genes, Transcripts"
   ]
  },
  {
   "cell_type": "code",
   "execution_count": 56,
   "metadata": {},
   "outputs": [
    {
     "name": "stdout",
     "output_type": "stream",
     "text": [
      "28\n"
     ]
    }
   ],
   "source": [
    "Variants = pd.read_excel(\"/Users/jiayao/Work/BrainDisorders/data/DenovoVariants/wigler2014ProLGD.xlsx\")\n",
    "Variants.loc[Variants[\"effectGene\"]==\"KMT2E\", \"effectGene\"] = \"MLL5\" \n",
    "GeneCount = Variants.groupby(\"effectGene\")[\"effectGene\"].count()\n",
    "Variants[\"GeneCount\"] = Variants.apply(lambda row: GeneCount[row[\"effectGene\"]], axis=1)\n",
    "Variants = Variants[Variants[\"GeneCount\"]>=2]\n",
    "LGDGenes = set(Variants[\"effectGene\"].values)\n",
    "print(len(LGDGenes))\n",
    "LGDGenes.add(\"KMT2E\")"
   ]
  },
  {
   "cell_type": "code",
   "execution_count": 57,
   "metadata": {},
   "outputs": [],
   "source": [
    "gtf = \"/Users/jiayao/Work/BrainDisorders/data/gencode.v19.annotation.gtf\"\n",
    "out = open(\"unifiedmodel/RecLGDgenes.gencode.v19.gtf\", 'wt')\n",
    "hand = open(gtf, 'rt')\n",
    "for l in hand:\n",
    "    if l.startswith(\"#\"):\n",
    "        out.write(l)\n",
    "        continue\n",
    "    llist = l.strip().split(\"\\t\")\n",
    "    info = gtf_info_parser(llist[8]) \n",
    "    if info[\"gene_name\"] in LGDGenes:\n",
    "        out.write(l)"
   ]
  },
  {
   "cell_type": "code",
   "execution_count": 5,
   "metadata": {},
   "outputs": [],
   "source": [
    "df = pd.read_csv(\"unifiedmodel/appris_data.principal.txt\", delimiter=\"\\t\", header=None)\n",
    "df = df[df[4].isin([\"PRINCIPAL:1\",\"PRINCIPAL:2\",\"PRINCIPAL:3\"])]\n",
    "principal_trans = set(df[2].values)"
   ]
  },
  {
   "cell_type": "code",
   "execution_count": 44,
   "metadata": {},
   "outputs": [],
   "source": [
    "\n",
    "Genes = {}\n",
    "hand = open(\"unifiedmodel/RecLGDgenes.gencode.v10.gtf\", 'rt')\n",
    "for l in hand:\n",
    "    if l.startswith(\"#\"):\n",
    "        continue\n",
    "    llist = l.strip().split(\"\\t\")\n",
    "    info = gtf_info_parser(llist[8]) \n",
    "    CHR = llist[0].lstrip(\"chr\")\n",
    "    strand = llist[6]\n",
    "    start = int(llist[3])\n",
    "    end = int(llist[4])\n",
    "    if llist[2] == \"gene\":\n",
    "        gene_name = info[\"gene_name\"]\n",
    "        gene_id = info[\"gene_id\"]\n",
    "        Genes[gene_name] = GTFGene(gene_name, gene_id, strand)\n",
    "    elif llist[2] == \"transcript\":\n",
    "        gene_name = info[\"gene_name\"]\n",
    "        gene_id = info[\"gene_id\"]\n",
    "        transcript_name = info[\"transcript_id\"]\n",
    "        transcript_id = info[\"transcript_id\"]\n",
    "        transcript_id = transcript_id.split(\".\")[0]\n",
    "        transcript_type = info[\"transcript_type\"]\n",
    "        #if transcript_id not in Genes[gene_name].Transcripts and transcript_id in principal_trans:\n",
    "        if transcript_id not in Genes[gene_name].Transcripts and transcript_type==\"protein_coding\":\n",
    "            Genes[gene_name].Transcripts[transcript_id] = GTFTranscript(gene_name, transcript_name, transcript_id, strand)\n",
    "    elif llist[2] == \"exon\":\n",
    "        gene_name = info[\"gene_name\"]\n",
    "        gene_id = info[\"gene_id\"]\n",
    "        transcript_name = info[\"transcript_id\"]\n",
    "        transcript_id = transcript_id.split(\".\")[0]\n",
    "        #if transcript_id in principal_trans:\n",
    "        #transcript_type = info[\"transcript_type\"]\n",
    "        if transcript_type==\"protein_coding\":\n",
    "            #exon_id = info[\"exon_id\"]\n",
    "            #exon= GTFExon(exon_id, start, end, transcript_id, strand)\n",
    "            exon= GTFExon(\"1\", start, end, transcript_id, strand)\n",
    "            Genes[gene_name].Transcripts[transcript_id].Exons.append(exon)"
   ]
  },
  {
   "cell_type": "code",
   "execution_count": 39,
   "metadata": {},
   "outputs": [
    {
     "name": "stdout",
     "output_type": "stream",
     "text": [
      "ENST00000430710 - ((21853353, 21854335), (21859106, 21859161))\n",
      "ENST00000399982 - ((21853354, 21854335), (21859106, 21859161))\n",
      "ENST00000557364 - ((21853645, 21854335), (21859106, 21859161))\n",
      "ENST00000553870 - ((21854170, 21854335), (21859106, 21859161))\n",
      "ENST00000555935 - ((21867765, 21867864), (21868140, 21868195))\n",
      "ENST00000553283 - ((21897296, 21897494), (21905060, 21905115))\n",
      "ENST00000553622 - ((21899274, 21899721), (21899970, 21900025))\n"
     ]
    }
   ],
   "source": [
    "gene_obj = Genes[\"CHD8\"]\n",
    "for k, v in gene_obj.Transcripts.items():\n",
    "    if len(v.Exons) >= 2:\n",
    "        print(k, v.strand, v.LastExonJunction())"
   ]
  },
  {
   "cell_type": "code",
   "execution_count": 16,
   "metadata": {},
   "outputs": [
    {
     "name": "stdout",
     "output_type": "stream",
     "text": [
      "['KEY', 'familyId', 'vcfVariant', 'inChild', 'effectGene', 'effectType', 'gender', 'VIQ', 'NVIQ', 'ExonID', 'GeneExp.amean', 'ExonExp.amean', 'GenePrenatalExp.amean', 'ExonPrenatalExp.amean', 'GenePostnatalExp.amean', 'ExonPostnatalExp.amean', 'Functional', 'DOM.TRUNC.FRAC', 'DOM.TRUNC', 'GERP', 'Rel.exp.amean', 'Rel.exp.gmean', 'Rel.exp.prenatal', 'Rel.exp.postnatal', 'Prenatal.Bias', 'phyloP100way', 'phastCons100way', 'gender1', 'Age', 'Dosage', '#Chr', '#Start', '#End', '#RefAlt']\n"
     ]
    }
   ],
   "source": [
    "def MakeEnsemblDefault(row):\n",
    "    llist = row[\"vcfVariant\"].split(\":\")\n",
    "    CHR = llist[0]\n",
    "    Start = int(llist[1])\n",
    "    End = Start\n",
    "    RefAlt = llist[2] + \"/\" + llist[3]\n",
    "    return [CHR, Start, End, RefAlt]\n",
    "Jiayao_features = pd.read_csv(\"unifiedmodel/features.jiayao.csv\")\n",
    "Jiayao_features[\"#Chr\"] = Jiayao_features.apply(lambda row: MakeEnsemblDefault(row)[0], axis=1)\n",
    "Jiayao_features[\"#Start\"] = Jiayao_features.apply(lambda row: MakeEnsemblDefault(row)[1], axis=1)\n",
    "Jiayao_features[\"#End\"] = Jiayao_features.apply(lambda row: MakeEnsemblDefault(row)[2], axis=1)\n",
    "Jiayao_features[\"#RefAlt\"] = Jiayao_features.apply(lambda row: MakeEnsemblDefault(row)[3], axis=1)\n",
    "print(list(Jiayao_features.columns.values))\n",
    "Jiayao_features = Jiayao_features[['#Chr', '#Start', '#End', '#RefAlt',\n",
    "        'KEY', 'familyId', 'vcfVariant', 'inChild', 'effectGene', \n",
    "        'effectType', 'gender', 'VIQ', 'NVIQ', 'ExonID', 'GeneExp.amean', \n",
    "        'ExonExp.amean', 'GenePrenatalExp.amean', 'ExonPrenatalExp.amean', \n",
    "        'GenePostnatalExp.amean', 'ExonPostnatalExp.amean', 'Functional', \n",
    "        'DOM.TRUNC.FRAC', 'DOM.TRUNC', 'GERP', 'Rel.exp.amean', 'Rel.exp.gmean', \n",
    "        'Rel.exp.prenatal', 'Rel.exp.postnatal', 'Prenatal.Bias', 'phyloP100way', \n",
    "        'phastCons100way', 'gender1', 'Age', 'Dosage']]\n",
    "Jiayao_features.head(2)\n",
    "Jiayao_features.to_csv(\"unifiedmodel/features.jiayao.tsv\", index=False, sep=\"\\t\")"
   ]
  },
  {
   "cell_type": "code",
   "execution_count": 271,
   "metadata": {},
   "outputs": [
    {
     "ename": "TypeError",
     "evalue": "list indices must be integers or slices, not str",
     "output_type": "error",
     "traceback": [
      "\u001b[0;31m---------------------------------------------------------------------------\u001b[0m",
      "\u001b[0;31mTypeError\u001b[0m                                 Traceback (most recent call last)",
      "\u001b[0;32m<ipython-input-271-8b3d770bfc26>\u001b[0m in \u001b[0;36m<module>\u001b[0;34m\u001b[0m\n\u001b[1;32m     26\u001b[0m \u001b[0;32mfor\u001b[0m \u001b[0mi\u001b[0m\u001b[0;34m,\u001b[0m \u001b[0mrow\u001b[0m \u001b[0;32min\u001b[0m \u001b[0mJiayao_features\u001b[0m\u001b[0;34m.\u001b[0m\u001b[0miterrows\u001b[0m\u001b[0;34m(\u001b[0m\u001b[0;34m)\u001b[0m\u001b[0;34m:\u001b[0m\u001b[0;34m\u001b[0m\u001b[0;34m\u001b[0m\u001b[0m\n\u001b[1;32m     27\u001b[0m     \u001b[0mfamid\u001b[0m\u001b[0;34m,\u001b[0m \u001b[0mgene\u001b[0m\u001b[0;34m,\u001b[0m \u001b[0;34m(\u001b[0m\u001b[0mChr\u001b[0m\u001b[0;34m,\u001b[0m \u001b[0mPos\u001b[0m\u001b[0;34m,\u001b[0m \u001b[0mRef\u001b[0m\u001b[0;34m,\u001b[0m \u001b[0mAlt\u001b[0m\u001b[0;34m)\u001b[0m \u001b[0;34m=\u001b[0m \u001b[0mrow\u001b[0m\u001b[0;34m[\u001b[0m\u001b[0;34m\"familyId\"\u001b[0m\u001b[0;34m]\u001b[0m\u001b[0;34m,\u001b[0m \u001b[0mrow\u001b[0m\u001b[0;34m[\u001b[0m\u001b[0;34m\"effectGene\"\u001b[0m\u001b[0;34m]\u001b[0m\u001b[0;34m,\u001b[0m \u001b[0mrow\u001b[0m\u001b[0;34m[\u001b[0m\u001b[0;34m\"vcfVariant\"\u001b[0m\u001b[0;34m]\u001b[0m\u001b[0;34m.\u001b[0m\u001b[0msplit\u001b[0m\u001b[0;34m(\u001b[0m\u001b[0;34m\":\"\u001b[0m\u001b[0;34m)\u001b[0m\u001b[0;34m\u001b[0m\u001b[0;34m\u001b[0m\u001b[0m\n\u001b[0;32m---> 28\u001b[0;31m     \u001b[0mnlej\u001b[0m\u001b[0;34m,\u001b[0m \u001b[0misle\u001b[0m\u001b[0;34m,\u001b[0m  \u001b[0mislej\u001b[0m \u001b[0;34m=\u001b[0m \u001b[0misLEJ\u001b[0m\u001b[0;34m(\u001b[0m\u001b[0mgene\u001b[0m\u001b[0;34m,\u001b[0m \u001b[0mPos\u001b[0m\u001b[0;34m,\u001b[0m \u001b[0mRef\u001b[0m\u001b[0;34m,\u001b[0m \u001b[0mAlt\u001b[0m\u001b[0;34m,\u001b[0m \u001b[0mGenes\u001b[0m\u001b[0;34m)\u001b[0m\u001b[0;34m\u001b[0m\u001b[0;34m\u001b[0m\u001b[0m\n\u001b[0m\u001b[1;32m     29\u001b[0m     \u001b[0mJiayao_features\u001b[0m\u001b[0;34m.\u001b[0m\u001b[0mat\u001b[0m\u001b[0;34m[\u001b[0m\u001b[0mi\u001b[0m\u001b[0;34m,\u001b[0m \u001b[0;34m\"NLEJ\"\u001b[0m\u001b[0;34m]\u001b[0m \u001b[0;34m=\u001b[0m \u001b[0mnlej\u001b[0m\u001b[0;34m\u001b[0m\u001b[0;34m\u001b[0m\u001b[0m\n\u001b[1;32m     30\u001b[0m     \u001b[0mJiayao_features\u001b[0m\u001b[0;34m.\u001b[0m\u001b[0mat\u001b[0m\u001b[0;34m[\u001b[0m\u001b[0mi\u001b[0m\u001b[0;34m,\u001b[0m \u001b[0;34m\"isLE\"\u001b[0m\u001b[0;34m]\u001b[0m \u001b[0;34m=\u001b[0m \u001b[0misle\u001b[0m\u001b[0;34m\u001b[0m\u001b[0;34m\u001b[0m\u001b[0m\n",
      "\u001b[0;32m<ipython-input-271-8b3d770bfc26>\u001b[0m in \u001b[0;36misLEJ\u001b[0;34m(Gene, Pos, Ref, Alt, Genes)\u001b[0m\n\u001b[1;32m      1\u001b[0m \u001b[0;32mdef\u001b[0m \u001b[0misLEJ\u001b[0m\u001b[0;34m(\u001b[0m\u001b[0mGene\u001b[0m\u001b[0;34m,\u001b[0m \u001b[0mPos\u001b[0m\u001b[0;34m,\u001b[0m \u001b[0mRef\u001b[0m\u001b[0;34m,\u001b[0m \u001b[0mAlt\u001b[0m\u001b[0;34m,\u001b[0m \u001b[0mGenes\u001b[0m\u001b[0;34m)\u001b[0m\u001b[0;34m:\u001b[0m\u001b[0;34m\u001b[0m\u001b[0;34m\u001b[0m\u001b[0m\n\u001b[1;32m      2\u001b[0m     \u001b[0mPos\u001b[0m\u001b[0;34m,\u001b[0m \u001b[0mLenV\u001b[0m \u001b[0;34m=\u001b[0m \u001b[0mint\u001b[0m\u001b[0;34m(\u001b[0m\u001b[0mPos\u001b[0m\u001b[0;34m)\u001b[0m\u001b[0;34m,\u001b[0m \u001b[0mlen\u001b[0m\u001b[0;34m(\u001b[0m\u001b[0mRef\u001b[0m\u001b[0;34m)\u001b[0m\u001b[0;34m-\u001b[0m\u001b[0mlen\u001b[0m\u001b[0;34m(\u001b[0m\u001b[0mAlt\u001b[0m\u001b[0;34m)\u001b[0m\u001b[0;34m\u001b[0m\u001b[0;34m\u001b[0m\u001b[0m\n\u001b[0;32m----> 3\u001b[0;31m     \u001b[0mgene_obj\u001b[0m \u001b[0;34m=\u001b[0m \u001b[0mGenes\u001b[0m\u001b[0;34m[\u001b[0m\u001b[0mGene\u001b[0m\u001b[0;34m]\u001b[0m\u001b[0;34m\u001b[0m\u001b[0;34m\u001b[0m\u001b[0m\n\u001b[0m\u001b[1;32m      4\u001b[0m     \u001b[0mcount1\u001b[0m\u001b[0;34m,\u001b[0m \u001b[0mcount2\u001b[0m\u001b[0;34m,\u001b[0m \u001b[0mcount3\u001b[0m \u001b[0;34m=\u001b[0m \u001b[0;36m0\u001b[0m\u001b[0;34m,\u001b[0m \u001b[0;36m0\u001b[0m\u001b[0;34m,\u001b[0m \u001b[0;36m0\u001b[0m\u001b[0;34m\u001b[0m\u001b[0;34m\u001b[0m\u001b[0m\n\u001b[1;32m      5\u001b[0m     \u001b[0;32mfor\u001b[0m \u001b[0mtransid\u001b[0m\u001b[0;34m,\u001b[0m \u001b[0mtransobj\u001b[0m \u001b[0;32min\u001b[0m \u001b[0mgene_obj\u001b[0m\u001b[0;34m.\u001b[0m\u001b[0mTranscripts\u001b[0m\u001b[0;34m.\u001b[0m\u001b[0mitems\u001b[0m\u001b[0;34m(\u001b[0m\u001b[0;34m)\u001b[0m\u001b[0;34m:\u001b[0m\u001b[0;34m\u001b[0m\u001b[0;34m\u001b[0m\u001b[0m\n",
      "\u001b[0;31mTypeError\u001b[0m: list indices must be integers or slices, not str"
     ]
    }
   ],
   "source": [
    "def isLEJ(Gene, Pos, Ref, Alt, Genes):\n",
    "    Pos, LenV = int(Pos), len(Ref)-len(Alt)\n",
    "    gene_obj = Genes[Gene]\n",
    "    count1, count2, count3 = 0, 0, 0\n",
    "    for transid, transobj in gene_obj.Transcripts.items():\n",
    "        if len(transobj.Exons) >= 2:\n",
    "            count1 += 1\n",
    "            interval1, interval2 = transobj.LastExonJunction()\n",
    "\n",
    "            if (Pos > interval1[0] and Pos < interval1[1]):\n",
    "                count2 += 1\n",
    "            elif(Pos > interval2[0] and Pos < interval2[1]):\n",
    "                count3 += 1\n",
    "    if count2 != 0:\n",
    "        isle = 'T'\n",
    "    else:\n",
    "        isle = \"F\"\n",
    "    if count3 != 0:\n",
    "        islej = 'T'\n",
    "    else:\n",
    "        islej = 'F'\n",
    "    return \"{}/{}\".format(count2+count3, count1), isle, islej\n",
    "Jiayao_features = pd.read_csv(\"unifiedmodel/features.jiayao.csv\")\n",
    "#Jiayao_features.loc[Jiayao_features[\"effectGene\"]==\"MLL5\", \"effectGene\"] = \"KMT2E\" \n",
    "for i, row in Jiayao_features.iterrows():\n",
    "    famid, gene, (Chr, Pos, Ref, Alt) = row[\"familyId\"], row[\"effectGene\"], row[\"vcfVariant\"].split(\":\")\n",
    "    nlej, isle,  islej = isLEJ(gene, Pos, Ref, Alt, Genes)\n",
    "    Jiayao_features.at[i, \"NLEJ\"] = nlej\n",
    "    Jiayao_features.at[i, \"isLE\"] = isle\n",
    "    Jiayao_features.at[i, \"isLEJ\"] = islej"
   ]
  },
  {
   "cell_type": "code",
   "execution_count": 48,
   "metadata": {},
   "outputs": [
    {
     "data": {
      "text/html": [
       "<div>\n",
       "<style scoped>\n",
       "    .dataframe tbody tr th:only-of-type {\n",
       "        vertical-align: middle;\n",
       "    }\n",
       "\n",
       "    .dataframe tbody tr th {\n",
       "        vertical-align: top;\n",
       "    }\n",
       "\n",
       "    .dataframe thead th {\n",
       "        text-align: right;\n",
       "    }\n",
       "</style>\n",
       "<table border=\"1\" class=\"dataframe\">\n",
       "  <thead>\n",
       "    <tr style=\"text-align: right;\">\n",
       "      <th></th>\n",
       "      <th>KEY</th>\n",
       "      <th>familyId</th>\n",
       "      <th>vcfVariant</th>\n",
       "      <th>inChild</th>\n",
       "      <th>effectGene</th>\n",
       "      <th>effectType</th>\n",
       "      <th>gender</th>\n",
       "      <th>VIQ</th>\n",
       "      <th>NVIQ</th>\n",
       "      <th>ExonID</th>\n",
       "      <th>...</th>\n",
       "      <th>Rel.exp.postnatal</th>\n",
       "      <th>Prenatal.Bias</th>\n",
       "      <th>phyloP100way</th>\n",
       "      <th>phastCons100way</th>\n",
       "      <th>gender1</th>\n",
       "      <th>Age</th>\n",
       "      <th>Dosage</th>\n",
       "      <th>NLEJ</th>\n",
       "      <th>isLE</th>\n",
       "      <th>isLEJ</th>\n",
       "    </tr>\n",
       "  </thead>\n",
       "  <tbody>\n",
       "    <tr>\n",
       "      <th>0</th>\n",
       "      <td>13545-20:49509095</td>\n",
       "      <td>13545</td>\n",
       "      <td>20:49509094:G:GT</td>\n",
       "      <td>pM</td>\n",
       "      <td>ADNP</td>\n",
       "      <td>frame-shift</td>\n",
       "      <td>M</td>\n",
       "      <td>23.0</td>\n",
       "      <td>38.0</td>\n",
       "      <td>41150</td>\n",
       "      <td>...</td>\n",
       "      <td>1.325670</td>\n",
       "      <td>1.423534</td>\n",
       "      <td>2.813101</td>\n",
       "      <td>0.732081</td>\n",
       "      <td>1</td>\n",
       "      <td>61.0</td>\n",
       "      <td>56.455400</td>\n",
       "      <td>4/5</td>\n",
       "      <td>T</td>\n",
       "      <td>F</td>\n",
       "    </tr>\n",
       "    <tr>\n",
       "      <th>1</th>\n",
       "      <td>12130-20:49510028</td>\n",
       "      <td>12130</td>\n",
       "      <td>20:49510027:CTT:C</td>\n",
       "      <td>pF</td>\n",
       "      <td>ADNP</td>\n",
       "      <td>frame-shift</td>\n",
       "      <td>F</td>\n",
       "      <td>62.0</td>\n",
       "      <td>55.0</td>\n",
       "      <td>41150</td>\n",
       "      <td>...</td>\n",
       "      <td>1.325670</td>\n",
       "      <td>1.423534</td>\n",
       "      <td>2.813101</td>\n",
       "      <td>0.732081</td>\n",
       "      <td>2</td>\n",
       "      <td>101.0</td>\n",
       "      <td>40.005218</td>\n",
       "      <td>4/5</td>\n",
       "      <td>T</td>\n",
       "      <td>F</td>\n",
       "    </tr>\n",
       "    <tr>\n",
       "      <th>8</th>\n",
       "      <td>13447-6:157527665</td>\n",
       "      <td>13447</td>\n",
       "      <td>6:157527664:CTGTT:C</td>\n",
       "      <td>pF</td>\n",
       "      <td>ARID1B</td>\n",
       "      <td>frame-shift</td>\n",
       "      <td>F</td>\n",
       "      <td>32.0</td>\n",
       "      <td>51.0</td>\n",
       "      <td>11552</td>\n",
       "      <td>...</td>\n",
       "      <td>3.028648</td>\n",
       "      <td>0.730105</td>\n",
       "      <td>3.777411</td>\n",
       "      <td>0.875879</td>\n",
       "      <td>2</td>\n",
       "      <td>193.0</td>\n",
       "      <td>46.837116</td>\n",
       "      <td>5/9</td>\n",
       "      <td>T</td>\n",
       "      <td>F</td>\n",
       "    </tr>\n",
       "    <tr>\n",
       "      <th>10</th>\n",
       "      <td>13614-15:93563244</td>\n",
       "      <td>13614</td>\n",
       "      <td>15:93563244:C:T</td>\n",
       "      <td>pM</td>\n",
       "      <td>CHD2</td>\n",
       "      <td>nonsense</td>\n",
       "      <td>M</td>\n",
       "      <td>82.0</td>\n",
       "      <td>81.0</td>\n",
       "      <td>183603</td>\n",
       "      <td>...</td>\n",
       "      <td>0.187783</td>\n",
       "      <td>0.469971</td>\n",
       "      <td>0.449107</td>\n",
       "      <td>0.131028</td>\n",
       "      <td>1</td>\n",
       "      <td>113.0</td>\n",
       "      <td>85.151477</td>\n",
       "      <td>2/6</td>\n",
       "      <td>T</td>\n",
       "      <td>F</td>\n",
       "    </tr>\n",
       "    <tr>\n",
       "      <th>11</th>\n",
       "      <td>13818-15:93563283</td>\n",
       "      <td>13818</td>\n",
       "      <td>15:93563282:T:TG</td>\n",
       "      <td>pM</td>\n",
       "      <td>CHD2</td>\n",
       "      <td>frame-shift</td>\n",
       "      <td>M</td>\n",
       "      <td>74.0</td>\n",
       "      <td>82.0</td>\n",
       "      <td>183603</td>\n",
       "      <td>...</td>\n",
       "      <td>0.187783</td>\n",
       "      <td>0.469971</td>\n",
       "      <td>0.449107</td>\n",
       "      <td>0.131028</td>\n",
       "      <td>1</td>\n",
       "      <td>119.0</td>\n",
       "      <td>85.076766</td>\n",
       "      <td>2/6</td>\n",
       "      <td>T</td>\n",
       "      <td>F</td>\n",
       "    </tr>\n",
       "    <tr>\n",
       "      <th>21</th>\n",
       "      <td>13735-21:41414331</td>\n",
       "      <td>13735</td>\n",
       "      <td>21:41414330:A:AT</td>\n",
       "      <td>pM</td>\n",
       "      <td>DSCAM</td>\n",
       "      <td>frame-shift</td>\n",
       "      <td>M</td>\n",
       "      <td>30.0</td>\n",
       "      <td>27.0</td>\n",
       "      <td>179246</td>\n",
       "      <td>...</td>\n",
       "      <td>2.705670</td>\n",
       "      <td>0.259018</td>\n",
       "      <td>5.494337</td>\n",
       "      <td>0.929677</td>\n",
       "      <td>1</td>\n",
       "      <td>109.0</td>\n",
       "      <td>53.158800</td>\n",
       "      <td>2/2</td>\n",
       "      <td>F</td>\n",
       "      <td>T</td>\n",
       "    </tr>\n",
       "    <tr>\n",
       "      <th>27</th>\n",
       "      <td>13256-21:38877892</td>\n",
       "      <td>13256</td>\n",
       "      <td>21:38877891:AGGTCTGTGCTGCTGC:A</td>\n",
       "      <td>pM</td>\n",
       "      <td>DYRK1A</td>\n",
       "      <td>frame-shift</td>\n",
       "      <td>M</td>\n",
       "      <td>70.0</td>\n",
       "      <td>85.0</td>\n",
       "      <td>145379</td>\n",
       "      <td>...</td>\n",
       "      <td>1.140098</td>\n",
       "      <td>0.823883</td>\n",
       "      <td>5.954987</td>\n",
       "      <td>0.947505</td>\n",
       "      <td>1</td>\n",
       "      <td>170.0</td>\n",
       "      <td>41.956807</td>\n",
       "      <td>2/9</td>\n",
       "      <td>F</td>\n",
       "      <td>T</td>\n",
       "    </tr>\n",
       "    <tr>\n",
       "      <th>37</th>\n",
       "      <td>13664-1:202698172</td>\n",
       "      <td>13664</td>\n",
       "      <td>1:202698172:G:A</td>\n",
       "      <td>pM</td>\n",
       "      <td>KDM5B</td>\n",
       "      <td>nonsense</td>\n",
       "      <td>M</td>\n",
       "      <td>65.0</td>\n",
       "      <td>63.0</td>\n",
       "      <td>71276</td>\n",
       "      <td>...</td>\n",
       "      <td>2.082489</td>\n",
       "      <td>1.994697</td>\n",
       "      <td>1.740805</td>\n",
       "      <td>0.561544</td>\n",
       "      <td>1</td>\n",
       "      <td>102.0</td>\n",
       "      <td>93.934228</td>\n",
       "      <td>3/5</td>\n",
       "      <td>T</td>\n",
       "      <td>F</td>\n",
       "    </tr>\n",
       "    <tr>\n",
       "      <th>41</th>\n",
       "      <td>14299-7:104702707</td>\n",
       "      <td>14299</td>\n",
       "      <td>7:104702706:AC:A</td>\n",
       "      <td>pM</td>\n",
       "      <td>MLL5</td>\n",
       "      <td>frame-shift</td>\n",
       "      <td>M</td>\n",
       "      <td>63.0</td>\n",
       "      <td>75.0</td>\n",
       "      <td>1587</td>\n",
       "      <td>...</td>\n",
       "      <td>0.339825</td>\n",
       "      <td>0.828004</td>\n",
       "      <td>2.327524</td>\n",
       "      <td>0.484296</td>\n",
       "      <td>1</td>\n",
       "      <td>134.0</td>\n",
       "      <td>89.873941</td>\n",
       "      <td>1/12</td>\n",
       "      <td>F</td>\n",
       "      <td>T</td>\n",
       "    </tr>\n",
       "    <tr>\n",
       "      <th>43</th>\n",
       "      <td>12969-12:116418554</td>\n",
       "      <td>12969</td>\n",
       "      <td>12:116418553:A:AC</td>\n",
       "      <td>pM</td>\n",
       "      <td>MED13L</td>\n",
       "      <td>splice-site</td>\n",
       "      <td>M</td>\n",
       "      <td>70.0</td>\n",
       "      <td>78.0</td>\n",
       "      <td>79519</td>\n",
       "      <td>...</td>\n",
       "      <td>0.540509</td>\n",
       "      <td>1.665994</td>\n",
       "      <td>1.906456</td>\n",
       "      <td>0.404439</td>\n",
       "      <td>1</td>\n",
       "      <td>146.0</td>\n",
       "      <td>69.302202</td>\n",
       "      <td>1/5</td>\n",
       "      <td>T</td>\n",
       "      <td>F</td>\n",
       "    </tr>\n",
       "    <tr>\n",
       "      <th>45</th>\n",
       "      <td>12764-2:183791570</td>\n",
       "      <td>12764</td>\n",
       "      <td>2:183791570:C:A</td>\n",
       "      <td>pF</td>\n",
       "      <td>NCKAP1</td>\n",
       "      <td>nonsense</td>\n",
       "      <td>F</td>\n",
       "      <td>86.0</td>\n",
       "      <td>99.0</td>\n",
       "      <td>14590</td>\n",
       "      <td>...</td>\n",
       "      <td>0.397139</td>\n",
       "      <td>-0.685673</td>\n",
       "      <td>1.429151</td>\n",
       "      <td>0.304729</td>\n",
       "      <td>2</td>\n",
       "      <td>182.0</td>\n",
       "      <td>87.628272</td>\n",
       "      <td>2/2</td>\n",
       "      <td>F</td>\n",
       "      <td>T</td>\n",
       "    </tr>\n",
       "    <tr>\n",
       "      <th>48</th>\n",
       "      <td>12323-9:96439930</td>\n",
       "      <td>12323</td>\n",
       "      <td>9:96439929:AT:A</td>\n",
       "      <td>pM</td>\n",
       "      <td>PHF2</td>\n",
       "      <td>frame-shift</td>\n",
       "      <td>M</td>\n",
       "      <td>92.0</td>\n",
       "      <td>90.0</td>\n",
       "      <td>219686</td>\n",
       "      <td>...</td>\n",
       "      <td>1.393761</td>\n",
       "      <td>0.843528</td>\n",
       "      <td>2.016045</td>\n",
       "      <td>0.654036</td>\n",
       "      <td>1</td>\n",
       "      <td>121.0</td>\n",
       "      <td>77.823725</td>\n",
       "      <td>2/2</td>\n",
       "      <td>T</td>\n",
       "      <td>F</td>\n",
       "    </tr>\n",
       "    <tr>\n",
       "      <th>49</th>\n",
       "      <td>13398-1:151377904</td>\n",
       "      <td>13398</td>\n",
       "      <td>1:151377903:T:TCGTCATCA</td>\n",
       "      <td>pM</td>\n",
       "      <td>POGZ</td>\n",
       "      <td>frame-shift</td>\n",
       "      <td>M</td>\n",
       "      <td>88.0</td>\n",
       "      <td>73.0</td>\n",
       "      <td>120872</td>\n",
       "      <td>...</td>\n",
       "      <td>1.892214</td>\n",
       "      <td>0.849266</td>\n",
       "      <td>1.973846</td>\n",
       "      <td>0.720747</td>\n",
       "      <td>1</td>\n",
       "      <td>103.0</td>\n",
       "      <td>77.125160</td>\n",
       "      <td>8/13</td>\n",
       "      <td>T</td>\n",
       "      <td>F</td>\n",
       "    </tr>\n",
       "    <tr>\n",
       "      <th>50</th>\n",
       "      <td>13627-1:151378489</td>\n",
       "      <td>13627</td>\n",
       "      <td>1:151378489:G:A</td>\n",
       "      <td>pM</td>\n",
       "      <td>POGZ</td>\n",
       "      <td>nonsense</td>\n",
       "      <td>M</td>\n",
       "      <td>91.0</td>\n",
       "      <td>76.0</td>\n",
       "      <td>120872</td>\n",
       "      <td>...</td>\n",
       "      <td>1.892214</td>\n",
       "      <td>0.849266</td>\n",
       "      <td>1.973846</td>\n",
       "      <td>0.720747</td>\n",
       "      <td>1</td>\n",
       "      <td>116.0</td>\n",
       "      <td>74.265806</td>\n",
       "      <td>8/13</td>\n",
       "      <td>T</td>\n",
       "      <td>F</td>\n",
       "    </tr>\n",
       "  </tbody>\n",
       "</table>\n",
       "<p>14 rows × 33 columns</p>\n",
       "</div>"
      ],
      "text/plain": [
       "                   KEY  familyId                      vcfVariant inChild  \\\n",
       "0    13545-20:49509095     13545                20:49509094:G:GT      pM   \n",
       "1    12130-20:49510028     12130               20:49510027:CTT:C      pF   \n",
       "8    13447-6:157527665     13447             6:157527664:CTGTT:C      pF   \n",
       "10   13614-15:93563244     13614                 15:93563244:C:T      pM   \n",
       "11   13818-15:93563283     13818                15:93563282:T:TG      pM   \n",
       "21   13735-21:41414331     13735                21:41414330:A:AT      pM   \n",
       "27   13256-21:38877892     13256  21:38877891:AGGTCTGTGCTGCTGC:A      pM   \n",
       "37   13664-1:202698172     13664                 1:202698172:G:A      pM   \n",
       "41   14299-7:104702707     14299                7:104702706:AC:A      pM   \n",
       "43  12969-12:116418554     12969               12:116418553:A:AC      pM   \n",
       "45   12764-2:183791570     12764                 2:183791570:C:A      pF   \n",
       "48    12323-9:96439930     12323                 9:96439929:AT:A      pM   \n",
       "49   13398-1:151377904     13398         1:151377903:T:TCGTCATCA      pM   \n",
       "50   13627-1:151378489     13627                 1:151378489:G:A      pM   \n",
       "\n",
       "   effectGene   effectType gender   VIQ  NVIQ  ExonID  ...    \\\n",
       "0        ADNP  frame-shift      M  23.0  38.0   41150  ...     \n",
       "1        ADNP  frame-shift      F  62.0  55.0   41150  ...     \n",
       "8      ARID1B  frame-shift      F  32.0  51.0   11552  ...     \n",
       "10       CHD2     nonsense      M  82.0  81.0  183603  ...     \n",
       "11       CHD2  frame-shift      M  74.0  82.0  183603  ...     \n",
       "21      DSCAM  frame-shift      M  30.0  27.0  179246  ...     \n",
       "27     DYRK1A  frame-shift      M  70.0  85.0  145379  ...     \n",
       "37      KDM5B     nonsense      M  65.0  63.0   71276  ...     \n",
       "41       MLL5  frame-shift      M  63.0  75.0    1587  ...     \n",
       "43     MED13L  splice-site      M  70.0  78.0   79519  ...     \n",
       "45     NCKAP1     nonsense      F  86.0  99.0   14590  ...     \n",
       "48       PHF2  frame-shift      M  92.0  90.0  219686  ...     \n",
       "49       POGZ  frame-shift      M  88.0  73.0  120872  ...     \n",
       "50       POGZ     nonsense      M  91.0  76.0  120872  ...     \n",
       "\n",
       "    Rel.exp.postnatal  Prenatal.Bias  phyloP100way  phastCons100way  gender1  \\\n",
       "0            1.325670       1.423534      2.813101         0.732081        1   \n",
       "1            1.325670       1.423534      2.813101         0.732081        2   \n",
       "8            3.028648       0.730105      3.777411         0.875879        2   \n",
       "10           0.187783       0.469971      0.449107         0.131028        1   \n",
       "11           0.187783       0.469971      0.449107         0.131028        1   \n",
       "21           2.705670       0.259018      5.494337         0.929677        1   \n",
       "27           1.140098       0.823883      5.954987         0.947505        1   \n",
       "37           2.082489       1.994697      1.740805         0.561544        1   \n",
       "41           0.339825       0.828004      2.327524         0.484296        1   \n",
       "43           0.540509       1.665994      1.906456         0.404439        1   \n",
       "45           0.397139      -0.685673      1.429151         0.304729        2   \n",
       "48           1.393761       0.843528      2.016045         0.654036        1   \n",
       "49           1.892214       0.849266      1.973846         0.720747        1   \n",
       "50           1.892214       0.849266      1.973846         0.720747        1   \n",
       "\n",
       "      Age     Dosage  NLEJ  isLE  isLEJ  \n",
       "0    61.0  56.455400   4/5     T      F  \n",
       "1   101.0  40.005218   4/5     T      F  \n",
       "8   193.0  46.837116   5/9     T      F  \n",
       "10  113.0  85.151477   2/6     T      F  \n",
       "11  119.0  85.076766   2/6     T      F  \n",
       "21  109.0  53.158800   2/2     F      T  \n",
       "27  170.0  41.956807   2/9     F      T  \n",
       "37  102.0  93.934228   3/5     T      F  \n",
       "41  134.0  89.873941  1/12     F      T  \n",
       "43  146.0  69.302202   1/5     T      F  \n",
       "45  182.0  87.628272   2/2     F      T  \n",
       "48  121.0  77.823725   2/2     T      F  \n",
       "49  103.0  77.125160  8/13     T      F  \n",
       "50  116.0  74.265806  8/13     T      F  \n",
       "\n",
       "[14 rows x 33 columns]"
      ]
     },
     "execution_count": 48,
     "metadata": {},
     "output_type": "execute_result"
    }
   ],
   "source": [
    "Jiayao_features[(Jiayao_features[\"isLE\"]==\"T\") | (Jiayao_features[\"isLEJ\"]==\"T\")]#[[\"KEY\",\"effectGene\",\"NLEJ\",\"isLE\",\"isLEJ\"]]"
   ]
  },
  {
   "cell_type": "code",
   "execution_count": 161,
   "metadata": {},
   "outputs": [
    {
     "name": "stderr",
     "output_type": "stream",
     "text": [
      "/Users/jiayao/anaconda3/lib/python3.7/site-packages/ipykernel_launcher.py:10: SettingWithCopyWarning: \n",
      "A value is trying to be set on a copy of a slice from a DataFrame.\n",
      "Try using .loc[row_indexer,col_indexer] = value instead\n",
      "\n",
      "See the caveats in the documentation: http://pandas.pydata.org/pandas-docs/stable/indexing.html#indexing-view-versus-copy\n",
      "  # Remove the CWD from sys.path while we load stuff.\n",
      "/Users/jiayao/anaconda3/lib/python3.7/site-packages/ipykernel_launcher.py:13: FutureWarning: Sorting because non-concatenation axis is not aligned. A future version\n",
      "of pandas will change to not sort by default.\n",
      "\n",
      "To accept the future behavior, pass 'sort=False'.\n",
      "\n",
      "To retain the current behavior and silence the warning, pass 'sort=True'.\n",
      "\n",
      "  del sys.path[0]\n"
     ]
    }
   ],
   "source": [
    "df = pd.read_excel(\"/Users/jiayao/Work/BrainDisorders/data/nature13908-s2/Supplementary_Table_2.xlsx\")\n",
    "df = df[['familyId', 'location', 'variant', 'vcfVariant', 'inChild', 'fromParent', 'effectGene', \n",
    "         'effectType', 'familyDescription']]\n",
    "LGD = set([\"noStart\", \"frame-shift\", \"nonsense\", \"noEnd\", \"no-frame-shift-newStop\",\"splice-site\"])\n",
    "MIS = set([\"missense\"])\n",
    "SYN = set([\"synonymous\"])\n",
    "df_lgd = df[df[\"effectType\"].isin(LGD)]\n",
    "df_mis = df[df[\"effectType\"].isin(MIS)]\n",
    "GeneCount = df_lgd.groupby(\"effectGene\")[\"effectGene\"].count()\n",
    "df_lgd[\"GeneCount\"] = df_lgd.apply(lambda row: GeneCount[row[\"effectGene\"]], axis=1)\n",
    "df_rec_lgd = df_lgd[df_lgd[\"GeneCount\"]>=2]\n",
    "df_mis = df_mis[df_mis[\"familyId\"].isin(df_rec_lgd[\"familyId\"].values)]\n",
    "df_rec_lgd_mis = pd.concat([df_rec_lgd, df_mis], ignore_index=True)"
   ]
  },
  {
   "cell_type": "code",
   "execution_count": 162,
   "metadata": {},
   "outputs": [
    {
     "name": "stdout",
     "output_type": "stream",
     "text": [
      "['GeneCount', 'effectGene', 'effectType', 'familyDescription', 'familyId', 'fromParent', 'inChild', 'location', 'variant', 'vcfVariant', '#Chr', 'Start', 'End', 'Ref', 'Alt']\n"
     ]
    }
   ],
   "source": [
    "def MakeEnsemblDefault(row):\n",
    "    llist = row[\"vcfVariant\"].split(\":\")\n",
    "    CHR = llist[0]\n",
    "    Start = int(llist[1])\n",
    "    End = Start\n",
    "    Ref = llist[2] \n",
    "    Alt = llist[3]\n",
    "    return [CHR, Start, End, Ref, Alt]\n",
    "df_rec_lgd_mis[\"#Chr\"] = df_rec_lgd_mis.apply(lambda row: MakeEnsemblDefault(row)[0], axis=1)\n",
    "df_rec_lgd_mis[\"Start\"] = df_rec_lgd_mis.apply(lambda row: MakeEnsemblDefault(row)[1], axis=1)\n",
    "df_rec_lgd_mis[\"End\"] = df_rec_lgd_mis.apply(lambda row: MakeEnsemblDefault(row)[2], axis=1)\n",
    "df_rec_lgd_mis[\"Ref\"] = df_rec_lgd_mis.apply(lambda row: MakeEnsemblDefault(row)[3], axis=1)\n",
    "df_rec_lgd_mis[\"Alt\"] = df_rec_lgd_mis.apply(lambda row: MakeEnsemblDefault(row)[4], axis=1)\n",
    "print(list(df_rec_lgd_mis.columns.values))\n",
    "df_rec_lgd_mis = df_rec_lgd_mis[['#Chr', 'Start', 'End', 'Ref', 'Alt']]\n",
    "df_rec_lgd_mis.head(2)\n",
    "df_rec_lgd_mis.to_csv(\"unifiedmodel/iossifov_rec_lgd_mis.tsv\", index=False, sep=\"\\t\")"
   ]
  },
  {
   "cell_type": "code",
   "execution_count": 163,
   "metadata": {},
   "outputs": [],
   "source": [
    "anno = pd.read_csv(\"unifiedmodel/iossifov_rec_lgd_mis.annovar.csv\")\n",
    "anno[\"vcfVariant\"] = anno.apply(lambda row: \"{}:{}:{}:{}\".format(\n",
    "    row[\"Chr\"],row[\"Start\"],row[\"Ref\"],row[\"Alt\"]), axis=1)\n",
    "anno.head(2)\n",
    "Var2Cadd = dict(zip(anno['vcfVariant'].values, anno[\"CADD_phred\"].values))\n",
    "for k,v in Var2Cadd.items():\n",
    "    if v == \".\":\n",
    "        Var2Cadd[k] = 0"
   ]
  },
  {
   "cell_type": "code",
   "execution_count": 164,
   "metadata": {},
   "outputs": [],
   "source": [
    "#Select subset of mis and check lgd+mis\n",
    "df_mis[\"CADD_phred\"] = df_mis.apply(lambda row: float(Var2Cadd.get(row[\"vcfVariant\"], 0)), axis=1)\n",
    "df_mis = df_mis[(df_mis[\"effectType\"]==\"missense\") & (df_mis[\"CADD_phred\"]==0)]\n",
    "#display(df_mis)"
   ]
  },
  {
   "cell_type": "code",
   "execution_count": 165,
   "metadata": {},
   "outputs": [
    {
     "name": "stderr",
     "output_type": "stream",
     "text": [
      "/Users/jiayao/anaconda3/lib/python3.7/site-packages/ipykernel_launcher.py:1: FutureWarning: Sorting because non-concatenation axis is not aligned. A future version\n",
      "of pandas will change to not sort by default.\n",
      "\n",
      "To accept the future behavior, pass 'sort=False'.\n",
      "\n",
      "To retain the current behavior and silence the warning, pass 'sort=True'.\n",
      "\n",
      "  \"\"\"Entry point for launching an IPython kernel.\n"
     ]
    }
   ],
   "source": [
    "df_rec_lgd_mis = pd.concat([df_rec_lgd, df_mis], ignore_index=True)"
   ]
  },
  {
   "cell_type": "code",
   "execution_count": 166,
   "metadata": {},
   "outputs": [
    {
     "name": "stdout",
     "output_type": "stream",
     "text": [
      "[12600, 14376, 12810, 12752]\n"
     ]
    }
   ],
   "source": [
    "df_rec_lgd_mis = df_rec_lgd_mis.sort_values(by=\"familyId\")\n",
    "FamCount = df_rec_lgd_mis.groupby(\"familyId\")[\"familyId\"].count()\n",
    "df_rec_lgd_mis[\"FamCount\"] = df_rec_lgd_mis.apply(lambda row: FamCount[row[\"familyId\"]], axis=1)\n",
    "ha = df_rec_lgd_mis[df_rec_lgd_mis[\"FamCount\"]>=2]\n",
    "print(list(set(ha[\"familyId\"].values)))\n",
    "out = open(\"unifiedmodel/cadd.0.list\", 'wt')\n",
    "for i in list(set(ha[\"familyId\"].values)):\n",
    "    out.write(str(i)+\"\\n\")"
   ]
  },
  {
   "cell_type": "code",
   "execution_count": 154,
   "metadata": {},
   "outputs": [
    {
     "data": {
      "text/html": [
       "<div>\n",
       "<style scoped>\n",
       "    .dataframe tbody tr th:only-of-type {\n",
       "        vertical-align: middle;\n",
       "    }\n",
       "\n",
       "    .dataframe tbody tr th {\n",
       "        vertical-align: top;\n",
       "    }\n",
       "\n",
       "    .dataframe thead th {\n",
       "        text-align: right;\n",
       "    }\n",
       "</style>\n",
       "<table border=\"1\" class=\"dataframe\">\n",
       "  <thead>\n",
       "    <tr style=\"text-align: right;\">\n",
       "      <th></th>\n",
       "      <th>CADD_phred</th>\n",
       "      <th>GeneCount</th>\n",
       "      <th>effectGene</th>\n",
       "      <th>effectType</th>\n",
       "      <th>familyDescription</th>\n",
       "      <th>familyId</th>\n",
       "      <th>fromParent</th>\n",
       "      <th>inChild</th>\n",
       "      <th>location</th>\n",
       "      <th>variant</th>\n",
       "      <th>vcfVariant</th>\n",
       "      <th>FamCount</th>\n",
       "    </tr>\n",
       "  </thead>\n",
       "  <tbody>\n",
       "  </tbody>\n",
       "</table>\n",
       "</div>"
      ],
      "text/plain": [
       "Empty DataFrame\n",
       "Columns: [CADD_phred, GeneCount, effectGene, effectType, familyDescription, familyId, fromParent, inChild, location, variant, vcfVariant, FamCount]\n",
       "Index: []"
      ]
     },
     "execution_count": 154,
     "metadata": {},
     "output_type": "execute_result"
    }
   ],
   "source": [
    "#display(df_rec_lgd_mis[df_rec_lgd_mis[\"FamCount\"]>=2])\n",
    "ha[ha[\"effectGene\"]==\"KMT2E\"]\n",
    "ha[ha[\"familyId\"]==14299]"
   ]
  },
  {
   "cell_type": "code",
   "execution_count": null,
   "metadata": {},
   "outputs": [],
   "source": []
  },
  {
   "cell_type": "code",
   "execution_count": 221,
   "metadata": {},
   "outputs": [],
   "source": [
    "Genes = [\"ASXL3\",\"CHD2\",\"CHD8\",\"DSCAM\",\"DYRK1A\",\"FOXP1\",\"HIVEP2\",\"SCN2A\"]\n",
    "Genes = [\"ASXL3\",\"CHD2\",\"CHD8\",\"DSCAM\",\"DYRK1A\",\"FOXP1\",\"HIVEP2\",\"SCN2A\",\"ADNP\",\"CHAMP1\",\"CSNK2A1\",\"GRIN2B\",\n",
    "        \"HNRNPH2\",\"MED13L\",\"PACS1\",\"PPP2R5D\",\"SETBP1\",\"STXBP1\",\"SYNGAP1\"]\n",
    "gtf = \"/Users/jiayao/Work/BrainDisorders/data/gencode.v19.annotation.gtf\"\n",
    "out = open(\"unifiedmodel/VIPgenes.gencode.v19.gtf\", 'wt')\n",
    "hand = open(gtf, 'rt')\n",
    "for l in hand:\n",
    "    if l.startswith(\"#\"):\n",
    "        out.write(l)\n",
    "        continue\n",
    "    llist = l.strip().split(\"\\t\")\n",
    "    info = gtf_info_parser(llist[8]) \n",
    "    if info[\"gene_name\"] in Genes:\n",
    "        out.write(l)"
   ]
  },
  {
   "cell_type": "code",
   "execution_count": 254,
   "metadata": {},
   "outputs": [
    {
     "name": "stdout",
     "output_type": "stream",
     "text": [
      "{'SCN2A': 'ENST00000357398.3', 'FOXP1': 'ENST00000318789.4', 'SYNGAP1': 'ENST00000418600.2', 'PPP2R5D': 'ENST00000485511.1', 'HIVEP2': 'ENST00000367603.2', 'STXBP1': 'ENST00000373302.3', 'PACS1': 'ENST00000320580.4', 'GRIN2B': 'ENST00000609686.1', 'MED13L': 'ENST00000281928.3', 'CHAMP1': 'ENST00000361283.1', 'CHD8': 'ENST00000399982.2', 'CHD2': 'ENST00000394196.4', 'ASXL3': 'ENST00000269197.5', 'SETBP1': 'ENST00000282030.5', 'CSNK2A1': 'ENST00000217244.3', 'ADNP': 'ENST00000396029.3', 'DYRK1A': 'ENST00000339659.4', 'DSCAM': 'ENST00000400454.1', 'HNRNPH2': 'ENST00000400454.1'}\n"
     ]
    }
   ],
   "source": [
    "Gene2Trans = {}\n",
    "hand = open(\"unifiedmodel/VIPgenes.gencode.v19.gtf\", 'rt')\n",
    "for l in hand:\n",
    "    if l.startswith(\"#\"):\n",
    "        continue\n",
    "    llist = l.strip().split(\"\\t\")\n",
    "    info = gtf_info_parser(llist[8]) \n",
    "    CHR = llist[0].lstrip(\"chr\")\n",
    "    strand = llist[6]\n",
    "    start = (llist[3])\n",
    "    end = (llist[4])\n",
    "    if llist[2] == \"transcript\" and info[\"transcript_type\"] == \"protein_coding\":\n",
    "        Gene2Trans[info[\"gene_name\"]] = info[\"transcript_id\"]\n",
    "Gene2Trans[\"ASXL3\"]=\"ENST00000269197.5\"\n",
    "Gene2Trans[\"CHD8\"]=\"ENST00000399982.2\"\n",
    "Gene2Trans[\"DYRK1A\"]=\"ENST00000339659.4\"\n",
    "Gene2Trans[\"CHD2\"]=\"ENST00000394196.4\"\n",
    "Gene2Trans[\"SCN2A\"]=\"ENST00000357398.3\"\n",
    "Gene2Trans[\"FOXP1\"]=\"ENST00000318789.4\"\n",
    "Gene2Trans[\"HIVEP2\"]=\"ENST00000367603.2\"\n",
    "Gene2Trans[\"PPP2R5D\"]=\"ENST00000485511.1\"\n",
    "Gene2Trans[\"HIVEP2\"]=\"ENST00000367603.2\"\n",
    "Gene2Trans[\"SYNGAP1\"]=\"ENST00000418600.2\"\n",
    "Gene2Trans[\"STXBP1\"]=\"ENST00000373302.3\"\n",
    "Gene2Trans[\"PACS1\"]=\"ENST00000320580.4\"\n",
    "Gene2Trans[\"MED13L\"]=\"ENST00000281928.3\"\n",
    "Gene2Trans[\"CHAMP1\"]=\"ENST00000361283.1\"\n",
    "Gene2Trans[\"SETBP1\"]=\"ENST00000282030.5\"\n",
    "Gene2Trans[\"CSNK2A1\"]=\"ENST00000217244.3\"\n",
    "Gene2Trans[\"ADNP\"]=\"ENST00000396029.3\"\n",
    "Gene2Trans[\"DSCAM\"]=\"ENST00000400454.1\"\n",
    "Gene2Trans[\"HNRNPH2\"]=\"ENST00000400454.1\"\n",
    "print (Gene2Trans)"
   ]
  },
  {
   "cell_type": "code",
   "execution_count": 283,
   "metadata": {},
   "outputs": [],
   "source": [
    "# VIP phenotype\n",
    "DIR = \"/Users/jiayao/Work/BrainDisorders/VIP_phenotype/Simons_VIP_Phase_2_Single_Gene_Dataset_v5.0\"\n",
    "#Genes = [\"ASXL3\",\"CHD2\",\"CHD8\",\"DSCAM\",\"DYRK1A\",\"FOXP1\",\"HIVEP2\",\"SCN2A\"]\n",
    "#Genes = [\"ASXL3\",\"DYRK1A\",\"HIVEP2\",\"SCN2A\"]\n",
    "dfs1 = []\n",
    "dfs2 = []\n",
    "for gene in Genes:\n",
    "    try:\n",
    "        df1 = pd.read_csv(\"/\".join([DIR,gene,\"vineland_ii.csv\"]))\n",
    "        dfs1.append(df1)\n",
    "    except:\n",
    "        pass\n",
    "    try:\n",
    "        df2 = pd.read_csv(\"/\".join([DIR,gene,\"lab_results.csv\"]))\n",
    "        dfs2.append(df2)\n",
    "    except:\n",
    "        pass\n",
    "VABS_DF = pd.concat(dfs1)\n",
    "LGD_DF = pd.concat(dfs2)"
   ]
  },
  {
   "cell_type": "code",
   "execution_count": 284,
   "metadata": {
    "scrolled": false
   },
   "outputs": [
    {
     "data": {
      "text/html": [
       "<div>\n",
       "<style scoped>\n",
       "    .dataframe tbody tr th:only-of-type {\n",
       "        vertical-align: middle;\n",
       "    }\n",
       "\n",
       "    .dataframe tbody tr th {\n",
       "        vertical-align: top;\n",
       "    }\n",
       "\n",
       "    .dataframe thead th {\n",
       "        text-align: right;\n",
       "    }\n",
       "</style>\n",
       "<table border=\"1\" class=\"dataframe\">\n",
       "  <thead>\n",
       "    <tr style=\"text-align: right;\">\n",
       "      <th></th>\n",
       "      <th>sfari_id</th>\n",
       "      <th>relationship_to_iip</th>\n",
       "      <th>genetic_status</th>\n",
       "      <th>lab_results_single_hgvs</th>\n",
       "    </tr>\n",
       "  </thead>\n",
       "  <tbody>\n",
       "    <tr>\n",
       "      <th>0</th>\n",
       "      <td>15710-x1</td>\n",
       "      <td>Initially identified proband</td>\n",
       "      <td>ASXL3</td>\n",
       "      <td>3964C&gt;T</td>\n",
       "    </tr>\n",
       "    <tr>\n",
       "      <th>3</th>\n",
       "      <td>15715-x1</td>\n",
       "      <td>Initially identified proband</td>\n",
       "      <td>ASXL3</td>\n",
       "      <td>NaN</td>\n",
       "    </tr>\n",
       "  </tbody>\n",
       "</table>\n",
       "</div>"
      ],
      "text/plain": [
       "   sfari_id           relationship_to_iip genetic_status  \\\n",
       "0  15710-x1  Initially identified proband          ASXL3   \n",
       "3  15715-x1  Initially identified proband          ASXL3   \n",
       "\n",
       "  lab_results_single_hgvs  \n",
       "0                 3964C>T  \n",
       "3                     NaN  "
      ]
     },
     "execution_count": 284,
     "metadata": {},
     "output_type": "execute_result"
    }
   ],
   "source": [
    "LGD_DF = LGD_DF[[\"sfari_id\", \"relationship_to_iip\", \"genetic_status\",\"lab_results_single_hgvs\"]]\n",
    "LGD_DF = LGD_DF[LGD_DF[\"relationship_to_iip\"]==\"Initially identified proband\"]\n",
    "VABS_DF = VABS_DF[VABS_DF[\"relationship_to_iip\"]==\"Initially identified proband\"]\n",
    "#LGD_DF = LGD_DF.dropna()\n",
    "LGD_DF.head(2)"
   ]
  },
  {
   "cell_type": "code",
   "execution_count": 286,
   "metadata": {},
   "outputs": [
    {
     "data": {
      "text/plain": [
       "321"
      ]
     },
     "execution_count": 286,
     "metadata": {},
     "output_type": "execute_result"
    }
   ],
   "source": [
    "LGD_DF.shape[0]\n",
    "len(set(LGD_DF[\"sfari_id\"].values))"
   ]
  },
  {
   "cell_type": "code",
   "execution_count": 287,
   "metadata": {},
   "outputs": [
    {
     "data": {
      "text/plain": [
       "334"
      ]
     },
     "execution_count": 287,
     "metadata": {},
     "output_type": "execute_result"
    }
   ],
   "source": [
    "15+26+7+5+10+12+30+10+11+14+20+28+83+8+32+23"
   ]
  },
  {
   "cell_type": "code",
   "execution_count": 274,
   "metadata": {},
   "outputs": [
    {
     "data": {
      "text/html": [
       "<div>\n",
       "<style scoped>\n",
       "    .dataframe tbody tr th:only-of-type {\n",
       "        vertical-align: middle;\n",
       "    }\n",
       "\n",
       "    .dataframe tbody tr th {\n",
       "        vertical-align: top;\n",
       "    }\n",
       "\n",
       "    .dataframe thead th {\n",
       "        text-align: right;\n",
       "    }\n",
       "</style>\n",
       "<table border=\"1\" class=\"dataframe\">\n",
       "  <thead>\n",
       "    <tr style=\"text-align: right;\">\n",
       "      <th></th>\n",
       "      <th>sfari_id</th>\n",
       "      <th>sex</th>\n",
       "      <th>genetic_status</th>\n",
       "      <th>inheritance_status</th>\n",
       "      <th>composite_standard_score</th>\n",
       "    </tr>\n",
       "  </thead>\n",
       "  <tbody>\n",
       "    <tr>\n",
       "      <th>0</th>\n",
       "      <td>15710-x1</td>\n",
       "      <td>male</td>\n",
       "      <td>ASXL3</td>\n",
       "      <td>de-novo</td>\n",
       "      <td>75.0</td>\n",
       "    </tr>\n",
       "    <tr>\n",
       "      <th>1</th>\n",
       "      <td>16159-x1</td>\n",
       "      <td>female</td>\n",
       "      <td>ASXL3</td>\n",
       "      <td>de-novo</td>\n",
       "      <td>37.0</td>\n",
       "    </tr>\n",
       "  </tbody>\n",
       "</table>\n",
       "</div>"
      ],
      "text/plain": [
       "   sfari_id     sex genetic_status inheritance_status  \\\n",
       "0  15710-x1    male          ASXL3            de-novo   \n",
       "1  16159-x1  female          ASXL3            de-novo   \n",
       "\n",
       "   composite_standard_score  \n",
       "0                      75.0  \n",
       "1                      37.0  "
      ]
     },
     "execution_count": 274,
     "metadata": {},
     "output_type": "execute_result"
    }
   ],
   "source": [
    "VABS_DF = VABS_DF[[\"sfari_id\",\"sex\",\"genetic_status\",\"inheritance_status\", \"composite_standard_score\"]]\n",
    "VABS_DF = VABS_DF.reset_index(drop=True)\n",
    "VABS_DF.head(2)"
   ]
  },
  {
   "cell_type": "code",
   "execution_count": 275,
   "metadata": {},
   "outputs": [
    {
     "data": {
      "text/html": [
       "<div>\n",
       "<style scoped>\n",
       "    .dataframe tbody tr th:only-of-type {\n",
       "        vertical-align: middle;\n",
       "    }\n",
       "\n",
       "    .dataframe tbody tr th {\n",
       "        vertical-align: top;\n",
       "    }\n",
       "\n",
       "    .dataframe thead th {\n",
       "        text-align: right;\n",
       "    }\n",
       "</style>\n",
       "<table border=\"1\" class=\"dataframe\">\n",
       "  <thead>\n",
       "    <tr style=\"text-align: right;\">\n",
       "      <th></th>\n",
       "      <th>sfari_id</th>\n",
       "      <th>sex</th>\n",
       "      <th>genetic_status</th>\n",
       "      <th>inheritance_status</th>\n",
       "      <th>composite_standard_score</th>\n",
       "    </tr>\n",
       "  </thead>\n",
       "  <tbody>\n",
       "    <tr>\n",
       "      <th>0</th>\n",
       "      <td>15710-x1</td>\n",
       "      <td>male</td>\n",
       "      <td>ASXL3</td>\n",
       "      <td>de-novo</td>\n",
       "      <td>75.0</td>\n",
       "    </tr>\n",
       "    <tr>\n",
       "      <th>1</th>\n",
       "      <td>16159-x1</td>\n",
       "      <td>female</td>\n",
       "      <td>ASXL3</td>\n",
       "      <td>de-novo</td>\n",
       "      <td>37.0</td>\n",
       "    </tr>\n",
       "    <tr>\n",
       "      <th>2</th>\n",
       "      <td>16171-x1</td>\n",
       "      <td>female</td>\n",
       "      <td>ASXL3</td>\n",
       "      <td>de-novo</td>\n",
       "      <td>32.0</td>\n",
       "    </tr>\n",
       "    <tr>\n",
       "      <th>3</th>\n",
       "      <td>16179-x1</td>\n",
       "      <td>female</td>\n",
       "      <td>ASXL3</td>\n",
       "      <td>de-novo</td>\n",
       "      <td>57.0</td>\n",
       "    </tr>\n",
       "    <tr>\n",
       "      <th>4</th>\n",
       "      <td>16185-x1</td>\n",
       "      <td>male</td>\n",
       "      <td>ASXL3</td>\n",
       "      <td>de-novo</td>\n",
       "      <td>68.0</td>\n",
       "    </tr>\n",
       "  </tbody>\n",
       "</table>\n",
       "</div>"
      ],
      "text/plain": [
       "   sfari_id     sex genetic_status inheritance_status  \\\n",
       "0  15710-x1    male          ASXL3            de-novo   \n",
       "1  16159-x1  female          ASXL3            de-novo   \n",
       "2  16171-x1  female          ASXL3            de-novo   \n",
       "3  16179-x1  female          ASXL3            de-novo   \n",
       "4  16185-x1    male          ASXL3            de-novo   \n",
       "\n",
       "   composite_standard_score  \n",
       "0                      75.0  \n",
       "1                      37.0  \n",
       "2                      32.0  \n",
       "3                      57.0  \n",
       "4                      68.0  "
      ]
     },
     "execution_count": 275,
     "metadata": {},
     "output_type": "execute_result"
    }
   ],
   "source": [
    "VABS_DF = VABS_DF.dropna()\n",
    "VABS_DF.head()"
   ]
  },
  {
   "cell_type": "code",
   "execution_count": 276,
   "metadata": {},
   "outputs": [],
   "source": [
    "def addHGVS(row, Gene2Trans):\n",
    "    Trans = Gene2Trans[row[\"genetic_status\"]]\n",
    "    hgvs = row[\"lab_results_single_hgvs\"]\n",
    "    hgvs = \"c.{}\".format(hgvs) if not (hgvs.startswith(\"c.\")) else hgvs\n",
    "    return \"{}:{}\".format(Trans, hgvs)\n",
    "LGD_DF[\"HGVS\"] = LGD_DF.apply(lambda row:addHGVS(row, Gene2Trans), axis=1)"
   ]
  },
  {
   "cell_type": "code",
   "execution_count": 277,
   "metadata": {},
   "outputs": [],
   "source": [
    "LGD_DF.to_csv(\"unifiedmodel/VIP.Genes.HGVS.tsv\", sep=\"\\t\", index=False)"
   ]
  },
  {
   "cell_type": "code",
   "execution_count": 278,
   "metadata": {},
   "outputs": [
    {
     "data": {
      "text/plain": [
       "['ENST00000357398.3',\n",
       " 'ENST00000318789.4',\n",
       " 'ENST00000418600.2',\n",
       " 'ENST00000485511.1',\n",
       " 'ENST00000367603.2',\n",
       " 'ENST00000373302.3',\n",
       " 'ENST00000320580.4',\n",
       " 'ENST00000609686.1',\n",
       " 'ENST00000281928.3',\n",
       " 'ENST00000361283.1',\n",
       " 'ENST00000399982.2',\n",
       " 'ENST00000394196.4',\n",
       " 'ENST00000269197.5',\n",
       " 'ENST00000282030.5',\n",
       " 'ENST00000217244.3',\n",
       " 'ENST00000396029.3',\n",
       " 'ENST00000339659.4',\n",
       " 'ENST00000400454.1',\n",
       " 'ENST00000400454.1']"
      ]
     },
     "execution_count": 278,
     "metadata": {},
     "output_type": "execute_result"
    }
   ],
   "source": [
    "Transcripts = [x for x in Gene2Trans.values()]\n",
    "Transcripts"
   ]
  },
  {
   "cell_type": "code",
   "execution_count": 279,
   "metadata": {
    "scrolled": true
   },
   "outputs": [
    {
     "name": "stdout",
     "output_type": "stream",
     "text": [
      "(115, 47)\n"
     ]
    }
   ],
   "source": [
    "VEP = pd.read_csv(\"unifiedmodel/VIP.hgvs.vep.txt\", delimiter=\"\\t\")\n",
    "Transcripts = [x for x in Gene2Trans.values()]\n",
    "LGDs = ['frameshift_variant', 'missense_variant,splice_region_variant', \n",
    "        'stop_gained', 'splice_donor_variant']\n",
    "VEP = VEP[(VEP[\"Feature\"].isin(Transcripts)) & (VEP[\"Consequence\"].isin(LGDs))]\n",
    "VEP = VEP.drop_duplicates(subset=\"#Uploaded_variation\", keep='first')\n",
    "VEP.set_index(\"#Uploaded_variation\", inplace=True)\n",
    "VEP.to_csv(\"unifiedmodel/VIP.VEP.RecGenes.LGD.txt\", sep=\"\\t\")\n",
    "print(VEP.shape)"
   ]
  },
  {
   "cell_type": "code",
   "execution_count": 280,
   "metadata": {
    "scrolled": true
   },
   "outputs": [],
   "source": [
    "def serachVEP(row, vip_hgvs, Gene2Trans, VEP):\n",
    "    transcript = Gene2Trans[row[\"genetic_status\"]]\n",
    "    vip_hgvs = \"c.{}\".format(vip_hgvs) if not (vip_hgvs.startswith(\"c.\")) else vip_hgvs\n",
    "    key = \"{}:{}\".format(transcript, vip_hgvs)\n",
    "    location = VEP.loc[key, \"Location\"]\n",
    "    return location\n",
    "    \n",
    "for i, row in VABS_DF.iterrows():\n",
    "    spid, gene = row[\"sfari_id\"], row[\"genetic_status\"]\n",
    "    vip_hgvs = LGD_DF[(LGD_DF[\"sfari_id\"]==spid) & ((LGD_DF[\"genetic_status\"]==gene))]\n",
    "    if vip_hgvs.shape[0] == 1:\n",
    "        vip_hgvs = vip_hgvs[\"lab_results_single_hgvs\"].values[0]\n",
    "        try:\n",
    "            VABS_DF.at[i, \"location\"] = serachVEP(row, vip_hgvs, Gene2Trans, VEP)\n",
    "        except KeyError:\n",
    "            #print(vip_hgvs)\n",
    "            VABS_DF.at[i, \"location\"] = np.nan\n",
    "    else:\n",
    "        VABS_DF.at[i, \"location\"] = np.nan\n",
    "    VABS_DF.at[i, \"sex\"] = row[\"sex\"][0].upper()"
   ]
  },
  {
   "cell_type": "code",
   "execution_count": 281,
   "metadata": {},
   "outputs": [
    {
     "name": "stdout",
     "output_type": "stream",
     "text": [
      "356\n",
      "123\n"
     ]
    }
   ],
   "source": [
    "print(VABS_DF.shape[0])\n",
    "VABS_DF = VABS_DF.dropna()\n",
    "print(VABS_DF.shape[0])"
   ]
  },
  {
   "cell_type": "code",
   "execution_count": 270,
   "metadata": {},
   "outputs": [],
   "source": [
    "#VABS_DF.to_csv(\"unifiedmodel/vip.recgenes.withlocation.csv\", index=False)"
   ]
  },
  {
   "cell_type": "code",
   "execution_count": 282,
   "metadata": {},
   "outputs": [
    {
     "data": {
      "text/html": [
       "<div>\n",
       "<style scoped>\n",
       "    .dataframe tbody tr th:only-of-type {\n",
       "        vertical-align: middle;\n",
       "    }\n",
       "\n",
       "    .dataframe tbody tr th {\n",
       "        vertical-align: top;\n",
       "    }\n",
       "\n",
       "    .dataframe thead th {\n",
       "        text-align: right;\n",
       "    }\n",
       "</style>\n",
       "<table border=\"1\" class=\"dataframe\">\n",
       "  <thead>\n",
       "    <tr style=\"text-align: right;\">\n",
       "      <th></th>\n",
       "      <th>sfari_id</th>\n",
       "      <th>sex</th>\n",
       "      <th>genetic_status</th>\n",
       "      <th>inheritance_status</th>\n",
       "      <th>composite_standard_score</th>\n",
       "      <th>location</th>\n",
       "    </tr>\n",
       "  </thead>\n",
       "  <tbody>\n",
       "    <tr>\n",
       "      <th>0</th>\n",
       "      <td>15710-x1</td>\n",
       "      <td>M</td>\n",
       "      <td>ASXL3</td>\n",
       "      <td>de-novo</td>\n",
       "      <td>75.0</td>\n",
       "      <td>18:31323776-31323776</td>\n",
       "    </tr>\n",
       "    <tr>\n",
       "      <th>1</th>\n",
       "      <td>16159-x1</td>\n",
       "      <td>F</td>\n",
       "      <td>ASXL3</td>\n",
       "      <td>de-novo</td>\n",
       "      <td>37.0</td>\n",
       "      <td>18:31319345-31319349</td>\n",
       "    </tr>\n",
       "  </tbody>\n",
       "</table>\n",
       "</div>"
      ],
      "text/plain": [
       "   sfari_id sex genetic_status inheritance_status  composite_standard_score  \\\n",
       "0  15710-x1   M          ASXL3            de-novo                      75.0   \n",
       "1  16159-x1   F          ASXL3            de-novo                      37.0   \n",
       "\n",
       "               location  \n",
       "0  18:31323776-31323776  \n",
       "1  18:31319345-31319349  "
      ]
     },
     "execution_count": 282,
     "metadata": {},
     "output_type": "execute_result"
    }
   ],
   "source": [
    "VABS_DF.head(2)"
   ]
  },
  {
   "cell_type": "code",
   "execution_count": null,
   "metadata": {},
   "outputs": [],
   "source": []
  },
  {
   "cell_type": "code",
   "execution_count": 206,
   "metadata": {},
   "outputs": [],
   "source": [
    "Jiayao_features = pd.read_csv(\"unifiedmodel/features.jiayao.csv\")\n",
    "#Jiayao_features.loc[Jiayao_features[\"effectGene\"]==\"MLL5\", \"effectGene\"] = \"KMT2E\" \n",
    "gtex = pd.read_csv(\"../data/GTEx.RecGenes.exon.csv\")\n",
    "Exons = pd.read_csv(\"../data/gencode.v19.genes.v7.patched_contigs.exons.txt\", delimiter=\"\\t\")"
   ]
  },
  {
   "cell_type": "code",
   "execution_count": 214,
   "metadata": {},
   "outputs": [
    {
     "data": {
      "text/html": [
       "<div>\n",
       "<style scoped>\n",
       "    .dataframe tbody tr th:only-of-type {\n",
       "        vertical-align: middle;\n",
       "    }\n",
       "\n",
       "    .dataframe tbody tr th {\n",
       "        vertical-align: top;\n",
       "    }\n",
       "\n",
       "    .dataframe thead th {\n",
       "        text-align: right;\n",
       "    }\n",
       "</style>\n",
       "<table border=\"1\" class=\"dataframe\">\n",
       "  <thead>\n",
       "    <tr style=\"text-align: right;\">\n",
       "      <th></th>\n",
       "      <th>KEY</th>\n",
       "      <th>familyId</th>\n",
       "      <th>vcfVariant</th>\n",
       "      <th>inChild</th>\n",
       "      <th>effectGene</th>\n",
       "      <th>effectType</th>\n",
       "      <th>gender</th>\n",
       "      <th>VIQ</th>\n",
       "      <th>NVIQ</th>\n",
       "      <th>ExonID</th>\n",
       "      <th>...</th>\n",
       "      <th>Rel.exp.amean</th>\n",
       "      <th>Rel.exp.gmean</th>\n",
       "      <th>Rel.exp.prenatal</th>\n",
       "      <th>Rel.exp.postnatal</th>\n",
       "      <th>Prenatal.Bias</th>\n",
       "      <th>phyloP100way</th>\n",
       "      <th>phastCons100way</th>\n",
       "      <th>gender1</th>\n",
       "      <th>Age</th>\n",
       "      <th>Dosage</th>\n",
       "    </tr>\n",
       "  </thead>\n",
       "  <tbody>\n",
       "    <tr>\n",
       "      <th>0</th>\n",
       "      <td>13545-20:49509095</td>\n",
       "      <td>13545</td>\n",
       "      <td>20:49509094:G:GT</td>\n",
       "      <td>pM</td>\n",
       "      <td>ADNP</td>\n",
       "      <td>frame-shift</td>\n",
       "      <td>M</td>\n",
       "      <td>23.0</td>\n",
       "      <td>38.0</td>\n",
       "      <td>41150</td>\n",
       "      <td>...</td>\n",
       "      <td>1.248356</td>\n",
       "      <td>1.29008</td>\n",
       "      <td>1.215442</td>\n",
       "      <td>1.32567</td>\n",
       "      <td>1.423534</td>\n",
       "      <td>2.813101</td>\n",
       "      <td>0.732081</td>\n",
       "      <td>1</td>\n",
       "      <td>61.0</td>\n",
       "      <td>56.455400</td>\n",
       "    </tr>\n",
       "    <tr>\n",
       "      <th>1</th>\n",
       "      <td>12130-20:49510028</td>\n",
       "      <td>12130</td>\n",
       "      <td>20:49510027:CTT:C</td>\n",
       "      <td>pF</td>\n",
       "      <td>ADNP</td>\n",
       "      <td>frame-shift</td>\n",
       "      <td>F</td>\n",
       "      <td>62.0</td>\n",
       "      <td>55.0</td>\n",
       "      <td>41150</td>\n",
       "      <td>...</td>\n",
       "      <td>1.248356</td>\n",
       "      <td>1.29008</td>\n",
       "      <td>1.215442</td>\n",
       "      <td>1.32567</td>\n",
       "      <td>1.423534</td>\n",
       "      <td>2.813101</td>\n",
       "      <td>0.732081</td>\n",
       "      <td>2</td>\n",
       "      <td>101.0</td>\n",
       "      <td>40.005218</td>\n",
       "    </tr>\n",
       "  </tbody>\n",
       "</table>\n",
       "<p>2 rows × 30 columns</p>\n",
       "</div>"
      ],
      "text/plain": [
       "                 KEY  familyId         vcfVariant inChild effectGene  \\\n",
       "0  13545-20:49509095     13545   20:49509094:G:GT      pM       ADNP   \n",
       "1  12130-20:49510028     12130  20:49510027:CTT:C      pF       ADNP   \n",
       "\n",
       "    effectType gender   VIQ  NVIQ  ExonID    ...      Rel.exp.amean  \\\n",
       "0  frame-shift      M  23.0  38.0   41150    ...           1.248356   \n",
       "1  frame-shift      F  62.0  55.0   41150    ...           1.248356   \n",
       "\n",
       "   Rel.exp.gmean  Rel.exp.prenatal  Rel.exp.postnatal  Prenatal.Bias  \\\n",
       "0        1.29008          1.215442            1.32567       1.423534   \n",
       "1        1.29008          1.215442            1.32567       1.423534   \n",
       "\n",
       "   phyloP100way  phastCons100way  gender1    Age     Dosage  \n",
       "0      2.813101         0.732081        1   61.0  56.455400  \n",
       "1      2.813101         0.732081        2  101.0  40.005218  \n",
       "\n",
       "[2 rows x 30 columns]"
      ]
     },
     "execution_count": 214,
     "metadata": {},
     "output_type": "execute_result"
    }
   ],
   "source": [
    "Jiayao_features.head(2)"
   ]
  },
  {
   "cell_type": "code",
   "execution_count": 215,
   "metadata": {},
   "outputs": [
    {
     "name": "stdout",
     "output_type": "stream",
     "text": [
      "27\n"
     ]
    }
   ],
   "source": [
    "print(len(set(Jiayao_features[\"effectGene\"].values)))"
   ]
  },
  {
   "cell_type": "code",
   "execution_count": 207,
   "metadata": {},
   "outputs": [
    {
     "data": {
      "text/html": [
       "<div>\n",
       "<style scoped>\n",
       "    .dataframe tbody tr th:only-of-type {\n",
       "        vertical-align: middle;\n",
       "    }\n",
       "\n",
       "    .dataframe tbody tr th {\n",
       "        vertical-align: top;\n",
       "    }\n",
       "\n",
       "    .dataframe thead th {\n",
       "        text-align: right;\n",
       "    }\n",
       "</style>\n",
       "<table border=\"1\" class=\"dataframe\">\n",
       "  <thead>\n",
       "    <tr style=\"text-align: right;\">\n",
       "      <th></th>\n",
       "      <th>exon_id</th>\n",
       "      <th>chr</th>\n",
       "      <th>start_pos</th>\n",
       "      <th>end_pos</th>\n",
       "      <th>strand</th>\n",
       "    </tr>\n",
       "  </thead>\n",
       "  <tbody>\n",
       "    <tr>\n",
       "      <th>0</th>\n",
       "      <td>ENSG00000223972.4_1</td>\n",
       "      <td>1</td>\n",
       "      <td>11869</td>\n",
       "      <td>12227</td>\n",
       "      <td>+</td>\n",
       "    </tr>\n",
       "    <tr>\n",
       "      <th>1</th>\n",
       "      <td>ENSG00000223972.4_2</td>\n",
       "      <td>1</td>\n",
       "      <td>12595</td>\n",
       "      <td>12721</td>\n",
       "      <td>+</td>\n",
       "    </tr>\n",
       "  </tbody>\n",
       "</table>\n",
       "</div>"
      ],
      "text/plain": [
       "               exon_id chr  start_pos  end_pos strand\n",
       "0  ENSG00000223972.4_1   1      11869    12227      +\n",
       "1  ENSG00000223972.4_2   1      12595    12721      +"
      ]
     },
     "execution_count": 207,
     "metadata": {},
     "output_type": "execute_result"
    }
   ],
   "source": [
    "Exons.head(2)"
   ]
  },
  {
   "cell_type": "code",
   "execution_count": 208,
   "metadata": {},
   "outputs": [
    {
     "data": {
      "text/html": [
       "<div>\n",
       "<style scoped>\n",
       "    .dataframe tbody tr th:only-of-type {\n",
       "        vertical-align: middle;\n",
       "    }\n",
       "\n",
       "    .dataframe tbody tr th {\n",
       "        vertical-align: top;\n",
       "    }\n",
       "\n",
       "    .dataframe thead th {\n",
       "        text-align: right;\n",
       "    }\n",
       "</style>\n",
       "<table border=\"1\" class=\"dataframe\">\n",
       "  <thead>\n",
       "    <tr style=\"text-align: right;\">\n",
       "      <th></th>\n",
       "      <th>Description</th>\n",
       "      <th>GTEX-1117F-0226-SM-5GZZ7</th>\n",
       "      <th>GTEX-1117F-0426-SM-5EGHI</th>\n",
       "      <th>GTEX-1117F-0526-SM-5EGHJ</th>\n",
       "      <th>GTEX-1117F-0626-SM-5N9CS</th>\n",
       "      <th>GTEX-1117F-0726-SM-5GIEN</th>\n",
       "      <th>GTEX-1117F-1326-SM-5EGHH</th>\n",
       "      <th>GTEX-1117F-2226-SM-5N9CH</th>\n",
       "      <th>GTEX-1117F-2426-SM-5EGGH</th>\n",
       "      <th>GTEX-1117F-2526-SM-5GZY6</th>\n",
       "      <th>...</th>\n",
       "      <th>GTEX-ZZPU-1226-SM-5N9CK</th>\n",
       "      <th>GTEX-ZZPU-1326-SM-5GZWS</th>\n",
       "      <th>GTEX-ZZPU-1426-SM-5GZZ6</th>\n",
       "      <th>GTEX-ZZPU-1826-SM-5E43L</th>\n",
       "      <th>GTEX-ZZPU-2126-SM-5EGIU</th>\n",
       "      <th>GTEX-ZZPU-2226-SM-5EGIV</th>\n",
       "      <th>GTEX-ZZPU-2426-SM-5E44I</th>\n",
       "      <th>GTEX-ZZPU-2626-SM-5E45Y</th>\n",
       "      <th>GTEX-ZZPU-2726-SM-5NQ8O</th>\n",
       "      <th>Name</th>\n",
       "    </tr>\n",
       "  </thead>\n",
       "  <tbody>\n",
       "    <tr>\n",
       "      <th>0</th>\n",
       "      <td>POGZ</td>\n",
       "      <td>4.947368</td>\n",
       "      <td>0.0</td>\n",
       "      <td>14.092105</td>\n",
       "      <td>7.355263</td>\n",
       "      <td>0.486842</td>\n",
       "      <td>5.828947</td>\n",
       "      <td>10.421053</td>\n",
       "      <td>9.776316</td>\n",
       "      <td>8.513158</td>\n",
       "      <td>...</td>\n",
       "      <td>12.078947</td>\n",
       "      <td>11.460526</td>\n",
       "      <td>4.407895</td>\n",
       "      <td>10.671053</td>\n",
       "      <td>21.223684</td>\n",
       "      <td>7.881579</td>\n",
       "      <td>6.697368</td>\n",
       "      <td>9.157895</td>\n",
       "      <td>8.039474</td>\n",
       "      <td>ENSG00000143442.17_1</td>\n",
       "    </tr>\n",
       "    <tr>\n",
       "      <th>1</th>\n",
       "      <td>POGZ</td>\n",
       "      <td>4.000000</td>\n",
       "      <td>1.0</td>\n",
       "      <td>7.763158</td>\n",
       "      <td>25.171053</td>\n",
       "      <td>7.000000</td>\n",
       "      <td>17.552631</td>\n",
       "      <td>19.842106</td>\n",
       "      <td>14.578947</td>\n",
       "      <td>20.171053</td>\n",
       "      <td>...</td>\n",
       "      <td>25.381578</td>\n",
       "      <td>13.302632</td>\n",
       "      <td>12.539474</td>\n",
       "      <td>20.657894</td>\n",
       "      <td>34.197370</td>\n",
       "      <td>4.105263</td>\n",
       "      <td>9.460526</td>\n",
       "      <td>1.000000</td>\n",
       "      <td>7.000000</td>\n",
       "      <td>ENSG00000143442.17_2</td>\n",
       "    </tr>\n",
       "  </tbody>\n",
       "</table>\n",
       "<p>2 rows × 11690 columns</p>\n",
       "</div>"
      ],
      "text/plain": [
       "  Description  GTEX-1117F-0226-SM-5GZZ7  GTEX-1117F-0426-SM-5EGHI  \\\n",
       "0        POGZ                  4.947368                       0.0   \n",
       "1        POGZ                  4.000000                       1.0   \n",
       "\n",
       "   GTEX-1117F-0526-SM-5EGHJ  GTEX-1117F-0626-SM-5N9CS  \\\n",
       "0                 14.092105                  7.355263   \n",
       "1                  7.763158                 25.171053   \n",
       "\n",
       "   GTEX-1117F-0726-SM-5GIEN  GTEX-1117F-1326-SM-5EGHH  \\\n",
       "0                  0.486842                  5.828947   \n",
       "1                  7.000000                 17.552631   \n",
       "\n",
       "   GTEX-1117F-2226-SM-5N9CH  GTEX-1117F-2426-SM-5EGGH  \\\n",
       "0                 10.421053                  9.776316   \n",
       "1                 19.842106                 14.578947   \n",
       "\n",
       "   GTEX-1117F-2526-SM-5GZY6          ...           GTEX-ZZPU-1226-SM-5N9CK  \\\n",
       "0                  8.513158          ...                         12.078947   \n",
       "1                 20.171053          ...                         25.381578   \n",
       "\n",
       "   GTEX-ZZPU-1326-SM-5GZWS  GTEX-ZZPU-1426-SM-5GZZ6  GTEX-ZZPU-1826-SM-5E43L  \\\n",
       "0                11.460526                 4.407895                10.671053   \n",
       "1                13.302632                12.539474                20.657894   \n",
       "\n",
       "   GTEX-ZZPU-2126-SM-5EGIU  GTEX-ZZPU-2226-SM-5EGIV  GTEX-ZZPU-2426-SM-5E44I  \\\n",
       "0                21.223684                 7.881579                 6.697368   \n",
       "1                34.197370                 4.105263                 9.460526   \n",
       "\n",
       "   GTEX-ZZPU-2626-SM-5E45Y  GTEX-ZZPU-2726-SM-5NQ8O                  Name  \n",
       "0                 9.157895                 8.039474  ENSG00000143442.17_1  \n",
       "1                 1.000000                 7.000000  ENSG00000143442.17_2  \n",
       "\n",
       "[2 rows x 11690 columns]"
      ]
     },
     "execution_count": 208,
     "metadata": {},
     "output_type": "execute_result"
    }
   ],
   "source": [
    "gtex.head(2)"
   ]
  },
  {
   "cell_type": "code",
   "execution_count": 211,
   "metadata": {},
   "outputs": [
    {
     "data": {
      "text/plain": [
       "27"
      ]
     },
     "execution_count": 211,
     "metadata": {},
     "output_type": "execute_result"
    }
   ],
   "source": [
    "len(set(gtex[\"Description\"].values))"
   ]
  },
  {
   "cell_type": "code",
   "execution_count": 219,
   "metadata": {},
   "outputs": [],
   "source": [
    "gtex = pd.read_csv(\"../data/GTEx.RecGenes.exon.csv\")\n",
    "RecGenes = set(gtex[\"Description\"].values)\n",
    "out = csv.writer(open(\"../data/GTEx.RecGenes.gene.rc.csv\", 'wt'))\n",
    "for l in open(\"../data/GTEx_Analysis_2016-01-15_v7_RNASeQCv1.1.8_gene_reads.gct\"):\n",
    "    if l.startswith(\"Name\"):\n",
    "        header = l.strip().split(\"\\t\")\n",
    "        out.writerow(header)\n",
    "    else:\n",
    "        llist = l.strip().split(\"\\t\")\n",
    "        if llist[1] in RecGenes:\n",
    "            out.writerow(llist)"
   ]
  },
  {
   "cell_type": "code",
   "execution_count": null,
   "metadata": {},
   "outputs": [],
   "source": [
    "csv.field_size_limit(sys.maxsize)\n",
    "reader = csv.reader(open(\"../data/GTEx/GTEx_Analysis_2016-01-15_v7_RSEMv1.2.22_transcript_tpm.txt\", 'rt'), delimiter=\"\\t\")\n",
    "writer = csv.writer(open(\"../data/GTEx/GTEx_180Indiv_transcript_tpm.txt\", 'wt'), delimiter=\"\\t\")\n",
    "header = next(reader)\n",
    "indices = [0,1]\n",
    "new_header = header[:2]\n",
    "for i,xx in enumerate(header[2:]):\n",
    "    doner = xx.split(\"-\")[1]\n",
    "    if doner in Doners:\n",
    "        indices.append(i+2)\n",
    "        new_header.append(xx)\n",
    "writer.writerow(new_header)\n",
    "for row in reader:\n",
    "    new_row = []\n",
    "    for i in indices:\n",
    "        new_row.append(row[i])\n",
    "    writer.writerow(new_row)"
   ]
  },
  {
   "cell_type": "code",
   "execution_count": null,
   "metadata": {},
   "outputs": [],
   "source": [
    "csv.field_size_limit(sys.maxsize)\n",
    "reader = csv.reader(open(\"../data/GTEx/GTEx_Analysis_2016-01-15_v7_RNASeQCv1.1.8_gene_tpm.gct\", 'rt'), delimiter=\"\\t\")\n",
    "writer = csv.writer(open(\"../data/GTEx/GTEx_180Indiv_gene_tpm.txt\", 'wt'), delimiter=\"\\t\")\n",
    "header = next(reader)\n",
    "indices = [0,1]\n",
    "new_header = header[:2]\n",
    "for i,xx in enumerate(header[2:]):\n",
    "    doner = xx.split(\"-\")[1]\n",
    "    if doner in Doners:\n",
    "        indices.append(i+2)\n",
    "        new_header.append(xx)\n",
    "writer.writerow(new_header)\n",
    "for row in reader:\n",
    "    new_row = []\n",
    "    for i in indices:\n",
    "        new_row.append(row[i])\n",
    "    writer.writerow(new_row)"
   ]
  },
  {
   "cell_type": "code",
   "execution_count": null,
   "metadata": {},
   "outputs": [],
   "source": []
  },
  {
   "cell_type": "code",
   "execution_count": null,
   "metadata": {},
   "outputs": [],
   "source": []
  },
  {
   "cell_type": "code",
   "execution_count": 290,
   "metadata": {},
   "outputs": [],
   "source": [
    "# Select used gencode gtf data\n",
    "SSC_All_LGD = pd.read_csv(\"unifiedmodel/SSC.LGD.features.csv\")\n",
    "gtex_lgd_genes = set(SSC_All_LGD[\"effectGene\"].values)\n",
    "gtf = \"/Users/jiayao/Work/BrainDisorders/data/gencode.v19.annotation.gtf\"\n",
    "out = open(\"../data/GTEx/SSC.LGDgenes.gencode.v19.gtf\", 'wt')\n",
    "hand = open(gtf, 'rt')\n",
    "for l in hand:\n",
    "    if l.startswith(\"#\"):\n",
    "        out.write(l)\n",
    "        continue\n",
    "    llist = l.strip().split(\"\\t\")\n",
    "    info = gtf_info_parser(llist[8])\n",
    "    if llist[2] == \"gene\" and info[\"gene_name\"] in gtex_lgd_genes:\n",
    "        out.write(l)\n",
    "    elif llist[2] == 'transcript' and info[\"gene_name\"] in gtex_lgd_genes and info[\"transcript_type\"]==\"protein_coding\":\n",
    "        out.write(l)\n",
    "    elif llist[2] == 'exon' and info[\"gene_name\"] in gtex_lgd_genes and info[\"transcript_type\"]==\"protein_coding\":  \n",
    "        out.write(l)\n",
    "    elif llist[2] == 'CDS' and info[\"gene_name\"] in gtex_lgd_genes and info[\"transcript_type\"]==\"protein_coding\":  \n",
    "        out.write(l)"
   ]
  },
  {
   "cell_type": "code",
   "execution_count": null,
   "metadata": {},
   "outputs": [],
   "source": []
  }
 ],
 "metadata": {
  "kernelspec": {
   "display_name": "Python 3",
   "language": "python",
   "name": "python3"
  },
  "language_info": {
   "codemirror_mode": {
    "name": "ipython",
    "version": 3
   },
   "file_extension": ".py",
   "mimetype": "text/x-python",
   "name": "python",
   "nbconvert_exporter": "python",
   "pygments_lexer": "ipython3",
   "version": "3.7.1"
  }
 },
 "nbformat": 4,
 "nbformat_minor": 2
}
