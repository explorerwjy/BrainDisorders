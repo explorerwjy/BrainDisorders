{
 "cells": [
  {
   "cell_type": "code",
   "execution_count": 2,
   "metadata": {
    "collapsed": true
   },
   "outputs": [],
   "source": [
    "%load_ext autoreload\n",
    "%autoreload 2\n",
    "from utils import *\n",
    "from IPython.display import display, HTML"
   ]
  },
  {
   "cell_type": "markdown",
   "metadata": {},
   "source": [
    "# Variants"
   ]
  },
  {
   "cell_type": "code",
   "execution_count": 8,
   "metadata": {
    "collapsed": false
   },
   "outputs": [
    {
     "data": {
      "text/html": [
       "<div>\n",
       "<style>\n",
       "    .dataframe thead tr:only-child th {\n",
       "        text-align: right;\n",
       "    }\n",
       "\n",
       "    .dataframe thead th {\n",
       "        text-align: left;\n",
       "    }\n",
       "\n",
       "    .dataframe tbody tr th {\n",
       "        vertical-align: top;\n",
       "    }\n",
       "</style>\n",
       "<table border=\"1\" class=\"dataframe\">\n",
       "  <thead>\n",
       "    <tr style=\"text-align: right;\">\n",
       "      <th></th>\n",
       "      <th>familyId</th>\n",
       "      <th>location</th>\n",
       "      <th>variant</th>\n",
       "      <th>vcfVariant</th>\n",
       "      <th>inChild</th>\n",
       "      <th>fromParent</th>\n",
       "      <th>effectGene</th>\n",
       "      <th>effectType</th>\n",
       "      <th>familyDescription</th>\n",
       "      <th>CSHL</th>\n",
       "      <th>YALE</th>\n",
       "      <th>UW</th>\n",
       "      <th>IossifovWE2012</th>\n",
       "      <th>EichlerWE2012</th>\n",
       "      <th>StateWE2012</th>\n",
       "      <th>EichlerTG2012</th>\n",
       "    </tr>\n",
       "  </thead>\n",
       "  <tbody>\n",
       "    <tr>\n",
       "      <th>0</th>\n",
       "      <td>14505</td>\n",
       "      <td>1:897349</td>\n",
       "      <td>sub(G-&gt;A)</td>\n",
       "      <td>1:897349:G:A</td>\n",
       "      <td>pM</td>\n",
       "      <td>NaN</td>\n",
       "      <td>KLHL17</td>\n",
       "      <td>synonymous</td>\n",
       "      <td>pMsM</td>\n",
       "      <td>NaN</td>\n",
       "      <td>NaN</td>\n",
       "      <td>weak:valid</td>\n",
       "      <td>NaN</td>\n",
       "      <td>NaN</td>\n",
       "      <td>NaN</td>\n",
       "      <td>NaN</td>\n",
       "    </tr>\n",
       "    <tr>\n",
       "      <th>1</th>\n",
       "      <td>14320</td>\n",
       "      <td>3:127395222</td>\n",
       "      <td>sub(T-&gt;G)</td>\n",
       "      <td>3:127395222:T:G</td>\n",
       "      <td>pF</td>\n",
       "      <td>NaN</td>\n",
       "      <td>ABTB1</td>\n",
       "      <td>noStart</td>\n",
       "      <td>pFsM</td>\n",
       "      <td>strong</td>\n",
       "      <td>NaN</td>\n",
       "      <td>NaN</td>\n",
       "      <td>NaN</td>\n",
       "      <td>NaN</td>\n",
       "      <td>NaN</td>\n",
       "      <td>NaN</td>\n",
       "    </tr>\n",
       "  </tbody>\n",
       "</table>\n",
       "</div>"
      ],
      "text/plain": [
       "   familyId     location    variant       vcfVariant inChild fromParent  \\\n",
       "0     14505     1:897349  sub(G->A)     1:897349:G:A      pM        NaN   \n",
       "1     14320  3:127395222  sub(T->G)  3:127395222:T:G      pF        NaN   \n",
       "\n",
       "  effectGene  effectType familyDescription    CSHL YALE          UW  \\\n",
       "0     KLHL17  synonymous              pMsM     NaN  NaN  weak:valid   \n",
       "1      ABTB1     noStart              pFsM  strong  NaN         NaN   \n",
       "\n",
       "  IossifovWE2012 EichlerWE2012 StateWE2012 EichlerTG2012  \n",
       "0            NaN           NaN         NaN           NaN  \n",
       "1            NaN           NaN         NaN           NaN  "
      ]
     },
     "metadata": {},
     "output_type": "display_data"
    }
   ],
   "source": [
    "nature13908_vars = \"/Users/jiayao/Work/BrainDisorders/data/nature13908-s2/Supplementary_Table_2.xlsx\"\n",
    "all_var = pd.read_excel(nature13908_vars)\n",
    "display(all_var.head(2))\n",
    "LGD = set([\"noStart\", \"frame-shift\", \"nonsense\", \"noEnd\", \"no-frame-shift-newStop\",\"splice-site\"])\n",
    "MIS = set([\"missense\"])\n",
    "SYN = set([\"synonymous\"])\n",
    "InPro = set([\"pMsM\", \"pMsF\", \"pFsF\", \"pF\", \"pM\", \"pFsM\"])\n",
    "InSib = set([\"pMsM\", \"pMsF\", \"pFsF\", \"sF\", \"sM\", \"pFsM\"])"
   ]
  },
  {
   "cell_type": "code",
   "execution_count": 23,
   "metadata": {
    "collapsed": false
   },
   "outputs": [],
   "source": [
    "DatDir = \"/Users/jiayao/Work/BrainDisorders/data/DenovoVariants/\"\n",
    "ProLGD = all_var[(all_var[\"inChild\"].isin(InPro)) & (all_var[\"effectType\"].isin(LGD))]\n",
    "ProMIS = all_var[(all_var[\"inChild\"].isin(InPro)) & (all_var[\"effectType\"].isin(MIS))]\n",
    "ProSYN = all_var[(all_var[\"inChild\"].isin(InPro)) & (all_var[\"effectType\"].isin(SYN))]\n",
    "SibLGD = all_var[(all_var[\"inChild\"].isin(InSib)) & (all_var[\"effectType\"].isin(LGD))]\n",
    "SibMIS = all_var[(all_var[\"inChild\"].isin(InSib)) & (all_var[\"effectType\"].isin(MIS))]\n",
    "SibSYN = all_var[(all_var[\"inChild\"].isin(InSib)) & (all_var[\"effectType\"].isin(SYN))]\n",
    "SibNSYN = all_var[(all_var[\"inChild\"].isin(InSib)) & (all_var[\"effectType\"].isin(MIS.union(LGD)))]\n",
    "ProLGD.to_excel(DatDir + \"wigler2014ProLGD.xlsx\", index=False)\n",
    "ProMIS.to_excel(DatDir + \"wigler2014ProMIS.xlsx\", index=False)\n",
    "ProSYN.to_excel(DatDir + \"wigler2014ProSYN.xlsx\", index=False)\n",
    "SibLGD.to_excel(DatDir + \"wigler2014SibLGD.xlsx\", index=False)\n",
    "SibMIS.to_excel(DatDir + \"wigler2014SibMIS.xlsx\", index=False)\n",
    "SibSYN.to_excel(DatDir + \"wigler2014SibSYN.xlsx\", index=False)\n",
    "SibNSYN.to_excel(DatDir + \"wigler2014SibNSYN.xlsx\", index=False)"
   ]
  },
  {
   "cell_type": "code",
   "execution_count": 44,
   "metadata": {
    "collapsed": false
   },
   "outputs": [
    {
     "name": "stdout",
     "output_type": "stream",
     "text": [
      "(489, 16) 468\n"
     ]
    }
   ],
   "source": [
    "DatDir = \"/Users/jiayao/Work/BrainDisorders/data/DenovoVariants/\"\n",
    "ProLGD = pd.read_excel(DatDir+\"wigler2014SibSYN.xlsx\")\n",
    "print ProLGD.shape, len(set(ProLGD[\"effectGene\"].values))"
   ]
  },
  {
   "cell_type": "code",
   "execution_count": 24,
   "metadata": {
    "collapsed": false
   },
   "outputs": [
    {
     "data": {
      "text/plain": [
       "'sM'"
      ]
     },
     "execution_count": 24,
     "metadata": {},
     "output_type": "execute_result"
    }
   ],
   "source": [
    "x = \"pMsM\"\n",
    "x[-2:]"
   ]
  },
  {
   "cell_type": "code",
   "execution_count": 25,
   "metadata": {
    "collapsed": false
   },
   "outputs": [],
   "source": [
    "GeneCount = ProLGD.groupby(\"effectGene\")[\"effectGene\"].count()\n",
    "ProLGD.insert(list(ProLGD.columns.values).index(\"effectGene\")+1, \"GeneCount\", ProLGD.apply\n",
    "                 (lambda row: GeneCount[row[\"effectGene\"]], axis=1), allow_duplicates=False )\n",
    "ProLGD.head()\n",
    "RecProLGD = ProLGD[ProLGD[\"GeneCount\"]>=2]"
   ]
  },
  {
   "cell_type": "code",
   "execution_count": 26,
   "metadata": {
    "collapsed": false
   },
   "outputs": [
    {
     "data": {
      "text/html": [
       "<div>\n",
       "<style>\n",
       "    .dataframe thead tr:only-child th {\n",
       "        text-align: right;\n",
       "    }\n",
       "\n",
       "    .dataframe thead th {\n",
       "        text-align: left;\n",
       "    }\n",
       "\n",
       "    .dataframe tbody tr th {\n",
       "        vertical-align: top;\n",
       "    }\n",
       "</style>\n",
       "<table border=\"1\" class=\"dataframe\">\n",
       "  <thead>\n",
       "    <tr style=\"text-align: right;\">\n",
       "      <th></th>\n",
       "      <th>familyId</th>\n",
       "      <th>location</th>\n",
       "      <th>variant</th>\n",
       "      <th>vcfVariant</th>\n",
       "      <th>inChild</th>\n",
       "      <th>fromParent</th>\n",
       "      <th>effectGene</th>\n",
       "      <th>GeneCount</th>\n",
       "      <th>effectType</th>\n",
       "      <th>familyDescription</th>\n",
       "      <th>CSHL</th>\n",
       "      <th>YALE</th>\n",
       "      <th>UW</th>\n",
       "      <th>IossifovWE2012</th>\n",
       "      <th>EichlerWE2012</th>\n",
       "      <th>StateWE2012</th>\n",
       "      <th>EichlerTG2012</th>\n",
       "    </tr>\n",
       "  </thead>\n",
       "  <tbody>\n",
       "    <tr>\n",
       "      <th>108</th>\n",
       "      <td>13545</td>\n",
       "      <td>20:49509095</td>\n",
       "      <td>ins(T)</td>\n",
       "      <td>20:49509094:G:GT</td>\n",
       "      <td>pM</td>\n",
       "      <td>NaN</td>\n",
       "      <td>ADNP</td>\n",
       "      <td>2</td>\n",
       "      <td>frame-shift</td>\n",
       "      <td>pM</td>\n",
       "      <td>NaN</td>\n",
       "      <td>strong:valid</td>\n",
       "      <td>NaN</td>\n",
       "      <td>NaN</td>\n",
       "      <td>NaN</td>\n",
       "      <td>NaN</td>\n",
       "      <td>yes</td>\n",
       "    </tr>\n",
       "    <tr>\n",
       "      <th>123</th>\n",
       "      <td>12130</td>\n",
       "      <td>20:49510028</td>\n",
       "      <td>del(2)</td>\n",
       "      <td>20:49510027:CTT:C</td>\n",
       "      <td>pF</td>\n",
       "      <td>NaN</td>\n",
       "      <td>ADNP</td>\n",
       "      <td>2</td>\n",
       "      <td>frame-shift</td>\n",
       "      <td>pF</td>\n",
       "      <td>NaN</td>\n",
       "      <td>NaN</td>\n",
       "      <td>strong:valid</td>\n",
       "      <td>NaN</td>\n",
       "      <td>yes</td>\n",
       "      <td>NaN</td>\n",
       "      <td>NaN</td>\n",
       "    </tr>\n",
       "    <tr>\n",
       "      <th>242</th>\n",
       "      <td>12645</td>\n",
       "      <td>4:114232545</td>\n",
       "      <td>sub(C-&gt;T)</td>\n",
       "      <td>4:114232545:C:T</td>\n",
       "      <td>pM</td>\n",
       "      <td>NaN</td>\n",
       "      <td>ANK2</td>\n",
       "      <td>3</td>\n",
       "      <td>nonsense</td>\n",
       "      <td>pMsM</td>\n",
       "      <td>strong:valid</td>\n",
       "      <td>NaN</td>\n",
       "      <td>NaN</td>\n",
       "      <td>yes</td>\n",
       "      <td>NaN</td>\n",
       "      <td>NaN</td>\n",
       "      <td>NaN</td>\n",
       "    </tr>\n",
       "    <tr>\n",
       "      <th>259</th>\n",
       "      <td>14256</td>\n",
       "      <td>4:114251469</td>\n",
       "      <td>sub(C-&gt;T)</td>\n",
       "      <td>4:114251469:C:T</td>\n",
       "      <td>pM</td>\n",
       "      <td>NaN</td>\n",
       "      <td>ANK2</td>\n",
       "      <td>3</td>\n",
       "      <td>nonsense</td>\n",
       "      <td>pMsF</td>\n",
       "      <td>NaN</td>\n",
       "      <td>strong:valid</td>\n",
       "      <td>NaN</td>\n",
       "      <td>NaN</td>\n",
       "      <td>NaN</td>\n",
       "      <td>NaN</td>\n",
       "      <td>NaN</td>\n",
       "    </tr>\n",
       "    <tr>\n",
       "      <th>264</th>\n",
       "      <td>13768</td>\n",
       "      <td>4:114277600</td>\n",
       "      <td>del(1)</td>\n",
       "      <td>4:114277599:AG:A</td>\n",
       "      <td>pM</td>\n",
       "      <td>NaN</td>\n",
       "      <td>ANK2</td>\n",
       "      <td>3</td>\n",
       "      <td>frame-shift</td>\n",
       "      <td>pMsF</td>\n",
       "      <td>strong</td>\n",
       "      <td>NaN</td>\n",
       "      <td>NaN</td>\n",
       "      <td>NaN</td>\n",
       "      <td>NaN</td>\n",
       "      <td>NaN</td>\n",
       "      <td>NaN</td>\n",
       "    </tr>\n",
       "  </tbody>\n",
       "</table>\n",
       "</div>"
      ],
      "text/plain": [
       "     familyId     location    variant         vcfVariant inChild fromParent  \\\n",
       "108     13545  20:49509095     ins(T)   20:49509094:G:GT      pM        NaN   \n",
       "123     12130  20:49510028     del(2)  20:49510027:CTT:C      pF        NaN   \n",
       "242     12645  4:114232545  sub(C->T)    4:114232545:C:T      pM        NaN   \n",
       "259     14256  4:114251469  sub(C->T)    4:114251469:C:T      pM        NaN   \n",
       "264     13768  4:114277600     del(1)   4:114277599:AG:A      pM        NaN   \n",
       "\n",
       "    effectGene  GeneCount   effectType familyDescription          CSHL  \\\n",
       "108       ADNP          2  frame-shift                pM           NaN   \n",
       "123       ADNP          2  frame-shift                pF           NaN   \n",
       "242       ANK2          3     nonsense              pMsM  strong:valid   \n",
       "259       ANK2          3     nonsense              pMsF           NaN   \n",
       "264       ANK2          3  frame-shift              pMsF        strong   \n",
       "\n",
       "             YALE            UW IossifovWE2012 EichlerWE2012 StateWE2012  \\\n",
       "108  strong:valid           NaN            NaN           NaN         NaN   \n",
       "123           NaN  strong:valid            NaN           yes         NaN   \n",
       "242           NaN           NaN            yes           NaN         NaN   \n",
       "259  strong:valid           NaN            NaN           NaN         NaN   \n",
       "264           NaN           NaN            NaN           NaN         NaN   \n",
       "\n",
       "    EichlerTG2012  \n",
       "108           yes  \n",
       "123           NaN  \n",
       "242           NaN  \n",
       "259           NaN  \n",
       "264           NaN  "
      ]
     },
     "execution_count": 26,
     "metadata": {},
     "output_type": "execute_result"
    }
   ],
   "source": [
    "RecProLGD.head()"
   ]
  },
  {
   "cell_type": "code",
   "execution_count": 27,
   "metadata": {
    "collapsed": false
   },
   "outputs": [
    {
     "name": "stdout",
     "output_type": "stream",
     "text": [
      "(67, 17)\n"
     ]
    }
   ],
   "source": [
    "print RecProLGD.shape"
   ]
  },
  {
   "cell_type": "code",
   "execution_count": 28,
   "metadata": {
    "collapsed": true
   },
   "outputs": [],
   "source": [
    "RecProLGD.to_excel(DatDir + \"wigler2014RecProLGD.xlsx\", index=False)"
   ]
  },
  {
   "cell_type": "markdown",
   "metadata": {},
   "source": [
    "# Go Term"
   ]
  },
  {
   "cell_type": "code",
   "execution_count": 43,
   "metadata": {
    "collapsed": false
   },
   "outputs": [
    {
     "name": "stderr",
     "output_type": "stream",
     "text": [
      "  wget.download(http://purl.obolibrary.org/obo/go/go-basic.obo out=go-basic.obo)\n",
      "  wget.download(ftp://ftp.ncbi.nlm.nih.gov/gene/DATA/gene2go.gz out=gene2go.gz)\n"
     ]
    },
    {
     "name": "stdout",
     "output_type": "stream",
     "text": [
      "  gunzip gene2go.gz\n",
      "  17,983 items READ: gene2go\n",
      "17983 GO terms associated with human NCBI Entrez GeneIDs\n",
      "go-basic.obo: fmt(1.2) rel(2018-10-23) 47,358 GO Terms; optional_attrs(comment def relationship synonym xref)\n"
     ]
    }
   ],
   "source": [
    "# Get http://geneontology.org/ontology/go-basic.obo\n",
    "from goatools.base import download_go_basic_obo\n",
    "obo_fname = download_go_basic_obo()\n",
    "\n",
    "# Get ftp://ftp.ncbi.nlm.nih.gov/gene/DATA/gene2go.gz\n",
    "from goatools.base import download_ncbi_associations\n",
    "gene2go = download_ncbi_associations()\n",
    "\n",
    "from goatools.associations import read_ncbi_gene2go\n",
    "\n",
    "go2geneids_human = read_ncbi_gene2go(\"gene2go\", taxids=[9606], go2geneids=True)\n",
    "print(\"{N} GO terms associated with human NCBI Entrez GeneIDs\".format(N=len(go2geneids_human)))\n",
    "\n",
    "from goatools.go_search import GoSearch\n",
    "\n",
    "srchhelp = GoSearch(\"go-basic.obo\", go2items=go2geneids_human)"
   ]
  },
  {
   "cell_type": "code",
   "execution_count": 30,
   "metadata": {
    "collapsed": false
   },
   "outputs": [
    {
     "name": "stdout",
     "output_type": "stream",
     "text": [
      "/Users/jiayao/Work/BrainDisorders/src/data/go-basic.obo: fmt(1.2) rel(2018-10-19) 47,359 GO Terms\n"
     ]
    }
   ],
   "source": [
    "from goatools import obo_parser\n",
    "import wget\n",
    "import os\n",
    "go_obo_url = 'http://purl.obolibrary.org/obo/go/go-basic.obo'\n",
    "data_folder = os.getcwd() + '/data'\n",
    "\n",
    "# Check if we have the ./data directory already\n",
    "if(not os.path.isfile(data_folder)):\n",
    "    # Emulate mkdir -p (no error if folder exists)\n",
    "    try:\n",
    "        os.mkdir(data_folder)\n",
    "    except OSError as e:\n",
    "        if(e.errno != 17):\n",
    "            raise e\n",
    "else:\n",
    "    raise Exception('Data path (' + data_folder + ') exists as a file. '\n",
    "                   'Please rename, remove or change the desired location of the data path.')\n",
    "\n",
    "def find_children(term1, go, go_term_set={}, ret=False):\n",
    "    for term2 in term1.children:\n",
    "        go_term_set.update({term2})\n",
    "        \n",
    "        # Recurse on term to find all children\n",
    "        find_children(term2, go, go_term_set)\n",
    "    if(ret):\n",
    "        return go_term_set\n",
    "    \n",
    "# Check if the file exists already\n",
    "if(not os.path.isfile(data_folder+'/go-basic.obo')):\n",
    "    go_obo = wget.download(go_obo_url, data_folder+'/go-basic.obo')\n",
    "else:\n",
    "    go_obo = data_folder+'/go-basic.obo'\n",
    "go = obo_parser.GODag(go_obo)"
   ]
  },
  {
   "cell_type": "code",
   "execution_count": 100,
   "metadata": {
    "collapsed": false
   },
   "outputs": [],
   "source": [
    "def GetALLGo(GoID):\n",
    "    Root = go[GoID]\n",
    "    all_go = Root.get_all_children()\n",
    "    all_go.add(GoID)\n",
    "    return all_go"
   ]
  },
  {
   "cell_type": "code",
   "execution_count": 101,
   "metadata": {
    "collapsed": true
   },
   "outputs": [],
   "source": [
    "chromatin_organization = \"GO:0006325\"\n",
    "synaptic_signaling = \"GO:0099536\"\n",
    "synapse = \"GO:0045202\"\n",
    "cortical_cytoskeleton = \"GO:0030863\"\n",
    "presynaptic_cytoskeleton = \"GO:0099569\"\n",
    "postsynaptic_cytoskeleton = \"GO:0099571\"\n",
    "channel_activity = \"GO:0015267\""
   ]
  },
  {
   "cell_type": "code",
   "execution_count": 102,
   "metadata": {
    "collapsed": false
   },
   "outputs": [],
   "source": [
    "goset_chromatin_organization = GetALLGo(chromatin_organization)\n",
    "goset_synaptic_signaling = GetALLGo(synaptic_signaling)\n",
    "goset_synapse = GetALLGo(synapse)\n",
    "goset_presynaptic_cytoskeleton = GetALLGo(presynaptic_cytoskeleton)\n",
    "goset_postsynaptic_cytoskeleton = GetALLGo(postsynaptic_cytoskeleton)\n",
    "goset_cortical_cytoskeleton = GetALLGo(cortical_cytoskeleton)\n",
    "goset_channel_activity = GetALLGo(channel_activity)"
   ]
  },
  {
   "cell_type": "code",
   "execution_count": 103,
   "metadata": {
    "collapsed": false
   },
   "outputs": [],
   "source": [
    "chromatin_geneids = srchhelp.get_items(goset_chromatin_organization)\n",
    "synaptic_signaling_geneids = srchhelp.get_items(goset_synaptic_signaling)\n",
    "synapse_geneids = srchhelp.get_items(goset_synapse)\n",
    "presynaptic_cyto_geneids = srchhelp.get_items(goset_presynaptic_cytoskeleton)\n",
    "postsynaptic_cyto_geneids = srchhelp.get_items(goset_postsynaptic_cytoskeleton)\n",
    "cortical_cytoskeleton_geneids = srchhelp.get_items(goset_cortical_cytoskeleton)\n",
    "channel_geneids = srchhelp.get_items(goset_channel_activity)"
   ]
  },
  {
   "cell_type": "code",
   "execution_count": 104,
   "metadata": {
    "collapsed": false
   },
   "outputs": [
    {
     "name": "stdout",
     "output_type": "stream",
     "text": [
      "713\n",
      "324\n",
      "714\n",
      "8\n",
      "7\n",
      "74\n",
      "467\n"
     ]
    }
   ],
   "source": [
    "print len(chromatin_geneids)\n",
    "print len(synaptic_signaling_geneids)\n",
    "print len(synapse_geneids)\n",
    "print len(presynaptic_cyto_geneids)\n",
    "print len(postsynaptic_cyto_geneids)\n",
    "print len(cortical_cytoskeleton_geneids)\n",
    "print len(channel_geneids)"
   ]
  },
  {
   "cell_type": "code",
   "execution_count": 105,
   "metadata": {
    "collapsed": false
   },
   "outputs": [],
   "source": [
    "cyto_sig = presynaptic_cyto_geneids.union(postsynaptic_cyto_geneids).union(cortical_cytoskeleton_geneids).union(synaptic_signaling_geneids)\n",
    "chromatin = chromatin_geneids\n",
    "synapse = synapse_geneids\n",
    "channel = channel_geneids"
   ]
  },
  {
   "cell_type": "code",
   "execution_count": 106,
   "metadata": {
    "collapsed": false
   },
   "outputs": [],
   "source": [
    "dat_dir = '/Users/jiayao/Work/BrainDisorders/data/functions/'\n",
    "def to_file(filename, _list):\n",
    "    fout = open(filename, 'wb')\n",
    "    for term in _list:\n",
    "        fout.write(\"{}\\n\".format(term))\n",
    "#print chromatin_geneids\n",
    "\n",
    "to_file(dat_dir+\"go_cyto_sig.list\", cyto_sig)\n",
    "to_file(dat_dir+\"go_chromatin.list\", chromatin)\n",
    "to_file(dat_dir+\"go_synapse.list\", synapse)\n",
    "to_file(dat_dir+\"go_channel.list\", channel)"
   ]
  },
  {
   "cell_type": "markdown",
   "metadata": {
    "collapsed": true
   },
   "source": [
    "# Select Recurrent Mutation Data"
   ]
  },
  {
   "cell_type": "code",
   "execution_count": 107,
   "metadata": {
    "collapsed": false
   },
   "outputs": [
    {
     "data": {
      "text/html": [
       "<div>\n",
       "<style>\n",
       "    .dataframe thead tr:only-child th {\n",
       "        text-align: right;\n",
       "    }\n",
       "\n",
       "    .dataframe thead th {\n",
       "        text-align: left;\n",
       "    }\n",
       "\n",
       "    .dataframe tbody tr th {\n",
       "        vertical-align: top;\n",
       "    }\n",
       "</style>\n",
       "<table border=\"1\" class=\"dataframe\">\n",
       "  <thead>\n",
       "    <tr style=\"text-align: right;\">\n",
       "      <th></th>\n",
       "      <th>0</th>\n",
       "      <th>1</th>\n",
       "      <th>2</th>\n",
       "      <th>3</th>\n",
       "      <th>4</th>\n",
       "      <th>5</th>\n",
       "      <th>6</th>\n",
       "      <th>7</th>\n",
       "      <th>8</th>\n",
       "      <th>9</th>\n",
       "      <th>...</th>\n",
       "      <th>515</th>\n",
       "      <th>516</th>\n",
       "      <th>517</th>\n",
       "      <th>518</th>\n",
       "      <th>519</th>\n",
       "      <th>520</th>\n",
       "      <th>521</th>\n",
       "      <th>522</th>\n",
       "      <th>523</th>\n",
       "      <th>524</th>\n",
       "    </tr>\n",
       "  </thead>\n",
       "  <tbody>\n",
       "    <tr>\n",
       "      <th>0</th>\n",
       "      <td>1</td>\n",
       "      <td>13.636583</td>\n",
       "      <td>40.862901</td>\n",
       "      <td>32.178981</td>\n",
       "      <td>27.939465</td>\n",
       "      <td>29.324584</td>\n",
       "      <td>23.885710</td>\n",
       "      <td>24.887880</td>\n",
       "      <td>16.432391</td>\n",
       "      <td>45.570680</td>\n",
       "      <td>...</td>\n",
       "      <td>4.347437</td>\n",
       "      <td>4.101772</td>\n",
       "      <td>2.987192</td>\n",
       "      <td>3.862508</td>\n",
       "      <td>3.362597</td>\n",
       "      <td>2.566516</td>\n",
       "      <td>3.049593</td>\n",
       "      <td>5.025746</td>\n",
       "      <td>1.893471</td>\n",
       "      <td>8.942586</td>\n",
       "    </tr>\n",
       "    <tr>\n",
       "      <th>1</th>\n",
       "      <td>2</td>\n",
       "      <td>31.731240</td>\n",
       "      <td>86.587706</td>\n",
       "      <td>60.131360</td>\n",
       "      <td>57.718046</td>\n",
       "      <td>58.326412</td>\n",
       "      <td>54.090394</td>\n",
       "      <td>50.138146</td>\n",
       "      <td>35.408905</td>\n",
       "      <td>94.937737</td>\n",
       "      <td>...</td>\n",
       "      <td>6.332389</td>\n",
       "      <td>5.479924</td>\n",
       "      <td>5.946744</td>\n",
       "      <td>6.017439</td>\n",
       "      <td>5.585987</td>\n",
       "      <td>3.870925</td>\n",
       "      <td>4.083335</td>\n",
       "      <td>7.451925</td>\n",
       "      <td>2.946266</td>\n",
       "      <td>3.868906</td>\n",
       "    </tr>\n",
       "  </tbody>\n",
       "</table>\n",
       "<p>2 rows × 525 columns</p>\n",
       "</div>"
      ],
      "text/plain": [
       "   0          1          2          3          4          5          6    \\\n",
       "0    1  13.636583  40.862901  32.178981  27.939465  29.324584  23.885710   \n",
       "1    2  31.731240  86.587706  60.131360  57.718046  58.326412  54.090394   \n",
       "\n",
       "         7          8          9      ...          515       516       517  \\\n",
       "0  24.887880  16.432391  45.570680    ...     4.347437  4.101772  2.987192   \n",
       "1  50.138146  35.408905  94.937737    ...     6.332389  5.479924  5.946744   \n",
       "\n",
       "        518       519       520       521       522       523       524  \n",
       "0  3.862508  3.362597  2.566516  3.049593  5.025746  1.893471  8.942586  \n",
       "1  6.017439  5.585987  3.870925  4.083335  7.451925  2.946266  3.868906  \n",
       "\n",
       "[2 rows x 525 columns]"
      ]
     },
     "metadata": {},
     "output_type": "display_data"
    }
   ],
   "source": [
    "BS_row_meta = \"/Users/jiayao/Work/BrainDisorders/data/expression/brainspan/exons_matrix/rows_metadata.csv\"\n",
    "BS_row_meta_withvar = \"/Users/jiayao/Work/BrainDisorders/src/RecGenesExonsTargetedByLGD_wilger2014_predicted.xlsx\"\n",
    "wigler_fam_info = \"/Users/jiayao/Work/BrainDisorders/data/nature13908-s2/Supplementary_Table_1.xlsx\"\n",
    "VarFil = \"/Users/jiayao/Work/BrainDisorders/data/DenovoVariants/wigler2014RecProLGD.xlsx\"\n",
    "df_row = pd.read_excel(BS_row_meta_withvar, index_col=\"row_num\")\n",
    "df_row = pd.read_csv(BS_row_meta, index_col=\"row_num\")\n",
    "df_fam = pd.read_excel(wigler_fam_info)\n",
    "df_var = pd.read_excel(VarFil)\n",
    "ins = BrainSpan()\n",
    "# Columns Meta Data\n",
    "bp_exon_col_meta = pd.read_csv(\n",
    "    \"/Users/jiayao/Work/BrainDisorders/data/expression/brainspan/exons_matrix/columns_metadata.csv\", delimiter=\",\")\n",
    "bp_exon_col_meta.age.unique()\n",
    "bp_exon_col_meta[\"Period\"] = bp_exon_col_meta.apply(lambda row: ins.TemporalMap(row[\"age\"])[0], axis=1)\n",
    "bp_exon_col_meta[\"Stage\"] = bp_exon_col_meta.apply(lambda row: ins.TemporalMap(row[\"age\"])[1], axis=1)\n",
    "bp_exon_col_meta[\"Description\"] = bp_exon_col_meta.apply(lambda row: ins.TemporalMap(row[\"age\"])[2], axis=1)\n",
    "# Exon RPKM Norm by Gene RPKM\n",
    "NormExonExp = pd.read_csv(\n",
    "    \"/Users/jiayao/Work/BrainDisorders/data/expression/brainspan/exons_matrix/NormedExonExpMatrix.csv\", header = None)\n",
    "NormExonExp.head(2)\n",
    "# Exon RPKM Matrix\n",
    "ExonExp = pd.read_csv(\"../data/expression/brainspan/exons_matrix/expression_matrix.csv\", header=None)\n",
    "display(ExonExp.head(2))\n",
    "Regionsgt20 = ['OFC', 'VFC', 'HIP', 'ITC', 'AMY', 'DFC', 'STC', 'MFC', 'STR', 'IPC', \n",
    "            'V1C', 'S1C', 'A1C', 'M1C', 'CBC', 'MD']\n",
    "RegionsCortex = [\"OFC\", \"VFC\", \"ITC\", \"DFC\", \"STC\", \"MFC\"]\n"
   ]
  },
  {
   "cell_type": "code",
   "execution_count": 115,
   "metadata": {
    "collapsed": false
   },
   "outputs": [],
   "source": [
    "ins = BrainSpan()\n",
    "Genes = list(set(df_var[\"effectGene\"].values))\n",
    "rows = df_row[df_row[\"gene_symbol\"].isin(Genes)]\n",
    "idxs = rows.index.values\n",
    "matrix = ExonExp[ExonExp[0].isin(idxs)]"
   ]
  },
  {
   "cell_type": "code",
   "execution_count": 147,
   "metadata": {
    "collapsed": false
   },
   "outputs": [],
   "source": [
    "stage2column_num = {}\n",
    "for stage in ins.Stages:\n",
    "    column_num = set(bp_exon_col_meta[bp_exon_col_meta[\"Period\"]==stage][\"column_num\"].values)\n",
    "    stage2column_num[stage] = column_num"
   ]
  },
  {
   "cell_type": "code",
   "execution_count": 144,
   "metadata": {
    "collapsed": false,
    "scrolled": false
   },
   "outputs": [],
   "source": [
    "OutFil = \"/Users/jiayao/Work/BrainDisorders/data/expression/brainspan/exons_matrix/exon_ralexp_avg2time.csv\"\n",
    "writer = csv.writer(open(OutFil, 'wb'))\n",
    "header = [\"column_num\"] + [\"mean_\"+ x for x in ins.Stages] + [\"var_mean_\"+ x for x in ins.Stages]\n",
    "writer.writerow(header)\n",
    "matrix = NormExonExp\n",
    "for i, row in matrix.iterrows():\n",
    "    means, var_means = [], []\n",
    "    for stage in ins.Stages:\n",
    "        points = np.array([])\n",
    "        for sample in stage2column_num[stage]:\n",
    "            exp = row[sample]\n",
    "            points = np.append(points, exp)\n",
    "        mean, var_mean = round(points.mean(),6), round(points.var() / points.size, 6)\n",
    "        means.append(mean)\n",
    "        var_means.append(var_mean)\n",
    "    writer.writerow([int(row[0])]+means+var_means)"
   ]
  },
  {
   "cell_type": "code",
   "execution_count": 148,
   "metadata": {
    "collapsed": true
   },
   "outputs": [],
   "source": [
    "GeneExp = pd.read_csv(\"/Users/jiayao/Work/BrainDisorders/data/expression/brainspan/gene_matrix/expression_matrix.csv\", header=None)\n",
    "GeneRow = pd.read_csv(\"/Users/jiayao/Work/BrainDisorders/data/expression/brainspan/gene_matrix/rows_metadata.csv\")\n",
    "GeneCol = pd.read_csv(\"/Users/jiayao/Work/BrainDisorders/data/expression/brainspan/gene_matrix/columns_metadata.csv\")\n",
    "GeneCol[\"Period\"] = GeneCol.apply(lambda row: ins.TemporalMap(row[\"age\"])[0], axis=1)\n",
    "GeneCol[\"Stage\"] = GeneCol.apply(lambda row: ins.TemporalMap(row[\"age\"])[1], axis=1)\n",
    "GeneCol[\"Description\"] = GeneCol.apply(lambda row: ins.TemporalMap(row[\"age\"])[2], axis=1)\n",
    "GeneDat = [GeneExp, GeneRow, GeneCol]\n",
    "gene_stage2column_num = {}\n",
    "for stage in ins.Stages:\n",
    "    column_num = set(GeneCol[GeneCol[\"Period\"]==stage][\"column_num\"].values)\n",
    "    gene_stage2column_num[stage] = column_num"
   ]
  },
  {
   "cell_type": "code",
   "execution_count": 149,
   "metadata": {
    "collapsed": false
   },
   "outputs": [],
   "source": [
    "OutFil = \"/Users/jiayao/Work/BrainDisorders/data/expression/brainspan/gene_matrix/gene_exp_avg2time.csv\"\n",
    "writer = csv.writer(open(OutFil, 'wb'))\n",
    "header = [\"column_num\"] + [\"mean_\"+ x for x in ins.Stages] + [\"var_mean_\"+ x for x in ins.Stages]\n",
    "writer.writerow(header)\n",
    "matrix = GeneExp\n",
    "for i, row in matrix.iterrows():\n",
    "    means, var_means = [], []\n",
    "    for stage in ins.Stages:\n",
    "        points = np.array([])\n",
    "        for sample in gene_stage2column_num[stage]:\n",
    "            exp = row[sample]\n",
    "            points = np.append(points, exp)\n",
    "        mean, var_mean = round(points.mean(),6), round(points.var() / points.size, 6)\n",
    "        means.append(mean)\n",
    "        var_means.append(var_mean)\n",
    "    writer.writerow([int(row[0])]+means+var_means)"
   ]
  },
  {
   "cell_type": "code",
   "execution_count": 150,
   "metadata": {
    "collapsed": true
   },
   "outputs": [],
   "source": [
    "OutFil = \"/Users/jiayao/Work/BrainDisorders/data/expression/brainspan/exons_matrix/exon_exp_avg2time.csv\"\n",
    "writer = csv.writer(open(OutFil, 'wb'))\n",
    "header = [\"column_num\"] + [\"mean_\"+ x for x in ins.Stages] + [\"var_mean_\"+ x for x in ins.Stages]\n",
    "writer.writerow(header)\n",
    "matrix = ExonExp\n",
    "for i, row in matrix.iterrows():\n",
    "    means, var_means = [], []\n",
    "    for stage in ins.Stages:\n",
    "        points = np.array([])\n",
    "        for sample in stage2column_num[stage]:\n",
    "            exp = row[sample]\n",
    "            points = np.append(points, exp)\n",
    "        mean, var_mean = round(points.mean(),6), round(points.var() / points.size, 6)\n",
    "        means.append(mean)\n",
    "        var_means.append(var_mean)\n",
    "    writer.writerow([int(row[0])]+means+var_means)"
   ]
  },
  {
   "cell_type": "code",
   "execution_count": 165,
   "metadata": {
    "collapsed": true
   },
   "outputs": [],
   "source": [
    "exon_exp_avg2time = pd.read_csv(\"/Users/jiayao/Work/BrainDisorders/data/expression/brainspan/exons_matrix/exon_exp_avg2time.csv\")"
   ]
  },
  {
   "cell_type": "code",
   "execution_count": 167,
   "metadata": {
    "collapsed": false
   },
   "outputs": [],
   "source": [
    "OutFil = \"/Users/jiayao/Work/BrainDisorders/data/expression/brainspan/exons_matrix/exon_selfnorm_avg2time.csv\"\n",
    "writer = csv.writer(open(OutFil, 'wb'))\n",
    "header = [\"column_num\"] + [\"mean_total_time\"] + [x for x in ins.Stages]\n",
    "writer.writerow(header)\n",
    "matrix = exon_exp_avg2time\n",
    "for i, row in matrix.iterrows():\n",
    "    dat = row[1:12].values\n",
    "    mean = np.mean(dat)\n",
    "    if mean != 0:\n",
    "        tmp = [float(x)/mean for x in dat]\n",
    "    else:\n",
    "        tmp = [0] * 11\n",
    "    writer.writerow([int(row[0])]+[mean]+tmp)"
   ]
  },
  {
   "cell_type": "code",
   "execution_count": null,
   "metadata": {
    "collapsed": true
   },
   "outputs": [],
   "source": []
  },
  {
   "cell_type": "code",
   "execution_count": 33,
   "metadata": {
    "collapsed": false
   },
   "outputs": [],
   "source": [
    "# CDS\n",
    "f_cds = open(\"/Users/jiayao/Work/Resources/gencode.v10.cds.gtf\", 'rb')\n",
    "#f_cds = open(\"/Users/jiayao/Work/Resources/test\", 'rb')\n",
    "F = f_cds.readlines()\n",
    "res = {}\n",
    "for i,l in enumerate(F):\n",
    "    llist = l.strip().split(\"\\t\")\n",
    "    if llist[2] == \"CDS\":    \n",
    "        info = llist[8].split(\";\")\n",
    "        gene = info[4].split()[-1].strip('\"')\n",
    "        if gene not in res:\n",
    "            res[gene] = {}\n",
    "        cds_s = int(llist[3])\n",
    "        cds_e = int(llist[4])\n",
    "        e_line = F[i-1]\n",
    "        e_llist = e_line.strip().split(\"\\t\")\n",
    "        exon_s, exon_e = int(e_llist[3]), int(e_llist[4])\n",
    "        if exon_s not in res[gene]:\n",
    "        #print exon_s <= cds_s, exon_e >= cds_e \n",
    "            res[gene][exon_s] = (cds_s, cds_e)"
   ]
  },
  {
   "cell_type": "code",
   "execution_count": 34,
   "metadata": {
    "collapsed": false
   },
   "outputs": [],
   "source": [
    "fout = open(\"cds.dict\", 'wb')\n",
    "for k,v in res.items():\n",
    "    for kk, vv in v.items():\n",
    "        fout.write(\"{}\\t{}\\t{}\\t{}\\n\".format(k, kk, vv[0], vv[1]))"
   ]
  },
  {
   "cell_type": "code",
   "execution_count": null,
   "metadata": {
    "collapsed": true
   },
   "outputs": [],
   "source": []
  }
 ],
 "metadata": {
  "kernelspec": {
   "display_name": "Python 2",
   "language": "python",
   "name": "python2"
  },
  "language_info": {
   "codemirror_mode": {
    "name": "ipython",
    "version": 2
   },
   "file_extension": ".py",
   "mimetype": "text/x-python",
   "name": "python",
   "nbconvert_exporter": "python",
   "pygments_lexer": "ipython2",
   "version": "2.7.13"
  }
 },
 "nbformat": 4,
 "nbformat_minor": 2
}
