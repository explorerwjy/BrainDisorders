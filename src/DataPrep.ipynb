{
 "cells": [
  {
   "cell_type": "code",
   "execution_count": 1,
   "metadata": {
    "collapsed": true
   },
   "outputs": [],
   "source": [
    "%load_ext autoreload\n",
    "%autoreload 2\n",
    "from utils import *\n",
    "from IPython.display import display, HTML"
   ]
  },
  {
   "cell_type": "markdown",
   "metadata": {},
   "source": [
    "# Variants"
   ]
  },
  {
   "cell_type": "code",
   "execution_count": 8,
   "metadata": {
    "collapsed": false
   },
   "outputs": [
    {
     "data": {
      "text/html": [
       "<div>\n",
       "<style>\n",
       "    .dataframe thead tr:only-child th {\n",
       "        text-align: right;\n",
       "    }\n",
       "\n",
       "    .dataframe thead th {\n",
       "        text-align: left;\n",
       "    }\n",
       "\n",
       "    .dataframe tbody tr th {\n",
       "        vertical-align: top;\n",
       "    }\n",
       "</style>\n",
       "<table border=\"1\" class=\"dataframe\">\n",
       "  <thead>\n",
       "    <tr style=\"text-align: right;\">\n",
       "      <th></th>\n",
       "      <th>familyId</th>\n",
       "      <th>location</th>\n",
       "      <th>variant</th>\n",
       "      <th>vcfVariant</th>\n",
       "      <th>inChild</th>\n",
       "      <th>fromParent</th>\n",
       "      <th>effectGene</th>\n",
       "      <th>effectType</th>\n",
       "      <th>familyDescription</th>\n",
       "      <th>CSHL</th>\n",
       "      <th>YALE</th>\n",
       "      <th>UW</th>\n",
       "      <th>IossifovWE2012</th>\n",
       "      <th>EichlerWE2012</th>\n",
       "      <th>StateWE2012</th>\n",
       "      <th>EichlerTG2012</th>\n",
       "    </tr>\n",
       "  </thead>\n",
       "  <tbody>\n",
       "    <tr>\n",
       "      <th>0</th>\n",
       "      <td>14505</td>\n",
       "      <td>1:897349</td>\n",
       "      <td>sub(G-&gt;A)</td>\n",
       "      <td>1:897349:G:A</td>\n",
       "      <td>pM</td>\n",
       "      <td>NaN</td>\n",
       "      <td>KLHL17</td>\n",
       "      <td>synonymous</td>\n",
       "      <td>pMsM</td>\n",
       "      <td>NaN</td>\n",
       "      <td>NaN</td>\n",
       "      <td>weak:valid</td>\n",
       "      <td>NaN</td>\n",
       "      <td>NaN</td>\n",
       "      <td>NaN</td>\n",
       "      <td>NaN</td>\n",
       "    </tr>\n",
       "    <tr>\n",
       "      <th>1</th>\n",
       "      <td>14320</td>\n",
       "      <td>3:127395222</td>\n",
       "      <td>sub(T-&gt;G)</td>\n",
       "      <td>3:127395222:T:G</td>\n",
       "      <td>pF</td>\n",
       "      <td>NaN</td>\n",
       "      <td>ABTB1</td>\n",
       "      <td>noStart</td>\n",
       "      <td>pFsM</td>\n",
       "      <td>strong</td>\n",
       "      <td>NaN</td>\n",
       "      <td>NaN</td>\n",
       "      <td>NaN</td>\n",
       "      <td>NaN</td>\n",
       "      <td>NaN</td>\n",
       "      <td>NaN</td>\n",
       "    </tr>\n",
       "  </tbody>\n",
       "</table>\n",
       "</div>"
      ],
      "text/plain": [
       "   familyId     location    variant       vcfVariant inChild fromParent  \\\n",
       "0     14505     1:897349  sub(G->A)     1:897349:G:A      pM        NaN   \n",
       "1     14320  3:127395222  sub(T->G)  3:127395222:T:G      pF        NaN   \n",
       "\n",
       "  effectGene  effectType familyDescription    CSHL YALE          UW  \\\n",
       "0     KLHL17  synonymous              pMsM     NaN  NaN  weak:valid   \n",
       "1      ABTB1     noStart              pFsM  strong  NaN         NaN   \n",
       "\n",
       "  IossifovWE2012 EichlerWE2012 StateWE2012 EichlerTG2012  \n",
       "0            NaN           NaN         NaN           NaN  \n",
       "1            NaN           NaN         NaN           NaN  "
      ]
     },
     "metadata": {},
     "output_type": "display_data"
    }
   ],
   "source": [
    "nature13908_vars = \"/Users/jiayao/Work/BrainDisorders/data/nature13908-s2/Supplementary_Table_2.xlsx\"\n",
    "all_var = pd.read_excel(nature13908_vars)\n",
    "display(all_var.head(2))\n",
    "LGD = set([\"noStart\", \"frame-shift\", \"nonsense\", \"noEnd\", \"no-frame-shift-newStop\",\"splice-site\"])\n",
    "MIS = set([\"missense\"])\n",
    "SYN = set([\"synonymous\"])\n",
    "InPro = set([\"pMsM\", \"pMsF\", \"pFsF\", \"pF\", \"pM\", \"pFsM\"])\n",
    "InSib = set([\"pMsM\", \"pMsF\", \"pFsF\", \"sF\", \"sM\", \"pFsM\"])"
   ]
  },
  {
   "cell_type": "code",
   "execution_count": 23,
   "metadata": {
    "collapsed": false
   },
   "outputs": [],
   "source": [
    "DatDir = \"/Users/jiayao/Work/BrainDisorders/data/DenovoVariants/\"\n",
    "ProLGD = all_var[(all_var[\"inChild\"].isin(InPro)) & (all_var[\"effectType\"].isin(LGD))]\n",
    "ProMIS = all_var[(all_var[\"inChild\"].isin(InPro)) & (all_var[\"effectType\"].isin(MIS))]\n",
    "ProSYN = all_var[(all_var[\"inChild\"].isin(InPro)) & (all_var[\"effectType\"].isin(SYN))]\n",
    "SibLGD = all_var[(all_var[\"inChild\"].isin(InSib)) & (all_var[\"effectType\"].isin(LGD))]\n",
    "SibMIS = all_var[(all_var[\"inChild\"].isin(InSib)) & (all_var[\"effectType\"].isin(MIS))]\n",
    "SibSYN = all_var[(all_var[\"inChild\"].isin(InSib)) & (all_var[\"effectType\"].isin(SYN))]\n",
    "SibNSYN = all_var[(all_var[\"inChild\"].isin(InSib)) & (all_var[\"effectType\"].isin(MIS.union(LGD)))]\n",
    "ProLGD.to_excel(DatDir + \"wigler2014ProLGD.xlsx\", index=False)\n",
    "ProMIS.to_excel(DatDir + \"wigler2014ProMIS.xlsx\", index=False)\n",
    "ProSYN.to_excel(DatDir + \"wigler2014ProSYN.xlsx\", index=False)\n",
    "SibLGD.to_excel(DatDir + \"wigler2014SibLGD.xlsx\", index=False)\n",
    "SibMIS.to_excel(DatDir + \"wigler2014SibMIS.xlsx\", index=False)\n",
    "SibSYN.to_excel(DatDir + \"wigler2014SibSYN.xlsx\", index=False)\n",
    "SibNSYN.to_excel(DatDir + \"wigler2014SibNSYN.xlsx\", index=False)"
   ]
  },
  {
   "cell_type": "code",
   "execution_count": 24,
   "metadata": {
    "collapsed": false
   },
   "outputs": [
    {
     "data": {
      "text/plain": [
       "'sM'"
      ]
     },
     "execution_count": 24,
     "metadata": {},
     "output_type": "execute_result"
    }
   ],
   "source": [
    "x = \"pMsM\"\n",
    "x[-2:]"
   ]
  },
  {
   "cell_type": "code",
   "execution_count": 25,
   "metadata": {
    "collapsed": false
   },
   "outputs": [],
   "source": [
    "GeneCount = ProLGD.groupby(\"effectGene\")[\"effectGene\"].count()\n",
    "ProLGD.insert(list(ProLGD.columns.values).index(\"effectGene\")+1, \"GeneCount\", ProLGD.apply\n",
    "                 (lambda row: GeneCount[row[\"effectGene\"]], axis=1), allow_duplicates=False )\n",
    "ProLGD.head()\n",
    "RecProLGD = ProLGD[ProLGD[\"GeneCount\"]>=2]"
   ]
  },
  {
   "cell_type": "code",
   "execution_count": 26,
   "metadata": {
    "collapsed": false
   },
   "outputs": [
    {
     "data": {
      "text/html": [
       "<div>\n",
       "<style>\n",
       "    .dataframe thead tr:only-child th {\n",
       "        text-align: right;\n",
       "    }\n",
       "\n",
       "    .dataframe thead th {\n",
       "        text-align: left;\n",
       "    }\n",
       "\n",
       "    .dataframe tbody tr th {\n",
       "        vertical-align: top;\n",
       "    }\n",
       "</style>\n",
       "<table border=\"1\" class=\"dataframe\">\n",
       "  <thead>\n",
       "    <tr style=\"text-align: right;\">\n",
       "      <th></th>\n",
       "      <th>familyId</th>\n",
       "      <th>location</th>\n",
       "      <th>variant</th>\n",
       "      <th>vcfVariant</th>\n",
       "      <th>inChild</th>\n",
       "      <th>fromParent</th>\n",
       "      <th>effectGene</th>\n",
       "      <th>GeneCount</th>\n",
       "      <th>effectType</th>\n",
       "      <th>familyDescription</th>\n",
       "      <th>CSHL</th>\n",
       "      <th>YALE</th>\n",
       "      <th>UW</th>\n",
       "      <th>IossifovWE2012</th>\n",
       "      <th>EichlerWE2012</th>\n",
       "      <th>StateWE2012</th>\n",
       "      <th>EichlerTG2012</th>\n",
       "    </tr>\n",
       "  </thead>\n",
       "  <tbody>\n",
       "    <tr>\n",
       "      <th>108</th>\n",
       "      <td>13545</td>\n",
       "      <td>20:49509095</td>\n",
       "      <td>ins(T)</td>\n",
       "      <td>20:49509094:G:GT</td>\n",
       "      <td>pM</td>\n",
       "      <td>NaN</td>\n",
       "      <td>ADNP</td>\n",
       "      <td>2</td>\n",
       "      <td>frame-shift</td>\n",
       "      <td>pM</td>\n",
       "      <td>NaN</td>\n",
       "      <td>strong:valid</td>\n",
       "      <td>NaN</td>\n",
       "      <td>NaN</td>\n",
       "      <td>NaN</td>\n",
       "      <td>NaN</td>\n",
       "      <td>yes</td>\n",
       "    </tr>\n",
       "    <tr>\n",
       "      <th>123</th>\n",
       "      <td>12130</td>\n",
       "      <td>20:49510028</td>\n",
       "      <td>del(2)</td>\n",
       "      <td>20:49510027:CTT:C</td>\n",
       "      <td>pF</td>\n",
       "      <td>NaN</td>\n",
       "      <td>ADNP</td>\n",
       "      <td>2</td>\n",
       "      <td>frame-shift</td>\n",
       "      <td>pF</td>\n",
       "      <td>NaN</td>\n",
       "      <td>NaN</td>\n",
       "      <td>strong:valid</td>\n",
       "      <td>NaN</td>\n",
       "      <td>yes</td>\n",
       "      <td>NaN</td>\n",
       "      <td>NaN</td>\n",
       "    </tr>\n",
       "    <tr>\n",
       "      <th>242</th>\n",
       "      <td>12645</td>\n",
       "      <td>4:114232545</td>\n",
       "      <td>sub(C-&gt;T)</td>\n",
       "      <td>4:114232545:C:T</td>\n",
       "      <td>pM</td>\n",
       "      <td>NaN</td>\n",
       "      <td>ANK2</td>\n",
       "      <td>3</td>\n",
       "      <td>nonsense</td>\n",
       "      <td>pMsM</td>\n",
       "      <td>strong:valid</td>\n",
       "      <td>NaN</td>\n",
       "      <td>NaN</td>\n",
       "      <td>yes</td>\n",
       "      <td>NaN</td>\n",
       "      <td>NaN</td>\n",
       "      <td>NaN</td>\n",
       "    </tr>\n",
       "    <tr>\n",
       "      <th>259</th>\n",
       "      <td>14256</td>\n",
       "      <td>4:114251469</td>\n",
       "      <td>sub(C-&gt;T)</td>\n",
       "      <td>4:114251469:C:T</td>\n",
       "      <td>pM</td>\n",
       "      <td>NaN</td>\n",
       "      <td>ANK2</td>\n",
       "      <td>3</td>\n",
       "      <td>nonsense</td>\n",
       "      <td>pMsF</td>\n",
       "      <td>NaN</td>\n",
       "      <td>strong:valid</td>\n",
       "      <td>NaN</td>\n",
       "      <td>NaN</td>\n",
       "      <td>NaN</td>\n",
       "      <td>NaN</td>\n",
       "      <td>NaN</td>\n",
       "    </tr>\n",
       "    <tr>\n",
       "      <th>264</th>\n",
       "      <td>13768</td>\n",
       "      <td>4:114277600</td>\n",
       "      <td>del(1)</td>\n",
       "      <td>4:114277599:AG:A</td>\n",
       "      <td>pM</td>\n",
       "      <td>NaN</td>\n",
       "      <td>ANK2</td>\n",
       "      <td>3</td>\n",
       "      <td>frame-shift</td>\n",
       "      <td>pMsF</td>\n",
       "      <td>strong</td>\n",
       "      <td>NaN</td>\n",
       "      <td>NaN</td>\n",
       "      <td>NaN</td>\n",
       "      <td>NaN</td>\n",
       "      <td>NaN</td>\n",
       "      <td>NaN</td>\n",
       "    </tr>\n",
       "  </tbody>\n",
       "</table>\n",
       "</div>"
      ],
      "text/plain": [
       "     familyId     location    variant         vcfVariant inChild fromParent  \\\n",
       "108     13545  20:49509095     ins(T)   20:49509094:G:GT      pM        NaN   \n",
       "123     12130  20:49510028     del(2)  20:49510027:CTT:C      pF        NaN   \n",
       "242     12645  4:114232545  sub(C->T)    4:114232545:C:T      pM        NaN   \n",
       "259     14256  4:114251469  sub(C->T)    4:114251469:C:T      pM        NaN   \n",
       "264     13768  4:114277600     del(1)   4:114277599:AG:A      pM        NaN   \n",
       "\n",
       "    effectGene  GeneCount   effectType familyDescription          CSHL  \\\n",
       "108       ADNP          2  frame-shift                pM           NaN   \n",
       "123       ADNP          2  frame-shift                pF           NaN   \n",
       "242       ANK2          3     nonsense              pMsM  strong:valid   \n",
       "259       ANK2          3     nonsense              pMsF           NaN   \n",
       "264       ANK2          3  frame-shift              pMsF        strong   \n",
       "\n",
       "             YALE            UW IossifovWE2012 EichlerWE2012 StateWE2012  \\\n",
       "108  strong:valid           NaN            NaN           NaN         NaN   \n",
       "123           NaN  strong:valid            NaN           yes         NaN   \n",
       "242           NaN           NaN            yes           NaN         NaN   \n",
       "259  strong:valid           NaN            NaN           NaN         NaN   \n",
       "264           NaN           NaN            NaN           NaN         NaN   \n",
       "\n",
       "    EichlerTG2012  \n",
       "108           yes  \n",
       "123           NaN  \n",
       "242           NaN  \n",
       "259           NaN  \n",
       "264           NaN  "
      ]
     },
     "execution_count": 26,
     "metadata": {},
     "output_type": "execute_result"
    }
   ],
   "source": [
    "RecProLGD.head()"
   ]
  },
  {
   "cell_type": "code",
   "execution_count": 27,
   "metadata": {
    "collapsed": false
   },
   "outputs": [
    {
     "name": "stdout",
     "output_type": "stream",
     "text": [
      "(67, 17)\n"
     ]
    }
   ],
   "source": [
    "print RecProLGD.shape"
   ]
  },
  {
   "cell_type": "code",
   "execution_count": 28,
   "metadata": {
    "collapsed": true
   },
   "outputs": [],
   "source": [
    "RecProLGD.to_excel(DatDir + \"wigler2014RecProLGD.xlsx\", index=False)"
   ]
  },
  {
   "cell_type": "markdown",
   "metadata": {},
   "source": [
    "# Go Term"
   ]
  },
  {
   "cell_type": "code",
   "execution_count": 43,
   "metadata": {
    "collapsed": false
   },
   "outputs": [
    {
     "name": "stderr",
     "output_type": "stream",
     "text": [
      "  wget.download(http://purl.obolibrary.org/obo/go/go-basic.obo out=go-basic.obo)\n",
      "  wget.download(ftp://ftp.ncbi.nlm.nih.gov/gene/DATA/gene2go.gz out=gene2go.gz)\n"
     ]
    },
    {
     "name": "stdout",
     "output_type": "stream",
     "text": [
      "  gunzip gene2go.gz\n",
      "  17,983 items READ: gene2go\n",
      "17983 GO terms associated with human NCBI Entrez GeneIDs\n",
      "go-basic.obo: fmt(1.2) rel(2018-10-23) 47,358 GO Terms; optional_attrs(comment def relationship synonym xref)\n"
     ]
    }
   ],
   "source": [
    "# Get http://geneontology.org/ontology/go-basic.obo\n",
    "from goatools.base import download_go_basic_obo\n",
    "obo_fname = download_go_basic_obo()\n",
    "\n",
    "# Get ftp://ftp.ncbi.nlm.nih.gov/gene/DATA/gene2go.gz\n",
    "from goatools.base import download_ncbi_associations\n",
    "gene2go = download_ncbi_associations()\n",
    "\n",
    "from goatools.associations import read_ncbi_gene2go\n",
    "\n",
    "go2geneids_human = read_ncbi_gene2go(\"gene2go\", taxids=[9606], go2geneids=True)\n",
    "print(\"{N} GO terms associated with human NCBI Entrez GeneIDs\".format(N=len(go2geneids_human)))\n",
    "\n",
    "from goatools.go_search import GoSearch\n",
    "\n",
    "srchhelp = GoSearch(\"go-basic.obo\", go2items=go2geneids_human)"
   ]
  },
  {
   "cell_type": "code",
   "execution_count": 30,
   "metadata": {
    "collapsed": false
   },
   "outputs": [
    {
     "name": "stdout",
     "output_type": "stream",
     "text": [
      "/Users/jiayao/Work/BrainDisorders/src/data/go-basic.obo: fmt(1.2) rel(2018-10-19) 47,359 GO Terms\n"
     ]
    }
   ],
   "source": [
    "from goatools import obo_parser\n",
    "import wget\n",
    "import os\n",
    "go_obo_url = 'http://purl.obolibrary.org/obo/go/go-basic.obo'\n",
    "data_folder = os.getcwd() + '/data'\n",
    "\n",
    "# Check if we have the ./data directory already\n",
    "if(not os.path.isfile(data_folder)):\n",
    "    # Emulate mkdir -p (no error if folder exists)\n",
    "    try:\n",
    "        os.mkdir(data_folder)\n",
    "    except OSError as e:\n",
    "        if(e.errno != 17):\n",
    "            raise e\n",
    "else:\n",
    "    raise Exception('Data path (' + data_folder + ') exists as a file. '\n",
    "                   'Please rename, remove or change the desired location of the data path.')\n",
    "\n",
    "def find_children(term1, go, go_term_set={}, ret=False):\n",
    "    for term2 in term1.children:\n",
    "        go_term_set.update({term2})\n",
    "        \n",
    "        # Recurse on term to find all children\n",
    "        find_children(term2, go, go_term_set)\n",
    "    if(ret):\n",
    "        return go_term_set\n",
    "    \n",
    "# Check if the file exists already\n",
    "if(not os.path.isfile(data_folder+'/go-basic.obo')):\n",
    "    go_obo = wget.download(go_obo_url, data_folder+'/go-basic.obo')\n",
    "else:\n",
    "    go_obo = data_folder+'/go-basic.obo'\n",
    "go = obo_parser.GODag(go_obo)"
   ]
  },
  {
   "cell_type": "code",
   "execution_count": 100,
   "metadata": {
    "collapsed": false
   },
   "outputs": [],
   "source": [
    "def GetALLGo(GoID):\n",
    "    Root = go[GoID]\n",
    "    all_go = Root.get_all_children()\n",
    "    all_go.add(GoID)\n",
    "    return all_go"
   ]
  },
  {
   "cell_type": "code",
   "execution_count": 101,
   "metadata": {
    "collapsed": true
   },
   "outputs": [],
   "source": [
    "chromatin_organization = \"GO:0006325\"\n",
    "synaptic_signaling = \"GO:0099536\"\n",
    "synapse = \"GO:0045202\"\n",
    "cortical_cytoskeleton = \"GO:0030863\"\n",
    "presynaptic_cytoskeleton = \"GO:0099569\"\n",
    "postsynaptic_cytoskeleton = \"GO:0099571\"\n",
    "channel_activity = \"GO:0015267\""
   ]
  },
  {
   "cell_type": "code",
   "execution_count": 102,
   "metadata": {
    "collapsed": false
   },
   "outputs": [],
   "source": [
    "goset_chromatin_organization = GetALLGo(chromatin_organization)\n",
    "goset_synaptic_signaling = GetALLGo(synaptic_signaling)\n",
    "goset_synapse = GetALLGo(synapse)\n",
    "goset_presynaptic_cytoskeleton = GetALLGo(presynaptic_cytoskeleton)\n",
    "goset_postsynaptic_cytoskeleton = GetALLGo(postsynaptic_cytoskeleton)\n",
    "goset_cortical_cytoskeleton = GetALLGo(cortical_cytoskeleton)\n",
    "goset_channel_activity = GetALLGo(channel_activity)"
   ]
  },
  {
   "cell_type": "code",
   "execution_count": 103,
   "metadata": {
    "collapsed": false
   },
   "outputs": [],
   "source": [
    "chromatin_geneids = srchhelp.get_items(goset_chromatin_organization)\n",
    "synaptic_signaling_geneids = srchhelp.get_items(goset_synaptic_signaling)\n",
    "synapse_geneids = srchhelp.get_items(goset_synapse)\n",
    "presynaptic_cyto_geneids = srchhelp.get_items(goset_presynaptic_cytoskeleton)\n",
    "postsynaptic_cyto_geneids = srchhelp.get_items(goset_postsynaptic_cytoskeleton)\n",
    "cortical_cytoskeleton_geneids = srchhelp.get_items(goset_cortical_cytoskeleton)\n",
    "channel_geneids = srchhelp.get_items(goset_channel_activity)"
   ]
  },
  {
   "cell_type": "code",
   "execution_count": 104,
   "metadata": {
    "collapsed": false
   },
   "outputs": [
    {
     "name": "stdout",
     "output_type": "stream",
     "text": [
      "713\n",
      "324\n",
      "714\n",
      "8\n",
      "7\n",
      "74\n",
      "467\n"
     ]
    }
   ],
   "source": [
    "print len(chromatin_geneids)\n",
    "print len(synaptic_signaling_geneids)\n",
    "print len(synapse_geneids)\n",
    "print len(presynaptic_cyto_geneids)\n",
    "print len(postsynaptic_cyto_geneids)\n",
    "print len(cortical_cytoskeleton_geneids)\n",
    "print len(channel_geneids)"
   ]
  },
  {
   "cell_type": "code",
   "execution_count": 105,
   "metadata": {
    "collapsed": false
   },
   "outputs": [],
   "source": [
    "cyto_sig = presynaptic_cyto_geneids.union(postsynaptic_cyto_geneids).union(cortical_cytoskeleton_geneids).union(synaptic_signaling_geneids)\n",
    "chromatin = chromatin_geneids\n",
    "synapse = synapse_geneids\n",
    "channel = channel_geneids"
   ]
  },
  {
   "cell_type": "code",
   "execution_count": 106,
   "metadata": {
    "collapsed": false
   },
   "outputs": [],
   "source": [
    "dat_dir = '/Users/jiayao/Work/BrainDisorders/data/functions/'\n",
    "def to_file(filename, _list):\n",
    "    fout = open(filename, 'wb')\n",
    "    for term in _list:\n",
    "        fout.write(\"{}\\n\".format(term))\n",
    "#print chromatin_geneids\n",
    "\n",
    "to_file(dat_dir+\"go_cyto_sig.list\", cyto_sig)\n",
    "to_file(dat_dir+\"go_chromatin.list\", chromatin)\n",
    "to_file(dat_dir+\"go_synapse.list\", synapse)\n",
    "to_file(dat_dir+\"go_channel.list\", channel)"
   ]
  },
  {
   "cell_type": "code",
   "execution_count": null,
   "metadata": {
    "collapsed": true
   },
   "outputs": [],
   "source": []
  }
 ],
 "metadata": {
  "kernelspec": {
   "display_name": "Python 2",
   "language": "python",
   "name": "python2"
  },
  "language_info": {
   "codemirror_mode": {
    "name": "ipython",
    "version": 2
   },
   "file_extension": ".py",
   "mimetype": "text/x-python",
   "name": "python",
   "nbconvert_exporter": "python",
   "pygments_lexer": "ipython2",
   "version": "2.7.13"
  }
 },
 "nbformat": 4,
 "nbformat_minor": 2
}
