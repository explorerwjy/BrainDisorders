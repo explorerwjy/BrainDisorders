{
 "cells": [
  {
   "cell_type": "code",
   "execution_count": 110,
   "metadata": {},
   "outputs": [
    {
     "name": "stderr",
     "output_type": "stream",
     "text": [
      "[autoreload of utils failed: Traceback (most recent call last):\n",
      "  File \"/Users/jiayao/anaconda3/lib/python3.7/site-packages/IPython/extensions/autoreload.py\", line 244, in check\n",
      "    superreload(m, reload, self.old_objects)\n",
      "  File \"/Users/jiayao/anaconda3/lib/python3.7/site-packages/IPython/extensions/autoreload.py\", line 376, in superreload\n",
      "    module = reload(module)\n",
      "  File \"/Users/jiayao/anaconda3/lib/python3.7/imp.py\", line 314, in reload\n",
      "    return importlib.reload(module)\n",
      "  File \"/Users/jiayao/anaconda3/lib/python3.7/importlib/__init__.py\", line 169, in reload\n",
      "    _bootstrap._exec(spec, module)\n",
      "  File \"<frozen importlib._bootstrap>\", line 630, in _exec\n",
      "  File \"<frozen importlib._bootstrap_external>\", line 728, in exec_module\n",
      "  File \"<frozen importlib._bootstrap>\", line 219, in _call_with_frames_removed\n",
      "  File \"/Users/jiayao/Work/BrainDisorders/src/utils.py\", line 20, in <module>\n",
      "    import mygene\n",
      "  File \"/Users/jiayao/anaconda3/lib/python3.7/site-packages/mygene/__init__.py\", line 4, in <module>\n",
      "    from biothings_client import get_client, alwayslist\n",
      "  File \"/Users/jiayao/anaconda3/lib/python3.7/site-packages/biothings_client/__init__.py\", line 4, in <module>\n",
      "    from .base import BiothingClient, __version__, alwayslist, df_avail, caching_avail\n",
      "KeyboardInterrupt\n",
      "]\n"
     ]
    },
    {
     "name": "stdout",
     "output_type": "stream",
     "text": [
      "The autoreload extension is already loaded. To reload it, use:\n",
      "  %reload_ext autoreload\n"
     ]
    }
   ],
   "source": [
    "%load_ext autoreload\n",
    "%autoreload 2\n",
    "from utils import *\n",
    "import itertools\n",
    "from IPython.display import display, HTML\n",
    "from scipy.stats import spearmanr\n",
    "from scipy.stats import pearsonr\n",
    "ins = BrainSpan()"
   ]
  },
  {
   "cell_type": "code",
   "execution_count": 79,
   "metadata": {},
   "outputs": [],
   "source": [
    "Genes = {}\n",
    "hand = open(\"unifiedmodel/RecLGDgenes.gencode.v19.gtf\", 'rt')\n",
    "GeneIDs = []\n",
    "for l in hand:\n",
    "    if l.startswith(\"#\"):\n",
    "        continue\n",
    "    llist = l.strip().split(\"\\t\")\n",
    "    info = gtf_info_parser(llist[8]) \n",
    "    CHR = llist[0].lstrip(\"chr\")\n",
    "    strand = llist[6]\n",
    "    start = int(llist[3])\n",
    "    end = int(llist[4])\n",
    "    if llist[2] == \"gene\":\n",
    "        gene_name = info[\"gene_name\"]\n",
    "        gene_id = info[\"gene_id\"].split(\".\")[0]\n",
    "        Genes[gene_name] = GTFGene(gene_name, gene_id, strand)\n",
    "        GeneIDs.append(gene_id)\n",
    "GeneIDs = set(GeneIDs)"
   ]
  },
  {
   "cell_type": "code",
   "execution_count": 80,
   "metadata": {},
   "outputs": [
    {
     "name": "stdout",
     "output_type": "stream",
     "text": [
      "28 {'ENSG00000061676', 'ENSG00000130749', 'ENSG00000167216', 'ENSG00000163625', 'ENSG00000095787', 'ENSG00000136531', 'ENSG00000148737', 'ENSG00000157540', 'ENSG00000101126', 'ENSG00000117139', 'ENSG00000171587', 'ENSG00000160305', 'ENSG00000197724', 'ENSG00000079841', 'ENSG00000100354', 'ENSG00000005483', 'ENSG00000136535', 'ENSG00000132510', 'ENSG00000100888', 'ENSG00000049618', 'ENSG00000146830', 'ENSG00000167522', 'ENSG00000145362', 'ENSG00000143442', 'ENSG00000273079', 'ENSG00000173575', 'ENSG00000123066', 'ENSG00000114861'}\n"
     ]
    }
   ],
   "source": [
    "print(len(GeneIDs), GeneIDs)"
   ]
  },
  {
   "cell_type": "code",
   "execution_count": 81,
   "metadata": {
    "scrolled": true
   },
   "outputs": [],
   "source": [
    "Trans_TPM = \"/Users/jiayao/Work/BrainDisorders/data/GTEx_Analysis_2016-01-15_v7_RSEMv1.2.22_transcript_tpm.txt\"\n",
    "out = open(\"transcripts/GTEx_rec_transcript_tpm.txt\", 'wt')\n",
    "for l in open(Trans_TPM, 'rt'):\n",
    "    llist = l.strip().split(\"\\t\")\n",
    "    if l.startswith(\"trans\"):\n",
    "        out.write(l)\n",
    "    elif llist[1].split(\".\")[0] in GeneIDs:\n",
    "        out.write(l)"
   ]
  },
  {
   "cell_type": "code",
   "execution_count": 82,
   "metadata": {},
   "outputs": [],
   "source": [
    "SampleAtt = pd.read_csv(\"../data/GTEx_v7_Annotations_SampleAttributesDS.txt\", delimiter=\"\\t\")\n",
    "BrainSampleAtt = SampleAtt[SampleAtt[\"SMTS\"]==\"Brain\"]"
   ]
  },
  {
   "cell_type": "code",
   "execution_count": 83,
   "metadata": {},
   "outputs": [
    {
     "data": {
      "text/plain": [
       "array(['GTEX-1117F-3226-SM-5N9CT', 'GTEX-111FC-3126-SM-5GZZ2',\n",
       "       'GTEX-111FC-3326-SM-5GZYV', ..., 'GTEX-ZYY3-3126-SM-5SI9L',\n",
       "       'GTEX-ZZPT-2926-SM-5EQ5S', 'GTEX-ZZPT-3026-SM-5GZXH'], dtype=object)"
      ]
     },
     "execution_count": 83,
     "metadata": {},
     "output_type": "execute_result"
    }
   ],
   "source": [
    "BrainSampleAtt[\"SAMPID\"].values"
   ]
  },
  {
   "cell_type": "code",
   "execution_count": 84,
   "metadata": {},
   "outputs": [],
   "source": [
    "Headers = [\"transcript_id\", \"gene_id\"]+list(BrainSampleAtt[\"SAMPID\"].values)"
   ]
  },
  {
   "cell_type": "code",
   "execution_count": 85,
   "metadata": {},
   "outputs": [],
   "source": [
    "Headers = [x for x in Headers]"
   ]
  },
  {
   "cell_type": "code",
   "execution_count": 86,
   "metadata": {},
   "outputs": [
    {
     "name": "stdout",
     "output_type": "stream",
     "text": [
      "2078\n"
     ]
    }
   ],
   "source": [
    "print(len(Headers))"
   ]
  },
  {
   "cell_type": "code",
   "execution_count": 87,
   "metadata": {},
   "outputs": [
    {
     "name": "stdout",
     "output_type": "stream",
     "text": [
      "['KEY' 'familyId' 'vcfVariant' 'inChild' 'effectGene' 'effectType'\n",
      " 'gender' 'VIQ' 'NVIQ' 'ExonID' 'GeneExp.amean' 'ExonExp.amean'\n",
      " 'GenePrenatalExp.amean' 'ExonPrenatalExp.amean' 'GenePostnatalExp.amean'\n",
      " 'ExonPostnatalExp.amean' 'Functional' 'DOM.TRUNC.FRAC' 'DOM.TRUNC' 'GERP'\n",
      " 'Rel.exp.amean' 'Rel.exp.gmean' 'Rel.exp.prenatal' 'Rel.exp.postnatal'\n",
      " 'Prenatal.Bias' 'phyloP100way' 'phastCons100way' 'gender1' 'Age' 'Dosage'\n",
      " 'Exons' 'Transcripts']\n"
     ]
    }
   ],
   "source": [
    "print(df.columns.values)"
   ]
  },
  {
   "cell_type": "code",
   "execution_count": 113,
   "metadata": {},
   "outputs": [
    {
     "name": "stdout",
     "output_type": "stream",
     "text": [
      "(329, 11690)\n"
     ]
    }
   ],
   "source": [
    "GTEx_rec_transcript_tpm = pd.read_csv(\"transcripts/GTEx_rec_transcript_tpm.txt\", delimiter=\"\\t\")\n",
    "print(GTEx_rec_transcript_tpm.shape)"
   ]
  },
  {
   "cell_type": "code",
   "execution_count": 114,
   "metadata": {},
   "outputs": [
    {
     "data": {
      "text/html": [
       "<div>\n",
       "<style scoped>\n",
       "    .dataframe tbody tr th:only-of-type {\n",
       "        vertical-align: middle;\n",
       "    }\n",
       "\n",
       "    .dataframe tbody tr th {\n",
       "        vertical-align: top;\n",
       "    }\n",
       "\n",
       "    .dataframe thead th {\n",
       "        text-align: right;\n",
       "    }\n",
       "</style>\n",
       "<table border=\"1\" class=\"dataframe\">\n",
       "  <thead>\n",
       "    <tr style=\"text-align: right;\">\n",
       "      <th></th>\n",
       "      <th>transcript_id</th>\n",
       "      <th>gene_id</th>\n",
       "      <th>GTEX-1117F-0226-SM-5GZZ7</th>\n",
       "      <th>GTEX-1117F-0426-SM-5EGHI</th>\n",
       "      <th>GTEX-1117F-0526-SM-5EGHJ</th>\n",
       "      <th>GTEX-1117F-0626-SM-5N9CS</th>\n",
       "      <th>GTEX-1117F-0726-SM-5GIEN</th>\n",
       "      <th>GTEX-1117F-1326-SM-5EGHH</th>\n",
       "      <th>GTEX-1117F-2226-SM-5N9CH</th>\n",
       "      <th>GTEX-1117F-2426-SM-5EGGH</th>\n",
       "      <th>...</th>\n",
       "      <th>GTEX-ZZPU-1126-SM-5N9CW</th>\n",
       "      <th>GTEX-ZZPU-1226-SM-5N9CK</th>\n",
       "      <th>GTEX-ZZPU-1326-SM-5GZWS</th>\n",
       "      <th>GTEX-ZZPU-1426-SM-5GZZ6</th>\n",
       "      <th>GTEX-ZZPU-1826-SM-5E43L</th>\n",
       "      <th>GTEX-ZZPU-2126-SM-5EGIU</th>\n",
       "      <th>GTEX-ZZPU-2226-SM-5EGIV</th>\n",
       "      <th>GTEX-ZZPU-2426-SM-5E44I</th>\n",
       "      <th>GTEX-ZZPU-2626-SM-5E45Y</th>\n",
       "      <th>GTEX-ZZPU-2726-SM-5NQ8O</th>\n",
       "    </tr>\n",
       "  </thead>\n",
       "  <tbody>\n",
       "    <tr>\n",
       "      <th>0</th>\n",
       "      <td>ENST00000257745.4</td>\n",
       "      <td>ENSG00000005483.15</td>\n",
       "      <td>9.74</td>\n",
       "      <td>6.2</td>\n",
       "      <td>19.52</td>\n",
       "      <td>9.93</td>\n",
       "      <td>4.9</td>\n",
       "      <td>13.9</td>\n",
       "      <td>17.0</td>\n",
       "      <td>19.6</td>\n",
       "      <td>...</td>\n",
       "      <td>6.24</td>\n",
       "      <td>3.48</td>\n",
       "      <td>8.67</td>\n",
       "      <td>2.78</td>\n",
       "      <td>13.81</td>\n",
       "      <td>15.47</td>\n",
       "      <td>5.08</td>\n",
       "      <td>13.13</td>\n",
       "      <td>4.12</td>\n",
       "      <td>7.92</td>\n",
       "    </tr>\n",
       "    <tr>\n",
       "      <th>1</th>\n",
       "      <td>ENST00000311117.3</td>\n",
       "      <td>ENSG00000005483.15</td>\n",
       "      <td>0.44</td>\n",
       "      <td>0.0</td>\n",
       "      <td>0.00</td>\n",
       "      <td>0.00</td>\n",
       "      <td>0.0</td>\n",
       "      <td>0.0</td>\n",
       "      <td>0.0</td>\n",
       "      <td>0.0</td>\n",
       "      <td>...</td>\n",
       "      <td>0.00</td>\n",
       "      <td>0.33</td>\n",
       "      <td>0.00</td>\n",
       "      <td>0.00</td>\n",
       "      <td>0.01</td>\n",
       "      <td>0.00</td>\n",
       "      <td>0.00</td>\n",
       "      <td>0.69</td>\n",
       "      <td>1.21</td>\n",
       "      <td>1.06</td>\n",
       "    </tr>\n",
       "  </tbody>\n",
       "</table>\n",
       "<p>2 rows × 11690 columns</p>\n",
       "</div>"
      ],
      "text/plain": [
       "       transcript_id             gene_id  GTEX-1117F-0226-SM-5GZZ7  \\\n",
       "0  ENST00000257745.4  ENSG00000005483.15                      9.74   \n",
       "1  ENST00000311117.3  ENSG00000005483.15                      0.44   \n",
       "\n",
       "   GTEX-1117F-0426-SM-5EGHI  GTEX-1117F-0526-SM-5EGHJ  \\\n",
       "0                       6.2                     19.52   \n",
       "1                       0.0                      0.00   \n",
       "\n",
       "   GTEX-1117F-0626-SM-5N9CS  GTEX-1117F-0726-SM-5GIEN  \\\n",
       "0                      9.93                       4.9   \n",
       "1                      0.00                       0.0   \n",
       "\n",
       "   GTEX-1117F-1326-SM-5EGHH  GTEX-1117F-2226-SM-5N9CH  \\\n",
       "0                      13.9                      17.0   \n",
       "1                       0.0                       0.0   \n",
       "\n",
       "   GTEX-1117F-2426-SM-5EGGH           ...             GTEX-ZZPU-1126-SM-5N9CW  \\\n",
       "0                      19.6           ...                                6.24   \n",
       "1                       0.0           ...                                0.00   \n",
       "\n",
       "   GTEX-ZZPU-1226-SM-5N9CK  GTEX-ZZPU-1326-SM-5GZWS  GTEX-ZZPU-1426-SM-5GZZ6  \\\n",
       "0                     3.48                     8.67                     2.78   \n",
       "1                     0.33                     0.00                     0.00   \n",
       "\n",
       "   GTEX-ZZPU-1826-SM-5E43L  GTEX-ZZPU-2126-SM-5EGIU  GTEX-ZZPU-2226-SM-5EGIV  \\\n",
       "0                    13.81                    15.47                     5.08   \n",
       "1                     0.01                     0.00                     0.00   \n",
       "\n",
       "   GTEX-ZZPU-2426-SM-5E44I  GTEX-ZZPU-2626-SM-5E45Y  GTEX-ZZPU-2726-SM-5NQ8O  \n",
       "0                    13.13                     4.12                     7.92  \n",
       "1                     0.69                     1.21                     1.06  \n",
       "\n",
       "[2 rows x 11690 columns]"
      ]
     },
     "execution_count": 114,
     "metadata": {},
     "output_type": "execute_result"
    }
   ],
   "source": [
    "GTEx_rec_transcript_tpm.head(2)"
   ]
  },
  {
   "cell_type": "code",
   "execution_count": 104,
   "metadata": {},
   "outputs": [],
   "source": [
    "Genes = LoadGTF4FracIso()\n",
    "Jiayao_features = LoadVar4FracIso(Genes)"
   ]
  },
  {
   "cell_type": "code",
   "execution_count": 108,
   "metadata": {},
   "outputs": [
    {
     "name": "stdout",
     "output_type": "stream",
     "text": [
      "['ENST00000466639.1', 'ENST00000427143.2', 'ENST00000400274.1', 'ENST00000318711.7', 'ENST00000435722.3', 'ENST00000417564.2', 'ENST00000457905.3'] ['ENST00000466639.1', 'ENST00000427143.2', 'ENST00000400274.1', 'ENST00000318711.7', 'ENST00000435722.3', 'ENST00000417564.2', 'ENST00000457905.3']\n",
      "['ENST00000404019.2', 'ENST00000400454.1'] ['ENST00000404019.2', 'ENST00000400454.1']\n",
      "['ENST00000404019.2', 'ENST00000400454.1'] ['ENST00000404019.2', 'ENST00000400454.1']\n",
      "['ENST00000404019.2', 'ENST00000400454.1'] ['ENST00000404019.2', 'ENST00000400454.1']\n",
      "['ENST00000557381.1', 'ENST00000557759.1', 'ENST00000394196.4'] ['ENST00000557381.1', 'ENST00000557759.1', 'ENST00000394196.4']\n",
      "['ENST00000414678.2', 'ENST00000350026.5', 'ENST00000346085.5', 'ENST00000367148.1', 'ENST00000275248.4'] ['ENST00000414678.2', 'ENST00000350026.5', 'ENST00000346085.5', 'ENST00000367148.1', 'ENST00000275248.4']\n",
      "['ENST00000357398.3', 'ENST00000283256.6', 'ENST00000375437.2', 'ENST00000375427.2'] ['ENST00000357398.3', 'ENST00000283256.6', 'ENST00000375437.2', 'ENST00000375427.2']\n",
      "['ENST00000275732.5'] ['ENST00000275732.5']\n",
      "['ENST00000430710.3', 'ENST00000557364.1', 'ENST00000399982.2'] ['ENST00000430710.3', 'ENST00000557364.1', 'ENST00000399982.2']\n",
      "['ENST00000430710.3', 'ENST00000557364.1', 'ENST00000399982.2'] ['ENST00000430710.3', 'ENST00000557364.1', 'ENST00000399982.2']\n",
      "['ENST00000430710.3', 'ENST00000557364.1', 'ENST00000399982.2'] ['ENST00000430710.3', 'ENST00000557364.1', 'ENST00000399982.2']\n",
      "['ENST00000430710.3', 'ENST00000557364.1', 'ENST00000399982.2', 'ENST00000555935.1'] ['ENST00000430710.3', 'ENST00000557364.1', 'ENST00000399982.2', 'ENST00000555935.1']\n",
      "['ENST00000430710.3', 'ENST00000557364.1', 'ENST00000399982.2', 'ENST00000555935.1'] ['ENST00000430710.3', 'ENST00000557364.1', 'ENST00000399982.2', 'ENST00000555935.1']\n",
      "['ENST00000430710.3', 'ENST00000557364.1', 'ENST00000399982.2', 'ENST00000555935.1'] ['ENST00000430710.3', 'ENST00000557364.1', 'ENST00000399982.2', 'ENST00000555935.1']\n",
      "['ENST00000454349.2', 'ENST00000446273.1', 'ENST00000335727.9'] ['ENST00000454349.2', 'ENST00000446273.1', 'ENST00000335727.9']\n",
      "['ENST00000455387.2', 'ENST00000451934.1', 'ENST00000398960.2', 'ENST00000398956.2', 'ENST00000339659.4', 'ENST00000321219.8', 'ENST00000338785.3'] ['ENST00000455387.2', 'ENST00000451934.1', 'ENST00000398960.2', 'ENST00000398956.2', 'ENST00000339659.4', 'ENST00000321219.8', 'ENST00000338785.3']\n",
      "['ENST00000455387.2', 'ENST00000451934.1', 'ENST00000398960.2', 'ENST00000398956.2', 'ENST00000339659.4', 'ENST00000321219.8', 'ENST00000338785.3'] ['ENST00000455387.2', 'ENST00000451934.1', 'ENST00000398960.2', 'ENST00000398956.2', 'ENST00000339659.4', 'ENST00000321219.8', 'ENST00000338785.3']\n",
      "['ENST00000455387.2', 'ENST00000451934.1', 'ENST00000398960.2', 'ENST00000398956.2', 'ENST00000339659.4', 'ENST00000321219.8', 'ENST00000338785.3'] ['ENST00000455387.2', 'ENST00000451934.1', 'ENST00000398960.2', 'ENST00000398956.2', 'ENST00000339659.4', 'ENST00000321219.8', 'ENST00000338785.3']\n",
      "['ENST00000361354.4', 'ENST00000360982.2'] ['ENST00000361354.4', 'ENST00000360982.2']\n",
      "['ENST00000322366.6', 'ENST00000295888.4'] ['ENST00000322366.6', 'ENST00000295888.4']\n",
      "['ENST00000301030.4', 'ENST00000378330.2'] ['ENST00000301030.4', 'ENST00000378330.2']\n",
      "['ENST00000271715.2', 'ENST00000491586.1', 'ENST00000531094.1', 'ENST00000361398.3', 'ENST00000368863.2', 'ENST00000409503.1', 'ENST00000540984.1', 'ENST00000392723.1'] ['ENST00000271715.2', 'ENST00000491586.1', 'ENST00000531094.1', 'ENST00000361398.3', 'ENST00000368863.2', 'ENST00000409503.1', 'ENST00000540984.1', 'ENST00000392723.1']\n",
      "['ENST00000497355.1', 'ENST00000318789.4', 'ENST00000468577.1', 'ENST00000493089.1', 'ENST00000491238.1', 'ENST00000498215.1', 'ENST00000475937.1', 'ENST00000484350.1'] ['ENST00000497355.1', 'ENST00000318789.4', 'ENST00000468577.1', 'ENST00000493089.1', 'ENST00000491238.1', 'ENST00000498215.1', 'ENST00000475937.1', 'ENST00000484350.1']\n",
      "['ENST00000396032.3', 'ENST00000349014.3', 'ENST00000371602.4', 'ENST00000396029.3'] ['ENST00000396032.3', 'ENST00000349014.3', 'ENST00000371602.4', 'ENST00000396029.3']\n",
      "['ENST00000254846.5', 'ENST00000570632.1', 'ENST00000448097.2'] ['ENST00000254846.5', 'ENST00000570632.1', 'ENST00000448097.2']\n",
      "['ENST00000609686.1'] ['ENST00000609686.1']\n",
      "['ENST00000609686.1'] ['ENST00000609686.1']\n",
      "['ENST00000609686.1'] ['ENST00000609686.1']\n",
      "['ENST00000359246.4', 'ENST00000375376.4'] ['ENST00000359246.4', 'ENST00000375376.4']\n"
     ]
    }
   ],
   "source": [
    "import itertools\n",
    "IQ_diffs = []\n",
    "FracIsoComs = []\n",
    "for gene in list(set(Jiayao_features[\"effectGene\"].values)):\n",
    "    df = Jiayao_features[(Jiayao_features[\"effectGene\"]==gene)]\n",
    "    IQ_diff_gene = []\n",
    "    for row1, row2 in itertools.combinations(df.iterrows(), r=2):\n",
    "        row1 = row1[1]\n",
    "        row2 = row2[1]\n",
    "        IQ_diff = abs(row1[\"NVIQ\"]- row2[\"NVIQ\"])\n",
    "        Iso1 = row1[\"Transcripts\"]\n",
    "        Iso2 = row2[\"Transcripts\"]\n",
    "        FracIsoCom = len(set(Iso1).intersection(set(Iso2))) / len(set(Iso1).union(set(Iso2)))\n",
    "        #if FracIsoCom == 1:\n",
    "        #    print(row1[\"Transcripts\"], row2[\"Transcripts\"])\n",
    "        #print(FracIsoCom)\n",
    "        FracIsoComs.append(FracIsoCom)\n",
    "        IQ_diff_gene.append(IQ_diff)\n",
    "    IQ_diff_gene = [x/np.mean(IQ_diff_gene) for x in IQ_diff_gene]\n",
    "    IQ_diffs.extend(IQ_diff_gene)"
   ]
  },
  {
   "cell_type": "code",
   "execution_count": 109,
   "metadata": {
    "scrolled": false
   },
   "outputs": [
    {
     "data": {
      "text/plain": [
       "<matplotlib.collections.PathCollection at 0x1c1c705b00>"
      ]
     },
     "execution_count": 109,
     "metadata": {},
     "output_type": "execute_result"
    },
    {
     "data": {
      "image/png": "[encoded data removed]",
      "text/plain": [
       "<Figure size 432x288 with 1 Axes>"
      ]
     },
     "metadata": {
      "needs_background": "light"
     },
     "output_type": "display_data"
    }
   ],
   "source": [
    "plt.scatter(FracIsoComs, IQ_diffs)"
   ]
  },
  {
   "cell_type": "code",
   "execution_count": 103,
   "metadata": {},
   "outputs": [
    {
     "data": {
      "text/html": [
       "<div>\n",
       "<style scoped>\n",
       "    .dataframe tbody tr th:only-of-type {\n",
       "        vertical-align: middle;\n",
       "    }\n",
       "\n",
       "    .dataframe tbody tr th {\n",
       "        vertical-align: top;\n",
       "    }\n",
       "\n",
       "    .dataframe thead th {\n",
       "        text-align: right;\n",
       "    }\n",
       "</style>\n",
       "<table border=\"1\" class=\"dataframe\">\n",
       "  <thead>\n",
       "    <tr style=\"text-align: right;\">\n",
       "      <th></th>\n",
       "      <th>KEY</th>\n",
       "      <th>familyId</th>\n",
       "      <th>vcfVariant</th>\n",
       "      <th>inChild</th>\n",
       "      <th>effectGene</th>\n",
       "      <th>effectType</th>\n",
       "      <th>gender</th>\n",
       "      <th>VIQ</th>\n",
       "      <th>NVIQ</th>\n",
       "      <th>ExonID</th>\n",
       "      <th>...</th>\n",
       "      <th>Rel.exp.prenatal</th>\n",
       "      <th>Rel.exp.postnatal</th>\n",
       "      <th>Prenatal.Bias</th>\n",
       "      <th>phyloP100way</th>\n",
       "      <th>phastCons100way</th>\n",
       "      <th>gender1</th>\n",
       "      <th>Age</th>\n",
       "      <th>Dosage</th>\n",
       "      <th>Exons</th>\n",
       "      <th>Transcripts</th>\n",
       "    </tr>\n",
       "  </thead>\n",
       "  <tbody>\n",
       "    <tr>\n",
       "      <th>0</th>\n",
       "      <td>13545-20:49509095</td>\n",
       "      <td>13545</td>\n",
       "      <td>20:49509094:G:GT</td>\n",
       "      <td>pM</td>\n",
       "      <td>ADNP</td>\n",
       "      <td>frame-shift</td>\n",
       "      <td>M</td>\n",
       "      <td>23.0</td>\n",
       "      <td>38.0</td>\n",
       "      <td>41150</td>\n",
       "      <td>...</td>\n",
       "      <td>1.215442</td>\n",
       "      <td>1.325670</td>\n",
       "      <td>1.423534</td>\n",
       "      <td>2.813101</td>\n",
       "      <td>0.732081</td>\n",
       "      <td>1</td>\n",
       "      <td>61.0</td>\n",
       "      <td>56.455400</td>\n",
       "      <td>[ENSE00001523629.2, ENSE00001455631.1]</td>\n",
       "      <td>[ENST00000396032.3, ENST00000349014.3, ENST000...</td>\n",
       "    </tr>\n",
       "    <tr>\n",
       "      <th>12</th>\n",
       "      <td>14233-14:21859176</td>\n",
       "      <td>14233</td>\n",
       "      <td>14:21859175:A:AT</td>\n",
       "      <td>pM</td>\n",
       "      <td>CHD8</td>\n",
       "      <td>frame-shift</td>\n",
       "      <td>M</td>\n",
       "      <td>6.0</td>\n",
       "      <td>19.0</td>\n",
       "      <td>40582</td>\n",
       "      <td>...</td>\n",
       "      <td>1.976787</td>\n",
       "      <td>2.532729</td>\n",
       "      <td>0.535774</td>\n",
       "      <td>2.914479</td>\n",
       "      <td>0.955658</td>\n",
       "      <td>1</td>\n",
       "      <td>201.0</td>\n",
       "      <td>36.206397</td>\n",
       "      <td>[ENSE00001096840.1]</td>\n",
       "      <td>[ENST00000430710.3, ENST00000557364.1, ENST000...</td>\n",
       "    </tr>\n",
       "    <tr>\n",
       "      <th>16</th>\n",
       "      <td>13844-14:21871178</td>\n",
       "      <td>13844</td>\n",
       "      <td>14:21871178:G:A</td>\n",
       "      <td>pM</td>\n",
       "      <td>CHD8</td>\n",
       "      <td>nonsense</td>\n",
       "      <td>M</td>\n",
       "      <td>20.0</td>\n",
       "      <td>34.0</td>\n",
       "      <td>40600</td>\n",
       "      <td>...</td>\n",
       "      <td>0.960060</td>\n",
       "      <td>0.905531</td>\n",
       "      <td>0.977669</td>\n",
       "      <td>5.203969</td>\n",
       "      <td>0.897051</td>\n",
       "      <td>1</td>\n",
       "      <td>99.0</td>\n",
       "      <td>72.726077</td>\n",
       "      <td>[ENSE00002439310.1, ENSE00001739488.1]</td>\n",
       "      <td>[ENST00000430710.3, ENST00000555935.1, ENST000...</td>\n",
       "    </tr>\n",
       "    <tr>\n",
       "      <th>18</th>\n",
       "      <td>13900-14:21895990</td>\n",
       "      <td>13900</td>\n",
       "      <td>14:21895989:ACTCTTGCACGTCCCATCACAGTAGCAAGGAGTA...</td>\n",
       "      <td>pM</td>\n",
       "      <td>CHD8</td>\n",
       "      <td>splice-site</td>\n",
       "      <td>M</td>\n",
       "      <td>10.0</td>\n",
       "      <td>27.0</td>\n",
       "      <td>40613</td>\n",
       "      <td>...</td>\n",
       "      <td>0.674465</td>\n",
       "      <td>0.665753</td>\n",
       "      <td>0.912067</td>\n",
       "      <td>3.102821</td>\n",
       "      <td>0.911194</td>\n",
       "      <td>1</td>\n",
       "      <td>103.0</td>\n",
       "      <td>80.476994</td>\n",
       "      <td>[ENSE00001422532.1]</td>\n",
       "      <td>[ENST00000430710.3, ENST00000557364.1, ENST000...</td>\n",
       "    </tr>\n",
       "    <tr>\n",
       "      <th>21</th>\n",
       "      <td>13735-21:41414331</td>\n",
       "      <td>13735</td>\n",
       "      <td>21:41414330:A:AT</td>\n",
       "      <td>pM</td>\n",
       "      <td>DSCAM</td>\n",
       "      <td>frame-shift</td>\n",
       "      <td>M</td>\n",
       "      <td>30.0</td>\n",
       "      <td>27.0</td>\n",
       "      <td>179246</td>\n",
       "      <td>...</td>\n",
       "      <td>2.113173</td>\n",
       "      <td>2.705670</td>\n",
       "      <td>0.259018</td>\n",
       "      <td>5.494337</td>\n",
       "      <td>0.929677</td>\n",
       "      <td>1</td>\n",
       "      <td>109.0</td>\n",
       "      <td>53.158800</td>\n",
       "      <td>[ENSE00001322604.3]</td>\n",
       "      <td>[ENST00000404019.2, ENST00000400454.1]</td>\n",
       "    </tr>\n",
       "    <tr>\n",
       "      <th>29</th>\n",
       "      <td>12817-3:71050171</td>\n",
       "      <td>12817</td>\n",
       "      <td>3:71050170:C:CT</td>\n",
       "      <td>pM</td>\n",
       "      <td>FOXP1</td>\n",
       "      <td>frame-shift</td>\n",
       "      <td>M</td>\n",
       "      <td>37.0</td>\n",
       "      <td>34.0</td>\n",
       "      <td>66477</td>\n",
       "      <td>...</td>\n",
       "      <td>1.827491</td>\n",
       "      <td>1.666753</td>\n",
       "      <td>1.212707</td>\n",
       "      <td>6.595636</td>\n",
       "      <td>0.996364</td>\n",
       "      <td>1</td>\n",
       "      <td>113.0</td>\n",
       "      <td>74.447293</td>\n",
       "      <td>[ENSE00001258621.2]</td>\n",
       "      <td>[ENST00000497355.1, ENST00000318789.4, ENST000...</td>\n",
       "    </tr>\n",
       "    <tr>\n",
       "      <th>44</th>\n",
       "      <td>14416-12:116424952</td>\n",
       "      <td>14416</td>\n",
       "      <td>12:116424952:C:T</td>\n",
       "      <td>pM</td>\n",
       "      <td>MED13L</td>\n",
       "      <td>nonsense</td>\n",
       "      <td>M</td>\n",
       "      <td>24.0</td>\n",
       "      <td>36.0</td>\n",
       "      <td>79524</td>\n",
       "      <td>...</td>\n",
       "      <td>1.396060</td>\n",
       "      <td>1.165546</td>\n",
       "      <td>1.866250</td>\n",
       "      <td>5.199806</td>\n",
       "      <td>0.930417</td>\n",
       "      <td>1</td>\n",
       "      <td>186.0</td>\n",
       "      <td>47.217968</td>\n",
       "      <td>[ENSE00000835030.1]</td>\n",
       "      <td>[ENST00000281928.3]</td>\n",
       "    </tr>\n",
       "  </tbody>\n",
       "</table>\n",
       "<p>7 rows × 32 columns</p>\n",
       "</div>"
      ],
      "text/plain": [
       "                   KEY  familyId  \\\n",
       "0    13545-20:49509095     13545   \n",
       "12   14233-14:21859176     14233   \n",
       "16   13844-14:21871178     13844   \n",
       "18   13900-14:21895990     13900   \n",
       "21   13735-21:41414331     13735   \n",
       "29    12817-3:71050171     12817   \n",
       "44  14416-12:116424952     14416   \n",
       "\n",
       "                                           vcfVariant inChild effectGene  \\\n",
       "0                                    20:49509094:G:GT      pM       ADNP   \n",
       "12                                   14:21859175:A:AT      pM       CHD8   \n",
       "16                                    14:21871178:G:A      pM       CHD8   \n",
       "18  14:21895989:ACTCTTGCACGTCCCATCACAGTAGCAAGGAGTA...      pM       CHD8   \n",
       "21                                   21:41414330:A:AT      pM      DSCAM   \n",
       "29                                    3:71050170:C:CT      pM      FOXP1   \n",
       "44                                   12:116424952:C:T      pM     MED13L   \n",
       "\n",
       "     effectType gender   VIQ  NVIQ  ExonID  \\\n",
       "0   frame-shift      M  23.0  38.0   41150   \n",
       "12  frame-shift      M   6.0  19.0   40582   \n",
       "16     nonsense      M  20.0  34.0   40600   \n",
       "18  splice-site      M  10.0  27.0   40613   \n",
       "21  frame-shift      M  30.0  27.0  179246   \n",
       "29  frame-shift      M  37.0  34.0   66477   \n",
       "44     nonsense      M  24.0  36.0   79524   \n",
       "\n",
       "                          ...                          Rel.exp.prenatal  \\\n",
       "0                         ...                                  1.215442   \n",
       "12                        ...                                  1.976787   \n",
       "16                        ...                                  0.960060   \n",
       "18                        ...                                  0.674465   \n",
       "21                        ...                                  2.113173   \n",
       "29                        ...                                  1.827491   \n",
       "44                        ...                                  1.396060   \n",
       "\n",
       "    Rel.exp.postnatal  Prenatal.Bias  phyloP100way  phastCons100way  gender1  \\\n",
       "0            1.325670       1.423534      2.813101         0.732081        1   \n",
       "12           2.532729       0.535774      2.914479         0.955658        1   \n",
       "16           0.905531       0.977669      5.203969         0.897051        1   \n",
       "18           0.665753       0.912067      3.102821         0.911194        1   \n",
       "21           2.705670       0.259018      5.494337         0.929677        1   \n",
       "29           1.666753       1.212707      6.595636         0.996364        1   \n",
       "44           1.165546       1.866250      5.199806         0.930417        1   \n",
       "\n",
       "      Age     Dosage                                   Exons  \\\n",
       "0    61.0  56.455400  [ENSE00001523629.2, ENSE00001455631.1]   \n",
       "12  201.0  36.206397                     [ENSE00001096840.1]   \n",
       "16   99.0  72.726077  [ENSE00002439310.1, ENSE00001739488.1]   \n",
       "18  103.0  80.476994                     [ENSE00001422532.1]   \n",
       "21  109.0  53.158800                     [ENSE00001322604.3]   \n",
       "29  113.0  74.447293                     [ENSE00001258621.2]   \n",
       "44  186.0  47.217968                     [ENSE00000835030.1]   \n",
       "\n",
       "                                          Transcripts  \n",
       "0   [ENST00000396032.3, ENST00000349014.3, ENST000...  \n",
       "12  [ENST00000430710.3, ENST00000557364.1, ENST000...  \n",
       "16  [ENST00000430710.3, ENST00000555935.1, ENST000...  \n",
       "18  [ENST00000430710.3, ENST00000557364.1, ENST000...  \n",
       "21             [ENST00000404019.2, ENST00000400454.1]  \n",
       "29  [ENST00000497355.1, ENST00000318789.4, ENST000...  \n",
       "44                                [ENST00000281928.3]  \n",
       "\n",
       "[7 rows x 32 columns]"
      ]
     },
     "execution_count": 103,
     "metadata": {},
     "output_type": "execute_result"
    }
   ],
   "source": [
    "Jiayao_features[Jiayao_features[\"NVIQ\"]<40]"
   ]
  },
  {
   "cell_type": "code",
   "execution_count": null,
   "metadata": {},
   "outputs": [],
   "source": []
  }
 ],
 "metadata": {
  "kernelspec": {
   "display_name": "Python 3",
   "language": "python",
   "name": "python3"
  },
  "language_info": {
   "codemirror_mode": {
    "name": "ipython",
    "version": 3
   },
   "file_extension": ".py",
   "mimetype": "text/x-python",
   "name": "python",
   "nbconvert_exporter": "python",
   "pygments_lexer": "ipython3",
   "version": "3.7.1"
  }
 },
 "nbformat": 4,
 "nbformat_minor": 2
}
