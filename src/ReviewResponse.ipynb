{
 "cells": [
  {
   "cell_type": "code",
   "execution_count": 1,
   "metadata": {},
   "outputs": [],
   "source": [
    "%load_ext autoreload\n",
    "%autoreload 2\n",
    "from utils import *\n",
    "from IPython.display import display, HTML"
   ]
  },
  {
   "cell_type": "code",
   "execution_count": 7,
   "metadata": {},
   "outputs": [],
   "source": [
    "def getINFO(info_string):\n",
    "        infolist = info_string.split(';')\n",
    "        infodict = {}\n",
    "        for kv in infolist:\n",
    "                kv = kv.split('=')\n",
    "                if len(kv) == 2:\n",
    "                        k, v = kv\n",
    "                        infodict[k] = v \n",
    "        return infodict\n",
    "\n",
    "def match_allele_csq(Ref, Alts, csq_head, csq_string):\n",
    "        # Trim Leading Base\n",
    "        Alts = Alts.split(\",\")\n",
    "        if len(list(set([x[0] for x in Alts])))==1 and Ref[0] == list(set([x[0] for x in Alts]))[0]:\n",
    "                _Ref = Ref[1:] if len(Ref[1:]) >0 else \"-\" \n",
    "                _Alts = [Alt[1:] if len(Alt[1:]) >0 else \"-\" for Alt in Alts]\n",
    "        else:\n",
    "                _Alts = Alts\n",
    "        res = {}\n",
    "        csqs = csq_string.split(\",\")\n",
    "        csqs = [dict(zip(csq_head, vep.split(\"|\"))) for vep in csqs]\n",
    "        for i, Alt in enumerate(Alts):\n",
    "                res[Alt] = []\n",
    "                for j, csq in enumerate(csqs):\n",
    "                        if csq[\"Allele\"] == _Alts[i]:\n",
    "                                csq[\"Consequence\"] = csq[\"Consequence\"] .split(\"&\")\n",
    "                                res[Alt].append(csq)\n",
    "        return res\n",
    "\n",
    "Genes = [\"ASXL3\",\"CHD2\",\"CHD8\",\"DSCAM\",\"DYRK1A\",\"FOXP1\",\"HIVEP2\",\"SCN2A\"]\n",
    "def GetRelventCSQ(CSQs):\n",
    "    for csq in CSQs:\n",
    "        if csq[\"SYMBOL\"] in Genes:\n",
    "            return csq"
   ]
  },
  {
   "cell_type": "code",
   "execution_count": 16,
   "metadata": {},
   "outputs": [],
   "source": [
    "LGD_class = set([\"splice_acceptor_variant\", \"splice_donor_variant\", \"stop_gained\",\n",
    "                \"stop_lost\", \"start_lost\", \"frameshift_variant\"])\n",
    "\n",
    "VCF = \"/Users/jiayao/Work/BrainDisorders/src/unifiedmodel/VIP.RecGenes.VEP.vcf\"\n",
    "hand = open(VCF, 'rt')\n",
    "outfil = csv.writer(open(\"VIP.RecGenes.tsv\", 'wt'), delimiter=\"\\t\")\n",
    "outfil.writerow([\"Chr\", \"Pos\", \"ref\", \"Alt\", \"Gene\", \"cons\", \"AF\", \"sample\", \"GT\"])\n",
    "for l in hand:\n",
    "    if l.startswith(\"##\"):\n",
    "        if l.startswith(\"##INFO=<ID=CSQ\"):\n",
    "            CSQ_header = l.strip().split(\"Format: \")[1].rstrip('>\\\"').split(\"|\")\n",
    "        continue\n",
    "    elif l.startswith(\"#C\"):\n",
    "        header = l.strip().split(\"\\t\")\n",
    "        samples = header[9:]\n",
    "        continue\n",
    "    llist = l.strip().split(\"\\t\")\n",
    "    genotypes = llist[9:]\n",
    "    #if llist[6] != \"PASS\":\n",
    "    #    continue\n",
    "    Chr, Pos, ID, ref, alts = llist[0:5]\n",
    "    INFO_string = llist[7]\n",
    "    infodict = getINFO(llist[7])\n",
    "    Allele_CSQ_dict = match_allele_csq(ref, alts, CSQ_header, infodict[\"CSQ\"])\n",
    "    for i,Alt in enumerate(alts.split(',')):\n",
    "        vep = GetRelventCSQ(Allele_CSQ_dict[Alt])\n",
    "        cons = vep[\"Consequence\"]\n",
    "        AF = vep[\"gnomAD_AF\"]\n",
    "        Gene = vep[\"SYMBOL\"]\n",
    "        if len(set(cons).intersection(LGD_class))>= 1:\n",
    "            for j, GT in enumerate(genotypes):\n",
    "                gt = GT.split(\":\")[0].split(\"/\")\n",
    "                if int(gt[1]) == i+1:\n",
    "                    sample = samples[j]\n",
    "                    outfil.writerow([Chr, Pos, ref, Alt, Gene, cons, AF, sample, GT])"
   ]
  },
  {
   "cell_type": "code",
   "execution_count": null,
   "metadata": {},
   "outputs": [],
   "source": [
    "\n",
    "\n"
   ]
  },
  {
   "cell_type": "code",
   "execution_count": null,
   "metadata": {},
   "outputs": [],
   "source": []
  },
  {
   "cell_type": "code",
   "execution_count": 409,
   "metadata": {},
   "outputs": [],
   "source": [
    "# VABS, VIQ, NVIQ\n",
    "VABS_df = pd.read_csv(\"/Users/jiayao/Work/BrainDisorders/VIP_phenotype/SSC_PhenotypeV15.2/Proband_Data/ssc_proband_vineland_ii.csv\")\n",
    "VABS_df.head()\n",
    "scores = VABS_df[\"composite_standard_score\"].values\n",
    "fams = VABS_df[\"individual\"].values\n",
    "fams = [int(x.split(\".\")[0]) for x in fams]\n",
    "indv2vabs = dict(zip(fams, scores))\n",
    "core_desc = pd.read_csv(\n",
    "    \"/Users/jiayao/Work/BrainDisorders/VIP_phenotype/SSC_PhenotypeV15.2/Proband_Data/ssc_core_descriptive.csv\")\n",
    "core_desc = core_desc[[\"individual\", \"ssc_diagnosis_full_scale_iq\",\n",
    "                       \"ssc_diagnosis_nonverbal_iq\", \"ssc_diagnosis_verbal_iq\"]]\n",
    "core_desc[\"familyId\"] = core_desc.apply(lambda row:int(row[\"individual\"].split(\".\")[0]), axis=1)\n",
    "#display(core_desc.head(2))\n",
    "core_desc.columns.values\n",
    "famID2FSIQ = dict(zip(core_desc[\"familyId\"].values, core_desc[\"ssc_diagnosis_full_scale_iq\"].values))\n"
   ]
  },
  {
   "cell_type": "code",
   "execution_count": 358,
   "metadata": {},
   "outputs": [],
   "source": [
    "LGD_DF = pd.read_excel(\"/Users/jiayao/Work/BrainDisorders/data/DenovoVariants/wigler2014ProLGD.xlsx\")\n",
    "LGD_fams = set(LGD_DF[\"familyId\"].values)"
   ]
  },
  {
   "cell_type": "code",
   "execution_count": 410,
   "metadata": {},
   "outputs": [
    {
     "data": {
      "text/html": [
       "<div>\n",
       "<style scoped>\n",
       "    .dataframe tbody tr th:only-of-type {\n",
       "        vertical-align: middle;\n",
       "    }\n",
       "\n",
       "    .dataframe tbody tr th {\n",
       "        vertical-align: top;\n",
       "    }\n",
       "\n",
       "    .dataframe thead th {\n",
       "        text-align: right;\n",
       "    }\n",
       "</style>\n",
       "<table border=\"1\" class=\"dataframe\">\n",
       "  <thead>\n",
       "    <tr style=\"text-align: right;\">\n",
       "      <th></th>\n",
       "      <th>familyId</th>\n",
       "      <th>VIQ</th>\n",
       "      <th>NVIQ</th>\n",
       "      <th>VABS</th>\n",
       "      <th>FSIQ</th>\n",
       "    </tr>\n",
       "  </thead>\n",
       "  <tbody>\n",
       "    <tr>\n",
       "      <th>0</th>\n",
       "      <td>11542</td>\n",
       "      <td>121.0</td>\n",
       "      <td>102.0</td>\n",
       "      <td>82.0</td>\n",
       "      <td>109.0</td>\n",
       "    </tr>\n",
       "    <tr>\n",
       "      <th>1</th>\n",
       "      <td>13736</td>\n",
       "      <td>119.0</td>\n",
       "      <td>112.0</td>\n",
       "      <td>82.0</td>\n",
       "      <td>118.0</td>\n",
       "    </tr>\n",
       "    <tr>\n",
       "      <th>2</th>\n",
       "      <td>13735</td>\n",
       "      <td>30.0</td>\n",
       "      <td>27.0</td>\n",
       "      <td>59.0</td>\n",
       "      <td>28.0</td>\n",
       "    </tr>\n",
       "    <tr>\n",
       "      <th>3</th>\n",
       "      <td>13734</td>\n",
       "      <td>36.0</td>\n",
       "      <td>51.0</td>\n",
       "      <td>60.0</td>\n",
       "      <td>43.0</td>\n",
       "    </tr>\n",
       "    <tr>\n",
       "      <th>4</th>\n",
       "      <td>11546</td>\n",
       "      <td>100.0</td>\n",
       "      <td>123.0</td>\n",
       "      <td>76.0</td>\n",
       "      <td>99.0</td>\n",
       "    </tr>\n",
       "  </tbody>\n",
       "</table>\n",
       "</div>"
      ],
      "text/plain": [
       "   familyId    VIQ   NVIQ  VABS   FSIQ\n",
       "0     11542  121.0  102.0  82.0  109.0\n",
       "1     13736  119.0  112.0  82.0  118.0\n",
       "2     13735   30.0   27.0  59.0   28.0\n",
       "3     13734   36.0   51.0  60.0   43.0\n",
       "4     11546  100.0  123.0  76.0   99.0"
      ]
     },
     "execution_count": 410,
     "metadata": {},
     "output_type": "execute_result"
    }
   ],
   "source": [
    "wigler_fam_info = pd.read_excel(\"/Users/jiayao/Work/BrainDisorders/data/nature13908-s2/Supplementary_Table_1.xlsx\")\n",
    "#wigler_fam_info = wigler_fam_info[wigler_fam_info[\"familyId\"].isin(LGD_fams)]\n",
    "wigler_fam_info[\"VIQ\"] = wigler_fam_info[\"probandVIQ\"]\n",
    "wigler_fam_info[\"NVIQ\"] = wigler_fam_info[\"probandNVIQ\"]\n",
    "wigler_fam_info = wigler_fam_info[[\"familyId\", \"VIQ\", \"NVIQ\"]]\n",
    "wigler_fam_info[\"VABS\"] = wigler_fam_info.apply(lambda row:indv2vabs.get(row[\"familyId\"], np.nan), axis=1)\n",
    "wigler_fam_info[\"FSIQ\"] = wigler_fam_info.apply(lambda row:famID2FSIQ.get(row[\"familyId\"], np.nan), axis=1)\n",
    "wigler_fam_info = wigler_fam_info.dropna(axis=0)\n",
    "wigler_fam_info.head()"
   ]
  },
  {
   "cell_type": "code",
   "execution_count": 448,
   "metadata": {},
   "outputs": [],
   "source": [
    "#SameExonIQ\n",
    "Jiayao_features = pd.read_csv(\"unifiedmodel/features.jiayao.65.csv\")\n",
    "#Jiayao_features = pd.read_csv(\"unifiedmodel/SSC.LGD.features.csv\")\n",
    "Jiayao_features = Jiayao_features.dropna()\n",
    "#Jiayao_features[\"VABS\"] = Jiayao_features.apply(lambda row:indv2vabs.get(row[\"familyId\"], np.nan), axis=1)\n",
    "ExonCount = Jiayao_features.groupby(\"ExonID\")[\"ExonID\"].count()\n",
    "Jiayao_features[\"ExonCount\"] = Jiayao_features.apply(lambda row: ExonCount[row[\"ExonID\"]], axis=1)\n",
    "SameExon = Jiayao_features[Jiayao_features[\"ExonCount\"]>=2]\n",
    "SameExonFSIQ_diff, SameExonVIQ_diff, SameExonNVIQ_diff, SameExonVABS_diff = [], [], [], []\n",
    "for exon in list(set(SameExon['ExonID'].values)):\n",
    "    tmpdf = SameExon[SameExon[\"ExonID\"]==exon]\n",
    "    FSIQs = tmpdf[\"FSIQ\"].values\n",
    "    VIQs = tmpdf[\"VIQ\"].values\n",
    "    NVIQs = tmpdf[\"NVIQ\"].values\n",
    "    VABSs = tmpdf[\"VABS\"].values\n",
    "    SameExonFSIQ_diff.append(abs(FSIQs[0]-FSIQs[1]))\n",
    "    SameExonVIQ_diff.append(abs(VIQs[0]-VIQs[1]))\n",
    "    SameExonNVIQ_diff.append(abs(NVIQs[0]-NVIQs[1]))\n",
    "    SameExonVABS_diff.append(abs(VABSs[0]-VABSs[1]))"
   ]
  },
  {
   "cell_type": "code",
   "execution_count": 450,
   "metadata": {
    "scrolled": true
   },
   "outputs": [
    {
     "data": {
      "image/png": "[encoded data removed]",
      "text/plain": [
       "<Figure size 432x288 with 1 Axes>"
      ]
     },
     "metadata": {
      "needs_background": "light"
     },
     "output_type": "display_data"
    },
    {
     "name": "stdout",
     "output_type": "stream",
     "text": [
      "8.875 17.25 8.25 6.875\n",
      "[2.0, 5.0, 13.0, 6.0, 2.0, 12.0, 7.0, 24.0]\n"
     ]
    }
   ],
   "source": [
    "plt.hist(SameExonFSIQ_diff, color=\"b\")\n",
    "plt.show()\n",
    "print(np.mean(SameExonFSIQ_diff), np.mean(SameExonVIQ_diff), np.mean(SameExonNVIQ_diff), np.mean(SameExonVABS_diff))\n",
    "print(SameExonFSIQ_diff)"
   ]
  },
  {
   "cell_type": "code",
   "execution_count": 451,
   "metadata": {},
   "outputs": [
    {
     "data": {
      "text/plain": [
       "(2447, 5)"
      ]
     },
     "execution_count": 451,
     "metadata": {},
     "output_type": "execute_result"
    }
   ],
   "source": [
    "wigler_fam_info.shape"
   ]
  },
  {
   "cell_type": "code",
   "execution_count": 452,
   "metadata": {},
   "outputs": [
    {
     "name": "stdout",
     "output_type": "stream",
     "text": [
      "FSIQ - NVIQ SpearmanrResult(correlation=0.9342595105809813, pvalue=1.8506327408929986e-29)\n",
      "NVIQ - VIQ SpearmanrResult(correlation=0.7778375934610625, pvalue=4.001480689180422e-14)\n",
      "NVIQ - VABS SpearmanrResult(correlation=0.40078397886038913, pvalue=0.001031391754137568)\n",
      "VIQ - VABS SpearmanrResult(correlation=0.47804323290665063, pvalue=6.470901086579776e-05)\n"
     ]
    }
   ],
   "source": [
    "#spearmanr\n",
    "print(\"FSIQ - NVIQ\", spearmanr(Jiayao_features[\"FSIQ\"].values, Jiayao_features[\"NVIQ\"].values))\n",
    "print(\"NVIQ - VIQ\", spearmanr(Jiayao_features[\"NVIQ\"].values, Jiayao_features[\"VIQ\"].values))\n",
    "print(\"NVIQ - VABS\", spearmanr(Jiayao_features[\"NVIQ\"].values, Jiayao_features[\"VABS\"].values))\n",
    "print(\"VIQ - VABS\", spearmanr(Jiayao_features[\"VIQ\"].values, Jiayao_features[\"VABS\"].values))"
   ]
  },
  {
   "cell_type": "code",
   "execution_count": 453,
   "metadata": {},
   "outputs": [
    {
     "data": {
      "image/png": "[encoded data removed]",
      "text/plain": [
       "<Figure size 432x288 with 1 Axes>"
      ]
     },
     "metadata": {
      "needs_background": "light"
     },
     "output_type": "display_data"
    },
    {
     "data": {
      "image/png": "[encoded data removed]",
      "text/plain": [
       "<Figure size 432x288 with 1 Axes>"
      ]
     },
     "metadata": {
      "needs_background": "light"
     },
     "output_type": "display_data"
    },
    {
     "data": {
      "image/png": "[encoded data removed]",
      "text/plain": [
       "<Figure size 432x288 with 1 Axes>"
      ]
     },
     "metadata": {
      "needs_background": "light"
     },
     "output_type": "display_data"
    }
   ],
   "source": [
    "plt.scatter(Jiayao_features[\"NVIQ\"].values, Jiayao_features[\"FSIQ\"].values)\n",
    "plt.scatter(SameExon[\"NVIQ\"].values, SameExon[\"FSIQ\"].values)\n",
    "plt.show()\n",
    "plt.scatter(Jiayao_features[\"NVIQ\"].values, Jiayao_features[\"VIQ\"].values)\n",
    "plt.scatter(SameExon[\"NVIQ\"].values, SameExon[\"VIQ\"].values)\n",
    "plt.show()\n",
    "plt.scatter(Jiayao_features[\"NVIQ\"].values, Jiayao_features[\"VABS\"].values)\n",
    "plt.scatter(SameExon[\"NVIQ\"].values, SameExon[\"VABS\"].values)\n",
    "plt.show()"
   ]
  },
  {
   "cell_type": "code",
   "execution_count": 429,
   "metadata": {},
   "outputs": [
    {
     "name": "stdout",
     "output_type": "stream",
     "text": [
      "NVIQ - VIQ SpearmanrResult(correlation=0.8068233401628775, pvalue=0.0)\n",
      "NVIQ - VABS SpearmanrResult(correlation=0.6445558299435186, pvalue=2.166292752853856e-287)\n",
      "VIQ - VABS SpearmanrResult(correlation=0.6438881506038413, pvalue=1.3090126010331068e-286)\n"
     ]
    }
   ],
   "source": [
    "print(\"NVIQ - VIQ\", spearmanr(wigler_fam_info[\"NVIQ\"].values, wigler_fam_info[\"VIQ\"].values))\n",
    "print(\"NVIQ - VABS\", spearmanr(wigler_fam_info[\"NVIQ\"].values, wigler_fam_info[\"VABS\"].values))\n",
    "print(\"VIQ - VABS\", spearmanr(wigler_fam_info[\"VIQ\"].values, wigler_fam_info[\"VABS\"].values))"
   ]
  },
  {
   "cell_type": "code",
   "execution_count": 456,
   "metadata": {},
   "outputs": [],
   "source": [
    "import itertools\n",
    "ALL_FSIQ_diff = []\n",
    "ALL_VIQ_diff = []\n",
    "ALL_NVIQ_diff = []\n",
    "ALL_VABS_diff = []\n",
    "SE_FSIQ_diff = []\n",
    "SE_VIQ_diff = []\n",
    "SE_NVIQ_diff = []\n",
    "SE_VABS_diff = []\n",
    "for row1, row2 in itertools.combinations(Jiayao_features.iterrows(), r=2):\n",
    "    row1 = row1[1]\n",
    "    row2 = row2[1]\n",
    "    FSIQ_diff = abs(row1[\"FSIQ\"]- row2[\"FSIQ\"])\n",
    "    NVIQ_diff = abs(row1[\"NVIQ\"]- row2[\"NVIQ\"])\n",
    "    VIQ_diff = abs(row1[\"VIQ\"]- row2[\"VIQ\"])\n",
    "    VABS_diff = abs(row1[\"VABS\"]- row2[\"VABS\"])\n",
    "    if row1[\"ExonID\"] == row2[\"ExonID\"]:\n",
    "        SE_FSIQ_diff.append(FSIQ_diff)\n",
    "        SE_VIQ_diff.append(VIQ_diff)\n",
    "        SE_NVIQ_diff.append(NVIQ_diff)\n",
    "        SE_VABS_diff.append(VABS_diff)\n",
    "    else:\n",
    "        ALL_FSIQ_diff.append(FSIQ_diff)\n",
    "        ALL_VIQ_diff.append(VIQ_diff)\n",
    "        ALL_NVIQ_diff.append(NVIQ_diff)\n",
    "        ALL_VABS_diff.append(VABS_diff)"
   ]
  },
  {
   "cell_type": "code",
   "execution_count": 460,
   "metadata": {},
   "outputs": [
    {
     "data": {
      "image/png": "[encoded data removed]",
      "text/plain": [
       "<Figure size 432x288 with 1 Axes>"
      ]
     },
     "metadata": {
      "needs_background": "light"
     },
     "output_type": "display_data"
    }
   ],
   "source": [
    "plt.scatter(ALL_NVIQ_diff, ALL_VIQ_diff, s=3)\n",
    "plt.scatter(SE_NVIQ_diff, SE_VIQ_diff)\n",
    "plt.show()"
   ]
  },
  {
   "cell_type": "code",
   "execution_count": 461,
   "metadata": {},
   "outputs": [
    {
     "data": {
      "image/png": "[encoded data removed]",
      "text/plain": [
       "<Figure size 432x288 with 1 Axes>"
      ]
     },
     "metadata": {
      "needs_background": "light"
     },
     "output_type": "display_data"
    }
   ],
   "source": [
    "plt.scatter(ALL_NVIQ_diff, ALL_VABS_diff, s=3)\n",
    "plt.scatter(SE_NVIQ_diff, SE_VABS_diff)\n",
    "plt.show()"
   ]
  },
  {
   "cell_type": "code",
   "execution_count": 441,
   "metadata": {},
   "outputs": [],
   "source": [
    "import itertools\n",
    "sampled_FSIQ_diff = []\n",
    "sampled_VIQ_diff = []\n",
    "sampled_NVIQ_diff = []\n",
    "sampled_VABS_diff = []\n",
    "Mean_FSIQ_diff, Mean_VIQ_diff, Mean_NVIQ_diff, Mean_VABS_diff = [],[],[],[]\n",
    "N,i = 0, 0\n",
    "for row1, row2 in itertools.combinations(Jiayao_features.iterrows(), r=2):\n",
    "    row1 = row1[1]\n",
    "    row2 = row2[1]\n",
    "    #NVIQ_diff = abs(row1[\"probandNVIQ\"]- row2[\"probandNVIQ\"])\n",
    "    #VIQ_diff = abs(row1[\"probandVIQ\"]- row2[\"probandVIQ\"])\n",
    "    FSIQ_diff = abs(row1[\"FSIQ\"]- row2[\"FSIQ\"])\n",
    "    NVIQ_diff = abs(row1[\"NVIQ\"]- row2[\"NVIQ\"])\n",
    "    VIQ_diff = abs(row1[\"VIQ\"]- row2[\"VIQ\"])\n",
    "    VABS_diff = abs(row1[\"VABS\"]- row2[\"VABS\"])\n",
    "    if FSIQ_diff <= 20 and FSIQ_diff >= 0:\n",
    "        if i >= 8:\n",
    "            #if np.mean(sampled_FSIQ_diff) > 5 and np.mean(sampled_FSIQ_diff) < 10:\n",
    "            if np.mean(sampled_FSIQ_diff) > 8.8 and np.mean(sampled_FSIQ_diff) < 8.9:\n",
    "                N += 1\n",
    "                Mean_FSIQ_diff.append(np.mean(sampled_FSIQ_diff))\n",
    "                Mean_VIQ_diff.append(np.mean(sampled_VIQ_diff))\n",
    "                Mean_NVIQ_diff.append(np.mean(sampled_NVIQ_diff))\n",
    "                Mean_VABS_diff.append(np.mean(sampled_VABS_diff))\n",
    "            sampled_FSIQ_diff = []\n",
    "            sampled_VIQ_diff = []\n",
    "            sampled_NVIQ_diff = []\n",
    "            sampled_VABS_diff = []\n",
    "            i = 0\n",
    "        sampled_FSIQ_diff.append(FSIQ_diff)\n",
    "        sampled_NVIQ_diff.append(NVIQ_diff)\n",
    "        sampled_VIQ_diff.append(VIQ_diff)\n",
    "        sampled_VABS_diff.append(VABS_diff)\n",
    "        i += 1\n",
    "    if N > 1000:\n",
    "        break\n",
    "#print(np.mean(sampled_VIQ_diff), np.mean(sampled_NVIQ_diff))"
   ]
  },
  {
   "cell_type": "code",
   "execution_count": 443,
   "metadata": {},
   "outputs": [
    {
     "data": {
      "image/png": "[encoded data removed]",
      "text/plain": [
       "<Figure size 480x400 with 4 Axes>"
      ]
     },
     "metadata": {
      "needs_background": "light"
     },
     "output_type": "display_data"
    }
   ],
   "source": [
    "def get_smaller_P(xline, dist):\n",
    "    count = 0\n",
    "    for i,v in enumerate(dist):\n",
    "        if xline >= v:\n",
    "            count += 1\n",
    "    return float(count)/len(dist)\n",
    "\n",
    "fig, axs = plt.subplots(2,2,figsize=(6,5), dpi=80,)\n",
    "axs = axs.flatten()\n",
    "fig.tight_layout()\n",
    "features = [('FSIQ', 8.875, Mean_FSIQ_diff), ('VIQ', 17.25, Mean_VIQ_diff), \n",
    "            ('VABS', 6.875, Mean_VABS_diff), ('NVIQ', 8.25, Mean_NVIQ_diff)]\n",
    "for ax,feature in zip(axs, features):  \n",
    "    label, xline, dist = feature\n",
    "    p = get_smaller_P(xline, dist)\n",
    "    ax.hist(dist, bins=20)\n",
    "    ax.vlines(x=xline, ymin=0, ymax=100)\n",
    "    ax.text(x=xline, y=80, s=\"p=%.3f\"%p)\n",
    "    ax.set_ylabel(\"density\")\n",
    "    ax.set_xlabel(\"%s difference\"%(label))\n",
    "#plt.show()"
   ]
  },
  {
   "cell_type": "code",
   "execution_count": 252,
   "metadata": {},
   "outputs": [
    {
     "name": "stdout",
     "output_type": "stream",
     "text": [
      "(57, 30)\n",
      "-0.2777379737839482 0.03645927041594309\n",
      "-0.23583164454164451 0.07738797045741304\n"
     ]
    }
   ],
   "source": [
    "Jiayao_features = pd.read_csv(\"unifiedmodel/features.65.jiayao.csv\")\n",
    "#Jiayao_features.head(2)\n",
    "tmpdf = Jiayao_features.drop_duplicates(subset=\"ExonID\", keep='first')\n",
    "print(tmpdf.shape)\n",
    "r, p = pearsonr(np.array(tmpdf[\"phyloP100way\"]), np.array(tmpdf[\"NVIQ\"]))\n",
    "print(r,p)\n",
    "r, p = pearsonr(np.array(tmpdf[\"phastCons100way\"]), np.array(tmpdf[\"NVIQ\"]))\n",
    "print(r,p)"
   ]
  },
  {
   "cell_type": "code",
   "execution_count": null,
   "metadata": {},
   "outputs": [],
   "source": []
  },
  {
   "cell_type": "code",
   "execution_count": 126,
   "metadata": {},
   "outputs": [],
   "source": [
    "# conservation scores\n",
    "# Same gene highest phyloP score set similarity \n",
    "Jiayao_features = pd.read_csv(\"unifiedmodel/features.65.jiayao.csv\")\n",
    "Jiayao_features[\"VABS\"] = Jiayao_features.apply(lambda row:indv2vabs.get(row[\"familyId\"], np.nan), axis=1)\n",
    "ExonCount = Jiayao_features.groupby(\"ExonID\")[\"ExonID\"].count()\n",
    "Jiayao_features[\"ExonCount\"] = Jiayao_features.apply(lambda row: ExonCount[row[\"ExonID\"]], axis=1)\n",
    "DiffExon = Jiayao_features[Jiayao_features[\"ExonCount\"]<2]\n",
    "DiffExonVIQ_diff, DiffExonNVIQ_diff, DiffExonVABS_diff = [], [], []\n",
    "for gene in list(set(DiffExon['effectGene'].values)):\n",
    "    #print(gene)\n",
    "    tmpdf = DiffExon[DiffExon[\"effectGene\"]==gene]\n",
    "    tmpdf = tmpdf.sort_values('phyloP100way', ascending=False)\n",
    "    if tmpdf.shape[0] < 2:\n",
    "        continue\n",
    "    #display(tmpdf)\n",
    "    phyloPs = tmpdf[\"phyloP100way\"].values\n",
    "    phyloP_diff = phyloPs[0] - phyloPs[1]\n",
    "    #print(phyloP_diff)\n",
    "    if phyloP_diff > 1:\n",
    "        continue\n",
    "    VIQs = tmpdf[\"VIQ\"].values\n",
    "    NVIQs = tmpdf[\"NVIQ\"].values\n",
    "    VABSs = tmpdf[\"VABS\"].values\n",
    "    DiffExonVIQ_diff.append(abs(VIQs[0]-VIQs[1]))\n",
    "    DiffExonNVIQ_diff.append(abs(NVIQs[0]-NVIQs[1]))\n",
    "    DiffExonVABS_diff.append(abs(VABSs[0]-VABSs[1]))"
   ]
  },
  {
   "cell_type": "code",
   "execution_count": 127,
   "metadata": {},
   "outputs": [
    {
     "data": {
      "image/png": "[encoded data removed]",
      "text/plain": [
       "<Figure size 432x288 with 1 Axes>"
      ]
     },
     "metadata": {
      "needs_background": "light"
     },
     "output_type": "display_data"
    }
   ],
   "source": [
    "plt.hist(Jiayao_features[\"phyloP100way\"].values)\n",
    "plt.show()"
   ]
  },
  {
   "cell_type": "code",
   "execution_count": 181,
   "metadata": {},
   "outputs": [
    {
     "name": "stdout",
     "output_type": "stream",
     "text": [
      "8 11\n"
     ]
    },
    {
     "data": {
      "image/png": "[encoded data removed]",
      "text/plain": [
       "<Figure size 432x288 with 1 Axes>"
      ]
     },
     "metadata": {
      "needs_background": "light"
     },
     "output_type": "display_data"
    },
    {
     "name": "stdout",
     "output_type": "stream",
     "text": [
      "6.5 19.0\n",
      "MannwhitneyuResult(statistic=19.5, pvalue=0.023657174348709568)\n"
     ]
    }
   ],
   "source": [
    "print(len(SameExonNVIQ_diff), len(DiffExonNVIQ_diff))\n",
    "plt.boxplot([SameExonNVIQ_diff, DiffExonNVIQ_diff],\n",
    "            labels = [\"same exon\", \"highest phyloP\"])\n",
    "plt.grid(True)\n",
    "plt.show()\n",
    "print(np.median(SameExonNVIQ_diff), np.median(DiffExonNVIQ_diff))\n",
    "print(scipy.stats.mannwhitneyu(SameExonNVIQ_diff, DiffExonNVIQ_diff, alternative=\"less\"))"
   ]
  },
  {
   "cell_type": "code",
   "execution_count": 604,
   "metadata": {},
   "outputs": [
    {
     "name": "stderr",
     "output_type": "stream",
     "text": [
      "/Users/jiayao/anaconda3/lib/python3.7/site-packages/pandas/core/indexing.py:362: SettingWithCopyWarning: \n",
      "A value is trying to be set on a copy of a slice from a DataFrame.\n",
      "Try using .loc[row_indexer,col_indexer] = value instead\n",
      "\n",
      "See the caveats in the documentation: http://pandas.pydata.org/pandas-docs/stable/indexing.html#indexing-view-versus-copy\n",
      "  self.obj[key] = _infer_fill_value(value)\n",
      "/Users/jiayao/anaconda3/lib/python3.7/site-packages/pandas/core/indexing.py:543: SettingWithCopyWarning: \n",
      "A value is trying to be set on a copy of a slice from a DataFrame.\n",
      "Try using .loc[row_indexer,col_indexer] = value instead\n",
      "\n",
      "See the caveats in the documentation: http://pandas.pydata.org/pandas-docs/stable/indexing.html#indexing-view-versus-copy\n",
      "  self.obj[item] = s\n"
     ]
    }
   ],
   "source": [
    "RecGenes = [\"ASXL3\",\"CHD2\",\"CHD8\",\"DSCAM\",\"DYRK1A\",\"FOXP1\",\"HIVEP2\",\"SCN2A\",\"ADNP\",\"CHAMP1\",\"CSNK2A1\",\"GRIN2B\",\n",
    "        \"HNRNPH2\",\"MED13L\",\"PACS1\",\"PPP2R5D\",\"SETBP1\",\"STXBP1\",\"SYNGAP1\"]\n",
    "Jiayao_features = pd.read_csv(\"unifiedmodel/features.jiayao.65.csv\")\n",
    "df = Jiayao_features[Jiayao_features[\"effectGene\"].isin(Genes)]\n",
    "for i, row in df.iterrows():\n",
    "    df.loc[i, \"sfari_id\"] = df.loc[i, \"familyId\"]\n",
    "    df.loc[i, \"sex\"] = df.loc[i, \"gender\"]\n",
    "    Chr, Pos, Ref, Alt = row[\"vcfVariant\"].split(\":\")\n",
    "    Len = max(0, len(Ref) - len(Alt))\n",
    "    df.loc[i, \"location\"] = \"{}:{}-{}\".format(Chr, Pos, int(Pos)+Len)\n",
    "    df.loc[i, \"inheritance_status\"] = \"de-novo\"\n",
    "    df.loc[i, \"genetic_status\"] = row[\"effectGene\"]\n",
    "    df.loc[i, \"composite_standard_score\"] = row[\"VABS\"]\n",
    "df = df[[\"sfari_id\",\"sex\",\"genetic_status\",\"inheritance_status\",\"composite_standard_score\",\"location\"]]"
   ]
  },
  {
   "cell_type": "code",
   "execution_count": 605,
   "metadata": {},
   "outputs": [
    {
     "data": {
      "text/html": [
       "<div>\n",
       "<style scoped>\n",
       "    .dataframe tbody tr th:only-of-type {\n",
       "        vertical-align: middle;\n",
       "    }\n",
       "\n",
       "    .dataframe tbody tr th {\n",
       "        vertical-align: top;\n",
       "    }\n",
       "\n",
       "    .dataframe thead th {\n",
       "        text-align: right;\n",
       "    }\n",
       "</style>\n",
       "<table border=\"1\" class=\"dataframe\">\n",
       "  <thead>\n",
       "    <tr style=\"text-align: right;\">\n",
       "      <th></th>\n",
       "      <th>sfari_id</th>\n",
       "      <th>sex</th>\n",
       "      <th>genetic_status</th>\n",
       "      <th>inheritance_status</th>\n",
       "      <th>composite_standard_score</th>\n",
       "      <th>location</th>\n",
       "    </tr>\n",
       "  </thead>\n",
       "  <tbody>\n",
       "    <tr>\n",
       "      <th>0</th>\n",
       "      <td>13545.0</td>\n",
       "      <td>M</td>\n",
       "      <td>ADNP</td>\n",
       "      <td>de-novo</td>\n",
       "      <td>53.0</td>\n",
       "      <td>20:49509094-49509094</td>\n",
       "    </tr>\n",
       "    <tr>\n",
       "      <th>1</th>\n",
       "      <td>12130.0</td>\n",
       "      <td>F</td>\n",
       "      <td>ADNP</td>\n",
       "      <td>de-novo</td>\n",
       "      <td>67.0</td>\n",
       "      <td>20:49510027-49510029</td>\n",
       "    </tr>\n",
       "  </tbody>\n",
       "</table>\n",
       "</div>"
      ],
      "text/plain": [
       "   sfari_id sex genetic_status inheritance_status  composite_standard_score  \\\n",
       "0   13545.0   M           ADNP            de-novo                      53.0   \n",
       "1   12130.0   F           ADNP            de-novo                      67.0   \n",
       "\n",
       "               location  \n",
       "0  20:49509094-49509094  \n",
       "1  20:49510027-49510029  "
      ]
     },
     "execution_count": 605,
     "metadata": {},
     "output_type": "execute_result"
    }
   ],
   "source": [
    "df.head(2)"
   ]
  },
  {
   "cell_type": "code",
   "execution_count": 606,
   "metadata": {},
   "outputs": [
    {
     "data": {
      "text/html": [
       "<div>\n",
       "<style scoped>\n",
       "    .dataframe tbody tr th:only-of-type {\n",
       "        vertical-align: middle;\n",
       "    }\n",
       "\n",
       "    .dataframe tbody tr th {\n",
       "        vertical-align: top;\n",
       "    }\n",
       "\n",
       "    .dataframe thead th {\n",
       "        text-align: right;\n",
       "    }\n",
       "</style>\n",
       "<table border=\"1\" class=\"dataframe\">\n",
       "  <thead>\n",
       "    <tr style=\"text-align: right;\">\n",
       "      <th></th>\n",
       "      <th>sfari_id</th>\n",
       "      <th>sex</th>\n",
       "      <th>genetic_status</th>\n",
       "      <th>inheritance_status</th>\n",
       "      <th>composite_standard_score</th>\n",
       "      <th>location</th>\n",
       "    </tr>\n",
       "  </thead>\n",
       "  <tbody>\n",
       "    <tr>\n",
       "      <th>0</th>\n",
       "      <td>15710-x1</td>\n",
       "      <td>M</td>\n",
       "      <td>ASXL3</td>\n",
       "      <td>de-novo</td>\n",
       "      <td>75.0</td>\n",
       "      <td>18:31323776-31323776</td>\n",
       "    </tr>\n",
       "    <tr>\n",
       "      <th>1</th>\n",
       "      <td>16159-x1</td>\n",
       "      <td>F</td>\n",
       "      <td>ASXL3</td>\n",
       "      <td>de-novo</td>\n",
       "      <td>37.0</td>\n",
       "      <td>18:31319345-31319349</td>\n",
       "    </tr>\n",
       "  </tbody>\n",
       "</table>\n",
       "</div>"
      ],
      "text/plain": [
       "   sfari_id sex genetic_status inheritance_status  composite_standard_score  \\\n",
       "0  15710-x1   M          ASXL3            de-novo                      75.0   \n",
       "1  16159-x1   F          ASXL3            de-novo                      37.0   \n",
       "\n",
       "               location  \n",
       "0  18:31323776-31323776  \n",
       "1  18:31319345-31319349  "
      ]
     },
     "execution_count": 606,
     "metadata": {},
     "output_type": "execute_result"
    }
   ],
   "source": [
    "VIP_VABS = pd.read_csv(\"unifiedmodel/vip.recgenes.withlocation.csv\")\n",
    "VIP_VABS.head(2)"
   ]
  },
  {
   "cell_type": "code",
   "execution_count": 607,
   "metadata": {},
   "outputs": [],
   "source": [
    "sfari_id2vabs = {}\n",
    "for sfari_id in VIP_VABS[\"sfari_id\"].values:\n",
    "    #print(sfari_id)\n",
    "    tmpdf = VIP_VABS[VIP_VABS[\"sfari_id\"]==sfari_id]\n",
    "    vabs = np.mean(tmpdf[\"composite_standard_score\"].values)\n",
    "    sfari_id2vabs[sfari_id] = vabs"
   ]
  },
  {
   "cell_type": "code",
   "execution_count": 608,
   "metadata": {},
   "outputs": [
    {
     "name": "stdout",
     "output_type": "stream",
     "text": [
      "(123, 6)\n",
      "(89, 6)\n"
     ]
    }
   ],
   "source": [
    "print(VIP_VABS.shape)\n",
    "VIP_VABS = VIP_VABS.drop_duplicates(subset=\"sfari_id\", keep=\"first\")\n",
    "#VIP_VABS.head(2)\n",
    "print(VIP_VABS.shape)\n",
    "VIP_VABS[\"composite_standard_score\"] = VIP_VABS.apply(lambda row:sfari_id2vabs[row[\"sfari_id\"]], axis=1)"
   ]
  },
  {
   "cell_type": "code",
   "execution_count": null,
   "metadata": {},
   "outputs": [],
   "source": []
  },
  {
   "cell_type": "code",
   "execution_count": 609,
   "metadata": {},
   "outputs": [],
   "source": [
    "VABS = pd.concat([df, VIP_VABS])\n",
    "VABS = VABS[VABS[\"inheritance_status\"]==\"de-novo\"]\n",
    "#VABS = VABS.dropna()\n",
    "VABS = VABS.reset_index(drop=True)"
   ]
  },
  {
   "cell_type": "code",
   "execution_count": 610,
   "metadata": {},
   "outputs": [],
   "source": [
    "VABS.to_csv(\"unifiedmodel/SSC_VIP_VABS_RecLGD.csv\", index=\"False\")"
   ]
  },
  {
   "cell_type": "code",
   "execution_count": 611,
   "metadata": {},
   "outputs": [
    {
     "name": "stdout",
     "output_type": "stream",
     "text": [
      "{'ASXL3': 'ENST00000269197.5', 'CHD8': 'ENST00000399982.2', 'DYRK1A': 'ENST00000339659.4', 'CHD2': 'ENST00000394196.4', 'SCN2A': 'ENST00000357398.3', 'FOXP1': 'ENST00000318789.4', 'HIVEP2': 'ENST00000367603.2', 'PPP2R5D': 'ENST00000485511.1', 'SYNGAP1': 'ENST00000418600.2', 'STXBP1': 'ENST00000373302.3', 'PACS1': 'ENST00000320580.4', 'MED13L': 'ENST00000281928.3', 'CHAMP1': 'ENST00000361283.1', 'SETBP1': 'ENST00000282030.5', 'CSNK2A1': 'ENST00000217244.3', 'ADNP': 'ENST00000396029.3', 'DSCAM': 'ENST00000400454.1', 'HNRNPH2': 'ENST00000400454.1', 'GRIN2B': 'ENST00000609686.1'}\n",
      "['ENST00000269197.5', 'ENST00000399982.2', 'ENST00000339659.4', 'ENST00000394196.4', 'ENST00000357398.3', 'ENST00000318789.4', 'ENST00000367603.2', 'ENST00000485511.1', 'ENST00000418600.2', 'ENST00000373302.3', 'ENST00000320580.4', 'ENST00000281928.3', 'ENST00000361283.1', 'ENST00000282030.5', 'ENST00000217244.3', 'ENST00000396029.3', 'ENST00000400454.1', 'ENST00000400454.1', 'ENST00000609686.1']\n"
     ]
    }
   ],
   "source": [
    "Gene2Trans = {}\n",
    "\"\"\"\n",
    "hand = open(\"unifiedmodel/VIPgenes.gencode.v19.gtf\", 'rt')\n",
    "for l in hand:\n",
    "    if l.startswith(\"#\"):\n",
    "        continue\n",
    "    llist = l.strip().split(\"\\t\")\n",
    "    info = gtf_info_parser(llist[8]) \n",
    "    CHR = llist[0].lstrip(\"chr\")\n",
    "    strand = llist[6]\n",
    "    start = int(llist[3])\n",
    "    end = int(llist[4])\n",
    "    if llist[2] == \"transcript\" and info[\"transcript_type\"] == \"protein_coding\":\n",
    "        if info[\"gene_name\"] not in Gene2Trans:\n",
    "            Gene2Trans[info[\"gene_name\"]] = (info[\"transcript_id\"], abs(start - end))\n",
    "        else:\n",
    "            if abs(start-end) > Gene2Trans[info[\"gene_name\"]][1]:\n",
    "                Gene2Trans[info[\"gene_name\"]] = (info[\"transcript_id\"], abs(start - end))\n",
    "\"\"\"\n",
    "Gene2Trans[\"ASXL3\"]=\"ENST00000269197.5\"\n",
    "Gene2Trans[\"CHD8\"]=\"ENST00000399982.2\"\n",
    "Gene2Trans[\"DYRK1A\"]=\"ENST00000339659.4\"\n",
    "Gene2Trans[\"CHD2\"]=\"ENST00000394196.4\"\n",
    "Gene2Trans[\"SCN2A\"]=\"ENST00000357398.3\"\n",
    "Gene2Trans[\"FOXP1\"]=\"ENST00000318789.4\"\n",
    "Gene2Trans[\"HIVEP2\"]=\"ENST00000367603.2\"\n",
    "Gene2Trans[\"PPP2R5D\"]=\"ENST00000485511.1\"\n",
    "Gene2Trans[\"HIVEP2\"]=\"ENST00000367603.2\"\n",
    "Gene2Trans[\"SYNGAP1\"]=\"ENST00000418600.2\"\n",
    "Gene2Trans[\"STXBP1\"]=\"ENST00000373302.3\"\n",
    "Gene2Trans[\"PACS1\"]=\"ENST00000320580.4\"\n",
    "Gene2Trans[\"MED13L\"]=\"ENST00000281928.3\"\n",
    "Gene2Trans[\"CHAMP1\"]=\"ENST00000361283.1\"\n",
    "Gene2Trans[\"SETBP1\"]=\"ENST00000282030.5\"\n",
    "Gene2Trans[\"CSNK2A1\"]=\"ENST00000217244.3\"\n",
    "Gene2Trans[\"ADNP\"]=\"ENST00000396029.3\"\n",
    "Gene2Trans[\"DSCAM\"]=\"ENST00000400454.1\"\n",
    "Gene2Trans[\"HNRNPH2\"]=\"ENST00000400454.1\"\n",
    "Gene2Trans[\"GRIN2B\"]=\"ENST00000609686.1\"\n",
    "print (Gene2Trans)\n",
    "selectedTrans = []\n",
    "for k,v in Gene2Trans.items():\n",
    "    selectedTrans.append(v)\n",
    "print(selectedTrans)"
   ]
  },
  {
   "cell_type": "code",
   "execution_count": 612,
   "metadata": {},
   "outputs": [],
   "source": [
    "Genes = {}\n",
    "hand = open(\"unifiedmodel/VIPgenes.gencode.v19.gtf\", 'rt')\n",
    "for l in hand:\n",
    "    if l.startswith(\"#\"):\n",
    "        continue\n",
    "    llist = l.strip().split(\"\\t\")\n",
    "    info = gtf_info_parser(llist[8]) \n",
    "    CHR = llist[0].lstrip(\"chr\")\n",
    "    strand = llist[6]\n",
    "    start = int(llist[3])\n",
    "    end = int(llist[4])\n",
    "    if llist[2] == \"gene\":\n",
    "        gene_name = info[\"gene_name\"]\n",
    "        gene_id = info[\"gene_id\"]\n",
    "        Genes[gene_name] = GTFGene(gene_name, gene_id, strand)\n",
    "    elif llist[2] == \"transcript\":\n",
    "        gene_name = info[\"gene_name\"]\n",
    "        gene_id = info[\"gene_id\"]\n",
    "        transcript_name = info[\"transcript_id\"]\n",
    "        transcript_id = info[\"transcript_id\"]\n",
    "        transcript_type = info[\"transcript_type\"]\n",
    "        if transcript_id not in Genes[gene_name].Transcripts and transcript_type==\"protein_coding\" and transcript_id in selectedTrans:\n",
    "            Genes[gene_name].Transcripts[transcript_id] = GTFTranscript(gene_name, transcript_name, transcript_id, strand)\n",
    "    elif llist[2] == \"exon\":\n",
    "        gene_name = info[\"gene_name\"]\n",
    "        gene_id = info[\"gene_id\"]\n",
    "        exon_id = info[\"exon_id\"]\n",
    "        transcript_name = info[\"transcript_id\"]\n",
    "        transcript_id = info[\"transcript_id\"]\n",
    "        transcript_type = info[\"transcript_type\"]\n",
    "        if transcript_type==\"protein_coding\" and transcript_id in selectedTrans:\n",
    "            exon= GTFExon(exon_id, start, end, transcript_id, strand)\n",
    "            Genes[gene_name].Transcripts[transcript_id].Exons.append(exon)"
   ]
  },
  {
   "cell_type": "code",
   "execution_count": 613,
   "metadata": {},
   "outputs": [
    {
     "data": {
      "text/html": [
       "<div>\n",
       "<style scoped>\n",
       "    .dataframe tbody tr th:only-of-type {\n",
       "        vertical-align: middle;\n",
       "    }\n",
       "\n",
       "    .dataframe tbody tr th {\n",
       "        vertical-align: top;\n",
       "    }\n",
       "\n",
       "    .dataframe thead th {\n",
       "        text-align: right;\n",
       "    }\n",
       "</style>\n",
       "<table border=\"1\" class=\"dataframe\">\n",
       "  <thead>\n",
       "    <tr style=\"text-align: right;\">\n",
       "      <th></th>\n",
       "      <th>column_num</th>\n",
       "      <th>donor_id</th>\n",
       "      <th>donor_name</th>\n",
       "      <th>age</th>\n",
       "      <th>gender</th>\n",
       "      <th>structure_id</th>\n",
       "      <th>structure_acronym</th>\n",
       "      <th>structure_name</th>\n",
       "    </tr>\n",
       "  </thead>\n",
       "  <tbody>\n",
       "    <tr>\n",
       "      <th>0</th>\n",
       "      <td>1</td>\n",
       "      <td>13058</td>\n",
       "      <td>H376.IIA.51</td>\n",
       "      <td>8 pcw</td>\n",
       "      <td>M</td>\n",
       "      <td>10665</td>\n",
       "      <td>URL</td>\n",
       "      <td>upper (rostral) rhombic lip</td>\n",
       "    </tr>\n",
       "    <tr>\n",
       "      <th>1</th>\n",
       "      <td>2</td>\n",
       "      <td>13058</td>\n",
       "      <td>H376.IIA.51</td>\n",
       "      <td>8 pcw</td>\n",
       "      <td>M</td>\n",
       "      <td>10194</td>\n",
       "      <td>OFC</td>\n",
       "      <td>orbital frontal cortex</td>\n",
       "    </tr>\n",
       "  </tbody>\n",
       "</table>\n",
       "</div>"
      ],
      "text/plain": [
       "   column_num  donor_id   donor_name    age gender  structure_id  \\\n",
       "0           1     13058  H376.IIA.51  8 pcw      M         10665   \n",
       "1           2     13058  H376.IIA.51  8 pcw      M         10194   \n",
       "\n",
       "  structure_acronym               structure_name  \n",
       "0               URL  upper (rostral) rhombic lip  \n",
       "1               OFC       orbital frontal cortex  "
      ]
     },
     "metadata": {},
     "output_type": "display_data"
    },
    {
     "data": {
      "text/html": [
       "<div>\n",
       "<style scoped>\n",
       "    .dataframe tbody tr th:only-of-type {\n",
       "        vertical-align: middle;\n",
       "    }\n",
       "\n",
       "    .dataframe tbody tr th {\n",
       "        vertical-align: top;\n",
       "    }\n",
       "\n",
       "    .dataframe thead th {\n",
       "        text-align: right;\n",
       "    }\n",
       "</style>\n",
       "<table border=\"1\" class=\"dataframe\">\n",
       "  <thead>\n",
       "    <tr style=\"text-align: right;\">\n",
       "      <th></th>\n",
       "      <th>row_num</th>\n",
       "      <th>gene_id</th>\n",
       "      <th>ensembl_gene_id</th>\n",
       "      <th>gene_symbol</th>\n",
       "      <th>entrez_id</th>\n",
       "      <th>start</th>\n",
       "      <th>end</th>\n",
       "    </tr>\n",
       "  </thead>\n",
       "  <tbody>\n",
       "    <tr>\n",
       "      <th>0</th>\n",
       "      <td>1</td>\n",
       "      <td>1086864</td>\n",
       "      <td>ENSG00000000003</td>\n",
       "      <td>TSPAN6</td>\n",
       "      <td>7105.0</td>\n",
       "      <td>99883666</td>\n",
       "      <td>99884983</td>\n",
       "    </tr>\n",
       "    <tr>\n",
       "      <th>1</th>\n",
       "      <td>2</td>\n",
       "      <td>1086864</td>\n",
       "      <td>ENSG00000000003</td>\n",
       "      <td>TSPAN6</td>\n",
       "      <td>7105.0</td>\n",
       "      <td>99885755</td>\n",
       "      <td>99885863</td>\n",
       "    </tr>\n",
       "  </tbody>\n",
       "</table>\n",
       "</div>"
      ],
      "text/plain": [
       "   row_num  gene_id  ensembl_gene_id gene_symbol  entrez_id     start  \\\n",
       "0        1  1086864  ENSG00000000003      TSPAN6     7105.0  99883666   \n",
       "1        2  1086864  ENSG00000000003      TSPAN6     7105.0  99885755   \n",
       "\n",
       "        end  \n",
       "0  99884983  \n",
       "1  99885863  "
      ]
     },
     "metadata": {},
     "output_type": "display_data"
    }
   ],
   "source": [
    "exon_exp_col = pd.read_csv(\n",
    "    \"/Users/jiayao/Work/BrainDisorders/data/expression/brainspan/exons_matrix/columns_metadata.csv\")\n",
    "exon_exp_row = pd.read_csv(\n",
    "    \"/Users/jiayao/Work/BrainDisorders/data/expression/brainspan/exons_matrix/rows_metadata.csv\")\n",
    "cds_dict = loaddict()\n",
    "display(exon_exp_col.head(2))\n",
    "display(exon_exp_row.head(2))"
   ]
  },
  {
   "cell_type": "code",
   "execution_count": 614,
   "metadata": {},
   "outputs": [
    {
     "name": "stdout",
     "output_type": "stream",
     "text": [
      "(93567602, 93571237) (93563433, 93563488)\n",
      "(93567602, 93571237) (93563433, 93563488)\n",
      "(93567602, 93571237) (93563433, 93563488)\n"
     ]
    }
   ],
   "source": [
    "def searchExon(Gene, Location, Genes):\n",
    "    Chr, interval = Location.split(\":\")\n",
    "    Start, End = interval.split(\"-\")\n",
    "    Pos, LenV = int(Start), int(End)-int(Start)\n",
    "    gene_obj = Genes[Gene]\n",
    "    _Exons, Transcripts = [],[]\n",
    "    #print(Location, Pos, LenV)\n",
    "    islej = \"F\"\n",
    "    for transid, transobj in gene_obj.Transcripts.items():\n",
    "        if transid not in selectedTrans:\n",
    "            continue\n",
    "        for exon in transobj.Exons:\n",
    "            if Pos > exon.start -3 and Pos < exon.end +3:\n",
    "                _Exons.append(exon.ExonID)\n",
    "                Transcripts.append(transid)\n",
    "                break\n",
    "            elif LenV > 0:\n",
    "                if (Pos < exon.start-3 and Pos + LenV > exon.start ) or (Pos < exon.end and Pos + LenV > exon.end +3):\n",
    "                    _Exons.append(exon.ExonID)\n",
    "                    Transcripts.append(transid)\n",
    "                    break\n",
    "    for transid, transobj in gene_obj.Transcripts.items():\n",
    "        if len(transobj.Exons) >= 2:\n",
    "            interval1, interval2 = transobj.LastExonJunction()\n",
    "            if Gene==\"CHD2\":\n",
    "                print(interval1, interval2)\n",
    "            if (Pos > interval1[0] and Pos < interval1[1]):\n",
    "                islej = \"T\"\n",
    "            elif (Pos > interval2[0] and Pos < interval2[1]):\n",
    "                islej = \"T\"\n",
    "    if len(list(set(_Exons))) == 0:\n",
    "        return \"NA\", \"NA\", \"NA\"\n",
    "    else:\n",
    "        return list(set(_Exons))[0], list(set(Transcripts))[0], islej\n",
    "\n",
    "\n",
    "VABS[\"Exons\"] = \"\"\n",
    "VABS[\"Transcripts\"] = \"\"\n",
    "\n",
    "for i, row in VABS.iterrows():\n",
    "    famid, gene, location = row[\"sfari_id\"], row[\"genetic_status\"], row[\"location\"]\n",
    "    ExonIDs, TranscriptIDs, islej = searchExon(gene, location, Genes)\n",
    "    VABS.at[i, \"Exons\"] = ExonIDs\n",
    "    VABS.at[i, \"Transcripts\"] = TranscriptIDs\n",
    "    VABS.at[i, \"isLEJ\"] = islej"
   ]
  },
  {
   "cell_type": "code",
   "execution_count": 635,
   "metadata": {},
   "outputs": [
    {
     "data": {
      "text/html": [
       "<div>\n",
       "<style scoped>\n",
       "    .dataframe tbody tr th:only-of-type {\n",
       "        vertical-align: middle;\n",
       "    }\n",
       "\n",
       "    .dataframe tbody tr th {\n",
       "        vertical-align: top;\n",
       "    }\n",
       "\n",
       "    .dataframe thead th {\n",
       "        text-align: right;\n",
       "    }\n",
       "</style>\n",
       "<table border=\"1\" class=\"dataframe\">\n",
       "  <thead>\n",
       "    <tr style=\"text-align: right;\">\n",
       "      <th></th>\n",
       "      <th>sfari_id</th>\n",
       "      <th>sex</th>\n",
       "      <th>genetic_status</th>\n",
       "      <th>inheritance_status</th>\n",
       "      <th>composite_standard_score</th>\n",
       "      <th>location</th>\n",
       "      <th>Exons</th>\n",
       "      <th>Transcripts</th>\n",
       "      <th>isLEJ</th>\n",
       "    </tr>\n",
       "  </thead>\n",
       "  <tbody>\n",
       "    <tr>\n",
       "      <th>0</th>\n",
       "      <td>13545</td>\n",
       "      <td>M</td>\n",
       "      <td>ADNP</td>\n",
       "      <td>de-novo</td>\n",
       "      <td>53.0</td>\n",
       "      <td>20:49509094-49509094</td>\n",
       "      <td>ENSE00001455631.1</td>\n",
       "      <td>ENST00000396029.3</td>\n",
       "      <td>T</td>\n",
       "    </tr>\n",
       "    <tr>\n",
       "      <th>1</th>\n",
       "      <td>12130</td>\n",
       "      <td>F</td>\n",
       "      <td>ADNP</td>\n",
       "      <td>de-novo</td>\n",
       "      <td>67.0</td>\n",
       "      <td>20:49510027-49510029</td>\n",
       "      <td>ENSE00001455631.1</td>\n",
       "      <td>ENST00000396029.3</td>\n",
       "      <td>T</td>\n",
       "    </tr>\n",
       "  </tbody>\n",
       "</table>\n",
       "</div>"
      ],
      "text/plain": [
       "  sfari_id sex genetic_status inheritance_status  composite_standard_score  \\\n",
       "0    13545   M           ADNP            de-novo                      53.0   \n",
       "1    12130   F           ADNP            de-novo                      67.0   \n",
       "\n",
       "               location              Exons        Transcripts isLEJ  \n",
       "0  20:49509094-49509094  ENSE00001455631.1  ENST00000396029.3     T  \n",
       "1  20:49510027-49510029  ENSE00001455631.1  ENST00000396029.3     T  "
      ]
     },
     "execution_count": 635,
     "metadata": {},
     "output_type": "execute_result"
    }
   ],
   "source": [
    "VABS2 = VABS[VABS[\"isLEJ\"]==\"T\"]\n",
    "VABS.head(2)\n",
    "#VABS2"
   ]
  },
  {
   "cell_type": "code",
   "execution_count": 628,
   "metadata": {},
   "outputs": [],
   "source": [
    "res = {}\n",
    "for gene in RecGenes:\n",
    "    res[gene] = {}\n",
    "    res[gene][\"SameExon\"] = []\n",
    "    res[gene][\"SameExonSameGender\"] = []\n",
    "    res[gene][\"DiffExon\"] = []\n",
    "    df = VABS[VABS[\"genetic_status\"]==gene]\n",
    "    for row1, row2 in itertools.combinations(df.iterrows(), r=2):\n",
    "        row1,row2 = row1[1], row2[1]\n",
    "        score1 = row1[\"composite_standard_score\"]\n",
    "        score2 = row2[\"composite_standard_score\"]\n",
    "        if row1[\"Exons\"] == row2[\"Exons\"]:\n",
    "            if row1[\"isLEJ\"] == \"T\" or row2[\"isLEJ\"] == \"T\":\n",
    "                continue\n",
    "            res[gene][\"SameExon\"].append( abs(score1-score2) )\n",
    "            if row1[\"sex\"] == row2[\"sex\"]:\n",
    "                res[gene][\"SameExonSameGender\"].append( abs(score1-score2) )\n",
    "        else:\n",
    "            res[gene][\"DiffExon\"].append( abs(score1-score2) )"
   ]
  },
  {
   "cell_type": "code",
   "execution_count": 634,
   "metadata": {},
   "outputs": [
    {
     "name": "stdout",
     "output_type": "stream",
     "text": [
      "ASXL3\t14.14\t21\t15.25\t15\t15.89\t77\n",
      "CHD2\t2.00\t1\t2.00\t1\t18.00\t2\n",
      "CHD8\t11.00\t1\tnan\t0\t12.75\t20\n",
      "DSCAM\t1.00\t1\t1.00\t1\t12.50\t2\n",
      "DYRK1A\t12.33\t6\t13.33\t3\t17.23\t22\n",
      "HIVEP2\t5.67\t3\t8.50\t1\t16.00\t7\n",
      "SCN2A\t9.88\t8\t5.87\t5\t13.59\t128\n",
      "[14.142857142857142, 2.0, 11.0, 1.0, 12.333333333333334, 5.666666666666667, 9.875] [15.886363636363637, 18.0, 12.75, 12.5, 17.227272727272727, 16.0, 13.591145833333334]\n",
      "WilcoxonResult(statistic=0.0, pvalue=0.017960477526078766)\n",
      "WilcoxonResult(statistic=0.0, pvalue=0.027707849358079864)\n"
     ]
    },
    {
     "name": "stderr",
     "output_type": "stream",
     "text": [
      "/Users/jiayao/anaconda3/lib/python3.7/site-packages/scipy/stats/morestats.py:2388: UserWarning: Warning: sample size too small for normal approximation.\n",
      "  warnings.warn(\"Warning: sample size too small for normal approximation.\")\n",
      "/Users/jiayao/anaconda3/lib/python3.7/site-packages/scipy/stats/morestats.py:2388: UserWarning: Warning: sample size too small for normal approximation.\n",
      "  warnings.warn(\"Warning: sample size too small for normal approximation.\")\n"
     ]
    }
   ],
   "source": [
    "SameExonMeans, DiffExonMeans, SameExonSameGenderMeans, DiffExonMeans2 = [],[],[],[]\n",
    "for gene in RecGenes:\n",
    "    #if gene==\"FOXP1\":\n",
    "    #    continue\n",
    "    SameExon = res[gene][\"SameExon\"]\n",
    "    SameExonSameGender = res[gene][\"SameExonSameGender\"]\n",
    "    DiffExon = res[gene][\"DiffExon\"]\n",
    "    if len(SameExon) == 0 or len(DiffExon) == 0:\n",
    "        continue\n",
    "    SameExonMeans.append(np.mean(SameExon))\n",
    "    DiffExonMeans.append(np.mean(DiffExon))\n",
    "    if len(SameExonSameGender) != 0:\n",
    "        SameExonSameGenderMeans.append(np.mean(SameExonSameGender))\n",
    "        DiffExonMeans2.append(np.mean(DiffExon))\n",
    "    print(\"%s\\t%.2f\\t%d\\t%.2f\\t%d\\t%.2f\\t%d\"%(gene, np.mean(SameExon), len(SameExon), np.mean(SameExonSameGender), \n",
    "                                    len(SameExonSameGender), np.mean(DiffExon), len(DiffExon)))\n",
    "print(SameExonMeans, DiffExonMeans)\n",
    "print(scipy.stats.wilcoxon(SameExonMeans, DiffExonMeans))\n",
    "print(scipy.stats.wilcoxon(SameExonSameGenderMeans, DiffExonMeans2))"
   ]
  },
  {
   "cell_type": "code",
   "execution_count": 632,
   "metadata": {},
   "outputs": [
    {
     "name": "stdout",
     "output_type": "stream",
     "text": [
      "MannwhitneyuResult(statistic=389.0, pvalue=0.12851657456275456)\n",
      "MannwhitneyuResult(statistic=766.5, pvalue=0.3596397270284283)\n",
      "MannwhitneyuResult(statistic=53.0, pvalue=0.24077074348902505)\n",
      "MannwhitneyuResult(statistic=0.0, pvalue=0.011327247040044673)\n"
     ]
    }
   ],
   "source": [
    "print(scipy.stats.mannwhitneyu(res[\"SCN2A\"][\"SameExon\"], res[\"SCN2A\"][\"DiffExon\"]))\n",
    "print(scipy.stats.mannwhitneyu(res[\"ASXL3\"][\"SameExon\"], res[\"ASXL3\"][\"DiffExon\"]))\n",
    "print(scipy.stats.mannwhitneyu(res[\"DYRK1A\"][\"SameExon\"], res[\"DYRK1A\"][\"DiffExon\"]))\n",
    "print(scipy.stats.mannwhitneyu(res[\"HIVEP2\"][\"SameExon\"], res[\"HIVEP2\"][\"DiffExon\"]))"
   ]
  },
  {
   "cell_type": "code",
   "execution_count": 600,
   "metadata": {},
   "outputs": [
    {
     "data": {
      "text/html": [
       "<div>\n",
       "<style scoped>\n",
       "    .dataframe tbody tr th:only-of-type {\n",
       "        vertical-align: middle;\n",
       "    }\n",
       "\n",
       "    .dataframe tbody tr th {\n",
       "        vertical-align: top;\n",
       "    }\n",
       "\n",
       "    .dataframe thead th {\n",
       "        text-align: right;\n",
       "    }\n",
       "</style>\n",
       "<table border=\"1\" class=\"dataframe\">\n",
       "  <thead>\n",
       "    <tr style=\"text-align: right;\">\n",
       "      <th></th>\n",
       "      <th>sfari_id</th>\n",
       "      <th>sex</th>\n",
       "      <th>genetic_status</th>\n",
       "      <th>inheritance_status</th>\n",
       "      <th>composite_standard_score</th>\n",
       "      <th>location</th>\n",
       "      <th>Exons</th>\n",
       "      <th>Transcripts</th>\n",
       "      <th>isLEJ</th>\n",
       "    </tr>\n",
       "  </thead>\n",
       "  <tbody>\n",
       "    <tr>\n",
       "      <th>2</th>\n",
       "      <td>13618</td>\n",
       "      <td>F</td>\n",
       "      <td>CHD2</td>\n",
       "      <td>de-novo</td>\n",
       "      <td>57.0</td>\n",
       "      <td>15:93524060-93524064</td>\n",
       "      <td>ENSE00001097780.1</td>\n",
       "      <td>ENST00000394196.4</td>\n",
       "      <td>F</td>\n",
       "    </tr>\n",
       "    <tr>\n",
       "      <th>3</th>\n",
       "      <td>13614</td>\n",
       "      <td>M</td>\n",
       "      <td>CHD2</td>\n",
       "      <td>de-novo</td>\n",
       "      <td>74.0</td>\n",
       "      <td>15:93563244-93563244</td>\n",
       "      <td>ENSE00001517730.1</td>\n",
       "      <td>ENST00000394196.4</td>\n",
       "      <td>T</td>\n",
       "    </tr>\n",
       "    <tr>\n",
       "      <th>4</th>\n",
       "      <td>13818</td>\n",
       "      <td>M</td>\n",
       "      <td>CHD2</td>\n",
       "      <td>de-novo</td>\n",
       "      <td>76.0</td>\n",
       "      <td>15:93563282-93563282</td>\n",
       "      <td>ENSE00001517730.1</td>\n",
       "      <td>ENST00000394196.4</td>\n",
       "      <td>T</td>\n",
       "    </tr>\n",
       "  </tbody>\n",
       "</table>\n",
       "</div>"
      ],
      "text/plain": [
       "  sfari_id sex genetic_status inheritance_status  composite_standard_score  \\\n",
       "2    13618   F           CHD2            de-novo                      57.0   \n",
       "3    13614   M           CHD2            de-novo                      74.0   \n",
       "4    13818   M           CHD2            de-novo                      76.0   \n",
       "\n",
       "               location              Exons        Transcripts isLEJ  \n",
       "2  15:93524060-93524064  ENSE00001097780.1  ENST00000394196.4     F  \n",
       "3  15:93563244-93563244  ENSE00001517730.1  ENST00000394196.4     T  \n",
       "4  15:93563282-93563282  ENSE00001517730.1  ENST00000394196.4     T  "
      ]
     },
     "execution_count": 600,
     "metadata": {},
     "output_type": "execute_result"
    }
   ],
   "source": [
    "VABS[VABS[\"genetic_status\"]==\"CHD2\"]"
   ]
  },
  {
   "cell_type": "code",
   "execution_count": null,
   "metadata": {},
   "outputs": [],
   "source": []
  },
  {
   "cell_type": "code",
   "execution_count": null,
   "metadata": {},
   "outputs": [],
   "source": []
  }
 ],
 "metadata": {
  "kernelspec": {
   "display_name": "Python 3",
   "language": "python",
   "name": "python3"
  },
  "language_info": {
   "codemirror_mode": {
    "name": "ipython",
    "version": 3
   },
   "file_extension": ".py",
   "mimetype": "text/x-python",
   "name": "python",
   "nbconvert_exporter": "python",
   "pygments_lexer": "ipython3",
   "version": "3.7.1"
  }
 },
 "nbformat": 4,
 "nbformat_minor": 2
}
