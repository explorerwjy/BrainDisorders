{
 "cells": [
  {
   "cell_type": "code",
   "execution_count": 2,
   "metadata": {},
   "outputs": [],
   "source": [
    "%load_ext autoreload\n",
    "%autoreload 2\n",
    "from utils import *\n",
    "from IPython.display import display, HTML"
   ]
  },
  {
   "cell_type": "code",
   "execution_count": 7,
   "metadata": {},
   "outputs": [],
   "source": [
    "def getINFO(info_string):\n",
    "        infolist = info_string.split(';')\n",
    "        infodict = {}\n",
    "        for kv in infolist:\n",
    "                kv = kv.split('=')\n",
    "                if len(kv) == 2:\n",
    "                        k, v = kv\n",
    "                        infodict[k] = v \n",
    "        return infodict\n",
    "\n",
    "def match_allele_csq(Ref, Alts, csq_head, csq_string):\n",
    "        # Trim Leading Base\n",
    "        Alts = Alts.split(\",\")\n",
    "        if len(list(set([x[0] for x in Alts])))==1 and Ref[0] == list(set([x[0] for x in Alts]))[0]:\n",
    "                _Ref = Ref[1:] if len(Ref[1:]) >0 else \"-\" \n",
    "                _Alts = [Alt[1:] if len(Alt[1:]) >0 else \"-\" for Alt in Alts]\n",
    "        else:\n",
    "                _Alts = Alts\n",
    "        res = {}\n",
    "        csqs = csq_string.split(\",\")\n",
    "        csqs = [dict(zip(csq_head, vep.split(\"|\"))) for vep in csqs]\n",
    "        for i, Alt in enumerate(Alts):\n",
    "                res[Alt] = []\n",
    "                for j, csq in enumerate(csqs):\n",
    "                        if csq[\"Allele\"] == _Alts[i]:\n",
    "                                csq[\"Consequence\"] = csq[\"Consequence\"] .split(\"&\")\n",
    "                                res[Alt].append(csq)\n",
    "        return res\n",
    "\n",
    "Genes = [\"ASXL3\",\"CHD2\",\"CHD8\",\"DSCAM\",\"DYRK1A\",\"FOXP1\",\"HIVEP2\",\"SCN2A\"]\n",
    "def GetRelventCSQ(CSQs):\n",
    "    for csq in CSQs:\n",
    "        if csq[\"SYMBOL\"] in Genes:\n",
    "            return csq"
   ]
  },
  {
   "cell_type": "code",
   "execution_count": 16,
   "metadata": {},
   "outputs": [],
   "source": [
    "LGD_class = set([\"splice_acceptor_variant\", \"splice_donor_variant\", \"stop_gained\",\n",
    "                \"stop_lost\", \"start_lost\", \"frameshift_variant\"])\n",
    "\n",
    "VCF = \"/Users/jiayao/Work/BrainDisorders/src/unifiedmodel/VIP.RecGenes.VEP.vcf\"\n",
    "hand = open(VCF, 'rt')\n",
    "outfil = csv.writer(open(\"VIP.RecGenes.tsv\", 'wt'), delimiter=\"\\t\")\n",
    "outfil.writerow([\"Chr\", \"Pos\", \"ref\", \"Alt\", \"Gene\", \"cons\", \"AF\", \"sample\", \"GT\"])\n",
    "for l in hand:\n",
    "    if l.startswith(\"##\"):\n",
    "        if l.startswith(\"##INFO=<ID=CSQ\"):\n",
    "            CSQ_header = l.strip().split(\"Format: \")[1].rstrip('>\\\"').split(\"|\")\n",
    "        continue\n",
    "    elif l.startswith(\"#C\"):\n",
    "        header = l.strip().split(\"\\t\")\n",
    "        samples = header[9:]\n",
    "        continue\n",
    "    llist = l.strip().split(\"\\t\")\n",
    "    genotypes = llist[9:]\n",
    "    #if llist[6] != \"PASS\":\n",
    "    #    continue\n",
    "    Chr, Pos, ID, ref, alts = llist[0:5]\n",
    "    INFO_string = llist[7]\n",
    "    infodict = getINFO(llist[7])\n",
    "    Allele_CSQ_dict = match_allele_csq(ref, alts, CSQ_header, infodict[\"CSQ\"])\n",
    "    for i,Alt in enumerate(alts.split(',')):\n",
    "        vep = GetRelventCSQ(Allele_CSQ_dict[Alt])\n",
    "        cons = vep[\"Consequence\"]\n",
    "        AF = vep[\"gnomAD_AF\"]\n",
    "        Gene = vep[\"SYMBOL\"]\n",
    "        if len(set(cons).intersection(LGD_class))>= 1:\n",
    "            for j, GT in enumerate(genotypes):\n",
    "                gt = GT.split(\":\")[0].split(\"/\")\n",
    "                if int(gt[1]) == i+1:\n",
    "                    sample = samples[j]\n",
    "                    outfil.writerow([Chr, Pos, ref, Alt, Gene, cons, AF, sample, GT])"
   ]
  },
  {
   "cell_type": "code",
   "execution_count": null,
   "metadata": {},
   "outputs": [],
   "source": [
    "\n",
    "\n"
   ]
  },
  {
   "cell_type": "code",
   "execution_count": null,
   "metadata": {},
   "outputs": [],
   "source": []
  },
  {
   "cell_type": "code",
   "execution_count": 409,
   "metadata": {},
   "outputs": [],
   "source": [
    "# VABS, VIQ, NVIQ\n",
    "VABS_df = pd.read_csv(\"/Users/jiayao/Work/BrainDisorders/VIP_phenotype/SSC_PhenotypeV15.2/Proband_Data/ssc_proband_vineland_ii.csv\")\n",
    "VABS_df.head()\n",
    "scores = VABS_df[\"composite_standard_score\"].values\n",
    "fams = VABS_df[\"individual\"].values\n",
    "fams = [int(x.split(\".\")[0]) for x in fams]\n",
    "indv2vabs = dict(zip(fams, scores))\n",
    "core_desc = pd.read_csv(\n",
    "    \"/Users/jiayao/Work/BrainDisorders/VIP_phenotype/SSC_PhenotypeV15.2/Proband_Data/ssc_core_descriptive.csv\")\n",
    "core_desc = core_desc[[\"individual\", \"ssc_diagnosis_full_scale_iq\",\n",
    "                       \"ssc_diagnosis_nonverbal_iq\", \"ssc_diagnosis_verbal_iq\"]]\n",
    "core_desc[\"familyId\"] = core_desc.apply(lambda row:int(row[\"individual\"].split(\".\")[0]), axis=1)\n",
    "#display(core_desc.head(2))\n",
    "core_desc.columns.values\n",
    "famID2FSIQ = dict(zip(core_desc[\"familyId\"].values, core_desc[\"ssc_diagnosis_full_scale_iq\"].values))\n"
   ]
  },
  {
   "cell_type": "code",
   "execution_count": 358,
   "metadata": {},
   "outputs": [],
   "source": [
    "LGD_DF = pd.read_excel(\"/Users/jiayao/Work/BrainDisorders/data/DenovoVariants/wigler2014ProLGD.xlsx\")\n",
    "LGD_fams = set(LGD_DF[\"familyId\"].values)"
   ]
  },
  {
   "cell_type": "code",
   "execution_count": 1190,
   "metadata": {},
   "outputs": [
    {
     "data": {
      "text/html": [
       "<div>\n",
       "<style scoped>\n",
       "    .dataframe tbody tr th:only-of-type {\n",
       "        vertical-align: middle;\n",
       "    }\n",
       "\n",
       "    .dataframe tbody tr th {\n",
       "        vertical-align: top;\n",
       "    }\n",
       "\n",
       "    .dataframe thead th {\n",
       "        text-align: right;\n",
       "    }\n",
       "</style>\n",
       "<table border=\"1\" class=\"dataframe\">\n",
       "  <thead>\n",
       "    <tr style=\"text-align: right;\">\n",
       "      <th></th>\n",
       "      <th>familyId</th>\n",
       "      <th>VIQ</th>\n",
       "      <th>NVIQ</th>\n",
       "      <th>VABS</th>\n",
       "      <th>FSIQ</th>\n",
       "    </tr>\n",
       "  </thead>\n",
       "  <tbody>\n",
       "    <tr>\n",
       "      <th>0</th>\n",
       "      <td>11542</td>\n",
       "      <td>121.0</td>\n",
       "      <td>102.0</td>\n",
       "      <td>82.0</td>\n",
       "      <td>109.0</td>\n",
       "    </tr>\n",
       "    <tr>\n",
       "      <th>1</th>\n",
       "      <td>13736</td>\n",
       "      <td>119.0</td>\n",
       "      <td>112.0</td>\n",
       "      <td>82.0</td>\n",
       "      <td>118.0</td>\n",
       "    </tr>\n",
       "    <tr>\n",
       "      <th>2</th>\n",
       "      <td>13735</td>\n",
       "      <td>30.0</td>\n",
       "      <td>27.0</td>\n",
       "      <td>59.0</td>\n",
       "      <td>28.0</td>\n",
       "    </tr>\n",
       "    <tr>\n",
       "      <th>3</th>\n",
       "      <td>13734</td>\n",
       "      <td>36.0</td>\n",
       "      <td>51.0</td>\n",
       "      <td>60.0</td>\n",
       "      <td>43.0</td>\n",
       "    </tr>\n",
       "    <tr>\n",
       "      <th>4</th>\n",
       "      <td>11546</td>\n",
       "      <td>100.0</td>\n",
       "      <td>123.0</td>\n",
       "      <td>76.0</td>\n",
       "      <td>99.0</td>\n",
       "    </tr>\n",
       "  </tbody>\n",
       "</table>\n",
       "</div>"
      ],
      "text/plain": [
       "   familyId    VIQ   NVIQ  VABS   FSIQ\n",
       "0     11542  121.0  102.0  82.0  109.0\n",
       "1     13736  119.0  112.0  82.0  118.0\n",
       "2     13735   30.0   27.0  59.0   28.0\n",
       "3     13734   36.0   51.0  60.0   43.0\n",
       "4     11546  100.0  123.0  76.0   99.0"
      ]
     },
     "execution_count": 1190,
     "metadata": {},
     "output_type": "execute_result"
    }
   ],
   "source": [
    "wigler_fam_info = pd.read_excel(\"/Users/jiayao/Work/BrainDisorders/data/nature13908-s2/Supplementary_Table_1.xlsx\")\n",
    "#wigler_fam_info = wigler_fam_info[wigler_fam_info[\"familyId\"].isin(LGD_fams)]\n",
    "wigler_fam_info[\"VIQ\"] = wigler_fam_info[\"probandVIQ\"]\n",
    "wigler_fam_info[\"NVIQ\"] = wigler_fam_info[\"probandNVIQ\"]\n",
    "wigler_fam_info = wigler_fam_info[[\"familyId\", \"VIQ\", \"NVIQ\"]]\n",
    "wigler_fam_info[\"VABS\"] = wigler_fam_info.apply(lambda row:indv2vabs.get(row[\"familyId\"], np.nan), axis=1)\n",
    "wigler_fam_info[\"FSIQ\"] = wigler_fam_info.apply(lambda row:famID2FSIQ.get(row[\"familyId\"], np.nan), axis=1)\n",
    "wigler_fam_info = wigler_fam_info.dropna(axis=0)\n",
    "wigler_fam_info.head()"
   ]
  },
  {
   "cell_type": "code",
   "execution_count": 1158,
   "metadata": {},
   "outputs": [],
   "source": [
    "#SameExonIQ\n",
    "Jiayao_features = pd.read_csv(\"unifiedmodel/features.jiayao.65.csv\")\n",
    "#Jiayao_features = pd.read_csv(\"unifiedmodel/SSC.LGD.features.csv\")\n",
    "Jiayao_features = Jiayao_features.dropna()\n",
    "#Jiayao_features[\"VABS\"] = Jiayao_features.apply(lambda row:indv2vabs.get(row[\"familyId\"], np.nan), axis=1)\n",
    "ExonCount = Jiayao_features.groupby(\"ExonID\")[\"ExonID\"].count()\n",
    "Jiayao_features[\"ExonCount\"] = Jiayao_features.apply(lambda row: ExonCount[row[\"ExonID\"]], axis=1)\n",
    "SameExon = Jiayao_features[Jiayao_features[\"ExonCount\"]>=2]\n",
    "SameExonFSIQ_diff, SameExonVIQ_diff, SameExonNVIQ_diff, SameExonVABS_diff = [], [], [], []\n",
    "for exon in list(set(SameExon['ExonID'].values)):\n",
    "    tmpdf = SameExon[SameExon[\"ExonID\"]==exon]\n",
    "    FSIQs = tmpdf[\"FSIQ\"].values\n",
    "    VIQs = tmpdf[\"VIQ\"].values\n",
    "    NVIQs = tmpdf[\"NVIQ\"].values\n",
    "    VABSs = tmpdf[\"VABS\"].values\n",
    "    SameExonFSIQ_diff.append(abs(FSIQs[0]-FSIQs[1]))\n",
    "    SameExonVIQ_diff.append(abs(VIQs[0]-VIQs[1]))\n",
    "    SameExonNVIQ_diff.append(abs(NVIQs[0]-NVIQs[1]))\n",
    "    SameExonVABS_diff.append(abs(VABSs[0]-VABSs[1]))"
   ]
  },
  {
   "cell_type": "code",
   "execution_count": 1159,
   "metadata": {
    "scrolled": true
   },
   "outputs": [
    {
     "data": {
      "image/png": "[encoded data removed]",
      "text/plain": [
       "<Figure size 432x288 with 1 Axes>"
      ]
     },
     "metadata": {
      "needs_background": "light"
     },
     "output_type": "display_data"
    },
    {
     "name": "stdout",
     "output_type": "stream",
     "text": [
      "8.875 17.25 8.25 6.875\n",
      "[2.0, 5.0, 13.0, 6.0, 2.0, 12.0, 7.0, 24.0]\n"
     ]
    }
   ],
   "source": [
    "plt.hist(SameExonFSIQ_diff, color=\"b\")\n",
    "plt.show()\n",
    "print(np.mean(SameExonFSIQ_diff), np.mean(SameExonVIQ_diff), np.mean(SameExonNVIQ_diff), np.mean(SameExonVABS_diff))\n",
    "print(SameExonFSIQ_diff)"
   ]
  },
  {
   "cell_type": "code",
   "execution_count": 1194,
   "metadata": {},
   "outputs": [
    {
     "name": "stdout",
     "output_type": "stream",
     "text": [
      "FSIQ - NVIQ (0.9083195285498538, 3.7591763153557934e-25)\n",
      "NVIQ - VIQ (0.8225750753782097, 7.697198327726727e-17)\n",
      "FSIQ - VIQ (0.8840636996968843, 3.753169776359777e-22)\n",
      "NVIQ - VABS (0.45643524692875503, 0.00015017238970429407)\n",
      "VIQ - VABS (0.50827108817764, 1.8052603790983183e-05)\n"
     ]
    }
   ],
   "source": [
    "#spearmanr\n",
    "print(\"FSIQ - NVIQ\", pearsonr(Jiayao_features[\"FSIQ\"].values, Jiayao_features[\"NVIQ\"].values))\n",
    "print(\"NVIQ - VIQ\", pearsonr(Jiayao_features[\"NVIQ\"].values, Jiayao_features[\"VIQ\"].values))\n",
    "print(\"FSIQ - VIQ\", pearsonr(Jiayao_features[\"FSIQ\"].values, Jiayao_features[\"VIQ\"].values))\n",
    "print(\"NVIQ - VABS\", pearsonr(Jiayao_features[\"NVIQ\"].values, Jiayao_features[\"VABS\"].values))\n",
    "print(\"VIQ - VABS\", pearsonr(Jiayao_features[\"VIQ\"].values, Jiayao_features[\"VABS\"].values))"
   ]
  },
  {
   "cell_type": "code",
   "execution_count": 453,
   "metadata": {},
   "outputs": [
    {
     "data": {
      "image/png": "[encoded data removed]",
      "text/plain": [
       "<Figure size 432x288 with 1 Axes>"
      ]
     },
     "metadata": {
      "needs_background": "light"
     },
     "output_type": "display_data"
    },
    {
     "data": {
      "image/png": "[encoded data removed]",
      "text/plain": [
       "<Figure size 432x288 with 1 Axes>"
      ]
     },
     "metadata": {
      "needs_background": "light"
     },
     "output_type": "display_data"
    },
    {
     "data": {
      "image/png": "[encoded data removed]",
      "text/plain": [
       "<Figure size 432x288 with 1 Axes>"
      ]
     },
     "metadata": {
      "needs_background": "light"
     },
     "output_type": "display_data"
    }
   ],
   "source": [
    "plt.scatter(Jiayao_features[\"NVIQ\"].values, Jiayao_features[\"FSIQ\"].values)\n",
    "plt.scatter(SameExon[\"NVIQ\"].values, SameExon[\"FSIQ\"].values)\n",
    "plt.show()\n",
    "plt.scatter(Jiayao_features[\"NVIQ\"].values, Jiayao_features[\"VIQ\"].values)\n",
    "plt.scatter(SameExon[\"NVIQ\"].values, SameExon[\"VIQ\"].values)\n",
    "plt.show()\n",
    "plt.scatter(Jiayao_features[\"NVIQ\"].values, Jiayao_features[\"VABS\"].values)\n",
    "plt.scatter(SameExon[\"NVIQ\"].values, SameExon[\"VABS\"].values)\n",
    "plt.show()"
   ]
  },
  {
   "cell_type": "code",
   "execution_count": 1195,
   "metadata": {},
   "outputs": [
    {
     "name": "stdout",
     "output_type": "stream",
     "text": [
      "NVIQ - VIQ (0.8373403405594042, 0.0)\n",
      "NVIQ - VABS (0.6693201580849893, 8.17618e-318)\n",
      "VIQ - VABS (0.6616512007654329, 4.417303093332454e-308)\n"
     ]
    }
   ],
   "source": [
    "print(\"NVIQ - VIQ\", pearsonr(wigler_fam_info[\"NVIQ\"].values, wigler_fam_info[\"VIQ\"].values))\n",
    "print(\"NVIQ - VABS\", pearsonr(wigler_fam_info[\"NVIQ\"].values, wigler_fam_info[\"VABS\"].values))\n",
    "print(\"VIQ - VABS\", pearsonr(wigler_fam_info[\"VIQ\"].values, wigler_fam_info[\"VABS\"].values))"
   ]
  },
  {
   "cell_type": "code",
   "execution_count": 456,
   "metadata": {},
   "outputs": [],
   "source": [
    "import itertools\n",
    "ALL_FSIQ_diff = []\n",
    "ALL_VIQ_diff = []\n",
    "ALL_NVIQ_diff = []\n",
    "ALL_VABS_diff = []\n",
    "SE_FSIQ_diff = []\n",
    "SE_VIQ_diff = []\n",
    "SE_NVIQ_diff = []\n",
    "SE_VABS_diff = []\n",
    "for row1, row2 in itertools.combinations(Jiayao_features.iterrows(), r=2):\n",
    "    row1 = row1[1]\n",
    "    row2 = row2[1]\n",
    "    FSIQ_diff = abs(row1[\"FSIQ\"]- row2[\"FSIQ\"])\n",
    "    NVIQ_diff = abs(row1[\"NVIQ\"]- row2[\"NVIQ\"])\n",
    "    VIQ_diff = abs(row1[\"VIQ\"]- row2[\"VIQ\"])\n",
    "    VABS_diff = abs(row1[\"VABS\"]- row2[\"VABS\"])\n",
    "    if row1[\"ExonID\"] == row2[\"ExonID\"]:\n",
    "        SE_FSIQ_diff.append(FSIQ_diff)\n",
    "        SE_VIQ_diff.append(VIQ_diff)\n",
    "        SE_NVIQ_diff.append(NVIQ_diff)\n",
    "        SE_VABS_diff.append(VABS_diff)\n",
    "    else:\n",
    "        ALL_FSIQ_diff.append(FSIQ_diff)\n",
    "        ALL_VIQ_diff.append(VIQ_diff)\n",
    "        ALL_NVIQ_diff.append(NVIQ_diff)\n",
    "        ALL_VABS_diff.append(VABS_diff)"
   ]
  },
  {
   "cell_type": "code",
   "execution_count": 460,
   "metadata": {},
   "outputs": [
    {
     "data": {
      "image/png": "[encoded data removed]",
      "text/plain": [
       "<Figure size 432x288 with 1 Axes>"
      ]
     },
     "metadata": {
      "needs_background": "light"
     },
     "output_type": "display_data"
    }
   ],
   "source": [
    "plt.scatter(ALL_NVIQ_diff, ALL_VIQ_diff, s=3)\n",
    "plt.scatter(SE_NVIQ_diff, SE_VIQ_diff)\n",
    "plt.show()"
   ]
  },
  {
   "cell_type": "code",
   "execution_count": 461,
   "metadata": {},
   "outputs": [
    {
     "data": {
      "image/png": "[encoded data removed]",
      "text/plain": [
       "<Figure size 432x288 with 1 Axes>"
      ]
     },
     "metadata": {
      "needs_background": "light"
     },
     "output_type": "display_data"
    }
   ],
   "source": [
    "plt.scatter(ALL_NVIQ_diff, ALL_VABS_diff, s=3)\n",
    "plt.scatter(SE_NVIQ_diff, SE_VABS_diff)\n",
    "plt.show()"
   ]
  },
  {
   "cell_type": "code",
   "execution_count": 1126,
   "metadata": {},
   "outputs": [],
   "source": [
    "class NVIQ_VABS_PAIR:\n",
    "    def __init__(self, NVIQ_DIFF, VABS_DIFF):\n",
    "        self.NVIQ_DIFF = NVIQ_DIFF\n",
    "        self.VABS_DIFF = VABS_DIFF\n",
    "ALL_NVIQ_VABS_Pairs = [NVIQ_VABS_PAIR(x,y) for x,y in zip(ALL_NVIQ_diff, ALL_VABS_diff)]\n",
    "ALL_NVIQ_VIQ_Pairs = [NVIQ_VABS_PAIR(x,y) for x,y in zip(ALL_NVIQ_diff, ALL_VIQ_diff)]"
   ]
  },
  {
   "cell_type": "code",
   "execution_count": 1142,
   "metadata": {},
   "outputs": [
    {
     "data": {
      "image/png": "[encoded data removed]",
      "text/plain": [
       "<Figure size 432x288 with 1 Axes>"
      ]
     },
     "metadata": {
      "needs_background": "light"
     },
     "output_type": "display_data"
    },
    {
     "data": {
      "image/png": "[encoded data removed]",
      "text/plain": [
       "<Figure size 432x288 with 1 Axes>"
      ]
     },
     "metadata": {
      "needs_background": "light"
     },
     "output_type": "display_data"
    }
   ],
   "source": [
    "plt.hist(ALL_NVIQ_diff)\n",
    "plt.show()\n",
    "plt.hist(ALL_VABS_diff)\n",
    "plt.show()"
   ]
  },
  {
   "cell_type": "code",
   "execution_count": 1103,
   "metadata": {},
   "outputs": [],
   "source": [
    "VIQRatios, SelectedSamples_VIQ_NVIQ = RatioPermutationTest(ALL_NVIQ_VABS_Pairs, Npermute=100)"
   ]
  },
  {
   "cell_type": "code",
   "execution_count": 1115,
   "metadata": {},
   "outputs": [],
   "source": [
    "NVIQ_mean, VABS_mean, NVIQ_mean_, VABS_mean_ = [], [], [], []\n",
    "for sp in SelectedSamples_VIQ_NVIQ:\n",
    "    First8 = sp[:8]\n",
    "    Last60 = sp[8:]\n",
    "    NVIQ_mean.append(np.mean([x.NVIQ_DIFF for x in First8]))\n",
    "    VABS_mean.append(np.mean([x.VABS_DIFF for x in First8]))\n",
    "    NVIQ_mean_.append(np.mean([x.NVIQ_DIFF for x in Last60]))\n",
    "    VABS_mean_.append(np.mean([x.VABS_DIFF for x in Last60]))"
   ]
  },
  {
   "cell_type": "code",
   "execution_count": 1116,
   "metadata": {
    "collapsed": true
   },
   "outputs": [
    {
     "data": {
      "image/png": "[encoded data removed]",
      "text/plain": [
       "<Figure size 432x288 with 1 Axes>"
      ]
     },
     "metadata": {
      "needs_background": "light"
     },
     "output_type": "display_data"
    },
    {
     "data": {
      "image/png": "[encoded data removed]",
      "text/plain": [
       "<Figure size 432x288 with 1 Axes>"
      ]
     },
     "metadata": {
      "needs_background": "light"
     },
     "output_type": "display_data"
    },
    {
     "data": {
      "image/png": "[encoded data removed]",
      "text/plain": [
       "<Figure size 432x288 with 1 Axes>"
      ]
     },
     "metadata": {
      "needs_background": "light"
     },
     "output_type": "display_data"
    },
    {
     "data": {
      "image/png": "[encoded data removed]",
      "text/plain": [
       "<Figure size 432x288 with 1 Axes>"
      ]
     },
     "metadata": {
      "needs_background": "light"
     },
     "output_type": "display_data"
    }
   ],
   "source": [
    "PlotHistAndP(NVIQ_mean, 8.3)\n",
    "PlotHistAndP(VABS_mean, 6.875)\n",
    "PlotHistAndP(NVIQ_mean_, 26)\n",
    "PlotHistAndP(VABS_mean_, 12)"
   ]
  },
  {
   "cell_type": "code",
   "execution_count": 1118,
   "metadata": {
    "collapsed": true
   },
   "outputs": [
    {
     "data": {
      "image/png": "[encoded data removed]",
      "text/plain": [
       "<Figure size 432x288 with 1 Axes>"
      ]
     },
     "metadata": {
      "needs_background": "light"
     },
     "output_type": "display_data"
    }
   ],
   "source": [
    "PlotHistAndP(VIQRatios, 0.35)"
   ]
  },
  {
   "cell_type": "code",
   "execution_count": 1119,
   "metadata": {},
   "outputs": [],
   "source": [
    "VIQRatios2, SelectedSamples_VIQ_NVIQ2 = RatioPermutationTest(ALL_NVIQ_VABS_Pairs, Npermute=100)"
   ]
  },
  {
   "cell_type": "code",
   "execution_count": 1120,
   "metadata": {},
   "outputs": [],
   "source": [
    "NVIQ_mean, VABS_mean, NVIQ_mean_, VABS_mean_ = [], [], [], []\n",
    "for sp in SelectedSamples_VIQ_NVIQ2:\n",
    "    First8 = sp[:8]\n",
    "    Last60 = sp[8:]\n",
    "    NVIQ_mean.append(np.mean([x.NVIQ_DIFF for x in First8]))\n",
    "    VABS_mean.append(np.mean([x.VABS_DIFF for x in First8]))\n",
    "    NVIQ_mean_.append(np.mean([x.NVIQ_DIFF for x in Last60]))\n",
    "    VABS_mean_.append(np.mean([x.VABS_DIFF for x in Last60]))"
   ]
  },
  {
   "cell_type": "code",
   "execution_count": 1122,
   "metadata": {},
   "outputs": [
    {
     "data": {
      "image/png": "[encoded data removed]",
      "text/plain": [
       "<Figure size 432x288 with 1 Axes>"
      ]
     },
     "metadata": {
      "needs_background": "light"
     },
     "output_type": "display_data"
    },
    {
     "data": {
      "image/png": "[encoded data removed]",
      "text/plain": [
       "<Figure size 432x288 with 1 Axes>"
      ]
     },
     "metadata": {
      "needs_background": "light"
     },
     "output_type": "display_data"
    },
    {
     "data": {
      "image/png": "[encoded data removed]",
      "text/plain": [
       "<Figure size 432x288 with 1 Axes>"
      ]
     },
     "metadata": {
      "needs_background": "light"
     },
     "output_type": "display_data"
    },
    {
     "data": {
      "image/png": "[encoded data removed]",
      "text/plain": [
       "<Figure size 432x288 with 1 Axes>"
      ]
     },
     "metadata": {
      "needs_background": "light"
     },
     "output_type": "display_data"
    },
    {
     "data": {
      "image/png": "[encoded data removed]",
      "text/plain": [
       "<Figure size 432x288 with 1 Axes>"
      ]
     },
     "metadata": {
      "needs_background": "light"
     },
     "output_type": "display_data"
    }
   ],
   "source": [
    "PlotHistAndP(NVIQ_mean, 8.3)\n",
    "PlotHistAndP(VABS_mean, 6.875)\n",
    "PlotHistAndP(NVIQ_mean_, 26)\n",
    "PlotHistAndP(VABS_mean_, 12)\n",
    "PlotHistAndP(VIQRatios2, 0.35)"
   ]
  },
  {
   "cell_type": "code",
   "execution_count": 1139,
   "metadata": {},
   "outputs": [],
   "source": [
    "VIQRatios3, SelectedSamples_VIQ_NVIQ3 = RatioPermutationTest(ALL_NVIQ_VABS_Pairs, N1 = 16, N2 = 8, Npermute=100)"
   ]
  },
  {
   "cell_type": "code",
   "execution_count": 1140,
   "metadata": {},
   "outputs": [],
   "source": [
    "NVIQ_mean, VABS_mean, NVIQ_mean_, VABS_mean_ = [], [], [], []\n",
    "for sp in SelectedSamples_VIQ_NVIQ3:\n",
    "    First8 = sp[:8]\n",
    "    Last60 = sp[8:]\n",
    "    NVIQ_mean.append(np.mean([x.NVIQ_DIFF for x in First8]))\n",
    "    VABS_mean.append(np.mean([x.VABS_DIFF for x in First8]))\n",
    "    NVIQ_mean_.append(np.mean([x.NVIQ_DIFF for x in Last60]))\n",
    "    VABS_mean_.append(np.mean([x.VABS_DIFF for x in Last60]))"
   ]
  },
  {
   "cell_type": "code",
   "execution_count": 1141,
   "metadata": {},
   "outputs": [
    {
     "data": {
      "image/png": "[encoded data removed]",
      "text/plain": [
       "<Figure size 432x288 with 1 Axes>"
      ]
     },
     "metadata": {
      "needs_background": "light"
     },
     "output_type": "display_data"
    },
    {
     "data": {
      "image/png": "[encoded data removed]",
      "text/plain": [
       "<Figure size 432x288 with 1 Axes>"
      ]
     },
     "metadata": {
      "needs_background": "light"
     },
     "output_type": "display_data"
    },
    {
     "data": {
      "image/png": "[encoded data removed]",
      "text/plain": [
       "<Figure size 432x288 with 1 Axes>"
      ]
     },
     "metadata": {
      "needs_background": "light"
     },
     "output_type": "display_data"
    },
    {
     "data": {
      "image/png": "[encoded data removed]",
      "text/plain": [
       "<Figure size 432x288 with 1 Axes>"
      ]
     },
     "metadata": {
      "needs_background": "light"
     },
     "output_type": "display_data"
    },
    {
     "data": {
      "image/png": "[encoded data removed]",
      "text/plain": [
       "<Figure size 432x288 with 1 Axes>"
      ]
     },
     "metadata": {
      "needs_background": "light"
     },
     "output_type": "display_data"
    }
   ],
   "source": [
    "PlotHistAndP(NVIQ_mean, 8.3)\n",
    "PlotHistAndP(VABS_mean, 6.875)\n",
    "PlotHistAndP(NVIQ_mean_, 26)\n",
    "PlotHistAndP(VABS_mean_, 12)\n",
    "PlotHistAndP(VIQRatios3, 0.35)"
   ]
  },
  {
   "cell_type": "code",
   "execution_count": 1093,
   "metadata": {},
   "outputs": [
    {
     "data": {
      "image/png": "[encoded data removed]",
      "text/plain": [
       "<Figure size 432x288 with 1 Axes>"
      ]
     },
     "metadata": {
      "needs_background": "light"
     },
     "output_type": "display_data"
    }
   ],
   "source": [
    "plt.hist(res, bins=20)\n",
    "p = get_smaller_P(0.35, [0] + res)\n",
    "plt.vlines(x=0.35, ymin=0, ymax=90)\n",
    "plt.text(x=0.35, y=80, s=\"p=%.3f\"%p)\n",
    "plt.show()"
   ]
  },
  {
   "cell_type": "code",
   "execution_count": 1136,
   "metadata": {},
   "outputs": [],
   "source": [
    "ALL_NVIQ_VIQ_Pairs = [NVIQ_VABS_PAIR(x,y) for x,y in zip(ALL_NVIQ_diff, ALL_VIQ_diff)]\n",
    "VIQRatios, SelectedSamples_VIQ_NVIQ = RatioPermutationTestNVIQvsVIQ(ALL_NVIQ_VIQ_Pairs, Npermute=100)"
   ]
  },
  {
   "cell_type": "code",
   "execution_count": 1138,
   "metadata": {},
   "outputs": [
    {
     "data": {
      "image/png": "[encoded data removed]",
      "text/plain": [
       "<Figure size 432x288 with 1 Axes>"
      ]
     },
     "metadata": {
      "needs_background": "light"
     },
     "output_type": "display_data"
    },
    {
     "data": {
      "image/png": "[encoded data removed]",
      "text/plain": [
       "<Figure size 432x288 with 1 Axes>"
      ]
     },
     "metadata": {
      "needs_background": "light"
     },
     "output_type": "display_data"
    },
    {
     "data": {
      "image/png": "[encoded data removed]",
      "text/plain": [
       "<Figure size 432x288 with 1 Axes>"
      ]
     },
     "metadata": {
      "needs_background": "light"
     },
     "output_type": "display_data"
    },
    {
     "data": {
      "image/png": "[encoded data removed]",
      "text/plain": [
       "<Figure size 432x288 with 1 Axes>"
      ]
     },
     "metadata": {
      "needs_background": "light"
     },
     "output_type": "display_data"
    },
    {
     "data": {
      "image/png": "[encoded data removed]",
      "text/plain": [
       "<Figure size 432x288 with 1 Axes>"
      ]
     },
     "metadata": {
      "needs_background": "light"
     },
     "output_type": "display_data"
    }
   ],
   "source": [
    "NVIQ_mean, VABS_mean, NVIQ_mean_, VABS_mean_ = [], [], [], []\n",
    "for sp in SelectedSamples_VIQ_NVIQ:\n",
    "    First8 = sp[:8]\n",
    "    Last60 = sp[8:]\n",
    "    NVIQ_mean.append(np.mean([x.NVIQ_DIFF for x in First8]))\n",
    "    VABS_mean.append(np.mean([x.VABS_DIFF for x in First8]))\n",
    "    NVIQ_mean_.append(np.mean([x.NVIQ_DIFF for x in Last60]))\n",
    "    VABS_mean_.append(np.mean([x.VABS_DIFF for x in Last60]))\n",
    "PlotHistAndP(NVIQ_mean, 8.3)\n",
    "PlotHistAndP(VABS_mean, 17.3)\n",
    "PlotHistAndP(NVIQ_mean_, 26)\n",
    "PlotHistAndP(VABS_mean_, 34.9)\n",
    "PlotHistAndP(VIQRatios, 0.5)"
   ]
  },
  {
   "cell_type": "code",
   "execution_count": null,
   "metadata": {},
   "outputs": [],
   "source": []
  },
  {
   "cell_type": "code",
   "execution_count": 1129,
   "metadata": {},
   "outputs": [
    {
     "data": {
      "text/plain": [
       "0.4957020057306591"
      ]
     },
     "execution_count": 1129,
     "metadata": {},
     "output_type": "execute_result"
    }
   ],
   "source": [
    "17.3/34.9"
   ]
  },
  {
   "cell_type": "code",
   "execution_count": 800,
   "metadata": {},
   "outputs": [
    {
     "name": "stdout",
     "output_type": "stream",
     "text": [
      "900"
     ]
    },
    {
     "data": {
      "image/png": "[encoded data removed]",
      "text/plain": [
       "<Figure size 432x288 with 1 Axes>"
      ]
     },
     "metadata": {
      "needs_background": "light"
     },
     "output_type": "display_data"
    },
    {
     "data": {
      "image/png": "[encoded data removed]",
      "text/plain": [
       "<Figure size 432x288 with 1 Axes>"
      ]
     },
     "metadata": {
      "needs_background": "light"
     },
     "output_type": "display_data"
    }
   ],
   "source": [
    "AVGIQs, AVG_dists = AccetRejectSamplingForPhenotypesRelationship(SE_NVIQ_diff, SE_VABS_diff, \n",
    "                                                                 ALL_NVIQ_diff, ALL_VABS_diff)\n",
    "plt.hist(AVGIQs, bins=20)\n",
    "p = get_smaller_P(np.mean(SameExonIQ), AVGIQs)\n",
    "plt.vlines(x=np.mean(SameExonIQ), ymin=0, ymax=90)\n",
    "plt.text(x=np.mean(SameExonIQ), y=80, s=\"p=%.3f\"%p)\n",
    "plt.show()\n"
   ]
  },
  {
   "cell_type": "code",
   "execution_count": 802,
   "metadata": {},
   "outputs": [
    {
     "data": {
      "image/png": "[encoded data removed]",
      "text/plain": [
       "<Figure size 432x288 with 1 Axes>"
      ]
     },
     "metadata": {
      "needs_background": "light"
     },
     "output_type": "display_data"
    }
   ],
   "source": [
    "\n",
    "Log10SameExonAA = [x for x in SE_NVIQ_diff]\n",
    "plt.hist(AVG_dists, bins=20)\n",
    "p = get_smaller_P(np.mean(Log10SameExonAA), AVG_dists)\n",
    "plt.vlines(x=np.mean(Log10SameExonAA), ymin=0, ymax=90)\n",
    "plt.text(x=np.mean(Log10SameExonAA), y=80, s=\"p=%.3f\"%p)\n",
    "plt.show()"
   ]
  },
  {
   "cell_type": "code",
   "execution_count": 441,
   "metadata": {},
   "outputs": [],
   "source": [
    "import itertools\n",
    "sampled_FSIQ_diff = []\n",
    "sampled_VIQ_diff = []\n",
    "sampled_NVIQ_diff = []\n",
    "sampled_VABS_diff = []\n",
    "Mean_FSIQ_diff, Mean_VIQ_diff, Mean_NVIQ_diff, Mean_VABS_diff = [],[],[],[]\n",
    "N,i = 0, 0\n",
    "for row1, row2 in itertools.combinations(Jiayao_features.iterrows(), r=2):\n",
    "    row1 = row1[1]\n",
    "    row2 = row2[1]\n",
    "    #NVIQ_diff = abs(row1[\"probandNVIQ\"]- row2[\"probandNVIQ\"])\n",
    "    #VIQ_diff = abs(row1[\"probandVIQ\"]- row2[\"probandVIQ\"])\n",
    "    FSIQ_diff = abs(row1[\"FSIQ\"]- row2[\"FSIQ\"])\n",
    "    NVIQ_diff = abs(row1[\"NVIQ\"]- row2[\"NVIQ\"])\n",
    "    VIQ_diff = abs(row1[\"VIQ\"]- row2[\"VIQ\"])\n",
    "    VABS_diff = abs(row1[\"VABS\"]- row2[\"VABS\"])\n",
    "    if FSIQ_diff <= 20 and FSIQ_diff >= 0:\n",
    "        if i >= 8:\n",
    "            #if np.mean(sampled_FSIQ_diff) > 5 and np.mean(sampled_FSIQ_diff) < 10:\n",
    "            if np.mean(sampled_FSIQ_diff) > 8.8 and np.mean(sampled_FSIQ_diff) < 8.9:\n",
    "                N += 1\n",
    "                Mean_FSIQ_diff.append(np.mean(sampled_FSIQ_diff))\n",
    "                Mean_VIQ_diff.append(np.mean(sampled_VIQ_diff))\n",
    "                Mean_NVIQ_diff.append(np.mean(sampled_NVIQ_diff))\n",
    "                Mean_VABS_diff.append(np.mean(sampled_VABS_diff))\n",
    "            sampled_FSIQ_diff = []\n",
    "            sampled_VIQ_diff = []\n",
    "            sampled_NVIQ_diff = []\n",
    "            sampled_VABS_diff = []\n",
    "            i = 0\n",
    "        sampled_FSIQ_diff.append(FSIQ_diff)\n",
    "        sampled_NVIQ_diff.append(NVIQ_diff)\n",
    "        sampled_VIQ_diff.append(VIQ_diff)\n",
    "        sampled_VABS_diff.append(VABS_diff)\n",
    "        i += 1\n",
    "    if N > 1000:\n",
    "        break\n",
    "#print(np.mean(sampled_VIQ_diff), np.mean(sampled_NVIQ_diff))"
   ]
  },
  {
   "cell_type": "code",
   "execution_count": 443,
   "metadata": {},
   "outputs": [
    {
     "data": {
      "image/png": "[encoded data removed]",
      "text/plain": [
       "<Figure size 480x400 with 4 Axes>"
      ]
     },
     "metadata": {
      "needs_background": "light"
     },
     "output_type": "display_data"
    }
   ],
   "source": [
    "def get_smaller_P(xline, dist):\n",
    "    count = 0\n",
    "    for i,v in enumerate(dist):\n",
    "        if xline >= v:\n",
    "            count += 1\n",
    "    return float(count)/len(dist)\n",
    "\n",
    "fig, axs = plt.subplots(2,2,figsize=(6,5), dpi=80,)\n",
    "axs = axs.flatten()\n",
    "fig.tight_layout()\n",
    "features = [('FSIQ', 8.875, Mean_FSIQ_diff), ('VIQ', 17.25, Mean_VIQ_diff), \n",
    "            ('VABS', 6.875, Mean_VABS_diff), ('NVIQ', 8.25, Mean_NVIQ_diff)]\n",
    "for ax,feature in zip(axs, features):  \n",
    "    label, xline, dist = feature\n",
    "    p = get_smaller_P(xline, dist)\n",
    "    ax.hist(dist, bins=20)\n",
    "    ax.vlines(x=xline, ymin=0, ymax=100)\n",
    "    ax.text(x=xline, y=80, s=\"p=%.3f\"%p)\n",
    "    ax.set_ylabel(\"density\")\n",
    "    ax.set_xlabel(\"%s difference\"%(label))\n",
    "#plt.show()"
   ]
  },
  {
   "cell_type": "code",
   "execution_count": 252,
   "metadata": {},
   "outputs": [
    {
     "name": "stdout",
     "output_type": "stream",
     "text": [
      "(57, 30)\n",
      "-0.2777379737839482 0.03645927041594309\n",
      "-0.23583164454164451 0.07738797045741304\n"
     ]
    }
   ],
   "source": [
    "Jiayao_features = pd.read_csv(\"unifiedmodel/features.65.jiayao.csv\")\n",
    "#Jiayao_features.head(2)\n",
    "tmpdf = Jiayao_features.drop_duplicates(subset=\"ExonID\", keep='first')\n",
    "print(tmpdf.shape)\n",
    "r, p = pearsonr(np.array(tmpdf[\"phyloP100way\"]), np.array(tmpdf[\"NVIQ\"]))\n",
    "print(r,p)\n",
    "r, p = pearsonr(np.array(tmpdf[\"phastCons100way\"]), np.array(tmpdf[\"NVIQ\"]))\n",
    "print(r,p)"
   ]
  },
  {
   "cell_type": "code",
   "execution_count": null,
   "metadata": {},
   "outputs": [],
   "source": []
  },
  {
   "cell_type": "code",
   "execution_count": 1143,
   "metadata": {},
   "outputs": [],
   "source": [
    "# conservation scores\n",
    "# Same gene highest phyloP score set similarity \n",
    "Jiayao_features = pd.read_csv(\"unifiedmodel/features.65.jiayao.csv\")\n",
    "Jiayao_features[\"VABS\"] = Jiayao_features.apply(lambda row:indv2vabs.get(row[\"familyId\"], np.nan), axis=1)\n",
    "ExonCount = Jiayao_features.groupby(\"ExonID\")[\"ExonID\"].count()\n",
    "Jiayao_features[\"ExonCount\"] = Jiayao_features.apply(lambda row: ExonCount[row[\"ExonID\"]], axis=1)\n",
    "DiffExon = Jiayao_features[Jiayao_features[\"ExonCount\"]<2]\n",
    "DiffExonVIQ_diff, DiffExonNVIQ_diff, DiffExonVABS_diff = [], [], []\n",
    "for gene in list(set(DiffExon['effectGene'].values)):\n",
    "    #print(gene)\n",
    "    tmpdf = DiffExon[DiffExon[\"effectGene\"]==gene]\n",
    "    tmpdf = tmpdf.sort_values('phyloP100way', ascending=False)\n",
    "    if tmpdf.shape[0] < 2:\n",
    "        continue\n",
    "    #display(tmpdf)\n",
    "    phyloPs = tmpdf[\"phyloP100way\"].values\n",
    "    phyloP_diff = phyloPs[0] - phyloPs[1]\n",
    "    #print(phyloP_diff)\n",
    "    if phyloP_diff > 1:\n",
    "        continue\n",
    "    VIQs = tmpdf[\"VIQ\"].values\n",
    "    NVIQs = tmpdf[\"NVIQ\"].values\n",
    "    VABSs = tmpdf[\"VABS\"].values\n",
    "    DiffExonVIQ_diff.append(abs(VIQs[0]-VIQs[1]))\n",
    "    DiffExonNVIQ_diff.append(abs(NVIQs[0]-NVIQs[1]))\n",
    "    DiffExonVABS_diff.append(abs(VABSs[0]-VABSs[1]))"
   ]
  },
  {
   "cell_type": "code",
   "execution_count": 1144,
   "metadata": {},
   "outputs": [
    {
     "data": {
      "image/png": "[encoded data removed]",
      "text/plain": [
       "<Figure size 432x288 with 1 Axes>"
      ]
     },
     "metadata": {
      "needs_background": "light"
     },
     "output_type": "display_data"
    }
   ],
   "source": [
    "plt.hist(Jiayao_features[\"phyloP100way\"].values)\n",
    "plt.show()"
   ]
  },
  {
   "cell_type": "code",
   "execution_count": 1145,
   "metadata": {},
   "outputs": [
    {
     "name": "stdout",
     "output_type": "stream",
     "text": [
      "8 11\n"
     ]
    },
    {
     "data": {
      "image/png": "[encoded data removed]",
      "text/plain": [
       "<Figure size 432x288 with 1 Axes>"
      ]
     },
     "metadata": {
      "needs_background": "light"
     },
     "output_type": "display_data"
    },
    {
     "name": "stdout",
     "output_type": "stream",
     "text": [
      "6.5 19.0\n",
      "MannwhitneyuResult(statistic=19.5, pvalue=0.023657174348709568)\n"
     ]
    }
   ],
   "source": [
    "print(len(SameExonNVIQ_diff), len(DiffExonNVIQ_diff))\n",
    "plt.boxplot([SameExonNVIQ_diff, DiffExonNVIQ_diff],\n",
    "            labels = [\"same exon\", \"highest phyloP\"])\n",
    "plt.grid(True)\n",
    "plt.show()\n",
    "print(np.median(SameExonNVIQ_diff), np.median(DiffExonNVIQ_diff))\n",
    "print(scipy.stats.mannwhitneyu(SameExonNVIQ_diff, DiffExonNVIQ_diff, alternative=\"less\"))"
   ]
  },
  {
   "cell_type": "code",
   "execution_count": 1153,
   "metadata": {},
   "outputs": [],
   "source": [
    "Jiayao_features = pd.read_csv(\"unifiedmodel/features.65.jiayao.csv\")\n",
    "Jiayao_features[\"VABS\"] = Jiayao_features.apply(lambda row:indv2vabs.get(row[\"familyId\"], np.nan), axis=1)\n",
    "ExonCount = Jiayao_features.groupby(\"ExonID\")[\"ExonID\"].count()\n",
    "Jiayao_features[\"ExonCount\"] = Jiayao_features.apply(lambda row: ExonCount[row[\"ExonID\"]], axis=1)\n",
    "DiffExon = Jiayao_features[Jiayao_features[\"ExonCount\"]<2]\n",
    "DiffExonVIQ_diff, DiffExonNVIQ_diff, DiffExonVABS_diff = [], [], []\n",
    "LargeConserveDiff, SmallConserveDiff = [],[]\n",
    "IQDiffs, phyloPDiffs = [], []\n",
    "for gene in list(set(DiffExon['effectGene'].values)):\n",
    "    #print(gene)\n",
    "    tmpdf = DiffExon[DiffExon[\"effectGene\"]==gene]\n",
    "    tmpdf = tmpdf.sort_values('phyloP100way', ascending=False)\n",
    "    if tmpdf.shape[0] < 2:\n",
    "        continue\n",
    "    #display(tmpdf)\n",
    "    for row1, row2 in itertools.combinations(tmpdf.iterrows(), 2):\n",
    "        i1, row1 = row1\n",
    "        i2, row2 = row2\n",
    "        phyloP1 = row1[\"phyloP100way\"]\n",
    "        phyloP2 = row2[\"phyloP100way\"]\n",
    "        NVIQ1 = row1[\"NVIQ\"]\n",
    "        NVIQ2 = row2[\"NVIQ\"]\n",
    "        IQDiff = abs(NVIQ1-NVIQ2)\n",
    "        phyloPDiff = abs(phyloP1 - phyloP2)\n",
    "        IQDiffs.append(IQDiff)\n",
    "        phyloPDiffs.append(phyloPDiff)\n",
    "        if phyloPDiff > 1:\n",
    "            LargeConserveDiff.append(IQDiff)\n",
    "        elif phyloPDiff < 1:\n",
    "            SmallConserveDiff.append(IQDiff)"
   ]
  },
  {
   "cell_type": "code",
   "execution_count": 1189,
   "metadata": {},
   "outputs": [
    {
     "name": "stdout",
     "output_type": "stream",
     "text": [
      "(-0.07907480513850859, 0.6566578624481061)\n",
      "SpearmanrResult(correlation=-0.03179213071232551, pvalue=0.8583386783449299)\n"
     ]
    },
    {
     "data": {
      "image/png": "[encoded data removed]",
      "text/plain": [
       "<Figure size 432x288 with 1 Axes>"
      ]
     },
     "metadata": {
      "needs_background": "light"
     },
     "output_type": "display_data"
    },
    {
     "data": {
      "text/plain": [
       "Text(0, 0.5, 'NVIQ difference')"
      ]
     },
     "execution_count": 1189,
     "metadata": {},
     "output_type": "execute_result"
    },
    {
     "data": {
      "image/png": "[encoded data removed]",
      "text/plain": [
       "<Figure size 1200x800 with 1 Axes>"
      ]
     },
     "metadata": {
      "needs_background": "light"
     },
     "output_type": "display_data"
    }
   ],
   "source": [
    "plt.scatter(phyloPDiffs, IQDiffs, color=\"blue\")\n",
    "Xs, Ys = MyMovingAVG(phyloPDiffs, IQDiffs, 4)\n",
    "plt.plot(Xs, Ys, color=\"red\")\n",
    "print(pearsonr(phyloPDiffs, IQDiffs))\n",
    "print(spearmanr(phyloPDiffs, IQDiffs))\n",
    "plt.show()\n",
    "\n",
    "font = {'family' : 'normal',\n",
    "        'weight' : 'normal',\n",
    "        'size'   : 15}\n",
    "mpl.rc('font', **font)\n",
    "fig, ax = plt.subplots(dpi=200)\n",
    "ax = sns.regplot(x=phyloPDiffs, y=IQDiffs, color=\"blue\", ci=95)\n",
    "r, p = spearmanr(phyloPDiffs, IQDiffs)\n",
    "ax.text(x = 2.5, y=60, s=\"Spearmanr=%.2f\\nP=%.2f\"%(r,p))\n",
    "ax.set_xlabel(\"phyloP difference\")\n",
    "ax.set_ylabel(\"NVIQ difference\")"
   ]
  },
  {
   "cell_type": "code",
   "execution_count": 1185,
   "metadata": {},
   "outputs": [
    {
     "name": "stdout",
     "output_type": "stream",
     "text": [
      "8 15 19\n"
     ]
    },
    {
     "data": {
      "image/png": "[encoded data removed]",
      "text/plain": [
       "<Figure size 432x288 with 1 Axes>"
      ]
     },
     "metadata": {
      "needs_background": "light"
     },
     "output_type": "display_data"
    },
    {
     "name": "stdout",
     "output_type": "stream",
     "text": [
      "22.0 20.0\n",
      "MannwhitneyuResult(statistic=140.0, pvalue=0.4723374811509226)\n"
     ]
    }
   ],
   "source": [
    "print(len(SameExonNVIQ_diff), len(LargeConserveDiff), len(SmallConserveDiff))\n",
    "plt.boxplot([SameExonNVIQ_diff, LargeConserveDiff, SmallConserveDiff],\n",
    "            labels = [\"same exon\", \"LargeConserveDiff\", \"SmallConserveDiff\"])\n",
    "plt.grid(True)\n",
    "plt.show()\n",
    "print(np.median(LargeConserveDiff), np.median(SmallConserveDiff))\n",
    "print(scipy.stats.mannwhitneyu(LargeConserveDiff, SmallConserveDiff, alternative=\"less\"))"
   ]
  },
  {
   "cell_type": "code",
   "execution_count": 816,
   "metadata": {},
   "outputs": [],
   "source": [
    "RecGenes = [\"ASXL3\",\"CHD2\",\"CHD8\",\"DSCAM\",\"DYRK1A\",\"FOXP1\",\"HIVEP2\",\"SCN2A\",\"ADNP\",\"CHAMP1\",\"CSNK2A1\",\"GRIN2B\",\n",
    "        \"HNRNPH2\",\"MED13L\",\"PACS1\",\"PPP2R5D\",\"SETBP1\",\"STXBP1\",\"SYNGAP1\"]\n",
    "Jiayao_features = pd.read_csv(\"unifiedmodel/features.jiayao.65.csv\")\n",
    "#df = Jiayao_features[Jiayao_features[\"effectGene\"].isin(Genes)]\n",
    "df = Jiayao_features\n",
    "#display(df.head(2))\n",
    "for i, row in df.iterrows():\n",
    "    df.loc[i, \"sfari_id\"] = df.loc[i, \"familyId\"]\n",
    "    df.loc[i, \"sex\"] = df.loc[i, \"gender\"]\n",
    "    Chr, Pos, Ref, Alt = row[\"vcfVariant\"].split(\":\")\n",
    "    Len = max(0, len(Ref) - len(Alt))\n",
    "    df.loc[i, \"location\"] = \"{}:{}-{}\".format(Chr, Pos, int(Pos)+Len)\n",
    "    df.loc[i, \"inheritance_status\"] = \"de-novo\"\n",
    "    df.loc[i, \"genetic_status\"] = row[\"effectGene\"]\n",
    "    df.loc[i, \"composite_standard_score\"] = row[\"VABS\"]\n",
    "    df.loc[i, \"Cohort\"] = \"SSC\"\n",
    "#df.head(2)\n",
    "df = df[[\"Cohort\", \"sfari_id\",\"sex\",\"genetic_status\",\"inheritance_status\",\"composite_standard_score\",\"location\"]]"
   ]
  },
  {
   "cell_type": "code",
   "execution_count": 817,
   "metadata": {},
   "outputs": [
    {
     "data": {
      "text/html": [
       "<div>\n",
       "<style scoped>\n",
       "    .dataframe tbody tr th:only-of-type {\n",
       "        vertical-align: middle;\n",
       "    }\n",
       "\n",
       "    .dataframe tbody tr th {\n",
       "        vertical-align: top;\n",
       "    }\n",
       "\n",
       "    .dataframe thead th {\n",
       "        text-align: right;\n",
       "    }\n",
       "</style>\n",
       "<table border=\"1\" class=\"dataframe\">\n",
       "  <thead>\n",
       "    <tr style=\"text-align: right;\">\n",
       "      <th></th>\n",
       "      <th>Cohort</th>\n",
       "      <th>sfari_id</th>\n",
       "      <th>sex</th>\n",
       "      <th>genetic_status</th>\n",
       "      <th>inheritance_status</th>\n",
       "      <th>composite_standard_score</th>\n",
       "      <th>location</th>\n",
       "    </tr>\n",
       "  </thead>\n",
       "  <tbody>\n",
       "    <tr>\n",
       "      <th>0</th>\n",
       "      <td>SSC</td>\n",
       "      <td>13545.0</td>\n",
       "      <td>M</td>\n",
       "      <td>ADNP</td>\n",
       "      <td>de-novo</td>\n",
       "      <td>53.0</td>\n",
       "      <td>20:49509094-49509094</td>\n",
       "    </tr>\n",
       "    <tr>\n",
       "      <th>1</th>\n",
       "      <td>SSC</td>\n",
       "      <td>12130.0</td>\n",
       "      <td>F</td>\n",
       "      <td>ADNP</td>\n",
       "      <td>de-novo</td>\n",
       "      <td>67.0</td>\n",
       "      <td>20:49510027-49510029</td>\n",
       "    </tr>\n",
       "  </tbody>\n",
       "</table>\n",
       "</div>"
      ],
      "text/plain": [
       "  Cohort  sfari_id sex genetic_status inheritance_status  \\\n",
       "0    SSC   13545.0   M           ADNP            de-novo   \n",
       "1    SSC   12130.0   F           ADNP            de-novo   \n",
       "\n",
       "   composite_standard_score              location  \n",
       "0                      53.0  20:49509094-49509094  \n",
       "1                      67.0  20:49510027-49510029  "
      ]
     },
     "execution_count": 817,
     "metadata": {},
     "output_type": "execute_result"
    }
   ],
   "source": [
    "df.head(2)"
   ]
  },
  {
   "cell_type": "code",
   "execution_count": 818,
   "metadata": {},
   "outputs": [
    {
     "data": {
      "text/html": [
       "<div>\n",
       "<style scoped>\n",
       "    .dataframe tbody tr th:only-of-type {\n",
       "        vertical-align: middle;\n",
       "    }\n",
       "\n",
       "    .dataframe tbody tr th {\n",
       "        vertical-align: top;\n",
       "    }\n",
       "\n",
       "    .dataframe thead th {\n",
       "        text-align: right;\n",
       "    }\n",
       "</style>\n",
       "<table border=\"1\" class=\"dataframe\">\n",
       "  <thead>\n",
       "    <tr style=\"text-align: right;\">\n",
       "      <th></th>\n",
       "      <th>sfari_id</th>\n",
       "      <th>sex</th>\n",
       "      <th>genetic_status</th>\n",
       "      <th>inheritance_status</th>\n",
       "      <th>composite_standard_score</th>\n",
       "      <th>location</th>\n",
       "    </tr>\n",
       "  </thead>\n",
       "  <tbody>\n",
       "    <tr>\n",
       "      <th>0</th>\n",
       "      <td>15710-x1</td>\n",
       "      <td>M</td>\n",
       "      <td>ASXL3</td>\n",
       "      <td>de-novo</td>\n",
       "      <td>75.0</td>\n",
       "      <td>18:31323776-31323776</td>\n",
       "    </tr>\n",
       "    <tr>\n",
       "      <th>1</th>\n",
       "      <td>16159-x1</td>\n",
       "      <td>F</td>\n",
       "      <td>ASXL3</td>\n",
       "      <td>de-novo</td>\n",
       "      <td>37.0</td>\n",
       "      <td>18:31319345-31319349</td>\n",
       "    </tr>\n",
       "  </tbody>\n",
       "</table>\n",
       "</div>"
      ],
      "text/plain": [
       "   sfari_id sex genetic_status inheritance_status  composite_standard_score  \\\n",
       "0  15710-x1   M          ASXL3            de-novo                      75.0   \n",
       "1  16159-x1   F          ASXL3            de-novo                      37.0   \n",
       "\n",
       "               location  \n",
       "0  18:31323776-31323776  \n",
       "1  18:31319345-31319349  "
      ]
     },
     "execution_count": 818,
     "metadata": {},
     "output_type": "execute_result"
    }
   ],
   "source": [
    "VIP_VABS = pd.read_csv(\"unifiedmodel/vip.recgenes.withlocation.csv\")\n",
    "VIP_VABS.head(2)"
   ]
  },
  {
   "cell_type": "code",
   "execution_count": 819,
   "metadata": {},
   "outputs": [],
   "source": [
    "sfari_id2vabs = {}\n",
    "for sfari_id in VIP_VABS[\"sfari_id\"].values:\n",
    "    #print(sfari_id)\n",
    "    tmpdf = VIP_VABS[VIP_VABS[\"sfari_id\"]==sfari_id]\n",
    "    vabs = np.mean(tmpdf[\"composite_standard_score\"].values)\n",
    "    sfari_id2vabs[sfari_id] = vabs"
   ]
  },
  {
   "cell_type": "code",
   "execution_count": 820,
   "metadata": {},
   "outputs": [
    {
     "name": "stdout",
     "output_type": "stream",
     "text": [
      "(123, 6)\n",
      "(89, 6)\n"
     ]
    }
   ],
   "source": [
    "print(VIP_VABS.shape)\n",
    "VIP_VABS = VIP_VABS.drop_duplicates(subset=\"sfari_id\", keep=\"first\")\n",
    "#VIP_VABS.head(2)\n",
    "print(VIP_VABS.shape)\n",
    "VIP_VABS[\"composite_standard_score\"] = VIP_VABS.apply(lambda row:sfari_id2vabs[row[\"sfari_id\"]], axis=1)\n",
    "VIP_VABS[\"Cohort\"] = \"VIP\""
   ]
  },
  {
   "cell_type": "code",
   "execution_count": null,
   "metadata": {},
   "outputs": [],
   "source": []
  },
  {
   "cell_type": "code",
   "execution_count": 821,
   "metadata": {},
   "outputs": [
    {
     "name": "stderr",
     "output_type": "stream",
     "text": [
      "/Users/jiayao/anaconda3/lib/python3.7/site-packages/ipykernel_launcher.py:1: FutureWarning: Sorting because non-concatenation axis is not aligned. A future version\n",
      "of pandas will change to not sort by default.\n",
      "\n",
      "To accept the future behavior, pass 'sort=False'.\n",
      "\n",
      "To retain the current behavior and silence the warning, pass 'sort=True'.\n",
      "\n",
      "  \"\"\"Entry point for launching an IPython kernel.\n"
     ]
    }
   ],
   "source": [
    "VABS = pd.concat([df, VIP_VABS])\n",
    "VABS = VABS[VABS[\"inheritance_status\"]==\"de-novo\"]\n",
    "#VABS = VABS.dropna()\n",
    "VABS = VABS.reset_index(drop=True)"
   ]
  },
  {
   "cell_type": "code",
   "execution_count": 822,
   "metadata": {},
   "outputs": [],
   "source": [
    "VABS.to_csv(\"unifiedmodel/SSC_VIP_VABS_RecLGD.csv\", index=False)"
   ]
  },
  {
   "cell_type": "code",
   "execution_count": 823,
   "metadata": {},
   "outputs": [
    {
     "name": "stdout",
     "output_type": "stream",
     "text": [
      "{'ASXL3': 'ENST00000269197.5', 'CHD8': 'ENST00000399982.2', 'DYRK1A': 'ENST00000339659.4', 'CHD2': 'ENST00000394196.4', 'SCN2A': 'ENST00000357398.3', 'FOXP1': 'ENST00000318789.4', 'HIVEP2': 'ENST00000367603.2', 'PPP2R5D': 'ENST00000485511.1', 'SYNGAP1': 'ENST00000418600.2', 'STXBP1': 'ENST00000373302.3', 'PACS1': 'ENST00000320580.4', 'MED13L': 'ENST00000281928.3', 'CHAMP1': 'ENST00000361283.1', 'SETBP1': 'ENST00000282030.5', 'CSNK2A1': 'ENST00000217244.3', 'ADNP': 'ENST00000396029.3', 'DSCAM': 'ENST00000400454.1', 'HNRNPH2': 'ENST00000400454.1', 'GRIN2B': 'ENST00000609686.1'}\n",
      "['ENST00000269197.5', 'ENST00000399982.2', 'ENST00000339659.4', 'ENST00000394196.4', 'ENST00000357398.3', 'ENST00000318789.4', 'ENST00000367603.2', 'ENST00000485511.1', 'ENST00000418600.2', 'ENST00000373302.3', 'ENST00000320580.4', 'ENST00000281928.3', 'ENST00000361283.1', 'ENST00000282030.5', 'ENST00000217244.3', 'ENST00000396029.3', 'ENST00000400454.1', 'ENST00000400454.1', 'ENST00000609686.1']\n"
     ]
    }
   ],
   "source": [
    "Gene2Trans = {}\n",
    "\"\"\"\n",
    "hand = open(\"unifiedmodel/VIPgenes.gencode.v19.gtf\", 'rt')\n",
    "for l in hand:\n",
    "    if l.startswith(\"#\"):\n",
    "        continue\n",
    "    llist = l.strip().split(\"\\t\")\n",
    "    info = gtf_info_parser(llist[8]) \n",
    "    CHR = llist[0].lstrip(\"chr\")\n",
    "    strand = llist[6]\n",
    "    start = int(llist[3])\n",
    "    end = int(llist[4])\n",
    "    if llist[2] == \"transcript\" and info[\"transcript_type\"] == \"protein_coding\":\n",
    "        if info[\"gene_name\"] not in Gene2Trans:\n",
    "            Gene2Trans[info[\"gene_name\"]] = (info[\"transcript_id\"], abs(start - end))\n",
    "        else:\n",
    "            if abs(start-end) > Gene2Trans[info[\"gene_name\"]][1]:\n",
    "                Gene2Trans[info[\"gene_name\"]] = (info[\"transcript_id\"], abs(start - end))\n",
    "\"\"\"\n",
    "Gene2Trans[\"ASXL3\"]=\"ENST00000269197.5\"\n",
    "Gene2Trans[\"CHD8\"]=\"ENST00000399982.2\"\n",
    "Gene2Trans[\"DYRK1A\"]=\"ENST00000339659.4\"\n",
    "Gene2Trans[\"CHD2\"]=\"ENST00000394196.4\"\n",
    "Gene2Trans[\"SCN2A\"]=\"ENST00000357398.3\"\n",
    "Gene2Trans[\"FOXP1\"]=\"ENST00000318789.4\"\n",
    "Gene2Trans[\"HIVEP2\"]=\"ENST00000367603.2\"\n",
    "Gene2Trans[\"PPP2R5D\"]=\"ENST00000485511.1\"\n",
    "Gene2Trans[\"HIVEP2\"]=\"ENST00000367603.2\"\n",
    "Gene2Trans[\"SYNGAP1\"]=\"ENST00000418600.2\"\n",
    "Gene2Trans[\"STXBP1\"]=\"ENST00000373302.3\"\n",
    "Gene2Trans[\"PACS1\"]=\"ENST00000320580.4\"\n",
    "Gene2Trans[\"MED13L\"]=\"ENST00000281928.3\"\n",
    "Gene2Trans[\"CHAMP1\"]=\"ENST00000361283.1\"\n",
    "Gene2Trans[\"SETBP1\"]=\"ENST00000282030.5\"\n",
    "Gene2Trans[\"CSNK2A1\"]=\"ENST00000217244.3\"\n",
    "Gene2Trans[\"ADNP\"]=\"ENST00000396029.3\"\n",
    "Gene2Trans[\"DSCAM\"]=\"ENST00000400454.1\"\n",
    "Gene2Trans[\"HNRNPH2\"]=\"ENST00000400454.1\"\n",
    "Gene2Trans[\"GRIN2B\"]=\"ENST00000609686.1\"\n",
    "print (Gene2Trans)\n",
    "selectedTrans = []\n",
    "for k,v in Gene2Trans.items():\n",
    "    selectedTrans.append(v)\n",
    "print(selectedTrans)"
   ]
  },
  {
   "cell_type": "code",
   "execution_count": 824,
   "metadata": {},
   "outputs": [],
   "source": [
    "Genes = {}\n",
    "hand = open(\"unifiedmodel/VIPgenes.gencode.v19.gtf\", 'rt')\n",
    "for l in hand:\n",
    "    if l.startswith(\"#\"):\n",
    "        continue\n",
    "    llist = l.strip().split(\"\\t\")\n",
    "    info = gtf_info_parser(llist[8]) \n",
    "    CHR = llist[0].lstrip(\"chr\")\n",
    "    strand = llist[6]\n",
    "    start = int(llist[3])\n",
    "    end = int(llist[4])\n",
    "    if llist[2] == \"gene\":\n",
    "        gene_name = info[\"gene_name\"]\n",
    "        gene_id = info[\"gene_id\"]\n",
    "        Genes[gene_name] = GTFGene(gene_name, gene_id, strand)\n",
    "    elif llist[2] == \"transcript\":\n",
    "        gene_name = info[\"gene_name\"]\n",
    "        gene_id = info[\"gene_id\"]\n",
    "        transcript_name = info[\"transcript_id\"]\n",
    "        transcript_id = info[\"transcript_id\"]\n",
    "        transcript_type = info[\"transcript_type\"]\n",
    "        if transcript_id not in Genes[gene_name].Transcripts and transcript_type==\"protein_coding\" and transcript_id in selectedTrans:\n",
    "            Genes[gene_name].Transcripts[transcript_id] = GTFTranscript(gene_name, transcript_name, transcript_id, strand)\n",
    "    elif llist[2] == \"exon\":\n",
    "        gene_name = info[\"gene_name\"]\n",
    "        gene_id = info[\"gene_id\"]\n",
    "        exon_id = info[\"exon_id\"]\n",
    "        transcript_name = info[\"transcript_id\"]\n",
    "        transcript_id = info[\"transcript_id\"]\n",
    "        transcript_type = info[\"transcript_type\"]\n",
    "        if transcript_type==\"protein_coding\" and transcript_id in selectedTrans:\n",
    "            exon= GTFExon(exon_id, start, end, transcript_id, strand)\n",
    "            #Genes[gene_name].Transcripts[transcript_id].Exons.append(exon)\n",
    "            Genes[gene_name].Transcripts[transcript_id].Exons[exon_id] = exon\n",
    "            "
   ]
  },
  {
   "cell_type": "code",
   "execution_count": 825,
   "metadata": {},
   "outputs": [
    {
     "data": {
      "text/html": [
       "<div>\n",
       "<style scoped>\n",
       "    .dataframe tbody tr th:only-of-type {\n",
       "        vertical-align: middle;\n",
       "    }\n",
       "\n",
       "    .dataframe tbody tr th {\n",
       "        vertical-align: top;\n",
       "    }\n",
       "\n",
       "    .dataframe thead th {\n",
       "        text-align: right;\n",
       "    }\n",
       "</style>\n",
       "<table border=\"1\" class=\"dataframe\">\n",
       "  <thead>\n",
       "    <tr style=\"text-align: right;\">\n",
       "      <th></th>\n",
       "      <th>column_num</th>\n",
       "      <th>donor_id</th>\n",
       "      <th>donor_name</th>\n",
       "      <th>age</th>\n",
       "      <th>gender</th>\n",
       "      <th>structure_id</th>\n",
       "      <th>structure_acronym</th>\n",
       "      <th>structure_name</th>\n",
       "    </tr>\n",
       "  </thead>\n",
       "  <tbody>\n",
       "    <tr>\n",
       "      <th>0</th>\n",
       "      <td>1</td>\n",
       "      <td>13058</td>\n",
       "      <td>H376.IIA.51</td>\n",
       "      <td>8 pcw</td>\n",
       "      <td>M</td>\n",
       "      <td>10665</td>\n",
       "      <td>URL</td>\n",
       "      <td>upper (rostral) rhombic lip</td>\n",
       "    </tr>\n",
       "    <tr>\n",
       "      <th>1</th>\n",
       "      <td>2</td>\n",
       "      <td>13058</td>\n",
       "      <td>H376.IIA.51</td>\n",
       "      <td>8 pcw</td>\n",
       "      <td>M</td>\n",
       "      <td>10194</td>\n",
       "      <td>OFC</td>\n",
       "      <td>orbital frontal cortex</td>\n",
       "    </tr>\n",
       "  </tbody>\n",
       "</table>\n",
       "</div>"
      ],
      "text/plain": [
       "   column_num  donor_id   donor_name    age gender  structure_id  \\\n",
       "0           1     13058  H376.IIA.51  8 pcw      M         10665   \n",
       "1           2     13058  H376.IIA.51  8 pcw      M         10194   \n",
       "\n",
       "  structure_acronym               structure_name  \n",
       "0               URL  upper (rostral) rhombic lip  \n",
       "1               OFC       orbital frontal cortex  "
      ]
     },
     "metadata": {},
     "output_type": "display_data"
    },
    {
     "data": {
      "text/html": [
       "<div>\n",
       "<style scoped>\n",
       "    .dataframe tbody tr th:only-of-type {\n",
       "        vertical-align: middle;\n",
       "    }\n",
       "\n",
       "    .dataframe tbody tr th {\n",
       "        vertical-align: top;\n",
       "    }\n",
       "\n",
       "    .dataframe thead th {\n",
       "        text-align: right;\n",
       "    }\n",
       "</style>\n",
       "<table border=\"1\" class=\"dataframe\">\n",
       "  <thead>\n",
       "    <tr style=\"text-align: right;\">\n",
       "      <th></th>\n",
       "      <th>row_num</th>\n",
       "      <th>gene_id</th>\n",
       "      <th>ensembl_gene_id</th>\n",
       "      <th>gene_symbol</th>\n",
       "      <th>entrez_id</th>\n",
       "      <th>start</th>\n",
       "      <th>end</th>\n",
       "    </tr>\n",
       "  </thead>\n",
       "  <tbody>\n",
       "    <tr>\n",
       "      <th>0</th>\n",
       "      <td>1</td>\n",
       "      <td>1086864</td>\n",
       "      <td>ENSG00000000003</td>\n",
       "      <td>TSPAN6</td>\n",
       "      <td>7105.0</td>\n",
       "      <td>99883666</td>\n",
       "      <td>99884983</td>\n",
       "    </tr>\n",
       "    <tr>\n",
       "      <th>1</th>\n",
       "      <td>2</td>\n",
       "      <td>1086864</td>\n",
       "      <td>ENSG00000000003</td>\n",
       "      <td>TSPAN6</td>\n",
       "      <td>7105.0</td>\n",
       "      <td>99885755</td>\n",
       "      <td>99885863</td>\n",
       "    </tr>\n",
       "  </tbody>\n",
       "</table>\n",
       "</div>"
      ],
      "text/plain": [
       "   row_num  gene_id  ensembl_gene_id gene_symbol  entrez_id     start  \\\n",
       "0        1  1086864  ENSG00000000003      TSPAN6     7105.0  99883666   \n",
       "1        2  1086864  ENSG00000000003      TSPAN6     7105.0  99885755   \n",
       "\n",
       "        end  \n",
       "0  99884983  \n",
       "1  99885863  "
      ]
     },
     "metadata": {},
     "output_type": "display_data"
    }
   ],
   "source": [
    "exon_exp_col = pd.read_csv(\n",
    "    \"/Users/jiayao/Work/BrainDisorders/data/expression/brainspan/exons_matrix/columns_metadata.csv\")\n",
    "exon_exp_row = pd.read_csv(\n",
    "    \"/Users/jiayao/Work/BrainDisorders/data/expression/brainspan/exons_matrix/rows_metadata.csv\")\n",
    "cds_dict = loaddict()\n",
    "display(exon_exp_col.head(2))\n",
    "display(exon_exp_row.head(2))"
   ]
  },
  {
   "cell_type": "code",
   "execution_count": 826,
   "metadata": {},
   "outputs": [],
   "source": [
    "def searchExon(Gene, Location, Genes):\n",
    "    Chr, interval = Location.split(\":\")\n",
    "    Start, End = interval.split(\"-\")\n",
    "    Pos, LenV = int(Start), int(End)-int(Start)\n",
    "    gene_obj = Genes[Gene]\n",
    "    _Exons, Transcripts = [],[]\n",
    "    #print(Location, Pos, LenV)\n",
    "    islej = \"F\"\n",
    "    for transid, transobj in gene_obj.Transcripts.items():\n",
    "        if transid not in selectedTrans:\n",
    "            continue\n",
    "        transobj.SortExons()\n",
    "        for exon in transobj.ExonSeq:\n",
    "            if Pos > exon.start -3 and Pos < exon.end +3:\n",
    "                _Exons.append(exon.ExonID)\n",
    "                Transcripts.append(transid)\n",
    "                break\n",
    "            elif LenV > 0:\n",
    "                if (Pos < exon.start-3 and Pos + LenV > exon.start ) or (Pos < exon.end and Pos + LenV > exon.end +3):\n",
    "                    _Exons.append(exon.ExonID)\n",
    "                    Transcripts.append(transid)\n",
    "                    break\n",
    "    for transid, transobj in gene_obj.Transcripts.items():\n",
    "        if len(transobj.Exons) >= 2:\n",
    "            interval1, interval2 = transobj.LastExonJunction()\n",
    "            if Gene==\"CHD2\":\n",
    "                print(interval1, interval2)\n",
    "            if (Pos > interval1[0] and Pos < interval1[1]):\n",
    "                islej = \"T\"\n",
    "            elif (Pos > interval2[0] and Pos < interval2[1]):\n",
    "                islej = \"T\"\n",
    "    if len(list(set(_Exons))) == 0:\n",
    "        return \"NA\", \"NA\", \"NA\"\n",
    "    else:\n",
    "        return list(set(_Exons))[0], list(set(Transcripts))[0], islej\n",
    "\n",
    "\n",
    "VABS[\"Exons\"] = \"\"\n",
    "VABS[\"Transcripts\"] = \"\"\n",
    "VABS = VABS[VABS[\"Cohort\"]==\"VIP\"]\n",
    "for i, row in VABS.iterrows():\n",
    "    famid, gene, location = row[\"sfari_id\"], row[\"genetic_status\"], row[\"location\"]\n",
    "    ExonIDs, TranscriptIDs, islej = searchExon(gene, location, Genes)\n",
    "    VABS.at[i, \"Exons\"] = ExonIDs\n",
    "    VABS.at[i, \"Transcripts\"] = TranscriptIDs\n",
    "    VABS.at[i, \"isLEJ\"] = islej"
   ]
  },
  {
   "cell_type": "code",
   "execution_count": 827,
   "metadata": {},
   "outputs": [
    {
     "data": {
      "text/html": [
       "<div>\n",
       "<style scoped>\n",
       "    .dataframe tbody tr th:only-of-type {\n",
       "        vertical-align: middle;\n",
       "    }\n",
       "\n",
       "    .dataframe tbody tr th {\n",
       "        vertical-align: top;\n",
       "    }\n",
       "\n",
       "    .dataframe thead th {\n",
       "        text-align: right;\n",
       "    }\n",
       "</style>\n",
       "<table border=\"1\" class=\"dataframe\">\n",
       "  <thead>\n",
       "    <tr style=\"text-align: right;\">\n",
       "      <th></th>\n",
       "      <th>Cohort</th>\n",
       "      <th>composite_standard_score</th>\n",
       "      <th>genetic_status</th>\n",
       "      <th>inheritance_status</th>\n",
       "      <th>location</th>\n",
       "      <th>sex</th>\n",
       "      <th>sfari_id</th>\n",
       "      <th>Exons</th>\n",
       "      <th>Transcripts</th>\n",
       "      <th>isLEJ</th>\n",
       "    </tr>\n",
       "  </thead>\n",
       "  <tbody>\n",
       "    <tr>\n",
       "      <th>65</th>\n",
       "      <td>VIP</td>\n",
       "      <td>75.0</td>\n",
       "      <td>ASXL3</td>\n",
       "      <td>de-novo</td>\n",
       "      <td>18:31323776-31323776</td>\n",
       "      <td>M</td>\n",
       "      <td>15710-x1</td>\n",
       "      <td>ENSE00000948514.2</td>\n",
       "      <td>ENST00000269197.5</td>\n",
       "      <td>T</td>\n",
       "    </tr>\n",
       "    <tr>\n",
       "      <th>66</th>\n",
       "      <td>VIP</td>\n",
       "      <td>37.0</td>\n",
       "      <td>ASXL3</td>\n",
       "      <td>de-novo</td>\n",
       "      <td>18:31319345-31319349</td>\n",
       "      <td>F</td>\n",
       "      <td>16159-x1</td>\n",
       "      <td>ENSE00003631966.1</td>\n",
       "      <td>ENST00000269197.5</td>\n",
       "      <td>F</td>\n",
       "    </tr>\n",
       "  </tbody>\n",
       "</table>\n",
       "</div>"
      ],
      "text/plain": [
       "   Cohort  composite_standard_score genetic_status inheritance_status  \\\n",
       "65    VIP                      75.0          ASXL3            de-novo   \n",
       "66    VIP                      37.0          ASXL3            de-novo   \n",
       "\n",
       "                location sex  sfari_id              Exons        Transcripts  \\\n",
       "65  18:31323776-31323776   M  15710-x1  ENSE00000948514.2  ENST00000269197.5   \n",
       "66  18:31319345-31319349   F  16159-x1  ENSE00003631966.1  ENST00000269197.5   \n",
       "\n",
       "   isLEJ  \n",
       "65     T  \n",
       "66     F  "
      ]
     },
     "execution_count": 827,
     "metadata": {},
     "output_type": "execute_result"
    }
   ],
   "source": [
    "VABS2 = VABS[VABS[\"isLEJ\"]==\"T\"]\n",
    "VABS.head(2)\n",
    "#VABS2"
   ]
  },
  {
   "cell_type": "code",
   "execution_count": 868,
   "metadata": {},
   "outputs": [
    {
     "name": "stdout",
     "output_type": "stream",
     "text": [
      "(11, 16)\n",
      "(7, 16)\n"
     ]
    }
   ],
   "source": [
    "ASXL3 = DF[DF[\"genetic_status\"]==\"ASXL3\"]\n",
    "print(ASXL3[ASXL3[\"Exons\"]==\"ENSE00000948514\"].shape)\n",
    "print(ASXL3[ASXL3[\"Exons\"]==\"ENSE00003631966\"].shape)"
   ]
  },
  {
   "cell_type": "code",
   "execution_count": 869,
   "metadata": {},
   "outputs": [
    {
     "data": {
      "text/plain": [
       "77"
      ]
     },
     "execution_count": 869,
     "metadata": {},
     "output_type": "execute_result"
    }
   ],
   "source": [
    "7*11"
   ]
  },
  {
   "cell_type": "code",
   "execution_count": 985,
   "metadata": {},
   "outputs": [],
   "source": [
    "res = {}\n",
    "VABS2 = VABS[~VABS[\"sfari_id\"].isin([\"16159-x1\", \"16171-x1\"])]\n",
    "for gene in RecGenes:\n",
    "    res[gene] = {}\n",
    "    res[gene][\"SameExon\"] = []\n",
    "    res[gene][\"SameExonSameGender\"] = []\n",
    "    res[gene][\"DiffExon\"] = []\n",
    "    #df = VABS2[VABS2[\"genetic_status\"]==gene]\n",
    "    df = DFF[DFF[\"genetic_status\"]==gene]\n",
    "    \n",
    "    for row1, row2 in itertools.combinations(df.iterrows(), r=2):\n",
    "        row1,row2 = row1[1], row2[1]\n",
    "        score1 = row1[\"composite_standard_score\"]\n",
    "        score2 = row2[\"composite_standard_score\"]\n",
    "        if row1[\"Exons\"] == row2[\"Exons\"]:\n",
    "            if row1[\"isLEJ\"] == \"T\" or row2[\"isLEJ\"] == \"T\":\n",
    "                continue\n",
    "            res[gene][\"SameExon\"].append( abs(score1-score2) )\n",
    "            if row1[\"sex\"] == row2[\"sex\"]:\n",
    "                res[gene][\"SameExonSameGender\"].append( abs(score1-score2) )\n",
    "        else:\n",
    "            res[gene][\"DiffExon\"].append( abs(score1-score2) )"
   ]
  },
  {
   "cell_type": "code",
   "execution_count": 989,
   "metadata": {},
   "outputs": [
    {
     "name": "stdout",
     "output_type": "stream",
     "text": [
      "    SameExonVABSDiff\t       NSameExonPair\tSameExonSameGenderVABSDiff\tNSameExonSameGenderPair\tSameGeneVABSDiff\tNSameGenePair\t\n",
      "CHD2\t2.00\t1\t2.00\t1\t18.00\t2\n",
      "CHD8\t11.00\t1\tnan\t0\t12.75\t20\n",
      "DYRK1A\t12.33\t6\t13.33\t3\t17.23\t22\n",
      "HIVEP2\t5.67\t3\t8.50\t1\t13.17\t3\n",
      "SCN2A\t10.95\t7\t6.75\t4\t13.81\t113\n",
      "[2.0, 11.0, 12.333333333333334, 5.666666666666667, 10.95238095238095] [18.0, 12.75, 17.227272727272727, 13.166666666666666, 13.811209439528024]\n",
      "WilcoxonResult(statistic=0.0, pvalue=0.043114446783075355)\n",
      "WilcoxonResult(statistic=0.0, pvalue=0.06788915486182899)\n",
      "['ASXL3', 'DSCAM', 'FOXP1', 'ADNP', 'CHAMP1', 'CSNK2A1', 'GRIN2B', 'HNRNPH2', 'MED13L', 'PACS1', 'PPP2R5D', 'SETBP1', 'STXBP1', 'SYNGAP1']\n"
     ]
    },
    {
     "name": "stderr",
     "output_type": "stream",
     "text": [
      "/Users/jiayao/anaconda3/lib/python3.7/site-packages/numpy/core/fromnumeric.py:2920: RuntimeWarning: Mean of empty slice.\n",
      "  out=out, **kwargs)\n",
      "/Users/jiayao/anaconda3/lib/python3.7/site-packages/numpy/core/_methods.py:85: RuntimeWarning: invalid value encountered in double_scalars\n",
      "  ret = ret.dtype.type(ret / rcount)\n",
      "/Users/jiayao/anaconda3/lib/python3.7/site-packages/scipy/stats/morestats.py:2388: UserWarning: Warning: sample size too small for normal approximation.\n",
      "  warnings.warn(\"Warning: sample size too small for normal approximation.\")\n",
      "/Users/jiayao/anaconda3/lib/python3.7/site-packages/scipy/stats/morestats.py:2388: UserWarning: Warning: sample size too small for normal approximation.\n",
      "  warnings.warn(\"Warning: sample size too small for normal approximation.\")\n"
     ]
    }
   ],
   "source": [
    "SameExonMeans, DiffExonMeans, SameExonSameGenderMeans, DiffExonMeans2 = [],[],[],[]\n",
    "print(\"%20s\\t%20s\\t%s\\t%s\\t%s\\t%s\\t\"%(\"SameExonVABSDiff\", \"NSameExonPair\",\"SameExonSameGenderVABSDiff\",\n",
    "                                            \"NSameExonSameGenderPair\",\"SameGeneVABSDiff\", \"NSameGenePair\"))\n",
    "ExcludedGene = []\n",
    "for gene in RecGenes:\n",
    "    #if gene==\"FOXP1\":\n",
    "    #    continue\n",
    "    SameExon = res[gene][\"SameExon\"]\n",
    "    SameExonSameGender = res[gene][\"SameExonSameGender\"]\n",
    "    DiffExon = res[gene][\"DiffExon\"]\n",
    "    if len(SameExon) == 0 or len(DiffExon) == 0:\n",
    "        ExcludedGene.append(gene)\n",
    "        continue\n",
    "    SameExonMeans.append(np.mean(SameExon))\n",
    "    DiffExonMeans.append(np.mean(DiffExon))\n",
    "    if len(SameExonSameGender) != 0:\n",
    "        SameExonSameGenderMeans.append(np.mean(SameExonSameGender))\n",
    "        DiffExonMeans2.append(np.mean(DiffExon))\n",
    "    print(\"%s\\t%.2f\\t%d\\t%.2f\\t%d\\t%.2f\\t%d\"%(gene, np.mean(SameExon), len(SameExon), np.mean(SameExonSameGender), \n",
    "                                    len(SameExonSameGender), np.mean(DiffExon), len(DiffExon)))\n",
    "print(SameExonMeans, DiffExonMeans)\n",
    "print(scipy.stats.wilcoxon(SameExonMeans, DiffExonMeans))\n",
    "print(scipy.stats.wilcoxon(SameExonSameGenderMeans, DiffExonMeans2))\n",
    "print(ExcludedGene)"
   ]
  },
  {
   "cell_type": "code",
   "execution_count": 987,
   "metadata": {},
   "outputs": [
    {
     "name": "stdout",
     "output_type": "stream",
     "text": [
      "MannwhitneyuResult(statistic=320.5, pvalue=0.20198804819876492)\n",
      "MannwhitneyuResult(statistic=0.0, pvalue=0.0)\n",
      "MannwhitneyuResult(statistic=53.0, pvalue=0.24077074348902505)\n",
      "MannwhitneyuResult(statistic=0.0, pvalue=0.04042779918502612)\n"
     ]
    },
    {
     "name": "stderr",
     "output_type": "stream",
     "text": [
      "/Users/jiayao/anaconda3/lib/python3.7/site-packages/scipy/stats/stats.py:4911: RuntimeWarning: divide by zero encountered in double_scalars\n",
      "  z = (bigu - meanrank) / sd\n"
     ]
    }
   ],
   "source": [
    "print(scipy.stats.mannwhitneyu(res[\"SCN2A\"][\"SameExon\"], res[\"SCN2A\"][\"DiffExon\"]))\n",
    "print(scipy.stats.mannwhitneyu(res[\"ASXL3\"][\"SameExon\"], res[\"ASXL3\"][\"DiffExon\"]))\n",
    "print(scipy.stats.mannwhitneyu(res[\"DYRK1A\"][\"SameExon\"], res[\"DYRK1A\"][\"DiffExon\"]))\n",
    "print(scipy.stats.mannwhitneyu(res[\"HIVEP2\"][\"SameExon\"], res[\"HIVEP2\"][\"DiffExon\"]))"
   ]
  },
  {
   "cell_type": "code",
   "execution_count": 600,
   "metadata": {},
   "outputs": [
    {
     "data": {
      "text/html": [
       "<div>\n",
       "<style scoped>\n",
       "    .dataframe tbody tr th:only-of-type {\n",
       "        vertical-align: middle;\n",
       "    }\n",
       "\n",
       "    .dataframe tbody tr th {\n",
       "        vertical-align: top;\n",
       "    }\n",
       "\n",
       "    .dataframe thead th {\n",
       "        text-align: right;\n",
       "    }\n",
       "</style>\n",
       "<table border=\"1\" class=\"dataframe\">\n",
       "  <thead>\n",
       "    <tr style=\"text-align: right;\">\n",
       "      <th></th>\n",
       "      <th>sfari_id</th>\n",
       "      <th>sex</th>\n",
       "      <th>genetic_status</th>\n",
       "      <th>inheritance_status</th>\n",
       "      <th>composite_standard_score</th>\n",
       "      <th>location</th>\n",
       "      <th>Exons</th>\n",
       "      <th>Transcripts</th>\n",
       "      <th>isLEJ</th>\n",
       "    </tr>\n",
       "  </thead>\n",
       "  <tbody>\n",
       "    <tr>\n",
       "      <th>2</th>\n",
       "      <td>13618</td>\n",
       "      <td>F</td>\n",
       "      <td>CHD2</td>\n",
       "      <td>de-novo</td>\n",
       "      <td>57.0</td>\n",
       "      <td>15:93524060-93524064</td>\n",
       "      <td>ENSE00001097780.1</td>\n",
       "      <td>ENST00000394196.4</td>\n",
       "      <td>F</td>\n",
       "    </tr>\n",
       "    <tr>\n",
       "      <th>3</th>\n",
       "      <td>13614</td>\n",
       "      <td>M</td>\n",
       "      <td>CHD2</td>\n",
       "      <td>de-novo</td>\n",
       "      <td>74.0</td>\n",
       "      <td>15:93563244-93563244</td>\n",
       "      <td>ENSE00001517730.1</td>\n",
       "      <td>ENST00000394196.4</td>\n",
       "      <td>T</td>\n",
       "    </tr>\n",
       "    <tr>\n",
       "      <th>4</th>\n",
       "      <td>13818</td>\n",
       "      <td>M</td>\n",
       "      <td>CHD2</td>\n",
       "      <td>de-novo</td>\n",
       "      <td>76.0</td>\n",
       "      <td>15:93563282-93563282</td>\n",
       "      <td>ENSE00001517730.1</td>\n",
       "      <td>ENST00000394196.4</td>\n",
       "      <td>T</td>\n",
       "    </tr>\n",
       "  </tbody>\n",
       "</table>\n",
       "</div>"
      ],
      "text/plain": [
       "  sfari_id sex genetic_status inheritance_status  composite_standard_score  \\\n",
       "2    13618   F           CHD2            de-novo                      57.0   \n",
       "3    13614   M           CHD2            de-novo                      74.0   \n",
       "4    13818   M           CHD2            de-novo                      76.0   \n",
       "\n",
       "               location              Exons        Transcripts isLEJ  \n",
       "2  15:93524060-93524064  ENSE00001097780.1  ENST00000394196.4     F  \n",
       "3  15:93563244-93563244  ENSE00001517730.1  ENST00000394196.4     T  \n",
       "4  15:93563282-93563282  ENSE00001517730.1  ENST00000394196.4     T  "
      ]
     },
     "execution_count": 600,
     "metadata": {},
     "output_type": "execute_result"
    }
   ],
   "source": [
    "VABS[VABS[\"genetic_status\"]==\"CHD2\"]"
   ]
  },
  {
   "cell_type": "code",
   "execution_count": 673,
   "metadata": {},
   "outputs": [],
   "source": [
    "SameExon = []\n",
    "SameExonSameGender = []\n",
    "SameGene = []\n",
    "ALLPairs = []\n",
    "Test = VABS[VABS[\"genetic_status\"]!=\"ASXL3\"]\n",
    "for row1, row2 in itertools.combinations(Test.iterrows(), r=2):\n",
    "    row1,row2 = row1[1], row2[1]\n",
    "    score1 = row1[\"composite_standard_score\"]\n",
    "    score2 = row2[\"composite_standard_score\"]\n",
    "    diff = abs(score1-score2)\n",
    "    ALLPairs.append(diff)\n",
    "    if row1[\"genetic_status\"] == row2[\"genetic_status\"]:\n",
    "        SameGene.append(diff)\n",
    "        if row1[\"Exons\"] == row2[\"Exons\"]:\n",
    "            if row1[\"isLEJ\"] == \"T\" or row2[\"isLEJ\"] == \"T\":\n",
    "                continue\n",
    "            SameExon.append(diff)\n",
    "            if row1[\"sex\"] == row2[\"sex\"]:\n",
    "                SameExonSameGender.append(diff)"
   ]
  },
  {
   "cell_type": "code",
   "execution_count": 674,
   "metadata": {},
   "outputs": [],
   "source": [
    "Seq = [SameExonSameGender, SameExon, SameGene, ALLPairs]\n",
    "Dat = [np.mean(x) for x in Seq]\n",
    "Err = [np.std(x)/math.sqrt(len(x)) for x in Seq]"
   ]
  },
  {
   "cell_type": "code",
   "execution_count": 675,
   "metadata": {},
   "outputs": [
    {
     "data": {
      "text/plain": [
       "MannwhitneyuResult(statistic=769.5, pvalue=0.02705719185440645)"
      ]
     },
     "execution_count": 675,
     "metadata": {},
     "output_type": "execute_result"
    }
   ],
   "source": []
  },
  {
   "cell_type": "code",
   "execution_count": 676,
   "metadata": {},
   "outputs": [
    {
     "data": {
      "image/png": "[encoded data removed]",
      "text/plain": [
       "<Figure size 480x320 with 1 Axes>"
      ]
     },
     "metadata": {
      "needs_background": "light"
     },
     "output_type": "display_data"
    }
   ],
   "source": [
    "scipy.stats.mannwhitneyu(SameExon, SameGene)\n",
    "ind = np.arange(4)  # the x locations for the groups\n",
    "width = 0.35  # the width of the bars\n",
    "fig, ax = plt.subplots(dpi=80)\n",
    "rects = ax.bar(ind, Dat, width, yerr=Err,)\n",
    "ax.set_ylabel('')\n",
    "ax.set_title('')\n",
    "ax.set_xticks(ind)\n",
    "ax.set_xticklabels([\"SameExonGender\", \"SameExon\", \"SameGene\", \"AllPairs\"])\n",
    "fig.tight_layout()\n",
    "plt.xticks(rotation=0)\n",
    "plt.show()"
   ]
  },
  {
   "cell_type": "code",
   "execution_count": 849,
   "metadata": {},
   "outputs": [],
   "source": [
    "# Combine The two\n",
    "GTFTree4SSC = LoadGTF(\"unifiedmodel/RecLGDgenes.gencode.v19.gtf\")\n",
    "GTFTree4VIP = LoadGTF(\"unifiedmodel/VIPgenes.gencode.v19.gtf\")\n",
    "GTFTree = {}\n",
    "for gene, geneobj in GTFTree4SSC.items():\n",
    "    GTFTree[gene] = geneobj\n",
    "for gene, geneobj in GTFTree4VIP.items():\n",
    "    if gene not in GTFTree:\n",
    "        GTFTree[gene] = geneobj"
   ]
  },
  {
   "cell_type": "code",
   "execution_count": 850,
   "metadata": {},
   "outputs": [
    {
     "data": {
      "text/html": [
       "<div>\n",
       "<style scoped>\n",
       "    .dataframe tbody tr th:only-of-type {\n",
       "        vertical-align: middle;\n",
       "    }\n",
       "\n",
       "    .dataframe tbody tr th {\n",
       "        vertical-align: top;\n",
       "    }\n",
       "\n",
       "    .dataframe thead th {\n",
       "        text-align: right;\n",
       "    }\n",
       "</style>\n",
       "<table border=\"1\" class=\"dataframe\">\n",
       "  <thead>\n",
       "    <tr style=\"text-align: right;\">\n",
       "      <th></th>\n",
       "      <th>Cohort</th>\n",
       "      <th>composite_standard_score</th>\n",
       "      <th>genetic_status</th>\n",
       "      <th>inheritance_status</th>\n",
       "      <th>location</th>\n",
       "      <th>sex</th>\n",
       "      <th>sfari_id</th>\n",
       "    </tr>\n",
       "  </thead>\n",
       "  <tbody>\n",
       "    <tr>\n",
       "      <th>0</th>\n",
       "      <td>SSC</td>\n",
       "      <td>53.0</td>\n",
       "      <td>ADNP</td>\n",
       "      <td>de-novo</td>\n",
       "      <td>20:49509094-49509094</td>\n",
       "      <td>M</td>\n",
       "      <td>13545.0</td>\n",
       "    </tr>\n",
       "    <tr>\n",
       "      <th>1</th>\n",
       "      <td>SSC</td>\n",
       "      <td>67.0</td>\n",
       "      <td>ADNP</td>\n",
       "      <td>de-novo</td>\n",
       "      <td>20:49510027-49510029</td>\n",
       "      <td>F</td>\n",
       "      <td>12130.0</td>\n",
       "    </tr>\n",
       "  </tbody>\n",
       "</table>\n",
       "</div>"
      ],
      "text/plain": [
       "  Cohort  composite_standard_score genetic_status inheritance_status  \\\n",
       "0    SSC                      53.0           ADNP            de-novo   \n",
       "1    SSC                      67.0           ADNP            de-novo   \n",
       "\n",
       "               location sex sfari_id  \n",
       "0  20:49509094-49509094   M  13545.0  \n",
       "1  20:49510027-49510029   F  12130.0  "
      ]
     },
     "metadata": {},
     "output_type": "display_data"
    }
   ],
   "source": [
    "# Annotate each variant with a transcript\n",
    "DF = pd.read_csv(\"unifiedmodel/SSC_VIP_VABS_RecLGD.csv\")\n",
    "DF.loc[DF[\"genetic_status\"]==\"MLL5\", \"genetic_status\"] = \"KMT2E\" \n",
    "xxx = pd.read_csv(\"unifiedmodel/peptide-position-jy.csv\")\n",
    "xxx.loc[xxx[\"effectGene\"]==\"MLL5\", \"effectGene\"] = \"KMT2E\" \n",
    "Gene2Trans2 = dict(zip(xxx[\"effectGene\"].values, xxx[\"Transcript\"].values))\n",
    "display(DF.head(2))\n",
    "Gene2Trans\n",
    "Gene2Trans2\n",
    "for i, row in DF.iterrows():\n",
    "    if row[\"genetic_status\"] in Gene2Trans:\n",
    "        transcript = Gene2Trans[row[\"genetic_status\"]]\n",
    "    else:\n",
    "        transcript = Gene2Trans2[row[\"genetic_status\"]]\n",
    "    DF.loc[i, \"Transcript\"] = transcript.split(\".\")[0]"
   ]
  },
  {
   "cell_type": "code",
   "execution_count": 851,
   "metadata": {},
   "outputs": [],
   "source": [
    "for i, row in DF.iterrows():\n",
    "    #Chr, Pos, Ref, Alt = row[\"vcfVariant\"].split(\":\")\n",
    "    Chr, Pos = row[\"location\"].split(\":\")\n",
    "    Pos = int(Pos.split(\"-\")[0])\n",
    "    gene = row[\"genetic_status\"]\n",
    "    geneobj = GTFTree[gene]\n",
    "    transobj = geneobj.Transcripts[row[\"Transcript\"]]\n",
    "    transobj.SortExons()\n",
    "    varPos, TotalLength = searchAAPos(Pos, transobj)\n",
    "    if varPos != \"NA\":\n",
    "        DF.loc[i, \"ProteinPos\"] = str(int(varPos/3))\n",
    "    else:\n",
    "        DF.loc[i, \"ProteinPos\"] = str(\"NA\")"
   ]
  },
  {
   "cell_type": "code",
   "execution_count": 852,
   "metadata": {},
   "outputs": [],
   "source": [
    "DF = DF[DF[\"ProteinPos\"]!=\"NA\"]\n",
    "GeneCount = DF.groupby(\"genetic_status\")[\"genetic_status\"].count()\n",
    "DF[\"GeneCount\"] = DF.apply(lambda row: GeneCount[row[\"genetic_status\"]], axis=1)\n",
    "DF = DF[DF[\"GeneCount\"]>=2]"
   ]
  },
  {
   "cell_type": "code",
   "execution_count": 853,
   "metadata": {},
   "outputs": [],
   "source": [
    "def searchExon(Gene, Location, GTFTree, Transcript):\n",
    "    Chr, interval = Location.split(\":\")\n",
    "    Start, End = interval.split(\"-\")\n",
    "    Pos, LenV = int(Start), int(End)-int(Start)\n",
    "    gene_obj = GTFTree[Gene]\n",
    "    _Exons = []\n",
    "    #print(Location, Pos, LenV)\n",
    "    islej = \"F\"\n",
    "    transobj = gene_obj.Transcripts[Transcript]\n",
    "    transobj.SortExons()\n",
    "    for exon in transobj.ExonSeq:\n",
    "        if Pos > exon.start -3 and Pos < exon.end +3:\n",
    "            _Exons.append(exon.ExonID)\n",
    "            break\n",
    "        elif LenV > 0:\n",
    "            if (Pos < exon.start-3 and Pos + LenV > exon.start ) or (Pos < exon.end and Pos + LenV > exon.end +3):\n",
    "                _Exons.append(exon.ExonID)\n",
    "                break\n",
    "    if len(transobj.Exons) >= 2:\n",
    "        interval1, interval2 = transobj.LastExonJunction()\n",
    "        if (Pos > interval1[0] and Pos < interval1[1]):\n",
    "            islej = \"T\"\n",
    "        elif (Pos > interval2[0] and Pos < interval2[1]):\n",
    "            islej = \"T\"\n",
    "    if len(list(set(_Exons))) == 0:\n",
    "        return \"NA\", \"NA\"\n",
    "    else:\n",
    "        return list(set(_Exons))[0], islej\n",
    "\n",
    "\n",
    "DF[\"Exons\"] = \"\"\n",
    "for i, row in DF.iterrows():\n",
    "    famid, gene, location = row[\"sfari_id\"], row[\"genetic_status\"], row[\"location\"]\n",
    "    ExonIDs, islej = searchExon(gene, location, GTFTree, row[\"Transcript\"])\n",
    "    DF.at[i, \"Exons\"] = ExonIDs\n",
    "    DF.at[i, \"isLEJ\"] = islej"
   ]
  },
  {
   "cell_type": "code",
   "execution_count": 854,
   "metadata": {},
   "outputs": [],
   "source": [
    "ExonCount = DF.groupby(\"Exons\")[\"Exons\"].count()\n",
    "DF[\"ExonCount\"] = DF.apply(lambda row: ExonCount[row[\"Exons\"]], axis=1)\n",
    "SameExon = DF[DF[\"ExonCount\"]>=2]"
   ]
  },
  {
   "cell_type": "code",
   "execution_count": 855,
   "metadata": {},
   "outputs": [],
   "source": [
    "DF[\"effectGene\"] = DF[\"genetic_status\"]\n",
    "DF[\"ExonID\"] = DF[\"Exons\"]\n",
    "DF[\"vcfVariant\"] = DF[\"location\"]"
   ]
  },
  {
   "cell_type": "code",
   "execution_count": 856,
   "metadata": {},
   "outputs": [],
   "source": [
    "DFF = DF[DF[\"isLEJ\"]==\"F\"]\n",
    "Test = DFF[~DFF[\"sfari_id\"].isin([\"16159-x1\", \"16171-x1\"])]"
   ]
  },
  {
   "cell_type": "code",
   "execution_count": 857,
   "metadata": {},
   "outputs": [
    {
     "data": {
      "text/html": [
       "<div>\n",
       "<style scoped>\n",
       "    .dataframe tbody tr th:only-of-type {\n",
       "        vertical-align: middle;\n",
       "    }\n",
       "\n",
       "    .dataframe tbody tr th {\n",
       "        vertical-align: top;\n",
       "    }\n",
       "\n",
       "    .dataframe thead th {\n",
       "        text-align: right;\n",
       "    }\n",
       "</style>\n",
       "<table border=\"1\" class=\"dataframe\">\n",
       "  <thead>\n",
       "    <tr style=\"text-align: right;\">\n",
       "      <th></th>\n",
       "      <th>Cohort</th>\n",
       "      <th>composite_standard_score</th>\n",
       "      <th>genetic_status</th>\n",
       "      <th>inheritance_status</th>\n",
       "      <th>location</th>\n",
       "      <th>sex</th>\n",
       "      <th>sfari_id</th>\n",
       "      <th>Transcript</th>\n",
       "      <th>ProteinPos</th>\n",
       "      <th>GeneCount</th>\n",
       "      <th>Exons</th>\n",
       "      <th>isLEJ</th>\n",
       "      <th>ExonCount</th>\n",
       "      <th>effectGene</th>\n",
       "      <th>ExonID</th>\n",
       "      <th>vcfVariant</th>\n",
       "    </tr>\n",
       "  </thead>\n",
       "  <tbody>\n",
       "    <tr>\n",
       "      <th>66</th>\n",
       "      <td>VIP</td>\n",
       "      <td>37.00</td>\n",
       "      <td>ASXL3</td>\n",
       "      <td>de-novo</td>\n",
       "      <td>18:31319345-31319349</td>\n",
       "      <td>F</td>\n",
       "      <td>16159-x1</td>\n",
       "      <td>ENST00000269197</td>\n",
       "      <td>655</td>\n",
       "      <td>18</td>\n",
       "      <td>ENSE00003631966</td>\n",
       "      <td>F</td>\n",
       "      <td>7</td>\n",
       "      <td>ASXL3</td>\n",
       "      <td>ENSE00003631966</td>\n",
       "      <td>18:31319345-31319349</td>\n",
       "    </tr>\n",
       "    <tr>\n",
       "      <th>67</th>\n",
       "      <td>VIP</td>\n",
       "      <td>32.00</td>\n",
       "      <td>ASXL3</td>\n",
       "      <td>de-novo</td>\n",
       "      <td>18:31318721-31318722</td>\n",
       "      <td>F</td>\n",
       "      <td>16171-x1</td>\n",
       "      <td>ENST00000269197</td>\n",
       "      <td>447</td>\n",
       "      <td>18</td>\n",
       "      <td>ENSE00003631966</td>\n",
       "      <td>F</td>\n",
       "      <td>7</td>\n",
       "      <td>ASXL3</td>\n",
       "      <td>ENSE00003631966</td>\n",
       "      <td>18:31318721-31318722</td>\n",
       "    </tr>\n",
       "    <tr>\n",
       "      <th>68</th>\n",
       "      <td>VIP</td>\n",
       "      <td>57.00</td>\n",
       "      <td>ASXL3</td>\n",
       "      <td>de-novo</td>\n",
       "      <td>18:31318559-31318563</td>\n",
       "      <td>F</td>\n",
       "      <td>16179-x1</td>\n",
       "      <td>ENST00000269197</td>\n",
       "      <td>393</td>\n",
       "      <td>18</td>\n",
       "      <td>ENSE00003631966</td>\n",
       "      <td>F</td>\n",
       "      <td>7</td>\n",
       "      <td>ASXL3</td>\n",
       "      <td>ENSE00003631966</td>\n",
       "      <td>18:31318559-31318563</td>\n",
       "    </tr>\n",
       "    <tr>\n",
       "      <th>70</th>\n",
       "      <td>VIP</td>\n",
       "      <td>49.00</td>\n",
       "      <td>ASXL3</td>\n",
       "      <td>de-novo</td>\n",
       "      <td>18:31318839-31318839</td>\n",
       "      <td>M</td>\n",
       "      <td>16188-x1</td>\n",
       "      <td>ENST00000269197</td>\n",
       "      <td>486</td>\n",
       "      <td>18</td>\n",
       "      <td>ENSE00003631966</td>\n",
       "      <td>F</td>\n",
       "      <td>7</td>\n",
       "      <td>ASXL3</td>\n",
       "      <td>ENSE00003631966</td>\n",
       "      <td>18:31318839-31318839</td>\n",
       "    </tr>\n",
       "    <tr>\n",
       "      <th>75</th>\n",
       "      <td>VIP</td>\n",
       "      <td>59.25</td>\n",
       "      <td>ASXL3</td>\n",
       "      <td>de-novo</td>\n",
       "      <td>18:31319345-31319349</td>\n",
       "      <td>F</td>\n",
       "      <td>15215-x1</td>\n",
       "      <td>ENST00000269197</td>\n",
       "      <td>655</td>\n",
       "      <td>18</td>\n",
       "      <td>ENSE00003631966</td>\n",
       "      <td>F</td>\n",
       "      <td>7</td>\n",
       "      <td>ASXL3</td>\n",
       "      <td>ENSE00003631966</td>\n",
       "      <td>18:31319345-31319349</td>\n",
       "    </tr>\n",
       "    <tr>\n",
       "      <th>76</th>\n",
       "      <td>VIP</td>\n",
       "      <td>55.00</td>\n",
       "      <td>ASXL3</td>\n",
       "      <td>de-novo</td>\n",
       "      <td>18:31318846-31318848</td>\n",
       "      <td>F</td>\n",
       "      <td>15234-x1</td>\n",
       "      <td>ENST00000269197</td>\n",
       "      <td>489</td>\n",
       "      <td>18</td>\n",
       "      <td>ENSE00003631966</td>\n",
       "      <td>F</td>\n",
       "      <td>7</td>\n",
       "      <td>ASXL3</td>\n",
       "      <td>ENSE00003631966</td>\n",
       "      <td>18:31318846-31318848</td>\n",
       "    </tr>\n",
       "    <tr>\n",
       "      <th>77</th>\n",
       "      <td>VIP</td>\n",
       "      <td>64.00</td>\n",
       "      <td>ASXL3</td>\n",
       "      <td>de-novo</td>\n",
       "      <td>18:31319307-31319307</td>\n",
       "      <td>F</td>\n",
       "      <td>15452-x1</td>\n",
       "      <td>ENST00000269197</td>\n",
       "      <td>642</td>\n",
       "      <td>18</td>\n",
       "      <td>ENSE00003631966</td>\n",
       "      <td>F</td>\n",
       "      <td>7</td>\n",
       "      <td>ASXL3</td>\n",
       "      <td>ENSE00003631966</td>\n",
       "      <td>18:31319307-31319307</td>\n",
       "    </tr>\n",
       "  </tbody>\n",
       "</table>\n",
       "</div>"
      ],
      "text/plain": [
       "   Cohort  composite_standard_score genetic_status inheritance_status  \\\n",
       "66    VIP                     37.00          ASXL3            de-novo   \n",
       "67    VIP                     32.00          ASXL3            de-novo   \n",
       "68    VIP                     57.00          ASXL3            de-novo   \n",
       "70    VIP                     49.00          ASXL3            de-novo   \n",
       "75    VIP                     59.25          ASXL3            de-novo   \n",
       "76    VIP                     55.00          ASXL3            de-novo   \n",
       "77    VIP                     64.00          ASXL3            de-novo   \n",
       "\n",
       "                location sex  sfari_id       Transcript ProteinPos  GeneCount  \\\n",
       "66  18:31319345-31319349   F  16159-x1  ENST00000269197        655         18   \n",
       "67  18:31318721-31318722   F  16171-x1  ENST00000269197        447         18   \n",
       "68  18:31318559-31318563   F  16179-x1  ENST00000269197        393         18   \n",
       "70  18:31318839-31318839   M  16188-x1  ENST00000269197        486         18   \n",
       "75  18:31319345-31319349   F  15215-x1  ENST00000269197        655         18   \n",
       "76  18:31318846-31318848   F  15234-x1  ENST00000269197        489         18   \n",
       "77  18:31319307-31319307   F  15452-x1  ENST00000269197        642         18   \n",
       "\n",
       "              Exons isLEJ  ExonCount effectGene           ExonID  \\\n",
       "66  ENSE00003631966     F          7      ASXL3  ENSE00003631966   \n",
       "67  ENSE00003631966     F          7      ASXL3  ENSE00003631966   \n",
       "68  ENSE00003631966     F          7      ASXL3  ENSE00003631966   \n",
       "70  ENSE00003631966     F          7      ASXL3  ENSE00003631966   \n",
       "75  ENSE00003631966     F          7      ASXL3  ENSE00003631966   \n",
       "76  ENSE00003631966     F          7      ASXL3  ENSE00003631966   \n",
       "77  ENSE00003631966     F          7      ASXL3  ENSE00003631966   \n",
       "\n",
       "              vcfVariant  \n",
       "66  18:31319345-31319349  \n",
       "67  18:31318721-31318722  \n",
       "68  18:31318559-31318563  \n",
       "70  18:31318839-31318839  \n",
       "75  18:31319345-31319349  \n",
       "76  18:31318846-31318848  \n",
       "77  18:31319307-31319307  "
      ]
     },
     "execution_count": 857,
     "metadata": {},
     "output_type": "execute_result"
    }
   ],
   "source": [
    "DFF[DFF[\"effectGene\"]==\"ASXL3\"]"
   ]
  },
  {
   "cell_type": "code",
   "execution_count": 792,
   "metadata": {},
   "outputs": [
    {
     "name": "stdout",
     "output_type": "stream",
     "text": [
      "HIVEP2 ENST00000367603 6:143093049-143093049 6:143093049-143093049\n",
      "SCN2A ENST00000357398 2:166165305-166165305 2:166165305-166165305\n"
     ]
    }
   ],
   "source": [
    "SameExonAA, SameExonIQ, DiffExonAA, DiffExonIQ = GetPairsForAAdistPhenotype(Test, \"composite_standard_score\")"
   ]
  },
  {
   "cell_type": "code",
   "execution_count": 793,
   "metadata": {},
   "outputs": [
    {
     "data": {
      "image/png": "[encoded data removed]",
      "text/plain": [
       "<Figure size 432x288 with 1 Axes>"
      ]
     },
     "metadata": {
      "needs_background": "light"
     },
     "output_type": "display_data"
    }
   ],
   "source": [
    "fig = plt.figure()\n",
    "ax = fig.subplots(1,1)\n",
    "ax.scatter(SameExonAA, SameExonIQ, color=\"red\", facecolors='red', edgecolors='black')\n",
    "ax.scatter(DiffExonAA, DiffExonIQ, color=\"black\", facecolors='none', edgecolors='black')\n",
    "ax.set_xscale('log')\n",
    "plt.show()"
   ]
  },
  {
   "cell_type": "code",
   "execution_count": 794,
   "metadata": {},
   "outputs": [
    {
     "name": "stdout",
     "output_type": "stream",
     "text": [
      "900"
     ]
    }
   ],
   "source": [
    "AVGIQs, AVG_dists = AccetRejectSamplingForSameDiffExonAAdist(SameExonAA, SameExonIQ, DiffExonAA, DiffExonIQ)"
   ]
  },
  {
   "cell_type": "code",
   "execution_count": 795,
   "metadata": {},
   "outputs": [
    {
     "data": {
      "image/png": "[encoded data removed]",
      "text/plain": [
       "<Figure size 432x288 with 1 Axes>"
      ]
     },
     "metadata": {
      "needs_background": "light"
     },
     "output_type": "display_data"
    },
    {
     "data": {
      "image/png": "[encoded data removed]",
      "text/plain": [
       "<Figure size 432x288 with 1 Axes>"
      ]
     },
     "metadata": {
      "needs_background": "light"
     },
     "output_type": "display_data"
    }
   ],
   "source": [
    "plt.hist(AVGIQs, bins=20)\n",
    "p = get_smaller_P(np.mean(SameExonIQ), AVGIQs)\n",
    "plt.vlines(x=np.mean(SameExonIQ), ymin=0, ymax=90)\n",
    "plt.text(x=np.mean(SameExonIQ), y=80, s=\"p=%.3f\"%p)\n",
    "plt.show()\n",
    "\n",
    "Log10SameExonAA = [math.log10(x) for x in SameExonAA]\n",
    "plt.hist(AVG_dists, bins=20)\n",
    "p = get_smaller_P(np.mean(Log10SameExonAA), AVG_dists)\n",
    "plt.vlines(x=np.mean(Log10SameExonAA), ymin=0, ymax=90)\n",
    "plt.text(x=np.mean(Log10SameExonAA), y=80, s=\"p=%.3f\"%p)\n",
    "plt.show()"
   ]
  },
  {
   "cell_type": "code",
   "execution_count": 729,
   "metadata": {},
   "outputs": [
    {
     "name": "stdout",
     "output_type": "stream",
     "text": [
      "HIVEP2 ENST00000367603 6:143093049-143093049 6:143093049-143093049\n",
      "SCN2A ENST00000357398 2:166201379-166201379 2:166201379-166201379\n",
      "SCN2A ENST00000357398 2:166165305-166165305 2:166165305-166165305\n"
     ]
    }
   ],
   "source": [
    "DF2 = DFF[DFF[\"genetic_status\"]!=\"ASXL3\"]\n",
    "SameExonAA, SameExonIQ, DiffExonAA, DiffExonIQ = GetPairsForAAdistPhenotype(DF2, \"composite_standard_score\")"
   ]
  },
  {
   "cell_type": "code",
   "execution_count": 730,
   "metadata": {},
   "outputs": [
    {
     "data": {
      "image/png": "[encoded data removed]",
      "text/plain": [
       "<Figure size 432x288 with 1 Axes>"
      ]
     },
     "metadata": {
      "needs_background": "light"
     },
     "output_type": "display_data"
    }
   ],
   "source": [
    "fig = plt.figure()\n",
    "ax = fig.subplots(1,1)\n",
    "ax.scatter(SameExonAA, SameExonIQ, color=\"red\", facecolors='red', edgecolors='black')\n",
    "ax.scatter(DiffExonAA, DiffExonIQ, color=\"black\", facecolors='none', edgecolors='black')\n",
    "ax.set_xscale('log')\n",
    "plt.show()"
   ]
  },
  {
   "cell_type": "code",
   "execution_count": 731,
   "metadata": {},
   "outputs": [
    {
     "name": "stdout",
     "output_type": "stream",
     "text": [
      "900"
     ]
    }
   ],
   "source": [
    "AVGIQs, AVG_dists = AccetRejectSamplingForSameDiffExonAAdist(SameExonAA, SameExonIQ, DiffExonAA, DiffExonIQ)"
   ]
  },
  {
   "cell_type": "code",
   "execution_count": 732,
   "metadata": {},
   "outputs": [
    {
     "data": {
      "image/png": "[encoded data removed]",
      "text/plain": [
       "<Figure size 432x288 with 1 Axes>"
      ]
     },
     "metadata": {
      "needs_background": "light"
     },
     "output_type": "display_data"
    },
    {
     "data": {
      "image/png": "[encoded data removed]",
      "text/plain": [
       "<Figure size 432x288 with 1 Axes>"
      ]
     },
     "metadata": {
      "needs_background": "light"
     },
     "output_type": "display_data"
    }
   ],
   "source": [
    "plt.hist(AVGIQs, bins=20)\n",
    "p = get_smaller_P(np.mean(SameExonIQ), AVGIQs)\n",
    "plt.vlines(x=np.mean(SameExonIQ), ymin=0, ymax=90)\n",
    "plt.text(x=np.mean(SameExonIQ), y=80, s=\"p=%.3f\"%p)\n",
    "plt.show()\n",
    "\n",
    "Log10SameExonAA = [math.log10(x) for x in SameExonAA]\n",
    "plt.hist(AVG_dists, bins=20)\n",
    "p = get_smaller_P(np.mean(Log10SameExonAA), AVG_dists)\n",
    "plt.vlines(x=np.mean(Log10SameExonAA), ymin=0, ymax=90)\n",
    "plt.text(x=np.mean(Log10SameExonAA), y=80, s=\"p=%.3f\"%p)\n",
    "plt.show()"
   ]
  },
  {
   "cell_type": "code",
   "execution_count": 761,
   "metadata": {},
   "outputs": [
    {
     "data": {
      "text/html": [
       "<div>\n",
       "<style scoped>\n",
       "    .dataframe tbody tr th:only-of-type {\n",
       "        vertical-align: middle;\n",
       "    }\n",
       "\n",
       "    .dataframe tbody tr th {\n",
       "        vertical-align: top;\n",
       "    }\n",
       "\n",
       "    .dataframe thead th {\n",
       "        text-align: right;\n",
       "    }\n",
       "</style>\n",
       "<table border=\"1\" class=\"dataframe\">\n",
       "  <thead>\n",
       "    <tr style=\"text-align: right;\">\n",
       "      <th></th>\n",
       "      <th>Cohort</th>\n",
       "      <th>composite_standard_score</th>\n",
       "      <th>genetic_status</th>\n",
       "      <th>inheritance_status</th>\n",
       "      <th>location</th>\n",
       "      <th>sex</th>\n",
       "      <th>sfari_id</th>\n",
       "      <th>Transcript</th>\n",
       "      <th>ProteinPos</th>\n",
       "      <th>GeneCount</th>\n",
       "      <th>Exons</th>\n",
       "      <th>isLEJ</th>\n",
       "      <th>ExonCount</th>\n",
       "      <th>effectGene</th>\n",
       "      <th>ExonID</th>\n",
       "      <th>vcfVariant</th>\n",
       "    </tr>\n",
       "  </thead>\n",
       "  <tbody>\n",
       "    <tr>\n",
       "      <th>66</th>\n",
       "      <td>VIP</td>\n",
       "      <td>37.00</td>\n",
       "      <td>ASXL3</td>\n",
       "      <td>de-novo</td>\n",
       "      <td>18:31319345-31319349</td>\n",
       "      <td>F</td>\n",
       "      <td>16159-x1</td>\n",
       "      <td>ENST00000269197</td>\n",
       "      <td>655</td>\n",
       "      <td>18</td>\n",
       "      <td>ENSE00003631966</td>\n",
       "      <td>F</td>\n",
       "      <td>7</td>\n",
       "      <td>ASXL3</td>\n",
       "      <td>ENSE00003631966</td>\n",
       "      <td>18:31319345-31319349</td>\n",
       "    </tr>\n",
       "    <tr>\n",
       "      <th>67</th>\n",
       "      <td>VIP</td>\n",
       "      <td>32.00</td>\n",
       "      <td>ASXL3</td>\n",
       "      <td>de-novo</td>\n",
       "      <td>18:31318721-31318722</td>\n",
       "      <td>F</td>\n",
       "      <td>16171-x1</td>\n",
       "      <td>ENST00000269197</td>\n",
       "      <td>447</td>\n",
       "      <td>18</td>\n",
       "      <td>ENSE00003631966</td>\n",
       "      <td>F</td>\n",
       "      <td>7</td>\n",
       "      <td>ASXL3</td>\n",
       "      <td>ENSE00003631966</td>\n",
       "      <td>18:31318721-31318722</td>\n",
       "    </tr>\n",
       "    <tr>\n",
       "      <th>68</th>\n",
       "      <td>VIP</td>\n",
       "      <td>57.00</td>\n",
       "      <td>ASXL3</td>\n",
       "      <td>de-novo</td>\n",
       "      <td>18:31318559-31318563</td>\n",
       "      <td>F</td>\n",
       "      <td>16179-x1</td>\n",
       "      <td>ENST00000269197</td>\n",
       "      <td>393</td>\n",
       "      <td>18</td>\n",
       "      <td>ENSE00003631966</td>\n",
       "      <td>F</td>\n",
       "      <td>7</td>\n",
       "      <td>ASXL3</td>\n",
       "      <td>ENSE00003631966</td>\n",
       "      <td>18:31318559-31318563</td>\n",
       "    </tr>\n",
       "    <tr>\n",
       "      <th>70</th>\n",
       "      <td>VIP</td>\n",
       "      <td>49.00</td>\n",
       "      <td>ASXL3</td>\n",
       "      <td>de-novo</td>\n",
       "      <td>18:31318839-31318839</td>\n",
       "      <td>M</td>\n",
       "      <td>16188-x1</td>\n",
       "      <td>ENST00000269197</td>\n",
       "      <td>486</td>\n",
       "      <td>18</td>\n",
       "      <td>ENSE00003631966</td>\n",
       "      <td>F</td>\n",
       "      <td>7</td>\n",
       "      <td>ASXL3</td>\n",
       "      <td>ENSE00003631966</td>\n",
       "      <td>18:31318839-31318839</td>\n",
       "    </tr>\n",
       "    <tr>\n",
       "      <th>75</th>\n",
       "      <td>VIP</td>\n",
       "      <td>59.25</td>\n",
       "      <td>ASXL3</td>\n",
       "      <td>de-novo</td>\n",
       "      <td>18:31319345-31319349</td>\n",
       "      <td>F</td>\n",
       "      <td>15215-x1</td>\n",
       "      <td>ENST00000269197</td>\n",
       "      <td>655</td>\n",
       "      <td>18</td>\n",
       "      <td>ENSE00003631966</td>\n",
       "      <td>F</td>\n",
       "      <td>7</td>\n",
       "      <td>ASXL3</td>\n",
       "      <td>ENSE00003631966</td>\n",
       "      <td>18:31319345-31319349</td>\n",
       "    </tr>\n",
       "    <tr>\n",
       "      <th>76</th>\n",
       "      <td>VIP</td>\n",
       "      <td>55.00</td>\n",
       "      <td>ASXL3</td>\n",
       "      <td>de-novo</td>\n",
       "      <td>18:31318846-31318848</td>\n",
       "      <td>F</td>\n",
       "      <td>15234-x1</td>\n",
       "      <td>ENST00000269197</td>\n",
       "      <td>489</td>\n",
       "      <td>18</td>\n",
       "      <td>ENSE00003631966</td>\n",
       "      <td>F</td>\n",
       "      <td>7</td>\n",
       "      <td>ASXL3</td>\n",
       "      <td>ENSE00003631966</td>\n",
       "      <td>18:31318846-31318848</td>\n",
       "    </tr>\n",
       "    <tr>\n",
       "      <th>77</th>\n",
       "      <td>VIP</td>\n",
       "      <td>64.00</td>\n",
       "      <td>ASXL3</td>\n",
       "      <td>de-novo</td>\n",
       "      <td>18:31319307-31319307</td>\n",
       "      <td>F</td>\n",
       "      <td>15452-x1</td>\n",
       "      <td>ENST00000269197</td>\n",
       "      <td>642</td>\n",
       "      <td>18</td>\n",
       "      <td>ENSE00003631966</td>\n",
       "      <td>F</td>\n",
       "      <td>7</td>\n",
       "      <td>ASXL3</td>\n",
       "      <td>ENSE00003631966</td>\n",
       "      <td>18:31319307-31319307</td>\n",
       "    </tr>\n",
       "  </tbody>\n",
       "</table>\n",
       "</div>"
      ],
      "text/plain": [
       "   Cohort  composite_standard_score genetic_status inheritance_status  \\\n",
       "66    VIP                     37.00          ASXL3            de-novo   \n",
       "67    VIP                     32.00          ASXL3            de-novo   \n",
       "68    VIP                     57.00          ASXL3            de-novo   \n",
       "70    VIP                     49.00          ASXL3            de-novo   \n",
       "75    VIP                     59.25          ASXL3            de-novo   \n",
       "76    VIP                     55.00          ASXL3            de-novo   \n",
       "77    VIP                     64.00          ASXL3            de-novo   \n",
       "\n",
       "                location sex  sfari_id       Transcript ProteinPos  GeneCount  \\\n",
       "66  18:31319345-31319349   F  16159-x1  ENST00000269197        655         18   \n",
       "67  18:31318721-31318722   F  16171-x1  ENST00000269197        447         18   \n",
       "68  18:31318559-31318563   F  16179-x1  ENST00000269197        393         18   \n",
       "70  18:31318839-31318839   M  16188-x1  ENST00000269197        486         18   \n",
       "75  18:31319345-31319349   F  15215-x1  ENST00000269197        655         18   \n",
       "76  18:31318846-31318848   F  15234-x1  ENST00000269197        489         18   \n",
       "77  18:31319307-31319307   F  15452-x1  ENST00000269197        642         18   \n",
       "\n",
       "              Exons isLEJ  ExonCount effectGene           ExonID  \\\n",
       "66  ENSE00003631966     F          7      ASXL3  ENSE00003631966   \n",
       "67  ENSE00003631966     F          7      ASXL3  ENSE00003631966   \n",
       "68  ENSE00003631966     F          7      ASXL3  ENSE00003631966   \n",
       "70  ENSE00003631966     F          7      ASXL3  ENSE00003631966   \n",
       "75  ENSE00003631966     F          7      ASXL3  ENSE00003631966   \n",
       "76  ENSE00003631966     F          7      ASXL3  ENSE00003631966   \n",
       "77  ENSE00003631966     F          7      ASXL3  ENSE00003631966   \n",
       "\n",
       "              vcfVariant  \n",
       "66  18:31319345-31319349  \n",
       "67  18:31318721-31318722  \n",
       "68  18:31318559-31318563  \n",
       "70  18:31318839-31318839  \n",
       "75  18:31319345-31319349  \n",
       "76  18:31318846-31318848  \n",
       "77  18:31319307-31319307  "
      ]
     },
     "execution_count": 761,
     "metadata": {},
     "output_type": "execute_result"
    }
   ],
   "source": [
    "DF[(DF[\"genetic_status\"]==\"ASXL3\")&(DF[\"isLEJ\"]==\"F\")]"
   ]
  },
  {
   "cell_type": "code",
   "execution_count": 804,
   "metadata": {},
   "outputs": [
    {
     "data": {
      "text/plain": [
       "652.0"
      ]
     },
     "execution_count": 804,
     "metadata": {},
     "output_type": "execute_result"
    }
   ],
   "source": [
    "(31320407-31318451)/3    "
   ]
  },
  {
   "cell_type": "code",
   "execution_count": 805,
   "metadata": {},
   "outputs": [
    {
     "data": {
      "text/plain": [
       "18.333333333333332"
      ]
     },
     "execution_count": 805,
     "metadata": {},
     "output_type": "execute_result"
    }
   ],
   "source": [
    "55/3"
   ]
  },
  {
   "cell_type": "code",
   "execution_count": 998,
   "metadata": {},
   "outputs": [],
   "source": [
    "SameExon = []\n",
    "SameExonSameGender = []\n",
    "SameGene = []\n",
    "ALLPairs = []\n",
    "#Test = DFF[DFF[\"genetic_status\"]!=\"ASXL3\"]\n",
    "#Test = DFF[~DFF[\"sfari_id\"].isin([\"16159-x1\", \"16171-x1\"])]\n",
    "Test = DFF[DFF[\"Cohort\"]==\"VIP\"]\n",
    "Test = Test[Test[\"genetic_status\"]!=\"ASXL3\"]\n",
    "Test = Test[~Test[\"genetic_status\"].isin(ExcludedGene)]\n",
    "for row1, row2 in itertools.combinations(Test.iterrows(), r=2):\n",
    "    row1,row2 = row1[1], row2[1]\n",
    "    score1 = row1[\"composite_standard_score\"]\n",
    "    score2 = row2[\"composite_standard_score\"]\n",
    "    diff = abs(score1-score2)\n",
    "    ALLPairs.append(diff)\n",
    "    if row1[\"genetic_status\"] == row2[\"genetic_status\"]:\n",
    "        SameGene.append(diff)\n",
    "        if row1[\"Exons\"] == row2[\"Exons\"]:\n",
    "            if row1[\"isLEJ\"] == \"T\" or row2[\"isLEJ\"] == \"T\":\n",
    "                continue\n",
    "            SameExon.append(diff)\n",
    "            if row1[\"sex\"] == row2[\"sex\"]:\n",
    "                SameExonSameGender.append(diff)"
   ]
  },
  {
   "cell_type": "code",
   "execution_count": 999,
   "metadata": {},
   "outputs": [],
   "source": [
    "Seq = [SameExonSameGender, SameExon, SameGene, ALLPairs]\n",
    "Dat = [np.mean(x) for x in Seq]\n",
    "Err = [np.std(x)/math.sqrt(len(x)) for x in Seq]"
   ]
  },
  {
   "cell_type": "code",
   "execution_count": 1000,
   "metadata": {},
   "outputs": [
    {
     "data": {
      "image/png": "[encoded data removed]",
      "text/plain": [
       "<Figure size 480x320 with 1 Axes>"
      ]
     },
     "metadata": {
      "needs_background": "light"
     },
     "output_type": "display_data"
    },
    {
     "name": "stdout",
     "output_type": "stream",
     "text": [
      "8 103\n"
     ]
    },
    {
     "data": {
      "text/plain": [
       "MannwhitneyuResult(statistic=306.0, pvalue=0.11442121443279052)"
      ]
     },
     "execution_count": 1000,
     "metadata": {},
     "output_type": "execute_result"
    }
   ],
   "source": [
    "ind = np.arange(4)  # the x locations for the groups\n",
    "width = 0.35  # the width of the bars\n",
    "fig, ax = plt.subplots(dpi=80)\n",
    "rects = ax.bar(ind, Dat, width, yerr=Err,)\n",
    "ax.set_ylabel('')\n",
    "ax.set_title('')\n",
    "ax.set_xticks(ind)\n",
    "ax.set_xticklabels([\"SameExonGender\", \"SameExon\", \"SameGene\", \"AllPairs\"])\n",
    "fig.tight_layout()\n",
    "plt.xticks(rotation=0)\n",
    "plt.show()\n",
    "print(len(SameExon), len(SameGene))\n",
    "scipy.stats.mannwhitneyu(SameExon, SameGene)\n",
    "#print(abs(np.mean(SameExon)-np.mean(SameGene)))"
   ]
  },
  {
   "cell_type": "code",
   "execution_count": 978,
   "metadata": {},
   "outputs": [],
   "source": [
    "Test = DFF[DFF[\"Cohort\"]==\"SSC\"]\n",
    "SameExon, SameExonSameGender, SameGene, ALLPairs = SameExonDef2(Test)"
   ]
  },
  {
   "cell_type": "code",
   "execution_count": 979,
   "metadata": {},
   "outputs": [],
   "source": [
    "#Test = DFF[(DFF[\"Cohort\"]==\"VIP\")&(DFF[\"genetic_status\"]!=\"ASXL3\")]\n",
    "Test = DFF[(DFF[\"Cohort\"]==\"VIP\")]\n",
    "SameExon, SameExonSameGender, SameGene, ALLPairs = SameExonDef2(Test)\n",
    "#print(SameExon, SameExonSameGender, SameGene, ALLPairs)"
   ]
  },
  {
   "cell_type": "code",
   "execution_count": 980,
   "metadata": {},
   "outputs": [
    {
     "data": {
      "image/png": "[encoded data removed]",
      "text/plain": [
       "<Figure size 480x320 with 1 Axes>"
      ]
     },
     "metadata": {
      "needs_background": "light"
     },
     "output_type": "display_data"
    },
    {
     "name": "stdout",
     "output_type": "stream",
     "text": [
      "1.5984536512486809\n"
     ]
    }
   ],
   "source": [
    "Seq = [SameExonSameGender, SameExon, SameGene, ALLPairs]\n",
    "Dat = [np.mean(x) for x in Seq]\n",
    "Err = [np.std(x)/math.sqrt(len(x)) for x in Seq]\n",
    "ind = np.arange(4)  # the x locations for the groups\n",
    "width = 0.35  # the width of the bars\n",
    "fig, ax = plt.subplots(dpi=80)\n",
    "rects = ax.bar(ind, Dat, width, yerr=Err,)\n",
    "ax.set_ylabel('')\n",
    "ax.set_title('')\n",
    "ax.set_xticks(ind)\n",
    "ax.set_xticklabels([\"SameExonGender\", \"SameExon\", \"SameGene\", \"AllPairs\"])\n",
    "fig.tight_layout()\n",
    "plt.xticks(rotation=0)\n",
    "plt.show()\n",
    "scipy.stats.mannwhitneyu(SameExon, SameGene, alternative=\"less\")\n",
    "print(abs(np.mean(SameExon)-np.mean(SameGene)))"
   ]
  },
  {
   "cell_type": "code",
   "execution_count": null,
   "metadata": {},
   "outputs": [],
   "source": [
    "Test = DFF[DFF[\"Cohort\"]==\"VIP\"]\n",
    "SameExon, SameExonSameGender, SameGene, ALLPairs = SameExonDef2(Test)\n",
    "Seq = [SameExonSameGender, SameExon, SameGene, ALLPairs]\n",
    "Dat = [np.mean(x) for x in Seq]\n",
    "Err = [np.std(x)/math.sqrt(len(x)) for x in Seq]\n",
    "ind = np.arange(4)  # the x locations for the groups\n",
    "width = 0.35  # the width of the bars\n",
    "fig, ax = plt.subplots(dpi=80)\n",
    "rects = ax.bar(ind, Dat, width, yerr=Err,)\n",
    "ax.set_ylabel('')\n",
    "ax.set_title('')\n",
    "ax.set_xticks(ind)\n",
    "ax.set_xticklabels([\"SameExonGender\", \"SameExon\", \"SameGene\", \"AllPairs\"])\n",
    "fig.tight_layout()\n",
    "plt.xticks(rotation=0)\n",
    "plt.show()\n",
    "scipy.stats.mannwhitneyu(SameExon, SameGene, alternative=\"less\")"
   ]
  },
  {
   "cell_type": "code",
   "execution_count": 940,
   "metadata": {},
   "outputs": [
    {
     "name": "stdout",
     "output_type": "stream",
     "text": [
      "38\n"
     ]
    }
   ],
   "source": [
    "print(len(SameExon))"
   ]
  },
  {
   "cell_type": "code",
   "execution_count": 786,
   "metadata": {},
   "outputs": [
    {
     "data": {
      "image/png": "[encoded data removed]",
      "text/plain": [
       "<Figure size 432x288 with 1 Axes>"
      ]
     },
     "metadata": {
      "needs_background": "light"
     },
     "output_type": "display_data"
    }
   ],
   "source": [
    "plt.boxplot([SameExonSameGender, SameExon, SameGene, ALLPairs],\n",
    "            labels = [\"SameExonGender\", \"SameExon\", \"SameGene\", \"AllPairs\"])\n",
    "plt.show()"
   ]
  },
  {
   "cell_type": "code",
   "execution_count": 1196,
   "metadata": {},
   "outputs": [
    {
     "data": {
      "text/html": [
       "<div>\n",
       "<style scoped>\n",
       "    .dataframe tbody tr th:only-of-type {\n",
       "        vertical-align: middle;\n",
       "    }\n",
       "\n",
       "    .dataframe tbody tr th {\n",
       "        vertical-align: top;\n",
       "    }\n",
       "\n",
       "    .dataframe thead th {\n",
       "        text-align: right;\n",
       "    }\n",
       "</style>\n",
       "<table border=\"1\" class=\"dataframe\">\n",
       "  <thead>\n",
       "    <tr style=\"text-align: right;\">\n",
       "      <th></th>\n",
       "      <th>Uploaded_variation</th>\n",
       "      <th>Location</th>\n",
       "      <th>Allele</th>\n",
       "      <th>Consequence</th>\n",
       "      <th>IMPACT</th>\n",
       "      <th>SYMBOL</th>\n",
       "      <th>Gene</th>\n",
       "      <th>Feature_type</th>\n",
       "      <th>Feature</th>\n",
       "      <th>BIOTYPE</th>\n",
       "      <th>...</th>\n",
       "      <th>PolyPhen</th>\n",
       "      <th>DOMAINS</th>\n",
       "      <th>HGVS_OFFSET</th>\n",
       "      <th>MOTIF_NAME</th>\n",
       "      <th>MOTIF_POS</th>\n",
       "      <th>HIGH_INF_POS</th>\n",
       "      <th>MOTIF_SCORE_CHANGE</th>\n",
       "      <th>CADD_PHRED</th>\n",
       "      <th>CADD_RAW</th>\n",
       "      <th>BLOSUM62</th>\n",
       "    </tr>\n",
       "  </thead>\n",
       "  <tbody>\n",
       "    <tr>\n",
       "      <th>0</th>\n",
       "      <td>15630-x2_PACS1_6</td>\n",
       "      <td>11:65978677-65978677</td>\n",
       "      <td>T</td>\n",
       "      <td>missense_variant</td>\n",
       "      <td>MODERATE</td>\n",
       "      <td>PACS1</td>\n",
       "      <td>ENSG00000175115</td>\n",
       "      <td>Transcript</td>\n",
       "      <td>ENST00000320580</td>\n",
       "      <td>protein_coding</td>\n",
       "      <td>...</td>\n",
       "      <td>probably_damaging(0.948)</td>\n",
       "      <td>hmmpanther:PTHR13280:SF16,hmmpanther:PTHR13280</td>\n",
       "      <td>-</td>\n",
       "      <td>-</td>\n",
       "      <td>-</td>\n",
       "      <td>-</td>\n",
       "      <td>-</td>\n",
       "      <td>35</td>\n",
       "      <td>7.635711</td>\n",
       "      <td>-3</td>\n",
       "    </tr>\n",
       "    <tr>\n",
       "      <th>1</th>\n",
       "      <td>15630-x2_PACS1_6</td>\n",
       "      <td>11:65978677-65978677</td>\n",
       "      <td>T</td>\n",
       "      <td>non_coding_transcript_exon_variant</td>\n",
       "      <td>MODIFIER</td>\n",
       "      <td>PACS1</td>\n",
       "      <td>ENSG00000175115</td>\n",
       "      <td>Transcript</td>\n",
       "      <td>ENST00000527224</td>\n",
       "      <td>retained_intron</td>\n",
       "      <td>...</td>\n",
       "      <td>-</td>\n",
       "      <td>-</td>\n",
       "      <td>-</td>\n",
       "      <td>-</td>\n",
       "      <td>-</td>\n",
       "      <td>-</td>\n",
       "      <td>-</td>\n",
       "      <td>35</td>\n",
       "      <td>7.635711</td>\n",
       "      <td>-</td>\n",
       "    </tr>\n",
       "    <tr>\n",
       "      <th>2</th>\n",
       "      <td>15630-x2_PACS1_6</td>\n",
       "      <td>11:65978677-65978677</td>\n",
       "      <td>T</td>\n",
       "      <td>missense_variant</td>\n",
       "      <td>MODERATE</td>\n",
       "      <td>PACS1</td>\n",
       "      <td>ENSG00000175115</td>\n",
       "      <td>Transcript</td>\n",
       "      <td>ENST00000527380</td>\n",
       "      <td>protein_coding</td>\n",
       "      <td>...</td>\n",
       "      <td>probably_damaging(0.986)</td>\n",
       "      <td>hmmpanther:PTHR13280,hmmpanther:PTHR13280:SF16</td>\n",
       "      <td>-</td>\n",
       "      <td>-</td>\n",
       "      <td>-</td>\n",
       "      <td>-</td>\n",
       "      <td>-</td>\n",
       "      <td>35</td>\n",
       "      <td>7.635711</td>\n",
       "      <td>-3</td>\n",
       "    </tr>\n",
       "  </tbody>\n",
       "</table>\n",
       "<p>3 rows × 43 columns</p>\n",
       "</div>"
      ],
      "text/plain": [
       "  Uploaded_variation              Location Allele  \\\n",
       "0   15630-x2_PACS1_6  11:65978677-65978677      T   \n",
       "1   15630-x2_PACS1_6  11:65978677-65978677      T   \n",
       "2   15630-x2_PACS1_6  11:65978677-65978677      T   \n",
       "\n",
       "                          Consequence    IMPACT SYMBOL             Gene  \\\n",
       "0                    missense_variant  MODERATE  PACS1  ENSG00000175115   \n",
       "1  non_coding_transcript_exon_variant  MODIFIER  PACS1  ENSG00000175115   \n",
       "2                    missense_variant  MODERATE  PACS1  ENSG00000175115   \n",
       "\n",
       "  Feature_type          Feature          BIOTYPE   ...     \\\n",
       "0   Transcript  ENST00000320580   protein_coding   ...      \n",
       "1   Transcript  ENST00000527224  retained_intron   ...      \n",
       "2   Transcript  ENST00000527380   protein_coding   ...      \n",
       "\n",
       "                   PolyPhen                                         DOMAINS  \\\n",
       "0  probably_damaging(0.948)  hmmpanther:PTHR13280:SF16,hmmpanther:PTHR13280   \n",
       "1                         -                                               -   \n",
       "2  probably_damaging(0.986)  hmmpanther:PTHR13280,hmmpanther:PTHR13280:SF16   \n",
       "\n",
       "  HGVS_OFFSET MOTIF_NAME MOTIF_POS HIGH_INF_POS MOTIF_SCORE_CHANGE CADD_PHRED  \\\n",
       "0           -          -         -            -                  -         35   \n",
       "1           -          -         -            -                  -         35   \n",
       "2           -          -         -            -                  -         35   \n",
       "\n",
       "   CADD_RAW BLOSUM62  \n",
       "0  7.635711       -3  \n",
       "1  7.635711        -  \n",
       "2  7.635711       -3  \n",
       "\n",
       "[3 rows x 43 columns]"
      ]
     },
     "execution_count": 1196,
     "metadata": {},
     "output_type": "execute_result"
    }
   ],
   "source": [
    "Andy_svip_vep = pd.read_csv(\"../data/Andy-VIP/svip_indiv_vep.txt\", delimiter=\"\\t\")\n",
    "Andy_svip_vep.head(3)"
   ]
  },
  {
   "cell_type": "code",
   "execution_count": 1197,
   "metadata": {},
   "outputs": [],
   "source": [
    "#Andy_svip_vep = pd.read_csv(\"../data/Andy-VIP/svip_indiv_vep.tsv\", delimiter=\"\\t\")\n",
    "Andy_svip_vabs = pd.read_csv(\"../data/Andy-VIP/svip_vineland.csv\")\n",
    "Andy_lgd_bl = [x.strip() for x in open(\"../data/Andy-VIP/svip_indiv_noNMD.bl\", 'rt')]"
   ]
  },
  {
   "cell_type": "code",
   "execution_count": 1198,
   "metadata": {},
   "outputs": [
    {
     "data": {
      "text/html": [
       "<div>\n",
       "<style scoped>\n",
       "    .dataframe tbody tr th:only-of-type {\n",
       "        vertical-align: middle;\n",
       "    }\n",
       "\n",
       "    .dataframe tbody tr th {\n",
       "        vertical-align: top;\n",
       "    }\n",
       "\n",
       "    .dataframe thead th {\n",
       "        text-align: right;\n",
       "    }\n",
       "</style>\n",
       "<table border=\"1\" class=\"dataframe\">\n",
       "  <thead>\n",
       "    <tr style=\"text-align: right;\">\n",
       "      <th></th>\n",
       "      <th>Uploaded_variation</th>\n",
       "      <th>Location</th>\n",
       "      <th>Allele</th>\n",
       "      <th>Consequence</th>\n",
       "      <th>IMPACT</th>\n",
       "      <th>SYMBOL</th>\n",
       "      <th>Gene</th>\n",
       "      <th>Feature_type</th>\n",
       "      <th>Feature</th>\n",
       "      <th>BIOTYPE</th>\n",
       "      <th>...</th>\n",
       "      <th>PolyPhen</th>\n",
       "      <th>DOMAINS</th>\n",
       "      <th>HGVS_OFFSET</th>\n",
       "      <th>MOTIF_NAME</th>\n",
       "      <th>MOTIF_POS</th>\n",
       "      <th>HIGH_INF_POS</th>\n",
       "      <th>MOTIF_SCORE_CHANGE</th>\n",
       "      <th>CADD_PHRED</th>\n",
       "      <th>CADD_RAW</th>\n",
       "      <th>BLOSUM62</th>\n",
       "    </tr>\n",
       "  </thead>\n",
       "  <tbody>\n",
       "    <tr>\n",
       "      <th>0</th>\n",
       "      <td>15630-x2_PACS1_6</td>\n",
       "      <td>11:65978677-65978677</td>\n",
       "      <td>T</td>\n",
       "      <td>missense_variant</td>\n",
       "      <td>MODERATE</td>\n",
       "      <td>PACS1</td>\n",
       "      <td>ENSG00000175115</td>\n",
       "      <td>Transcript</td>\n",
       "      <td>ENST00000320580</td>\n",
       "      <td>protein_coding</td>\n",
       "      <td>...</td>\n",
       "      <td>probably_damaging(0.948)</td>\n",
       "      <td>hmmpanther:PTHR13280:SF16,hmmpanther:PTHR13280</td>\n",
       "      <td>-</td>\n",
       "      <td>-</td>\n",
       "      <td>-</td>\n",
       "      <td>-</td>\n",
       "      <td>-</td>\n",
       "      <td>35</td>\n",
       "      <td>7.635711</td>\n",
       "      <td>-3</td>\n",
       "    </tr>\n",
       "    <tr>\n",
       "      <th>1</th>\n",
       "      <td>15630-x2_PACS1_6</td>\n",
       "      <td>11:65978677-65978677</td>\n",
       "      <td>T</td>\n",
       "      <td>non_coding_transcript_exon_variant</td>\n",
       "      <td>MODIFIER</td>\n",
       "      <td>PACS1</td>\n",
       "      <td>ENSG00000175115</td>\n",
       "      <td>Transcript</td>\n",
       "      <td>ENST00000527224</td>\n",
       "      <td>retained_intron</td>\n",
       "      <td>...</td>\n",
       "      <td>-</td>\n",
       "      <td>-</td>\n",
       "      <td>-</td>\n",
       "      <td>-</td>\n",
       "      <td>-</td>\n",
       "      <td>-</td>\n",
       "      <td>-</td>\n",
       "      <td>35</td>\n",
       "      <td>7.635711</td>\n",
       "      <td>-</td>\n",
       "    </tr>\n",
       "  </tbody>\n",
       "</table>\n",
       "<p>2 rows × 43 columns</p>\n",
       "</div>"
      ],
      "text/plain": [
       "  Uploaded_variation              Location Allele  \\\n",
       "0   15630-x2_PACS1_6  11:65978677-65978677      T   \n",
       "1   15630-x2_PACS1_6  11:65978677-65978677      T   \n",
       "\n",
       "                          Consequence    IMPACT SYMBOL             Gene  \\\n",
       "0                    missense_variant  MODERATE  PACS1  ENSG00000175115   \n",
       "1  non_coding_transcript_exon_variant  MODIFIER  PACS1  ENSG00000175115   \n",
       "\n",
       "  Feature_type          Feature          BIOTYPE   ...     \\\n",
       "0   Transcript  ENST00000320580   protein_coding   ...      \n",
       "1   Transcript  ENST00000527224  retained_intron   ...      \n",
       "\n",
       "                   PolyPhen                                         DOMAINS  \\\n",
       "0  probably_damaging(0.948)  hmmpanther:PTHR13280:SF16,hmmpanther:PTHR13280   \n",
       "1                         -                                               -   \n",
       "\n",
       "  HGVS_OFFSET MOTIF_NAME MOTIF_POS HIGH_INF_POS MOTIF_SCORE_CHANGE CADD_PHRED  \\\n",
       "0           -          -         -            -                  -         35   \n",
       "1           -          -         -            -                  -         35   \n",
       "\n",
       "   CADD_RAW BLOSUM62  \n",
       "0  7.635711       -3  \n",
       "1  7.635711        -  \n",
       "\n",
       "[2 rows x 43 columns]"
      ]
     },
     "execution_count": 1198,
     "metadata": {},
     "output_type": "execute_result"
    }
   ],
   "source": [
    "Andy_svip_vep.head(2)"
   ]
  },
  {
   "cell_type": "code",
   "execution_count": 1199,
   "metadata": {},
   "outputs": [
    {
     "data": {
      "text/html": [
       "<div>\n",
       "<style scoped>\n",
       "    .dataframe tbody tr th:only-of-type {\n",
       "        vertical-align: middle;\n",
       "    }\n",
       "\n",
       "    .dataframe tbody tr th {\n",
       "        vertical-align: top;\n",
       "    }\n",
       "\n",
       "    .dataframe thead th {\n",
       "        text-align: right;\n",
       "    }\n",
       "</style>\n",
       "<table border=\"1\" class=\"dataframe\">\n",
       "  <thead>\n",
       "    <tr style=\"text-align: right;\">\n",
       "      <th></th>\n",
       "      <th>src</th>\n",
       "      <th>idx</th>\n",
       "      <th>sfari_id</th>\n",
       "      <th>relationship_to_iip</th>\n",
       "      <th>communication_standard</th>\n",
       "      <th>dls_standard</th>\n",
       "      <th>soc_standard</th>\n",
       "      <th>motor_skills_standard</th>\n",
       "      <th>composite_standard_score</th>\n",
       "      <th>age_at_eval</th>\n",
       "    </tr>\n",
       "  </thead>\n",
       "  <tbody>\n",
       "    <tr>\n",
       "      <th>0</th>\n",
       "      <td>ADNP</td>\n",
       "      <td>1</td>\n",
       "      <td>15218-x1</td>\n",
       "      <td>Initially identified proband</td>\n",
       "      <td>57</td>\n",
       "      <td>55</td>\n",
       "      <td>51</td>\n",
       "      <td>NaN</td>\n",
       "      <td>54.0</td>\n",
       "      <td>131</td>\n",
       "    </tr>\n",
       "    <tr>\n",
       "      <th>1</th>\n",
       "      <td>ADNP</td>\n",
       "      <td>3</td>\n",
       "      <td>15229-x1</td>\n",
       "      <td>Initially identified proband</td>\n",
       "      <td>53</td>\n",
       "      <td>52</td>\n",
       "      <td>57</td>\n",
       "      <td>NaN</td>\n",
       "      <td>55.0</td>\n",
       "      <td>101</td>\n",
       "    </tr>\n",
       "    <tr>\n",
       "      <th>2</th>\n",
       "      <td>ADNP</td>\n",
       "      <td>4</td>\n",
       "      <td>15229-x1</td>\n",
       "      <td>Initially identified proband</td>\n",
       "      <td>53</td>\n",
       "      <td>51</td>\n",
       "      <td>57</td>\n",
       "      <td>NaN</td>\n",
       "      <td>54.0</td>\n",
       "      <td>111</td>\n",
       "    </tr>\n",
       "    <tr>\n",
       "      <th>3</th>\n",
       "      <td>ADNP</td>\n",
       "      <td>5</td>\n",
       "      <td>15229-x1</td>\n",
       "      <td>Initially identified proband</td>\n",
       "      <td>53</td>\n",
       "      <td>47</td>\n",
       "      <td>53</td>\n",
       "      <td>NaN</td>\n",
       "      <td>51.0</td>\n",
       "      <td>121</td>\n",
       "    </tr>\n",
       "    <tr>\n",
       "      <th>4</th>\n",
       "      <td>ADNP</td>\n",
       "      <td>6</td>\n",
       "      <td>15263-x1</td>\n",
       "      <td>Initially identified proband</td>\n",
       "      <td>30</td>\n",
       "      <td>28</td>\n",
       "      <td>40</td>\n",
       "      <td>NaN</td>\n",
       "      <td>29.0</td>\n",
       "      <td>216</td>\n",
       "    </tr>\n",
       "  </tbody>\n",
       "</table>\n",
       "</div>"
      ],
      "text/plain": [
       "    src  idx  sfari_id           relationship_to_iip  communication_standard  \\\n",
       "0  ADNP    1  15218-x1  Initially identified proband                      57   \n",
       "1  ADNP    3  15229-x1  Initially identified proband                      53   \n",
       "2  ADNP    4  15229-x1  Initially identified proband                      53   \n",
       "3  ADNP    5  15229-x1  Initially identified proband                      53   \n",
       "4  ADNP    6  15263-x1  Initially identified proband                      30   \n",
       "\n",
       "   dls_standard  soc_standard  motor_skills_standard  \\\n",
       "0            55            51                    NaN   \n",
       "1            52            57                    NaN   \n",
       "2            51            57                    NaN   \n",
       "3            47            53                    NaN   \n",
       "4            28            40                    NaN   \n",
       "\n",
       "   composite_standard_score  age_at_eval  \n",
       "0                      54.0          131  \n",
       "1                      55.0          101  \n",
       "2                      54.0          111  \n",
       "3                      51.0          121  \n",
       "4                      29.0          216  "
      ]
     },
     "execution_count": 1199,
     "metadata": {},
     "output_type": "execute_result"
    }
   ],
   "source": [
    "Andy_svip_vabs.head(5)"
   ]
  },
  {
   "cell_type": "code",
   "execution_count": 1200,
   "metadata": {},
   "outputs": [
    {
     "data": {
      "text/html": [
       "<div>\n",
       "<style scoped>\n",
       "    .dataframe tbody tr th:only-of-type {\n",
       "        vertical-align: middle;\n",
       "    }\n",
       "\n",
       "    .dataframe tbody tr th {\n",
       "        vertical-align: top;\n",
       "    }\n",
       "\n",
       "    .dataframe thead th {\n",
       "        text-align: right;\n",
       "    }\n",
       "</style>\n",
       "<table border=\"1\" class=\"dataframe\">\n",
       "  <thead>\n",
       "    <tr style=\"text-align: right;\">\n",
       "      <th></th>\n",
       "      <th>src</th>\n",
       "      <th>idx</th>\n",
       "      <th>sfari_id</th>\n",
       "      <th>relationship_to_iip</th>\n",
       "      <th>communication_standard</th>\n",
       "      <th>dls_standard</th>\n",
       "      <th>soc_standard</th>\n",
       "      <th>motor_skills_standard</th>\n",
       "      <th>composite_standard_score</th>\n",
       "      <th>age_at_eval</th>\n",
       "    </tr>\n",
       "  </thead>\n",
       "  <tbody>\n",
       "    <tr>\n",
       "      <th>22</th>\n",
       "      <td>FOXP1</td>\n",
       "      <td>1</td>\n",
       "      <td>15206-x1</td>\n",
       "      <td>Initially identified proband</td>\n",
       "      <td>74</td>\n",
       "      <td>59</td>\n",
       "      <td>64</td>\n",
       "      <td>NaN</td>\n",
       "      <td>64.0</td>\n",
       "      <td>147</td>\n",
       "    </tr>\n",
       "    <tr>\n",
       "      <th>23</th>\n",
       "      <td>FOXP1</td>\n",
       "      <td>2</td>\n",
       "      <td>15206-x1</td>\n",
       "      <td>Initially identified proband</td>\n",
       "      <td>74</td>\n",
       "      <td>59</td>\n",
       "      <td>66</td>\n",
       "      <td>NaN</td>\n",
       "      <td>65.0</td>\n",
       "      <td>157</td>\n",
       "    </tr>\n",
       "    <tr>\n",
       "      <th>24</th>\n",
       "      <td>FOXP1</td>\n",
       "      <td>3</td>\n",
       "      <td>15206-x1</td>\n",
       "      <td>Initially identified proband</td>\n",
       "      <td>74</td>\n",
       "      <td>65</td>\n",
       "      <td>68</td>\n",
       "      <td>NaN</td>\n",
       "      <td>67.0</td>\n",
       "      <td>123</td>\n",
       "    </tr>\n",
       "    <tr>\n",
       "      <th>25</th>\n",
       "      <td>FOXP1</td>\n",
       "      <td>6</td>\n",
       "      <td>15289-x1</td>\n",
       "      <td>Initially identified proband</td>\n",
       "      <td>79</td>\n",
       "      <td>62</td>\n",
       "      <td>72</td>\n",
       "      <td>67.0</td>\n",
       "      <td>67.0</td>\n",
       "      <td>67</td>\n",
       "    </tr>\n",
       "    <tr>\n",
       "      <th>26</th>\n",
       "      <td>FOXP1</td>\n",
       "      <td>7</td>\n",
       "      <td>15289-x1</td>\n",
       "      <td>Initially identified proband</td>\n",
       "      <td>76</td>\n",
       "      <td>64</td>\n",
       "      <td>75</td>\n",
       "      <td>67.0</td>\n",
       "      <td>67.0</td>\n",
       "      <td>74</td>\n",
       "    </tr>\n",
       "    <tr>\n",
       "      <th>27</th>\n",
       "      <td>FOXP1</td>\n",
       "      <td>8</td>\n",
       "      <td>15289-x1</td>\n",
       "      <td>Initially identified proband</td>\n",
       "      <td>74</td>\n",
       "      <td>66</td>\n",
       "      <td>75</td>\n",
       "      <td>NaN</td>\n",
       "      <td>71.0</td>\n",
       "      <td>85</td>\n",
       "    </tr>\n",
       "    <tr>\n",
       "      <th>28</th>\n",
       "      <td>FOXP1</td>\n",
       "      <td>10</td>\n",
       "      <td>15930-x1</td>\n",
       "      <td>Initially identified proband</td>\n",
       "      <td>72</td>\n",
       "      <td>69</td>\n",
       "      <td>73</td>\n",
       "      <td>NaN</td>\n",
       "      <td>70.0</td>\n",
       "      <td>96</td>\n",
       "    </tr>\n",
       "  </tbody>\n",
       "</table>\n",
       "</div>"
      ],
      "text/plain": [
       "      src  idx  sfari_id           relationship_to_iip  \\\n",
       "22  FOXP1    1  15206-x1  Initially identified proband   \n",
       "23  FOXP1    2  15206-x1  Initially identified proband   \n",
       "24  FOXP1    3  15206-x1  Initially identified proband   \n",
       "25  FOXP1    6  15289-x1  Initially identified proband   \n",
       "26  FOXP1    7  15289-x1  Initially identified proband   \n",
       "27  FOXP1    8  15289-x1  Initially identified proband   \n",
       "28  FOXP1   10  15930-x1  Initially identified proband   \n",
       "\n",
       "    communication_standard  dls_standard  soc_standard  motor_skills_standard  \\\n",
       "22                      74            59            64                    NaN   \n",
       "23                      74            59            66                    NaN   \n",
       "24                      74            65            68                    NaN   \n",
       "25                      79            62            72                   67.0   \n",
       "26                      76            64            75                   67.0   \n",
       "27                      74            66            75                    NaN   \n",
       "28                      72            69            73                    NaN   \n",
       "\n",
       "    composite_standard_score  age_at_eval  \n",
       "22                      64.0          147  \n",
       "23                      65.0          157  \n",
       "24                      67.0          123  \n",
       "25                      67.0           67  \n",
       "26                      67.0           74  \n",
       "27                      71.0           85  \n",
       "28                      70.0           96  "
      ]
     },
     "execution_count": 1200,
     "metadata": {},
     "output_type": "execute_result"
    }
   ],
   "source": [
    "Andy_svip_vabs[Andy_svip_vabs[\"src\"]==\"FOXP1\"]"
   ]
  },
  {
   "cell_type": "code",
   "execution_count": 1201,
   "metadata": {},
   "outputs": [
    {
     "data": {
      "text/html": [
       "<div>\n",
       "<style scoped>\n",
       "    .dataframe tbody tr th:only-of-type {\n",
       "        vertical-align: middle;\n",
       "    }\n",
       "\n",
       "    .dataframe tbody tr th {\n",
       "        vertical-align: top;\n",
       "    }\n",
       "\n",
       "    .dataframe thead th {\n",
       "        text-align: right;\n",
       "    }\n",
       "</style>\n",
       "<table border=\"1\" class=\"dataframe\">\n",
       "  <thead>\n",
       "    <tr style=\"text-align: right;\">\n",
       "      <th></th>\n",
       "      <th>Cohort</th>\n",
       "      <th>composite_standard_score</th>\n",
       "      <th>genetic_status</th>\n",
       "      <th>inheritance_status</th>\n",
       "      <th>location</th>\n",
       "      <th>sex</th>\n",
       "      <th>sfari_id</th>\n",
       "      <th>Transcript</th>\n",
       "      <th>ProteinPos</th>\n",
       "      <th>GeneCount</th>\n",
       "      <th>Exons</th>\n",
       "      <th>isLEJ</th>\n",
       "    </tr>\n",
       "  </thead>\n",
       "  <tbody>\n",
       "    <tr>\n",
       "      <th>0</th>\n",
       "      <td>SSC</td>\n",
       "      <td>53.0</td>\n",
       "      <td>ADNP</td>\n",
       "      <td>de-novo</td>\n",
       "      <td>20:49509094-49509094</td>\n",
       "      <td>M</td>\n",
       "      <td>13545</td>\n",
       "      <td>ENST00000396029</td>\n",
       "      <td>905</td>\n",
       "      <td>10</td>\n",
       "      <td>ENSE00001455631</td>\n",
       "      <td>T</td>\n",
       "    </tr>\n",
       "    <tr>\n",
       "      <th>1</th>\n",
       "      <td>SSC</td>\n",
       "      <td>67.0</td>\n",
       "      <td>ADNP</td>\n",
       "      <td>de-novo</td>\n",
       "      <td>20:49510027-49510029</td>\n",
       "      <td>F</td>\n",
       "      <td>12130</td>\n",
       "      <td>ENST00000396029</td>\n",
       "      <td>594</td>\n",
       "      <td>10</td>\n",
       "      <td>ENSE00001455631</td>\n",
       "      <td>T</td>\n",
       "    </tr>\n",
       "  </tbody>\n",
       "</table>\n",
       "</div>"
      ],
      "text/plain": [
       "  Cohort  composite_standard_score genetic_status inheritance_status  \\\n",
       "0    SSC                      53.0           ADNP            de-novo   \n",
       "1    SSC                      67.0           ADNP            de-novo   \n",
       "\n",
       "               location sex sfari_id       Transcript ProteinPos  GeneCount  \\\n",
       "0  20:49509094-49509094   M    13545  ENST00000396029        905         10   \n",
       "1  20:49510027-49510029   F    12130  ENST00000396029        594         10   \n",
       "\n",
       "             Exons isLEJ  \n",
       "0  ENSE00001455631     T  \n",
       "1  ENSE00001455631     T  "
      ]
     },
     "execution_count": 1201,
     "metadata": {},
     "output_type": "execute_result"
    }
   ],
   "source": [
    "DF.head(2)"
   ]
  },
  {
   "cell_type": "code",
   "execution_count": 911,
   "metadata": {},
   "outputs": [],
   "source": [
    "Andy_IDs =set(Andy_svip_vabs[\"sfari_id\"].values)\n",
    "My_IDs = set(DF[DF[\"Cohort\"]==\"VIP\"][\"sfari_id\"].values)"
   ]
  },
  {
   "cell_type": "code",
   "execution_count": 912,
   "metadata": {},
   "outputs": [],
   "source": [
    "MyNotAndy = My_IDs.difference(Andy_IDs)"
   ]
  },
  {
   "cell_type": "code",
   "execution_count": 913,
   "metadata": {},
   "outputs": [],
   "source": [
    "AndyNotMy = Andy_IDs.difference(My_IDs)"
   ]
  },
  {
   "cell_type": "code",
   "execution_count": 923,
   "metadata": {
    "scrolled": false
   },
   "outputs": [],
   "source": [
    "#Andy_svip_vabs[Andy_svip_vabs[\"sfari_id\"].isin(AndyNotMy)]"
   ]
  },
  {
   "cell_type": "code",
   "execution_count": 916,
   "metadata": {},
   "outputs": [],
   "source": [
    "#DF[DF[\"sfari_id\"].isin(MyNotAndy)]"
   ]
  },
  {
   "cell_type": "code",
   "execution_count": 917,
   "metadata": {},
   "outputs": [],
   "source": [
    "selectedTransNoVersionNumber = [x.split(\".\")[0] for x in selectedTrans]"
   ]
  },
  {
   "cell_type": "code",
   "execution_count": 918,
   "metadata": {},
   "outputs": [
    {
     "data": {
      "text/plain": [
       "['ENST00000269197',\n",
       " 'ENST00000399982',\n",
       " 'ENST00000339659',\n",
       " 'ENST00000394196',\n",
       " 'ENST00000357398',\n",
       " 'ENST00000318789',\n",
       " 'ENST00000367603',\n",
       " 'ENST00000485511',\n",
       " 'ENST00000418600',\n",
       " 'ENST00000373302',\n",
       " 'ENST00000320580',\n",
       " 'ENST00000281928',\n",
       " 'ENST00000361283',\n",
       " 'ENST00000282030',\n",
       " 'ENST00000217244',\n",
       " 'ENST00000396029',\n",
       " 'ENST00000400454',\n",
       " 'ENST00000400454',\n",
       " 'ENST00000609686']"
      ]
     },
     "execution_count": 918,
     "metadata": {},
     "output_type": "execute_result"
    }
   ],
   "source": [
    "selectedTransNoVersionNumber"
   ]
  },
  {
   "cell_type": "code",
   "execution_count": 1202,
   "metadata": {},
   "outputs": [],
   "source": [
    "Andy_svip_vep2 = Andy_svip_vep[Andy_svip_vep[\"Feature\"].isin(selectedTransNoVersionNumber)]"
   ]
  },
  {
   "cell_type": "code",
   "execution_count": 1203,
   "metadata": {},
   "outputs": [
    {
     "name": "stderr",
     "output_type": "stream",
     "text": [
      "/Users/jiayao/anaconda3/lib/python3.7/site-packages/ipykernel_launcher.py:1: SettingWithCopyWarning: \n",
      "A value is trying to be set on a copy of a slice from a DataFrame.\n",
      "Try using .loc[row_indexer,col_indexer] = value instead\n",
      "\n",
      "See the caveats in the documentation: http://pandas.pydata.org/pandas-docs/stable/indexing.html#indexing-view-versus-copy\n",
      "  \"\"\"Entry point for launching an IPython kernel.\n"
     ]
    },
    {
     "data": {
      "text/html": [
       "<div>\n",
       "<style scoped>\n",
       "    .dataframe tbody tr th:only-of-type {\n",
       "        vertical-align: middle;\n",
       "    }\n",
       "\n",
       "    .dataframe tbody tr th {\n",
       "        vertical-align: top;\n",
       "    }\n",
       "\n",
       "    .dataframe thead th {\n",
       "        text-align: right;\n",
       "    }\n",
       "</style>\n",
       "<table border=\"1\" class=\"dataframe\">\n",
       "  <thead>\n",
       "    <tr style=\"text-align: right;\">\n",
       "      <th></th>\n",
       "      <th>Uploaded_variation</th>\n",
       "      <th>Location</th>\n",
       "      <th>Allele</th>\n",
       "      <th>Consequence</th>\n",
       "      <th>IMPACT</th>\n",
       "      <th>SYMBOL</th>\n",
       "      <th>Gene</th>\n",
       "      <th>Feature_type</th>\n",
       "      <th>Feature</th>\n",
       "      <th>BIOTYPE</th>\n",
       "      <th>...</th>\n",
       "      <th>DOMAINS</th>\n",
       "      <th>HGVS_OFFSET</th>\n",
       "      <th>MOTIF_NAME</th>\n",
       "      <th>MOTIF_POS</th>\n",
       "      <th>HIGH_INF_POS</th>\n",
       "      <th>MOTIF_SCORE_CHANGE</th>\n",
       "      <th>CADD_PHRED</th>\n",
       "      <th>CADD_RAW</th>\n",
       "      <th>BLOSUM62</th>\n",
       "      <th>sfari_id</th>\n",
       "    </tr>\n",
       "  </thead>\n",
       "  <tbody>\n",
       "    <tr>\n",
       "      <th>0</th>\n",
       "      <td>15630-x2_PACS1_6</td>\n",
       "      <td>11:65978677-65978677</td>\n",
       "      <td>T</td>\n",
       "      <td>missense_variant</td>\n",
       "      <td>MODERATE</td>\n",
       "      <td>PACS1</td>\n",
       "      <td>ENSG00000175115</td>\n",
       "      <td>Transcript</td>\n",
       "      <td>ENST00000320580</td>\n",
       "      <td>protein_coding</td>\n",
       "      <td>...</td>\n",
       "      <td>hmmpanther:PTHR13280:SF16,hmmpanther:PTHR13280</td>\n",
       "      <td>-</td>\n",
       "      <td>-</td>\n",
       "      <td>-</td>\n",
       "      <td>-</td>\n",
       "      <td>-</td>\n",
       "      <td>35</td>\n",
       "      <td>7.635711</td>\n",
       "      <td>-3</td>\n",
       "      <td>15630-x2</td>\n",
       "    </tr>\n",
       "    <tr>\n",
       "      <th>5</th>\n",
       "      <td>15631-x2_PACS1_20</td>\n",
       "      <td>11:65978677-65978677</td>\n",
       "      <td>T</td>\n",
       "      <td>missense_variant</td>\n",
       "      <td>MODERATE</td>\n",
       "      <td>PACS1</td>\n",
       "      <td>ENSG00000175115</td>\n",
       "      <td>Transcript</td>\n",
       "      <td>ENST00000320580</td>\n",
       "      <td>protein_coding</td>\n",
       "      <td>...</td>\n",
       "      <td>hmmpanther:PTHR13280:SF16,hmmpanther:PTHR13280</td>\n",
       "      <td>-</td>\n",
       "      <td>-</td>\n",
       "      <td>-</td>\n",
       "      <td>-</td>\n",
       "      <td>-</td>\n",
       "      <td>35</td>\n",
       "      <td>7.635711</td>\n",
       "      <td>-3</td>\n",
       "      <td>15631-x2</td>\n",
       "    </tr>\n",
       "    <tr>\n",
       "      <th>10</th>\n",
       "      <td>15632-x2_PACS1_7</td>\n",
       "      <td>11:65978677-65978677</td>\n",
       "      <td>T</td>\n",
       "      <td>missense_variant</td>\n",
       "      <td>MODERATE</td>\n",
       "      <td>PACS1</td>\n",
       "      <td>ENSG00000175115</td>\n",
       "      <td>Transcript</td>\n",
       "      <td>ENST00000320580</td>\n",
       "      <td>protein_coding</td>\n",
       "      <td>...</td>\n",
       "      <td>hmmpanther:PTHR13280:SF16,hmmpanther:PTHR13280</td>\n",
       "      <td>-</td>\n",
       "      <td>-</td>\n",
       "      <td>-</td>\n",
       "      <td>-</td>\n",
       "      <td>-</td>\n",
       "      <td>35</td>\n",
       "      <td>7.635711</td>\n",
       "      <td>-3</td>\n",
       "      <td>15632-x2</td>\n",
       "    </tr>\n",
       "    <tr>\n",
       "      <th>15</th>\n",
       "      <td>15634-x2_PACS1_14</td>\n",
       "      <td>11:65978677-65978677</td>\n",
       "      <td>T</td>\n",
       "      <td>missense_variant</td>\n",
       "      <td>MODERATE</td>\n",
       "      <td>PACS1</td>\n",
       "      <td>ENSG00000175115</td>\n",
       "      <td>Transcript</td>\n",
       "      <td>ENST00000320580</td>\n",
       "      <td>protein_coding</td>\n",
       "      <td>...</td>\n",
       "      <td>hmmpanther:PTHR13280:SF16,hmmpanther:PTHR13280</td>\n",
       "      <td>-</td>\n",
       "      <td>-</td>\n",
       "      <td>-</td>\n",
       "      <td>-</td>\n",
       "      <td>-</td>\n",
       "      <td>35</td>\n",
       "      <td>7.635711</td>\n",
       "      <td>-3</td>\n",
       "      <td>15634-x2</td>\n",
       "    </tr>\n",
       "    <tr>\n",
       "      <th>20</th>\n",
       "      <td>15635-x3_PACS1_24</td>\n",
       "      <td>11:65978677-65978677</td>\n",
       "      <td>T</td>\n",
       "      <td>missense_variant</td>\n",
       "      <td>MODERATE</td>\n",
       "      <td>PACS1</td>\n",
       "      <td>ENSG00000175115</td>\n",
       "      <td>Transcript</td>\n",
       "      <td>ENST00000320580</td>\n",
       "      <td>protein_coding</td>\n",
       "      <td>...</td>\n",
       "      <td>hmmpanther:PTHR13280:SF16,hmmpanther:PTHR13280</td>\n",
       "      <td>-</td>\n",
       "      <td>-</td>\n",
       "      <td>-</td>\n",
       "      <td>-</td>\n",
       "      <td>-</td>\n",
       "      <td>35</td>\n",
       "      <td>7.635711</td>\n",
       "      <td>-3</td>\n",
       "      <td>15635-x3</td>\n",
       "    </tr>\n",
       "  </tbody>\n",
       "</table>\n",
       "<p>5 rows × 44 columns</p>\n",
       "</div>"
      ],
      "text/plain": [
       "   Uploaded_variation              Location Allele       Consequence  \\\n",
       "0    15630-x2_PACS1_6  11:65978677-65978677      T  missense_variant   \n",
       "5   15631-x2_PACS1_20  11:65978677-65978677      T  missense_variant   \n",
       "10   15632-x2_PACS1_7  11:65978677-65978677      T  missense_variant   \n",
       "15  15634-x2_PACS1_14  11:65978677-65978677      T  missense_variant   \n",
       "20  15635-x3_PACS1_24  11:65978677-65978677      T  missense_variant   \n",
       "\n",
       "      IMPACT SYMBOL             Gene Feature_type          Feature  \\\n",
       "0   MODERATE  PACS1  ENSG00000175115   Transcript  ENST00000320580   \n",
       "5   MODERATE  PACS1  ENSG00000175115   Transcript  ENST00000320580   \n",
       "10  MODERATE  PACS1  ENSG00000175115   Transcript  ENST00000320580   \n",
       "15  MODERATE  PACS1  ENSG00000175115   Transcript  ENST00000320580   \n",
       "20  MODERATE  PACS1  ENSG00000175115   Transcript  ENST00000320580   \n",
       "\n",
       "           BIOTYPE    ...                                            DOMAINS  \\\n",
       "0   protein_coding    ...     hmmpanther:PTHR13280:SF16,hmmpanther:PTHR13280   \n",
       "5   protein_coding    ...     hmmpanther:PTHR13280:SF16,hmmpanther:PTHR13280   \n",
       "10  protein_coding    ...     hmmpanther:PTHR13280:SF16,hmmpanther:PTHR13280   \n",
       "15  protein_coding    ...     hmmpanther:PTHR13280:SF16,hmmpanther:PTHR13280   \n",
       "20  protein_coding    ...     hmmpanther:PTHR13280:SF16,hmmpanther:PTHR13280   \n",
       "\n",
       "   HGVS_OFFSET MOTIF_NAME MOTIF_POS HIGH_INF_POS MOTIF_SCORE_CHANGE  \\\n",
       "0            -          -         -            -                  -   \n",
       "5            -          -         -            -                  -   \n",
       "10           -          -         -            -                  -   \n",
       "15           -          -         -            -                  -   \n",
       "20           -          -         -            -                  -   \n",
       "\n",
       "   CADD_PHRED  CADD_RAW BLOSUM62  sfari_id  \n",
       "0          35  7.635711       -3  15630-x2  \n",
       "5          35  7.635711       -3  15631-x2  \n",
       "10         35  7.635711       -3  15632-x2  \n",
       "15         35  7.635711       -3  15634-x2  \n",
       "20         35  7.635711       -3  15635-x3  \n",
       "\n",
       "[5 rows x 44 columns]"
      ]
     },
     "execution_count": 1203,
     "metadata": {},
     "output_type": "execute_result"
    }
   ],
   "source": [
    "Andy_svip_vep2[\"sfari_id\"] = Andy_svip_vep2.apply(lambda row:row[\"Uploaded_variation\"].split(\"_\")[0], axis=1)\n",
    "Andy_svip_vep2.head(5)"
   ]
  },
  {
   "cell_type": "code",
   "execution_count": 1204,
   "metadata": {},
   "outputs": [],
   "source": [
    "# Drop duplicates\n",
    "sfari_id2vabs = {}\n",
    "for i, row in Andy_svip_vabs.iterrows():\n",
    "    sfari_id = row[\"sfari_id\"]\n",
    "    df = Andy_svip_vabs[Andy_svip_vabs[\"sfari_id\"]==sfari_id]\n",
    "    sfari_id2vabs[sfari_id] = np.mean(df[\"composite_standard_score\"].values)\n",
    "    Andy_svip_vabs.loc[i, \"composite_standard_score\"] = sfari_id2vabs[sfari_id]\n",
    "Andy_svip_vabs = Andy_svip_vabs.drop_duplicates(subset=\"sfari_id\",keep=\"first\")\n"
   ]
  },
  {
   "cell_type": "code",
   "execution_count": 1205,
   "metadata": {
    "scrolled": true
   },
   "outputs": [
    {
     "name": "stdout",
     "output_type": "stream",
     "text": [
      "15217-x1\n",
      "15489-x1\n",
      "15925-x1\n",
      "15214-x1\n"
     ]
    }
   ],
   "source": [
    "#MatchUp VABS & Mutation\n",
    "for i, row in Andy_svip_vabs.iterrows():\n",
    "    sfari_id = row[\"sfari_id\"]\n",
    "    try:\n",
    "        df = Andy_svip_vep2[Andy_svip_vep2[\"sfari_id\"]==sfari_id]\n",
    "        Andy_svip_vabs.loc[i, \"Location\"] = df[\"Location\"].values[0]\n",
    "        Andy_svip_vabs.loc[i, \"Consequence\"] = df[\"Consequence\"].values[0]\n",
    "        Andy_svip_vabs.loc[i, \"SYMBOL\"] = df[\"SYMBOL\"].values[0]\n",
    "        Andy_svip_vabs.loc[i, \"Gene\"] = df[\"Gene\"].values[0]\n",
    "        Andy_svip_vabs.loc[i, \"Feature\"] = df[\"Feature\"].values[0]\n",
    "    except:\n",
    "        print(sfari_id)"
   ]
  },
  {
   "cell_type": "code",
   "execution_count": 1206,
   "metadata": {},
   "outputs": [],
   "source": [
    "Andy_svip_vabs = Andy_svip_vabs[Andy_svip_vabs[\"Consequence\"].isin(['frameshift_variant','splice_acceptor_variant',\n",
    " 'splice_donor_variant', 'stop_gained'])]\n",
    "#Andy_svip_vabs"
   ]
  },
  {
   "cell_type": "code",
   "execution_count": 1035,
   "metadata": {},
   "outputs": [],
   "source": [
    "Andy_svip_vabs[\"Exons\"] = \"\"\n",
    "for i, row in Andy_svip_vabs.iterrows():\n",
    "    famid, gene, location = row[\"sfari_id\"], row[\"SYMBOL\"], row[\"Location\"]\n",
    "    ExonIDs, islej = searchExon(gene, location, GTFTree, row[\"Feature\"])\n",
    "    Andy_svip_vabs.at[i, \"Exons\"] = ExonIDs\n",
    "    Andy_svip_vabs.at[i, \"isLEJ\"] = islej"
   ]
  },
  {
   "cell_type": "code",
   "execution_count": 1210,
   "metadata": {},
   "outputs": [],
   "source": [
    "#Andy_svip_vabs\n",
    "Andy_svip_vabs.head(2)\n",
    "Andy_svip_vabs[\"sex\"] = 'M'\n",
    "Andy_svip_vabs[\"genetic_status\"] = Andy_svip_vabs['SYMBOL']"
   ]
  },
  {
   "cell_type": "code",
   "execution_count": 1054,
   "metadata": {},
   "outputs": [
    {
     "data": {
      "image/png": "[encoded data removed]",
      "text/plain": [
       "<Figure size 480x320 with 1 Axes>"
      ]
     },
     "metadata": {
      "needs_background": "light"
     },
     "output_type": "display_data"
    },
    {
     "name": "stdout",
     "output_type": "stream",
     "text": [
      "6.394557327389118 12.569125319619808\n"
     ]
    },
    {
     "data": {
      "text/plain": [
       "MannwhitneyuResult(statistic=101.0, pvalue=0.01825250487845501)"
      ]
     },
     "execution_count": 1054,
     "metadata": {},
     "output_type": "execute_result"
    }
   ],
   "source": [
    "Test = Andy_svip_vabs[Andy_svip_vabs[\"isLEJ\"]==\"F\"]\n",
    "SameExon, SameExonSameGender, SameGene, ALLPairs = SameExonDef1(Test)\n",
    "Seq = [SameExonSameGender, SameExon, SameGene, ALLPairs]\n",
    "Dat = [np.mean(x) for x in Seq]\n",
    "Err = [np.std(x)/math.sqrt(len(x)) for x in Seq]\n",
    "ind = np.arange(4)  # the x locations for the groups\n",
    "width = 0.35  # the width of the bars\n",
    "fig, ax = plt.subplots(dpi=80)\n",
    "rects = ax.bar(ind, Dat, width, yerr=Err,)\n",
    "ax.set_ylabel('')\n",
    "ax.set_title('')\n",
    "ax.set_xticks(ind)\n",
    "ax.set_xticklabels([\"SameExonGender\", \"SameExon\", \"SameGene\", \"AllPairs\"])\n",
    "fig.tight_layout()\n",
    "plt.xticks(rotation=0)\n",
    "plt.show()\n",
    "print(np.mean(SameExon), np.mean(SameGene))\n",
    "scipy.stats.mannwhitneyu(SameExon, SameGene, alternative=\"less\")"
   ]
  },
  {
   "cell_type": "code",
   "execution_count": 1055,
   "metadata": {},
   "outputs": [],
   "source": [
    "GTFTree4SSC = LoadGTF(\"unifiedmodel/RecLGDgenes.gencode.v19.gtf\")\n",
    "GTFTree4VIP = LoadGTF(\"unifiedmodel/VIPgenes.gencode.v19.gtf\")\n",
    "GTFTree = {}\n",
    "for gene, geneobj in GTFTree4SSC.items():\n",
    "    GTFTree[gene] = geneobj\n",
    "for gene, geneobj in GTFTree4VIP.items():\n",
    "    if gene not in GTFTree:\n",
    "        GTFTree[gene] = geneobj"
   ]
  },
  {
   "cell_type": "code",
   "execution_count": 1208,
   "metadata": {},
   "outputs": [],
   "source": [
    "RecGenes = [\"ASXL3\",\"CHD2\",\"CHD8\",\"DSCAM\",\"DYRK1A\",\"FOXP1\",\"HIVEP2\",\"SCN2A\",\"ADNP\",\"CHAMP1\",\"CSNK2A1\",\"GRIN2B\",\n",
    "        \"HNRNPH2\",\"MED13L\",\"PACS1\",\"PPP2R5D\",\"SETBP1\",\"STXBP1\",\"SYNGAP1\"]\n",
    "Jiayao_features = pd.read_csv(\"unifiedmodel/features.jiayao.65.csv\")\n",
    "#df = Jiayao_features[Jiayao_features[\"effectGene\"].isin(Genes)]\n",
    "df = Jiayao_features\n",
    "#display(df.head(2))\n",
    "for i, row in df.iterrows():\n",
    "    df.loc[i, \"sfari_id\"] = df.loc[i, \"familyId\"]\n",
    "    df.loc[i, \"sex\"] = df.loc[i, \"gender\"]\n",
    "    Chr, Pos, Ref, Alt = row[\"vcfVariant\"].split(\":\")\n",
    "    Len = max(0, len(Ref) - len(Alt))\n",
    "    df.loc[i, \"location\"] = \"{}:{}-{}\".format(Chr, Pos, int(Pos)+Len)\n",
    "    df.loc[i, \"inheritance_status\"] = \"de-novo\"\n",
    "    df.loc[i, \"genetic_status\"] = row[\"effectGene\"]\n",
    "    df.loc[i, \"composite_standard_score\"] = row[\"VABS\"]\n",
    "    df.loc[i, \"Cohort\"] = \"SSC\"\n",
    "#df.head(2)\n",
    "df = df[[\"Cohort\", \"sfari_id\",\"sex\",\"genetic_status\",\"inheritance_status\",\"composite_standard_score\",\"location\"]]"
   ]
  },
  {
   "cell_type": "code",
   "execution_count": 1211,
   "metadata": {},
   "outputs": [
    {
     "name": "stderr",
     "output_type": "stream",
     "text": [
      "/Users/jiayao/anaconda3/lib/python3.7/site-packages/ipykernel_launcher.py:7: SettingWithCopyWarning: \n",
      "A value is trying to be set on a copy of a slice from a DataFrame.\n",
      "Try using .loc[row_indexer,col_indexer] = value instead\n",
      "\n",
      "See the caveats in the documentation: http://pandas.pydata.org/pandas-docs/stable/indexing.html#indexing-view-versus-copy\n",
      "  import sys\n"
     ]
    }
   ],
   "source": [
    "Andy_svip_vabs.head(2)\n",
    "Andy_svip_vabs[\"sex\"] = \"M\"\n",
    "Andy_svip_vabs[\"inheritance_status\"] = \"de-novo\"\n",
    "Andy_svip_vabs[\"location\"] = Andy_svip_vabs[\"Location\"]\n",
    "Andy_svip_vabs_ = Andy_svip_vabs[[\"sfari_id\",\"sex\",\"genetic_status\",\n",
    "                                   \"inheritance_status\",\"composite_standard_score\",\"location\"]]\n",
    "Andy_svip_vabs_[\"Cohort\"] = \"VIP\""
   ]
  },
  {
   "cell_type": "code",
   "execution_count": 1212,
   "metadata": {},
   "outputs": [
    {
     "name": "stderr",
     "output_type": "stream",
     "text": [
      "/Users/jiayao/anaconda3/lib/python3.7/site-packages/ipykernel_launcher.py:1: FutureWarning: Sorting because non-concatenation axis is not aligned. A future version\n",
      "of pandas will change to not sort by default.\n",
      "\n",
      "To accept the future behavior, pass 'sort=False'.\n",
      "\n",
      "To retain the current behavior and silence the warning, pass 'sort=True'.\n",
      "\n",
      "  \"\"\"Entry point for launching an IPython kernel.\n"
     ]
    }
   ],
   "source": [
    "VABS = pd.concat([df, Andy_svip_vabs_])\n",
    "VABS = VABS[VABS[\"inheritance_status\"]==\"de-novo\"]\n",
    "#VABS = VABS.dropna()\n",
    "VABS = VABS.reset_index(drop=True)"
   ]
  },
  {
   "cell_type": "code",
   "execution_count": 1213,
   "metadata": {},
   "outputs": [],
   "source": [
    "VABS.to_csv(\"data/SVIP.V4.RecGenes.LGD.txt\", index=False, sep=\"\\t\")"
   ]
  },
  {
   "cell_type": "code",
   "execution_count": 1064,
   "metadata": {},
   "outputs": [],
   "source": [
    "DF = VABS"
   ]
  },
  {
   "cell_type": "code",
   "execution_count": 1065,
   "metadata": {},
   "outputs": [
    {
     "data": {
      "text/html": [
       "<div>\n",
       "<style scoped>\n",
       "    .dataframe tbody tr th:only-of-type {\n",
       "        vertical-align: middle;\n",
       "    }\n",
       "\n",
       "    .dataframe tbody tr th {\n",
       "        vertical-align: top;\n",
       "    }\n",
       "\n",
       "    .dataframe thead th {\n",
       "        text-align: right;\n",
       "    }\n",
       "</style>\n",
       "<table border=\"1\" class=\"dataframe\">\n",
       "  <thead>\n",
       "    <tr style=\"text-align: right;\">\n",
       "      <th></th>\n",
       "      <th>Cohort</th>\n",
       "      <th>composite_standard_score</th>\n",
       "      <th>genetic_status</th>\n",
       "      <th>inheritance_status</th>\n",
       "      <th>location</th>\n",
       "      <th>sex</th>\n",
       "      <th>sfari_id</th>\n",
       "    </tr>\n",
       "  </thead>\n",
       "  <tbody>\n",
       "    <tr>\n",
       "      <th>0</th>\n",
       "      <td>SSC</td>\n",
       "      <td>53.0</td>\n",
       "      <td>ADNP</td>\n",
       "      <td>de-novo</td>\n",
       "      <td>20:49509094-49509094</td>\n",
       "      <td>M</td>\n",
       "      <td>13545</td>\n",
       "    </tr>\n",
       "    <tr>\n",
       "      <th>1</th>\n",
       "      <td>SSC</td>\n",
       "      <td>67.0</td>\n",
       "      <td>ADNP</td>\n",
       "      <td>de-novo</td>\n",
       "      <td>20:49510027-49510029</td>\n",
       "      <td>F</td>\n",
       "      <td>12130</td>\n",
       "    </tr>\n",
       "  </tbody>\n",
       "</table>\n",
       "</div>"
      ],
      "text/plain": [
       "  Cohort  composite_standard_score genetic_status inheritance_status  \\\n",
       "0    SSC                      53.0           ADNP            de-novo   \n",
       "1    SSC                      67.0           ADNP            de-novo   \n",
       "\n",
       "               location sex sfari_id  \n",
       "0  20:49509094-49509094   M    13545  \n",
       "1  20:49510027-49510029   F    12130  "
      ]
     },
     "metadata": {},
     "output_type": "display_data"
    }
   ],
   "source": [
    "DF.loc[DF[\"genetic_status\"]==\"MLL5\", \"genetic_status\"] = \"KMT2E\" \n",
    "xxx = pd.read_csv(\"unifiedmodel/peptide-position-jy.csv\")\n",
    "xxx.loc[xxx[\"effectGene\"]==\"MLL5\", \"effectGene\"] = \"KMT2E\" \n",
    "Gene2Trans2 = dict(zip(xxx[\"effectGene\"].values, xxx[\"Transcript\"].values))\n",
    "display(DF.head(2))\n",
    "Gene2Trans\n",
    "Gene2Trans2\n",
    "for i, row in DF.iterrows():\n",
    "    if row[\"genetic_status\"] in Gene2Trans:\n",
    "        transcript = Gene2Trans[row[\"genetic_status\"]]\n",
    "    else:\n",
    "        transcript = Gene2Trans2[row[\"genetic_status\"]]\n",
    "    DF.loc[i, \"Transcript\"] = transcript.split(\".\")[0]"
   ]
  },
  {
   "cell_type": "code",
   "execution_count": 1066,
   "metadata": {},
   "outputs": [],
   "source": [
    "for i, row in DF.iterrows():\n",
    "    #Chr, Pos, Ref, Alt = row[\"vcfVariant\"].split(\":\")\n",
    "    Chr, Pos = row[\"location\"].split(\":\")\n",
    "    Pos = int(Pos.split(\"-\")[0])\n",
    "    gene = row[\"genetic_status\"]\n",
    "    geneobj = GTFTree[gene]\n",
    "    transobj = geneobj.Transcripts[row[\"Transcript\"]]\n",
    "    transobj.SortExons()\n",
    "    varPos, TotalLength = searchAAPos(Pos, transobj)\n",
    "    if varPos != \"NA\":\n",
    "        DF.loc[i, \"ProteinPos\"] = str(int(varPos/3))\n",
    "    else:\n",
    "        DF.loc[i, \"ProteinPos\"] = str(\"NA\")"
   ]
  },
  {
   "cell_type": "code",
   "execution_count": 1067,
   "metadata": {},
   "outputs": [],
   "source": [
    "DF = DF[DF[\"ProteinPos\"]!=\"NA\"]\n",
    "GeneCount = DF.groupby(\"genetic_status\")[\"genetic_status\"].count()\n",
    "DF[\"GeneCount\"] = DF.apply(lambda row: GeneCount[row[\"genetic_status\"]], axis=1)\n",
    "DF = DF[DF[\"GeneCount\"]>=2]"
   ]
  },
  {
   "cell_type": "code",
   "execution_count": 1068,
   "metadata": {},
   "outputs": [],
   "source": [
    "def searchExon(Gene, Location, GTFTree, Transcript):\n",
    "    Chr, interval = Location.split(\":\")\n",
    "    Start, End = interval.split(\"-\")\n",
    "    Pos, LenV = int(Start), int(End)-int(Start)\n",
    "    gene_obj = GTFTree[Gene]\n",
    "    _Exons = []\n",
    "    #print(Location, Pos, LenV)\n",
    "    islej = \"F\"\n",
    "    transobj = gene_obj.Transcripts[Transcript]\n",
    "    transobj.SortExons()\n",
    "    for exon in transobj.ExonSeq:\n",
    "        if Pos > exon.start -3 and Pos < exon.end +3:\n",
    "            _Exons.append(exon.ExonID)\n",
    "            break\n",
    "        elif LenV > 0:\n",
    "            if (Pos < exon.start-3 and Pos + LenV > exon.start ) or (Pos < exon.end and Pos + LenV > exon.end +3):\n",
    "                _Exons.append(exon.ExonID)\n",
    "                break\n",
    "    if len(transobj.Exons) >= 2:\n",
    "        interval1, interval2 = transobj.LastExonJunction()\n",
    "        if (Pos > interval1[0] and Pos < interval1[1]):\n",
    "            islej = \"T\"\n",
    "        elif (Pos > interval2[0] and Pos < interval2[1]):\n",
    "            islej = \"T\"\n",
    "    if len(list(set(_Exons))) == 0:\n",
    "        return \"NA\", \"NA\"\n",
    "    else:\n",
    "        return list(set(_Exons))[0], islej\n",
    "\n",
    "\n",
    "DF[\"Exons\"] = \"\"\n",
    "for i, row in DF.iterrows():\n",
    "    famid, gene, location = row[\"sfari_id\"], row[\"genetic_status\"], row[\"location\"]\n",
    "    ExonIDs, islej = searchExon(gene, location, GTFTree, row[\"Transcript\"])\n",
    "    DF.at[i, \"Exons\"] = ExonIDs\n",
    "    DF.at[i, \"isLEJ\"] = islej"
   ]
  },
  {
   "cell_type": "code",
   "execution_count": 1071,
   "metadata": {
    "collapsed": true
   },
   "outputs": [
    {
     "data": {
      "text/html": [
       "<div>\n",
       "<style scoped>\n",
       "    .dataframe tbody tr th:only-of-type {\n",
       "        vertical-align: middle;\n",
       "    }\n",
       "\n",
       "    .dataframe tbody tr th {\n",
       "        vertical-align: top;\n",
       "    }\n",
       "\n",
       "    .dataframe thead th {\n",
       "        text-align: right;\n",
       "    }\n",
       "</style>\n",
       "<table border=\"1\" class=\"dataframe\">\n",
       "  <thead>\n",
       "    <tr style=\"text-align: right;\">\n",
       "      <th></th>\n",
       "      <th>Cohort</th>\n",
       "      <th>composite_standard_score</th>\n",
       "      <th>genetic_status</th>\n",
       "      <th>inheritance_status</th>\n",
       "      <th>location</th>\n",
       "      <th>sex</th>\n",
       "      <th>sfari_id</th>\n",
       "      <th>Transcript</th>\n",
       "      <th>ProteinPos</th>\n",
       "      <th>GeneCount</th>\n",
       "      <th>Exons</th>\n",
       "      <th>isLEJ</th>\n",
       "    </tr>\n",
       "  </thead>\n",
       "  <tbody>\n",
       "    <tr>\n",
       "      <th>0</th>\n",
       "      <td>SSC</td>\n",
       "      <td>53.000000</td>\n",
       "      <td>ADNP</td>\n",
       "      <td>de-novo</td>\n",
       "      <td>20:49509094-49509094</td>\n",
       "      <td>M</td>\n",
       "      <td>13545</td>\n",
       "      <td>ENST00000396029</td>\n",
       "      <td>905</td>\n",
       "      <td>10</td>\n",
       "      <td>ENSE00001455631</td>\n",
       "      <td>T</td>\n",
       "    </tr>\n",
       "    <tr>\n",
       "      <th>1</th>\n",
       "      <td>SSC</td>\n",
       "      <td>67.000000</td>\n",
       "      <td>ADNP</td>\n",
       "      <td>de-novo</td>\n",
       "      <td>20:49510027-49510029</td>\n",
       "      <td>F</td>\n",
       "      <td>12130</td>\n",
       "      <td>ENST00000396029</td>\n",
       "      <td>594</td>\n",
       "      <td>10</td>\n",
       "      <td>ENSE00001455631</td>\n",
       "      <td>T</td>\n",
       "    </tr>\n",
       "    <tr>\n",
       "      <th>2</th>\n",
       "      <td>SSC</td>\n",
       "      <td>77.000000</td>\n",
       "      <td>ANK2</td>\n",
       "      <td>de-novo</td>\n",
       "      <td>4:114232545-114232545</td>\n",
       "      <td>M</td>\n",
       "      <td>12645</td>\n",
       "      <td>ENST00000357077</td>\n",
       "      <td>886</td>\n",
       "      <td>3</td>\n",
       "      <td>ENSE00003517727</td>\n",
       "      <td>F</td>\n",
       "    </tr>\n",
       "    <tr>\n",
       "      <th>3</th>\n",
       "      <td>SSC</td>\n",
       "      <td>88.000000</td>\n",
       "      <td>ANK2</td>\n",
       "      <td>de-novo</td>\n",
       "      <td>4:114251469-114251469</td>\n",
       "      <td>M</td>\n",
       "      <td>14256</td>\n",
       "      <td>ENST00000357077</td>\n",
       "      <td>980</td>\n",
       "      <td>3</td>\n",
       "      <td>ENSE00001695957</td>\n",
       "      <td>F</td>\n",
       "    </tr>\n",
       "    <tr>\n",
       "      <th>4</th>\n",
       "      <td>SSC</td>\n",
       "      <td>71.000000</td>\n",
       "      <td>ANK2</td>\n",
       "      <td>de-novo</td>\n",
       "      <td>4:114277599-114277600</td>\n",
       "      <td>M</td>\n",
       "      <td>13768</td>\n",
       "      <td>ENST00000357077</td>\n",
       "      <td>2595</td>\n",
       "      <td>3</td>\n",
       "      <td>ENSE00001003852</td>\n",
       "      <td>F</td>\n",
       "    </tr>\n",
       "    <tr>\n",
       "      <th>5</th>\n",
       "      <td>SSC</td>\n",
       "      <td>80.000000</td>\n",
       "      <td>ANKRD11</td>\n",
       "      <td>de-novo</td>\n",
       "      <td>16:89350771-89350775</td>\n",
       "      <td>M</td>\n",
       "      <td>12507</td>\n",
       "      <td>ENST00000301030</td>\n",
       "      <td>857</td>\n",
       "      <td>2</td>\n",
       "      <td>ENSE00003474344</td>\n",
       "      <td>F</td>\n",
       "    </tr>\n",
       "    <tr>\n",
       "      <th>6</th>\n",
       "      <td>SSC</td>\n",
       "      <td>76.000000</td>\n",
       "      <td>ANKRD11</td>\n",
       "      <td>de-novo</td>\n",
       "      <td>16:89351042-89351047</td>\n",
       "      <td>F</td>\n",
       "      <td>13905</td>\n",
       "      <td>ENST00000301030</td>\n",
       "      <td>767</td>\n",
       "      <td>2</td>\n",
       "      <td>ENSE00003474344</td>\n",
       "      <td>F</td>\n",
       "    </tr>\n",
       "    <tr>\n",
       "      <th>7</th>\n",
       "      <td>SSC</td>\n",
       "      <td>64.000000</td>\n",
       "      <td>ARID1B</td>\n",
       "      <td>de-novo</td>\n",
       "      <td>6:157510805-157510805</td>\n",
       "      <td>F</td>\n",
       "      <td>14393</td>\n",
       "      <td>ENST00000350026</td>\n",
       "      <td>1176</td>\n",
       "      <td>2</td>\n",
       "      <td>ENSE00001142078</td>\n",
       "      <td>F</td>\n",
       "    </tr>\n",
       "    <tr>\n",
       "      <th>8</th>\n",
       "      <td>SSC</td>\n",
       "      <td>58.000000</td>\n",
       "      <td>ARID1B</td>\n",
       "      <td>de-novo</td>\n",
       "      <td>6:157527664-157527668</td>\n",
       "      <td>F</td>\n",
       "      <td>13447</td>\n",
       "      <td>ENST00000350026</td>\n",
       "      <td>1777</td>\n",
       "      <td>2</td>\n",
       "      <td>ENSE00002020018</td>\n",
       "      <td>T</td>\n",
       "    </tr>\n",
       "    <tr>\n",
       "      <th>9</th>\n",
       "      <td>SSC</td>\n",
       "      <td>57.000000</td>\n",
       "      <td>CHD2</td>\n",
       "      <td>de-novo</td>\n",
       "      <td>15:93524060-93524064</td>\n",
       "      <td>F</td>\n",
       "      <td>13618</td>\n",
       "      <td>ENST00000394196</td>\n",
       "      <td>1288</td>\n",
       "      <td>3</td>\n",
       "      <td>ENSE00001097780</td>\n",
       "      <td>F</td>\n",
       "    </tr>\n",
       "    <tr>\n",
       "      <th>10</th>\n",
       "      <td>SSC</td>\n",
       "      <td>74.000000</td>\n",
       "      <td>CHD2</td>\n",
       "      <td>de-novo</td>\n",
       "      <td>15:93563244-93563244</td>\n",
       "      <td>M</td>\n",
       "      <td>13614</td>\n",
       "      <td>ENST00000394196</td>\n",
       "      <td>1956</td>\n",
       "      <td>3</td>\n",
       "      <td>ENSE00001517730</td>\n",
       "      <td>F</td>\n",
       "    </tr>\n",
       "    <tr>\n",
       "      <th>11</th>\n",
       "      <td>SSC</td>\n",
       "      <td>76.000000</td>\n",
       "      <td>CHD2</td>\n",
       "      <td>de-novo</td>\n",
       "      <td>15:93563282-93563282</td>\n",
       "      <td>M</td>\n",
       "      <td>13818</td>\n",
       "      <td>ENST00000394196</td>\n",
       "      <td>1968</td>\n",
       "      <td>3</td>\n",
       "      <td>ENSE00001517730</td>\n",
       "      <td>F</td>\n",
       "    </tr>\n",
       "    <tr>\n",
       "      <th>12</th>\n",
       "      <td>SSC</td>\n",
       "      <td>39.000000</td>\n",
       "      <td>CHD8</td>\n",
       "      <td>de-novo</td>\n",
       "      <td>14:21859175-21859175</td>\n",
       "      <td>M</td>\n",
       "      <td>14233</td>\n",
       "      <td>ENST00000399982</td>\n",
       "      <td>2359</td>\n",
       "      <td>7</td>\n",
       "      <td>ENSE00001096840</td>\n",
       "      <td>F</td>\n",
       "    </tr>\n",
       "    <tr>\n",
       "      <th>13</th>\n",
       "      <td>SSC</td>\n",
       "      <td>59.000000</td>\n",
       "      <td>CHD8</td>\n",
       "      <td>de-novo</td>\n",
       "      <td>14:21861376-21861378</td>\n",
       "      <td>F</td>\n",
       "      <td>12752</td>\n",
       "      <td>ENST00000399982</td>\n",
       "      <td>2108</td>\n",
       "      <td>7</td>\n",
       "      <td>ENSE00001096834</td>\n",
       "      <td>F</td>\n",
       "    </tr>\n",
       "    <tr>\n",
       "      <th>14</th>\n",
       "      <td>SSC</td>\n",
       "      <td>73.000000</td>\n",
       "      <td>CHD8</td>\n",
       "      <td>de-novo</td>\n",
       "      <td>14:21861643-21861647</td>\n",
       "      <td>M</td>\n",
       "      <td>12991</td>\n",
       "      <td>ENST00000399982</td>\n",
       "      <td>2093</td>\n",
       "      <td>7</td>\n",
       "      <td>ENSE00001096842</td>\n",
       "      <td>F</td>\n",
       "    </tr>\n",
       "    <tr>\n",
       "      <th>15</th>\n",
       "      <td>SSC</td>\n",
       "      <td>58.000000</td>\n",
       "      <td>CHD8</td>\n",
       "      <td>de-novo</td>\n",
       "      <td>14:21870169-21870169</td>\n",
       "      <td>M</td>\n",
       "      <td>14016</td>\n",
       "      <td>ENST00000399982</td>\n",
       "      <td>1330</td>\n",
       "      <td>7</td>\n",
       "      <td>ENSE00003567094</td>\n",
       "      <td>F</td>\n",
       "    </tr>\n",
       "    <tr>\n",
       "      <th>16</th>\n",
       "      <td>SSC</td>\n",
       "      <td>59.000000</td>\n",
       "      <td>CHD8</td>\n",
       "      <td>de-novo</td>\n",
       "      <td>14:21871178-21871178</td>\n",
       "      <td>M</td>\n",
       "      <td>13844</td>\n",
       "      <td>ENST00000399982</td>\n",
       "      <td>1231</td>\n",
       "      <td>7</td>\n",
       "      <td>ENSE00001739488</td>\n",
       "      <td>F</td>\n",
       "    </tr>\n",
       "    <tr>\n",
       "      <th>17</th>\n",
       "      <td>SSC</td>\n",
       "      <td>70.000000</td>\n",
       "      <td>CHD8</td>\n",
       "      <td>de-novo</td>\n",
       "      <td>14:21871373-21871373</td>\n",
       "      <td>F</td>\n",
       "      <td>11654</td>\n",
       "      <td>ENST00000399982</td>\n",
       "      <td>1167</td>\n",
       "      <td>7</td>\n",
       "      <td>ENSE00001739488</td>\n",
       "      <td>F</td>\n",
       "    </tr>\n",
       "    <tr>\n",
       "      <th>18</th>\n",
       "      <td>SSC</td>\n",
       "      <td>55.000000</td>\n",
       "      <td>CHD8</td>\n",
       "      <td>de-novo</td>\n",
       "      <td>14:21895989-21896036</td>\n",
       "      <td>M</td>\n",
       "      <td>13900</td>\n",
       "      <td>ENST00000399982</td>\n",
       "      <td>532</td>\n",
       "      <td>7</td>\n",
       "      <td>ENSE00001422532</td>\n",
       "      <td>F</td>\n",
       "    </tr>\n",
       "    <tr>\n",
       "      <th>19</th>\n",
       "      <td>SSC</td>\n",
       "      <td>56.000000</td>\n",
       "      <td>DIP2A</td>\n",
       "      <td>de-novo</td>\n",
       "      <td>21:47957426-47957426</td>\n",
       "      <td>M</td>\n",
       "      <td>13106</td>\n",
       "      <td>ENST00000417564</td>\n",
       "      <td>586</td>\n",
       "      <td>2</td>\n",
       "      <td>ENSE00003623916</td>\n",
       "      <td>F</td>\n",
       "    </tr>\n",
       "    <tr>\n",
       "      <th>20</th>\n",
       "      <td>SSC</td>\n",
       "      <td>54.000000</td>\n",
       "      <td>DIP2A</td>\n",
       "      <td>de-novo</td>\n",
       "      <td>21:47958429-47958429</td>\n",
       "      <td>M</td>\n",
       "      <td>13012</td>\n",
       "      <td>ENST00000417564</td>\n",
       "      <td>606</td>\n",
       "      <td>2</td>\n",
       "      <td>ENSE00003546483</td>\n",
       "      <td>F</td>\n",
       "    </tr>\n",
       "    <tr>\n",
       "      <th>21</th>\n",
       "      <td>SSC</td>\n",
       "      <td>59.000000</td>\n",
       "      <td>DSCAM</td>\n",
       "      <td>de-novo</td>\n",
       "      <td>21:41414330-41414330</td>\n",
       "      <td>M</td>\n",
       "      <td>13735</td>\n",
       "      <td>ENST00000400454</td>\n",
       "      <td>1874</td>\n",
       "      <td>3</td>\n",
       "      <td>ENSE00001322604</td>\n",
       "      <td>T</td>\n",
       "    </tr>\n",
       "    <tr>\n",
       "      <th>22</th>\n",
       "      <td>SSC</td>\n",
       "      <td>72.000000</td>\n",
       "      <td>DSCAM</td>\n",
       "      <td>de-novo</td>\n",
       "      <td>21:41457527-41457527</td>\n",
       "      <td>M</td>\n",
       "      <td>12329</td>\n",
       "      <td>ENST00000400454</td>\n",
       "      <td>1369</td>\n",
       "      <td>3</td>\n",
       "      <td>ENSE00001175248</td>\n",
       "      <td>F</td>\n",
       "    </tr>\n",
       "    <tr>\n",
       "      <th>23</th>\n",
       "      <td>SSC</td>\n",
       "      <td>71.000000</td>\n",
       "      <td>DSCAM</td>\n",
       "      <td>de-novo</td>\n",
       "      <td>21:41457640-41457640</td>\n",
       "      <td>M</td>\n",
       "      <td>14597</td>\n",
       "      <td>ENST00000400454</td>\n",
       "      <td>1332</td>\n",
       "      <td>3</td>\n",
       "      <td>ENSE00001175248</td>\n",
       "      <td>F</td>\n",
       "    </tr>\n",
       "    <tr>\n",
       "      <th>24</th>\n",
       "      <td>SSC</td>\n",
       "      <td>74.000000</td>\n",
       "      <td>DYRK1A</td>\n",
       "      <td>de-novo</td>\n",
       "      <td>21:38845116-38845118</td>\n",
       "      <td>M</td>\n",
       "      <td>12099</td>\n",
       "      <td>ENST00000339659</td>\n",
       "      <td>46</td>\n",
       "      <td>4</td>\n",
       "      <td>ENSE00003504646</td>\n",
       "      <td>F</td>\n",
       "    </tr>\n",
       "    <tr>\n",
       "      <th>25</th>\n",
       "      <td>SSC</td>\n",
       "      <td>41.000000</td>\n",
       "      <td>DYRK1A</td>\n",
       "      <td>de-novo</td>\n",
       "      <td>21:38865466-38865466</td>\n",
       "      <td>F</td>\n",
       "      <td>13890</td>\n",
       "      <td>ENST00000339659</td>\n",
       "      <td>354</td>\n",
       "      <td>4</td>\n",
       "      <td>ENSE00001033275</td>\n",
       "      <td>F</td>\n",
       "    </tr>\n",
       "    <tr>\n",
       "      <th>26</th>\n",
       "      <td>SSC</td>\n",
       "      <td>68.000000</td>\n",
       "      <td>DYRK1A</td>\n",
       "      <td>de-novo</td>\n",
       "      <td>21:38877833-38877834</td>\n",
       "      <td>M</td>\n",
       "      <td>13552</td>\n",
       "      <td>ENST00000339659</td>\n",
       "      <td>483</td>\n",
       "      <td>4</td>\n",
       "      <td>ENSE00001262033</td>\n",
       "      <td>F</td>\n",
       "    </tr>\n",
       "    <tr>\n",
       "      <th>27</th>\n",
       "      <td>SSC</td>\n",
       "      <td>68.000000</td>\n",
       "      <td>DYRK1A</td>\n",
       "      <td>de-novo</td>\n",
       "      <td>21:38877891-38877906</td>\n",
       "      <td>M</td>\n",
       "      <td>13256</td>\n",
       "      <td>ENST00000339659</td>\n",
       "      <td>503</td>\n",
       "      <td>4</td>\n",
       "      <td>ENSE00001262033</td>\n",
       "      <td>F</td>\n",
       "    </tr>\n",
       "    <tr>\n",
       "      <th>28</th>\n",
       "      <td>SSC</td>\n",
       "      <td>80.000000</td>\n",
       "      <td>FOXP1</td>\n",
       "      <td>de-novo</td>\n",
       "      <td>3:71026115-71026115</td>\n",
       "      <td>M</td>\n",
       "      <td>11403</td>\n",
       "      <td>ENST00000318789</td>\n",
       "      <td>668</td>\n",
       "      <td>4</td>\n",
       "      <td>ENSE00002417698</td>\n",
       "      <td>F</td>\n",
       "    </tr>\n",
       "    <tr>\n",
       "      <th>29</th>\n",
       "      <td>SSC</td>\n",
       "      <td>66.000000</td>\n",
       "      <td>FOXP1</td>\n",
       "      <td>de-novo</td>\n",
       "      <td>3:71050170-71050170</td>\n",
       "      <td>M</td>\n",
       "      <td>12817</td>\n",
       "      <td>ENST00000318789</td>\n",
       "      <td>505</td>\n",
       "      <td>4</td>\n",
       "      <td>ENSE00001258621</td>\n",
       "      <td>F</td>\n",
       "    </tr>\n",
       "    <tr>\n",
       "      <th>...</th>\n",
       "      <td>...</td>\n",
       "      <td>...</td>\n",
       "      <td>...</td>\n",
       "      <td>...</td>\n",
       "      <td>...</td>\n",
       "      <td>...</td>\n",
       "      <td>...</td>\n",
       "      <td>...</td>\n",
       "      <td>...</td>\n",
       "      <td>...</td>\n",
       "      <td>...</td>\n",
       "      <td>...</td>\n",
       "    </tr>\n",
       "    <tr>\n",
       "      <th>75</th>\n",
       "      <td>VIP</td>\n",
       "      <td>55.000000</td>\n",
       "      <td>ASXL3</td>\n",
       "      <td>de-novo</td>\n",
       "      <td>18:31318846-31318848</td>\n",
       "      <td>M</td>\n",
       "      <td>15234-x1</td>\n",
       "      <td>ENST00000269197</td>\n",
       "      <td>489</td>\n",
       "      <td>6</td>\n",
       "      <td>ENSE00003631966</td>\n",
       "      <td>F</td>\n",
       "    </tr>\n",
       "    <tr>\n",
       "      <th>76</th>\n",
       "      <td>VIP</td>\n",
       "      <td>64.000000</td>\n",
       "      <td>ASXL3</td>\n",
       "      <td>de-novo</td>\n",
       "      <td>18:31319307-31319307</td>\n",
       "      <td>M</td>\n",
       "      <td>15452-x1</td>\n",
       "      <td>ENST00000269197</td>\n",
       "      <td>642</td>\n",
       "      <td>6</td>\n",
       "      <td>ENSE00003631966</td>\n",
       "      <td>F</td>\n",
       "    </tr>\n",
       "    <tr>\n",
       "      <th>77</th>\n",
       "      <td>VIP</td>\n",
       "      <td>69.437500</td>\n",
       "      <td>ASXL3</td>\n",
       "      <td>de-novo</td>\n",
       "      <td>18:31323833-31323835</td>\n",
       "      <td>M</td>\n",
       "      <td>15460-x1</td>\n",
       "      <td>ENST00000269197</td>\n",
       "      <td>1336</td>\n",
       "      <td>6</td>\n",
       "      <td>ENSE00000948514</td>\n",
       "      <td>T</td>\n",
       "    </tr>\n",
       "    <tr>\n",
       "      <th>78</th>\n",
       "      <td>VIP</td>\n",
       "      <td>53.031250</td>\n",
       "      <td>ASXL3</td>\n",
       "      <td>de-novo</td>\n",
       "      <td>18:31324134-31324134</td>\n",
       "      <td>M</td>\n",
       "      <td>15461-x1</td>\n",
       "      <td>ENST00000269197</td>\n",
       "      <td>1436</td>\n",
       "      <td>6</td>\n",
       "      <td>ENSE00000948514</td>\n",
       "      <td>T</td>\n",
       "    </tr>\n",
       "    <tr>\n",
       "      <th>79</th>\n",
       "      <td>VIP</td>\n",
       "      <td>68.960677</td>\n",
       "      <td>FOXP1</td>\n",
       "      <td>de-novo</td>\n",
       "      <td>3:71026169-71026169</td>\n",
       "      <td>M</td>\n",
       "      <td>15289-x1</td>\n",
       "      <td>ENST00000318789</td>\n",
       "      <td>650</td>\n",
       "      <td>4</td>\n",
       "      <td>ENSE00002417698</td>\n",
       "      <td>F</td>\n",
       "    </tr>\n",
       "    <tr>\n",
       "      <th>80</th>\n",
       "      <td>VIP</td>\n",
       "      <td>70.000000</td>\n",
       "      <td>FOXP1</td>\n",
       "      <td>de-novo</td>\n",
       "      <td>3:71026133-71026133</td>\n",
       "      <td>M</td>\n",
       "      <td>15930-x1</td>\n",
       "      <td>ENST00000318789</td>\n",
       "      <td>662</td>\n",
       "      <td>4</td>\n",
       "      <td>ENSE00002417698</td>\n",
       "      <td>F</td>\n",
       "    </tr>\n",
       "    <tr>\n",
       "      <th>81</th>\n",
       "      <td>VIP</td>\n",
       "      <td>54.000000</td>\n",
       "      <td>GRIN2B</td>\n",
       "      <td>de-novo</td>\n",
       "      <td>12:13720018-13720018</td>\n",
       "      <td>M</td>\n",
       "      <td>15298-x2</td>\n",
       "      <td>ENST00000609686</td>\n",
       "      <td>906</td>\n",
       "      <td>5</td>\n",
       "      <td>ENSE00000993715</td>\n",
       "      <td>F</td>\n",
       "    </tr>\n",
       "    <tr>\n",
       "      <th>82</th>\n",
       "      <td>VIP</td>\n",
       "      <td>67.656250</td>\n",
       "      <td>GRIN2B</td>\n",
       "      <td>de-novo</td>\n",
       "      <td>12:13761724-13761724</td>\n",
       "      <td>M</td>\n",
       "      <td>15422-x1</td>\n",
       "      <td>ENST00000609686</td>\n",
       "      <td>668</td>\n",
       "      <td>5</td>\n",
       "      <td>ENSE00000993719</td>\n",
       "      <td>F</td>\n",
       "    </tr>\n",
       "    <tr>\n",
       "      <th>83</th>\n",
       "      <td>VIP</td>\n",
       "      <td>53.000000</td>\n",
       "      <td>HIVEP2</td>\n",
       "      <td>de-novo</td>\n",
       "      <td>6:143093049-143093049</td>\n",
       "      <td>M</td>\n",
       "      <td>15427-x1</td>\n",
       "      <td>ENST00000367603</td>\n",
       "      <td>1059</td>\n",
       "      <td>5</td>\n",
       "      <td>ENSE00001445111</td>\n",
       "      <td>F</td>\n",
       "    </tr>\n",
       "    <tr>\n",
       "      <th>84</th>\n",
       "      <td>VIP</td>\n",
       "      <td>71.000000</td>\n",
       "      <td>HIVEP2</td>\n",
       "      <td>de-novo</td>\n",
       "      <td>6:143074621-143074621</td>\n",
       "      <td>M</td>\n",
       "      <td>15429-x1</td>\n",
       "      <td>ENST00000367603</td>\n",
       "      <td>2436</td>\n",
       "      <td>5</td>\n",
       "      <td>ENSE00001445110</td>\n",
       "      <td>T</td>\n",
       "    </tr>\n",
       "    <tr>\n",
       "      <th>85</th>\n",
       "      <td>VIP</td>\n",
       "      <td>61.031250</td>\n",
       "      <td>HIVEP2</td>\n",
       "      <td>de-novo</td>\n",
       "      <td>6:143092971-143092971</td>\n",
       "      <td>M</td>\n",
       "      <td>15468-x1</td>\n",
       "      <td>ENST00000367603</td>\n",
       "      <td>1085</td>\n",
       "      <td>5</td>\n",
       "      <td>ENSE00001445111</td>\n",
       "      <td>F</td>\n",
       "    </tr>\n",
       "    <tr>\n",
       "      <th>86</th>\n",
       "      <td>VIP</td>\n",
       "      <td>43.000000</td>\n",
       "      <td>HIVEP2</td>\n",
       "      <td>de-novo</td>\n",
       "      <td>6:143081739-143081739</td>\n",
       "      <td>M</td>\n",
       "      <td>15482-x1</td>\n",
       "      <td>ENST00000367603</td>\n",
       "      <td>2011</td>\n",
       "      <td>5</td>\n",
       "      <td>ENSE00000764845</td>\n",
       "      <td>F</td>\n",
       "    </tr>\n",
       "    <tr>\n",
       "      <th>87</th>\n",
       "      <td>VIP</td>\n",
       "      <td>54.000000</td>\n",
       "      <td>HIVEP2</td>\n",
       "      <td>de-novo</td>\n",
       "      <td>6:143093049-143093049</td>\n",
       "      <td>M</td>\n",
       "      <td>15951-x1</td>\n",
       "      <td>ENST00000367603</td>\n",
       "      <td>1059</td>\n",
       "      <td>5</td>\n",
       "      <td>ENSE00001445111</td>\n",
       "      <td>F</td>\n",
       "    </tr>\n",
       "    <tr>\n",
       "      <th>88</th>\n",
       "      <td>VIP</td>\n",
       "      <td>51.000000</td>\n",
       "      <td>MED13L</td>\n",
       "      <td>de-novo</td>\n",
       "      <td>12:116424952-116424952</td>\n",
       "      <td>M</td>\n",
       "      <td>15230-x1</td>\n",
       "      <td>ENST00000281928</td>\n",
       "      <td>1352</td>\n",
       "      <td>5</td>\n",
       "      <td>ENSE00000835030</td>\n",
       "      <td>F</td>\n",
       "    </tr>\n",
       "    <tr>\n",
       "      <th>89</th>\n",
       "      <td>VIP</td>\n",
       "      <td>48.343750</td>\n",
       "      <td>MED13L</td>\n",
       "      <td>de-novo</td>\n",
       "      <td>12:116413009-116413009</td>\n",
       "      <td>M</td>\n",
       "      <td>15240-x1</td>\n",
       "      <td>ENST00000281928</td>\n",
       "      <td>1891</td>\n",
       "      <td>5</td>\n",
       "      <td>ENSE00000835023</td>\n",
       "      <td>F</td>\n",
       "    </tr>\n",
       "    <tr>\n",
       "      <th>90</th>\n",
       "      <td>VIP</td>\n",
       "      <td>71.000000</td>\n",
       "      <td>MED13L</td>\n",
       "      <td>de-novo</td>\n",
       "      <td>12:116434362-116434366</td>\n",
       "      <td>M</td>\n",
       "      <td>15629-x2</td>\n",
       "      <td>ENST00000281928</td>\n",
       "      <td>966</td>\n",
       "      <td>5</td>\n",
       "      <td>ENSE00001003522</td>\n",
       "      <td>F</td>\n",
       "    </tr>\n",
       "    <tr>\n",
       "      <th>92</th>\n",
       "      <td>VIP</td>\n",
       "      <td>39.000000</td>\n",
       "      <td>SCN2A</td>\n",
       "      <td>de-novo</td>\n",
       "      <td>2:166188079-166188079</td>\n",
       "      <td>M</td>\n",
       "      <td>15410-x1</td>\n",
       "      <td>ENST00000357398</td>\n",
       "      <td>871</td>\n",
       "      <td>8</td>\n",
       "      <td>ENSE00003516579</td>\n",
       "      <td>F</td>\n",
       "    </tr>\n",
       "    <tr>\n",
       "      <th>93</th>\n",
       "      <td>VIP</td>\n",
       "      <td>57.937500</td>\n",
       "      <td>SCN2A</td>\n",
       "      <td>de-novo</td>\n",
       "      <td>2:166234162-166234162</td>\n",
       "      <td>M</td>\n",
       "      <td>15256-x1</td>\n",
       "      <td>ENST00000357398</td>\n",
       "      <td>1508</td>\n",
       "      <td>8</td>\n",
       "      <td>ENSE00003606139</td>\n",
       "      <td>F</td>\n",
       "    </tr>\n",
       "    <tr>\n",
       "      <th>94</th>\n",
       "      <td>VIP</td>\n",
       "      <td>49.781250</td>\n",
       "      <td>SCN2A</td>\n",
       "      <td>de-novo</td>\n",
       "      <td>2:166201123-166201133</td>\n",
       "      <td>M</td>\n",
       "      <td>15261-x1</td>\n",
       "      <td>ENST00000357398</td>\n",
       "      <td>948</td>\n",
       "      <td>8</td>\n",
       "      <td>ENSE00003550077</td>\n",
       "      <td>F</td>\n",
       "    </tr>\n",
       "    <tr>\n",
       "      <th>95</th>\n",
       "      <td>VIP</td>\n",
       "      <td>38.343750</td>\n",
       "      <td>SCN2A</td>\n",
       "      <td>de-novo</td>\n",
       "      <td>2:166165305-166165305</td>\n",
       "      <td>M</td>\n",
       "      <td>15508-x1</td>\n",
       "      <td>ENST00000357398</td>\n",
       "      <td>279</td>\n",
       "      <td>8</td>\n",
       "      <td>ENSE00003646557</td>\n",
       "      <td>F</td>\n",
       "    </tr>\n",
       "    <tr>\n",
       "      <th>96</th>\n",
       "      <td>VIP</td>\n",
       "      <td>70.000000</td>\n",
       "      <td>SCN2A</td>\n",
       "      <td>de-novo</td>\n",
       "      <td>2:166201379-166201379</td>\n",
       "      <td>M</td>\n",
       "      <td>15531-x1</td>\n",
       "      <td>ENST00000357398</td>\n",
       "      <td>1033</td>\n",
       "      <td>8</td>\n",
       "      <td>ENSE00003550077</td>\n",
       "      <td>F</td>\n",
       "    </tr>\n",
       "    <tr>\n",
       "      <th>97</th>\n",
       "      <td>VIP</td>\n",
       "      <td>53.312500</td>\n",
       "      <td>SCN2A</td>\n",
       "      <td>de-novo</td>\n",
       "      <td>2:166234161-166234161</td>\n",
       "      <td>M</td>\n",
       "      <td>15516-x1</td>\n",
       "      <td>ENST00000357398</td>\n",
       "      <td>1508</td>\n",
       "      <td>8</td>\n",
       "      <td>ENSE00003606139</td>\n",
       "      <td>F</td>\n",
       "    </tr>\n",
       "    <tr>\n",
       "      <th>98</th>\n",
       "      <td>VIP</td>\n",
       "      <td>63.000000</td>\n",
       "      <td>SETBP1</td>\n",
       "      <td>de-novo</td>\n",
       "      <td>18:42531070-42531070</td>\n",
       "      <td>M</td>\n",
       "      <td>15701-x1</td>\n",
       "      <td>ENST00000282030</td>\n",
       "      <td>628</td>\n",
       "      <td>2</td>\n",
       "      <td>ENSE00001004034</td>\n",
       "      <td>F</td>\n",
       "    </tr>\n",
       "    <tr>\n",
       "      <th>99</th>\n",
       "      <td>VIP</td>\n",
       "      <td>67.000000</td>\n",
       "      <td>SETBP1</td>\n",
       "      <td>de-novo</td>\n",
       "      <td>18:42530872-42530873</td>\n",
       "      <td>M</td>\n",
       "      <td>15957-x1</td>\n",
       "      <td>ENST00000282030</td>\n",
       "      <td>562</td>\n",
       "      <td>2</td>\n",
       "      <td>ENSE00001004034</td>\n",
       "      <td>F</td>\n",
       "    </tr>\n",
       "    <tr>\n",
       "      <th>100</th>\n",
       "      <td>VIP</td>\n",
       "      <td>29.343750</td>\n",
       "      <td>STXBP1</td>\n",
       "      <td>de-novo</td>\n",
       "      <td>9:130420652-130420652</td>\n",
       "      <td>M</td>\n",
       "      <td>15615-x2</td>\n",
       "      <td>ENST00000373302</td>\n",
       "      <td>55</td>\n",
       "      <td>3</td>\n",
       "      <td>ENSE00000927171</td>\n",
       "      <td>F</td>\n",
       "    </tr>\n",
       "    <tr>\n",
       "      <th>101</th>\n",
       "      <td>VIP</td>\n",
       "      <td>52.000000</td>\n",
       "      <td>STXBP1</td>\n",
       "      <td>de-novo</td>\n",
       "      <td>9:130423419-130423419</td>\n",
       "      <td>M</td>\n",
       "      <td>15936-x1</td>\n",
       "      <td>ENST00000373302</td>\n",
       "      <td>119</td>\n",
       "      <td>3</td>\n",
       "      <td>ENSE00000927173</td>\n",
       "      <td>F</td>\n",
       "    </tr>\n",
       "    <tr>\n",
       "      <th>102</th>\n",
       "      <td>VIP</td>\n",
       "      <td>54.000000</td>\n",
       "      <td>STXBP1</td>\n",
       "      <td>de-novo</td>\n",
       "      <td>9:130444733-130444734</td>\n",
       "      <td>M</td>\n",
       "      <td>16044-x1</td>\n",
       "      <td>ENST00000373302</td>\n",
       "      <td>526</td>\n",
       "      <td>3</td>\n",
       "      <td>ENSE00003499262</td>\n",
       "      <td>F</td>\n",
       "    </tr>\n",
       "    <tr>\n",
       "      <th>103</th>\n",
       "      <td>VIP</td>\n",
       "      <td>62.887060</td>\n",
       "      <td>SYNGAP1</td>\n",
       "      <td>de-novo</td>\n",
       "      <td>6:33414487-33414487</td>\n",
       "      <td>M</td>\n",
       "      <td>15208-x1</td>\n",
       "      <td>ENST00000418600</td>\n",
       "      <td>1233</td>\n",
       "      <td>3</td>\n",
       "      <td>ENSE00003622760</td>\n",
       "      <td>F</td>\n",
       "    </tr>\n",
       "    <tr>\n",
       "      <th>104</th>\n",
       "      <td>VIP</td>\n",
       "      <td>77.974594</td>\n",
       "      <td>SYNGAP1</td>\n",
       "      <td>de-novo</td>\n",
       "      <td>6:33399974-33399975</td>\n",
       "      <td>M</td>\n",
       "      <td>15209-x1</td>\n",
       "      <td>ENST00000418600</td>\n",
       "      <td>109</td>\n",
       "      <td>3</td>\n",
       "      <td>ENSE00003465850</td>\n",
       "      <td>F</td>\n",
       "    </tr>\n",
       "    <tr>\n",
       "      <th>105</th>\n",
       "      <td>VIP</td>\n",
       "      <td>54.250000</td>\n",
       "      <td>SYNGAP1</td>\n",
       "      <td>de-novo</td>\n",
       "      <td>6:33403327-33403327</td>\n",
       "      <td>M</td>\n",
       "      <td>15481-x1</td>\n",
       "      <td>ENST00000418600</td>\n",
       "      <td>230</td>\n",
       "      <td>3</td>\n",
       "      <td>ENSE00003614194</td>\n",
       "      <td>F</td>\n",
       "    </tr>\n",
       "  </tbody>\n",
       "</table>\n",
       "<p>105 rows × 12 columns</p>\n",
       "</div>"
      ],
      "text/plain": [
       "    Cohort  composite_standard_score genetic_status inheritance_status  \\\n",
       "0      SSC                 53.000000           ADNP            de-novo   \n",
       "1      SSC                 67.000000           ADNP            de-novo   \n",
       "2      SSC                 77.000000           ANK2            de-novo   \n",
       "3      SSC                 88.000000           ANK2            de-novo   \n",
       "4      SSC                 71.000000           ANK2            de-novo   \n",
       "5      SSC                 80.000000        ANKRD11            de-novo   \n",
       "6      SSC                 76.000000        ANKRD11            de-novo   \n",
       "7      SSC                 64.000000         ARID1B            de-novo   \n",
       "8      SSC                 58.000000         ARID1B            de-novo   \n",
       "9      SSC                 57.000000           CHD2            de-novo   \n",
       "10     SSC                 74.000000           CHD2            de-novo   \n",
       "11     SSC                 76.000000           CHD2            de-novo   \n",
       "12     SSC                 39.000000           CHD8            de-novo   \n",
       "13     SSC                 59.000000           CHD8            de-novo   \n",
       "14     SSC                 73.000000           CHD8            de-novo   \n",
       "15     SSC                 58.000000           CHD8            de-novo   \n",
       "16     SSC                 59.000000           CHD8            de-novo   \n",
       "17     SSC                 70.000000           CHD8            de-novo   \n",
       "18     SSC                 55.000000           CHD8            de-novo   \n",
       "19     SSC                 56.000000          DIP2A            de-novo   \n",
       "20     SSC                 54.000000          DIP2A            de-novo   \n",
       "21     SSC                 59.000000          DSCAM            de-novo   \n",
       "22     SSC                 72.000000          DSCAM            de-novo   \n",
       "23     SSC                 71.000000          DSCAM            de-novo   \n",
       "24     SSC                 74.000000         DYRK1A            de-novo   \n",
       "25     SSC                 41.000000         DYRK1A            de-novo   \n",
       "26     SSC                 68.000000         DYRK1A            de-novo   \n",
       "27     SSC                 68.000000         DYRK1A            de-novo   \n",
       "28     SSC                 80.000000          FOXP1            de-novo   \n",
       "29     SSC                 66.000000          FOXP1            de-novo   \n",
       "..     ...                       ...            ...                ...   \n",
       "75     VIP                 55.000000          ASXL3            de-novo   \n",
       "76     VIP                 64.000000          ASXL3            de-novo   \n",
       "77     VIP                 69.437500          ASXL3            de-novo   \n",
       "78     VIP                 53.031250          ASXL3            de-novo   \n",
       "79     VIP                 68.960677          FOXP1            de-novo   \n",
       "80     VIP                 70.000000          FOXP1            de-novo   \n",
       "81     VIP                 54.000000         GRIN2B            de-novo   \n",
       "82     VIP                 67.656250         GRIN2B            de-novo   \n",
       "83     VIP                 53.000000         HIVEP2            de-novo   \n",
       "84     VIP                 71.000000         HIVEP2            de-novo   \n",
       "85     VIP                 61.031250         HIVEP2            de-novo   \n",
       "86     VIP                 43.000000         HIVEP2            de-novo   \n",
       "87     VIP                 54.000000         HIVEP2            de-novo   \n",
       "88     VIP                 51.000000         MED13L            de-novo   \n",
       "89     VIP                 48.343750         MED13L            de-novo   \n",
       "90     VIP                 71.000000         MED13L            de-novo   \n",
       "92     VIP                 39.000000          SCN2A            de-novo   \n",
       "93     VIP                 57.937500          SCN2A            de-novo   \n",
       "94     VIP                 49.781250          SCN2A            de-novo   \n",
       "95     VIP                 38.343750          SCN2A            de-novo   \n",
       "96     VIP                 70.000000          SCN2A            de-novo   \n",
       "97     VIP                 53.312500          SCN2A            de-novo   \n",
       "98     VIP                 63.000000         SETBP1            de-novo   \n",
       "99     VIP                 67.000000         SETBP1            de-novo   \n",
       "100    VIP                 29.343750         STXBP1            de-novo   \n",
       "101    VIP                 52.000000         STXBP1            de-novo   \n",
       "102    VIP                 54.000000         STXBP1            de-novo   \n",
       "103    VIP                 62.887060        SYNGAP1            de-novo   \n",
       "104    VIP                 77.974594        SYNGAP1            de-novo   \n",
       "105    VIP                 54.250000        SYNGAP1            de-novo   \n",
       "\n",
       "                   location sex  sfari_id       Transcript ProteinPos  \\\n",
       "0      20:49509094-49509094   M     13545  ENST00000396029        905   \n",
       "1      20:49510027-49510029   F     12130  ENST00000396029        594   \n",
       "2     4:114232545-114232545   M     12645  ENST00000357077        886   \n",
       "3     4:114251469-114251469   M     14256  ENST00000357077        980   \n",
       "4     4:114277599-114277600   M     13768  ENST00000357077       2595   \n",
       "5      16:89350771-89350775   M     12507  ENST00000301030        857   \n",
       "6      16:89351042-89351047   F     13905  ENST00000301030        767   \n",
       "7     6:157510805-157510805   F     14393  ENST00000350026       1176   \n",
       "8     6:157527664-157527668   F     13447  ENST00000350026       1777   \n",
       "9      15:93524060-93524064   F     13618  ENST00000394196       1288   \n",
       "10     15:93563244-93563244   M     13614  ENST00000394196       1956   \n",
       "11     15:93563282-93563282   M     13818  ENST00000394196       1968   \n",
       "12     14:21859175-21859175   M     14233  ENST00000399982       2359   \n",
       "13     14:21861376-21861378   F     12752  ENST00000399982       2108   \n",
       "14     14:21861643-21861647   M     12991  ENST00000399982       2093   \n",
       "15     14:21870169-21870169   M     14016  ENST00000399982       1330   \n",
       "16     14:21871178-21871178   M     13844  ENST00000399982       1231   \n",
       "17     14:21871373-21871373   F     11654  ENST00000399982       1167   \n",
       "18     14:21895989-21896036   M     13900  ENST00000399982        532   \n",
       "19     21:47957426-47957426   M     13106  ENST00000417564        586   \n",
       "20     21:47958429-47958429   M     13012  ENST00000417564        606   \n",
       "21     21:41414330-41414330   M     13735  ENST00000400454       1874   \n",
       "22     21:41457527-41457527   M     12329  ENST00000400454       1369   \n",
       "23     21:41457640-41457640   M     14597  ENST00000400454       1332   \n",
       "24     21:38845116-38845118   M     12099  ENST00000339659         46   \n",
       "25     21:38865466-38865466   F     13890  ENST00000339659        354   \n",
       "26     21:38877833-38877834   M     13552  ENST00000339659        483   \n",
       "27     21:38877891-38877906   M     13256  ENST00000339659        503   \n",
       "28      3:71026115-71026115   M     11403  ENST00000318789        668   \n",
       "29      3:71050170-71050170   M     12817  ENST00000318789        505   \n",
       "..                      ...  ..       ...              ...        ...   \n",
       "75     18:31318846-31318848   M  15234-x1  ENST00000269197        489   \n",
       "76     18:31319307-31319307   M  15452-x1  ENST00000269197        642   \n",
       "77     18:31323833-31323835   M  15460-x1  ENST00000269197       1336   \n",
       "78     18:31324134-31324134   M  15461-x1  ENST00000269197       1436   \n",
       "79      3:71026169-71026169   M  15289-x1  ENST00000318789        650   \n",
       "80      3:71026133-71026133   M  15930-x1  ENST00000318789        662   \n",
       "81     12:13720018-13720018   M  15298-x2  ENST00000609686        906   \n",
       "82     12:13761724-13761724   M  15422-x1  ENST00000609686        668   \n",
       "83    6:143093049-143093049   M  15427-x1  ENST00000367603       1059   \n",
       "84    6:143074621-143074621   M  15429-x1  ENST00000367603       2436   \n",
       "85    6:143092971-143092971   M  15468-x1  ENST00000367603       1085   \n",
       "86    6:143081739-143081739   M  15482-x1  ENST00000367603       2011   \n",
       "87    6:143093049-143093049   M  15951-x1  ENST00000367603       1059   \n",
       "88   12:116424952-116424952   M  15230-x1  ENST00000281928       1352   \n",
       "89   12:116413009-116413009   M  15240-x1  ENST00000281928       1891   \n",
       "90   12:116434362-116434366   M  15629-x2  ENST00000281928        966   \n",
       "92    2:166188079-166188079   M  15410-x1  ENST00000357398        871   \n",
       "93    2:166234162-166234162   M  15256-x1  ENST00000357398       1508   \n",
       "94    2:166201123-166201133   M  15261-x1  ENST00000357398        948   \n",
       "95    2:166165305-166165305   M  15508-x1  ENST00000357398        279   \n",
       "96    2:166201379-166201379   M  15531-x1  ENST00000357398       1033   \n",
       "97    2:166234161-166234161   M  15516-x1  ENST00000357398       1508   \n",
       "98     18:42531070-42531070   M  15701-x1  ENST00000282030        628   \n",
       "99     18:42530872-42530873   M  15957-x1  ENST00000282030        562   \n",
       "100   9:130420652-130420652   M  15615-x2  ENST00000373302         55   \n",
       "101   9:130423419-130423419   M  15936-x1  ENST00000373302        119   \n",
       "102   9:130444733-130444734   M  16044-x1  ENST00000373302        526   \n",
       "103     6:33414487-33414487   M  15208-x1  ENST00000418600       1233   \n",
       "104     6:33399974-33399975   M  15209-x1  ENST00000418600        109   \n",
       "105     6:33403327-33403327   M  15481-x1  ENST00000418600        230   \n",
       "\n",
       "     GeneCount            Exons isLEJ  \n",
       "0           10  ENSE00001455631     T  \n",
       "1           10  ENSE00001455631     T  \n",
       "2            3  ENSE00003517727     F  \n",
       "3            3  ENSE00001695957     F  \n",
       "4            3  ENSE00001003852     F  \n",
       "5            2  ENSE00003474344     F  \n",
       "6            2  ENSE00003474344     F  \n",
       "7            2  ENSE00001142078     F  \n",
       "8            2  ENSE00002020018     T  \n",
       "9            3  ENSE00001097780     F  \n",
       "10           3  ENSE00001517730     F  \n",
       "11           3  ENSE00001517730     F  \n",
       "12           7  ENSE00001096840     F  \n",
       "13           7  ENSE00001096834     F  \n",
       "14           7  ENSE00001096842     F  \n",
       "15           7  ENSE00003567094     F  \n",
       "16           7  ENSE00001739488     F  \n",
       "17           7  ENSE00001739488     F  \n",
       "18           7  ENSE00001422532     F  \n",
       "19           2  ENSE00003623916     F  \n",
       "20           2  ENSE00003546483     F  \n",
       "21           3  ENSE00001322604     T  \n",
       "22           3  ENSE00001175248     F  \n",
       "23           3  ENSE00001175248     F  \n",
       "24           4  ENSE00003504646     F  \n",
       "25           4  ENSE00001033275     F  \n",
       "26           4  ENSE00001262033     F  \n",
       "27           4  ENSE00001262033     F  \n",
       "28           4  ENSE00002417698     F  \n",
       "29           4  ENSE00001258621     F  \n",
       "..         ...              ...   ...  \n",
       "75           6  ENSE00003631966     F  \n",
       "76           6  ENSE00003631966     F  \n",
       "77           6  ENSE00000948514     T  \n",
       "78           6  ENSE00000948514     T  \n",
       "79           4  ENSE00002417698     F  \n",
       "80           4  ENSE00002417698     F  \n",
       "81           5  ENSE00000993715     F  \n",
       "82           5  ENSE00000993719     F  \n",
       "83           5  ENSE00001445111     F  \n",
       "84           5  ENSE00001445110     T  \n",
       "85           5  ENSE00001445111     F  \n",
       "86           5  ENSE00000764845     F  \n",
       "87           5  ENSE00001445111     F  \n",
       "88           5  ENSE00000835030     F  \n",
       "89           5  ENSE00000835023     F  \n",
       "90           5  ENSE00001003522     F  \n",
       "92           8  ENSE00003516579     F  \n",
       "93           8  ENSE00003606139     F  \n",
       "94           8  ENSE00003550077     F  \n",
       "95           8  ENSE00003646557     F  \n",
       "96           8  ENSE00003550077     F  \n",
       "97           8  ENSE00003606139     F  \n",
       "98           2  ENSE00001004034     F  \n",
       "99           2  ENSE00001004034     F  \n",
       "100          3  ENSE00000927171     F  \n",
       "101          3  ENSE00000927173     F  \n",
       "102          3  ENSE00003499262     F  \n",
       "103          3  ENSE00003622760     F  \n",
       "104          3  ENSE00003465850     F  \n",
       "105          3  ENSE00003614194     F  \n",
       "\n",
       "[105 rows x 12 columns]"
      ]
     },
     "execution_count": 1071,
     "metadata": {},
     "output_type": "execute_result"
    }
   ],
   "source": [
    "DF"
   ]
  },
  {
   "cell_type": "code",
   "execution_count": 1069,
   "metadata": {},
   "outputs": [],
   "source": [
    "res = {}\n",
    "VABS2 = VABS[~VABS[\"sfari_id\"].isin([\"16159-x1\", \"16171-x1\"])]\n",
    "for gene in RecGenes:\n",
    "    res[gene] = {}\n",
    "    res[gene][\"SameExon\"] = []\n",
    "    res[gene][\"SameExonSameGender\"] = []\n",
    "    res[gene][\"DiffExon\"] = []\n",
    "    #df = VABS2[VABS2[\"genetic_status\"]==gene]\n",
    "    df = DF[DF[\"genetic_status\"]==gene]\n",
    "    \n",
    "    for row1, row2 in itertools.combinations(df.iterrows(), r=2):\n",
    "        row1,row2 = row1[1], row2[1]\n",
    "        score1 = row1[\"composite_standard_score\"]\n",
    "        score2 = row2[\"composite_standard_score\"]\n",
    "        if row1[\"Exons\"] == row2[\"Exons\"]:\n",
    "            if row1[\"isLEJ\"] == \"T\" or row2[\"isLEJ\"] == \"T\":\n",
    "                continue\n",
    "            res[gene][\"SameExon\"].append( abs(score1-score2) )\n",
    "            if row1[\"sex\"] == row2[\"sex\"]:\n",
    "                res[gene][\"SameExonSameGender\"].append( abs(score1-score2) )\n",
    "        else:\n",
    "            res[gene][\"DiffExon\"].append( abs(score1-score2) )"
   ]
  },
  {
   "cell_type": "code",
   "execution_count": 1070,
   "metadata": {},
   "outputs": [
    {
     "name": "stdout",
     "output_type": "stream",
     "text": [
      "    SameExonVABSDiff\t       NSameExonPair\tSameExonSameGenderVABSDiff\tNSameExonSameGenderPair\tSameGeneVABSDiff\tNSameGenePair\t\n",
      "ASXL3\t6.00\t3\t6.00\t3\t10.53\t9\n",
      "CHD2\t2.00\t1\t2.00\t1\t18.00\t2\n",
      "CHD8\t11.00\t1\tnan\t0\t12.75\t20\n",
      "DSCAM\t1.00\t1\t1.00\t1\t12.50\t2\n",
      "DYRK1A\t0.00\t1\t0.00\t1\t19.80\t5\n",
      "FOXP1\t7.36\t3\t7.36\t3\t6.99\t3\n",
      "HIVEP2\t5.35\t3\t5.35\t3\t16.00\t7\n",
      "SCN2A\t11.27\t4\t11.27\t4\t15.74\t24\n",
      "MED13L\t3.00\t1\t3.00\t1\t15.96\t9\n",
      "[6.0, 2.0, 11.0, 1.0, 0.0, 7.35954884926079, 5.354166666666667, 11.265625, 3.0] [10.526922026621959, 18.0, 12.75, 12.5, 19.8, 6.986892242036272, 16.0, 15.7421875, 15.958333333333334]\n",
      "WilcoxonResult(statistic=1.0, pvalue=0.010862224704815628)\n",
      "WilcoxonResult(statistic=1.0, pvalue=0.017290280592906253)\n",
      "['ADNP', 'CHAMP1', 'CSNK2A1', 'GRIN2B', 'HNRNPH2', 'PACS1', 'PPP2R5D', 'SETBP1', 'STXBP1', 'SYNGAP1']\n"
     ]
    },
    {
     "name": "stderr",
     "output_type": "stream",
     "text": [
      "/Users/jiayao/anaconda3/lib/python3.7/site-packages/numpy/core/fromnumeric.py:2920: RuntimeWarning: Mean of empty slice.\n",
      "  out=out, **kwargs)\n",
      "/Users/jiayao/anaconda3/lib/python3.7/site-packages/numpy/core/_methods.py:85: RuntimeWarning: invalid value encountered in double_scalars\n",
      "  ret = ret.dtype.type(ret / rcount)\n",
      "/Users/jiayao/anaconda3/lib/python3.7/site-packages/scipy/stats/morestats.py:2388: UserWarning: Warning: sample size too small for normal approximation.\n",
      "  warnings.warn(\"Warning: sample size too small for normal approximation.\")\n",
      "/Users/jiayao/anaconda3/lib/python3.7/site-packages/scipy/stats/morestats.py:2388: UserWarning: Warning: sample size too small for normal approximation.\n",
      "  warnings.warn(\"Warning: sample size too small for normal approximation.\")\n"
     ]
    }
   ],
   "source": [
    "SameExonMeans, DiffExonMeans, SameExonSameGenderMeans, DiffExonMeans2 = [],[],[],[]\n",
    "print(\"%20s\\t%20s\\t%s\\t%s\\t%s\\t%s\\t\"%(\"SameExonVABSDiff\", \"NSameExonPair\",\"SameExonSameGenderVABSDiff\",\n",
    "                                            \"NSameExonSameGenderPair\",\"SameGeneVABSDiff\", \"NSameGenePair\"))\n",
    "ExcludedGene = []\n",
    "for gene in RecGenes:\n",
    "    #if gene==\"FOXP1\":\n",
    "    #    continue\n",
    "    SameExon = res[gene][\"SameExon\"]\n",
    "    SameExonSameGender = res[gene][\"SameExonSameGender\"]\n",
    "    DiffExon = res[gene][\"DiffExon\"]\n",
    "    if len(SameExon) == 0 or len(DiffExon) == 0:\n",
    "        ExcludedGene.append(gene)\n",
    "        continue\n",
    "    SameExonMeans.append(np.mean(SameExon))\n",
    "    DiffExonMeans.append(np.mean(DiffExon))\n",
    "    if len(SameExonSameGender) != 0:\n",
    "        SameExonSameGenderMeans.append(np.mean(SameExonSameGender))\n",
    "        DiffExonMeans2.append(np.mean(DiffExon))\n",
    "    print(\"%s\\t%.2f\\t%d\\t%.2f\\t%d\\t%.2f\\t%d\"%(gene, np.mean(SameExon), len(SameExon), np.mean(SameExonSameGender), \n",
    "                                    len(SameExonSameGender), np.mean(DiffExon), len(DiffExon)))\n",
    "print(SameExonMeans, DiffExonMeans)\n",
    "print(scipy.stats.wilcoxon(SameExonMeans, DiffExonMeans))\n",
    "print(scipy.stats.wilcoxon(SameExonSameGenderMeans, DiffExonMeans2))\n",
    "print(ExcludedGene)"
   ]
  },
  {
   "cell_type": "code",
   "execution_count": 1072,
   "metadata": {},
   "outputs": [
    {
     "data": {
      "text/html": [
       "<div>\n",
       "<style scoped>\n",
       "    .dataframe tbody tr th:only-of-type {\n",
       "        vertical-align: middle;\n",
       "    }\n",
       "\n",
       "    .dataframe tbody tr th {\n",
       "        vertical-align: top;\n",
       "    }\n",
       "\n",
       "    .dataframe thead th {\n",
       "        text-align: right;\n",
       "    }\n",
       "</style>\n",
       "<table border=\"1\" class=\"dataframe\">\n",
       "  <thead>\n",
       "    <tr style=\"text-align: right;\">\n",
       "      <th></th>\n",
       "      <th>Cohort</th>\n",
       "      <th>composite_standard_score</th>\n",
       "      <th>genetic_status</th>\n",
       "      <th>inheritance_status</th>\n",
       "      <th>location</th>\n",
       "      <th>sex</th>\n",
       "      <th>sfari_id</th>\n",
       "      <th>Transcript</th>\n",
       "      <th>ProteinPos</th>\n",
       "      <th>GeneCount</th>\n",
       "      <th>Exons</th>\n",
       "      <th>isLEJ</th>\n",
       "    </tr>\n",
       "  </thead>\n",
       "  <tbody>\n",
       "    <tr>\n",
       "      <th>43</th>\n",
       "      <td>SSC</td>\n",
       "      <td>75.00000</td>\n",
       "      <td>MED13L</td>\n",
       "      <td>de-novo</td>\n",
       "      <td>12:116418553-116418553</td>\n",
       "      <td>M</td>\n",
       "      <td>12969</td>\n",
       "      <td>ENST00000281928</td>\n",
       "      <td>1780</td>\n",
       "      <td>5</td>\n",
       "      <td>ENSE00000918042</td>\n",
       "      <td>F</td>\n",
       "    </tr>\n",
       "    <tr>\n",
       "      <th>44</th>\n",
       "      <td>SSC</td>\n",
       "      <td>54.00000</td>\n",
       "      <td>MED13L</td>\n",
       "      <td>de-novo</td>\n",
       "      <td>12:116424952-116424952</td>\n",
       "      <td>M</td>\n",
       "      <td>14416</td>\n",
       "      <td>ENST00000281928</td>\n",
       "      <td>1352</td>\n",
       "      <td>5</td>\n",
       "      <td>ENSE00000835030</td>\n",
       "      <td>F</td>\n",
       "    </tr>\n",
       "    <tr>\n",
       "      <th>88</th>\n",
       "      <td>VIP</td>\n",
       "      <td>51.00000</td>\n",
       "      <td>MED13L</td>\n",
       "      <td>de-novo</td>\n",
       "      <td>12:116424952-116424952</td>\n",
       "      <td>M</td>\n",
       "      <td>15230-x1</td>\n",
       "      <td>ENST00000281928</td>\n",
       "      <td>1352</td>\n",
       "      <td>5</td>\n",
       "      <td>ENSE00000835030</td>\n",
       "      <td>F</td>\n",
       "    </tr>\n",
       "    <tr>\n",
       "      <th>89</th>\n",
       "      <td>VIP</td>\n",
       "      <td>48.34375</td>\n",
       "      <td>MED13L</td>\n",
       "      <td>de-novo</td>\n",
       "      <td>12:116413009-116413009</td>\n",
       "      <td>M</td>\n",
       "      <td>15240-x1</td>\n",
       "      <td>ENST00000281928</td>\n",
       "      <td>1891</td>\n",
       "      <td>5</td>\n",
       "      <td>ENSE00000835023</td>\n",
       "      <td>F</td>\n",
       "    </tr>\n",
       "    <tr>\n",
       "      <th>90</th>\n",
       "      <td>VIP</td>\n",
       "      <td>71.00000</td>\n",
       "      <td>MED13L</td>\n",
       "      <td>de-novo</td>\n",
       "      <td>12:116434362-116434366</td>\n",
       "      <td>M</td>\n",
       "      <td>15629-x2</td>\n",
       "      <td>ENST00000281928</td>\n",
       "      <td>966</td>\n",
       "      <td>5</td>\n",
       "      <td>ENSE00001003522</td>\n",
       "      <td>F</td>\n",
       "    </tr>\n",
       "  </tbody>\n",
       "</table>\n",
       "</div>"
      ],
      "text/plain": [
       "   Cohort  composite_standard_score genetic_status inheritance_status  \\\n",
       "43    SSC                  75.00000         MED13L            de-novo   \n",
       "44    SSC                  54.00000         MED13L            de-novo   \n",
       "88    VIP                  51.00000         MED13L            de-novo   \n",
       "89    VIP                  48.34375         MED13L            de-novo   \n",
       "90    VIP                  71.00000         MED13L            de-novo   \n",
       "\n",
       "                  location sex  sfari_id       Transcript ProteinPos  \\\n",
       "43  12:116418553-116418553   M     12969  ENST00000281928       1780   \n",
       "44  12:116424952-116424952   M     14416  ENST00000281928       1352   \n",
       "88  12:116424952-116424952   M  15230-x1  ENST00000281928       1352   \n",
       "89  12:116413009-116413009   M  15240-x1  ENST00000281928       1891   \n",
       "90  12:116434362-116434366   M  15629-x2  ENST00000281928        966   \n",
       "\n",
       "    GeneCount            Exons isLEJ  \n",
       "43          5  ENSE00000918042     F  \n",
       "44          5  ENSE00000835030     F  \n",
       "88          5  ENSE00000835030     F  \n",
       "89          5  ENSE00000835023     F  \n",
       "90          5  ENSE00001003522     F  "
      ]
     },
     "execution_count": 1072,
     "metadata": {},
     "output_type": "execute_result"
    }
   ],
   "source": [
    "DF[DF[\"genetic_status\"]==\"MED13L\"]"
   ]
  },
  {
   "cell_type": "code",
   "execution_count": 10,
   "metadata": {},
   "outputs": [],
   "source": [
    "X = []\n",
    "Y = []\n",
    "for i in range(100):\n",
    "    y1 = random.randint(0,100)\n",
    "    y2 = random.randint(0,100)\n",
    "    x = random.random()\n",
    "    Y.append([y1, y2])\n",
    "    X.append(x)"
   ]
  },
  {
   "cell_type": "code",
   "execution_count": 14,
   "metadata": {},
   "outputs": [
    {
     "name": "stdout",
     "output_type": "stream",
     "text": [
      "(0.03650821430771358, 0.7183892093911008)\n",
      "(-0.370312842342934, 0.00014924795095448473)\n",
      "(-0.370312842342934, 0.00014924795095448473)\n"
     ]
    }
   ],
   "source": [
    "print(pearsonr(X, [abs(y1-y2) for (y1, y2) in Y]))\n",
    "print(pearsonr(X, [abs(y1-y2)/x for (y1, y2), x in zip(Y,X)]))\n",
    "print(pearsonr(X, [abs(y1/x-y2/x) for (y1, y2), x in zip(Y,X)]))"
   ]
  },
  {
   "cell_type": "code",
   "execution_count": null,
   "metadata": {},
   "outputs": [],
   "source": []
  }
 ],
 "metadata": {
  "kernelspec": {
   "display_name": "Python 3",
   "language": "python",
   "name": "python3"
  },
  "language_info": {
   "codemirror_mode": {
    "name": "ipython",
    "version": 3
   },
   "file_extension": ".py",
   "mimetype": "text/x-python",
   "name": "python",
   "nbconvert_exporter": "python",
   "pygments_lexer": "ipython3",
   "version": "3.7.1"
  }
 },
 "nbformat": 4,
 "nbformat_minor": 2
}
