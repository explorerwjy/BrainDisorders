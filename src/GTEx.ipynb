{
 "cells": [
  {
   "cell_type": "code",
   "execution_count": 1,
   "metadata": {},
   "outputs": [],
   "source": [
    "%load_ext autoreload\n",
    "%autoreload 2\n",
    "from utils import *\n",
    "from IPython.display import display, HTML\n",
    "ins = BrainSpan()"
   ]
  },
  {
   "cell_type": "code",
   "execution_count": 2,
   "metadata": {},
   "outputs": [
    {
     "name": "stderr",
     "output_type": "stream",
     "text": [
      "/Users/jiayao/anaconda3/lib/python3.7/site-packages/IPython/core/interactiveshell.py:3020: DtypeWarning: Columns (1) have mixed types. Specify dtype option on import or set low_memory=False.\n",
      "  interactivity=interactivity, compiler=compiler, result=result)\n"
     ]
    }
   ],
   "source": [
    "gtex = pd.read_csv(\"../data/GTEx/GTEx.RecGenes.exon.rpkm.csv\")\n",
    "Exons = pd.read_csv(\"../data/GTEx/gencode.v19.genes.v7.patched_contigs.exons.txt\", delimiter=\"\\t\")\n",
    "Genes = pd.read_csv(\"../data/GTEx/GTEx.RecGenes.gene.rc.csv\")\n",
    "Samples = pd.read_csv(\"../data/GTEx/GTEx_v7_Annotations_SampleAttributesDS.txt\", delimiter=\"\\t\")\n",
    "Samples = Samples[Samples[\"SAMPID\"].isin(Genes.columns.values)]"
   ]
  },
  {
   "cell_type": "code",
   "execution_count": null,
   "metadata": {},
   "outputs": [],
   "source": [
    "print(Genes.columns.values)"
   ]
  },
  {
   "cell_type": "code",
   "execution_count": null,
   "metadata": {},
   "outputs": [],
   "source": [
    "gtex.head(2)"
   ]
  },
  {
   "cell_type": "code",
   "execution_count": null,
   "metadata": {},
   "outputs": [],
   "source": [
    "RecGenes = set(gtex[\"Description\"].values)\n",
    "RecGenesEns = set(Genes[\"Name\"].values)\n",
    "samples = Samples[\"SAMPID\"].values"
   ]
  },
  {
   "cell_type": "code",
   "execution_count": null,
   "metadata": {},
   "outputs": [],
   "source": [
    "for gene in list(RecGenes):\n",
    "    print(gene)\n",
    "    exon_dat, gene_dat = [], []\n",
    "    for sp in samples:\n",
    "        if sp not in set(Genes.columns):\n",
    "            continue\n",
    "        gene_sp_rc = Genes[Genes[\"Description\"]==gene][sp].values[0]\n",
    "        exon_sp_rc = sum(gtex[gtex[\"Description\"]==gene][sp].values)\n",
    "        exon_dat.append(exon_sp_rc)\n",
    "        gene_dat.append(gene_sp_rc)\n",
    "    plt.scatter(exon_dat, gene_dat)\n",
    "    plt.show()\n",
    "    #print(gene)"
   ]
  },
  {
   "cell_type": "code",
   "execution_count": null,
   "metadata": {},
   "outputs": [],
   "source": [
    "for l in open(\"../data/GTEx_Analysis_2016-01-15_v7_RNASeQCv1.1.8_gene_reads.gct\"):\n",
    "    if l.startswith(\"Name\"):\n",
    "        samples = l.strip().split(\"\\t\")[2:]\n",
    "        res = [0]*len(samples)\n",
    "    else:\n",
    "        llist = [float(x) for x in l.strip().split(\"\\t\")[2:]]\n",
    "        for i in range(len(llist)):\n",
    "            res[i] += float(llist[i])"
   ]
  },
  {
   "cell_type": "code",
   "execution_count": null,
   "metadata": {},
   "outputs": [],
   "source": [
    "print(len(res))"
   ]
  },
  {
   "cell_type": "code",
   "execution_count": null,
   "metadata": {},
   "outputs": [],
   "source": [
    "outfile = open(\"../data/GTEx.sample.total.readcount.txt\", 'wt')\n",
    "for sp, value in zip(samples, res):\n",
    "    outfile.write(\"{}\\t{}\\n\".format(sp, value))"
   ]
  },
  {
   "cell_type": "code",
   "execution_count": 3,
   "metadata": {},
   "outputs": [],
   "source": [
    "# summerize gene length and exon length\n",
    "\n",
    "gtx_exon = pd.read_csv(\"../data/GTEx/gencode.v19.genes.v7.patched_contigs.exons.txt\", delimiter=\"\\t\")\n",
    "gtx_exon[\"Gene\"] = gtx_exon.apply(lambda row:row[\"exon_id\"].split(\"_\")[0].split(\".\")[0], axis=1)\n",
    "gtx_exon[\"ExonLength\"] = gtx_exon[\"end_pos\"] - gtx_exon[\"start_pos\"]"
   ]
  },
  {
   "cell_type": "code",
   "execution_count": 4,
   "metadata": {},
   "outputs": [
    {
     "data": {
      "text/html": [
       "<div>\n",
       "<style scoped>\n",
       "    .dataframe tbody tr th:only-of-type {\n",
       "        vertical-align: middle;\n",
       "    }\n",
       "\n",
       "    .dataframe tbody tr th {\n",
       "        vertical-align: top;\n",
       "    }\n",
       "\n",
       "    .dataframe thead th {\n",
       "        text-align: right;\n",
       "    }\n",
       "</style>\n",
       "<table border=\"1\" class=\"dataframe\">\n",
       "  <thead>\n",
       "    <tr style=\"text-align: right;\">\n",
       "      <th></th>\n",
       "      <th>exon_id</th>\n",
       "      <th>chr</th>\n",
       "      <th>start_pos</th>\n",
       "      <th>end_pos</th>\n",
       "      <th>strand</th>\n",
       "      <th>Gene</th>\n",
       "      <th>ExonLength</th>\n",
       "    </tr>\n",
       "  </thead>\n",
       "  <tbody>\n",
       "    <tr>\n",
       "      <th>0</th>\n",
       "      <td>ENSG00000223972.4_1</td>\n",
       "      <td>1</td>\n",
       "      <td>11869</td>\n",
       "      <td>12227</td>\n",
       "      <td>+</td>\n",
       "      <td>ENSG00000223972</td>\n",
       "      <td>358</td>\n",
       "    </tr>\n",
       "    <tr>\n",
       "      <th>1</th>\n",
       "      <td>ENSG00000223972.4_2</td>\n",
       "      <td>1</td>\n",
       "      <td>12595</td>\n",
       "      <td>12721</td>\n",
       "      <td>+</td>\n",
       "      <td>ENSG00000223972</td>\n",
       "      <td>126</td>\n",
       "    </tr>\n",
       "  </tbody>\n",
       "</table>\n",
       "</div>"
      ],
      "text/plain": [
       "               exon_id chr  start_pos  end_pos strand             Gene  \\\n",
       "0  ENSG00000223972.4_1   1      11869    12227      +  ENSG00000223972   \n",
       "1  ENSG00000223972.4_2   1      12595    12721      +  ENSG00000223972   \n",
       "\n",
       "   ExonLength  \n",
       "0         358  \n",
       "1         126  "
      ]
     },
     "execution_count": 4,
     "metadata": {},
     "output_type": "execute_result"
    }
   ],
   "source": [
    "gtx_exon.head(2)"
   ]
  },
  {
   "cell_type": "code",
   "execution_count": 5,
   "metadata": {},
   "outputs": [],
   "source": [
    "ALL_GENES = set(gtx_exon[\"Gene\"].values)"
   ]
  },
  {
   "cell_type": "code",
   "execution_count": 6,
   "metadata": {},
   "outputs": [],
   "source": [
    "Exon2Length = dict(zip(gtx_exon[\"exon_id\"].values, gtx_exon[\"ExonLength\"].values))"
   ]
  },
  {
   "cell_type": "code",
   "execution_count": 7,
   "metadata": {},
   "outputs": [
    {
     "ename": "KeyboardInterrupt",
     "evalue": "",
     "output_type": "error",
     "traceback": [
      "\u001b[0;31m---------------------------------------------------------------------------\u001b[0m",
      "\u001b[0;31mKeyboardInterrupt\u001b[0m                         Traceback (most recent call last)",
      "\u001b[0;32m<ipython-input-7-e81d466b7695>\u001b[0m in \u001b[0;36m<module>\u001b[0;34m\u001b[0m\n\u001b[1;32m      1\u001b[0m \u001b[0mEns2Length\u001b[0m \u001b[0;34m=\u001b[0m \u001b[0;34m{\u001b[0m\u001b[0;34m}\u001b[0m\u001b[0;34m\u001b[0m\u001b[0;34m\u001b[0m\u001b[0m\n\u001b[1;32m      2\u001b[0m \u001b[0;32mfor\u001b[0m \u001b[0mgene\u001b[0m \u001b[0;32min\u001b[0m \u001b[0mlist\u001b[0m\u001b[0;34m(\u001b[0m\u001b[0mALL_GENES\u001b[0m\u001b[0;34m)\u001b[0m\u001b[0;34m:\u001b[0m\u001b[0;34m\u001b[0m\u001b[0;34m\u001b[0m\u001b[0m\n\u001b[0;32m----> 3\u001b[0;31m     \u001b[0mdf\u001b[0m \u001b[0;34m=\u001b[0m \u001b[0mgtx_exon\u001b[0m\u001b[0;34m[\u001b[0m\u001b[0mgtx_exon\u001b[0m\u001b[0;34m[\u001b[0m\u001b[0;34m\"Gene\"\u001b[0m\u001b[0;34m]\u001b[0m\u001b[0;34m==\u001b[0m\u001b[0mgene\u001b[0m\u001b[0;34m]\u001b[0m\u001b[0;34m\u001b[0m\u001b[0;34m\u001b[0m\u001b[0m\n\u001b[0m\u001b[1;32m      4\u001b[0m     \u001b[0mEns2Length\u001b[0m\u001b[0;34m[\u001b[0m\u001b[0mgene\u001b[0m\u001b[0;34m]\u001b[0m \u001b[0;34m=\u001b[0m \u001b[0msum\u001b[0m\u001b[0;34m(\u001b[0m\u001b[0mdf\u001b[0m\u001b[0;34m[\u001b[0m\u001b[0;34m\"ExonLength\"\u001b[0m\u001b[0;34m]\u001b[0m\u001b[0;34m.\u001b[0m\u001b[0mvalues\u001b[0m\u001b[0;34m)\u001b[0m\u001b[0;34m\u001b[0m\u001b[0;34m\u001b[0m\u001b[0m\n",
      "\u001b[0;32m~/anaconda3/lib/python3.7/site-packages/pandas/core/frame.py\u001b[0m in \u001b[0;36m__getitem__\u001b[0;34m(self, key)\u001b[0m\n\u001b[1;32m   2680\u001b[0m         \u001b[0;32mif\u001b[0m \u001b[0misinstance\u001b[0m\u001b[0;34m(\u001b[0m\u001b[0mkey\u001b[0m\u001b[0;34m,\u001b[0m \u001b[0;34m(\u001b[0m\u001b[0mSeries\u001b[0m\u001b[0;34m,\u001b[0m \u001b[0mnp\u001b[0m\u001b[0;34m.\u001b[0m\u001b[0mndarray\u001b[0m\u001b[0;34m,\u001b[0m \u001b[0mIndex\u001b[0m\u001b[0;34m,\u001b[0m \u001b[0mlist\u001b[0m\u001b[0;34m)\u001b[0m\u001b[0;34m)\u001b[0m\u001b[0;34m:\u001b[0m\u001b[0;34m\u001b[0m\u001b[0;34m\u001b[0m\u001b[0m\n\u001b[1;32m   2681\u001b[0m             \u001b[0;31m# either boolean or fancy integer index\u001b[0m\u001b[0;34m\u001b[0m\u001b[0;34m\u001b[0m\u001b[0;34m\u001b[0m\u001b[0m\n\u001b[0;32m-> 2682\u001b[0;31m             \u001b[0;32mreturn\u001b[0m \u001b[0mself\u001b[0m\u001b[0;34m.\u001b[0m\u001b[0m_getitem_array\u001b[0m\u001b[0;34m(\u001b[0m\u001b[0mkey\u001b[0m\u001b[0;34m)\u001b[0m\u001b[0;34m\u001b[0m\u001b[0;34m\u001b[0m\u001b[0m\n\u001b[0m\u001b[1;32m   2683\u001b[0m         \u001b[0;32melif\u001b[0m \u001b[0misinstance\u001b[0m\u001b[0;34m(\u001b[0m\u001b[0mkey\u001b[0m\u001b[0;34m,\u001b[0m \u001b[0mDataFrame\u001b[0m\u001b[0;34m)\u001b[0m\u001b[0;34m:\u001b[0m\u001b[0;34m\u001b[0m\u001b[0;34m\u001b[0m\u001b[0m\n\u001b[1;32m   2684\u001b[0m             \u001b[0;32mreturn\u001b[0m \u001b[0mself\u001b[0m\u001b[0;34m.\u001b[0m\u001b[0m_getitem_frame\u001b[0m\u001b[0;34m(\u001b[0m\u001b[0mkey\u001b[0m\u001b[0;34m)\u001b[0m\u001b[0;34m\u001b[0m\u001b[0;34m\u001b[0m\u001b[0m\n",
      "\u001b[0;32m~/anaconda3/lib/python3.7/site-packages/pandas/core/frame.py\u001b[0m in \u001b[0;36m_getitem_array\u001b[0;34m(self, key)\u001b[0m\n\u001b[1;32m   2721\u001b[0m             \u001b[0;31m# be reindexed to match DataFrame rows\u001b[0m\u001b[0;34m\u001b[0m\u001b[0;34m\u001b[0m\u001b[0;34m\u001b[0m\u001b[0m\n\u001b[1;32m   2722\u001b[0m             \u001b[0mkey\u001b[0m \u001b[0;34m=\u001b[0m \u001b[0mcheck_bool_indexer\u001b[0m\u001b[0;34m(\u001b[0m\u001b[0mself\u001b[0m\u001b[0;34m.\u001b[0m\u001b[0mindex\u001b[0m\u001b[0;34m,\u001b[0m \u001b[0mkey\u001b[0m\u001b[0;34m)\u001b[0m\u001b[0;34m\u001b[0m\u001b[0;34m\u001b[0m\u001b[0m\n\u001b[0;32m-> 2723\u001b[0;31m             \u001b[0mindexer\u001b[0m \u001b[0;34m=\u001b[0m \u001b[0mkey\u001b[0m\u001b[0;34m.\u001b[0m\u001b[0mnonzero\u001b[0m\u001b[0;34m(\u001b[0m\u001b[0;34m)\u001b[0m\u001b[0;34m[\u001b[0m\u001b[0;36m0\u001b[0m\u001b[0;34m]\u001b[0m\u001b[0;34m\u001b[0m\u001b[0;34m\u001b[0m\u001b[0m\n\u001b[0m\u001b[1;32m   2724\u001b[0m             \u001b[0;32mreturn\u001b[0m \u001b[0mself\u001b[0m\u001b[0;34m.\u001b[0m\u001b[0m_take\u001b[0m\u001b[0;34m(\u001b[0m\u001b[0mindexer\u001b[0m\u001b[0;34m,\u001b[0m \u001b[0maxis\u001b[0m\u001b[0;34m=\u001b[0m\u001b[0;36m0\u001b[0m\u001b[0;34m)\u001b[0m\u001b[0;34m\u001b[0m\u001b[0;34m\u001b[0m\u001b[0m\n\u001b[1;32m   2725\u001b[0m         \u001b[0;32melse\u001b[0m\u001b[0;34m:\u001b[0m\u001b[0;34m\u001b[0m\u001b[0;34m\u001b[0m\u001b[0m\n",
      "\u001b[0;31mKeyboardInterrupt\u001b[0m: "
     ]
    }
   ],
   "source": [
    "Ens2Length = {}\n",
    "for gene in list(ALL_GENES):\n",
    "    df = gtx_exon[gtx_exon[\"Gene\"]==gene]\n",
    "    Ens2Length[gene] = sum(df[\"ExonLength\"].values)"
   ]
  },
  {
   "cell_type": "code",
   "execution_count": 30,
   "metadata": {},
   "outputs": [],
   "source": [
    "fin = open(\"../data/GTEx/GTEx.sample.total.readcount.txt\", 'rt')\n",
    "SP2Libsize = {}\n",
    "for l in fin:\n",
    "    sp, libsize = l.split(\"\\t\")\n",
    "    SP2Libsize[sp] = float(libsize)"
   ]
  },
  {
   "cell_type": "code",
   "execution_count": 31,
   "metadata": {},
   "outputs": [
    {
     "name": "stderr",
     "output_type": "stream",
     "text": [
      "/Users/jiayao/Work/BrainDisorders/src/utils.py:2754: RuntimeWarning: invalid value encountered in double_scalars\n",
      "  return (ReadCount * 1e9) / (Libsize*Length)\n"
     ]
    }
   ],
   "source": [
    "#GeneRC2RPKM(SP2Libsize, Ens2Length)\n",
    "ExonRC2RPKM(SP2Libsize, Exon2Length)"
   ]
  },
  {
   "cell_type": "code",
   "execution_count": 34,
   "metadata": {},
   "outputs": [],
   "source": [
    "GeneRPKM = pd.read_csv(\"../data/GTEx/GTEx_180Indiv_gene_rpkm.txt\", delimiter=\"\\t\")\n",
    "ExonRPKM = pd.read_csv(\"../data/GTEx/GTEx_180Indiv_exon_rpkm.txt\", delimiter=\"\\t\")"
   ]
  },
  {
   "cell_type": "code",
   "execution_count": null,
   "metadata": {},
   "outputs": [],
   "source": [
    "ALL_EXON_REL = []#[np.mean(ALLSameExon)]\n",
    "ALL_GENE_ZSCORE = []#[np.mean(ALLDiffExon)]\n",
    "Tissues = [\"Brain\", \"Blood\", \"Skin\", \"Heart\", \"Lung\"]\n",
    "for Tissue in Tissues:\n",
    "    all_exon_rel, all_gene_zscore = RelativeExonExp2GeneExp(GeneRPKM, SelectedTissueSamples, \n",
    "                                                        ExonRPKM, GTEx_LGDs, Genes, Tissue)\n",
    "    ALL_EXON_REL.append(all_exon_rel)\n",
    "    ALL_GENE_ZSCORE.append(all_gene_zscore)"
   ]
  },
  {
   "cell_type": "code",
   "execution_count": null,
   "metadata": {},
   "outputs": [],
   "source": [
    "x, y = [x for x in ALL_EXON_REL[1]], ALL_GENE_ZSCORE[1]\n",
    "X = sorted(zip(x,y), key=lambda x:x[1])\n",
    "x = [x for x,y in X]\n",
    "y = [y for x,y in X]\n",
    "plt.scatter(x, y, s=2)\n",
    "plt.xlim((0,5))\n",
    "#plt.ylim((-3,5))\n",
    "yMA = movingaverage(x,100)\n",
    "\n",
    "print(len(x), len(y), len(yMA))\n",
    "#plt.plot(x, yMA,\"r\")\n",
    "#plt.xscale('log')\n",
    "plt.show()"
   ]
  },
  {
   "cell_type": "code",
   "execution_count": 58,
   "metadata": {},
   "outputs": [
    {
     "name": "stdout",
     "output_type": "stream",
     "text": [
      "SpearmanrResult(correlation=0.022414106116276075, pvalue=0.19806952101153416)\n"
     ]
    }
   ],
   "source": [
    "Tissue = \"Blood\"\n",
    "Genes = list(set(GTEx_LGDs[\"SEVERE_GENE\"].values))\n",
    "ALL_EXON_REL, ALL_GENE_ZSCORE = RelativeExonExp2GeneExp(GeneRPKM, SelectedTissueSamples, \n",
    "                                                        ExonRPKM, GTEx_LGDs, Genes, Tissue)\n",
    "print(spearmanr(ALL_EXON_REL, ALL_GENE_ZSCORE))"
   ]
  },
  {
   "cell_type": "code",
   "execution_count": 67,
   "metadata": {},
   "outputs": [
    {
     "name": "stdout",
     "output_type": "stream",
     "text": [
      "SpearmanrResult(correlation=0.022414106116276075, pvalue=0.19806952101153416)\n"
     ]
    },
    {
     "name": "stderr",
     "output_type": "stream",
     "text": [
      "/Users/jiayao/anaconda3/lib/python3.7/site-packages/ipykernel_launcher.py:3: RuntimeWarning: divide by zero encountered in log2\n",
      "  This is separate from the ipykernel package so we can avoid doing imports until\n"
     ]
    },
    {
     "data": {
      "image/png": "[encoded data removed]",
      "text/plain": [
       "<Figure size 432x288 with 1 Axes>"
      ]
     },
     "metadata": {
      "needs_background": "light"
     },
     "output_type": "display_data"
    }
   ],
   "source": [
    "plt.scatter([math.log2(x+1) for x in ALL_EXON_REL], ALL_GENE_ZSCORE, s=2)\n",
    "print(spearmanr([math.log2(x+1) for x in ALL_EXON_REL], ALL_GENE_ZSCORE))\n",
    "X_, Y_ = MyMovingAVG(np.log2(ALL_EXON_REL), ALL_GENE_ZSCORE, 50)\n",
    "#plt.scatter((ALL_EXON_REL), ALL_GENE_ZSCORE, s=2)\n",
    "#X_, Y_ = MyMovingAVG((ALL_EXON_REL), ALL_GENE_ZSCORE, 200)\n",
    "plt.plot(X_, Y_, color=\"red\")\n",
    "plt.xlim((0,5))\n",
    "plt.ylim((-3,3))\n",
    "#plt.axhline(y=0, color='black')\n",
    "#plt.xscale('log')\n",
    "Xs = [0,2,4,8]\n",
    "plt.xticks(Xs, [x**2 for x in Xs])\n",
    "plt.show()"
   ]
  },
  {
   "cell_type": "code",
   "execution_count": 344,
   "metadata": {},
   "outputs": [
    {
     "name": "stdout",
     "output_type": "stream",
     "text": [
      "SpearmanrResult(correlation=-0.3565357786366686, pvalue=2.324472647713114e-137)\n"
     ]
    }
   ],
   "source": [
    "Tissue = \"Blood\"\n",
    "Genes = list(set(GTEx_LGDs[\"SEVERE_GENE\"].values))\n",
    "ALL_EXON_REL2, ALL_GENE_ZSCORE2 = RelativeExonExp2GeneExp(GeneRPKM, SelectedTissueSamples, \n",
    "                                                        ExonRPKM, GTEx_LGDs, Genes, Tissue)\n",
    "print(spearmanr(ALL_EXON_REL, ALL_GENE_ZSCORE))"
   ]
  },
  {
   "cell_type": "code",
   "execution_count": 346,
   "metadata": {},
   "outputs": [
    {
     "name": "stdout",
     "output_type": "stream",
     "text": [
      "SpearmanrResult(correlation=-0.04642831202261601, pvalue=0.0008035454070568649)\n"
     ]
    },
    {
     "data": {
      "image/png": "[encoded data removed]",
      "text/plain": [
       "<Figure size 432x288 with 1 Axes>"
      ]
     },
     "metadata": {
      "needs_background": "light"
     },
     "output_type": "display_data"
    }
   ],
   "source": [
    "print(spearmanr(ALL_EXON_REL2, ALL_GENE_ZSCORE2))\n",
    "plt.scatter(ALL_EXON_REL2, ALL_GENE_ZSCORE2, s=2)\n",
    "plt.xlim((0,15))\n",
    "#plt.xscale('log')\n",
    "plt.show()"
   ]
  },
  {
   "cell_type": "code",
   "execution_count": 330,
   "metadata": {},
   "outputs": [
    {
     "name": "stdout",
     "output_type": "stream",
     "text": [
      "SpearmanrResult(correlation=-0.24733932289788566, pvalue=2.1187980552779866e-73)\n"
     ]
    },
    {
     "data": {
      "image/png": "[encoded data removed]",
      "text/plain": [
       "<Figure size 432x288 with 1 Axes>"
      ]
     },
     "metadata": {
      "needs_background": "light"
     },
     "output_type": "display_data"
    }
   ],
   "source": [
    "Tissue = \"Skin\"\n",
    "Genes = list(set(GTEx_LGDs[\"SEVERE_GENE\"].values))\n",
    "ALL_EXON_REL, ALL_GENE_ZSCORE = RelativeExonExp2GeneExp(GeneRPKM, SelectedTissueSamples, \n",
    "                                                        ExonRPKM, GTEx_LGDs, Genes, Tissue)\n",
    "plt.scatter(ALL_EXON_REL, ALL_GENE_ZSCORE, s=2)\n",
    "plt.xlim((0,10))\n",
    "print(spearmanr(ALL_EXON_REL, ALL_GENE_ZSCORE))"
   ]
  },
  {
   "cell_type": "code",
   "execution_count": 56,
   "metadata": {},
   "outputs": [
    {
     "name": "stdout",
     "output_type": "stream",
     "text": [
      "SpearmanrResult(correlation=0.01743405565216179, pvalue=0.6096577497347915)\n"
     ]
    },
    {
     "data": {
      "image/png": "[encoded data removed]",
      "text/plain": [
       "<Figure size 432x288 with 1 Axes>"
      ]
     },
     "metadata": {
      "needs_background": "light"
     },
     "output_type": "display_data"
    }
   ],
   "source": [
    "Tissue = \"Brain\"\n",
    "Genes = list(set(GTEx_LGDs[\"SEVERE_GENE\"].values))\n",
    "ALL_EXON_REL, ALL_GENE_ZSCORE = RelativeExonExp2GeneExp(GeneRPKM, SelectedTissueSamples, \n",
    "                                                        ExonRPKM, GTEx_LGDs, Genes, Tissue)\n",
    "plt.scatter(ALL_EXON_REL, ALL_GENE_ZSCORE, s=2)\n",
    "plt.xlim((0,10))\n",
    "print(spearmanr(ALL_EXON_REL, ALL_GENE_ZSCORE))"
   ]
  },
  {
   "cell_type": "code",
   "execution_count": 329,
   "metadata": {},
   "outputs": [
    {
     "data": {
      "image/png": "[encoded data removed]",
      "text/plain": [
       "<Figure size 432x288 with 1 Axes>"
      ]
     },
     "metadata": {
      "needs_background": "light"
     },
     "output_type": "display_data"
    },
    {
     "name": "stdout",
     "output_type": "stream",
     "text": [
      "SpearmanrResult(correlation=-0.29613493198580176, pvalue=4.187435038002678e-55)\n"
     ]
    }
   ],
   "source": [
    "Tissue = \"Heart\"\n",
    "Genes = list(set(GTEx_LGDs[\"SEVERE_GENE\"].values))\n",
    "ALL_EXON_REL, ALL_GENE_ZSCORE = RelativeExonExp2GeneExp(GeneRPKM, SelectedTissueSamples, \n",
    "                                                        ExonRPKM, GTEx_LGDs, Genes, Tissue)\n",
    "plt.scatter(ALL_EXON_REL, ALL_GENE_ZSCORE, s=2)\n",
    "plt.xlim((0,10))\n",
    "ax.set_yscale('log')\n",
    "plt.show()\n",
    "print(spearmanr(ALL_EXON_REL, ALL_GENE_ZSCORE))"
   ]
  },
  {
   "cell_type": "code",
   "execution_count": 239,
   "metadata": {},
   "outputs": [
    {
     "name": "stdout",
     "output_type": "stream",
     "text": [
      "SpearmanrResult(correlation=-0.29613493198580176, pvalue=4.187435038002678e-55)\n",
      "(nan, 1.0)\n"
     ]
    }
   ],
   "source": [
    "L1, L2 = [], []\n",
    "for x,y in zip(ALL_EXON_REL, ALL_GENE_ZSCORE):\n",
    "    if x == x and y == y:\n",
    "        L1.append(x)\n",
    "        L2.append(y)\n",
    "print(spearmanr(L1, L2))\n",
    "print(pearsonr(L1, L2))"
   ]
  },
  {
   "cell_type": "code",
   "execution_count": null,
   "metadata": {},
   "outputs": [],
   "source": [
    "#Samples.groupby(\"SMTS\").count()[\"SAMPID\"]\n",
    "# Brain, Blood, Skin\n",
    "BrainSamples = Samples[Samples[\"SMTS\"]==\"Brain\"][\"SAMPID\"].values\n",
    "BloodSamples = Samples[Samples[\"SMTS\"]==\"Blood\"][\"SAMPID\"].values\n",
    "SkinSamples = Samples[Samples[\"SMTS\"]==\"Skin\"][\"SAMPID\"].values"
   ]
  },
  {
   "cell_type": "code",
   "execution_count": null,
   "metadata": {},
   "outputs": [],
   "source": [
    "# Get Gene RPKM\n",
    "GeneRC = pd.read_csv(\"../data/GTEx.RecGenes.gene.rc.csv\")\n",
    "GeneRC.set_index(\"Name\", inplace=True)\n",
    "for SP in GeneRC.columns.values[1:]:\n",
    "    for gene in GeneRC.index.values:\n",
    "        #rint(GeneRC.loc[gene, SP])\n",
    "        GeneRC.loc[gene, SP] = round(RPKM(GeneRC.loc[gene, SP], Ens2Length[gene], SP2Libsize[SP]), 2)\n",
    "GeneRC.to_csv(\"../data/GTEx.RecGenes.gene.rpkm.csv\", index=\"False\")"
   ]
  },
  {
   "cell_type": "code",
   "execution_count": null,
   "metadata": {},
   "outputs": [],
   "source": [
    "# Get Exon RPKM\n",
    "ExonRC = pd.read_csv(\"../data/GTEx.RecGenes.exon.rc.csv\")\n",
    "ExonRC.set_index(\"Name\", inplace=True)\n",
    "for SP in ExonRC.columns.values[1:]:\n",
    "    for exon in ExonRC.index.values:\n",
    "        ExonRC.loc[exon, SP] = round(RPKM(ExonRC.loc[exon, SP], Exon2Length[exon], SP2Libsize[SP]), 2)\n",
    "ExonRC.to_csv(\"../data/GTEx.RecGenes.exon.rpkm.csv\", index=\"False\")"
   ]
  },
  {
   "cell_type": "code",
   "execution_count": null,
   "metadata": {},
   "outputs": [],
   "source": [
    "GeneRPKM = pd.read_csv(\"../data/GTEx.RecGenes.gene.rpkm.csv\")\n",
    "GeneRPKM.set_index(\"Name\", inplace=True)\n",
    "GeneRPKM.head(2)"
   ]
  },
  {
   "cell_type": "code",
   "execution_count": 33,
   "metadata": {},
   "outputs": [
    {
     "ename": "FileNotFoundError",
     "evalue": "File b'../data/GTEx.RecGenes.exon.rpkm.csv' does not exist",
     "output_type": "error",
     "traceback": [
      "\u001b[0;31m---------------------------------------------------------------------------\u001b[0m",
      "\u001b[0;31mFileNotFoundError\u001b[0m                         Traceback (most recent call last)",
      "\u001b[0;32m<ipython-input-33-c8e9eb3d1742>\u001b[0m in \u001b[0;36m<module>\u001b[0;34m\u001b[0m\n\u001b[0;32m----> 1\u001b[0;31m \u001b[0mExonRPKM\u001b[0m \u001b[0;34m=\u001b[0m \u001b[0mpd\u001b[0m\u001b[0;34m.\u001b[0m\u001b[0mread_csv\u001b[0m\u001b[0;34m(\u001b[0m\u001b[0;34m\"../data/GTEx.RecGenes.exon.rpkm.csv\"\u001b[0m\u001b[0;34m)\u001b[0m\u001b[0;34m\u001b[0m\u001b[0;34m\u001b[0m\u001b[0m\n\u001b[0m\u001b[1;32m      2\u001b[0m \u001b[0mExonRPKM\u001b[0m\u001b[0;34m.\u001b[0m\u001b[0mset_index\u001b[0m\u001b[0;34m(\u001b[0m\u001b[0;34m\"Name\"\u001b[0m\u001b[0;34m,\u001b[0m \u001b[0minplace\u001b[0m\u001b[0;34m=\u001b[0m\u001b[0;32mTrue\u001b[0m\u001b[0;34m)\u001b[0m\u001b[0;34m\u001b[0m\u001b[0;34m\u001b[0m\u001b[0m\n\u001b[1;32m      3\u001b[0m \u001b[0mExonRPKM\u001b[0m\u001b[0;34m.\u001b[0m\u001b[0mhead\u001b[0m\u001b[0;34m(\u001b[0m\u001b[0;36m2\u001b[0m\u001b[0;34m)\u001b[0m\u001b[0;34m\u001b[0m\u001b[0;34m\u001b[0m\u001b[0m\n",
      "\u001b[0;32m~/anaconda3/lib/python3.7/site-packages/pandas/io/parsers.py\u001b[0m in \u001b[0;36mparser_f\u001b[0;34m(filepath_or_buffer, sep, delimiter, header, names, index_col, usecols, squeeze, prefix, mangle_dupe_cols, dtype, engine, converters, true_values, false_values, skipinitialspace, skiprows, nrows, na_values, keep_default_na, na_filter, verbose, skip_blank_lines, parse_dates, infer_datetime_format, keep_date_col, date_parser, dayfirst, iterator, chunksize, compression, thousands, decimal, lineterminator, quotechar, quoting, escapechar, comment, encoding, dialect, tupleize_cols, error_bad_lines, warn_bad_lines, skipfooter, doublequote, delim_whitespace, low_memory, memory_map, float_precision)\u001b[0m\n\u001b[1;32m    676\u001b[0m                     skip_blank_lines=skip_blank_lines)\n\u001b[1;32m    677\u001b[0m \u001b[0;34m\u001b[0m\u001b[0m\n\u001b[0;32m--> 678\u001b[0;31m         \u001b[0;32mreturn\u001b[0m \u001b[0m_read\u001b[0m\u001b[0;34m(\u001b[0m\u001b[0mfilepath_or_buffer\u001b[0m\u001b[0;34m,\u001b[0m \u001b[0mkwds\u001b[0m\u001b[0;34m)\u001b[0m\u001b[0;34m\u001b[0m\u001b[0;34m\u001b[0m\u001b[0m\n\u001b[0m\u001b[1;32m    679\u001b[0m \u001b[0;34m\u001b[0m\u001b[0m\n\u001b[1;32m    680\u001b[0m     \u001b[0mparser_f\u001b[0m\u001b[0;34m.\u001b[0m\u001b[0m__name__\u001b[0m \u001b[0;34m=\u001b[0m \u001b[0mname\u001b[0m\u001b[0;34m\u001b[0m\u001b[0;34m\u001b[0m\u001b[0m\n",
      "\u001b[0;32m~/anaconda3/lib/python3.7/site-packages/pandas/io/parsers.py\u001b[0m in \u001b[0;36m_read\u001b[0;34m(filepath_or_buffer, kwds)\u001b[0m\n\u001b[1;32m    438\u001b[0m \u001b[0;34m\u001b[0m\u001b[0m\n\u001b[1;32m    439\u001b[0m     \u001b[0;31m# Create the parser.\u001b[0m\u001b[0;34m\u001b[0m\u001b[0;34m\u001b[0m\u001b[0;34m\u001b[0m\u001b[0m\n\u001b[0;32m--> 440\u001b[0;31m     \u001b[0mparser\u001b[0m \u001b[0;34m=\u001b[0m \u001b[0mTextFileReader\u001b[0m\u001b[0;34m(\u001b[0m\u001b[0mfilepath_or_buffer\u001b[0m\u001b[0;34m,\u001b[0m \u001b[0;34m**\u001b[0m\u001b[0mkwds\u001b[0m\u001b[0;34m)\u001b[0m\u001b[0;34m\u001b[0m\u001b[0;34m\u001b[0m\u001b[0m\n\u001b[0m\u001b[1;32m    441\u001b[0m \u001b[0;34m\u001b[0m\u001b[0m\n\u001b[1;32m    442\u001b[0m     \u001b[0;32mif\u001b[0m \u001b[0mchunksize\u001b[0m \u001b[0;32mor\u001b[0m \u001b[0miterator\u001b[0m\u001b[0;34m:\u001b[0m\u001b[0;34m\u001b[0m\u001b[0;34m\u001b[0m\u001b[0m\n",
      "\u001b[0;32m~/anaconda3/lib/python3.7/site-packages/pandas/io/parsers.py\u001b[0m in \u001b[0;36m__init__\u001b[0;34m(self, f, engine, **kwds)\u001b[0m\n\u001b[1;32m    785\u001b[0m             \u001b[0mself\u001b[0m\u001b[0;34m.\u001b[0m\u001b[0moptions\u001b[0m\u001b[0;34m[\u001b[0m\u001b[0;34m'has_index_names'\u001b[0m\u001b[0;34m]\u001b[0m \u001b[0;34m=\u001b[0m \u001b[0mkwds\u001b[0m\u001b[0;34m[\u001b[0m\u001b[0;34m'has_index_names'\u001b[0m\u001b[0;34m]\u001b[0m\u001b[0;34m\u001b[0m\u001b[0;34m\u001b[0m\u001b[0m\n\u001b[1;32m    786\u001b[0m \u001b[0;34m\u001b[0m\u001b[0m\n\u001b[0;32m--> 787\u001b[0;31m         \u001b[0mself\u001b[0m\u001b[0;34m.\u001b[0m\u001b[0m_make_engine\u001b[0m\u001b[0;34m(\u001b[0m\u001b[0mself\u001b[0m\u001b[0;34m.\u001b[0m\u001b[0mengine\u001b[0m\u001b[0;34m)\u001b[0m\u001b[0;34m\u001b[0m\u001b[0;34m\u001b[0m\u001b[0m\n\u001b[0m\u001b[1;32m    788\u001b[0m \u001b[0;34m\u001b[0m\u001b[0m\n\u001b[1;32m    789\u001b[0m     \u001b[0;32mdef\u001b[0m \u001b[0mclose\u001b[0m\u001b[0;34m(\u001b[0m\u001b[0mself\u001b[0m\u001b[0;34m)\u001b[0m\u001b[0;34m:\u001b[0m\u001b[0;34m\u001b[0m\u001b[0;34m\u001b[0m\u001b[0m\n",
      "\u001b[0;32m~/anaconda3/lib/python3.7/site-packages/pandas/io/parsers.py\u001b[0m in \u001b[0;36m_make_engine\u001b[0;34m(self, engine)\u001b[0m\n\u001b[1;32m   1012\u001b[0m     \u001b[0;32mdef\u001b[0m \u001b[0m_make_engine\u001b[0m\u001b[0;34m(\u001b[0m\u001b[0mself\u001b[0m\u001b[0;34m,\u001b[0m \u001b[0mengine\u001b[0m\u001b[0;34m=\u001b[0m\u001b[0;34m'c'\u001b[0m\u001b[0;34m)\u001b[0m\u001b[0;34m:\u001b[0m\u001b[0;34m\u001b[0m\u001b[0;34m\u001b[0m\u001b[0m\n\u001b[1;32m   1013\u001b[0m         \u001b[0;32mif\u001b[0m \u001b[0mengine\u001b[0m \u001b[0;34m==\u001b[0m \u001b[0;34m'c'\u001b[0m\u001b[0;34m:\u001b[0m\u001b[0;34m\u001b[0m\u001b[0;34m\u001b[0m\u001b[0m\n\u001b[0;32m-> 1014\u001b[0;31m             \u001b[0mself\u001b[0m\u001b[0;34m.\u001b[0m\u001b[0m_engine\u001b[0m \u001b[0;34m=\u001b[0m \u001b[0mCParserWrapper\u001b[0m\u001b[0;34m(\u001b[0m\u001b[0mself\u001b[0m\u001b[0;34m.\u001b[0m\u001b[0mf\u001b[0m\u001b[0;34m,\u001b[0m \u001b[0;34m**\u001b[0m\u001b[0mself\u001b[0m\u001b[0;34m.\u001b[0m\u001b[0moptions\u001b[0m\u001b[0;34m)\u001b[0m\u001b[0;34m\u001b[0m\u001b[0;34m\u001b[0m\u001b[0m\n\u001b[0m\u001b[1;32m   1015\u001b[0m         \u001b[0;32melse\u001b[0m\u001b[0;34m:\u001b[0m\u001b[0;34m\u001b[0m\u001b[0;34m\u001b[0m\u001b[0m\n\u001b[1;32m   1016\u001b[0m             \u001b[0;32mif\u001b[0m \u001b[0mengine\u001b[0m \u001b[0;34m==\u001b[0m \u001b[0;34m'python'\u001b[0m\u001b[0;34m:\u001b[0m\u001b[0;34m\u001b[0m\u001b[0;34m\u001b[0m\u001b[0m\n",
      "\u001b[0;32m~/anaconda3/lib/python3.7/site-packages/pandas/io/parsers.py\u001b[0m in \u001b[0;36m__init__\u001b[0;34m(self, src, **kwds)\u001b[0m\n\u001b[1;32m   1706\u001b[0m         \u001b[0mkwds\u001b[0m\u001b[0;34m[\u001b[0m\u001b[0;34m'usecols'\u001b[0m\u001b[0;34m]\u001b[0m \u001b[0;34m=\u001b[0m \u001b[0mself\u001b[0m\u001b[0;34m.\u001b[0m\u001b[0musecols\u001b[0m\u001b[0;34m\u001b[0m\u001b[0;34m\u001b[0m\u001b[0m\n\u001b[1;32m   1707\u001b[0m \u001b[0;34m\u001b[0m\u001b[0m\n\u001b[0;32m-> 1708\u001b[0;31m         \u001b[0mself\u001b[0m\u001b[0;34m.\u001b[0m\u001b[0m_reader\u001b[0m \u001b[0;34m=\u001b[0m \u001b[0mparsers\u001b[0m\u001b[0;34m.\u001b[0m\u001b[0mTextReader\u001b[0m\u001b[0;34m(\u001b[0m\u001b[0msrc\u001b[0m\u001b[0;34m,\u001b[0m \u001b[0;34m**\u001b[0m\u001b[0mkwds\u001b[0m\u001b[0;34m)\u001b[0m\u001b[0;34m\u001b[0m\u001b[0;34m\u001b[0m\u001b[0m\n\u001b[0m\u001b[1;32m   1709\u001b[0m \u001b[0;34m\u001b[0m\u001b[0m\n\u001b[1;32m   1710\u001b[0m         \u001b[0mpassed_names\u001b[0m \u001b[0;34m=\u001b[0m \u001b[0mself\u001b[0m\u001b[0;34m.\u001b[0m\u001b[0mnames\u001b[0m \u001b[0;32mis\u001b[0m \u001b[0;32mNone\u001b[0m\u001b[0;34m\u001b[0m\u001b[0;34m\u001b[0m\u001b[0m\n",
      "\u001b[0;32mpandas/_libs/parsers.pyx\u001b[0m in \u001b[0;36mpandas._libs.parsers.TextReader.__cinit__\u001b[0;34m()\u001b[0m\n",
      "\u001b[0;32mpandas/_libs/parsers.pyx\u001b[0m in \u001b[0;36mpandas._libs.parsers.TextReader._setup_parser_source\u001b[0;34m()\u001b[0m\n",
      "\u001b[0;31mFileNotFoundError\u001b[0m: File b'../data/GTEx.RecGenes.exon.rpkm.csv' does not exist"
     ]
    }
   ],
   "source": [
    "ExonRPKM = pd.read_csv(\"../data/GTEx.RecGenes.exon.rpkm.csv\")\n",
    "ExonRPKM.set_index(\"Name\", inplace=True)\n",
    "ExonRPKM.head(2)"
   ]
  },
  {
   "cell_type": "code",
   "execution_count": null,
   "metadata": {},
   "outputs": [],
   "source": [
    "print(BrainSamples)"
   ]
  },
  {
   "cell_type": "code",
   "execution_count": null,
   "metadata": {},
   "outputs": [],
   "source": [
    "# GeneExpinTissues\n",
    "BrainExp = GeneRPKM[BrainSamples]\n",
    "BloodExp = GeneRPKM[BloodSamples]\n",
    "SkinExp = GeneRPKM[SkinSamples]\n",
    "\n",
    "Tissue2Exp = {}\n",
    "Tissue2Exp[\"Brain\"] = (GeneRPKM[[\"Description\"]+list(BrainSamples)], ExonRPKM[[\"Description\"]+list(BrainSamples)])\n",
    "Tissue2Exp[\"Blood\"] = (GeneRPKM[[\"Description\"]+list(BloodSamples)], ExonRPKM[[\"Description\"]+list(BloodSamples)])\n",
    "Tissue2Exp[\"Skin\"]  = (GeneRPKM[[\"Description\"]+list(SkinSamples)], ExonRPKM[[\"Description\"]+list(SkinSamples)])"
   ]
  },
  {
   "cell_type": "code",
   "execution_count": null,
   "metadata": {},
   "outputs": [],
   "source": [
    "Tissue2Exp[\"Brain\"][1].head(2)"
   ]
  },
  {
   "cell_type": "code",
   "execution_count": null,
   "metadata": {},
   "outputs": [],
   "source": [
    "Gene = \"ENSG00000136531.9\"\n",
    "Gene = \"ENSG00000114861.14\"\n",
    "Gene = \"ENSG00000157540.15\"\n",
    "ax = plt.subplot(111)\n",
    "pos = [1,2,3]\n",
    "plt.violinplot([BrainExp.loc[Gene,:].values, BloodExp.loc[Gene,:].values, SkinExp.loc[Gene,:].values], pos)\n",
    "ax.set_xticks(pos)\n",
    "ax.set_xticklabels([\"Brain\", \"Blood\", \"Skin\"])\n",
    "plt.xlabel\n",
    "plt.show()"
   ]
  },
  {
   "cell_type": "code",
   "execution_count": null,
   "metadata": {},
   "outputs": [],
   "source": [
    "Jiayao_features = pd.read_csv(\"unifiedmodel/features.jiayao.65.csv\")\n",
    "Variants = Jiayao_features[['familyId', 'vcfVariant', 'inChild', 'effectGene', 'effectType',\n",
    "       'gender', 'VIQ', 'NVIQ', 'Age',]]\n",
    "Variants.loc[Variants[\"effectGene\"]==\"MLL5\", \"effectGene\"] = \"KMT2E\" #MLL5 \n",
    "Variants.columns"
   ]
  },
  {
   "cell_type": "code",
   "execution_count": null,
   "metadata": {},
   "outputs": [],
   "source": [
    "Gene2Ens = pd.read_csv(\"../data/GTEx.ENSG2SYMBOL.txt\", delimiter=\"\\t\", names=[1,2])\n",
    "Gene2Ens = dict(zip(Gene2Ens[2].values, Gene2Ens[1].values))"
   ]
  },
  {
   "cell_type": "code",
   "execution_count": null,
   "metadata": {},
   "outputs": [],
   "source": [
    "def sudogmean(values):\n",
    "    values = [(x+1) for x in values]\n",
    "    gmean = scipy.stats.mstats.gmean(values)\n",
    "    return gmean-1\n",
    "def searchExon(Gene, Chr, Pos, Ref, Alt, ExonRow):\n",
    "    Pos, LenV = int(Pos), len(Ref)-len(Alt)\n",
    "    ExonRow = ExonRow[ExonRow[\"Gene\"]==Gene2Ens[Gene]]\n",
    "    for i, row in ExonRow.iterrows():\n",
    "        exon_id, start, end = row[\"exon_id\"],int(row[\"start_pos\"]),int(row[\"end_pos\"])\n",
    "        if Pos > start -3 and Pos < end + 3:\n",
    "            return exon_id\n",
    "        elif LenV > 0: # a delition may span a splice site\n",
    "            if (Pos < start-3 and Pos + LenV > start ) or (Pos < end and Pos + LenV > end +3):\n",
    "                return exon_id\n",
    "    return 0\n",
    "\n",
    "Variants[\"ExonID\"] = 0\n",
    "for Tissue in [\"Brain\", \"Blood\", \"Skin\"]:\n",
    "    Variants[\"%sGeneExp.amean\"%Tissue] = 0.0\n",
    "    Variants[\"%sGeneExp.gmean\"%Tissue] = 0.0\n",
    "    Variants[\"%sExonExp.amean\"%Tissue] = 0.0\n",
    "    Variants[\"%sExonExp.gmean\"%Tissue] = 0.0\n",
    "for i, row in Variants.iterrows():\n",
    "    famid, gene, (Chr, Pos, Ref, Alt) = row[\"familyId\"], row[\"effectGene\"], row[\"vcfVariant\"].split(\":\")\n",
    "    #ens = Ens2Gene(gene)\n",
    "    try:\n",
    "        Variants.loc[i, \"Age\"] = famid2age[str(famid)]\n",
    "    except:\n",
    "        Variants.loc[i, \"Age\"] = 0\n",
    "    try:\n",
    "        #GeneExp = GeneRPKM[GeneRPKM[\"Description\"]==gene]\n",
    "        for Tissue in [\"Brain\", \"Blood\", \"Skin\"]:\n",
    "            df = Tissue2Exp[Tissue][0]\n",
    "            #TissueExp = df.loc[Gene,:]\n",
    "            TissueExp = df[df[\"Description\"]==gene].values[0][1:]\n",
    "            gene_nmean, gene_gmean = np.mean(TissueExp), sudogmean(TissueExp)\n",
    "            Variants[\"%sGeneExp.amean\"%Tissue] = gene_nmean\n",
    "            Variants[\"%sGeneExp.gmean\"%Tissue] = gene_gmean\n",
    "    except IndexError:\n",
    "        print(\"gene not find\", famid, gene)\n",
    "    \n",
    "    exonId = searchExon(gene, Chr, Pos, Ref, Alt, gtx_exon)\n",
    "    \n",
    "    if len(Ref) == len(Alt):\n",
    "        Variants.loc[i, \"KEY\"] = \"%s-%s:%d\"%(famid, Chr, int(Pos))\n",
    "    else:\n",
    "        Variants.loc[i, \"KEY\"] = \"%s-%s:%d\"%(famid, Chr, int(Pos)+1)\n",
    "    if exonId != 0:\n",
    "        Variants.loc[i, \"ExonID\"] = exonId\n",
    "        \n",
    "        for Tissue in [\"Brain\", \"Blood\", \"Skin\"]:\n",
    "            df = Tissue2Exp[Tissue][1]\n",
    "            TissueExp = df[df.index==exonId].values[0][1:]\n",
    "            exon_nmean, exon_gmean = np.mean(TissueExp), sudogmean(TissueExp)\n",
    "            Variants.loc[i, \"%sExonExp.amean\"%Tissue] = exon_nmean\n",
    "            Variants.loc[i, \"%sExonExp.gmean\"%Tissue] = exon_gmean\n",
    "            Variants.loc[i, \"%sRel.exp.amean\"%Tissue] = exon_nmean/Variants.loc[i, \"%sGeneExp.amean\"%Tissue]\n",
    "            Variants.loc[i, \"%sRel.exp.gmean\"%Tissue] = exon_gmean/Variants.loc[i, \"%sGeneExp.gmean\"%Tissue]\n",
    "    else:\n",
    "        print(\"exon not find\", famid, gene)"
   ]
  },
  {
   "cell_type": "code",
   "execution_count": null,
   "metadata": {},
   "outputs": [],
   "source": [
    "print(Variants.shape)\n",
    "Variants.head()\n",
    "Variants.to_csv(\"../data/GTEx.2Tissue.Pred.65.csv\", index=False)"
   ]
  },
  {
   "cell_type": "code",
   "execution_count": null,
   "metadata": {},
   "outputs": [],
   "source": [
    "Tissue = \"Brain\"\n",
    "gene2slope = {}\n",
    "ALL_RelExp = np.array([])\n",
    "ALL_Normed_IQD = np.array([])\n",
    "Genes = list(set(Variants[\"effectGene\"].values))\n",
    "for gene in Genes:\n",
    "    df = Variants[Variants[\"effectGene\"]==gene]\n",
    "    IQs = [max(0, (100-x)) for x in df[\"NVIQ\"].values]\n",
    "    #rel_exps = [x for x in df[\"Rel.exp.amean\"].values] #Rel.exp.prenatal\n",
    "    #rel_exps = [x for x in df[\"Rel.exp.prenatal\"].values] #Rel.exp.prenatal\n",
    "    rel_exps = [x for x in df[\"%sRel.exp.amean\"%Tissue].values]\n",
    "    regr = regGene(rel_exps, IQs)\n",
    "    slope = regr.coef_[0]\n",
    "    #if slope == 0:\n",
    "    #    continue\n",
    "    gene2slope[gene] = slope\n",
    "    ALL_RelExp = np.append(ALL_RelExp, rel_exps)\n",
    "    NormIQDs = np.array([x/slope for x in IQs])\n",
    "    ALL_Normed_IQD = np.append(ALL_Normed_IQD, NormIQDs)"
   ]
  },
  {
   "cell_type": "code",
   "execution_count": null,
   "metadata": {},
   "outputs": [],
   "source": [
    "model = linear_model.LinearRegression(fit_intercept=False)\n",
    "ALL_RelExp = ALL_RelExp.reshape(-1,1)\n",
    "R, P = scipy.stats.pearsonr([x[0] for x in ALL_RelExp], ALL_Normed_IQD) \n",
    "R, P = scipy.stats.spearmanr([x[0] for x in ALL_RelExp], ALL_Normed_IQD) \n",
    "plt.figure(figsize=(4,4), dpi=120)\n",
    "plt.title(\"Relative expression of exon containing LGD mutation\")\n",
    "model.fit(ALL_RelExp, ALL_Normed_IQD)\n",
    "plt.scatter(ALL_RelExp, ALL_Normed_IQD, s=40, facecolors='none', edgecolors='black')\n",
    "plt.plot([0, 5], [0,model.predict([[5.0]])], color='red')\n",
    "plt.text(0, 2.7, \"R=%.3f\"%(R))\n",
    "#plt.xlim((0,5))\n",
    "#plt.ylim((0,5))\n",
    "plt.show()"
   ]
  },
  {
   "cell_type": "code",
   "execution_count": null,
   "metadata": {},
   "outputs": [],
   "source": [
    "Variants = pd.read_csv(\"../data/GTEx.2Tissue.Pred.65.csv\")\n",
    "ExcludeList = [\"13398-1:151377904\", \"13627-1:151378489\", \"13664-1:202698172\", \"13447-6:157527665\", \n",
    "               \"12323-9:96439930\", \"13545-20:49509095\", \"12130-20:49510028\", \"12764-2:183791570\", \"13735-21:41414331\"]\n",
    "Variants = Variants[~Variants[\"familyId\"].isin(ExcludeList)]\n",
    "GTExDosagePredErrs = {}\n",
    "for Tissue in [\"Brain\", \"Blood\", \"Skin\"]:\n",
    "    IQ_diff1, IQ_diff2, IQ_diff3 = [], [], []\n",
    "    avg_IQ = np.mean(Variants[\"NVIQ\"].values)\n",
    "    N = 0\n",
    "    for i, row in Variants.iterrows():\n",
    "        familyId, gene, ralexp, IQ = row[\"familyId\"], row[\"effectGene\"], row[\"%sRel.exp.gmean\"%Tissue], row[\"NVIQ\"]\n",
    "        df = Variants[(Variants[\"effectGene\"]==gene) & (Variants[\"familyId\"]!=familyId)]\n",
    "        IQs = df[\"NVIQ\"].values\n",
    "        IQDiffs = [max(0, (100-x)) for x in IQs]\n",
    "        rel_exps = [x for x in df[\"%sRel.exp.gmean\"%Tissue].values]\n",
    "        regr = regGene(rel_exps, IQDiffs)\n",
    "        slope = regr.coef_[0]\n",
    "        IQpre_dosage = max(0, (100 - slope * ralexp))\n",
    "\n",
    "        IQpre_gene = np.mean(IQs)\n",
    "        if abs(IQ - IQpre_dosage) > 50:\n",
    "            pass\n",
    "            #print(familyId, gene, IQ, IQpre_dosage, ralexp)\n",
    "        IQ_diff1.append(abs(IQ - IQpre_dosage))\n",
    "        IQ_diff2.append(abs(IQ - IQpre_gene))\n",
    "        IQ_diff3.append(abs(IQ - 70))\n",
    "        N += 1\n",
    "    plt.figure(figsize=(4,4), dpi=120)\n",
    "    plt.boxplot([IQ_diff1, IQ_diff2, IQ_diff3], labels = [\"dosamge\", \"gene\", \"mean\"])\n",
    "    GTExDosagePredErrs[Tissue] = IQ_diff1\n",
    "    plt.ylabel(\"Nonverbal IQ difference\")\n",
    "    plt.grid(True)\n",
    "    print(Tissue, np.median(IQ_diff1), np.mean(IQ_diff1))\n",
    "    plt.show()"
   ]
  },
  {
   "cell_type": "code",
   "execution_count": null,
   "metadata": {},
   "outputs": [],
   "source": [
    "print(scipy.stats.mannwhitneyu(GTExDosagePredErrs[\"Brain\"], GTExDosagePredErrs[\"Blood\"], alternative=\"less\"))\n",
    "print(scipy.stats.mannwhitneyu(GTExDosagePredErrs[\"Brain\"], GTExDosagePredErrs[\"Skin\"], alternative=\"less\"))"
   ]
  },
  {
   "cell_type": "code",
   "execution_count": null,
   "metadata": {},
   "outputs": [],
   "source": [
    "print(scipy.stats.wilcoxon(GTExDosagePredErrs[\"Brain\"], GTExDosagePredErrs[\"Blood\"]))\n",
    "print(scipy.stats.wilcoxon(GTExDosagePredErrs[\"Brain\"], GTExDosagePredErrs[\"Skin\"]))"
   ]
  },
  {
   "cell_type": "code",
   "execution_count": 38,
   "metadata": {},
   "outputs": [],
   "source": [
    "INDELs = pd.read_csv(\"../data/GTEx/GTEx_Data_20140613_ExomeSeq_180Indiv_GATK_HC_indels_annot.tsv\", delimiter=\"\\t\")\n",
    "SNVs = pd.read_csv(\"../data/GTEx/GTEx_Data_20140613_ExomeSeq_180Indiv_GATK_UG_SNPs_annot.tsv\", delimiter=\"\\t\")\n",
    "GTEx_LGDs = pd.concat([INDELs, SNVs])\n",
    "GTEx_LGDs = GTEx_LGDs[(GTEx_LGDs[\"SEVERE_IMPACT\"]!=\"SPLICE_REGION_VARIANT\") & \n",
    "                      (GTEx_LGDs[\"GT\"]==\"0/1\")]"
   ]
  },
  {
   "cell_type": "code",
   "execution_count": 39,
   "metadata": {},
   "outputs": [
    {
     "data": {
      "text/html": [
       "<div>\n",
       "<style scoped>\n",
       "    .dataframe tbody tr th:only-of-type {\n",
       "        vertical-align: middle;\n",
       "    }\n",
       "\n",
       "    .dataframe tbody tr th {\n",
       "        vertical-align: top;\n",
       "    }\n",
       "\n",
       "    .dataframe thead th {\n",
       "        text-align: right;\n",
       "    }\n",
       "</style>\n",
       "<table border=\"1\" class=\"dataframe\">\n",
       "  <thead>\n",
       "    <tr style=\"text-align: right;\">\n",
       "      <th></th>\n",
       "      <th>CHR</th>\n",
       "      <th>POS</th>\n",
       "      <th>REF</th>\n",
       "      <th>ALT</th>\n",
       "      <th>AF</th>\n",
       "      <th>SEVERE_GENE</th>\n",
       "      <th>SEVERE_GENE_NAME</th>\n",
       "      <th>SEVERE_IMPACT</th>\n",
       "      <th>INDV</th>\n",
       "      <th>GT</th>\n",
       "      <th>DP</th>\n",
       "      <th>GQ</th>\n",
       "    </tr>\n",
       "  </thead>\n",
       "  <tbody>\n",
       "    <tr>\n",
       "      <th>2</th>\n",
       "      <td>1</td>\n",
       "      <td>905784</td>\n",
       "      <td>TG</td>\n",
       "      <td>T</td>\n",
       "      <td>0.002778</td>\n",
       "      <td>ENSG00000187583</td>\n",
       "      <td>PLEKHN1</td>\n",
       "      <td>FRAMESHIFT_VARIANT</td>\n",
       "      <td>GTEX-T5JW-0002-SM-3UZEZ</td>\n",
       "      <td>0/1</td>\n",
       "      <td>15</td>\n",
       "      <td>99.0</td>\n",
       "    </tr>\n",
       "    <tr>\n",
       "      <th>4</th>\n",
       "      <td>1</td>\n",
       "      <td>984430</td>\n",
       "      <td>TGCAGCTCAGGTGGGCGGGGAGGGGACGGGGCCGGGGCAGCTCAGG...</td>\n",
       "      <td>T</td>\n",
       "      <td>0.002890</td>\n",
       "      <td>ENSG00000188157</td>\n",
       "      <td>AGRN</td>\n",
       "      <td>SPLICE_DONOR_VARIANT</td>\n",
       "      <td>GTEX-X585-0003-SM-3USRA</td>\n",
       "      <td>0/1</td>\n",
       "      <td>14</td>\n",
       "      <td>99.0</td>\n",
       "    </tr>\n",
       "  </tbody>\n",
       "</table>\n",
       "</div>"
      ],
      "text/plain": [
       "  CHR     POS                                                REF ALT  \\\n",
       "2   1  905784                                                 TG   T   \n",
       "4   1  984430  TGCAGCTCAGGTGGGCGGGGAGGGGACGGGGCCGGGGCAGCTCAGG...   T   \n",
       "\n",
       "         AF      SEVERE_GENE SEVERE_GENE_NAME         SEVERE_IMPACT  \\\n",
       "2  0.002778  ENSG00000187583          PLEKHN1    FRAMESHIFT_VARIANT   \n",
       "4  0.002890  ENSG00000188157             AGRN  SPLICE_DONOR_VARIANT   \n",
       "\n",
       "                      INDV   GT  DP    GQ  \n",
       "2  GTEX-T5JW-0002-SM-3UZEZ  0/1  15  99.0  \n",
       "4  GTEX-X585-0003-SM-3USRA  0/1  14  99.0  "
      ]
     },
     "execution_count": 39,
     "metadata": {},
     "output_type": "execute_result"
    }
   ],
   "source": [
    "GTEx_LGDs.head(2)"
   ]
  },
  {
   "cell_type": "code",
   "execution_count": 40,
   "metadata": {},
   "outputs": [],
   "source": [
    "# Annotation with Exons from Gencodev19\n",
    "\n",
    "GeneCount = GTEx_LGDs.groupby(\"SEVERE_GENE_NAME\")[\"SEVERE_GENE_NAME\"].count()\n",
    "GTEx_LGDs[\"GeneCount\"] = GTEx_LGDs.apply(lambda row: GeneCount[row[\"SEVERE_GENE_NAME\"]], axis=1)\n",
    "GTEx_LGDs = GTEx_LGDs[GTEx_LGDs[\"GeneCount\"]>=2]\n",
    "gtex_lgd_genes = set(GTEx_LGDs[\"SEVERE_GENE_NAME\"].values)\n",
    "#GTEx_LGDs"
   ]
  },
  {
   "cell_type": "code",
   "execution_count": 41,
   "metadata": {},
   "outputs": [
    {
     "ename": "AttributeError",
     "evalue": "'dict' object has no attribute 'append'",
     "output_type": "error",
     "traceback": [
      "\u001b[0;31m---------------------------------------------------------------------------\u001b[0m",
      "\u001b[0;31mAttributeError\u001b[0m                            Traceback (most recent call last)",
      "\u001b[0;32m<ipython-input-41-c1331421c67f>\u001b[0m in \u001b[0;36m<module>\u001b[0;34m\u001b[0m\n\u001b[1;32m     33\u001b[0m         \u001b[0;32mif\u001b[0m \u001b[0mtranscript_type\u001b[0m\u001b[0;34m==\u001b[0m\u001b[0;34m\"protein_coding\"\u001b[0m\u001b[0;34m:\u001b[0m\u001b[0;34m\u001b[0m\u001b[0;34m\u001b[0m\u001b[0m\n\u001b[1;32m     34\u001b[0m             \u001b[0mexon\u001b[0m\u001b[0;34m=\u001b[0m \u001b[0mGTFExon\u001b[0m\u001b[0;34m(\u001b[0m\u001b[0mexon_id\u001b[0m\u001b[0;34m,\u001b[0m \u001b[0mstart\u001b[0m\u001b[0;34m,\u001b[0m \u001b[0mend\u001b[0m\u001b[0;34m,\u001b[0m \u001b[0mtranscript_id\u001b[0m\u001b[0;34m,\u001b[0m \u001b[0mstrand\u001b[0m\u001b[0;34m)\u001b[0m\u001b[0;34m\u001b[0m\u001b[0;34m\u001b[0m\u001b[0m\n\u001b[0;32m---> 35\u001b[0;31m             \u001b[0mGTFGeneTransExon\u001b[0m\u001b[0;34m[\u001b[0m\u001b[0mgene_name\u001b[0m\u001b[0;34m]\u001b[0m\u001b[0;34m.\u001b[0m\u001b[0mTranscripts\u001b[0m\u001b[0;34m[\u001b[0m\u001b[0mtranscript_id\u001b[0m\u001b[0;34m]\u001b[0m\u001b[0;34m.\u001b[0m\u001b[0mExons\u001b[0m\u001b[0;34m.\u001b[0m\u001b[0mappend\u001b[0m\u001b[0;34m(\u001b[0m\u001b[0mexon\u001b[0m\u001b[0;34m)\u001b[0m\u001b[0;34m\u001b[0m\u001b[0;34m\u001b[0m\u001b[0m\n\u001b[0m\u001b[1;32m     36\u001b[0m \u001b[0;34m\u001b[0m\u001b[0m\n",
      "\u001b[0;31mAttributeError\u001b[0m: 'dict' object has no attribute 'append'"
     ]
    }
   ],
   "source": [
    "GTFGeneTransExon = {}\n",
    "EnsemblMapper = {}\n",
    "hand = open(\"../data/GTEx/GTEx.RecLGDgenes.gencode.v19.gtf\", 'rt')\n",
    "for l in hand:\n",
    "    if l.startswith(\"#\"):\n",
    "        continue\n",
    "    llist = l.strip().split(\"\\t\")\n",
    "    info = gtf_info_parser(llist[8]) \n",
    "    CHR = llist[0].lstrip(\"chr\")\n",
    "    strand = llist[6]\n",
    "    start = int(llist[3])\n",
    "    end = int(llist[4])\n",
    "    if llist[2] == \"gene\":\n",
    "        gene_name = info[\"gene_name\"]\n",
    "        gene_id = info[\"gene_id\"]\n",
    "        EnsemblMapper[gene_id.split(\".\")[0]]=gene_id\n",
    "        GTFGeneTransExon[gene_name] = GTFGene(gene_name, gene_id, strand)\n",
    "    elif llist[2] == \"transcript\":\n",
    "        gene_name = info[\"gene_name\"]\n",
    "        gene_id = info[\"gene_id\"]\n",
    "        transcript_name = info[\"transcript_id\"]\n",
    "        transcript_id = info[\"transcript_id\"]\n",
    "        transcript_type = info[\"transcript_type\"]\n",
    "        if transcript_id not in GTFGeneTransExon[gene_name].Transcripts and transcript_type==\"protein_coding\":\n",
    "            GTFGeneTransExon[gene_name].Transcripts[transcript_id] = GTFTranscript(gene_name, transcript_name, transcript_id, strand)\n",
    "    elif llist[2] == \"exon\":\n",
    "        gene_name = info[\"gene_name\"]\n",
    "        gene_id = info[\"gene_id\"]\n",
    "        exon_id = info[\"exon_id\"]\n",
    "        transcript_name = info[\"transcript_id\"]\n",
    "        transcript_id = info[\"transcript_id\"]\n",
    "        transcript_type = info[\"transcript_type\"]\n",
    "        if transcript_type==\"protein_coding\":\n",
    "            exon= GTFExon(exon_id, start, end, transcript_id, strand)\n",
    "            GTFGeneTransExon[gene_name].Transcripts[transcript_id].Exons.append(exon)\n",
    "        "
   ]
  },
  {
   "cell_type": "code",
   "execution_count": 45,
   "metadata": {},
   "outputs": [],
   "source": [
    "def searchExon(Gene, Pos, Ref, Alt, Genes):\n",
    "    Pos, LenV = int(Pos), len(Ref)-len(Alt)\n",
    "    gene_obj = Genes[Gene]\n",
    "    _Exons, Transcripts = [],[]\n",
    "    for transid, transobj in gene_obj.Transcripts.items():\n",
    "        for exon in transobj.Exons:\n",
    "            if Pos > exon.start -3 and Pos < exon.end +3:\n",
    "                _Exons.append(exon.ExonID)\n",
    "                Transcripts.append(transid)\n",
    "                break\n",
    "            elif LenV > 0:\n",
    "                if (Pos < exon.start-3 and Pos + LenV > exon.start ) or (Pos < exon.end and Pos + LenV > exon.end +3):\n",
    "                    _Exons.append(exon.ExonID)\n",
    "                    Transcripts.append(transid)\n",
    "                    break\n",
    "    #return list(set(_Exons)), list(set(Transcripts))\n",
    "    return \";\".join(_Exons), \";\".join(Transcripts)"
   ]
  },
  {
   "cell_type": "code",
   "execution_count": 46,
   "metadata": {},
   "outputs": [
    {
     "data": {
      "text/html": [
       "<div>\n",
       "<style scoped>\n",
       "    .dataframe tbody tr th:only-of-type {\n",
       "        vertical-align: middle;\n",
       "    }\n",
       "\n",
       "    .dataframe tbody tr th {\n",
       "        vertical-align: top;\n",
       "    }\n",
       "\n",
       "    .dataframe thead th {\n",
       "        text-align: right;\n",
       "    }\n",
       "</style>\n",
       "<table border=\"1\" class=\"dataframe\">\n",
       "  <thead>\n",
       "    <tr style=\"text-align: right;\">\n",
       "      <th></th>\n",
       "      <th>CHR</th>\n",
       "      <th>POS</th>\n",
       "      <th>REF</th>\n",
       "      <th>ALT</th>\n",
       "      <th>AF</th>\n",
       "      <th>SEVERE_GENE</th>\n",
       "      <th>SEVERE_GENE_NAME</th>\n",
       "      <th>SEVERE_IMPACT</th>\n",
       "      <th>INDV</th>\n",
       "      <th>GT</th>\n",
       "      <th>DP</th>\n",
       "      <th>GQ</th>\n",
       "      <th>GeneCount</th>\n",
       "      <th>Exons</th>\n",
       "      <th>Transcripts</th>\n",
       "      <th>GTExExonID</th>\n",
       "    </tr>\n",
       "  </thead>\n",
       "  <tbody>\n",
       "    <tr>\n",
       "      <th>5</th>\n",
       "      <td>1</td>\n",
       "      <td>1115544</td>\n",
       "      <td>A</td>\n",
       "      <td>AC</td>\n",
       "      <td>0.002778</td>\n",
       "      <td>ENSG00000162571</td>\n",
       "      <td>TTLL10</td>\n",
       "      <td>FRAMESHIFT_VARIANT</td>\n",
       "      <td>GTEX-T5JW-0002-SM-3UZEZ</td>\n",
       "      <td>0/1</td>\n",
       "      <td>9</td>\n",
       "      <td>99.0</td>\n",
       "      <td>4</td>\n",
       "      <td></td>\n",
       "      <td></td>\n",
       "      <td>ENSG00000162571.9_3</td>\n",
       "    </tr>\n",
       "    <tr>\n",
       "      <th>6</th>\n",
       "      <td>1</td>\n",
       "      <td>1116222</td>\n",
       "      <td>C</td>\n",
       "      <td>CG</td>\n",
       "      <td>0.011000</td>\n",
       "      <td>ENSG00000162571</td>\n",
       "      <td>TTLL10</td>\n",
       "      <td>FRAMESHIFT_VARIANT</td>\n",
       "      <td>GTEX-R55E-0003-SM-3UZFL</td>\n",
       "      <td>0/1</td>\n",
       "      <td>9</td>\n",
       "      <td>44.0</td>\n",
       "      <td>4</td>\n",
       "      <td></td>\n",
       "      <td></td>\n",
       "      <td>ENSG00000162571.9_5</td>\n",
       "    </tr>\n",
       "  </tbody>\n",
       "</table>\n",
       "</div>"
      ],
      "text/plain": [
       "  CHR      POS REF ALT        AF      SEVERE_GENE SEVERE_GENE_NAME  \\\n",
       "5   1  1115544   A  AC  0.002778  ENSG00000162571           TTLL10   \n",
       "6   1  1116222   C  CG  0.011000  ENSG00000162571           TTLL10   \n",
       "\n",
       "        SEVERE_IMPACT                     INDV   GT DP    GQ  GeneCount Exons  \\\n",
       "5  FRAMESHIFT_VARIANT  GTEX-T5JW-0002-SM-3UZEZ  0/1  9  99.0          4         \n",
       "6  FRAMESHIFT_VARIANT  GTEX-R55E-0003-SM-3UZFL  0/1  9  44.0          4         \n",
       "\n",
       "  Transcripts           GTExExonID  \n",
       "5              ENSG00000162571.9_3  \n",
       "6              ENSG00000162571.9_5  "
      ]
     },
     "execution_count": 46,
     "metadata": {},
     "output_type": "execute_result"
    }
   ],
   "source": [
    "GTEx_LGDs.head(2)"
   ]
  },
  {
   "cell_type": "code",
   "execution_count": 47,
   "metadata": {},
   "outputs": [],
   "source": [
    "GTEx_LGDs[\"Exons\"] = \"\"\n",
    "GTEx_LGDs[\"Transcripts\"] = \"\"\n",
    "GencodeMissingGene = []\n",
    "for i, row in GTEx_LGDs.iterrows():\n",
    "    Chr, Pos, Ref, Alt, gene = row[\"CHR\"], row[\"POS\"], row[\"REF\"], row[\"ALT\"], row[\"SEVERE_GENE_NAME\"]\n",
    "    if gene in GTFGeneTransExon:\n",
    "        ExonIDs, TranscriptIDs = searchExon(gene, Pos, Ref, Alt, GTFGeneTransExon)\n",
    "        GTEx_LGDs.loc[i, \"Exons\"] = ExonIDs\n",
    "        GTEx_LGDs.loc[i, \"Transcripts\"] = TranscriptIDs\n",
    "    else:\n",
    "        GencodeMissingGene.append(gene)"
   ]
  },
  {
   "cell_type": "code",
   "execution_count": 48,
   "metadata": {},
   "outputs": [],
   "source": [
    "GTEx_LGDs[\"GTExExonID\"] = \"\"\n",
    "for i, row in GTEx_LGDs.iterrows():\n",
    "    Chr, Pos, Ref, Alt, gene = row[\"CHR\"], row[\"POS\"], row[\"REF\"], row[\"ALT\"], row[\"SEVERE_GENE\"]\n",
    "    GTExExonID = searchExon_GTExExon(gene, Pos, Ref, Alt, gtx_exon)\n",
    "    GTEx_LGDs.loc[i, \"GTExExonID\"] = GTExExonID"
   ]
  },
  {
   "cell_type": "code",
   "execution_count": 49,
   "metadata": {},
   "outputs": [
    {
     "data": {
      "text/html": [
       "<div>\n",
       "<style scoped>\n",
       "    .dataframe tbody tr th:only-of-type {\n",
       "        vertical-align: middle;\n",
       "    }\n",
       "\n",
       "    .dataframe tbody tr th {\n",
       "        vertical-align: top;\n",
       "    }\n",
       "\n",
       "    .dataframe thead th {\n",
       "        text-align: right;\n",
       "    }\n",
       "</style>\n",
       "<table border=\"1\" class=\"dataframe\">\n",
       "  <thead>\n",
       "    <tr style=\"text-align: right;\">\n",
       "      <th></th>\n",
       "      <th>CHR</th>\n",
       "      <th>POS</th>\n",
       "      <th>REF</th>\n",
       "      <th>ALT</th>\n",
       "      <th>AF</th>\n",
       "      <th>SEVERE_GENE</th>\n",
       "      <th>SEVERE_GENE_NAME</th>\n",
       "      <th>SEVERE_IMPACT</th>\n",
       "      <th>INDV</th>\n",
       "      <th>GT</th>\n",
       "      <th>DP</th>\n",
       "      <th>GQ</th>\n",
       "      <th>GeneCount</th>\n",
       "      <th>Exons</th>\n",
       "      <th>Transcripts</th>\n",
       "      <th>GTExExonID</th>\n",
       "    </tr>\n",
       "  </thead>\n",
       "  <tbody>\n",
       "    <tr>\n",
       "      <th>5</th>\n",
       "      <td>1</td>\n",
       "      <td>1115544</td>\n",
       "      <td>A</td>\n",
       "      <td>AC</td>\n",
       "      <td>0.002778</td>\n",
       "      <td>ENSG00000162571</td>\n",
       "      <td>TTLL10</td>\n",
       "      <td>FRAMESHIFT_VARIANT</td>\n",
       "      <td>GTEX-T5JW-0002-SM-3UZEZ</td>\n",
       "      <td>0/1</td>\n",
       "      <td>9</td>\n",
       "      <td>99.0</td>\n",
       "      <td>4</td>\n",
       "      <td></td>\n",
       "      <td></td>\n",
       "      <td>ENSG00000162571.9_3</td>\n",
       "    </tr>\n",
       "    <tr>\n",
       "      <th>6</th>\n",
       "      <td>1</td>\n",
       "      <td>1116222</td>\n",
       "      <td>C</td>\n",
       "      <td>CG</td>\n",
       "      <td>0.011000</td>\n",
       "      <td>ENSG00000162571</td>\n",
       "      <td>TTLL10</td>\n",
       "      <td>FRAMESHIFT_VARIANT</td>\n",
       "      <td>GTEX-R55E-0003-SM-3UZFL</td>\n",
       "      <td>0/1</td>\n",
       "      <td>9</td>\n",
       "      <td>44.0</td>\n",
       "      <td>4</td>\n",
       "      <td></td>\n",
       "      <td></td>\n",
       "      <td>ENSG00000162571.9_5</td>\n",
       "    </tr>\n",
       "  </tbody>\n",
       "</table>\n",
       "</div>"
      ],
      "text/plain": [
       "  CHR      POS REF ALT        AF      SEVERE_GENE SEVERE_GENE_NAME  \\\n",
       "5   1  1115544   A  AC  0.002778  ENSG00000162571           TTLL10   \n",
       "6   1  1116222   C  CG  0.011000  ENSG00000162571           TTLL10   \n",
       "\n",
       "        SEVERE_IMPACT                     INDV   GT DP    GQ  GeneCount Exons  \\\n",
       "5  FRAMESHIFT_VARIANT  GTEX-T5JW-0002-SM-3UZEZ  0/1  9  99.0          4         \n",
       "6  FRAMESHIFT_VARIANT  GTEX-R55E-0003-SM-3UZFL  0/1  9  44.0          4         \n",
       "\n",
       "  Transcripts           GTExExonID  \n",
       "5              ENSG00000162571.9_3  \n",
       "6              ENSG00000162571.9_5  "
      ]
     },
     "execution_count": 49,
     "metadata": {},
     "output_type": "execute_result"
    }
   ],
   "source": [
    "GTEx_LGDs.head(2)"
   ]
  },
  {
   "cell_type": "code",
   "execution_count": null,
   "metadata": {},
   "outputs": [],
   "source": []
  },
  {
   "cell_type": "code",
   "execution_count": 12,
   "metadata": {},
   "outputs": [],
   "source": [
    "#GTEx_LGDs.to_csv(\"../data/GTEx/GTEx.RecLGD.annoGencode.tsv\", sep=\"\\t\", index=\"False\")"
   ]
  },
  {
   "cell_type": "code",
   "execution_count": 50,
   "metadata": {},
   "outputs": [
    {
     "data": {
      "text/plain": [
       "(5215, 16)"
      ]
     },
     "execution_count": 50,
     "metadata": {},
     "output_type": "execute_result"
    }
   ],
   "source": [
    "GTEx_LGDs.shape"
   ]
  },
  {
   "cell_type": "code",
   "execution_count": 51,
   "metadata": {},
   "outputs": [
    {
     "data": {
      "text/plain": [
       "180"
      ]
     },
     "execution_count": 51,
     "metadata": {},
     "output_type": "execute_result"
    }
   ],
   "source": [
    "len(set(GTEx_LGDs[\"INDV\"].values))"
   ]
  },
  {
   "cell_type": "code",
   "execution_count": 15,
   "metadata": {},
   "outputs": [],
   "source": [
    "writer = csv.writer(open(\"../data/GTEx/180Indiv.list\", 'wt'))\n",
    "for indv in list(set(GTEx_LGDs[\"INDV\"].values)):\n",
    "    writer.writerow([indv])"
   ]
  },
  {
   "cell_type": "code",
   "execution_count": 16,
   "metadata": {},
   "outputs": [],
   "source": [
    "Doners = set([x.split(\"-\")[1] for x in GTEx_LGDs[\"INDV\"].values])\n",
    "#Doners"
   ]
  },
  {
   "cell_type": "code",
   "execution_count": 24,
   "metadata": {},
   "outputs": [
    {
     "name": "stderr",
     "output_type": "stream",
     "text": [
      "/Users/jiayao/anaconda3/lib/python3.7/site-packages/ipykernel_launcher.py:3: SettingWithCopyWarning: \n",
      "A value is trying to be set on a copy of a slice from a DataFrame.\n",
      "Try using .loc[row_indexer,col_indexer] = value instead\n",
      "\n",
      "See the caveats in the documentation: http://pandas.pydata.org/pandas-docs/stable/indexing.html#indexing-view-versus-copy\n",
      "  This is separate from the ipykernel package so we can avoid doing imports until\n"
     ]
    }
   ],
   "source": [
    "Exp_samples = [l.strip() for l in open(\"../data/GTEx/180Indiv.EXP.Samples.list\")]\n",
    "Exp_Samples = Samples[Samples[\"SAMPID\"].isin(Exp_samples)]\n",
    "Exp_Samples[\"Doner\"] = Exp_Samples.apply(lambda row:row['SAMPID'].split(\"-\")[1], axis=1)\n",
    "Exp_Samples = Exp_Samples[[\"Doner\", \"SAMPID\", \"SMTS\", \"SMTSD\"]]"
   ]
  },
  {
   "cell_type": "code",
   "execution_count": 25,
   "metadata": {},
   "outputs": [
    {
     "data": {
      "text/html": [
       "<div>\n",
       "<style scoped>\n",
       "    .dataframe tbody tr th:only-of-type {\n",
       "        vertical-align: middle;\n",
       "    }\n",
       "\n",
       "    .dataframe tbody tr th {\n",
       "        vertical-align: top;\n",
       "    }\n",
       "\n",
       "    .dataframe thead th {\n",
       "        text-align: right;\n",
       "    }\n",
       "</style>\n",
       "<table border=\"1\" class=\"dataframe\">\n",
       "  <thead>\n",
       "    <tr style=\"text-align: right;\">\n",
       "      <th></th>\n",
       "      <th>Doner</th>\n",
       "      <th>SAMPID</th>\n",
       "      <th>SMTS</th>\n",
       "      <th>SMTSD</th>\n",
       "    </tr>\n",
       "  </thead>\n",
       "  <tbody>\n",
       "    <tr>\n",
       "      <th>8116</th>\n",
       "      <td>N7MS</td>\n",
       "      <td>GTEX-N7MS-0007-SM-2D7W1</td>\n",
       "      <td>Blood</td>\n",
       "      <td>Whole Blood</td>\n",
       "    </tr>\n",
       "    <tr>\n",
       "      <th>8117</th>\n",
       "      <td>N7MS</td>\n",
       "      <td>GTEX-N7MS-0008-SM-4E3JI</td>\n",
       "      <td>Skin</td>\n",
       "      <td>Cells - Transformed fibroblasts</td>\n",
       "    </tr>\n",
       "  </tbody>\n",
       "</table>\n",
       "</div>"
      ],
      "text/plain": [
       "     Doner                   SAMPID   SMTS                            SMTSD\n",
       "8116  N7MS  GTEX-N7MS-0007-SM-2D7W1  Blood                      Whole Blood\n",
       "8117  N7MS  GTEX-N7MS-0008-SM-4E3JI   Skin  Cells - Transformed fibroblasts"
      ]
     },
     "execution_count": 25,
     "metadata": {},
     "output_type": "execute_result"
    }
   ],
   "source": [
    "Exp_Samples.head(2)"
   ]
  },
  {
   "cell_type": "code",
   "execution_count": 26,
   "metadata": {},
   "outputs": [
    {
     "data": {
      "text/html": [
       "<div>\n",
       "<style scoped>\n",
       "    .dataframe tbody tr th:only-of-type {\n",
       "        vertical-align: middle;\n",
       "    }\n",
       "\n",
       "    .dataframe tbody tr th {\n",
       "        vertical-align: top;\n",
       "    }\n",
       "\n",
       "    .dataframe thead th {\n",
       "        text-align: right;\n",
       "    }\n",
       "</style>\n",
       "<table border=\"1\" class=\"dataframe\">\n",
       "  <thead>\n",
       "    <tr style=\"text-align: right;\">\n",
       "      <th></th>\n",
       "      <th>Doner</th>\n",
       "      <th>SAMPID</th>\n",
       "      <th>SMTS</th>\n",
       "      <th>SMTSD</th>\n",
       "    </tr>\n",
       "  </thead>\n",
       "  <tbody>\n",
       "    <tr>\n",
       "      <th>8116</th>\n",
       "      <td>N7MS</td>\n",
       "      <td>GTEX-N7MS-0007-SM-2D7W1</td>\n",
       "      <td>Blood</td>\n",
       "      <td>Whole Blood</td>\n",
       "    </tr>\n",
       "    <tr>\n",
       "      <th>8117</th>\n",
       "      <td>N7MS</td>\n",
       "      <td>GTEX-N7MS-0008-SM-4E3JI</td>\n",
       "      <td>Skin</td>\n",
       "      <td>Cells - Transformed fibroblasts</td>\n",
       "    </tr>\n",
       "  </tbody>\n",
       "</table>\n",
       "</div>"
      ],
      "text/plain": [
       "     Doner                   SAMPID   SMTS                            SMTSD\n",
       "8116  N7MS  GTEX-N7MS-0007-SM-2D7W1  Blood                      Whole Blood\n",
       "8117  N7MS  GTEX-N7MS-0008-SM-4E3JI   Skin  Cells - Transformed fibroblasts"
      ]
     },
     "execution_count": 26,
     "metadata": {},
     "output_type": "execute_result"
    }
   ],
   "source": [
    "set(Exp_Samples[\"SMTS\"].values)\n",
    "SelectedTissue = [\"Adipose Tissue\", \"Adrenal Gland\", \"Brain\", \"Heart\", \"Lung\",\n",
    "                  \"Muscle\", \"Nerve\", \"Skin\", \"Thyroid\", \"Blood\"]\n",
    "SelectedTissueSamples = Exp_Samples[Exp_Samples[\"SMTS\"].isin(SelectedTissue)]\n",
    "SelectedTissueSamples = SelectedTissueSamples[SelectedTissueSamples[\"SMTSD\"]!=\"'Cells - EBV-transformed lymphocytes'\"]\n",
    "SelectedTissueSamples = SelectedTissueSamples[SelectedTissueSamples[\"SMTSD\"]!=\"'Cells - EBV-transformed lymphocytes'\"]\n",
    "SelectedTissueSamples.head(2)"
   ]
  },
  {
   "cell_type": "code",
   "execution_count": null,
   "metadata": {},
   "outputs": [],
   "source": [
    "set(SelectedTissueSamples[SelectedTissueSamples[\"SMTS\"]==\"Blood\"][\"SMTSD\"].values)"
   ]
  },
  {
   "cell_type": "code",
   "execution_count": null,
   "metadata": {},
   "outputs": [],
   "source": [
    "GenesWithLGD = list(set(GTEx_LGDs[\"SEVERE_GENE_NAME\"].values))\n",
    "len(GenesWithLGD)\n",
    "print(GenesWithLGD[:10])"
   ]
  },
  {
   "cell_type": "code",
   "execution_count": null,
   "metadata": {},
   "outputs": [],
   "source": [
    "GeneTPM = pd.read_csv(\"../data/GTEx/GTEx_180Indiv_selectedGeneTissue_gene_tpm.txt\", delimiter=\"\\t\")\n",
    "GeneTPM.head()"
   ]
  },
  {
   "cell_type": "code",
   "execution_count": 33,
   "metadata": {},
   "outputs": [
    {
     "name": "stderr",
     "output_type": "stream",
     "text": [
      "/Users/jiayao/anaconda3/lib/python3.7/site-packages/scipy/stats/stats.py:2253: RuntimeWarning: invalid value encountered in true_divide\n",
      "  return (a - mns) / sstd\n"
     ]
    }
   ],
   "source": [
    "SameExonDat = []#[np.mean(ALLSameExon)]\n",
    "DiffExonDat = []#[np.mean(ALLDiffExon)]\n",
    "SameExonErr = []#[np.std(ALLSameExon)/len(ALLSameExon)]\n",
    "DiffExonErr = []#[np.std(ALLDiffExon)/len(ALLDiffExon)]\n",
    "Tissues = [\"Brain\", \"Blood\", \"Skin\", \"Heart\", \"Lung\"]\n",
    "for Tissue in Tissues:\n",
    "    ALLSameExon, ALLDiffExon = [], []\n",
    "    for EnsGeneID in SELECTED_GENE_ENSID:\n",
    "        RES = GTExTranscriptSimilarity(TransTPM, GTEx_LGDs, SelectedTissueSamples, EnsGeneID, Tissue)\n",
    "        if RES != None:\n",
    "            if RES[0] == RES[0]:\n",
    "                ALLSameExon.extend(RES[0])\n",
    "            if RES[1] == RES[1]:\n",
    "                ALLDiffExon.extend(RES[1])\n",
    "    #print(np.mean(ALLSameExon), np.mean(ALLDiffExon))\n",
    "    print(Tissue, np.mean(ALLSameExon), np.mean(ALLDiffExon))\n",
    "    print(scipy.stats.mannwhitneyu(ALLSameExon, ALLDiffExon))\n",
    "    SameExonDat.append(np.mean(ALLSameExon))\n",
    "    DiffExonDat.append(np.mean(ALLDiffExon))\n",
    "    SameExonErr.append(np.std(ALLSameExon)/len(ALLSameExon))\n",
    "    DiffExonErr.append(np.std(ALLDiffExon)/len(ALLDiffExon))"
   ]
  },
  {
   "cell_type": "code",
   "execution_count": 35,
   "metadata": {},
   "outputs": [
    {
     "name": "stdout",
     "output_type": "stream",
     "text": [
      "Ttest_indResult(statistic=-4.370915244793738, pvalue=1.2379255807022882e-05)\n",
      "-0.0462799336467195 0.002179149344964457\n"
     ]
    },
    {
     "data": {
      "image/png": "[encoded data removed]",
      "text/plain": [
       "<Figure size 432x288 with 1 Axes>"
      ]
     },
     "metadata": {
      "needs_background": "light"
     },
     "output_type": "display_data"
    }
   ],
   "source": [
    "ax = sns.boxplot(data=[L1, L2])\n",
    "plt.ylim((-2, 2))\n",
    "print(scipy.stats.ttest_ind(L1, L2))\n",
    "print(np.mean(L1), np.mean(L2))"
   ]
  },
  {
   "cell_type": "code",
   "execution_count": 36,
   "metadata": {},
   "outputs": [
    {
     "data": {
      "image/png": "[encoded data removed]",
      "text/plain": [
       "<Figure size 432x288 with 1 Axes>"
      ]
     },
     "metadata": {
      "needs_background": "light"
     },
     "output_type": "display_data"
    }
   ],
   "source": [
    "NLGDs = []\n",
    "for Gene in GenesWithLGD:\n",
    "    Gene_LGDs = GTEx_LGDs[GTEx_LGDs[\"SEVERE_GENE_NAME\"]==Gene]\n",
    "    NLGDs.append(Gene_LGDs.shape[0])\n",
    "plt.hist(NLGDs, bins=30)\n",
    "plt.show()"
   ]
  },
  {
   "cell_type": "code",
   "execution_count": 70,
   "metadata": {},
   "outputs": [],
   "source": [
    "TransTPM = pd.read_csv(\"../data/GTEx/GTEx_180Indiv_transcript_tpm.txt\", delimiter=\"\\t\")"
   ]
  },
  {
   "cell_type": "code",
   "execution_count": 71,
   "metadata": {},
   "outputs": [
    {
     "data": {
      "text/html": [
       "<div>\n",
       "<style scoped>\n",
       "    .dataframe tbody tr th:only-of-type {\n",
       "        vertical-align: middle;\n",
       "    }\n",
       "\n",
       "    .dataframe tbody tr th {\n",
       "        vertical-align: top;\n",
       "    }\n",
       "\n",
       "    .dataframe thead th {\n",
       "        text-align: right;\n",
       "    }\n",
       "</style>\n",
       "<table border=\"1\" class=\"dataframe\">\n",
       "  <thead>\n",
       "    <tr style=\"text-align: right;\">\n",
       "      <th></th>\n",
       "      <th>transcript_id</th>\n",
       "      <th>gene_id</th>\n",
       "      <th>GTEX-N7MS-0007-SM-2D7W1</th>\n",
       "      <th>GTEX-N7MS-0008-SM-4E3JI</th>\n",
       "      <th>GTEX-N7MS-0011-R10A-SM-2HMJK</th>\n",
       "      <th>GTEX-N7MS-0011-R11A-SM-2HMJS</th>\n",
       "      <th>GTEX-N7MS-0011-R1a-SM-2HMJG</th>\n",
       "      <th>GTEX-N7MS-0011-R2a-SM-2HML6</th>\n",
       "      <th>GTEX-N7MS-0011-R3a-SM-33HC6</th>\n",
       "      <th>GTEX-N7MS-0011-R4a-SM-2HMKW</th>\n",
       "      <th>...</th>\n",
       "      <th>GTEX-XBED-0126-SM-47JY7</th>\n",
       "      <th>GTEX-XBED-0526-SM-47JY3</th>\n",
       "      <th>GTEX-XBED-0826-SM-47JYC</th>\n",
       "      <th>GTEX-XBED-1326-SM-4AT4F</th>\n",
       "      <th>GTEX-XBED-1926-SM-47JYP</th>\n",
       "      <th>GTEX-XBED-2226-SM-47JYQ</th>\n",
       "      <th>GTEX-XBED-2326-SM-47JYR</th>\n",
       "      <th>GTEX-XBED-2526-SM-47JYD</th>\n",
       "      <th>GTEX-XBED-2626-SM-4E3J5</th>\n",
       "      <th>gene_id_2</th>\n",
       "    </tr>\n",
       "  </thead>\n",
       "  <tbody>\n",
       "    <tr>\n",
       "      <th>0</th>\n",
       "      <td>ENST00000286031</td>\n",
       "      <td>ENSG00000000460</td>\n",
       "      <td>0.0</td>\n",
       "      <td>0.11</td>\n",
       "      <td>0.00</td>\n",
       "      <td>0.00</td>\n",
       "      <td>0.0</td>\n",
       "      <td>0.18</td>\n",
       "      <td>0.00</td>\n",
       "      <td>0.00</td>\n",
       "      <td>...</td>\n",
       "      <td>0.0</td>\n",
       "      <td>0.13</td>\n",
       "      <td>0.0</td>\n",
       "      <td>0.15</td>\n",
       "      <td>0.00</td>\n",
       "      <td>0.00</td>\n",
       "      <td>0.00</td>\n",
       "      <td>0.00</td>\n",
       "      <td>0.00</td>\n",
       "      <td>ENSG00000000460</td>\n",
       "    </tr>\n",
       "    <tr>\n",
       "      <th>1</th>\n",
       "      <td>ENST00000359326</td>\n",
       "      <td>ENSG00000000460</td>\n",
       "      <td>0.0</td>\n",
       "      <td>3.50</td>\n",
       "      <td>0.12</td>\n",
       "      <td>0.81</td>\n",
       "      <td>0.0</td>\n",
       "      <td>0.66</td>\n",
       "      <td>0.42</td>\n",
       "      <td>0.14</td>\n",
       "      <td>...</td>\n",
       "      <td>1.1</td>\n",
       "      <td>0.00</td>\n",
       "      <td>0.0</td>\n",
       "      <td>0.62</td>\n",
       "      <td>0.16</td>\n",
       "      <td>0.33</td>\n",
       "      <td>0.47</td>\n",
       "      <td>0.52</td>\n",
       "      <td>0.25</td>\n",
       "      <td>ENSG00000000460</td>\n",
       "    </tr>\n",
       "  </tbody>\n",
       "</table>\n",
       "<p>2 rows × 1586 columns</p>\n",
       "</div>"
      ],
      "text/plain": [
       "     transcript_id          gene_id  GTEX-N7MS-0007-SM-2D7W1  \\\n",
       "0  ENST00000286031  ENSG00000000460                      0.0   \n",
       "1  ENST00000359326  ENSG00000000460                      0.0   \n",
       "\n",
       "   GTEX-N7MS-0008-SM-4E3JI  GTEX-N7MS-0011-R10A-SM-2HMJK  \\\n",
       "0                     0.11                          0.00   \n",
       "1                     3.50                          0.12   \n",
       "\n",
       "   GTEX-N7MS-0011-R11A-SM-2HMJS  GTEX-N7MS-0011-R1a-SM-2HMJG  \\\n",
       "0                          0.00                          0.0   \n",
       "1                          0.81                          0.0   \n",
       "\n",
       "   GTEX-N7MS-0011-R2a-SM-2HML6  GTEX-N7MS-0011-R3a-SM-33HC6  \\\n",
       "0                         0.18                         0.00   \n",
       "1                         0.66                         0.42   \n",
       "\n",
       "   GTEX-N7MS-0011-R4a-SM-2HMKW       ...         GTEX-XBED-0126-SM-47JY7  \\\n",
       "0                         0.00       ...                             0.0   \n",
       "1                         0.14       ...                             1.1   \n",
       "\n",
       "   GTEX-XBED-0526-SM-47JY3  GTEX-XBED-0826-SM-47JYC  GTEX-XBED-1326-SM-4AT4F  \\\n",
       "0                     0.13                      0.0                     0.15   \n",
       "1                     0.00                      0.0                     0.62   \n",
       "\n",
       "   GTEX-XBED-1926-SM-47JYP  GTEX-XBED-2226-SM-47JYQ  GTEX-XBED-2326-SM-47JYR  \\\n",
       "0                     0.00                     0.00                     0.00   \n",
       "1                     0.16                     0.33                     0.47   \n",
       "\n",
       "   GTEX-XBED-2526-SM-47JYD  GTEX-XBED-2626-SM-4E3J5        gene_id_2  \n",
       "0                     0.00                     0.00  ENSG00000000460  \n",
       "1                     0.52                     0.25  ENSG00000000460  \n",
       "\n",
       "[2 rows x 1586 columns]"
      ]
     },
     "execution_count": 71,
     "metadata": {},
     "output_type": "execute_result"
    }
   ],
   "source": [
    "TransTPM[\"gene_id_2\"] = TransTPM.apply(lambda row:row[\"gene_id\"].split(\".\")[0], axis=1)\n",
    "TransTPM.head(2)"
   ]
  },
  {
   "cell_type": "code",
   "execution_count": 108,
   "metadata": {},
   "outputs": [
    {
     "data": {
      "text/plain": [
       "['ENSG00000065526',\n",
       " 'ENSG00000129347',\n",
       " 'ENSG00000109063',\n",
       " 'ENSG00000110881',\n",
       " 'ENSG00000132950']"
      ]
     },
     "execution_count": 108,
     "metadata": {},
     "output_type": "execute_result"
    }
   ],
   "source": [
    "SELECTED_GENE_ENSID = list(set(GTEx_LGDs[\"SEVERE_GENE\"].values))\n",
    "SELECTED_GENE_ENSID[:5]"
   ]
  },
  {
   "cell_type": "code",
   "execution_count": 133,
   "metadata": {},
   "outputs": [
    {
     "name": "stdout",
     "output_type": "stream",
     "text": [
      "Brain 0.17294886847475135 0.24864651291309003\n",
      "MannwhitneyuResult(statistic=38036.0, pvalue=0.0003492669006237531)\n",
      "Blood 0.33783073040353095 0.3980324898071179\n",
      "MannwhitneyuResult(statistic=8460147.5, pvalue=8.749560209448133e-18)\n",
      "Skin 0.2805563074748345 0.3642860199243468\n",
      "MannwhitneyuResult(statistic=13007921.5, pvalue=9.445743154869425e-41)\n",
      "Heart 0.3001684801429953 0.3610133990638224\n",
      "MannwhitneyuResult(statistic=1060094.5, pvalue=3.229249291228592e-07)\n",
      "Lung 0.2699674621200567 0.3496268802388091\n",
      "MannwhitneyuResult(statistic=3368280.5, pvalue=3.723792718027589e-18)\n"
     ]
    }
   ],
   "source": [
    "Tissue=\"Skin\"\n",
    "SameExonDat = []#[np.mean(ALLSameExon)]\n",
    "DiffExonDat = []#[np.mean(ALLDiffExon)]\n",
    "SameExonErr = []#[np.std(ALLSameExon)/len(ALLSameExon)]\n",
    "DiffExonErr = []#[np.std(ALLDiffExon)/len(ALLDiffExon)]\n",
    "Tissues = [\"Brain\", \"Blood\", \"Skin\", \"Heart\", \"Lung\"]\n",
    "for Tissue in Tissues:\n",
    "    ALLSameExon, ALLDiffExon = [], []\n",
    "    for EnsGeneID in SELECTED_GENE_ENSID:\n",
    "        RES = GTExTranscriptSimilarity(TransTPM, GTEx_LGDs, SelectedTissueSamples, EnsGeneID, Tissue)\n",
    "        if RES != None:\n",
    "            if RES[0] == RES[0]:\n",
    "                ALLSameExon.extend(RES[0])\n",
    "            if RES[1] == RES[1]:\n",
    "                ALLDiffExon.extend(RES[1])\n",
    "    #print(np.mean(ALLSameExon), np.mean(ALLDiffExon))\n",
    "    print(Tissue, np.mean(ALLSameExon), np.mean(ALLDiffExon))\n",
    "    print(scipy.stats.mannwhitneyu(ALLSameExon, ALLDiffExon))\n",
    "    SameExonDat.append(np.mean(ALLSameExon))\n",
    "    DiffExonDat.append(np.mean(ALLDiffExon))\n",
    "    SameExonErr.append(np.std(ALLSameExon)/len(ALLSameExon))\n",
    "    DiffExonErr.append(np.std(ALLDiffExon)/len(ALLDiffExon))"
   ]
  },
  {
   "cell_type": "code",
   "execution_count": 134,
   "metadata": {},
   "outputs": [
    {
     "data": {
      "image/png": "[encoded data removed]",
      "text/plain": [
       "<Figure size 720x480 with 1 Axes>"
      ]
     },
     "metadata": {
      "needs_background": "light"
     },
     "output_type": "display_data"
    }
   ],
   "source": [
    "ind = np.arange(len(Tissues))  # the x locations for the groups\n",
    "width = 0.35  # the width of the bars\n",
    "fig, ax = plt.subplots(dpi=120)\n",
    "rects1 = ax.bar(ind - width/2, SameExonDat, width, yerr=SameExonErr,\n",
    "                label='SameExon')\n",
    "rects2 = ax.bar(ind + width/2, DiffExonDat, width, yerr=DiffExonErr,\n",
    "                label='DiffExon')\n",
    "ax.set_ylabel('')\n",
    "ax.set_title('')\n",
    "ax.set_xticks(ind)\n",
    "ax.set_xticklabels(Tissues)\n",
    "ax.legend(loc=\"upper left\")\n",
    "fig.tight_layout()\n",
    "plt.xticks(rotation=0)\n",
    "plt.show()"
   ]
  },
  {
   "cell_type": "code",
   "execution_count": 12,
   "metadata": {},
   "outputs": [],
   "source": [
    "GTEX_LGDs = ['STOP_LOST', 'SPLICE_ACCEPTOR_VARIANT', 'STOP_GAINED', 'SPLICE_DONOR_VARIANT', \n",
    "             'INITIATOR_CODON_CHANGE', 'FRAMESHIFT_VARIANT', 'STOP_LOST', \n",
    "             'SPLICE_DONOR_VARIANT', 'STOP_GAINED', 'SPLICE_ACCEPTOR_VARIANT']"
   ]
  },
  {
   "cell_type": "code",
   "execution_count": 13,
   "metadata": {},
   "outputs": [],
   "source": [
    "INDELs = pd.read_csv(\"../data/GTEx/GTEx_Data_20140613_ExomeSeq_180Indiv_GATK_HC_indels_annot.tsv\", delimiter=\"\\t\")\n",
    "SNVs = pd.read_csv(\"../data/GTEx/GTEx_Data_20140613_ExomeSeq_180Indiv_GATK_UG_SNPs_annot.tsv\", delimiter=\"\\t\")\n",
    "GTEx_LGDs = pd.concat([INDELs, SNVs])\n",
    "GTEx_LGDs = GTEx_LGDs[(GTEx_LGDs[\"SEVERE_IMPACT\"].isin(GTEX_LGDs)) & \n",
    "                      (GTEx_LGDs[\"GT\"]==\"0/1\")]"
   ]
  },
  {
   "cell_type": "code",
   "execution_count": 14,
   "metadata": {},
   "outputs": [
    {
     "ename": "NameError",
     "evalue": "name 'GTFGeneTransExon' is not defined",
     "output_type": "error",
     "traceback": [
      "\u001b[0;31m---------------------------------------------------------------------------\u001b[0m",
      "\u001b[0;31mNameError\u001b[0m                                 Traceback (most recent call last)",
      "\u001b[0;32m<ipython-input-14-7199295bcf1c>\u001b[0m in \u001b[0;36m<module>\u001b[0;34m\u001b[0m\n\u001b[1;32m      4\u001b[0m \u001b[0;32mfor\u001b[0m \u001b[0mi\u001b[0m\u001b[0;34m,\u001b[0m \u001b[0mrow\u001b[0m \u001b[0;32min\u001b[0m \u001b[0mGTEx_LGDs\u001b[0m\u001b[0;34m.\u001b[0m\u001b[0miterrows\u001b[0m\u001b[0;34m(\u001b[0m\u001b[0;34m)\u001b[0m\u001b[0;34m:\u001b[0m\u001b[0;34m\u001b[0m\u001b[0;34m\u001b[0m\u001b[0m\n\u001b[1;32m      5\u001b[0m     \u001b[0mChr\u001b[0m\u001b[0;34m,\u001b[0m \u001b[0mPos\u001b[0m\u001b[0;34m,\u001b[0m \u001b[0mRef\u001b[0m\u001b[0;34m,\u001b[0m \u001b[0mAlt\u001b[0m\u001b[0;34m,\u001b[0m \u001b[0mgene\u001b[0m \u001b[0;34m=\u001b[0m \u001b[0mrow\u001b[0m\u001b[0;34m[\u001b[0m\u001b[0;34m\"CHR\"\u001b[0m\u001b[0;34m]\u001b[0m\u001b[0;34m,\u001b[0m \u001b[0mrow\u001b[0m\u001b[0;34m[\u001b[0m\u001b[0;34m\"POS\"\u001b[0m\u001b[0;34m]\u001b[0m\u001b[0;34m,\u001b[0m \u001b[0mrow\u001b[0m\u001b[0;34m[\u001b[0m\u001b[0;34m\"REF\"\u001b[0m\u001b[0;34m]\u001b[0m\u001b[0;34m,\u001b[0m \u001b[0mrow\u001b[0m\u001b[0;34m[\u001b[0m\u001b[0;34m\"ALT\"\u001b[0m\u001b[0;34m]\u001b[0m\u001b[0;34m,\u001b[0m \u001b[0mrow\u001b[0m\u001b[0;34m[\u001b[0m\u001b[0;34m\"SEVERE_GENE_NAME\"\u001b[0m\u001b[0;34m]\u001b[0m\u001b[0;34m\u001b[0m\u001b[0;34m\u001b[0m\u001b[0m\n\u001b[0;32m----> 6\u001b[0;31m     \u001b[0;32mif\u001b[0m \u001b[0mgene\u001b[0m \u001b[0;32min\u001b[0m \u001b[0mGTFGeneTransExon\u001b[0m\u001b[0;34m:\u001b[0m\u001b[0;34m\u001b[0m\u001b[0;34m\u001b[0m\u001b[0m\n\u001b[0m\u001b[1;32m      7\u001b[0m         \u001b[0mExonIDs\u001b[0m\u001b[0;34m,\u001b[0m \u001b[0mTranscriptIDs\u001b[0m \u001b[0;34m=\u001b[0m \u001b[0msearchExon\u001b[0m\u001b[0;34m(\u001b[0m\u001b[0mgene\u001b[0m\u001b[0;34m,\u001b[0m \u001b[0mPos\u001b[0m\u001b[0;34m,\u001b[0m \u001b[0mRef\u001b[0m\u001b[0;34m,\u001b[0m \u001b[0mAlt\u001b[0m\u001b[0;34m,\u001b[0m \u001b[0mGTFGeneTransExon\u001b[0m\u001b[0;34m)\u001b[0m\u001b[0;34m\u001b[0m\u001b[0;34m\u001b[0m\u001b[0m\n\u001b[1;32m      8\u001b[0m         \u001b[0mGTEx_LGDs\u001b[0m\u001b[0;34m.\u001b[0m\u001b[0mloc\u001b[0m\u001b[0;34m[\u001b[0m\u001b[0mi\u001b[0m\u001b[0;34m,\u001b[0m \u001b[0;34m\"Exons\"\u001b[0m\u001b[0;34m]\u001b[0m \u001b[0;34m=\u001b[0m \u001b[0mExonIDs\u001b[0m\u001b[0;34m\u001b[0m\u001b[0;34m\u001b[0m\u001b[0m\n",
      "\u001b[0;31mNameError\u001b[0m: name 'GTFGeneTransExon' is not defined"
     ]
    }
   ],
   "source": [
    "GTEx_LGDs[\"Exons\"] = \"\"\n",
    "GTEx_LGDs[\"Transcripts\"] = \"\"\n",
    "GencodeMissingGene = []\n",
    "for i, row in GTEx_LGDs.iterrows():\n",
    "    Chr, Pos, Ref, Alt, gene = row[\"CHR\"], row[\"POS\"], row[\"REF\"], row[\"ALT\"], row[\"SEVERE_GENE_NAME\"]\n",
    "    if gene in GTFGeneTransExon:\n",
    "        ExonIDs, TranscriptIDs = searchExon(gene, Pos, Ref, Alt, GTFGeneTransExon)\n",
    "        GTEx_LGDs.loc[i, \"Exons\"] = ExonIDs\n",
    "        GTEx_LGDs.loc[i, \"Transcripts\"] = TranscriptIDs\n",
    "    else:\n",
    "        GencodeMissingGene.append(gene)"
   ]
  },
  {
   "cell_type": "code",
   "execution_count": 15,
   "metadata": {},
   "outputs": [
    {
     "data": {
      "text/html": [
       "<div>\n",
       "<style scoped>\n",
       "    .dataframe tbody tr th:only-of-type {\n",
       "        vertical-align: middle;\n",
       "    }\n",
       "\n",
       "    .dataframe tbody tr th {\n",
       "        vertical-align: top;\n",
       "    }\n",
       "\n",
       "    .dataframe thead th {\n",
       "        text-align: right;\n",
       "    }\n",
       "</style>\n",
       "<table border=\"1\" class=\"dataframe\">\n",
       "  <thead>\n",
       "    <tr style=\"text-align: right;\">\n",
       "      <th></th>\n",
       "      <th>CHR</th>\n",
       "      <th>POS</th>\n",
       "      <th>REF</th>\n",
       "      <th>ALT</th>\n",
       "      <th>AF</th>\n",
       "      <th>SEVERE_GENE</th>\n",
       "      <th>SEVERE_GENE_NAME</th>\n",
       "      <th>SEVERE_IMPACT</th>\n",
       "      <th>INDV</th>\n",
       "      <th>GT</th>\n",
       "      <th>DP</th>\n",
       "      <th>GQ</th>\n",
       "      <th>Exons</th>\n",
       "      <th>Transcripts</th>\n",
       "    </tr>\n",
       "  </thead>\n",
       "  <tbody>\n",
       "    <tr>\n",
       "      <th>2</th>\n",
       "      <td>1</td>\n",
       "      <td>905784</td>\n",
       "      <td>TG</td>\n",
       "      <td>T</td>\n",
       "      <td>0.002778</td>\n",
       "      <td>ENSG00000187583</td>\n",
       "      <td>PLEKHN1</td>\n",
       "      <td>FRAMESHIFT_VARIANT</td>\n",
       "      <td>GTEX-T5JW-0002-SM-3UZEZ</td>\n",
       "      <td>0/1</td>\n",
       "      <td>15</td>\n",
       "      <td>99.0</td>\n",
       "      <td></td>\n",
       "      <td></td>\n",
       "    </tr>\n",
       "    <tr>\n",
       "      <th>4</th>\n",
       "      <td>1</td>\n",
       "      <td>984430</td>\n",
       "      <td>TGCAGCTCAGGTGGGCGGGGAGGGGACGGGGCCGGGGCAGCTCAGG...</td>\n",
       "      <td>T</td>\n",
       "      <td>0.002890</td>\n",
       "      <td>ENSG00000188157</td>\n",
       "      <td>AGRN</td>\n",
       "      <td>SPLICE_DONOR_VARIANT</td>\n",
       "      <td>GTEX-X585-0003-SM-3USRA</td>\n",
       "      <td>0/1</td>\n",
       "      <td>14</td>\n",
       "      <td>99.0</td>\n",
       "      <td></td>\n",
       "      <td></td>\n",
       "    </tr>\n",
       "  </tbody>\n",
       "</table>\n",
       "</div>"
      ],
      "text/plain": [
       "  CHR     POS                                                REF ALT  \\\n",
       "2   1  905784                                                 TG   T   \n",
       "4   1  984430  TGCAGCTCAGGTGGGCGGGGAGGGGACGGGGCCGGGGCAGCTCAGG...   T   \n",
       "\n",
       "         AF      SEVERE_GENE SEVERE_GENE_NAME         SEVERE_IMPACT  \\\n",
       "2  0.002778  ENSG00000187583          PLEKHN1    FRAMESHIFT_VARIANT   \n",
       "4  0.002890  ENSG00000188157             AGRN  SPLICE_DONOR_VARIANT   \n",
       "\n",
       "                      INDV   GT  DP    GQ Exons Transcripts  \n",
       "2  GTEX-T5JW-0002-SM-3UZEZ  0/1  15  99.0                    \n",
       "4  GTEX-X585-0003-SM-3USRA  0/1  14  99.0                    "
      ]
     },
     "execution_count": 15,
     "metadata": {},
     "output_type": "execute_result"
    }
   ],
   "source": [
    "GTEx_LGDs.head(2)"
   ]
  },
  {
   "cell_type": "code",
   "execution_count": 16,
   "metadata": {},
   "outputs": [],
   "source": [
    "Jon_lgd = pd.read_csv(\"../data/GTEx/rare-lgd-jc.csv\")"
   ]
  },
  {
   "cell_type": "code",
   "execution_count": 17,
   "metadata": {
    "scrolled": false
   },
   "outputs": [
    {
     "data": {
      "text/html": [
       "<div>\n",
       "<style scoped>\n",
       "    .dataframe tbody tr th:only-of-type {\n",
       "        vertical-align: middle;\n",
       "    }\n",
       "\n",
       "    .dataframe tbody tr th {\n",
       "        vertical-align: top;\n",
       "    }\n",
       "\n",
       "    .dataframe thead th {\n",
       "        text-align: right;\n",
       "    }\n",
       "</style>\n",
       "<table border=\"1\" class=\"dataframe\">\n",
       "  <thead>\n",
       "    <tr style=\"text-align: right;\">\n",
       "      <th></th>\n",
       "      <th>CHR</th>\n",
       "      <th>POS</th>\n",
       "      <th>REF</th>\n",
       "      <th>ALT</th>\n",
       "      <th>MUT.TYPE</th>\n",
       "      <th>FREQ</th>\n",
       "      <th>ENS.GENE</th>\n",
       "      <th>ENS.TRANS</th>\n",
       "      <th>EXON.POS</th>\n",
       "      <th>SPLICE.POS</th>\n",
       "      <th>ANNOT</th>\n",
       "      <th>BIOTYPE</th>\n",
       "      <th>SAMPLE</th>\n",
       "      <th>SEVERE_GENE</th>\n",
       "      <th>SEVERE_IMPACT</th>\n",
       "      <th>INDV</th>\n",
       "    </tr>\n",
       "  </thead>\n",
       "  <tbody>\n",
       "    <tr>\n",
       "      <th>1</th>\n",
       "      <td>1</td>\n",
       "      <td>1334052</td>\n",
       "      <td>CTAGAG</td>\n",
       "      <td>C</td>\n",
       "      <td>indel</td>\n",
       "      <td>0.025</td>\n",
       "      <td>ENSG00000221978|ENSG00000221978</td>\n",
       "      <td>ENST00000400809|ENST00000408918</td>\n",
       "      <td>NaN</td>\n",
       "      <td>-2|-2</td>\n",
       "      <td>SPLICE_ACCEPTOR_VARIANT&amp;SPLICE_REGION_VARIANT&amp;...</td>\n",
       "      <td>PROTEIN_CODING|PROTEIN_CODING</td>\n",
       "      <td>GTEX-PW2O-0004-SM-4X61N|GTEX-PWOO-0004-SM-3UZF...</td>\n",
       "      <td>ENSG00000221978</td>\n",
       "      <td>SPLICE_ACCEPTOR_VARIANT</td>\n",
       "      <td>GTEX-WQUQ-0002-SM-4X62H</td>\n",
       "    </tr>\n",
       "    <tr>\n",
       "      <th>1</th>\n",
       "      <td>1</td>\n",
       "      <td>1334052</td>\n",
       "      <td>CTAGAG</td>\n",
       "      <td>C</td>\n",
       "      <td>indel</td>\n",
       "      <td>0.025</td>\n",
       "      <td>ENSG00000221978|ENSG00000221978</td>\n",
       "      <td>ENST00000400809|ENST00000408918</td>\n",
       "      <td>NaN</td>\n",
       "      <td>-2|-2</td>\n",
       "      <td>SPLICE_ACCEPTOR_VARIANT&amp;SPLICE_REGION_VARIANT&amp;...</td>\n",
       "      <td>PROTEIN_CODING|PROTEIN_CODING</td>\n",
       "      <td>GTEX-PW2O-0004-SM-4X61N|GTEX-PWOO-0004-SM-3UZF...</td>\n",
       "      <td>ENSG00000221978</td>\n",
       "      <td>SPLICE_ACCEPTOR_VARIANT</td>\n",
       "      <td>GTEX-WQUQ-0002-SM-4X62H</td>\n",
       "    </tr>\n",
       "    <tr>\n",
       "      <th>1</th>\n",
       "      <td>1</td>\n",
       "      <td>1334052</td>\n",
       "      <td>CTAGAG</td>\n",
       "      <td>C</td>\n",
       "      <td>indel</td>\n",
       "      <td>0.025</td>\n",
       "      <td>ENSG00000221978|ENSG00000221978</td>\n",
       "      <td>ENST00000400809|ENST00000408918</td>\n",
       "      <td>NaN</td>\n",
       "      <td>-2|-2</td>\n",
       "      <td>SPLICE_ACCEPTOR_VARIANT&amp;SPLICE_REGION_VARIANT&amp;...</td>\n",
       "      <td>PROTEIN_CODING|PROTEIN_CODING</td>\n",
       "      <td>GTEX-PW2O-0004-SM-4X61N|GTEX-PWOO-0004-SM-3UZF...</td>\n",
       "      <td>ENSG00000221978</td>\n",
       "      <td>SPLICE_ACCEPTOR_VARIANT</td>\n",
       "      <td>GTEX-WQUQ-0002-SM-4X62H</td>\n",
       "    </tr>\n",
       "    <tr>\n",
       "      <th>1</th>\n",
       "      <td>1</td>\n",
       "      <td>1334052</td>\n",
       "      <td>CTAGAG</td>\n",
       "      <td>C</td>\n",
       "      <td>indel</td>\n",
       "      <td>0.025</td>\n",
       "      <td>ENSG00000221978|ENSG00000221978</td>\n",
       "      <td>ENST00000400809|ENST00000408918</td>\n",
       "      <td>NaN</td>\n",
       "      <td>-2|-2</td>\n",
       "      <td>SPLICE_ACCEPTOR_VARIANT&amp;SPLICE_REGION_VARIANT&amp;...</td>\n",
       "      <td>PROTEIN_CODING|PROTEIN_CODING</td>\n",
       "      <td>GTEX-PW2O-0004-SM-4X61N|GTEX-PWOO-0004-SM-3UZF...</td>\n",
       "      <td>ENSG00000221978</td>\n",
       "      <td>SPLICE_ACCEPTOR_VARIANT</td>\n",
       "      <td>GTEX-WQUQ-0002-SM-4X62H</td>\n",
       "    </tr>\n",
       "    <tr>\n",
       "      <th>1</th>\n",
       "      <td>1</td>\n",
       "      <td>1334052</td>\n",
       "      <td>CTAGAG</td>\n",
       "      <td>C</td>\n",
       "      <td>indel</td>\n",
       "      <td>0.025</td>\n",
       "      <td>ENSG00000221978|ENSG00000221978</td>\n",
       "      <td>ENST00000400809|ENST00000408918</td>\n",
       "      <td>NaN</td>\n",
       "      <td>-2|-2</td>\n",
       "      <td>SPLICE_ACCEPTOR_VARIANT&amp;SPLICE_REGION_VARIANT&amp;...</td>\n",
       "      <td>PROTEIN_CODING|PROTEIN_CODING</td>\n",
       "      <td>GTEX-PW2O-0004-SM-4X61N|GTEX-PWOO-0004-SM-3UZF...</td>\n",
       "      <td>ENSG00000221978</td>\n",
       "      <td>SPLICE_ACCEPTOR_VARIANT</td>\n",
       "      <td>GTEX-WQUQ-0002-SM-4X62H</td>\n",
       "    </tr>\n",
       "  </tbody>\n",
       "</table>\n",
       "</div>"
      ],
      "text/plain": [
       "  CHR      POS     REF ALT MUT.TYPE   FREQ                         ENS.GENE  \\\n",
       "1   1  1334052  CTAGAG   C    indel  0.025  ENSG00000221978|ENSG00000221978   \n",
       "1   1  1334052  CTAGAG   C    indel  0.025  ENSG00000221978|ENSG00000221978   \n",
       "1   1  1334052  CTAGAG   C    indel  0.025  ENSG00000221978|ENSG00000221978   \n",
       "1   1  1334052  CTAGAG   C    indel  0.025  ENSG00000221978|ENSG00000221978   \n",
       "1   1  1334052  CTAGAG   C    indel  0.025  ENSG00000221978|ENSG00000221978   \n",
       "\n",
       "                         ENS.TRANS EXON.POS SPLICE.POS  \\\n",
       "1  ENST00000400809|ENST00000408918      NaN      -2|-2   \n",
       "1  ENST00000400809|ENST00000408918      NaN      -2|-2   \n",
       "1  ENST00000400809|ENST00000408918      NaN      -2|-2   \n",
       "1  ENST00000400809|ENST00000408918      NaN      -2|-2   \n",
       "1  ENST00000400809|ENST00000408918      NaN      -2|-2   \n",
       "\n",
       "                                               ANNOT  \\\n",
       "1  SPLICE_ACCEPTOR_VARIANT&SPLICE_REGION_VARIANT&...   \n",
       "1  SPLICE_ACCEPTOR_VARIANT&SPLICE_REGION_VARIANT&...   \n",
       "1  SPLICE_ACCEPTOR_VARIANT&SPLICE_REGION_VARIANT&...   \n",
       "1  SPLICE_ACCEPTOR_VARIANT&SPLICE_REGION_VARIANT&...   \n",
       "1  SPLICE_ACCEPTOR_VARIANT&SPLICE_REGION_VARIANT&...   \n",
       "\n",
       "                         BIOTYPE  \\\n",
       "1  PROTEIN_CODING|PROTEIN_CODING   \n",
       "1  PROTEIN_CODING|PROTEIN_CODING   \n",
       "1  PROTEIN_CODING|PROTEIN_CODING   \n",
       "1  PROTEIN_CODING|PROTEIN_CODING   \n",
       "1  PROTEIN_CODING|PROTEIN_CODING   \n",
       "\n",
       "                                              SAMPLE      SEVERE_GENE  \\\n",
       "1  GTEX-PW2O-0004-SM-4X61N|GTEX-PWOO-0004-SM-3UZF...  ENSG00000221978   \n",
       "1  GTEX-PW2O-0004-SM-4X61N|GTEX-PWOO-0004-SM-3UZF...  ENSG00000221978   \n",
       "1  GTEX-PW2O-0004-SM-4X61N|GTEX-PWOO-0004-SM-3UZF...  ENSG00000221978   \n",
       "1  GTEX-PW2O-0004-SM-4X61N|GTEX-PWOO-0004-SM-3UZF...  ENSG00000221978   \n",
       "1  GTEX-PW2O-0004-SM-4X61N|GTEX-PWOO-0004-SM-3UZF...  ENSG00000221978   \n",
       "\n",
       "             SEVERE_IMPACT                     INDV  \n",
       "1  SPLICE_ACCEPTOR_VARIANT  GTEX-WQUQ-0002-SM-4X62H  \n",
       "1  SPLICE_ACCEPTOR_VARIANT  GTEX-WQUQ-0002-SM-4X62H  \n",
       "1  SPLICE_ACCEPTOR_VARIANT  GTEX-WQUQ-0002-SM-4X62H  \n",
       "1  SPLICE_ACCEPTOR_VARIANT  GTEX-WQUQ-0002-SM-4X62H  \n",
       "1  SPLICE_ACCEPTOR_VARIANT  GTEX-WQUQ-0002-SM-4X62H  "
      ]
     },
     "execution_count": 17,
     "metadata": {},
     "output_type": "execute_result"
    }
   ],
   "source": [
    "Jon_lgd[\"SEVERE_GENE\"] = Jon_lgd.apply(lambda row:row[\"ENS.GENE\"].split(\"|\")[0], axis=1)\n",
    "Jon_lgd[\"SEVERE_IMPACT\"] = Jon_lgd.apply(lambda row:row[\"ANNOT\"].split(\"&\")[0], axis=1)\n",
    "Jon_lgd = Jon_lgd[Jon_lgd[\"SEVERE_IMPACT\"].isin(GTEX_LGDs)]\n",
    "New_df = []\n",
    "for i, row in Jon_lgd.iterrows():\n",
    "    Indvs = row[\"SAMPLE\"].split(\"|\")\n",
    "    new_row = row.copy(deep=True)\n",
    "    for indv in Indvs:\n",
    "        new_row[\"INDV\"] = indv\n",
    "        #print(new_row[\"INDV\"])\n",
    "        New_df.append(new_row)\n",
    "Jon_lgd_new = pd.DataFrame(New_df)\n",
    "Jon_lgd_new.head(5)"
   ]
  },
  {
   "cell_type": "code",
   "execution_count": 18,
   "metadata": {},
   "outputs": [
    {
     "name": "stdout",
     "output_type": "stream",
     "text": [
      "GTEX-WQUQ-0002-SM-4X62H\n",
      "GTEX-WQUQ-0002-SM-4X62H\n"
     ]
    }
   ],
   "source": [
    "print(New_df[0][\"INDV\"])\n",
    "print(New_df[1][\"INDV\"])"
   ]
  },
  {
   "cell_type": "code",
   "execution_count": 19,
   "metadata": {},
   "outputs": [],
   "source": [
    "GeneKept = list(Jon_lgd[\"SEVERE_GENE\"]) + list(GTEx_LGDs[\"SEVERE_GENE\"])\n"
   ]
  },
  {
   "cell_type": "code",
   "execution_count": 27,
   "metadata": {},
   "outputs": [
    {
     "name": "stdout",
     "output_type": "stream",
     "text": [
      "1583 7065\n"
     ]
    }
   ],
   "source": [
    "print(len(SelectedTissueSamples[\"SAMPID\"]), len(GeneKept))"
   ]
  },
  {
   "cell_type": "code",
   "execution_count": 28,
   "metadata": {},
   "outputs": [],
   "source": [
    "#PreProcessTranscripTPM(SelectedTissueSamples[\"SAMPID\"].values, GeneKept)\n",
    "#PreProcessGeneTPM(SelectedTissueSamples[\"SAMPID\"].values, GeneKept)\n",
    "PreProcessExonTPM(SelectedTissueSamples[\"SAMPID\"].values, GeneKept)"
   ]
  },
  {
   "cell_type": "code",
   "execution_count": 35,
   "metadata": {},
   "outputs": [
    {
     "name": "stdout",
     "output_type": "stream",
     "text": [
      "909\n",
      "39436\n",
      "90\n",
      "4440 1585\n",
      "824\n",
      "(0.9999998930794013, 0.0)\n"
     ]
    },
    {
     "data": {
      "image/png": "[encoded data removed]",
      "text/plain": [
       "<Figure size 432x288 with 1 Axes>"
      ]
     },
     "metadata": {
      "needs_background": "light"
     },
     "output_type": "display_data"
    }
   ],
   "source": [
    "Jon_Exon_RPKM = pd.read_csv(\"/Users/jiayao/Work/BrainDisorders/data/Jon-GTEx/tmp_exon_subset_jc.csv\")\n",
    "Jon_Exon_RPKM.head(2)\n",
    "JW_Exon = set(ExonRPKM[\"Name\"].values)\n",
    "JC_Exon = set(Jon_Exon_RPKM[\"exon_id\"].values)\n",
    "print(len(JW_Exon.intersection(JC_Exon)))\n",
    "print(len(JW_Exon.difference(JC_Exon)))\n",
    "print(len(JC_Exon.difference(JW_Exon)))\n",
    "list(JW_Exon.intersection(JC_Exon))[:10]\n",
    "print(Jon_Exon_RPKM.shape[1], ExonRPKM.shape[1])\n",
    "Jon_new_col = [\"-\".join(x.split(\".\")) for x in Jon_Exon_RPKM.columns]\n",
    "Jon_Exon_RPKM.columns = Jon_new_col\n",
    "SharedSP = []\n",
    "for SP in GeneRPKM.columns[2:]:\n",
    "    if SP in Jon_new_col:\n",
    "        SharedSP.append(SP)\n",
    "print(len(SharedSP))\n",
    "X, Y = [], []\n",
    "#for ENS in list(JW_Exon.intersection(JC_Exon))[:10]:\n",
    "for ENS in [\"ENSG00000158022.6_2\"]:\n",
    "    for SP in SharedSP:\n",
    "        #print(SP)\n",
    "        x = ExonRPKM[ExonRPKM[\"Name\"]==ENS][SP].values[0]\n",
    "        y = Jon_Exon_RPKM[Jon_Exon_RPKM[\"exon_id\"]==ENS][SP].values[0]\n",
    "        X.append(x)\n",
    "        Y.append(y)\n",
    "print(pearsonr(X,Y))\n",
    "plt.scatter(X, Y, s=1)\n",
    "#plt.xlim((0,50))\n",
    "#plt.ylim((0,50))\n",
    "plt.grid(True)\n",
    "plt.show()"
   ]
  },
  {
   "cell_type": "code",
   "execution_count": 36,
   "metadata": {},
   "outputs": [
    {
     "ename": "NameError",
     "evalue": "name 'ExonRC' is not defined",
     "output_type": "error",
     "traceback": [
      "\u001b[0;31m---------------------------------------------------------------------------\u001b[0m",
      "\u001b[0;31mNameError\u001b[0m                                 Traceback (most recent call last)",
      "\u001b[0;32m<ipython-input-36-2b2f5a415546>\u001b[0m in \u001b[0;36m<module>\u001b[0;34m\u001b[0m\n\u001b[1;32m      1\u001b[0m \u001b[0;31m#ExonRC = pd.read_csv(\"../data/GTEx/GTEx_180Indiv_exon_rc.txt\", delimiter=\"\\t\")\u001b[0m\u001b[0;34m\u001b[0m\u001b[0;34m\u001b[0m\u001b[0;34m\u001b[0m\u001b[0m\n\u001b[1;32m      2\u001b[0m \u001b[0;31m#ExonRC.head(2)\u001b[0m\u001b[0;34m\u001b[0m\u001b[0;34m\u001b[0m\u001b[0;34m\u001b[0m\u001b[0m\n\u001b[0;32m----> 3\u001b[0;31m \u001b[0mExonRC\u001b[0m\u001b[0;34m[\u001b[0m\u001b[0mExonRC\u001b[0m\u001b[0;34m[\u001b[0m\u001b[0;34m\"Name\"\u001b[0m\u001b[0;34m]\u001b[0m \u001b[0;34m==\u001b[0m \u001b[0;34m\"ENSG00000158022.6_2\"\u001b[0m\u001b[0;34m]\u001b[0m\u001b[0;34m[\u001b[0m\u001b[0;34m\"GTEX-TMMY-0226-SM-33HBA\"\u001b[0m\u001b[0;34m]\u001b[0m\u001b[0;34m\u001b[0m\u001b[0;34m\u001b[0m\u001b[0m\n\u001b[0m",
      "\u001b[0;31mNameError\u001b[0m: name 'ExonRC' is not defined"
     ]
    }
   ],
   "source": [
    "#ExonRC = pd.read_csv(\"../data/GTEx/GTEx_180Indiv_exon_rc.txt\", delimiter=\"\\t\")\n",
    "#ExonRC.head(2)\n",
    "ExonRC[ExonRC[\"Name\"] == \"ENSG00000158022.6_2\"][\"GTEX-TMMY-0226-SM-33HBA\"]"
   ]
  },
  {
   "cell_type": "code",
   "execution_count": null,
   "metadata": {},
   "outputs": [],
   "source": [
    "ExonRPKM.head(2)\n",
    "ExonRPKM[ExonRPKM[\"Name\"] == \"ENSG00000158022.6_2\"][\"GTEX-TMMY-0226-SM-33HBA\"]"
   ]
  },
  {
   "cell_type": "code",
   "execution_count": 462,
   "metadata": {},
   "outputs": [
    {
     "data": {
      "text/html": [
       "<div>\n",
       "<style scoped>\n",
       "    .dataframe tbody tr th:only-of-type {\n",
       "        vertical-align: middle;\n",
       "    }\n",
       "\n",
       "    .dataframe tbody tr th {\n",
       "        vertical-align: top;\n",
       "    }\n",
       "\n",
       "    .dataframe thead th {\n",
       "        text-align: right;\n",
       "    }\n",
       "</style>\n",
       "<table border=\"1\" class=\"dataframe\">\n",
       "  <thead>\n",
       "    <tr style=\"text-align: right;\">\n",
       "      <th></th>\n",
       "      <th>ROW</th>\n",
       "      <th>GTEX.11ZU8.0011.R4a.SM.5BC6Y</th>\n",
       "      <th>GTEX.11ZVC.0011.R4a.SM.5BC6Z</th>\n",
       "      <th>GTEX.12WSA.0011.R4a.SM.57WB7</th>\n",
       "      <th>GTEX.12WSD.0011.R4b.SM.5LZUA</th>\n",
       "      <th>GTEX.12WSF.0011.R4b.SM.5HL88</th>\n",
       "      <th>GTEX.12WSH.0011.R4a.SM.5GU6K</th>\n",
       "      <th>GTEX.12ZZW.0011.R4a.SM.5DUX9</th>\n",
       "      <th>GTEX.12ZZZ.0011.R4b.SM.5DUV7</th>\n",
       "      <th>GTEX.13112.0011.R4b.SM.5DUXL</th>\n",
       "      <th>...</th>\n",
       "      <th>GTEX.ZVE2.0006.SM.51MRW</th>\n",
       "      <th>GTEX.ZVP2.0005.SM.51MRK</th>\n",
       "      <th>GTEX.ZVT2.0005.SM.57WBW</th>\n",
       "      <th>GTEX.ZVT3.0006.SM.51MT9</th>\n",
       "      <th>GTEX.ZVT4.0006.SM.57WB8</th>\n",
       "      <th>GTEX.ZVTK.0006.SM.57WBK</th>\n",
       "      <th>GTEX.ZVZP.0006.SM.51MSW</th>\n",
       "      <th>GTEX.ZVZQ.0006.SM.51MR8</th>\n",
       "      <th>GTEX.ZXES.0005.SM.57WCB</th>\n",
       "      <th>GTEX.ZXG5.0005.SM.57WCN</th>\n",
       "    </tr>\n",
       "  </thead>\n",
       "  <tbody>\n",
       "    <tr>\n",
       "      <th>0</th>\n",
       "      <td>ENSG00000188157</td>\n",
       "      <td>2.035006</td>\n",
       "      <td>6.942902</td>\n",
       "      <td>9.327048</td>\n",
       "      <td>12.878251</td>\n",
       "      <td>11.581188</td>\n",
       "      <td>3.239905</td>\n",
       "      <td>8.932909</td>\n",
       "      <td>12.278234</td>\n",
       "      <td>15.332375</td>\n",
       "      <td>...</td>\n",
       "      <td>0.374902</td>\n",
       "      <td>0.166505</td>\n",
       "      <td>0.274548</td>\n",
       "      <td>0.422083</td>\n",
       "      <td>0.334501</td>\n",
       "      <td>0.683100</td>\n",
       "      <td>0.148098</td>\n",
       "      <td>0.556412</td>\n",
       "      <td>0.426955</td>\n",
       "      <td>0.313988</td>\n",
       "    </tr>\n",
       "    <tr>\n",
       "      <th>1</th>\n",
       "      <td>ENSG00000186891</td>\n",
       "      <td>0.361360</td>\n",
       "      <td>0.267064</td>\n",
       "      <td>0.143500</td>\n",
       "      <td>0.499030</td>\n",
       "      <td>0.813190</td>\n",
       "      <td>0.207169</td>\n",
       "      <td>0.432786</td>\n",
       "      <td>0.273500</td>\n",
       "      <td>0.720403</td>\n",
       "      <td>...</td>\n",
       "      <td>9.935787</td>\n",
       "      <td>1.269453</td>\n",
       "      <td>1.235549</td>\n",
       "      <td>25.135102</td>\n",
       "      <td>10.422676</td>\n",
       "      <td>12.568409</td>\n",
       "      <td>1.762558</td>\n",
       "      <td>16.210703</td>\n",
       "      <td>1.166736</td>\n",
       "      <td>3.744108</td>\n",
       "    </tr>\n",
       "  </tbody>\n",
       "</table>\n",
       "<p>2 rows × 4433 columns</p>\n",
       "</div>"
      ],
      "text/plain": [
       "               ROW  GTEX.11ZU8.0011.R4a.SM.5BC6Y  \\\n",
       "0  ENSG00000188157                      2.035006   \n",
       "1  ENSG00000186891                      0.361360   \n",
       "\n",
       "   GTEX.11ZVC.0011.R4a.SM.5BC6Z  GTEX.12WSA.0011.R4a.SM.57WB7  \\\n",
       "0                      6.942902                      9.327048   \n",
       "1                      0.267064                      0.143500   \n",
       "\n",
       "   GTEX.12WSD.0011.R4b.SM.5LZUA  GTEX.12WSF.0011.R4b.SM.5HL88  \\\n",
       "0                     12.878251                     11.581188   \n",
       "1                      0.499030                      0.813190   \n",
       "\n",
       "   GTEX.12WSH.0011.R4a.SM.5GU6K  GTEX.12ZZW.0011.R4a.SM.5DUX9  \\\n",
       "0                      3.239905                      8.932909   \n",
       "1                      0.207169                      0.432786   \n",
       "\n",
       "   GTEX.12ZZZ.0011.R4b.SM.5DUV7  GTEX.13112.0011.R4b.SM.5DUXL  \\\n",
       "0                     12.278234                     15.332375   \n",
       "1                      0.273500                      0.720403   \n",
       "\n",
       "            ...             GTEX.ZVE2.0006.SM.51MRW  GTEX.ZVP2.0005.SM.51MRK  \\\n",
       "0           ...                            0.374902                 0.166505   \n",
       "1           ...                            9.935787                 1.269453   \n",
       "\n",
       "   GTEX.ZVT2.0005.SM.57WBW  GTEX.ZVT3.0006.SM.51MT9  GTEX.ZVT4.0006.SM.57WB8  \\\n",
       "0                 0.274548                 0.422083                 0.334501   \n",
       "1                 1.235549                25.135102                10.422676   \n",
       "\n",
       "   GTEX.ZVTK.0006.SM.57WBK  GTEX.ZVZP.0006.SM.51MSW  GTEX.ZVZQ.0006.SM.51MR8  \\\n",
       "0                 0.683100                 0.148098                 0.556412   \n",
       "1                12.568409                 1.762558                16.210703   \n",
       "\n",
       "   GTEX.ZXES.0005.SM.57WCB  GTEX.ZXG5.0005.SM.57WCN  \n",
       "0                 0.426955                 0.313988  \n",
       "1                 1.166736                 3.744108  \n",
       "\n",
       "[2 rows x 4433 columns]"
      ]
     },
     "execution_count": 462,
     "metadata": {},
     "output_type": "execute_result"
    }
   ],
   "source": [
    "Jon_Gene_RPKM.head(2)"
   ]
  },
  {
   "cell_type": "code",
   "execution_count": 465,
   "metadata": {},
   "outputs": [
    {
     "name": "stdout",
     "output_type": "stream",
     "text": [
      "1452\n",
      "1265\n",
      "165\n",
      "4433 1585\n",
      "824\n",
      "(0.999999995732892, 0.0)\n"
     ]
    },
    {
     "data": {
      "image/png": "[encoded data removed]",
      "text/plain": [
       "<Figure size 432x288 with 1 Axes>"
      ]
     },
     "metadata": {
      "needs_background": "light"
     },
     "output_type": "display_data"
    }
   ],
   "source": [
    "Jon_Gene_RPKM = pd.read_csv(\"/Users/jiayao/Work/BrainDisorders/data/Jon-GTEx/gene-subset-jc.csv\")\n",
    "Jon_Gene_RPKM.head(2)\n",
    "JW_Gene = set(GeneRPKM[\"Name\"].values)\n",
    "JC_Gene = set(Jon_Gene_RPKM[\"ROW\"].values)\n",
    "print(len(JW_Gene.intersection(JC_Gene)))\n",
    "print(len(JW_Gene.difference(JC_Gene)))\n",
    "print(len(JC_Gene.difference(JW_Gene)))\n",
    "list(JW_Gene.intersection(JC_Gene))[:10]\n",
    "print(Jon_Gene_RPKM.shape[1], GeneRPKM.shape[1])\n",
    "Jon_new_col = [\"-\".join(x.split(\".\")) for x in Jon_Gene_RPKM.columns]\n",
    "Jon_Gene_RPKM.columns = Jon_new_col\n",
    "SharedSP = []\n",
    "for SP in GeneRPKM.columns[2:]:\n",
    "    if SP in Jon_new_col:\n",
    "        SharedSP.append(SP)\n",
    "print(len(SharedSP))\n",
    "X, Y = [], []\n",
    "for ENS in list(JW_Gene.intersection(JC_Gene))[:1000]:\n",
    "    for SP in SharedSP[:2]:\n",
    "        #print(SP)\n",
    "        x = GeneRPKM[GeneRPKM[\"Name\"]==ENS][SP].values[0]\n",
    "        y = Jon_Gene_RPKM[Jon_Gene_RPKM[\"ROW\"]==ENS][SP].values[0]\n",
    "        X.append(x)\n",
    "        Y.append(y)\n",
    "print(pearsonr(X,Y))\n",
    "plt.scatter(X, Y, s=1)\n",
    "plt.xlim((0,50))\n",
    "plt.ylim((0,50))\n",
    "plt.grid(True)\n",
    "plt.show()"
   ]
  },
  {
   "cell_type": "code",
   "execution_count": null,
   "metadata": {},
   "outputs": [],
   "source": []
  }
 ],
 "metadata": {
  "kernelspec": {
   "display_name": "Python 3",
   "language": "python",
   "name": "python3"
  },
  "language_info": {
   "codemirror_mode": {
    "name": "ipython",
    "version": 3
   },
   "file_extension": ".py",
   "mimetype": "text/x-python",
   "name": "python",
   "nbconvert_exporter": "python",
   "pygments_lexer": "ipython3",
   "version": "3.7.1"
  }
 },
 "nbformat": 4,
 "nbformat_minor": 2
}
