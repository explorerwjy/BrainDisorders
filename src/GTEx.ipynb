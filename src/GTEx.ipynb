{
 "cells": [
  {
   "cell_type": "code",
   "execution_count": 4,
   "metadata": {},
   "outputs": [],
   "source": [
    "%load_ext autoreload\n",
    "%autoreload 2\n",
    "from utils import *\n",
    "import itertools\n",
    "from IPython.display import display, HTML\n",
    "from scipy.stats import spearmanr\n",
    "from scipy.stats import pearsonr\n",
    "ins = BrainSpan()"
   ]
  },
  {
   "cell_type": "code",
   "execution_count": 28,
   "metadata": {},
   "outputs": [],
   "source": [
    "gtex = pd.read_csv(\"../data/GTEx.RecGenes.exon.csv\")\n",
    "Exons = pd.read_csv(\"../data/gencode.v19.genes.v7.patched_contigs.exons.txt\", delimiter=\"\\t\")\n",
    "Genes = pd.read_csv(\"../data/GTEx.RecGenes.gene.rc.csv\")\n",
    "Samples = pd.read_csv(\"../data/GTEx_v7_Annotations_SampleAttributesDS.txt\", delimiter=\"\\t\")\n",
    "Samples = Samples[Samples[\"SAMPID\"].isin(Genes.columns.values)]"
   ]
  },
  {
   "cell_type": "code",
   "execution_count": 29,
   "metadata": {},
   "outputs": [
    {
     "name": "stdout",
     "output_type": "stream",
     "text": [
      "['Name' 'Description' 'GTEX-1117F-0226-SM-5GZZ7' ...\n",
      " 'GTEX-ZVZQ-0006-SM-51MR8' 'GTEX-ZXES-0005-SM-57WCB'\n",
      " 'GTEX-ZXG5-0005-SM-57WCN']\n"
     ]
    }
   ],
   "source": [
    "print(Genes.columns.values)"
   ]
  },
  {
   "cell_type": "code",
   "execution_count": 30,
   "metadata": {},
   "outputs": [
    {
     "data": {
      "text/html": [
       "<div>\n",
       "<style scoped>\n",
       "    .dataframe tbody tr th:only-of-type {\n",
       "        vertical-align: middle;\n",
       "    }\n",
       "\n",
       "    .dataframe tbody tr th {\n",
       "        vertical-align: top;\n",
       "    }\n",
       "\n",
       "    .dataframe thead th {\n",
       "        text-align: right;\n",
       "    }\n",
       "</style>\n",
       "<table border=\"1\" class=\"dataframe\">\n",
       "  <thead>\n",
       "    <tr style=\"text-align: right;\">\n",
       "      <th></th>\n",
       "      <th>Description</th>\n",
       "      <th>GTEX-1117F-0226-SM-5GZZ7</th>\n",
       "      <th>GTEX-1117F-0426-SM-5EGHI</th>\n",
       "      <th>GTEX-1117F-0526-SM-5EGHJ</th>\n",
       "      <th>GTEX-1117F-0626-SM-5N9CS</th>\n",
       "      <th>GTEX-1117F-0726-SM-5GIEN</th>\n",
       "      <th>GTEX-1117F-1326-SM-5EGHH</th>\n",
       "      <th>GTEX-1117F-2226-SM-5N9CH</th>\n",
       "      <th>GTEX-1117F-2426-SM-5EGGH</th>\n",
       "      <th>GTEX-1117F-2526-SM-5GZY6</th>\n",
       "      <th>...</th>\n",
       "      <th>GTEX-ZZPU-1226-SM-5N9CK</th>\n",
       "      <th>GTEX-ZZPU-1326-SM-5GZWS</th>\n",
       "      <th>GTEX-ZZPU-1426-SM-5GZZ6</th>\n",
       "      <th>GTEX-ZZPU-1826-SM-5E43L</th>\n",
       "      <th>GTEX-ZZPU-2126-SM-5EGIU</th>\n",
       "      <th>GTEX-ZZPU-2226-SM-5EGIV</th>\n",
       "      <th>GTEX-ZZPU-2426-SM-5E44I</th>\n",
       "      <th>GTEX-ZZPU-2626-SM-5E45Y</th>\n",
       "      <th>GTEX-ZZPU-2726-SM-5NQ8O</th>\n",
       "      <th>Name</th>\n",
       "    </tr>\n",
       "  </thead>\n",
       "  <tbody>\n",
       "    <tr>\n",
       "      <th>0</th>\n",
       "      <td>POGZ</td>\n",
       "      <td>4.947368</td>\n",
       "      <td>0.0</td>\n",
       "      <td>14.092105</td>\n",
       "      <td>7.355263</td>\n",
       "      <td>0.486842</td>\n",
       "      <td>5.828947</td>\n",
       "      <td>10.421053</td>\n",
       "      <td>9.776316</td>\n",
       "      <td>8.513158</td>\n",
       "      <td>...</td>\n",
       "      <td>12.078947</td>\n",
       "      <td>11.460526</td>\n",
       "      <td>4.407895</td>\n",
       "      <td>10.671053</td>\n",
       "      <td>21.223684</td>\n",
       "      <td>7.881579</td>\n",
       "      <td>6.697368</td>\n",
       "      <td>9.157895</td>\n",
       "      <td>8.039474</td>\n",
       "      <td>ENSG00000143442.17_1</td>\n",
       "    </tr>\n",
       "    <tr>\n",
       "      <th>1</th>\n",
       "      <td>POGZ</td>\n",
       "      <td>4.000000</td>\n",
       "      <td>1.0</td>\n",
       "      <td>7.763158</td>\n",
       "      <td>25.171053</td>\n",
       "      <td>7.000000</td>\n",
       "      <td>17.552631</td>\n",
       "      <td>19.842106</td>\n",
       "      <td>14.578947</td>\n",
       "      <td>20.171053</td>\n",
       "      <td>...</td>\n",
       "      <td>25.381578</td>\n",
       "      <td>13.302632</td>\n",
       "      <td>12.539474</td>\n",
       "      <td>20.657894</td>\n",
       "      <td>34.197370</td>\n",
       "      <td>4.105263</td>\n",
       "      <td>9.460526</td>\n",
       "      <td>1.000000</td>\n",
       "      <td>7.000000</td>\n",
       "      <td>ENSG00000143442.17_2</td>\n",
       "    </tr>\n",
       "  </tbody>\n",
       "</table>\n",
       "<p>2 rows × 11690 columns</p>\n",
       "</div>"
      ],
      "text/plain": [
       "  Description  GTEX-1117F-0226-SM-5GZZ7  GTEX-1117F-0426-SM-5EGHI  \\\n",
       "0        POGZ                  4.947368                       0.0   \n",
       "1        POGZ                  4.000000                       1.0   \n",
       "\n",
       "   GTEX-1117F-0526-SM-5EGHJ  GTEX-1117F-0626-SM-5N9CS  \\\n",
       "0                 14.092105                  7.355263   \n",
       "1                  7.763158                 25.171053   \n",
       "\n",
       "   GTEX-1117F-0726-SM-5GIEN  GTEX-1117F-1326-SM-5EGHH  \\\n",
       "0                  0.486842                  5.828947   \n",
       "1                  7.000000                 17.552631   \n",
       "\n",
       "   GTEX-1117F-2226-SM-5N9CH  GTEX-1117F-2426-SM-5EGGH  \\\n",
       "0                 10.421053                  9.776316   \n",
       "1                 19.842106                 14.578947   \n",
       "\n",
       "   GTEX-1117F-2526-SM-5GZY6          ...           GTEX-ZZPU-1226-SM-5N9CK  \\\n",
       "0                  8.513158          ...                         12.078947   \n",
       "1                 20.171053          ...                         25.381578   \n",
       "\n",
       "   GTEX-ZZPU-1326-SM-5GZWS  GTEX-ZZPU-1426-SM-5GZZ6  GTEX-ZZPU-1826-SM-5E43L  \\\n",
       "0                11.460526                 4.407895                10.671053   \n",
       "1                13.302632                12.539474                20.657894   \n",
       "\n",
       "   GTEX-ZZPU-2126-SM-5EGIU  GTEX-ZZPU-2226-SM-5EGIV  GTEX-ZZPU-2426-SM-5E44I  \\\n",
       "0                21.223684                 7.881579                 6.697368   \n",
       "1                34.197370                 4.105263                 9.460526   \n",
       "\n",
       "   GTEX-ZZPU-2626-SM-5E45Y  GTEX-ZZPU-2726-SM-5NQ8O                  Name  \n",
       "0                 9.157895                 8.039474  ENSG00000143442.17_1  \n",
       "1                 1.000000                 7.000000  ENSG00000143442.17_2  \n",
       "\n",
       "[2 rows x 11690 columns]"
      ]
     },
     "execution_count": 30,
     "metadata": {},
     "output_type": "execute_result"
    }
   ],
   "source": [
    "gtex.head(2)"
   ]
  },
  {
   "cell_type": "code",
   "execution_count": 34,
   "metadata": {},
   "outputs": [],
   "source": [
    "RecGenes = set(gtex[\"Description\"].values)\n",
    "RecGenesEns = set(Genes[\"Name\"].values)\n",
    "samples = Samples[\"SAMPID\"].values"
   ]
  },
  {
   "cell_type": "code",
   "execution_count": 11,
   "metadata": {
    "collapsed": true
   },
   "outputs": [
    {
     "name": "stdout",
     "output_type": "stream",
     "text": [
      "DIP2A\n"
     ]
    },
    {
     "data": {
      "image/png": "[encoded data removed]",
      "text/plain": [
       "<Figure size 432x288 with 1 Axes>"
      ]
     },
     "metadata": {
      "needs_background": "light"
     },
     "output_type": "display_data"
    },
    {
     "name": "stdout",
     "output_type": "stream",
     "text": [
      "WDFY3\n"
     ]
    },
    {
     "data": {
      "image/png": "[encoded data removed]",
      "text/plain": [
       "<Figure size 432x288 with 1 Axes>"
      ]
     },
     "metadata": {
      "needs_background": "light"
     },
     "output_type": "display_data"
    },
    {
     "name": "stdout",
     "output_type": "stream",
     "text": [
      "WAC\n"
     ]
    },
    {
     "data": {
      "image/png": "[encoded data removed]",
      "text/plain": [
       "<Figure size 432x288 with 1 Axes>"
      ]
     },
     "metadata": {
      "needs_background": "light"
     },
     "output_type": "display_data"
    },
    {
     "name": "stdout",
     "output_type": "stream",
     "text": [
      "DSCAM\n"
     ]
    },
    {
     "data": {
      "image/png": "[encoded data removed]",
      "text/plain": [
       "<Figure size 432x288 with 1 Axes>"
      ]
     },
     "metadata": {
      "needs_background": "light"
     },
     "output_type": "display_data"
    },
    {
     "name": "stdout",
     "output_type": "stream",
     "text": [
      "FOXP1\n"
     ]
    },
    {
     "data": {
      "image/png": "[encoded data removed]",
      "text/plain": [
       "<Figure size 432x288 with 1 Axes>"
      ]
     },
     "metadata": {
      "needs_background": "light"
     },
     "output_type": "display_data"
    },
    {
     "name": "stdout",
     "output_type": "stream",
     "text": [
      "CHD2\n"
     ]
    },
    {
     "data": {
      "image/png": "[encoded data removed]",
      "text/plain": [
       "<Figure size 432x288 with 1 Axes>"
      ]
     },
     "metadata": {
      "needs_background": "light"
     },
     "output_type": "display_data"
    },
    {
     "name": "stdout",
     "output_type": "stream",
     "text": [
      "NCKAP1\n"
     ]
    },
    {
     "data": {
      "image/png": "[encoded data removed]",
      "text/plain": [
       "<Figure size 432x288 with 1 Axes>"
      ]
     },
     "metadata": {
      "needs_background": "light"
     },
     "output_type": "display_data"
    },
    {
     "name": "stdout",
     "output_type": "stream",
     "text": [
      "GRIN2B\n"
     ]
    },
    {
     "data": {
      "image/png": "[encoded data removed]",
      "text/plain": [
       "<Figure size 432x288 with 1 Axes>"
      ]
     },
     "metadata": {
      "needs_background": "light"
     },
     "output_type": "display_data"
    },
    {
     "name": "stdout",
     "output_type": "stream",
     "text": [
      "SCN2A\n"
     ]
    },
    {
     "data": {
      "image/png": "[encoded data removed]",
      "text/plain": [
       "<Figure size 432x288 with 1 Axes>"
      ]
     },
     "metadata": {
      "needs_background": "light"
     },
     "output_type": "display_data"
    },
    {
     "name": "stdout",
     "output_type": "stream",
     "text": [
      "KDM5B\n"
     ]
    },
    {
     "data": {
      "image/png": "[encoded data removed]",
      "text/plain": [
       "<Figure size 432x288 with 1 Axes>"
      ]
     },
     "metadata": {
      "needs_background": "light"
     },
     "output_type": "display_data"
    },
    {
     "name": "stdout",
     "output_type": "stream",
     "text": [
      "ANK2\n"
     ]
    },
    {
     "data": {
      "image/png": "[encoded data removed]",
      "text/plain": [
       "<Figure size 432x288 with 1 Axes>"
      ]
     },
     "metadata": {
      "needs_background": "light"
     },
     "output_type": "display_data"
    },
    {
     "name": "stdout",
     "output_type": "stream",
     "text": [
      "POGZ\n"
     ]
    },
    {
     "data": {
      "image/png": "[encoded data removed]",
      "text/plain": [
       "<Figure size 432x288 with 1 Axes>"
      ]
     },
     "metadata": {
      "needs_background": "light"
     },
     "output_type": "display_data"
    },
    {
     "name": "stdout",
     "output_type": "stream",
     "text": [
      "KMT2E\n"
     ]
    },
    {
     "data": {
      "image/png": "[encoded data removed]",
      "text/plain": [
       "<Figure size 432x288 with 1 Axes>"
      ]
     },
     "metadata": {
      "needs_background": "light"
     },
     "output_type": "display_data"
    },
    {
     "name": "stdout",
     "output_type": "stream",
     "text": [
      "MED13L\n"
     ]
    },
    {
     "data": {
      "image/png": "[encoded data removed]",
      "text/plain": [
       "<Figure size 432x288 with 1 Axes>"
      ]
     },
     "metadata": {
      "needs_background": "light"
     },
     "output_type": "display_data"
    },
    {
     "name": "stdout",
     "output_type": "stream",
     "text": [
      "TBR1\n"
     ]
    },
    {
     "data": {
      "image/png": "[encoded data removed]",
      "text/plain": [
       "<Figure size 432x288 with 1 Axes>"
      ]
     },
     "metadata": {
      "needs_background": "light"
     },
     "output_type": "display_data"
    },
    {
     "name": "stdout",
     "output_type": "stream",
     "text": [
      "ADNP\n"
     ]
    },
    {
     "data": {
      "image/png": "[encoded data removed]",
      "text/plain": [
       "<Figure size 432x288 with 1 Axes>"
      ]
     },
     "metadata": {
      "needs_background": "light"
     },
     "output_type": "display_data"
    },
    {
     "name": "stdout",
     "output_type": "stream",
     "text": [
      "TNRC6B\n"
     ]
    },
    {
     "data": {
      "image/png": "[encoded data removed]",
      "text/plain": [
       "<Figure size 432x288 with 1 Axes>"
      ]
     },
     "metadata": {
      "needs_background": "light"
     },
     "output_type": "display_data"
    },
    {
     "name": "stdout",
     "output_type": "stream",
     "text": [
      "RIMS1\n"
     ]
    },
    {
     "data": {
      "image/png": "[encoded data removed]",
      "text/plain": [
       "<Figure size 432x288 with 1 Axes>"
      ]
     },
     "metadata": {
      "needs_background": "light"
     },
     "output_type": "display_data"
    },
    {
     "name": "stdout",
     "output_type": "stream",
     "text": [
      "KDM6B\n"
     ]
    },
    {
     "data": {
      "image/png": "[encoded data removed]",
      "text/plain": [
       "<Figure size 432x288 with 1 Axes>"
      ]
     },
     "metadata": {
      "needs_background": "light"
     },
     "output_type": "display_data"
    },
    {
     "name": "stdout",
     "output_type": "stream",
     "text": [
      "PHF2\n"
     ]
    },
    {
     "data": {
      "image/png": "[encoded data removed]",
      "text/plain": [
       "<Figure size 432x288 with 1 Axes>"
      ]
     },
     "metadata": {
      "needs_background": "light"
     },
     "output_type": "display_data"
    },
    {
     "name": "stdout",
     "output_type": "stream",
     "text": [
      "CHD8\n"
     ]
    },
    {
     "data": {
      "image/png": "[encoded data removed]",
      "text/plain": [
       "<Figure size 432x288 with 1 Axes>"
      ]
     },
     "metadata": {
      "needs_background": "light"
     },
     "output_type": "display_data"
    },
    {
     "name": "stdout",
     "output_type": "stream",
     "text": [
      "GIGYF1\n"
     ]
    },
    {
     "ename": "KeyboardInterrupt",
     "evalue": "",
     "output_type": "error",
     "traceback": [
      "\u001b[0;31m---------------------------------------------------------------------------\u001b[0m",
      "\u001b[0;31mKeyboardInterrupt\u001b[0m                         Traceback (most recent call last)",
      "\u001b[0;32m<ipython-input-11-2d7ce6461579>\u001b[0m in \u001b[0;36m<module>\u001b[0;34m\u001b[0m\n\u001b[1;32m      6\u001b[0m             \u001b[0;32mcontinue\u001b[0m\u001b[0;34m\u001b[0m\u001b[0;34m\u001b[0m\u001b[0m\n\u001b[1;32m      7\u001b[0m         \u001b[0mgene_sp_rc\u001b[0m \u001b[0;34m=\u001b[0m \u001b[0mGenes\u001b[0m\u001b[0;34m[\u001b[0m\u001b[0mGenes\u001b[0m\u001b[0;34m[\u001b[0m\u001b[0;34m\"Description\"\u001b[0m\u001b[0;34m]\u001b[0m\u001b[0;34m==\u001b[0m\u001b[0mgene\u001b[0m\u001b[0;34m]\u001b[0m\u001b[0;34m[\u001b[0m\u001b[0msp\u001b[0m\u001b[0;34m]\u001b[0m\u001b[0;34m.\u001b[0m\u001b[0mvalues\u001b[0m\u001b[0;34m[\u001b[0m\u001b[0;36m0\u001b[0m\u001b[0;34m]\u001b[0m\u001b[0;34m\u001b[0m\u001b[0;34m\u001b[0m\u001b[0m\n\u001b[0;32m----> 8\u001b[0;31m         \u001b[0mexon_sp_rc\u001b[0m \u001b[0;34m=\u001b[0m \u001b[0msum\u001b[0m\u001b[0;34m(\u001b[0m\u001b[0mgtex\u001b[0m\u001b[0;34m[\u001b[0m\u001b[0mgtex\u001b[0m\u001b[0;34m[\u001b[0m\u001b[0;34m\"Description\"\u001b[0m\u001b[0;34m]\u001b[0m\u001b[0;34m==\u001b[0m\u001b[0mgene\u001b[0m\u001b[0;34m]\u001b[0m\u001b[0;34m[\u001b[0m\u001b[0msp\u001b[0m\u001b[0;34m]\u001b[0m\u001b[0;34m.\u001b[0m\u001b[0mvalues\u001b[0m\u001b[0;34m)\u001b[0m\u001b[0;34m\u001b[0m\u001b[0;34m\u001b[0m\u001b[0m\n\u001b[0m\u001b[1;32m      9\u001b[0m         \u001b[0mexon_dat\u001b[0m\u001b[0;34m.\u001b[0m\u001b[0mappend\u001b[0m\u001b[0;34m(\u001b[0m\u001b[0mexon_sp_rc\u001b[0m\u001b[0;34m)\u001b[0m\u001b[0;34m\u001b[0m\u001b[0;34m\u001b[0m\u001b[0m\n\u001b[1;32m     10\u001b[0m         \u001b[0mgene_dat\u001b[0m\u001b[0;34m.\u001b[0m\u001b[0mappend\u001b[0m\u001b[0;34m(\u001b[0m\u001b[0mgene_sp_rc\u001b[0m\u001b[0;34m)\u001b[0m\u001b[0;34m\u001b[0m\u001b[0;34m\u001b[0m\u001b[0m\n",
      "\u001b[0;32m~/anaconda3/lib/python3.7/site-packages/pandas/core/frame.py\u001b[0m in \u001b[0;36m__getitem__\u001b[0;34m(self, key)\u001b[0m\n\u001b[1;32m   2680\u001b[0m         \u001b[0;32mif\u001b[0m \u001b[0misinstance\u001b[0m\u001b[0;34m(\u001b[0m\u001b[0mkey\u001b[0m\u001b[0;34m,\u001b[0m \u001b[0;34m(\u001b[0m\u001b[0mSeries\u001b[0m\u001b[0;34m,\u001b[0m \u001b[0mnp\u001b[0m\u001b[0;34m.\u001b[0m\u001b[0mndarray\u001b[0m\u001b[0;34m,\u001b[0m \u001b[0mIndex\u001b[0m\u001b[0;34m,\u001b[0m \u001b[0mlist\u001b[0m\u001b[0;34m)\u001b[0m\u001b[0;34m)\u001b[0m\u001b[0;34m:\u001b[0m\u001b[0;34m\u001b[0m\u001b[0;34m\u001b[0m\u001b[0m\n\u001b[1;32m   2681\u001b[0m             \u001b[0;31m# either boolean or fancy integer index\u001b[0m\u001b[0;34m\u001b[0m\u001b[0;34m\u001b[0m\u001b[0;34m\u001b[0m\u001b[0m\n\u001b[0;32m-> 2682\u001b[0;31m             \u001b[0;32mreturn\u001b[0m \u001b[0mself\u001b[0m\u001b[0;34m.\u001b[0m\u001b[0m_getitem_array\u001b[0m\u001b[0;34m(\u001b[0m\u001b[0mkey\u001b[0m\u001b[0;34m)\u001b[0m\u001b[0;34m\u001b[0m\u001b[0;34m\u001b[0m\u001b[0m\n\u001b[0m\u001b[1;32m   2683\u001b[0m         \u001b[0;32melif\u001b[0m \u001b[0misinstance\u001b[0m\u001b[0;34m(\u001b[0m\u001b[0mkey\u001b[0m\u001b[0;34m,\u001b[0m \u001b[0mDataFrame\u001b[0m\u001b[0;34m)\u001b[0m\u001b[0;34m:\u001b[0m\u001b[0;34m\u001b[0m\u001b[0;34m\u001b[0m\u001b[0m\n\u001b[1;32m   2684\u001b[0m             \u001b[0;32mreturn\u001b[0m \u001b[0mself\u001b[0m\u001b[0;34m.\u001b[0m\u001b[0m_getitem_frame\u001b[0m\u001b[0;34m(\u001b[0m\u001b[0mkey\u001b[0m\u001b[0;34m)\u001b[0m\u001b[0;34m\u001b[0m\u001b[0;34m\u001b[0m\u001b[0m\n",
      "\u001b[0;32m~/anaconda3/lib/python3.7/site-packages/pandas/core/frame.py\u001b[0m in \u001b[0;36m_getitem_array\u001b[0;34m(self, key)\u001b[0m\n\u001b[1;32m   2722\u001b[0m             \u001b[0mkey\u001b[0m \u001b[0;34m=\u001b[0m \u001b[0mcheck_bool_indexer\u001b[0m\u001b[0;34m(\u001b[0m\u001b[0mself\u001b[0m\u001b[0;34m.\u001b[0m\u001b[0mindex\u001b[0m\u001b[0;34m,\u001b[0m \u001b[0mkey\u001b[0m\u001b[0;34m)\u001b[0m\u001b[0;34m\u001b[0m\u001b[0;34m\u001b[0m\u001b[0m\n\u001b[1;32m   2723\u001b[0m             \u001b[0mindexer\u001b[0m \u001b[0;34m=\u001b[0m \u001b[0mkey\u001b[0m\u001b[0;34m.\u001b[0m\u001b[0mnonzero\u001b[0m\u001b[0;34m(\u001b[0m\u001b[0;34m)\u001b[0m\u001b[0;34m[\u001b[0m\u001b[0;36m0\u001b[0m\u001b[0;34m]\u001b[0m\u001b[0;34m\u001b[0m\u001b[0;34m\u001b[0m\u001b[0m\n\u001b[0;32m-> 2724\u001b[0;31m             \u001b[0;32mreturn\u001b[0m \u001b[0mself\u001b[0m\u001b[0;34m.\u001b[0m\u001b[0m_take\u001b[0m\u001b[0;34m(\u001b[0m\u001b[0mindexer\u001b[0m\u001b[0;34m,\u001b[0m \u001b[0maxis\u001b[0m\u001b[0;34m=\u001b[0m\u001b[0;36m0\u001b[0m\u001b[0;34m)\u001b[0m\u001b[0;34m\u001b[0m\u001b[0;34m\u001b[0m\u001b[0m\n\u001b[0m\u001b[1;32m   2725\u001b[0m         \u001b[0;32melse\u001b[0m\u001b[0;34m:\u001b[0m\u001b[0;34m\u001b[0m\u001b[0;34m\u001b[0m\u001b[0m\n\u001b[1;32m   2726\u001b[0m             \u001b[0mindexer\u001b[0m \u001b[0;34m=\u001b[0m \u001b[0mself\u001b[0m\u001b[0;34m.\u001b[0m\u001b[0mloc\u001b[0m\u001b[0;34m.\u001b[0m\u001b[0m_convert_to_indexer\u001b[0m\u001b[0;34m(\u001b[0m\u001b[0mkey\u001b[0m\u001b[0;34m,\u001b[0m \u001b[0maxis\u001b[0m\u001b[0;34m=\u001b[0m\u001b[0;36m1\u001b[0m\u001b[0;34m)\u001b[0m\u001b[0;34m\u001b[0m\u001b[0;34m\u001b[0m\u001b[0m\n",
      "\u001b[0;32m~/anaconda3/lib/python3.7/site-packages/pandas/core/generic.py\u001b[0m in \u001b[0;36m_take\u001b[0;34m(self, indices, axis, is_copy)\u001b[0m\n\u001b[1;32m   2787\u001b[0m         new_data = self._data.take(indices,\n\u001b[1;32m   2788\u001b[0m                                    \u001b[0maxis\u001b[0m\u001b[0;34m=\u001b[0m\u001b[0mself\u001b[0m\u001b[0;34m.\u001b[0m\u001b[0m_get_block_manager_axis\u001b[0m\u001b[0;34m(\u001b[0m\u001b[0maxis\u001b[0m\u001b[0;34m)\u001b[0m\u001b[0;34m,\u001b[0m\u001b[0;34m\u001b[0m\u001b[0;34m\u001b[0m\u001b[0m\n\u001b[0;32m-> 2789\u001b[0;31m                                    verify=True)\n\u001b[0m\u001b[1;32m   2790\u001b[0m         \u001b[0mresult\u001b[0m \u001b[0;34m=\u001b[0m \u001b[0mself\u001b[0m\u001b[0;34m.\u001b[0m\u001b[0m_constructor\u001b[0m\u001b[0;34m(\u001b[0m\u001b[0mnew_data\u001b[0m\u001b[0;34m)\u001b[0m\u001b[0;34m.\u001b[0m\u001b[0m__finalize__\u001b[0m\u001b[0;34m(\u001b[0m\u001b[0mself\u001b[0m\u001b[0;34m)\u001b[0m\u001b[0;34m\u001b[0m\u001b[0;34m\u001b[0m\u001b[0m\n\u001b[1;32m   2791\u001b[0m \u001b[0;34m\u001b[0m\u001b[0m\n",
      "\u001b[0;32m~/anaconda3/lib/python3.7/site-packages/pandas/core/internals.py\u001b[0m in \u001b[0;36mtake\u001b[0;34m(self, indexer, axis, verify, convert)\u001b[0m\n\u001b[1;32m   4537\u001b[0m         \u001b[0mnew_labels\u001b[0m \u001b[0;34m=\u001b[0m \u001b[0mself\u001b[0m\u001b[0;34m.\u001b[0m\u001b[0maxes\u001b[0m\u001b[0;34m[\u001b[0m\u001b[0maxis\u001b[0m\u001b[0;34m]\u001b[0m\u001b[0;34m.\u001b[0m\u001b[0mtake\u001b[0m\u001b[0;34m(\u001b[0m\u001b[0mindexer\u001b[0m\u001b[0;34m)\u001b[0m\u001b[0;34m\u001b[0m\u001b[0;34m\u001b[0m\u001b[0m\n\u001b[1;32m   4538\u001b[0m         return self.reindex_indexer(new_axis=new_labels, indexer=indexer,\n\u001b[0;32m-> 4539\u001b[0;31m                                     axis=axis, allow_dups=True)\n\u001b[0m\u001b[1;32m   4540\u001b[0m \u001b[0;34m\u001b[0m\u001b[0m\n\u001b[1;32m   4541\u001b[0m     \u001b[0;32mdef\u001b[0m \u001b[0mmerge\u001b[0m\u001b[0;34m(\u001b[0m\u001b[0mself\u001b[0m\u001b[0;34m,\u001b[0m \u001b[0mother\u001b[0m\u001b[0;34m,\u001b[0m \u001b[0mlsuffix\u001b[0m\u001b[0;34m=\u001b[0m\u001b[0;34m''\u001b[0m\u001b[0;34m,\u001b[0m \u001b[0mrsuffix\u001b[0m\u001b[0;34m=\u001b[0m\u001b[0;34m''\u001b[0m\u001b[0;34m)\u001b[0m\u001b[0;34m:\u001b[0m\u001b[0;34m\u001b[0m\u001b[0;34m\u001b[0m\u001b[0m\n",
      "\u001b[0;32m~/anaconda3/lib/python3.7/site-packages/pandas/core/internals.py\u001b[0m in \u001b[0;36mreindex_indexer\u001b[0;34m(self, new_axis, indexer, axis, fill_value, allow_dups, copy)\u001b[0m\n\u001b[1;32m   4427\u001b[0m         \u001b[0mnew_axes\u001b[0m \u001b[0;34m=\u001b[0m \u001b[0mlist\u001b[0m\u001b[0;34m(\u001b[0m\u001b[0mself\u001b[0m\u001b[0;34m.\u001b[0m\u001b[0maxes\u001b[0m\u001b[0;34m)\u001b[0m\u001b[0;34m\u001b[0m\u001b[0;34m\u001b[0m\u001b[0m\n\u001b[1;32m   4428\u001b[0m         \u001b[0mnew_axes\u001b[0m\u001b[0;34m[\u001b[0m\u001b[0maxis\u001b[0m\u001b[0;34m]\u001b[0m \u001b[0;34m=\u001b[0m \u001b[0mnew_axis\u001b[0m\u001b[0;34m\u001b[0m\u001b[0;34m\u001b[0m\u001b[0m\n\u001b[0;32m-> 4429\u001b[0;31m         \u001b[0;32mreturn\u001b[0m \u001b[0mself\u001b[0m\u001b[0;34m.\u001b[0m\u001b[0m__class__\u001b[0m\u001b[0;34m(\u001b[0m\u001b[0mnew_blocks\u001b[0m\u001b[0;34m,\u001b[0m \u001b[0mnew_axes\u001b[0m\u001b[0;34m)\u001b[0m\u001b[0;34m\u001b[0m\u001b[0;34m\u001b[0m\u001b[0m\n\u001b[0m\u001b[1;32m   4430\u001b[0m \u001b[0;34m\u001b[0m\u001b[0m\n\u001b[1;32m   4431\u001b[0m     \u001b[0;32mdef\u001b[0m \u001b[0m_slice_take_blocks_ax0\u001b[0m\u001b[0;34m(\u001b[0m\u001b[0mself\u001b[0m\u001b[0;34m,\u001b[0m \u001b[0mslice_or_indexer\u001b[0m\u001b[0;34m,\u001b[0m \u001b[0mfill_tuple\u001b[0m\u001b[0;34m=\u001b[0m\u001b[0;32mNone\u001b[0m\u001b[0;34m)\u001b[0m\u001b[0;34m:\u001b[0m\u001b[0;34m\u001b[0m\u001b[0;34m\u001b[0m\u001b[0m\n",
      "\u001b[0;32m~/anaconda3/lib/python3.7/site-packages/pandas/core/internals.py\u001b[0m in \u001b[0;36m__init__\u001b[0;34m(self, blocks, axes, do_integrity_check)\u001b[0m\n\u001b[1;32m   3284\u001b[0m         \u001b[0mself\u001b[0m\u001b[0;34m.\u001b[0m\u001b[0m_consolidate_check\u001b[0m\u001b[0;34m(\u001b[0m\u001b[0;34m)\u001b[0m\u001b[0;34m\u001b[0m\u001b[0;34m\u001b[0m\u001b[0m\n\u001b[1;32m   3285\u001b[0m \u001b[0;34m\u001b[0m\u001b[0m\n\u001b[0;32m-> 3286\u001b[0;31m         \u001b[0mself\u001b[0m\u001b[0;34m.\u001b[0m\u001b[0m_rebuild_blknos_and_blklocs\u001b[0m\u001b[0;34m(\u001b[0m\u001b[0;34m)\u001b[0m\u001b[0;34m\u001b[0m\u001b[0;34m\u001b[0m\u001b[0m\n\u001b[0m\u001b[1;32m   3287\u001b[0m \u001b[0;34m\u001b[0m\u001b[0m\n\u001b[1;32m   3288\u001b[0m     \u001b[0;32mdef\u001b[0m \u001b[0mmake_empty\u001b[0m\u001b[0;34m(\u001b[0m\u001b[0mself\u001b[0m\u001b[0;34m,\u001b[0m \u001b[0maxes\u001b[0m\u001b[0;34m=\u001b[0m\u001b[0;32mNone\u001b[0m\u001b[0;34m)\u001b[0m\u001b[0;34m:\u001b[0m\u001b[0;34m\u001b[0m\u001b[0;34m\u001b[0m\u001b[0m\n",
      "\u001b[0;32m~/anaconda3/lib/python3.7/site-packages/pandas/core/internals.py\u001b[0m in \u001b[0;36m_rebuild_blknos_and_blklocs\u001b[0;34m(self)\u001b[0m\n\u001b[1;32m   3368\u001b[0m         \u001b[0mnew_blklocs\u001b[0m \u001b[0;34m=\u001b[0m \u001b[0mnp\u001b[0m\u001b[0;34m.\u001b[0m\u001b[0mempty\u001b[0m\u001b[0;34m(\u001b[0m\u001b[0mself\u001b[0m\u001b[0;34m.\u001b[0m\u001b[0mshape\u001b[0m\u001b[0;34m[\u001b[0m\u001b[0;36m0\u001b[0m\u001b[0;34m]\u001b[0m\u001b[0;34m,\u001b[0m \u001b[0mdtype\u001b[0m\u001b[0;34m=\u001b[0m\u001b[0mnp\u001b[0m\u001b[0;34m.\u001b[0m\u001b[0mint64\u001b[0m\u001b[0;34m)\u001b[0m\u001b[0;34m\u001b[0m\u001b[0;34m\u001b[0m\u001b[0m\n\u001b[1;32m   3369\u001b[0m         \u001b[0mnew_blknos\u001b[0m\u001b[0;34m.\u001b[0m\u001b[0mfill\u001b[0m\u001b[0;34m(\u001b[0m\u001b[0;34m-\u001b[0m\u001b[0;36m1\u001b[0m\u001b[0;34m)\u001b[0m\u001b[0;34m\u001b[0m\u001b[0;34m\u001b[0m\u001b[0m\n\u001b[0;32m-> 3370\u001b[0;31m         \u001b[0mnew_blklocs\u001b[0m\u001b[0;34m.\u001b[0m\u001b[0mfill\u001b[0m\u001b[0;34m(\u001b[0m\u001b[0;34m-\u001b[0m\u001b[0;36m1\u001b[0m\u001b[0;34m)\u001b[0m\u001b[0;34m\u001b[0m\u001b[0;34m\u001b[0m\u001b[0m\n\u001b[0m\u001b[1;32m   3371\u001b[0m \u001b[0;34m\u001b[0m\u001b[0m\n\u001b[1;32m   3372\u001b[0m         \u001b[0;32mfor\u001b[0m \u001b[0mblkno\u001b[0m\u001b[0;34m,\u001b[0m \u001b[0mblk\u001b[0m \u001b[0;32min\u001b[0m \u001b[0menumerate\u001b[0m\u001b[0;34m(\u001b[0m\u001b[0mself\u001b[0m\u001b[0;34m.\u001b[0m\u001b[0mblocks\u001b[0m\u001b[0;34m)\u001b[0m\u001b[0;34m:\u001b[0m\u001b[0;34m\u001b[0m\u001b[0;34m\u001b[0m\u001b[0m\n",
      "\u001b[0;31mKeyboardInterrupt\u001b[0m: "
     ]
    }
   ],
   "source": [
    "for gene in list(RecGenes):\n",
    "    print(gene)\n",
    "    exon_dat, gene_dat = [], []\n",
    "    for sp in samples:\n",
    "        if sp not in set(Genes.columns):\n",
    "            continue\n",
    "        gene_sp_rc = Genes[Genes[\"Description\"]==gene][sp].values[0]\n",
    "        exon_sp_rc = sum(gtex[gtex[\"Description\"]==gene][sp].values)\n",
    "        exon_dat.append(exon_sp_rc)\n",
    "        gene_dat.append(gene_sp_rc)\n",
    "    plt.scatter(exon_dat, gene_dat)\n",
    "    plt.show()\n",
    "    #print(gene)"
   ]
  },
  {
   "cell_type": "code",
   "execution_count": 9,
   "metadata": {},
   "outputs": [],
   "source": [
    "for l in open(\"../data/GTEx_Analysis_2016-01-15_v7_RNASeQCv1.1.8_gene_reads.gct\"):\n",
    "    if l.startswith(\"Name\"):\n",
    "        samples = l.strip().split(\"\\t\")[2:]\n",
    "        res = [0]*len(samples)\n",
    "    else:\n",
    "        llist = [float(x) for x in l.strip().split(\"\\t\")[2:]]\n",
    "        for i in range(len(llist)):\n",
    "            res[i] += float(llist[i])"
   ]
  },
  {
   "cell_type": "code",
   "execution_count": 13,
   "metadata": {},
   "outputs": [
    {
     "name": "stdout",
     "output_type": "stream",
     "text": [
      "11688\n"
     ]
    }
   ],
   "source": [
    "print(len(res))"
   ]
  },
  {
   "cell_type": "code",
   "execution_count": 16,
   "metadata": {},
   "outputs": [],
   "source": [
    "outfile = open(\"../data/GTEx.sample.total.readcount.txt\", 'wt')\n",
    "for sp, value in zip(samples, res):\n",
    "    outfile.write(\"{}\\t{}\\n\".format(sp, value))"
   ]
  },
  {
   "cell_type": "code",
   "execution_count": 54,
   "metadata": {},
   "outputs": [],
   "source": [
    "def RPKM(ReadCount, Length, Libsize):\n",
    "    ReadCount = float(ReadCount)\n",
    "    return (ReadCount * 1e9) / (Libsize*Length)"
   ]
  },
  {
   "cell_type": "code",
   "execution_count": 26,
   "metadata": {},
   "outputs": [],
   "source": [
    "# summerize gene length and exon length\n",
    "gtx_exon = pd.read_csv(\"../data/gencode.v19.genes.v7.patched_contigs.exons.txt\", delimiter=\"\\t\")\n",
    "gtx_exon[\"Gene\"] = gtx_exon.apply(lambda row:row[\"exon_id\"].split(\"_\")[0], axis=1)\n",
    "gtx_exon[\"ExonLength\"] = gtx_exon[\"end_pos\"] - gtx_exon[\"start_pos\"]"
   ]
  },
  {
   "cell_type": "code",
   "execution_count": 80,
   "metadata": {},
   "outputs": [],
   "source": [
    "Exon2Length = dict(zip(gtx_exon[\"exon_id\"].values, gtx_exon[\"ExonLength\"].values))"
   ]
  },
  {
   "cell_type": "code",
   "execution_count": 36,
   "metadata": {},
   "outputs": [],
   "source": [
    "Ens2Length = {}\n",
    "for gene in list(RecGenesEns):\n",
    "    df = gtx_exon[gtx_exon[\"Gene\"]==gene]\n",
    "    Ens2Length[gene] = sum(df[\"ExonLength\"].values)"
   ]
  },
  {
   "cell_type": "code",
   "execution_count": 27,
   "metadata": {},
   "outputs": [
    {
     "data": {
      "text/html": [
       "<div>\n",
       "<style scoped>\n",
       "    .dataframe tbody tr th:only-of-type {\n",
       "        vertical-align: middle;\n",
       "    }\n",
       "\n",
       "    .dataframe tbody tr th {\n",
       "        vertical-align: top;\n",
       "    }\n",
       "\n",
       "    .dataframe thead th {\n",
       "        text-align: right;\n",
       "    }\n",
       "</style>\n",
       "<table border=\"1\" class=\"dataframe\">\n",
       "  <thead>\n",
       "    <tr style=\"text-align: right;\">\n",
       "      <th></th>\n",
       "      <th>exon_id</th>\n",
       "      <th>chr</th>\n",
       "      <th>start_pos</th>\n",
       "      <th>end_pos</th>\n",
       "      <th>strand</th>\n",
       "      <th>Gene</th>\n",
       "      <th>ExonLength</th>\n",
       "    </tr>\n",
       "  </thead>\n",
       "  <tbody>\n",
       "    <tr>\n",
       "      <th>0</th>\n",
       "      <td>ENSG00000223972.4_1</td>\n",
       "      <td>1</td>\n",
       "      <td>11869</td>\n",
       "      <td>12227</td>\n",
       "      <td>+</td>\n",
       "      <td>ENSG00000223972.4</td>\n",
       "      <td>358</td>\n",
       "    </tr>\n",
       "    <tr>\n",
       "      <th>1</th>\n",
       "      <td>ENSG00000223972.4_2</td>\n",
       "      <td>1</td>\n",
       "      <td>12595</td>\n",
       "      <td>12721</td>\n",
       "      <td>+</td>\n",
       "      <td>ENSG00000223972.4</td>\n",
       "      <td>126</td>\n",
       "    </tr>\n",
       "  </tbody>\n",
       "</table>\n",
       "</div>"
      ],
      "text/plain": [
       "               exon_id chr  start_pos  end_pos strand               Gene  \\\n",
       "0  ENSG00000223972.4_1   1      11869    12227      +  ENSG00000223972.4   \n",
       "1  ENSG00000223972.4_2   1      12595    12721      +  ENSG00000223972.4   \n",
       "\n",
       "   ExonLength  \n",
       "0         358  \n",
       "1         126  "
      ]
     },
     "execution_count": 27,
     "metadata": {},
     "output_type": "execute_result"
    }
   ],
   "source": [
    "gtx_exon.head(2)"
   ]
  },
  {
   "cell_type": "code",
   "execution_count": 84,
   "metadata": {},
   "outputs": [],
   "source": [
    "#Samples.groupby(\"SMTS\").count()[\"SAMPID\"]\n",
    "# Brain, Blood, Skin\n",
    "BrainSamples = Samples[Samples[\"SMTS\"]==\"Brain\"][\"SAMPID\"].values\n",
    "BloodSamples = Samples[Samples[\"SMTS\"]==\"Blood\"][\"SAMPID\"].values\n",
    "SkinSamples = Samples[Samples[\"SMTS\"]==\"Skin\"][\"SAMPID\"].values"
   ]
  },
  {
   "cell_type": "code",
   "execution_count": 18,
   "metadata": {},
   "outputs": [],
   "source": [
    "fin = open(\"../data/GTEx.sample.total.readcount.txt\", 'rt')\n",
    "SP2Libsize = {}\n",
    "for l in fin:\n",
    "    sp, libsize = l.split(\"\\t\")\n",
    "    SP2Libsize[sp] = float(libsize)"
   ]
  },
  {
   "cell_type": "code",
   "execution_count": 78,
   "metadata": {},
   "outputs": [],
   "source": [
    "# Get Gene RPKM\n",
    "GeneRC = pd.read_csv(\"../data/GTEx.RecGenes.gene.rc.csv\")\n",
    "GeneRC.set_index(\"Name\", inplace=True)\n",
    "for SP in GeneRC.columns.values[1:]:\n",
    "    for gene in GeneRC.index.values:\n",
    "        #rint(GeneRC.loc[gene, SP])\n",
    "        GeneRC.loc[gene, SP] = round(RPKM(GeneRC.loc[gene, SP], Ens2Length[gene], SP2Libsize[SP]), 2)\n",
    "GeneRC.to_csv(\"../data/GTEx.RecGenes.gene.rpkm.csv\", index=\"False\")"
   ]
  },
  {
   "cell_type": "code",
   "execution_count": 82,
   "metadata": {},
   "outputs": [],
   "source": [
    "# Get Exon RPKM\n",
    "ExonRC = pd.read_csv(\"../data/GTEx.RecGenes.exon.rc.csv\")\n",
    "ExonRC.set_index(\"Name\", inplace=True)\n",
    "for SP in ExonRC.columns.values[1:]:\n",
    "    for exon in ExonRC.index.values:\n",
    "        ExonRC.loc[exon, SP] = round(RPKM(ExonRC.loc[exon, SP], Exon2Length[exon], SP2Libsize[SP]), 2)\n",
    "ExonRC.to_csv(\"../data/GTEx.RecGenes.exon.rpkm.csv\", index=\"False\")"
   ]
  },
  {
   "cell_type": "code",
   "execution_count": 88,
   "metadata": {},
   "outputs": [
    {
     "data": {
      "text/html": [
       "<div>\n",
       "<style scoped>\n",
       "    .dataframe tbody tr th:only-of-type {\n",
       "        vertical-align: middle;\n",
       "    }\n",
       "\n",
       "    .dataframe tbody tr th {\n",
       "        vertical-align: top;\n",
       "    }\n",
       "\n",
       "    .dataframe thead th {\n",
       "        text-align: right;\n",
       "    }\n",
       "</style>\n",
       "<table border=\"1\" class=\"dataframe\">\n",
       "  <thead>\n",
       "    <tr style=\"text-align: right;\">\n",
       "      <th></th>\n",
       "      <th>Description</th>\n",
       "      <th>GTEX-1117F-0226-SM-5GZZ7</th>\n",
       "      <th>GTEX-111CU-1826-SM-5GZYN</th>\n",
       "      <th>GTEX-111FC-0226-SM-5N9B8</th>\n",
       "      <th>GTEX-111VG-2326-SM-5N9BK</th>\n",
       "      <th>GTEX-111YS-2426-SM-5GZZQ</th>\n",
       "      <th>GTEX-1122O-2026-SM-5NQ91</th>\n",
       "      <th>GTEX-1128S-2126-SM-5H12U</th>\n",
       "      <th>GTEX-113IC-0226-SM-5HL5C</th>\n",
       "      <th>GTEX-117YX-2226-SM-5EGJJ</th>\n",
       "      <th>...</th>\n",
       "      <th>GTEX-ZVE2-0006-SM-51MRW</th>\n",
       "      <th>GTEX-ZVP2-0005-SM-51MRK</th>\n",
       "      <th>GTEX-ZVT2-0005-SM-57WBW</th>\n",
       "      <th>GTEX-ZVT3-0006-SM-51MT9</th>\n",
       "      <th>GTEX-ZVT4-0006-SM-57WB8</th>\n",
       "      <th>GTEX-ZVTK-0006-SM-57WBK</th>\n",
       "      <th>GTEX-ZVZP-0006-SM-51MSW</th>\n",
       "      <th>GTEX-ZVZQ-0006-SM-51MR8</th>\n",
       "      <th>GTEX-ZXES-0005-SM-57WCB</th>\n",
       "      <th>GTEX-ZXG5-0005-SM-57WCN</th>\n",
       "    </tr>\n",
       "    <tr>\n",
       "      <th>Name</th>\n",
       "      <th></th>\n",
       "      <th></th>\n",
       "      <th></th>\n",
       "      <th></th>\n",
       "      <th></th>\n",
       "      <th></th>\n",
       "      <th></th>\n",
       "      <th></th>\n",
       "      <th></th>\n",
       "      <th></th>\n",
       "      <th></th>\n",
       "      <th></th>\n",
       "      <th></th>\n",
       "      <th></th>\n",
       "      <th></th>\n",
       "      <th></th>\n",
       "      <th></th>\n",
       "      <th></th>\n",
       "      <th></th>\n",
       "      <th></th>\n",
       "      <th></th>\n",
       "    </tr>\n",
       "  </thead>\n",
       "  <tbody>\n",
       "    <tr>\n",
       "      <th>ENSG00000143442.17</th>\n",
       "      <td>POGZ</td>\n",
       "      <td>10.74</td>\n",
       "      <td>13.35</td>\n",
       "      <td>22.06</td>\n",
       "      <td>14.47</td>\n",
       "      <td>11.54</td>\n",
       "      <td>15.06</td>\n",
       "      <td>14.74</td>\n",
       "      <td>19.75</td>\n",
       "      <td>14.31</td>\n",
       "      <td>...</td>\n",
       "      <td>3.61</td>\n",
       "      <td>4.90</td>\n",
       "      <td>4.89</td>\n",
       "      <td>5.34</td>\n",
       "      <td>9.64</td>\n",
       "      <td>10.20</td>\n",
       "      <td>3.23</td>\n",
       "      <td>4.67</td>\n",
       "      <td>5.76</td>\n",
       "      <td>8.44</td>\n",
       "    </tr>\n",
       "    <tr>\n",
       "      <th>ENSG00000117139.12</th>\n",
       "      <td>KDM5B</td>\n",
       "      <td>10.48</td>\n",
       "      <td>6.45</td>\n",
       "      <td>6.92</td>\n",
       "      <td>6.92</td>\n",
       "      <td>5.22</td>\n",
       "      <td>5.55</td>\n",
       "      <td>4.51</td>\n",
       "      <td>7.36</td>\n",
       "      <td>9.32</td>\n",
       "      <td>...</td>\n",
       "      <td>7.59</td>\n",
       "      <td>3.12</td>\n",
       "      <td>4.23</td>\n",
       "      <td>3.56</td>\n",
       "      <td>12.17</td>\n",
       "      <td>10.94</td>\n",
       "      <td>5.43</td>\n",
       "      <td>4.64</td>\n",
       "      <td>5.25</td>\n",
       "      <td>13.55</td>\n",
       "    </tr>\n",
       "  </tbody>\n",
       "</table>\n",
       "<p>2 rows × 11689 columns</p>\n",
       "</div>"
      ],
      "text/plain": [
       "                   Description  GTEX-1117F-0226-SM-5GZZ7  \\\n",
       "Name                                                       \n",
       "ENSG00000143442.17        POGZ                     10.74   \n",
       "ENSG00000117139.12       KDM5B                     10.48   \n",
       "\n",
       "                    GTEX-111CU-1826-SM-5GZYN  GTEX-111FC-0226-SM-5N9B8  \\\n",
       "Name                                                                     \n",
       "ENSG00000143442.17                     13.35                     22.06   \n",
       "ENSG00000117139.12                      6.45                      6.92   \n",
       "\n",
       "                    GTEX-111VG-2326-SM-5N9BK  GTEX-111YS-2426-SM-5GZZQ  \\\n",
       "Name                                                                     \n",
       "ENSG00000143442.17                     14.47                     11.54   \n",
       "ENSG00000117139.12                      6.92                      5.22   \n",
       "\n",
       "                    GTEX-1122O-2026-SM-5NQ91  GTEX-1128S-2126-SM-5H12U  \\\n",
       "Name                                                                     \n",
       "ENSG00000143442.17                     15.06                     14.74   \n",
       "ENSG00000117139.12                      5.55                      4.51   \n",
       "\n",
       "                    GTEX-113IC-0226-SM-5HL5C  GTEX-117YX-2226-SM-5EGJJ  \\\n",
       "Name                                                                     \n",
       "ENSG00000143442.17                     19.75                     14.31   \n",
       "ENSG00000117139.12                      7.36                      9.32   \n",
       "\n",
       "                             ...             GTEX-ZVE2-0006-SM-51MRW  \\\n",
       "Name                         ...                                       \n",
       "ENSG00000143442.17           ...                                3.61   \n",
       "ENSG00000117139.12           ...                                7.59   \n",
       "\n",
       "                    GTEX-ZVP2-0005-SM-51MRK  GTEX-ZVT2-0005-SM-57WBW  \\\n",
       "Name                                                                   \n",
       "ENSG00000143442.17                     4.90                     4.89   \n",
       "ENSG00000117139.12                     3.12                     4.23   \n",
       "\n",
       "                    GTEX-ZVT3-0006-SM-51MT9  GTEX-ZVT4-0006-SM-57WB8  \\\n",
       "Name                                                                   \n",
       "ENSG00000143442.17                     5.34                     9.64   \n",
       "ENSG00000117139.12                     3.56                    12.17   \n",
       "\n",
       "                    GTEX-ZVTK-0006-SM-57WBK  GTEX-ZVZP-0006-SM-51MSW  \\\n",
       "Name                                                                   \n",
       "ENSG00000143442.17                    10.20                     3.23   \n",
       "ENSG00000117139.12                    10.94                     5.43   \n",
       "\n",
       "                    GTEX-ZVZQ-0006-SM-51MR8  GTEX-ZXES-0005-SM-57WCB  \\\n",
       "Name                                                                   \n",
       "ENSG00000143442.17                     4.67                     5.76   \n",
       "ENSG00000117139.12                     4.64                     5.25   \n",
       "\n",
       "                    GTEX-ZXG5-0005-SM-57WCN  \n",
       "Name                                         \n",
       "ENSG00000143442.17                     8.44  \n",
       "ENSG00000117139.12                    13.55  \n",
       "\n",
       "[2 rows x 11689 columns]"
      ]
     },
     "execution_count": 88,
     "metadata": {},
     "output_type": "execute_result"
    }
   ],
   "source": [
    "GeneRPKM = pd.read_csv(\"../data/GTEx.RecGenes.gene.rpkm.csv\")\n",
    "GeneRPKM.set_index(\"Name\", inplace=True)\n",
    "GeneRPKM.head(2)"
   ]
  },
  {
   "cell_type": "code",
   "execution_count": 119,
   "metadata": {},
   "outputs": [
    {
     "data": {
      "text/html": [
       "<div>\n",
       "<style scoped>\n",
       "    .dataframe tbody tr th:only-of-type {\n",
       "        vertical-align: middle;\n",
       "    }\n",
       "\n",
       "    .dataframe tbody tr th {\n",
       "        vertical-align: top;\n",
       "    }\n",
       "\n",
       "    .dataframe thead th {\n",
       "        text-align: right;\n",
       "    }\n",
       "</style>\n",
       "<table border=\"1\" class=\"dataframe\">\n",
       "  <thead>\n",
       "    <tr style=\"text-align: right;\">\n",
       "      <th></th>\n",
       "      <th>Description</th>\n",
       "      <th>GTEX-1117F-0226-SM-5GZZ7</th>\n",
       "      <th>GTEX-1117F-0426-SM-5EGHI</th>\n",
       "      <th>GTEX-1117F-0526-SM-5EGHJ</th>\n",
       "      <th>GTEX-1117F-0626-SM-5N9CS</th>\n",
       "      <th>GTEX-1117F-0726-SM-5GIEN</th>\n",
       "      <th>GTEX-1117F-1326-SM-5EGHH</th>\n",
       "      <th>GTEX-1117F-2226-SM-5N9CH</th>\n",
       "      <th>GTEX-1117F-2426-SM-5EGGH</th>\n",
       "      <th>GTEX-1117F-2526-SM-5GZY6</th>\n",
       "      <th>...</th>\n",
       "      <th>GTEX-ZZPU-1126-SM-5N9CW</th>\n",
       "      <th>GTEX-ZZPU-1226-SM-5N9CK</th>\n",
       "      <th>GTEX-ZZPU-1326-SM-5GZWS</th>\n",
       "      <th>GTEX-ZZPU-1426-SM-5GZZ6</th>\n",
       "      <th>GTEX-ZZPU-1826-SM-5E43L</th>\n",
       "      <th>GTEX-ZZPU-2126-SM-5EGIU</th>\n",
       "      <th>GTEX-ZZPU-2226-SM-5EGIV</th>\n",
       "      <th>GTEX-ZZPU-2426-SM-5E44I</th>\n",
       "      <th>GTEX-ZZPU-2626-SM-5E45Y</th>\n",
       "      <th>GTEX-ZZPU-2726-SM-5NQ8O</th>\n",
       "    </tr>\n",
       "    <tr>\n",
       "      <th>Name</th>\n",
       "      <th></th>\n",
       "      <th></th>\n",
       "      <th></th>\n",
       "      <th></th>\n",
       "      <th></th>\n",
       "      <th></th>\n",
       "      <th></th>\n",
       "      <th></th>\n",
       "      <th></th>\n",
       "      <th></th>\n",
       "      <th></th>\n",
       "      <th></th>\n",
       "      <th></th>\n",
       "      <th></th>\n",
       "      <th></th>\n",
       "      <th></th>\n",
       "      <th></th>\n",
       "      <th></th>\n",
       "      <th></th>\n",
       "      <th></th>\n",
       "      <th></th>\n",
       "    </tr>\n",
       "  </thead>\n",
       "  <tbody>\n",
       "    <tr>\n",
       "      <th>ENSG00000143442.17_1</th>\n",
       "      <td>POGZ</td>\n",
       "      <td>0.33</td>\n",
       "      <td>0.00</td>\n",
       "      <td>1.04</td>\n",
       "      <td>0.46</td>\n",
       "      <td>0.03</td>\n",
       "      <td>0.45</td>\n",
       "      <td>0.67</td>\n",
       "      <td>0.77</td>\n",
       "      <td>0.47</td>\n",
       "      <td>...</td>\n",
       "      <td>0.55</td>\n",
       "      <td>0.54</td>\n",
       "      <td>0.78</td>\n",
       "      <td>0.28</td>\n",
       "      <td>0.48</td>\n",
       "      <td>1.53</td>\n",
       "      <td>0.59</td>\n",
       "      <td>0.34</td>\n",
       "      <td>0.44</td>\n",
       "      <td>0.44</td>\n",
       "    </tr>\n",
       "    <tr>\n",
       "      <th>ENSG00000143442.17_2</th>\n",
       "      <td>POGZ</td>\n",
       "      <td>0.35</td>\n",
       "      <td>0.09</td>\n",
       "      <td>0.76</td>\n",
       "      <td>2.09</td>\n",
       "      <td>0.63</td>\n",
       "      <td>1.79</td>\n",
       "      <td>1.69</td>\n",
       "      <td>1.53</td>\n",
       "      <td>1.50</td>\n",
       "      <td>...</td>\n",
       "      <td>0.02</td>\n",
       "      <td>1.51</td>\n",
       "      <td>1.20</td>\n",
       "      <td>1.05</td>\n",
       "      <td>1.23</td>\n",
       "      <td>3.28</td>\n",
       "      <td>0.41</td>\n",
       "      <td>0.64</td>\n",
       "      <td>0.06</td>\n",
       "      <td>0.51</td>\n",
       "    </tr>\n",
       "  </tbody>\n",
       "</table>\n",
       "<p>2 rows × 11689 columns</p>\n",
       "</div>"
      ],
      "text/plain": [
       "                     Description  GTEX-1117F-0226-SM-5GZZ7  \\\n",
       "Name                                                         \n",
       "ENSG00000143442.17_1        POGZ                      0.33   \n",
       "ENSG00000143442.17_2        POGZ                      0.35   \n",
       "\n",
       "                      GTEX-1117F-0426-SM-5EGHI  GTEX-1117F-0526-SM-5EGHJ  \\\n",
       "Name                                                                       \n",
       "ENSG00000143442.17_1                      0.00                      1.04   \n",
       "ENSG00000143442.17_2                      0.09                      0.76   \n",
       "\n",
       "                      GTEX-1117F-0626-SM-5N9CS  GTEX-1117F-0726-SM-5GIEN  \\\n",
       "Name                                                                       \n",
       "ENSG00000143442.17_1                      0.46                      0.03   \n",
       "ENSG00000143442.17_2                      2.09                      0.63   \n",
       "\n",
       "                      GTEX-1117F-1326-SM-5EGHH  GTEX-1117F-2226-SM-5N9CH  \\\n",
       "Name                                                                       \n",
       "ENSG00000143442.17_1                      0.45                      0.67   \n",
       "ENSG00000143442.17_2                      1.79                      1.69   \n",
       "\n",
       "                      GTEX-1117F-2426-SM-5EGGH  GTEX-1117F-2526-SM-5GZY6  \\\n",
       "Name                                                                       \n",
       "ENSG00000143442.17_1                      0.77                      0.47   \n",
       "ENSG00000143442.17_2                      1.53                      1.50   \n",
       "\n",
       "                               ...             GTEX-ZZPU-1126-SM-5N9CW  \\\n",
       "Name                           ...                                       \n",
       "ENSG00000143442.17_1           ...                                0.55   \n",
       "ENSG00000143442.17_2           ...                                0.02   \n",
       "\n",
       "                      GTEX-ZZPU-1226-SM-5N9CK  GTEX-ZZPU-1326-SM-5GZWS  \\\n",
       "Name                                                                     \n",
       "ENSG00000143442.17_1                     0.54                     0.78   \n",
       "ENSG00000143442.17_2                     1.51                     1.20   \n",
       "\n",
       "                      GTEX-ZZPU-1426-SM-5GZZ6  GTEX-ZZPU-1826-SM-5E43L  \\\n",
       "Name                                                                     \n",
       "ENSG00000143442.17_1                     0.28                     0.48   \n",
       "ENSG00000143442.17_2                     1.05                     1.23   \n",
       "\n",
       "                      GTEX-ZZPU-2126-SM-5EGIU  GTEX-ZZPU-2226-SM-5EGIV  \\\n",
       "Name                                                                     \n",
       "ENSG00000143442.17_1                     1.53                     0.59   \n",
       "ENSG00000143442.17_2                     3.28                     0.41   \n",
       "\n",
       "                      GTEX-ZZPU-2426-SM-5E44I  GTEX-ZZPU-2626-SM-5E45Y  \\\n",
       "Name                                                                     \n",
       "ENSG00000143442.17_1                     0.34                     0.44   \n",
       "ENSG00000143442.17_2                     0.64                     0.06   \n",
       "\n",
       "                      GTEX-ZZPU-2726-SM-5NQ8O  \n",
       "Name                                           \n",
       "ENSG00000143442.17_1                     0.44  \n",
       "ENSG00000143442.17_2                     0.51  \n",
       "\n",
       "[2 rows x 11689 columns]"
      ]
     },
     "execution_count": 119,
     "metadata": {},
     "output_type": "execute_result"
    }
   ],
   "source": [
    "ExonRPKM = pd.read_csv(\"../data/GTEx.RecGenes.exon.rpkm.csv\")\n",
    "ExonRPKM.set_index(\"Name\", inplace=True)\n",
    "ExonRPKM.head(2)"
   ]
  },
  {
   "cell_type": "code",
   "execution_count": 85,
   "metadata": {},
   "outputs": [
    {
     "name": "stdout",
     "output_type": "stream",
     "text": [
      "['GTEX-1117F-3226-SM-5N9CT' 'GTEX-111FC-3126-SM-5GZZ2'\n",
      " 'GTEX-111FC-3326-SM-5GZYV' ... 'GTEX-ZYY3-3126-SM-5SI9L'\n",
      " 'GTEX-ZZPT-2926-SM-5EQ5S' 'GTEX-ZZPT-3026-SM-5GZXH']\n"
     ]
    }
   ],
   "source": [
    "print(BrainSamples)"
   ]
  },
  {
   "cell_type": "code",
   "execution_count": 132,
   "metadata": {},
   "outputs": [],
   "source": [
    "# GeneExpinTissues\n",
    "BrainExp = GeneRPKM[BrainSamples]\n",
    "BloodExp = GeneRPKM[BloodSamples]\n",
    "SkinExp = GeneRPKM[SkinSamples]\n",
    "\n",
    "Tissue2Exp = {}\n",
    "Tissue2Exp[\"Brain\"] = (GeneRPKM[[\"Description\"]+list(BrainSamples)], ExonRPKM[[\"Description\"]+list(BrainSamples)])\n",
    "Tissue2Exp[\"Blood\"] = (GeneRPKM[[\"Description\"]+list(BloodSamples)], ExonRPKM[[\"Description\"]+list(BloodSamples)])\n",
    "Tissue2Exp[\"Skin\"]  = (GeneRPKM[[\"Description\"]+list(SkinSamples)], ExonRPKM[[\"Description\"]+list(SkinSamples)])"
   ]
  },
  {
   "cell_type": "code",
   "execution_count": 133,
   "metadata": {},
   "outputs": [
    {
     "data": {
      "text/html": [
       "<div>\n",
       "<style scoped>\n",
       "    .dataframe tbody tr th:only-of-type {\n",
       "        vertical-align: middle;\n",
       "    }\n",
       "\n",
       "    .dataframe tbody tr th {\n",
       "        vertical-align: top;\n",
       "    }\n",
       "\n",
       "    .dataframe thead th {\n",
       "        text-align: right;\n",
       "    }\n",
       "</style>\n",
       "<table border=\"1\" class=\"dataframe\">\n",
       "  <thead>\n",
       "    <tr style=\"text-align: right;\">\n",
       "      <th></th>\n",
       "      <th>Description</th>\n",
       "      <th>GTEX-1117F-3226-SM-5N9CT</th>\n",
       "      <th>GTEX-111FC-3126-SM-5GZZ2</th>\n",
       "      <th>GTEX-111FC-3326-SM-5GZYV</th>\n",
       "      <th>GTEX-1128S-2726-SM-5H12C</th>\n",
       "      <th>GTEX-1128S-2826-SM-5N9DI</th>\n",
       "      <th>GTEX-117XS-3026-SM-5N9CA</th>\n",
       "      <th>GTEX-117XS-3126-SM-5GIDP</th>\n",
       "      <th>GTEX-1192X-3126-SM-5N9BY</th>\n",
       "      <th>GTEX-1192X-3226-SM-5987D</th>\n",
       "      <th>...</th>\n",
       "      <th>GTEX-ZXG5-0011-R5b-SM-57WBN</th>\n",
       "      <th>GTEX-ZXG5-0011-R6a-SM-57WBZ</th>\n",
       "      <th>GTEX-ZXG5-0011-R7b-SM-57WCC</th>\n",
       "      <th>GTEX-ZXG5-0011-R8a-SM-57WD1</th>\n",
       "      <th>GTEX-ZYFD-2926-SM-5GID9</th>\n",
       "      <th>GTEX-ZYFD-3026-SM-5E44C</th>\n",
       "      <th>GTEX-ZYY3-3026-SM-5GIEJ</th>\n",
       "      <th>GTEX-ZYY3-3126-SM-5SI9L</th>\n",
       "      <th>GTEX-ZZPT-2926-SM-5EQ5S</th>\n",
       "      <th>GTEX-ZZPT-3026-SM-5GZXH</th>\n",
       "    </tr>\n",
       "    <tr>\n",
       "      <th>Name</th>\n",
       "      <th></th>\n",
       "      <th></th>\n",
       "      <th></th>\n",
       "      <th></th>\n",
       "      <th></th>\n",
       "      <th></th>\n",
       "      <th></th>\n",
       "      <th></th>\n",
       "      <th></th>\n",
       "      <th></th>\n",
       "      <th></th>\n",
       "      <th></th>\n",
       "      <th></th>\n",
       "      <th></th>\n",
       "      <th></th>\n",
       "      <th></th>\n",
       "      <th></th>\n",
       "      <th></th>\n",
       "      <th></th>\n",
       "      <th></th>\n",
       "      <th></th>\n",
       "    </tr>\n",
       "  </thead>\n",
       "  <tbody>\n",
       "    <tr>\n",
       "      <th>ENSG00000143442.17_1</th>\n",
       "      <td>POGZ</td>\n",
       "      <td>0.02</td>\n",
       "      <td>0.71</td>\n",
       "      <td>0.89</td>\n",
       "      <td>0.38</td>\n",
       "      <td>0.5</td>\n",
       "      <td>0.27</td>\n",
       "      <td>1.02</td>\n",
       "      <td>0.21</td>\n",
       "      <td>0.87</td>\n",
       "      <td>...</td>\n",
       "      <td>0.13</td>\n",
       "      <td>0.51</td>\n",
       "      <td>0.22</td>\n",
       "      <td>0.16</td>\n",
       "      <td>0.60</td>\n",
       "      <td>0.54</td>\n",
       "      <td>0.68</td>\n",
       "      <td>0.55</td>\n",
       "      <td>0.39</td>\n",
       "      <td>0.28</td>\n",
       "    </tr>\n",
       "    <tr>\n",
       "      <th>ENSG00000143442.17_2</th>\n",
       "      <td>POGZ</td>\n",
       "      <td>0.76</td>\n",
       "      <td>1.90</td>\n",
       "      <td>2.20</td>\n",
       "      <td>0.76</td>\n",
       "      <td>3.4</td>\n",
       "      <td>1.27</td>\n",
       "      <td>2.73</td>\n",
       "      <td>1.84</td>\n",
       "      <td>2.29</td>\n",
       "      <td>...</td>\n",
       "      <td>0.75</td>\n",
       "      <td>1.73</td>\n",
       "      <td>0.58</td>\n",
       "      <td>0.42</td>\n",
       "      <td>2.25</td>\n",
       "      <td>2.33</td>\n",
       "      <td>3.17</td>\n",
       "      <td>0.93</td>\n",
       "      <td>1.15</td>\n",
       "      <td>0.87</td>\n",
       "    </tr>\n",
       "  </tbody>\n",
       "</table>\n",
       "<p>2 rows × 1672 columns</p>\n",
       "</div>"
      ],
      "text/plain": [
       "                     Description  GTEX-1117F-3226-SM-5N9CT  \\\n",
       "Name                                                         \n",
       "ENSG00000143442.17_1        POGZ                      0.02   \n",
       "ENSG00000143442.17_2        POGZ                      0.76   \n",
       "\n",
       "                      GTEX-111FC-3126-SM-5GZZ2  GTEX-111FC-3326-SM-5GZYV  \\\n",
       "Name                                                                       \n",
       "ENSG00000143442.17_1                      0.71                      0.89   \n",
       "ENSG00000143442.17_2                      1.90                      2.20   \n",
       "\n",
       "                      GTEX-1128S-2726-SM-5H12C  GTEX-1128S-2826-SM-5N9DI  \\\n",
       "Name                                                                       \n",
       "ENSG00000143442.17_1                      0.38                       0.5   \n",
       "ENSG00000143442.17_2                      0.76                       3.4   \n",
       "\n",
       "                      GTEX-117XS-3026-SM-5N9CA  GTEX-117XS-3126-SM-5GIDP  \\\n",
       "Name                                                                       \n",
       "ENSG00000143442.17_1                      0.27                      1.02   \n",
       "ENSG00000143442.17_2                      1.27                      2.73   \n",
       "\n",
       "                      GTEX-1192X-3126-SM-5N9BY  GTEX-1192X-3226-SM-5987D  \\\n",
       "Name                                                                       \n",
       "ENSG00000143442.17_1                      0.21                      0.87   \n",
       "ENSG00000143442.17_2                      1.84                      2.29   \n",
       "\n",
       "                               ...             GTEX-ZXG5-0011-R5b-SM-57WBN  \\\n",
       "Name                           ...                                           \n",
       "ENSG00000143442.17_1           ...                                    0.13   \n",
       "ENSG00000143442.17_2           ...                                    0.75   \n",
       "\n",
       "                      GTEX-ZXG5-0011-R6a-SM-57WBZ  \\\n",
       "Name                                                \n",
       "ENSG00000143442.17_1                         0.51   \n",
       "ENSG00000143442.17_2                         1.73   \n",
       "\n",
       "                      GTEX-ZXG5-0011-R7b-SM-57WCC  \\\n",
       "Name                                                \n",
       "ENSG00000143442.17_1                         0.22   \n",
       "ENSG00000143442.17_2                         0.58   \n",
       "\n",
       "                      GTEX-ZXG5-0011-R8a-SM-57WD1  GTEX-ZYFD-2926-SM-5GID9  \\\n",
       "Name                                                                         \n",
       "ENSG00000143442.17_1                         0.16                     0.60   \n",
       "ENSG00000143442.17_2                         0.42                     2.25   \n",
       "\n",
       "                      GTEX-ZYFD-3026-SM-5E44C  GTEX-ZYY3-3026-SM-5GIEJ  \\\n",
       "Name                                                                     \n",
       "ENSG00000143442.17_1                     0.54                     0.68   \n",
       "ENSG00000143442.17_2                     2.33                     3.17   \n",
       "\n",
       "                      GTEX-ZYY3-3126-SM-5SI9L  GTEX-ZZPT-2926-SM-5EQ5S  \\\n",
       "Name                                                                     \n",
       "ENSG00000143442.17_1                     0.55                     0.39   \n",
       "ENSG00000143442.17_2                     0.93                     1.15   \n",
       "\n",
       "                      GTEX-ZZPT-3026-SM-5GZXH  \n",
       "Name                                           \n",
       "ENSG00000143442.17_1                     0.28  \n",
       "ENSG00000143442.17_2                     0.87  \n",
       "\n",
       "[2 rows x 1672 columns]"
      ]
     },
     "execution_count": 133,
     "metadata": {},
     "output_type": "execute_result"
    }
   ],
   "source": [
    "Tissue2Exp[\"Brain\"][1].head(2)"
   ]
  },
  {
   "cell_type": "code",
   "execution_count": 114,
   "metadata": {},
   "outputs": [
    {
     "data": {
      "image/png": "[encoded data removed]",
      "text/plain": [
       "<Figure size 432x288 with 1 Axes>"
      ]
     },
     "metadata": {
      "needs_background": "light"
     },
     "output_type": "display_data"
    }
   ],
   "source": [
    "Gene = \"ENSG00000136531.9\"\n",
    "Gene = \"ENSG00000114861.14\"\n",
    "Gene = \"ENSG00000157540.15\"\n",
    "ax = plt.subplot(111)\n",
    "pos = [1,2,3]\n",
    "plt.violinplot([BrainExp.loc[Gene,:].values, BloodExp.loc[Gene,:].values, SkinExp.loc[Gene,:].values], pos)\n",
    "ax.set_xticks(pos)\n",
    "ax.set_xticklabels([\"Brain\", \"Blood\", \"Skin\"])\n",
    "plt.xlabel\n",
    "plt.show()"
   ]
  },
  {
   "cell_type": "code",
   "execution_count": 154,
   "metadata": {},
   "outputs": [
    {
     "data": {
      "text/plain": [
       "Index(['familyId', 'vcfVariant', 'inChild', 'effectGene', 'effectType',\n",
       "       'gender', 'VIQ', 'NVIQ', 'Age'],\n",
       "      dtype='object')"
      ]
     },
     "execution_count": 154,
     "metadata": {},
     "output_type": "execute_result"
    }
   ],
   "source": [
    "Jiayao_features = pd.read_csv(\"unifiedmodel/features.jiayao.65.csv\")\n",
    "Variants = Jiayao_features[['familyId', 'vcfVariant', 'inChild', 'effectGene', 'effectType',\n",
    "       'gender', 'VIQ', 'NVIQ', 'Age',]]\n",
    "Variants.loc[Variants[\"effectGene\"]==\"MLL5\", \"effectGene\"] = \"KMT2E\" #MLL5 \n",
    "Variants.columns"
   ]
  },
  {
   "cell_type": "code",
   "execution_count": 155,
   "metadata": {},
   "outputs": [],
   "source": [
    "Gene2Ens = pd.read_csv(\"../data/GTEx.ENSG2SYMBOL.txt\", delimiter=\"\\t\", names=[1,2])\n",
    "Gene2Ens = dict(zip(Gene2Ens[2].values, Gene2Ens[1].values))"
   ]
  },
  {
   "cell_type": "code",
   "execution_count": 156,
   "metadata": {},
   "outputs": [
    {
     "name": "stderr",
     "output_type": "stream",
     "text": [
      "/Users/jiayao/anaconda3/lib/python3.7/site-packages/ipykernel_launcher.py:17: SettingWithCopyWarning: \n",
      "A value is trying to be set on a copy of a slice from a DataFrame.\n",
      "Try using .loc[row_indexer,col_indexer] = value instead\n",
      "\n",
      "See the caveats in the documentation: http://pandas.pydata.org/pandas-docs/stable/indexing.html#indexing-view-versus-copy\n",
      "/Users/jiayao/anaconda3/lib/python3.7/site-packages/ipykernel_launcher.py:19: SettingWithCopyWarning: \n",
      "A value is trying to be set on a copy of a slice from a DataFrame.\n",
      "Try using .loc[row_indexer,col_indexer] = value instead\n",
      "\n",
      "See the caveats in the documentation: http://pandas.pydata.org/pandas-docs/stable/indexing.html#indexing-view-versus-copy\n",
      "/Users/jiayao/anaconda3/lib/python3.7/site-packages/ipykernel_launcher.py:20: SettingWithCopyWarning: \n",
      "A value is trying to be set on a copy of a slice from a DataFrame.\n",
      "Try using .loc[row_indexer,col_indexer] = value instead\n",
      "\n",
      "See the caveats in the documentation: http://pandas.pydata.org/pandas-docs/stable/indexing.html#indexing-view-versus-copy\n",
      "/Users/jiayao/anaconda3/lib/python3.7/site-packages/ipykernel_launcher.py:21: SettingWithCopyWarning: \n",
      "A value is trying to be set on a copy of a slice from a DataFrame.\n",
      "Try using .loc[row_indexer,col_indexer] = value instead\n",
      "\n",
      "See the caveats in the documentation: http://pandas.pydata.org/pandas-docs/stable/indexing.html#indexing-view-versus-copy\n",
      "/Users/jiayao/anaconda3/lib/python3.7/site-packages/ipykernel_launcher.py:22: SettingWithCopyWarning: \n",
      "A value is trying to be set on a copy of a slice from a DataFrame.\n",
      "Try using .loc[row_indexer,col_indexer] = value instead\n",
      "\n",
      "See the caveats in the documentation: http://pandas.pydata.org/pandas-docs/stable/indexing.html#indexing-view-versus-copy\n",
      "/Users/jiayao/anaconda3/lib/python3.7/site-packages/ipykernel_launcher.py:37: SettingWithCopyWarning: \n",
      "A value is trying to be set on a copy of a slice from a DataFrame.\n",
      "Try using .loc[row_indexer,col_indexer] = value instead\n",
      "\n",
      "See the caveats in the documentation: http://pandas.pydata.org/pandas-docs/stable/indexing.html#indexing-view-versus-copy\n",
      "/Users/jiayao/anaconda3/lib/python3.7/site-packages/ipykernel_launcher.py:38: SettingWithCopyWarning: \n",
      "A value is trying to be set on a copy of a slice from a DataFrame.\n",
      "Try using .loc[row_indexer,col_indexer] = value instead\n",
      "\n",
      "See the caveats in the documentation: http://pandas.pydata.org/pandas-docs/stable/indexing.html#indexing-view-versus-copy\n"
     ]
    }
   ],
   "source": [
    "def sudogmean(values):\n",
    "    values = [(x+1) for x in values]\n",
    "    gmean = scipy.stats.mstats.gmean(values)\n",
    "    return gmean-1\n",
    "def searchExon(Gene, Chr, Pos, Ref, Alt, ExonRow):\n",
    "    Pos, LenV = int(Pos), len(Ref)-len(Alt)\n",
    "    ExonRow = ExonRow[ExonRow[\"Gene\"]==Gene2Ens[Gene]]\n",
    "    for i, row in ExonRow.iterrows():\n",
    "        exon_id, start, end = row[\"exon_id\"],int(row[\"start_pos\"]),int(row[\"end_pos\"])\n",
    "        if Pos > start -3 and Pos < end + 3:\n",
    "            return exon_id\n",
    "        elif LenV > 0: # a delition may span a splice site\n",
    "            if (Pos < start-3 and Pos + LenV > start ) or (Pos < end and Pos + LenV > end +3):\n",
    "                return exon_id\n",
    "    return 0\n",
    "\n",
    "Variants[\"ExonID\"] = 0\n",
    "for Tissue in [\"Brain\", \"Blood\", \"Skin\"]:\n",
    "    Variants[\"%sGeneExp.amean\"%Tissue] = 0.0\n",
    "    Variants[\"%sGeneExp.gmean\"%Tissue] = 0.0\n",
    "    Variants[\"%sExonExp.amean\"%Tissue] = 0.0\n",
    "    Variants[\"%sExonExp.gmean\"%Tissue] = 0.0\n",
    "for i, row in Variants.iterrows():\n",
    "    famid, gene, (Chr, Pos, Ref, Alt) = row[\"familyId\"], row[\"effectGene\"], row[\"vcfVariant\"].split(\":\")\n",
    "    #ens = Ens2Gene(gene)\n",
    "    try:\n",
    "        Variants.loc[i, \"Age\"] = famid2age[str(famid)]\n",
    "    except:\n",
    "        Variants.loc[i, \"Age\"] = 0\n",
    "    try:\n",
    "        #GeneExp = GeneRPKM[GeneRPKM[\"Description\"]==gene]\n",
    "        for Tissue in [\"Brain\", \"Blood\", \"Skin\"]:\n",
    "            df = Tissue2Exp[Tissue][0]\n",
    "            #TissueExp = df.loc[Gene,:]\n",
    "            TissueExp = df[df[\"Description\"]==gene].values[0][1:]\n",
    "            gene_nmean, gene_gmean = np.mean(TissueExp), sudogmean(TissueExp)\n",
    "            Variants[\"%sGeneExp.amean\"%Tissue] = gene_nmean\n",
    "            Variants[\"%sGeneExp.gmean\"%Tissue] = gene_gmean\n",
    "    except IndexError:\n",
    "        print(\"gene not find\", famid, gene)\n",
    "    \n",
    "    exonId = searchExon(gene, Chr, Pos, Ref, Alt, gtx_exon)\n",
    "    \n",
    "    if len(Ref) == len(Alt):\n",
    "        Variants.loc[i, \"KEY\"] = \"%s-%s:%d\"%(famid, Chr, int(Pos))\n",
    "    else:\n",
    "        Variants.loc[i, \"KEY\"] = \"%s-%s:%d\"%(famid, Chr, int(Pos)+1)\n",
    "    if exonId != 0:\n",
    "        Variants.loc[i, \"ExonID\"] = exonId\n",
    "        \n",
    "        for Tissue in [\"Brain\", \"Blood\", \"Skin\"]:\n",
    "            df = Tissue2Exp[Tissue][1]\n",
    "            TissueExp = df[df.index==exonId].values[0][1:]\n",
    "            exon_nmean, exon_gmean = np.mean(TissueExp), sudogmean(TissueExp)\n",
    "            Variants.loc[i, \"%sExonExp.amean\"%Tissue] = exon_nmean\n",
    "            Variants.loc[i, \"%sExonExp.gmean\"%Tissue] = exon_gmean\n",
    "            Variants.loc[i, \"%sRel.exp.amean\"%Tissue] = exon_nmean/Variants.loc[i, \"%sGeneExp.amean\"%Tissue]\n",
    "            Variants.loc[i, \"%sRel.exp.gmean\"%Tissue] = exon_gmean/Variants.loc[i, \"%sGeneExp.gmean\"%Tissue]\n",
    "    else:\n",
    "        print(\"exon not find\", famid, gene)"
   ]
  },
  {
   "cell_type": "code",
   "execution_count": 170,
   "metadata": {},
   "outputs": [
    {
     "name": "stdout",
     "output_type": "stream",
     "text": [
      "(65, 30)\n"
     ]
    }
   ],
   "source": [
    "print(Variants.shape)\n",
    "Variants.head()\n",
    "Variants.to_csv(\"../data/GTEx.2Tissue.Pred.65.csv\", index=False)"
   ]
  },
  {
   "cell_type": "code",
   "execution_count": 158,
   "metadata": {},
   "outputs": [],
   "source": [
    "Tissue = \"Brain\"\n",
    "gene2slope = {}\n",
    "ALL_RelExp = np.array([])\n",
    "ALL_Normed_IQD = np.array([])\n",
    "Genes = list(set(Variants[\"effectGene\"].values))\n",
    "for gene in Genes:\n",
    "    df = Variants[Variants[\"effectGene\"]==gene]\n",
    "    IQs = [max(0, (100-x)) for x in df[\"NVIQ\"].values]\n",
    "    #rel_exps = [x for x in df[\"Rel.exp.amean\"].values] #Rel.exp.prenatal\n",
    "    #rel_exps = [x for x in df[\"Rel.exp.prenatal\"].values] #Rel.exp.prenatal\n",
    "    rel_exps = [x for x in df[\"%sRel.exp.amean\"%Tissue].values]\n",
    "    regr = regGene(rel_exps, IQs)\n",
    "    slope = regr.coef_[0]\n",
    "    #if slope == 0:\n",
    "    #    continue\n",
    "    gene2slope[gene] = slope\n",
    "    ALL_RelExp = np.append(ALL_RelExp, rel_exps)\n",
    "    NormIQDs = np.array([x/slope for x in IQs])\n",
    "    ALL_Normed_IQD = np.append(ALL_Normed_IQD, NormIQDs)"
   ]
  },
  {
   "cell_type": "code",
   "execution_count": 188,
   "metadata": {},
   "outputs": [
    {
     "data": {
      "image/png": "[encoded data removed]",
      "text/plain": [
       "<Figure size 480x480 with 1 Axes>"
      ]
     },
     "metadata": {
      "needs_background": "light"
     },
     "output_type": "display_data"
    }
   ],
   "source": [
    "model = linear_model.LinearRegression(fit_intercept=False)\n",
    "ALL_RelExp = ALL_RelExp.reshape(-1,1)\n",
    "R, P = scipy.stats.pearsonr([x[0] for x in ALL_RelExp], ALL_Normed_IQD) \n",
    "R, P = scipy.stats.spearmanr([x[0] for x in ALL_RelExp], ALL_Normed_IQD) \n",
    "plt.figure(figsize=(4,4), dpi=120)\n",
    "plt.title(\"Relative expression of exon containing LGD mutation\")\n",
    "model.fit(ALL_RelExp, ALL_Normed_IQD)\n",
    "plt.scatter(ALL_RelExp, ALL_Normed_IQD, s=40, facecolors='none', edgecolors='black')\n",
    "plt.plot([0, 5], [0,model.predict([[5.0]])], color='red')\n",
    "plt.text(0, 2.7, \"R=%.3f\"%(R))\n",
    "#plt.xlim((0,5))\n",
    "#plt.ylim((0,5))\n",
    "plt.show()"
   ]
  },
  {
   "cell_type": "code",
   "execution_count": 174,
   "metadata": {},
   "outputs": [
    {
     "name": "stdout",
     "output_type": "stream",
     "text": [
      "Brain [12.87277512] [20.83830984]\n"
     ]
    },
    {
     "data": {
      "image/png": "[encoded data removed]",
      "text/plain": [
       "<Figure size 480x480 with 1 Axes>"
      ]
     },
     "metadata": {
      "needs_background": "light"
     },
     "output_type": "display_data"
    },
    {
     "name": "stdout",
     "output_type": "stream",
     "text": [
      "Blood [18.33286628] [22.46464079]\n"
     ]
    },
    {
     "data": {
      "image/png": "[encoded data removed]",
      "text/plain": [
       "<Figure size 480x480 with 1 Axes>"
      ]
     },
     "metadata": {
      "needs_background": "light"
     },
     "output_type": "display_data"
    },
    {
     "name": "stdout",
     "output_type": "stream",
     "text": [
      "Skin [17.97313676] [22.73965173]\n"
     ]
    },
    {
     "data": {
      "image/png": "[encoded data removed]",
      "text/plain": [
       "<Figure size 480x480 with 1 Axes>"
      ]
     },
     "metadata": {
      "needs_background": "light"
     },
     "output_type": "display_data"
    }
   ],
   "source": [
    "Variants = pd.read_csv(\"../data/GTEx.2Tissue.Pred.65.csv\")\n",
    "ExcludeList = [\"13398-1:151377904\", \"13627-1:151378489\", \"13664-1:202698172\", \"13447-6:157527665\", \n",
    "               \"12323-9:96439930\", \"13545-20:49509095\", \"12130-20:49510028\", \"12764-2:183791570\", \"13735-21:41414331\"]\n",
    "Variants = Variants[~Variants[\"familyId\"].isin(ExcludeList)]\n",
    "GTExDosagePredErrs = {}\n",
    "for Tissue in [\"Brain\", \"Blood\", \"Skin\"]:\n",
    "    IQ_diff1, IQ_diff2, IQ_diff3 = [], [], []\n",
    "    avg_IQ = np.mean(Variants[\"NVIQ\"].values)\n",
    "    N = 0\n",
    "    for i, row in Variants.iterrows():\n",
    "        familyId, gene, ralexp, IQ = row[\"familyId\"], row[\"effectGene\"], row[\"%sRel.exp.gmean\"%Tissue], row[\"NVIQ\"]\n",
    "        df = Variants[(Variants[\"effectGene\"]==gene) & (Variants[\"familyId\"]!=familyId)]\n",
    "        IQs = df[\"NVIQ\"].values\n",
    "        IQDiffs = [max(0, (100-x)) for x in IQs]\n",
    "        rel_exps = [x for x in df[\"%sRel.exp.gmean\"%Tissue].values]\n",
    "        regr = regGene(rel_exps, IQDiffs)\n",
    "        slope = regr.coef_[0]\n",
    "        IQpre_dosage = max(0, (100 - slope * ralexp))\n",
    "\n",
    "        IQpre_gene = np.mean(IQs)\n",
    "        if abs(IQ - IQpre_dosage) > 50:\n",
    "            pass\n",
    "            #print(familyId, gene, IQ, IQpre_dosage, ralexp)\n",
    "        IQ_diff1.append(abs(IQ - IQpre_dosage))\n",
    "        IQ_diff2.append(abs(IQ - IQpre_gene))\n",
    "        IQ_diff3.append(abs(IQ - 70))\n",
    "        N += 1\n",
    "    plt.figure(figsize=(4,4), dpi=120)\n",
    "    plt.boxplot([IQ_diff1, IQ_diff2, IQ_diff3], labels = [\"dosamge\", \"gene\", \"mean\"])\n",
    "    GTExDosagePredErrs[Tissue] = IQ_diff1\n",
    "    plt.ylabel(\"Nonverbal IQ difference\")\n",
    "    plt.grid(True)\n",
    "    print(Tissue, np.median(IQ_diff1), np.mean(IQ_diff1))\n",
    "    plt.show()"
   ]
  },
  {
   "cell_type": "code",
   "execution_count": 184,
   "metadata": {},
   "outputs": [
    {
     "name": "stdout",
     "output_type": "stream",
     "text": [
      "MannwhitneyuResult(statistic=1828.5, pvalue=0.09338922629259405)\n",
      "MannwhitneyuResult(statistic=1824.0, pvalue=0.08994001524188489)\n"
     ]
    }
   ],
   "source": [
    "print(scipy.stats.mannwhitneyu(GTExDosagePredErrs[\"Brain\"], GTExDosagePredErrs[\"Blood\"], alternative=\"less\"))\n",
    "print(scipy.stats.mannwhitneyu(GTExDosagePredErrs[\"Brain\"], GTExDosagePredErrs[\"Skin\"], alternative=\"less\"))"
   ]
  },
  {
   "cell_type": "code",
   "execution_count": 182,
   "metadata": {},
   "outputs": [
    {
     "name": "stdout",
     "output_type": "stream",
     "text": [
      "WilcoxonResult(statistic=532.0, pvalue=0.04614173089383797)\n",
      "WilcoxonResult(statistic=612.5, pvalue=0.18695953897604678)\n"
     ]
    }
   ],
   "source": [
    "print(scipy.stats.wilcoxon(GTExDosagePredErrs[\"Brain\"], GTExDosagePredErrs[\"Blood\"]))\n",
    "print(scipy.stats.wilcoxon(GTExDosagePredErrs[\"Brain\"], GTExDosagePredErrs[\"Skin\"]))"
   ]
  },
  {
   "cell_type": "code",
   "execution_count": 167,
   "metadata": {},
   "outputs": [],
   "source": [
    "ExonCount = Variants.groupby(\"ExonID\")[\"ExonID\"].count()\n",
    "Variants[\"ExonCount\"] = Variants.apply(lambda row: ExonCount[row[\"ExonID\"]], axis=1)\n",
    "SameExon = Variants[Variants[\"ExonCount\"]>=2]"
   ]
  },
  {
   "cell_type": "code",
   "execution_count": null,
   "metadata": {},
   "outputs": [],
   "source": []
  }
 ],
 "metadata": {
  "kernelspec": {
   "display_name": "Python 3",
   "language": "python",
   "name": "python3"
  },
  "language_info": {
   "codemirror_mode": {
    "name": "ipython",
    "version": 3
   },
   "file_extension": ".py",
   "mimetype": "text/x-python",
   "name": "python",
   "nbconvert_exporter": "python",
   "pygments_lexer": "ipython3",
   "version": "3.7.1"
  }
 },
 "nbformat": 4,
 "nbformat_minor": 2
}
