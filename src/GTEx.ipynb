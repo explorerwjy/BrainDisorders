{
 "cells": [
  {
   "cell_type": "code",
   "execution_count": 267,
   "metadata": {},
   "outputs": [
    {
     "name": "stdout",
     "output_type": "stream",
     "text": [
      "The autoreload extension is already loaded. To reload it, use:\n",
      "  %reload_ext autoreload\n"
     ]
    }
   ],
   "source": [
    "%load_ext autoreload\n",
    "%autoreload 2\n",
    "from utils import *\n",
    "from IPython.display import display, HTML\n",
    "ins = BrainSpan()"
   ]
  },
  {
   "cell_type": "code",
   "execution_count": 2,
   "metadata": {},
   "outputs": [
    {
     "name": "stderr",
     "output_type": "stream",
     "text": [
      "/Users/jiayao/anaconda3/lib/python3.7/site-packages/IPython/core/interactiveshell.py:3020: DtypeWarning: Columns (1) have mixed types. Specify dtype option on import or set low_memory=False.\n",
      "  interactivity=interactivity, compiler=compiler, result=result)\n"
     ]
    }
   ],
   "source": [
    "gtex = pd.read_csv(\"../data/GTEx/GTEx.RecGenes.exon.rpkm.csv\")\n",
    "Exons = pd.read_csv(\"../data/GTEx/gencode.v19.genes.v7.patched_contigs.exons.txt\", delimiter=\"\\t\")\n",
    "Genes = pd.read_csv(\"../data/GTEx/GTEx.RecGenes.gene.rc.csv\")\n",
    "Samples = pd.read_csv(\"../data/GTEx/GTEx_v7_Annotations_SampleAttributesDS.txt\", delimiter=\"\\t\")\n",
    "Samples = Samples[Samples[\"SAMPID\"].isin(Genes.columns.values)]"
   ]
  },
  {
   "cell_type": "code",
   "execution_count": null,
   "metadata": {},
   "outputs": [],
   "source": [
    "print(Genes.columns.values)"
   ]
  },
  {
   "cell_type": "code",
   "execution_count": null,
   "metadata": {},
   "outputs": [],
   "source": [
    "gtex.head(2)"
   ]
  },
  {
   "cell_type": "code",
   "execution_count": null,
   "metadata": {},
   "outputs": [],
   "source": [
    "RecGenes = set(gtex[\"Description\"].values)\n",
    "RecGenesEns = set(Genes[\"Name\"].values)\n",
    "samples = Samples[\"SAMPID\"].values"
   ]
  },
  {
   "cell_type": "code",
   "execution_count": null,
   "metadata": {},
   "outputs": [],
   "source": [
    "for gene in list(RecGenes):\n",
    "    print(gene)\n",
    "    exon_dat, gene_dat = [], []\n",
    "    for sp in samples:\n",
    "        if sp not in set(Genes.columns):\n",
    "            continue\n",
    "        gene_sp_rc = Genes[Genes[\"Description\"]==gene][sp].values[0]\n",
    "        exon_sp_rc = sum(gtex[gtex[\"Description\"]==gene][sp].values)\n",
    "        exon_dat.append(exon_sp_rc)\n",
    "        gene_dat.append(gene_sp_rc)\n",
    "    plt.scatter(exon_dat, gene_dat)\n",
    "    plt.show()\n",
    "    #print(gene)"
   ]
  },
  {
   "cell_type": "code",
   "execution_count": null,
   "metadata": {},
   "outputs": [],
   "source": [
    "for l in open(\"../data/GTEx_Analysis_2016-01-15_v7_RNASeQCv1.1.8_gene_reads.gct\"):\n",
    "    if l.startswith(\"Name\"):\n",
    "        samples = l.strip().split(\"\\t\")[2:]\n",
    "        res = [0]*len(samples)\n",
    "    else:\n",
    "        llist = [float(x) for x in l.strip().split(\"\\t\")[2:]]\n",
    "        for i in range(len(llist)):\n",
    "            res[i] += float(llist[i])"
   ]
  },
  {
   "cell_type": "code",
   "execution_count": null,
   "metadata": {},
   "outputs": [],
   "source": [
    "print(len(res))"
   ]
  },
  {
   "cell_type": "code",
   "execution_count": null,
   "metadata": {},
   "outputs": [],
   "source": [
    "outfile = open(\"../data/GTEx.sample.total.readcount.txt\", 'wt')\n",
    "for sp, value in zip(samples, res):\n",
    "    outfile.write(\"{}\\t{}\\n\".format(sp, value))"
   ]
  },
  {
   "cell_type": "code",
   "execution_count": 159,
   "metadata": {},
   "outputs": [],
   "source": [
    "# summerize gene length and exon length\n",
    "\n",
    "gtx_exon = pd.read_csv(\"../data/GTEx/gencode.v19.genes.v7.patched_contigs.exons.txt\", delimiter=\"\\t\")\n",
    "gtx_exon[\"Gene\"] = gtx_exon.apply(lambda row:row[\"exon_id\"].split(\"_\")[0].split(\".\")[0], axis=1)\n",
    "gtx_exon[\"ExonLength\"] = gtx_exon[\"end_pos\"] - gtx_exon[\"start_pos\"]"
   ]
  },
  {
   "cell_type": "code",
   "execution_count": 160,
   "metadata": {},
   "outputs": [
    {
     "data": {
      "text/html": [
       "<div>\n",
       "<style scoped>\n",
       "    .dataframe tbody tr th:only-of-type {\n",
       "        vertical-align: middle;\n",
       "    }\n",
       "\n",
       "    .dataframe tbody tr th {\n",
       "        vertical-align: top;\n",
       "    }\n",
       "\n",
       "    .dataframe thead th {\n",
       "        text-align: right;\n",
       "    }\n",
       "</style>\n",
       "<table border=\"1\" class=\"dataframe\">\n",
       "  <thead>\n",
       "    <tr style=\"text-align: right;\">\n",
       "      <th></th>\n",
       "      <th>exon_id</th>\n",
       "      <th>chr</th>\n",
       "      <th>start_pos</th>\n",
       "      <th>end_pos</th>\n",
       "      <th>strand</th>\n",
       "      <th>Gene</th>\n",
       "      <th>ExonLength</th>\n",
       "    </tr>\n",
       "  </thead>\n",
       "  <tbody>\n",
       "    <tr>\n",
       "      <th>0</th>\n",
       "      <td>ENSG00000223972.4_1</td>\n",
       "      <td>1</td>\n",
       "      <td>11869</td>\n",
       "      <td>12227</td>\n",
       "      <td>+</td>\n",
       "      <td>ENSG00000223972</td>\n",
       "      <td>358</td>\n",
       "    </tr>\n",
       "    <tr>\n",
       "      <th>1</th>\n",
       "      <td>ENSG00000223972.4_2</td>\n",
       "      <td>1</td>\n",
       "      <td>12595</td>\n",
       "      <td>12721</td>\n",
       "      <td>+</td>\n",
       "      <td>ENSG00000223972</td>\n",
       "      <td>126</td>\n",
       "    </tr>\n",
       "  </tbody>\n",
       "</table>\n",
       "</div>"
      ],
      "text/plain": [
       "               exon_id chr  start_pos  end_pos strand             Gene  \\\n",
       "0  ENSG00000223972.4_1   1      11869    12227      +  ENSG00000223972   \n",
       "1  ENSG00000223972.4_2   1      12595    12721      +  ENSG00000223972   \n",
       "\n",
       "   ExonLength  \n",
       "0         358  \n",
       "1         126  "
      ]
     },
     "execution_count": 160,
     "metadata": {},
     "output_type": "execute_result"
    }
   ],
   "source": [
    "gtx_exon.head(2)"
   ]
  },
  {
   "cell_type": "code",
   "execution_count": 173,
   "metadata": {},
   "outputs": [],
   "source": [
    "ALL_GENES = set(gtx_exon[\"Gene\"].values)"
   ]
  },
  {
   "cell_type": "code",
   "execution_count": 161,
   "metadata": {},
   "outputs": [],
   "source": [
    "Exon2Length = dict(zip(gtx_exon[\"exon_id\"].values, gtx_exon[\"ExonLength\"].values))"
   ]
  },
  {
   "cell_type": "code",
   "execution_count": 175,
   "metadata": {},
   "outputs": [],
   "source": [
    "Ens2Length = {}\n",
    "for gene in list(ALL_GENES):\n",
    "    df = gtx_exon[gtx_exon[\"Gene\"]==gene]\n",
    "    Ens2Length[gene] = sum(df[\"ExonLength\"].values)"
   ]
  },
  {
   "cell_type": "code",
   "execution_count": 180,
   "metadata": {},
   "outputs": [],
   "source": [
    "#GeneRC2RPKM(SP2Libsize, Ens2Length)\n",
    "ExonRC2RPKM(SP2Libsize, Exon2Length)"
   ]
  },
  {
   "cell_type": "code",
   "execution_count": 182,
   "metadata": {},
   "outputs": [],
   "source": [
    "GeneRPKM = pd.read_csv(\"../data/GTEx/GTEx_180Indiv_gene_rpkm.txt\", delimiter=\"\\t\")\n",
    "ExonRPKM = pd.read_csv(\"../data/GTEx/GTEx_180Indiv_exon_rpkm.txt\", delimiter=\"\\t\")"
   ]
  },
  {
   "cell_type": "code",
   "execution_count": 263,
   "metadata": {},
   "outputs": [],
   "source": [
    "ALL_EXON_REL = []#[np.mean(ALLSameExon)]\n",
    "ALL_GENE_ZSCORE = []#[np.mean(ALLDiffExon)]\n",
    "Tissues = [\"Brain\", \"Blood\", \"Skin\", \"Heart\", \"Lung\"]\n",
    "for Tissue in Tissues:\n",
    "    all_exon_rel, all_gene_zscore = RelativeExonExp2GeneExp(GeneRPKM, SelectedTissueSamples, \n",
    "                                                        ExonRPKM, GTEx_LGDs, Genes, Tissue)\n",
    "    ALL_EXON_REL.append(all_exon_rel)\n",
    "    ALL_GENE_ZSCORE.append(all_gene_zscore)"
   ]
  },
  {
   "cell_type": "code",
   "execution_count": 325,
   "metadata": {},
   "outputs": [
    {
     "name": "stdout",
     "output_type": "stream",
     "text": [
      "4580 4580 4580\n"
     ]
    },
    {
     "data": {
      "image/png": "[encoded data removed]",
      "text/plain": [
       "<Figure size 432x288 with 1 Axes>"
      ]
     },
     "metadata": {
      "needs_background": "light"
     },
     "output_type": "display_data"
    }
   ],
   "source": [
    "x, y = [x for x in ALL_EXON_REL[1]], ALL_GENE_ZSCORE[1]\n",
    "X = sorted(zip(x,y), key=lambda x:x[1])\n",
    "x = [x for x,y in X]\n",
    "y = [y for x,y in X]\n",
    "plt.scatter(x, y, s=2)\n",
    "plt.xlim((0,5))\n",
    "#plt.ylim((-3,5))\n",
    "yMA = movingaverage(x,100)\n",
    "\n",
    "print(len(x), len(y), len(yMA))\n",
    "#plt.plot(x, yMA,\"r\")\n",
    "#plt.xscale('log')\n",
    "plt.show()"
   ]
  },
  {
   "cell_type": "code",
   "execution_count": 226,
   "metadata": {},
   "outputs": [],
   "source": [
    "Tissue = \"Blood\"\n",
    "Genes = list(set(GTEx_LGDs[\"SEVERE_GENE\"].values))\n",
    "ALL_EXON_REL, ALL_GENE_ZSCORE = RelativeExonExp2GeneExp(GeneRPKM, SelectedTissueSamples, \n",
    "                                                        ExonRPKM, GTEx_LGDs, Genes, Tissue)"
   ]
  },
  {
   "cell_type": "code",
   "execution_count": 258,
   "metadata": {},
   "outputs": [
    {
     "name": "stdout",
     "output_type": "stream",
     "text": [
      "SpearmanrResult(correlation=-0.29613493198580176, pvalue=4.187435038002678e-55)\n",
      "(nan, 1.0)\n"
     ]
    }
   ],
   "source": [
    "L1, L2 = [], []\n",
    "for x,y in zip(ALL_EXON_REL, ALL_GENE_ZSCORE):\n",
    "    if x == x and y == y:\n",
    "        L1.append(x)\n",
    "        L2.append(y)\n",
    "        #L2.append(min(y,0))\n",
    "print(spearmanr(L1, L2))\n",
    "print(pearsonr(L1, L2))"
   ]
  },
  {
   "cell_type": "code",
   "execution_count": 262,
   "metadata": {},
   "outputs": [
    {
     "data": {
      "image/png": "[encoded data removed]",
      "text/plain": [
       "<Figure size 432x288 with 1 Axes>"
      ]
     },
     "metadata": {
      "needs_background": "light"
     },
     "output_type": "display_data"
    }
   ],
   "source": [
    "plt.scatter(L1, L2, s=2)\n",
    "plt.xlim((0,5))\n",
    "#plt.xscale('log')\n",
    "plt.show()"
   ]
  },
  {
   "cell_type": "code",
   "execution_count": 229,
   "metadata": {},
   "outputs": [
    {
     "data": {
      "text/plain": [
       "(0, 10)"
      ]
     },
     "execution_count": 229,
     "metadata": {},
     "output_type": "execute_result"
    },
    {
     "data": {
      "image/png": "[encoded data removed]",
      "text/plain": [
       "<Figure size 432x288 with 1 Axes>"
      ]
     },
     "metadata": {
      "needs_background": "light"
     },
     "output_type": "display_data"
    }
   ],
   "source": [
    "Tissue = \"Skin\"\n",
    "Genes = list(set(GTEx_LGDs[\"SEVERE_GENE\"].values))\n",
    "ALL_EXON_REL, ALL_GENE_ZSCORE = RelativeExonExp2GeneExp(GeneRPKM, SelectedTissueSamples, \n",
    "                                                        ExonRPKM, GTEx_LGDs, Genes, Tissue)\n",
    "plt.scatter(ALL_EXON_REL, ALL_GENE_ZSCORE, s=2)\n",
    "plt.xlim((0,10))"
   ]
  },
  {
   "cell_type": "code",
   "execution_count": 230,
   "metadata": {},
   "outputs": [
    {
     "data": {
      "text/plain": [
       "(0, 10)"
      ]
     },
     "execution_count": 230,
     "metadata": {},
     "output_type": "execute_result"
    },
    {
     "data": {
      "image/png": "[encoded data removed]",
      "text/plain": [
       "<Figure size 432x288 with 1 Axes>"
      ]
     },
     "metadata": {
      "needs_background": "light"
     },
     "output_type": "display_data"
    }
   ],
   "source": [
    "Tissue = \"Brain\"\n",
    "Genes = list(set(GTEx_LGDs[\"SEVERE_GENE\"].values))\n",
    "ALL_EXON_REL, ALL_GENE_ZSCORE = RelativeExonExp2GeneExp(GeneRPKM, SelectedTissueSamples, \n",
    "                                                        ExonRPKM, GTEx_LGDs, Genes, Tissue)\n",
    "plt.scatter(ALL_EXON_REL, ALL_GENE_ZSCORE, s=2)\n",
    "plt.xlim((0,10))"
   ]
  },
  {
   "cell_type": "code",
   "execution_count": 240,
   "metadata": {},
   "outputs": [
    {
     "ename": "KeyboardInterrupt",
     "evalue": "",
     "output_type": "error",
     "traceback": [
      "\u001b[0;31m---------------------------------------------------------------------------\u001b[0m",
      "\u001b[0;31mKeyboardInterrupt\u001b[0m                         Traceback (most recent call last)",
      "\u001b[0;32m<ipython-input-240-81705520aede>\u001b[0m in \u001b[0;36m<module>\u001b[0;34m\u001b[0m\n\u001b[1;32m      2\u001b[0m \u001b[0mGenes\u001b[0m \u001b[0;34m=\u001b[0m \u001b[0mlist\u001b[0m\u001b[0;34m(\u001b[0m\u001b[0mset\u001b[0m\u001b[0;34m(\u001b[0m\u001b[0mGTEx_LGDs\u001b[0m\u001b[0;34m[\u001b[0m\u001b[0;34m\"SEVERE_GENE\"\u001b[0m\u001b[0;34m]\u001b[0m\u001b[0;34m.\u001b[0m\u001b[0mvalues\u001b[0m\u001b[0;34m)\u001b[0m\u001b[0;34m)\u001b[0m\u001b[0;34m\u001b[0m\u001b[0;34m\u001b[0m\u001b[0m\n\u001b[1;32m      3\u001b[0m ALL_EXON_REL, ALL_GENE_ZSCORE = RelativeExonExp2GeneExp(GeneRPKM, SelectedTissueSamples, \n\u001b[0;32m----> 4\u001b[0;31m                                                         ExonRPKM, GTEx_LGDs, Genes, Tissue)\n\u001b[0m\u001b[1;32m      5\u001b[0m \u001b[0mplt\u001b[0m\u001b[0;34m.\u001b[0m\u001b[0mscatter\u001b[0m\u001b[0;34m(\u001b[0m\u001b[0mALL_EXON_REL\u001b[0m\u001b[0;34m,\u001b[0m \u001b[0mALL_GENE_ZSCORE\u001b[0m\u001b[0;34m,\u001b[0m \u001b[0ms\u001b[0m\u001b[0;34m=\u001b[0m\u001b[0;36m2\u001b[0m\u001b[0;34m)\u001b[0m\u001b[0;34m\u001b[0m\u001b[0;34m\u001b[0m\u001b[0m\n\u001b[1;32m      6\u001b[0m \u001b[0mplt\u001b[0m\u001b[0;34m.\u001b[0m\u001b[0mxlim\u001b[0m\u001b[0;34m(\u001b[0m\u001b[0;34m(\u001b[0m\u001b[0;36m0\u001b[0m\u001b[0;34m,\u001b[0m\u001b[0;36m10\u001b[0m\u001b[0;34m)\u001b[0m\u001b[0;34m)\u001b[0m\u001b[0;34m\u001b[0m\u001b[0;34m\u001b[0m\u001b[0m\n",
      "\u001b[0;32m~/Work/BrainDisorders/src/utils.py\u001b[0m in \u001b[0;36mRelativeExonExp2GeneExp\u001b[0;34m(GeneRPKM, SelectedTissueSamples, ExonRPKM, GTEx_LGDs, Genes, Tissue)\u001b[0m\n\u001b[1;32m   2721\u001b[0m         \u001b[0;32mfor\u001b[0m \u001b[0msp\u001b[0m \u001b[0;32min\u001b[0m \u001b[0mExpDat\u001b[0m\u001b[0;34m[\u001b[0m\u001b[0;34m\"SAMPID\"\u001b[0m\u001b[0;34m]\u001b[0m\u001b[0;34m.\u001b[0m\u001b[0mvalues\u001b[0m\u001b[0;34m:\u001b[0m\u001b[0;34m\u001b[0m\u001b[0;34m\u001b[0m\u001b[0m\n\u001b[1;32m   2722\u001b[0m             \u001b[0mLog2ExpOfGeneTissue\u001b[0m\u001b[0;34m.\u001b[0m\u001b[0mappend\u001b[0m\u001b[0;34m(\u001b[0m\u001b[0m_GeneRPKM\u001b[0m\u001b[0;34m[\u001b[0m\u001b[0msp\u001b[0m\u001b[0;34m]\u001b[0m\u001b[0;34m)\u001b[0m\u001b[0;34m\u001b[0m\u001b[0;34m\u001b[0m\u001b[0m\n\u001b[0;32m-> 2723\u001b[0;31m         \u001b[0mLog2ExpOfGeneTissue\u001b[0m \u001b[0;34m=\u001b[0m \u001b[0;34m[\u001b[0m\u001b[0mmath\u001b[0m\u001b[0;34m.\u001b[0m\u001b[0mlog2\u001b[0m\u001b[0;34m(\u001b[0m\u001b[0mx\u001b[0m\u001b[0;34m+\u001b[0m\u001b[0;36m1\u001b[0m\u001b[0;34m)\u001b[0m \u001b[0;32mfor\u001b[0m \u001b[0mx\u001b[0m \u001b[0;32min\u001b[0m \u001b[0mLog2ExpOfGeneTissue\u001b[0m\u001b[0;34m]\u001b[0m\u001b[0;34m\u001b[0m\u001b[0;34m\u001b[0m\u001b[0m\n\u001b[0m\u001b[1;32m   2724\u001b[0m         \u001b[0mGeneTissueMean\u001b[0m \u001b[0;34m=\u001b[0m \u001b[0mnp\u001b[0m\u001b[0;34m.\u001b[0m\u001b[0mmean\u001b[0m\u001b[0;34m(\u001b[0m\u001b[0mLog2ExpOfGeneTissue\u001b[0m\u001b[0;34m)\u001b[0m\u001b[0;34m\u001b[0m\u001b[0;34m\u001b[0m\u001b[0m\n\u001b[1;32m   2725\u001b[0m         \u001b[0mGeneTissueStd\u001b[0m \u001b[0;34m=\u001b[0m \u001b[0mnp\u001b[0m\u001b[0;34m.\u001b[0m\u001b[0mstd\u001b[0m\u001b[0;34m(\u001b[0m\u001b[0mLog2ExpOfGeneTissue\u001b[0m\u001b[0;34m)\u001b[0m\u001b[0;34m\u001b[0m\u001b[0;34m\u001b[0m\u001b[0m\n",
      "\u001b[0;32m~/Work/BrainDisorders/src/utils.py\u001b[0m in \u001b[0;36m<listcomp>\u001b[0;34m(.0)\u001b[0m\n\u001b[1;32m   2721\u001b[0m         \u001b[0;32mfor\u001b[0m \u001b[0msp\u001b[0m \u001b[0;32min\u001b[0m \u001b[0mExpDat\u001b[0m\u001b[0;34m[\u001b[0m\u001b[0;34m\"SAMPID\"\u001b[0m\u001b[0;34m]\u001b[0m\u001b[0;34m.\u001b[0m\u001b[0mvalues\u001b[0m\u001b[0;34m:\u001b[0m\u001b[0;34m\u001b[0m\u001b[0;34m\u001b[0m\u001b[0m\n\u001b[1;32m   2722\u001b[0m             \u001b[0mLog2ExpOfGeneTissue\u001b[0m\u001b[0;34m.\u001b[0m\u001b[0mappend\u001b[0m\u001b[0;34m(\u001b[0m\u001b[0m_GeneRPKM\u001b[0m\u001b[0;34m[\u001b[0m\u001b[0msp\u001b[0m\u001b[0;34m]\u001b[0m\u001b[0;34m)\u001b[0m\u001b[0;34m\u001b[0m\u001b[0;34m\u001b[0m\u001b[0m\n\u001b[0;32m-> 2723\u001b[0;31m         \u001b[0mLog2ExpOfGeneTissue\u001b[0m \u001b[0;34m=\u001b[0m \u001b[0;34m[\u001b[0m\u001b[0mmath\u001b[0m\u001b[0;34m.\u001b[0m\u001b[0mlog2\u001b[0m\u001b[0;34m(\u001b[0m\u001b[0mx\u001b[0m\u001b[0;34m+\u001b[0m\u001b[0;36m1\u001b[0m\u001b[0;34m)\u001b[0m \u001b[0;32mfor\u001b[0m \u001b[0mx\u001b[0m \u001b[0;32min\u001b[0m \u001b[0mLog2ExpOfGeneTissue\u001b[0m\u001b[0;34m]\u001b[0m\u001b[0;34m\u001b[0m\u001b[0;34m\u001b[0m\u001b[0m\n\u001b[0m\u001b[1;32m   2724\u001b[0m         \u001b[0mGeneTissueMean\u001b[0m \u001b[0;34m=\u001b[0m \u001b[0mnp\u001b[0m\u001b[0;34m.\u001b[0m\u001b[0mmean\u001b[0m\u001b[0;34m(\u001b[0m\u001b[0mLog2ExpOfGeneTissue\u001b[0m\u001b[0;34m)\u001b[0m\u001b[0;34m\u001b[0m\u001b[0;34m\u001b[0m\u001b[0m\n\u001b[1;32m   2725\u001b[0m         \u001b[0mGeneTissueStd\u001b[0m \u001b[0;34m=\u001b[0m \u001b[0mnp\u001b[0m\u001b[0;34m.\u001b[0m\u001b[0mstd\u001b[0m\u001b[0;34m(\u001b[0m\u001b[0mLog2ExpOfGeneTissue\u001b[0m\u001b[0;34m)\u001b[0m\u001b[0;34m\u001b[0m\u001b[0;34m\u001b[0m\u001b[0m\n",
      "\u001b[0;32m~/anaconda3/lib/python3.7/site-packages/pandas/core/ops.py\u001b[0m in \u001b[0;36mwrapper\u001b[0;34m(left, right)\u001b[0m\n\u001b[1;32m   1067\u001b[0m             \u001b[0mrvalues\u001b[0m \u001b[0;34m=\u001b[0m \u001b[0mrvalues\u001b[0m\u001b[0;34m.\u001b[0m\u001b[0mvalues\u001b[0m\u001b[0;34m\u001b[0m\u001b[0;34m\u001b[0m\u001b[0m\n\u001b[1;32m   1068\u001b[0m \u001b[0;34m\u001b[0m\u001b[0m\n\u001b[0;32m-> 1069\u001b[0;31m         \u001b[0mresult\u001b[0m \u001b[0;34m=\u001b[0m \u001b[0msafe_na_op\u001b[0m\u001b[0;34m(\u001b[0m\u001b[0mlvalues\u001b[0m\u001b[0;34m,\u001b[0m \u001b[0mrvalues\u001b[0m\u001b[0;34m)\u001b[0m\u001b[0;34m\u001b[0m\u001b[0;34m\u001b[0m\u001b[0m\n\u001b[0m\u001b[1;32m   1070\u001b[0m         return construct_result(left, result,\n\u001b[1;32m   1071\u001b[0m                                 index=left.index, name=res_name, dtype=None)\n",
      "\u001b[0;32m~/anaconda3/lib/python3.7/site-packages/pandas/core/ops.py\u001b[0m in \u001b[0;36msafe_na_op\u001b[0;34m(lvalues, rvalues)\u001b[0m\n\u001b[1;32m   1031\u001b[0m         \u001b[0;32mtry\u001b[0m\u001b[0;34m:\u001b[0m\u001b[0;34m\u001b[0m\u001b[0;34m\u001b[0m\u001b[0m\n\u001b[1;32m   1032\u001b[0m             \u001b[0;32mwith\u001b[0m \u001b[0mnp\u001b[0m\u001b[0;34m.\u001b[0m\u001b[0merrstate\u001b[0m\u001b[0;34m(\u001b[0m\u001b[0mall\u001b[0m\u001b[0;34m=\u001b[0m\u001b[0;34m'ignore'\u001b[0m\u001b[0;34m)\u001b[0m\u001b[0;34m:\u001b[0m\u001b[0;34m\u001b[0m\u001b[0;34m\u001b[0m\u001b[0m\n\u001b[0;32m-> 1033\u001b[0;31m                 \u001b[0;32mreturn\u001b[0m \u001b[0mna_op\u001b[0m\u001b[0;34m(\u001b[0m\u001b[0mlvalues\u001b[0m\u001b[0;34m,\u001b[0m \u001b[0mrvalues\u001b[0m\u001b[0;34m)\u001b[0m\u001b[0;34m\u001b[0m\u001b[0;34m\u001b[0m\u001b[0m\n\u001b[0m\u001b[1;32m   1034\u001b[0m         \u001b[0;32mexcept\u001b[0m \u001b[0mException\u001b[0m\u001b[0;34m:\u001b[0m\u001b[0;34m\u001b[0m\u001b[0;34m\u001b[0m\u001b[0m\n\u001b[1;32m   1035\u001b[0m             \u001b[0;32mif\u001b[0m \u001b[0mis_object_dtype\u001b[0m\u001b[0;34m(\u001b[0m\u001b[0mlvalues\u001b[0m\u001b[0;34m)\u001b[0m\u001b[0;34m:\u001b[0m\u001b[0;34m\u001b[0m\u001b[0;34m\u001b[0m\u001b[0m\n",
      "\u001b[0;32m~/anaconda3/lib/python3.7/site-packages/pandas/core/ops.py\u001b[0m in \u001b[0;36mna_op\u001b[0;34m(x, y)\u001b[0m\n\u001b[1;32m   1010\u001b[0m \u001b[0;34m\u001b[0m\u001b[0m\n\u001b[1;32m   1011\u001b[0m         \u001b[0;32mtry\u001b[0m\u001b[0;34m:\u001b[0m\u001b[0;34m\u001b[0m\u001b[0;34m\u001b[0m\u001b[0m\n\u001b[0;32m-> 1012\u001b[0;31m             \u001b[0mresult\u001b[0m \u001b[0;34m=\u001b[0m \u001b[0mexpressions\u001b[0m\u001b[0;34m.\u001b[0m\u001b[0mevaluate\u001b[0m\u001b[0;34m(\u001b[0m\u001b[0mop\u001b[0m\u001b[0;34m,\u001b[0m \u001b[0mstr_rep\u001b[0m\u001b[0;34m,\u001b[0m \u001b[0mx\u001b[0m\u001b[0;34m,\u001b[0m \u001b[0my\u001b[0m\u001b[0;34m,\u001b[0m \u001b[0;34m**\u001b[0m\u001b[0meval_kwargs\u001b[0m\u001b[0;34m)\u001b[0m\u001b[0;34m\u001b[0m\u001b[0;34m\u001b[0m\u001b[0m\n\u001b[0m\u001b[1;32m   1013\u001b[0m         \u001b[0;32mexcept\u001b[0m \u001b[0mTypeError\u001b[0m\u001b[0;34m:\u001b[0m\u001b[0;34m\u001b[0m\u001b[0;34m\u001b[0m\u001b[0m\n\u001b[1;32m   1014\u001b[0m             \u001b[0;32mif\u001b[0m \u001b[0misinstance\u001b[0m\u001b[0;34m(\u001b[0m\u001b[0my\u001b[0m\u001b[0;34m,\u001b[0m \u001b[0;34m(\u001b[0m\u001b[0mnp\u001b[0m\u001b[0;34m.\u001b[0m\u001b[0mndarray\u001b[0m\u001b[0;34m,\u001b[0m \u001b[0mABCSeries\u001b[0m\u001b[0;34m,\u001b[0m \u001b[0mpd\u001b[0m\u001b[0;34m.\u001b[0m\u001b[0mIndex\u001b[0m\u001b[0;34m)\u001b[0m\u001b[0;34m)\u001b[0m\u001b[0;34m:\u001b[0m\u001b[0;34m\u001b[0m\u001b[0;34m\u001b[0m\u001b[0m\n",
      "\u001b[0;32m~/anaconda3/lib/python3.7/site-packages/pandas/core/computation/expressions.py\u001b[0m in \u001b[0;36mevaluate\u001b[0;34m(op, op_str, a, b, use_numexpr, **eval_kwargs)\u001b[0m\n\u001b[1;32m    203\u001b[0m     \u001b[0muse_numexpr\u001b[0m \u001b[0;34m=\u001b[0m \u001b[0muse_numexpr\u001b[0m \u001b[0;32mand\u001b[0m \u001b[0m_bool_arith_check\u001b[0m\u001b[0;34m(\u001b[0m\u001b[0mop_str\u001b[0m\u001b[0;34m,\u001b[0m \u001b[0ma\u001b[0m\u001b[0;34m,\u001b[0m \u001b[0mb\u001b[0m\u001b[0;34m)\u001b[0m\u001b[0;34m\u001b[0m\u001b[0;34m\u001b[0m\u001b[0m\n\u001b[1;32m    204\u001b[0m     \u001b[0;32mif\u001b[0m \u001b[0muse_numexpr\u001b[0m\u001b[0;34m:\u001b[0m\u001b[0;34m\u001b[0m\u001b[0;34m\u001b[0m\u001b[0m\n\u001b[0;32m--> 205\u001b[0;31m         \u001b[0;32mreturn\u001b[0m \u001b[0m_evaluate\u001b[0m\u001b[0;34m(\u001b[0m\u001b[0mop\u001b[0m\u001b[0;34m,\u001b[0m \u001b[0mop_str\u001b[0m\u001b[0;34m,\u001b[0m \u001b[0ma\u001b[0m\u001b[0;34m,\u001b[0m \u001b[0mb\u001b[0m\u001b[0;34m,\u001b[0m \u001b[0;34m**\u001b[0m\u001b[0meval_kwargs\u001b[0m\u001b[0;34m)\u001b[0m\u001b[0;34m\u001b[0m\u001b[0;34m\u001b[0m\u001b[0m\n\u001b[0m\u001b[1;32m    206\u001b[0m     \u001b[0;32mreturn\u001b[0m \u001b[0m_evaluate_standard\u001b[0m\u001b[0;34m(\u001b[0m\u001b[0mop\u001b[0m\u001b[0;34m,\u001b[0m \u001b[0mop_str\u001b[0m\u001b[0;34m,\u001b[0m \u001b[0ma\u001b[0m\u001b[0;34m,\u001b[0m \u001b[0mb\u001b[0m\u001b[0;34m)\u001b[0m\u001b[0;34m\u001b[0m\u001b[0;34m\u001b[0m\u001b[0m\n\u001b[1;32m    207\u001b[0m \u001b[0;34m\u001b[0m\u001b[0m\n",
      "\u001b[0;32m~/anaconda3/lib/python3.7/site-packages/pandas/core/computation/expressions.py\u001b[0m in \u001b[0;36m_evaluate_numexpr\u001b[0;34m(op, op_str, a, b, truediv, reversed, **eval_kwargs)\u001b[0m\n\u001b[1;32m    118\u001b[0m \u001b[0;34m\u001b[0m\u001b[0m\n\u001b[1;32m    119\u001b[0m     \u001b[0;32mif\u001b[0m \u001b[0mresult\u001b[0m \u001b[0;32mis\u001b[0m \u001b[0;32mNone\u001b[0m\u001b[0;34m:\u001b[0m\u001b[0;34m\u001b[0m\u001b[0;34m\u001b[0m\u001b[0m\n\u001b[0;32m--> 120\u001b[0;31m         \u001b[0mresult\u001b[0m \u001b[0;34m=\u001b[0m \u001b[0m_evaluate_standard\u001b[0m\u001b[0;34m(\u001b[0m\u001b[0mop\u001b[0m\u001b[0;34m,\u001b[0m \u001b[0mop_str\u001b[0m\u001b[0;34m,\u001b[0m \u001b[0ma\u001b[0m\u001b[0;34m,\u001b[0m \u001b[0mb\u001b[0m\u001b[0;34m)\u001b[0m\u001b[0;34m\u001b[0m\u001b[0;34m\u001b[0m\u001b[0m\n\u001b[0m\u001b[1;32m    121\u001b[0m \u001b[0;34m\u001b[0m\u001b[0m\n\u001b[1;32m    122\u001b[0m     \u001b[0;32mreturn\u001b[0m \u001b[0mresult\u001b[0m\u001b[0;34m\u001b[0m\u001b[0;34m\u001b[0m\u001b[0m\n",
      "\u001b[0;32m~/anaconda3/lib/python3.7/site-packages/pandas/core/computation/expressions.py\u001b[0m in \u001b[0;36m_evaluate_standard\u001b[0;34m(op, op_str, a, b, **eval_kwargs)\u001b[0m\n\u001b[1;32m     62\u001b[0m     \u001b[0;32mif\u001b[0m \u001b[0m_TEST_MODE\u001b[0m\u001b[0;34m:\u001b[0m\u001b[0;34m\u001b[0m\u001b[0;34m\u001b[0m\u001b[0m\n\u001b[1;32m     63\u001b[0m         \u001b[0m_store_test_result\u001b[0m\u001b[0;34m(\u001b[0m\u001b[0;32mFalse\u001b[0m\u001b[0;34m)\u001b[0m\u001b[0;34m\u001b[0m\u001b[0;34m\u001b[0m\u001b[0m\n\u001b[0;32m---> 64\u001b[0;31m     \u001b[0;32mwith\u001b[0m \u001b[0mnp\u001b[0m\u001b[0;34m.\u001b[0m\u001b[0merrstate\u001b[0m\u001b[0;34m(\u001b[0m\u001b[0mall\u001b[0m\u001b[0;34m=\u001b[0m\u001b[0;34m'ignore'\u001b[0m\u001b[0;34m)\u001b[0m\u001b[0;34m:\u001b[0m\u001b[0;34m\u001b[0m\u001b[0;34m\u001b[0m\u001b[0m\n\u001b[0m\u001b[1;32m     65\u001b[0m         \u001b[0;32mreturn\u001b[0m \u001b[0mop\u001b[0m\u001b[0;34m(\u001b[0m\u001b[0ma\u001b[0m\u001b[0;34m,\u001b[0m \u001b[0mb\u001b[0m\u001b[0;34m)\u001b[0m\u001b[0;34m\u001b[0m\u001b[0;34m\u001b[0m\u001b[0m\n\u001b[1;32m     66\u001b[0m \u001b[0;34m\u001b[0m\u001b[0m\n",
      "\u001b[0;32m~/anaconda3/lib/python3.7/site-packages/numpy/core/numeric.py\u001b[0m in \u001b[0;36m__enter__\u001b[0;34m(self)\u001b[0m\n\u001b[1;32m   2890\u001b[0m \u001b[0;34m\u001b[0m\u001b[0m\n\u001b[1;32m   2891\u001b[0m     \u001b[0;32mdef\u001b[0m \u001b[0m__enter__\u001b[0m\u001b[0;34m(\u001b[0m\u001b[0mself\u001b[0m\u001b[0;34m)\u001b[0m\u001b[0;34m:\u001b[0m\u001b[0;34m\u001b[0m\u001b[0;34m\u001b[0m\u001b[0m\n\u001b[0;32m-> 2892\u001b[0;31m         \u001b[0mself\u001b[0m\u001b[0;34m.\u001b[0m\u001b[0moldstate\u001b[0m \u001b[0;34m=\u001b[0m \u001b[0mseterr\u001b[0m\u001b[0;34m(\u001b[0m\u001b[0;34m**\u001b[0m\u001b[0mself\u001b[0m\u001b[0;34m.\u001b[0m\u001b[0mkwargs\u001b[0m\u001b[0;34m)\u001b[0m\u001b[0;34m\u001b[0m\u001b[0;34m\u001b[0m\u001b[0m\n\u001b[0m\u001b[1;32m   2893\u001b[0m         \u001b[0;32mif\u001b[0m \u001b[0mself\u001b[0m\u001b[0;34m.\u001b[0m\u001b[0mcall\u001b[0m \u001b[0;32mis\u001b[0m \u001b[0;32mnot\u001b[0m \u001b[0m_Unspecified\u001b[0m\u001b[0;34m:\u001b[0m\u001b[0;34m\u001b[0m\u001b[0;34m\u001b[0m\u001b[0m\n\u001b[1;32m   2894\u001b[0m             \u001b[0mself\u001b[0m\u001b[0;34m.\u001b[0m\u001b[0moldcall\u001b[0m \u001b[0;34m=\u001b[0m \u001b[0mseterrcall\u001b[0m\u001b[0;34m(\u001b[0m\u001b[0mself\u001b[0m\u001b[0;34m.\u001b[0m\u001b[0mcall\u001b[0m\u001b[0;34m)\u001b[0m\u001b[0;34m\u001b[0m\u001b[0;34m\u001b[0m\u001b[0m\n",
      "\u001b[0;32m~/anaconda3/lib/python3.7/site-packages/numpy/core/numeric.py\u001b[0m in \u001b[0;36mseterr\u001b[0;34m(all, divide, over, under, invalid)\u001b[0m\n\u001b[1;32m   2489\u001b[0m \u001b[0;34m\u001b[0m\u001b[0m\n\u001b[1;32m   2490\u001b[0m \u001b[0;34m\u001b[0m\u001b[0m\n\u001b[0;32m-> 2491\u001b[0;31m \u001b[0;32mdef\u001b[0m \u001b[0mseterr\u001b[0m\u001b[0;34m(\u001b[0m\u001b[0mall\u001b[0m\u001b[0;34m=\u001b[0m\u001b[0;32mNone\u001b[0m\u001b[0;34m,\u001b[0m \u001b[0mdivide\u001b[0m\u001b[0;34m=\u001b[0m\u001b[0;32mNone\u001b[0m\u001b[0;34m,\u001b[0m \u001b[0mover\u001b[0m\u001b[0;34m=\u001b[0m\u001b[0;32mNone\u001b[0m\u001b[0;34m,\u001b[0m \u001b[0munder\u001b[0m\u001b[0;34m=\u001b[0m\u001b[0;32mNone\u001b[0m\u001b[0;34m,\u001b[0m \u001b[0minvalid\u001b[0m\u001b[0;34m=\u001b[0m\u001b[0;32mNone\u001b[0m\u001b[0;34m)\u001b[0m\u001b[0;34m:\u001b[0m\u001b[0;34m\u001b[0m\u001b[0;34m\u001b[0m\u001b[0m\n\u001b[0m\u001b[1;32m   2492\u001b[0m     \"\"\"\n\u001b[1;32m   2493\u001b[0m     \u001b[0mSet\u001b[0m \u001b[0mhow\u001b[0m \u001b[0mfloating\u001b[0m\u001b[0;34m-\u001b[0m\u001b[0mpoint\u001b[0m \u001b[0merrors\u001b[0m \u001b[0mare\u001b[0m \u001b[0mhandled\u001b[0m\u001b[0;34m.\u001b[0m\u001b[0;34m\u001b[0m\u001b[0;34m\u001b[0m\u001b[0m\n",
      "\u001b[0;31mKeyboardInterrupt\u001b[0m: "
     ]
    }
   ],
   "source": [
    "Tissue = \"Heart\"\n",
    "Genes = list(set(GTEx_LGDs[\"SEVERE_GENE\"].values))\n",
    "ALL_EXON_REL, ALL_GENE_ZSCORE = RelativeExonExp2GeneExp(GeneRPKM, SelectedTissueSamples, \n",
    "                                                        ExonRPKM, GTEx_LGDs, Genes, Tissue)\n",
    "plt.scatter(ALL_EXON_REL, ALL_GENE_ZSCORE, s=2)\n",
    "plt.xlim((0,10))\n",
    "ax.set_yscale('log')\n",
    "plt.show()"
   ]
  },
  {
   "cell_type": "code",
   "execution_count": 239,
   "metadata": {},
   "outputs": [
    {
     "name": "stdout",
     "output_type": "stream",
     "text": [
      "SpearmanrResult(correlation=-0.29613493198580176, pvalue=4.187435038002678e-55)\n",
      "(nan, 1.0)\n"
     ]
    }
   ],
   "source": [
    "L1, L2 = [], []\n",
    "for x,y in zip(ALL_EXON_REL, ALL_GENE_ZSCORE):\n",
    "    if x == x and y == y:\n",
    "        L1.append(x)\n",
    "        L2.append(y)\n",
    "print(spearmanr(L1, L2))\n",
    "print(pearsonr(L1, L2))"
   ]
  },
  {
   "cell_type": "code",
   "execution_count": null,
   "metadata": {},
   "outputs": [],
   "source": [
    "#Samples.groupby(\"SMTS\").count()[\"SAMPID\"]\n",
    "# Brain, Blood, Skin\n",
    "BrainSamples = Samples[Samples[\"SMTS\"]==\"Brain\"][\"SAMPID\"].values\n",
    "BloodSamples = Samples[Samples[\"SMTS\"]==\"Blood\"][\"SAMPID\"].values\n",
    "SkinSamples = Samples[Samples[\"SMTS\"]==\"Skin\"][\"SAMPID\"].values"
   ]
  },
  {
   "cell_type": "code",
   "execution_count": 165,
   "metadata": {},
   "outputs": [],
   "source": [
    "fin = open(\"../data/GTEx/GTEx.sample.total.readcount.txt\", 'rt')\n",
    "SP2Libsize = {}\n",
    "for l in fin:\n",
    "    sp, libsize = l.split(\"\\t\")\n",
    "    SP2Libsize[sp] = float(libsize)"
   ]
  },
  {
   "cell_type": "code",
   "execution_count": null,
   "metadata": {},
   "outputs": [],
   "source": [
    "# Get Gene RPKM\n",
    "GeneRC = pd.read_csv(\"../data/GTEx.RecGenes.gene.rc.csv\")\n",
    "GeneRC.set_index(\"Name\", inplace=True)\n",
    "for SP in GeneRC.columns.values[1:]:\n",
    "    for gene in GeneRC.index.values:\n",
    "        #rint(GeneRC.loc[gene, SP])\n",
    "        GeneRC.loc[gene, SP] = round(RPKM(GeneRC.loc[gene, SP], Ens2Length[gene], SP2Libsize[SP]), 2)\n",
    "GeneRC.to_csv(\"../data/GTEx.RecGenes.gene.rpkm.csv\", index=\"False\")"
   ]
  },
  {
   "cell_type": "code",
   "execution_count": null,
   "metadata": {},
   "outputs": [],
   "source": [
    "# Get Exon RPKM\n",
    "ExonRC = pd.read_csv(\"../data/GTEx.RecGenes.exon.rc.csv\")\n",
    "ExonRC.set_index(\"Name\", inplace=True)\n",
    "for SP in ExonRC.columns.values[1:]:\n",
    "    for exon in ExonRC.index.values:\n",
    "        ExonRC.loc[exon, SP] = round(RPKM(ExonRC.loc[exon, SP], Exon2Length[exon], SP2Libsize[SP]), 2)\n",
    "ExonRC.to_csv(\"../data/GTEx.RecGenes.exon.rpkm.csv\", index=\"False\")"
   ]
  },
  {
   "cell_type": "code",
   "execution_count": null,
   "metadata": {},
   "outputs": [],
   "source": [
    "GeneRPKM = pd.read_csv(\"../data/GTEx.RecGenes.gene.rpkm.csv\")\n",
    "GeneRPKM.set_index(\"Name\", inplace=True)\n",
    "GeneRPKM.head(2)"
   ]
  },
  {
   "cell_type": "code",
   "execution_count": null,
   "metadata": {},
   "outputs": [],
   "source": [
    "ExonRPKM = pd.read_csv(\"../data/GTEx.RecGenes.exon.rpkm.csv\")\n",
    "ExonRPKM.set_index(\"Name\", inplace=True)\n",
    "ExonRPKM.head(2)"
   ]
  },
  {
   "cell_type": "code",
   "execution_count": null,
   "metadata": {},
   "outputs": [],
   "source": [
    "print(BrainSamples)"
   ]
  },
  {
   "cell_type": "code",
   "execution_count": null,
   "metadata": {},
   "outputs": [],
   "source": [
    "# GeneExpinTissues\n",
    "BrainExp = GeneRPKM[BrainSamples]\n",
    "BloodExp = GeneRPKM[BloodSamples]\n",
    "SkinExp = GeneRPKM[SkinSamples]\n",
    "\n",
    "Tissue2Exp = {}\n",
    "Tissue2Exp[\"Brain\"] = (GeneRPKM[[\"Description\"]+list(BrainSamples)], ExonRPKM[[\"Description\"]+list(BrainSamples)])\n",
    "Tissue2Exp[\"Blood\"] = (GeneRPKM[[\"Description\"]+list(BloodSamples)], ExonRPKM[[\"Description\"]+list(BloodSamples)])\n",
    "Tissue2Exp[\"Skin\"]  = (GeneRPKM[[\"Description\"]+list(SkinSamples)], ExonRPKM[[\"Description\"]+list(SkinSamples)])"
   ]
  },
  {
   "cell_type": "code",
   "execution_count": null,
   "metadata": {},
   "outputs": [],
   "source": [
    "Tissue2Exp[\"Brain\"][1].head(2)"
   ]
  },
  {
   "cell_type": "code",
   "execution_count": null,
   "metadata": {},
   "outputs": [],
   "source": [
    "Gene = \"ENSG00000136531.9\"\n",
    "Gene = \"ENSG00000114861.14\"\n",
    "Gene = \"ENSG00000157540.15\"\n",
    "ax = plt.subplot(111)\n",
    "pos = [1,2,3]\n",
    "plt.violinplot([BrainExp.loc[Gene,:].values, BloodExp.loc[Gene,:].values, SkinExp.loc[Gene,:].values], pos)\n",
    "ax.set_xticks(pos)\n",
    "ax.set_xticklabels([\"Brain\", \"Blood\", \"Skin\"])\n",
    "plt.xlabel\n",
    "plt.show()"
   ]
  },
  {
   "cell_type": "code",
   "execution_count": null,
   "metadata": {},
   "outputs": [],
   "source": [
    "Jiayao_features = pd.read_csv(\"unifiedmodel/features.jiayao.65.csv\")\n",
    "Variants = Jiayao_features[['familyId', 'vcfVariant', 'inChild', 'effectGene', 'effectType',\n",
    "       'gender', 'VIQ', 'NVIQ', 'Age',]]\n",
    "Variants.loc[Variants[\"effectGene\"]==\"MLL5\", \"effectGene\"] = \"KMT2E\" #MLL5 \n",
    "Variants.columns"
   ]
  },
  {
   "cell_type": "code",
   "execution_count": null,
   "metadata": {},
   "outputs": [],
   "source": [
    "Gene2Ens = pd.read_csv(\"../data/GTEx.ENSG2SYMBOL.txt\", delimiter=\"\\t\", names=[1,2])\n",
    "Gene2Ens = dict(zip(Gene2Ens[2].values, Gene2Ens[1].values))"
   ]
  },
  {
   "cell_type": "code",
   "execution_count": null,
   "metadata": {},
   "outputs": [],
   "source": [
    "def sudogmean(values):\n",
    "    values = [(x+1) for x in values]\n",
    "    gmean = scipy.stats.mstats.gmean(values)\n",
    "    return gmean-1\n",
    "def searchExon(Gene, Chr, Pos, Ref, Alt, ExonRow):\n",
    "    Pos, LenV = int(Pos), len(Ref)-len(Alt)\n",
    "    ExonRow = ExonRow[ExonRow[\"Gene\"]==Gene2Ens[Gene]]\n",
    "    for i, row in ExonRow.iterrows():\n",
    "        exon_id, start, end = row[\"exon_id\"],int(row[\"start_pos\"]),int(row[\"end_pos\"])\n",
    "        if Pos > start -3 and Pos < end + 3:\n",
    "            return exon_id\n",
    "        elif LenV > 0: # a delition may span a splice site\n",
    "            if (Pos < start-3 and Pos + LenV > start ) or (Pos < end and Pos + LenV > end +3):\n",
    "                return exon_id\n",
    "    return 0\n",
    "\n",
    "Variants[\"ExonID\"] = 0\n",
    "for Tissue in [\"Brain\", \"Blood\", \"Skin\"]:\n",
    "    Variants[\"%sGeneExp.amean\"%Tissue] = 0.0\n",
    "    Variants[\"%sGeneExp.gmean\"%Tissue] = 0.0\n",
    "    Variants[\"%sExonExp.amean\"%Tissue] = 0.0\n",
    "    Variants[\"%sExonExp.gmean\"%Tissue] = 0.0\n",
    "for i, row in Variants.iterrows():\n",
    "    famid, gene, (Chr, Pos, Ref, Alt) = row[\"familyId\"], row[\"effectGene\"], row[\"vcfVariant\"].split(\":\")\n",
    "    #ens = Ens2Gene(gene)\n",
    "    try:\n",
    "        Variants.loc[i, \"Age\"] = famid2age[str(famid)]\n",
    "    except:\n",
    "        Variants.loc[i, \"Age\"] = 0\n",
    "    try:\n",
    "        #GeneExp = GeneRPKM[GeneRPKM[\"Description\"]==gene]\n",
    "        for Tissue in [\"Brain\", \"Blood\", \"Skin\"]:\n",
    "            df = Tissue2Exp[Tissue][0]\n",
    "            #TissueExp = df.loc[Gene,:]\n",
    "            TissueExp = df[df[\"Description\"]==gene].values[0][1:]\n",
    "            gene_nmean, gene_gmean = np.mean(TissueExp), sudogmean(TissueExp)\n",
    "            Variants[\"%sGeneExp.amean\"%Tissue] = gene_nmean\n",
    "            Variants[\"%sGeneExp.gmean\"%Tissue] = gene_gmean\n",
    "    except IndexError:\n",
    "        print(\"gene not find\", famid, gene)\n",
    "    \n",
    "    exonId = searchExon(gene, Chr, Pos, Ref, Alt, gtx_exon)\n",
    "    \n",
    "    if len(Ref) == len(Alt):\n",
    "        Variants.loc[i, \"KEY\"] = \"%s-%s:%d\"%(famid, Chr, int(Pos))\n",
    "    else:\n",
    "        Variants.loc[i, \"KEY\"] = \"%s-%s:%d\"%(famid, Chr, int(Pos)+1)\n",
    "    if exonId != 0:\n",
    "        Variants.loc[i, \"ExonID\"] = exonId\n",
    "        \n",
    "        for Tissue in [\"Brain\", \"Blood\", \"Skin\"]:\n",
    "            df = Tissue2Exp[Tissue][1]\n",
    "            TissueExp = df[df.index==exonId].values[0][1:]\n",
    "            exon_nmean, exon_gmean = np.mean(TissueExp), sudogmean(TissueExp)\n",
    "            Variants.loc[i, \"%sExonExp.amean\"%Tissue] = exon_nmean\n",
    "            Variants.loc[i, \"%sExonExp.gmean\"%Tissue] = exon_gmean\n",
    "            Variants.loc[i, \"%sRel.exp.amean\"%Tissue] = exon_nmean/Variants.loc[i, \"%sGeneExp.amean\"%Tissue]\n",
    "            Variants.loc[i, \"%sRel.exp.gmean\"%Tissue] = exon_gmean/Variants.loc[i, \"%sGeneExp.gmean\"%Tissue]\n",
    "    else:\n",
    "        print(\"exon not find\", famid, gene)"
   ]
  },
  {
   "cell_type": "code",
   "execution_count": null,
   "metadata": {},
   "outputs": [],
   "source": [
    "print(Variants.shape)\n",
    "Variants.head()\n",
    "Variants.to_csv(\"../data/GTEx.2Tissue.Pred.65.csv\", index=False)"
   ]
  },
  {
   "cell_type": "code",
   "execution_count": null,
   "metadata": {},
   "outputs": [],
   "source": [
    "Tissue = \"Brain\"\n",
    "gene2slope = {}\n",
    "ALL_RelExp = np.array([])\n",
    "ALL_Normed_IQD = np.array([])\n",
    "Genes = list(set(Variants[\"effectGene\"].values))\n",
    "for gene in Genes:\n",
    "    df = Variants[Variants[\"effectGene\"]==gene]\n",
    "    IQs = [max(0, (100-x)) for x in df[\"NVIQ\"].values]\n",
    "    #rel_exps = [x for x in df[\"Rel.exp.amean\"].values] #Rel.exp.prenatal\n",
    "    #rel_exps = [x for x in df[\"Rel.exp.prenatal\"].values] #Rel.exp.prenatal\n",
    "    rel_exps = [x for x in df[\"%sRel.exp.amean\"%Tissue].values]\n",
    "    regr = regGene(rel_exps, IQs)\n",
    "    slope = regr.coef_[0]\n",
    "    #if slope == 0:\n",
    "    #    continue\n",
    "    gene2slope[gene] = slope\n",
    "    ALL_RelExp = np.append(ALL_RelExp, rel_exps)\n",
    "    NormIQDs = np.array([x/slope for x in IQs])\n",
    "    ALL_Normed_IQD = np.append(ALL_Normed_IQD, NormIQDs)"
   ]
  },
  {
   "cell_type": "code",
   "execution_count": null,
   "metadata": {},
   "outputs": [],
   "source": [
    "model = linear_model.LinearRegression(fit_intercept=False)\n",
    "ALL_RelExp = ALL_RelExp.reshape(-1,1)\n",
    "R, P = scipy.stats.pearsonr([x[0] for x in ALL_RelExp], ALL_Normed_IQD) \n",
    "R, P = scipy.stats.spearmanr([x[0] for x in ALL_RelExp], ALL_Normed_IQD) \n",
    "plt.figure(figsize=(4,4), dpi=120)\n",
    "plt.title(\"Relative expression of exon containing LGD mutation\")\n",
    "model.fit(ALL_RelExp, ALL_Normed_IQD)\n",
    "plt.scatter(ALL_RelExp, ALL_Normed_IQD, s=40, facecolors='none', edgecolors='black')\n",
    "plt.plot([0, 5], [0,model.predict([[5.0]])], color='red')\n",
    "plt.text(0, 2.7, \"R=%.3f\"%(R))\n",
    "#plt.xlim((0,5))\n",
    "#plt.ylim((0,5))\n",
    "plt.show()"
   ]
  },
  {
   "cell_type": "code",
   "execution_count": null,
   "metadata": {},
   "outputs": [],
   "source": [
    "Variants = pd.read_csv(\"../data/GTEx.2Tissue.Pred.65.csv\")\n",
    "ExcludeList = [\"13398-1:151377904\", \"13627-1:151378489\", \"13664-1:202698172\", \"13447-6:157527665\", \n",
    "               \"12323-9:96439930\", \"13545-20:49509095\", \"12130-20:49510028\", \"12764-2:183791570\", \"13735-21:41414331\"]\n",
    "Variants = Variants[~Variants[\"familyId\"].isin(ExcludeList)]\n",
    "GTExDosagePredErrs = {}\n",
    "for Tissue in [\"Brain\", \"Blood\", \"Skin\"]:\n",
    "    IQ_diff1, IQ_diff2, IQ_diff3 = [], [], []\n",
    "    avg_IQ = np.mean(Variants[\"NVIQ\"].values)\n",
    "    N = 0\n",
    "    for i, row in Variants.iterrows():\n",
    "        familyId, gene, ralexp, IQ = row[\"familyId\"], row[\"effectGene\"], row[\"%sRel.exp.gmean\"%Tissue], row[\"NVIQ\"]\n",
    "        df = Variants[(Variants[\"effectGene\"]==gene) & (Variants[\"familyId\"]!=familyId)]\n",
    "        IQs = df[\"NVIQ\"].values\n",
    "        IQDiffs = [max(0, (100-x)) for x in IQs]\n",
    "        rel_exps = [x for x in df[\"%sRel.exp.gmean\"%Tissue].values]\n",
    "        regr = regGene(rel_exps, IQDiffs)\n",
    "        slope = regr.coef_[0]\n",
    "        IQpre_dosage = max(0, (100 - slope * ralexp))\n",
    "\n",
    "        IQpre_gene = np.mean(IQs)\n",
    "        if abs(IQ - IQpre_dosage) > 50:\n",
    "            pass\n",
    "            #print(familyId, gene, IQ, IQpre_dosage, ralexp)\n",
    "        IQ_diff1.append(abs(IQ - IQpre_dosage))\n",
    "        IQ_diff2.append(abs(IQ - IQpre_gene))\n",
    "        IQ_diff3.append(abs(IQ - 70))\n",
    "        N += 1\n",
    "    plt.figure(figsize=(4,4), dpi=120)\n",
    "    plt.boxplot([IQ_diff1, IQ_diff2, IQ_diff3], labels = [\"dosamge\", \"gene\", \"mean\"])\n",
    "    GTExDosagePredErrs[Tissue] = IQ_diff1\n",
    "    plt.ylabel(\"Nonverbal IQ difference\")\n",
    "    plt.grid(True)\n",
    "    print(Tissue, np.median(IQ_diff1), np.mean(IQ_diff1))\n",
    "    plt.show()"
   ]
  },
  {
   "cell_type": "code",
   "execution_count": null,
   "metadata": {},
   "outputs": [],
   "source": [
    "print(scipy.stats.mannwhitneyu(GTExDosagePredErrs[\"Brain\"], GTExDosagePredErrs[\"Blood\"], alternative=\"less\"))\n",
    "print(scipy.stats.mannwhitneyu(GTExDosagePredErrs[\"Brain\"], GTExDosagePredErrs[\"Skin\"], alternative=\"less\"))"
   ]
  },
  {
   "cell_type": "code",
   "execution_count": null,
   "metadata": {},
   "outputs": [],
   "source": [
    "print(scipy.stats.wilcoxon(GTExDosagePredErrs[\"Brain\"], GTExDosagePredErrs[\"Blood\"]))\n",
    "print(scipy.stats.wilcoxon(GTExDosagePredErrs[\"Brain\"], GTExDosagePredErrs[\"Skin\"]))"
   ]
  },
  {
   "cell_type": "code",
   "execution_count": 3,
   "metadata": {},
   "outputs": [],
   "source": [
    "INDELs = pd.read_csv(\"../data/GTEx/GTEx_Data_20140613_ExomeSeq_180Indiv_GATK_HC_indels_annot.tsv\", delimiter=\"\\t\")\n",
    "SNVs = pd.read_csv(\"../data/GTEx/GTEx_Data_20140613_ExomeSeq_180Indiv_GATK_UG_SNPs_annot.tsv\", delimiter=\"\\t\")\n",
    "GTEx_LGDs = pd.concat([INDELs, SNVs])\n",
    "GTEx_LGDs = GTEx_LGDs[(GTEx_LGDs[\"SEVERE_IMPACT\"]!=\"SPLICE_REGION_VARIANT\") & \n",
    "                      (GTEx_LGDs[\"GT\"]==\"0/1\")]"
   ]
  },
  {
   "cell_type": "code",
   "execution_count": 4,
   "metadata": {},
   "outputs": [
    {
     "data": {
      "text/html": [
       "<div>\n",
       "<style scoped>\n",
       "    .dataframe tbody tr th:only-of-type {\n",
       "        vertical-align: middle;\n",
       "    }\n",
       "\n",
       "    .dataframe tbody tr th {\n",
       "        vertical-align: top;\n",
       "    }\n",
       "\n",
       "    .dataframe thead th {\n",
       "        text-align: right;\n",
       "    }\n",
       "</style>\n",
       "<table border=\"1\" class=\"dataframe\">\n",
       "  <thead>\n",
       "    <tr style=\"text-align: right;\">\n",
       "      <th></th>\n",
       "      <th>CHR</th>\n",
       "      <th>POS</th>\n",
       "      <th>REF</th>\n",
       "      <th>ALT</th>\n",
       "      <th>AF</th>\n",
       "      <th>SEVERE_GENE</th>\n",
       "      <th>SEVERE_GENE_NAME</th>\n",
       "      <th>SEVERE_IMPACT</th>\n",
       "      <th>INDV</th>\n",
       "      <th>GT</th>\n",
       "      <th>DP</th>\n",
       "      <th>GQ</th>\n",
       "    </tr>\n",
       "  </thead>\n",
       "  <tbody>\n",
       "    <tr>\n",
       "      <th>2</th>\n",
       "      <td>1</td>\n",
       "      <td>905784</td>\n",
       "      <td>TG</td>\n",
       "      <td>T</td>\n",
       "      <td>0.002778</td>\n",
       "      <td>ENSG00000187583</td>\n",
       "      <td>PLEKHN1</td>\n",
       "      <td>FRAMESHIFT_VARIANT</td>\n",
       "      <td>GTEX-T5JW-0002-SM-3UZEZ</td>\n",
       "      <td>0/1</td>\n",
       "      <td>15</td>\n",
       "      <td>99.0</td>\n",
       "    </tr>\n",
       "    <tr>\n",
       "      <th>4</th>\n",
       "      <td>1</td>\n",
       "      <td>984430</td>\n",
       "      <td>TGCAGCTCAGGTGGGCGGGGAGGGGACGGGGCCGGGGCAGCTCAGG...</td>\n",
       "      <td>T</td>\n",
       "      <td>0.002890</td>\n",
       "      <td>ENSG00000188157</td>\n",
       "      <td>AGRN</td>\n",
       "      <td>SPLICE_DONOR_VARIANT</td>\n",
       "      <td>GTEX-X585-0003-SM-3USRA</td>\n",
       "      <td>0/1</td>\n",
       "      <td>14</td>\n",
       "      <td>99.0</td>\n",
       "    </tr>\n",
       "  </tbody>\n",
       "</table>\n",
       "</div>"
      ],
      "text/plain": [
       "  CHR     POS                                                REF ALT  \\\n",
       "2   1  905784                                                 TG   T   \n",
       "4   1  984430  TGCAGCTCAGGTGGGCGGGGAGGGGACGGGGCCGGGGCAGCTCAGG...   T   \n",
       "\n",
       "         AF      SEVERE_GENE SEVERE_GENE_NAME         SEVERE_IMPACT  \\\n",
       "2  0.002778  ENSG00000187583          PLEKHN1    FRAMESHIFT_VARIANT   \n",
       "4  0.002890  ENSG00000188157             AGRN  SPLICE_DONOR_VARIANT   \n",
       "\n",
       "                      INDV   GT  DP    GQ  \n",
       "2  GTEX-T5JW-0002-SM-3UZEZ  0/1  15  99.0  \n",
       "4  GTEX-X585-0003-SM-3USRA  0/1  14  99.0  "
      ]
     },
     "execution_count": 4,
     "metadata": {},
     "output_type": "execute_result"
    }
   ],
   "source": [
    "GTEx_LGDs.head(2)"
   ]
  },
  {
   "cell_type": "code",
   "execution_count": 5,
   "metadata": {},
   "outputs": [],
   "source": [
    "# Annotation with Exons from Gencodev19\n",
    "\n",
    "GeneCount = GTEx_LGDs.groupby(\"SEVERE_GENE_NAME\")[\"SEVERE_GENE_NAME\"].count()\n",
    "GTEx_LGDs[\"GeneCount\"] = GTEx_LGDs.apply(lambda row: GeneCount[row[\"SEVERE_GENE_NAME\"]], axis=1)\n",
    "GTEx_LGDs = GTEx_LGDs[GTEx_LGDs[\"GeneCount\"]>=2]\n",
    "gtex_lgd_genes = set(GTEx_LGDs[\"SEVERE_GENE_NAME\"].values)\n",
    "#GTEx_LGDs"
   ]
  },
  {
   "cell_type": "code",
   "execution_count": 7,
   "metadata": {},
   "outputs": [],
   "source": [
    "GTFGeneTransExon = {}\n",
    "EnsemblMapper = {}\n",
    "hand = open(\"../data/GTEx/GTEx.RecLGDgenes.gencode.v19.gtf\", 'rt')\n",
    "for l in hand:\n",
    "    if l.startswith(\"#\"):\n",
    "        continue\n",
    "    llist = l.strip().split(\"\\t\")\n",
    "    info = gtf_info_parser(llist[8]) \n",
    "    CHR = llist[0].lstrip(\"chr\")\n",
    "    strand = llist[6]\n",
    "    start = int(llist[3])\n",
    "    end = int(llist[4])\n",
    "    if llist[2] == \"gene\":\n",
    "        gene_name = info[\"gene_name\"]\n",
    "        gene_id = info[\"gene_id\"]\n",
    "        EnsemblMapper[gene_id.split(\".\")[0]]=gene_id\n",
    "        GTFGeneTransExon[gene_name] = GTFGene(gene_name, gene_id, strand)\n",
    "    elif llist[2] == \"transcript\":\n",
    "        gene_name = info[\"gene_name\"]\n",
    "        gene_id = info[\"gene_id\"]\n",
    "        transcript_name = info[\"transcript_id\"]\n",
    "        transcript_id = info[\"transcript_id\"]\n",
    "        transcript_type = info[\"transcript_type\"]\n",
    "        if transcript_id not in GTFGeneTransExon[gene_name].Transcripts and transcript_type==\"protein_coding\":\n",
    "            GTFGeneTransExon[gene_name].Transcripts[transcript_id] = GTFTranscript(gene_name, transcript_name, transcript_id, strand)\n",
    "    elif llist[2] == \"exon\":\n",
    "        gene_name = info[\"gene_name\"]\n",
    "        gene_id = info[\"gene_id\"]\n",
    "        exon_id = info[\"exon_id\"]\n",
    "        transcript_name = info[\"transcript_id\"]\n",
    "        transcript_id = info[\"transcript_id\"]\n",
    "        transcript_type = info[\"transcript_type\"]\n",
    "        if transcript_type==\"protein_coding\":\n",
    "            exon= GTFExon(exon_id, start, end, transcript_id, strand)\n",
    "            GTFGeneTransExon[gene_name].Transcripts[transcript_id].Exons.append(exon)\n",
    "        "
   ]
  },
  {
   "cell_type": "code",
   "execution_count": 8,
   "metadata": {},
   "outputs": [],
   "source": [
    "def searchExon(Gene, Pos, Ref, Alt, Genes):\n",
    "    Pos, LenV = int(Pos), len(Ref)-len(Alt)\n",
    "    gene_obj = Genes[Gene]\n",
    "    _Exons, Transcripts = [],[]\n",
    "    for transid, transobj in gene_obj.Transcripts.items():\n",
    "        for exon in transobj.Exons:\n",
    "            if Pos > exon.start -3 and Pos < exon.end +3:\n",
    "                _Exons.append(exon.ExonID)\n",
    "                Transcripts.append(transid)\n",
    "                break\n",
    "            elif LenV > 0:\n",
    "                if (Pos < exon.start-3 and Pos + LenV > exon.start ) or (Pos < exon.end and Pos + LenV > exon.end +3):\n",
    "                    _Exons.append(exon.ExonID)\n",
    "                    Transcripts.append(transid)\n",
    "                    break\n",
    "    #return list(set(_Exons)), list(set(Transcripts))\n",
    "    return \";\".join(_Exons), \";\".join(Transcripts)"
   ]
  },
  {
   "cell_type": "code",
   "execution_count": 9,
   "metadata": {},
   "outputs": [
    {
     "data": {
      "text/html": [
       "<div>\n",
       "<style scoped>\n",
       "    .dataframe tbody tr th:only-of-type {\n",
       "        vertical-align: middle;\n",
       "    }\n",
       "\n",
       "    .dataframe tbody tr th {\n",
       "        vertical-align: top;\n",
       "    }\n",
       "\n",
       "    .dataframe thead th {\n",
       "        text-align: right;\n",
       "    }\n",
       "</style>\n",
       "<table border=\"1\" class=\"dataframe\">\n",
       "  <thead>\n",
       "    <tr style=\"text-align: right;\">\n",
       "      <th></th>\n",
       "      <th>CHR</th>\n",
       "      <th>POS</th>\n",
       "      <th>REF</th>\n",
       "      <th>ALT</th>\n",
       "      <th>AF</th>\n",
       "      <th>SEVERE_GENE</th>\n",
       "      <th>SEVERE_GENE_NAME</th>\n",
       "      <th>SEVERE_IMPACT</th>\n",
       "      <th>INDV</th>\n",
       "      <th>GT</th>\n",
       "      <th>DP</th>\n",
       "      <th>GQ</th>\n",
       "      <th>GeneCount</th>\n",
       "    </tr>\n",
       "  </thead>\n",
       "  <tbody>\n",
       "    <tr>\n",
       "      <th>5</th>\n",
       "      <td>1</td>\n",
       "      <td>1115544</td>\n",
       "      <td>A</td>\n",
       "      <td>AC</td>\n",
       "      <td>0.002778</td>\n",
       "      <td>ENSG00000162571</td>\n",
       "      <td>TTLL10</td>\n",
       "      <td>FRAMESHIFT_VARIANT</td>\n",
       "      <td>GTEX-T5JW-0002-SM-3UZEZ</td>\n",
       "      <td>0/1</td>\n",
       "      <td>9</td>\n",
       "      <td>99.0</td>\n",
       "      <td>4</td>\n",
       "    </tr>\n",
       "    <tr>\n",
       "      <th>6</th>\n",
       "      <td>1</td>\n",
       "      <td>1116222</td>\n",
       "      <td>C</td>\n",
       "      <td>CG</td>\n",
       "      <td>0.011000</td>\n",
       "      <td>ENSG00000162571</td>\n",
       "      <td>TTLL10</td>\n",
       "      <td>FRAMESHIFT_VARIANT</td>\n",
       "      <td>GTEX-R55E-0003-SM-3UZFL</td>\n",
       "      <td>0/1</td>\n",
       "      <td>9</td>\n",
       "      <td>44.0</td>\n",
       "      <td>4</td>\n",
       "    </tr>\n",
       "  </tbody>\n",
       "</table>\n",
       "</div>"
      ],
      "text/plain": [
       "  CHR      POS REF ALT        AF      SEVERE_GENE SEVERE_GENE_NAME  \\\n",
       "5   1  1115544   A  AC  0.002778  ENSG00000162571           TTLL10   \n",
       "6   1  1116222   C  CG  0.011000  ENSG00000162571           TTLL10   \n",
       "\n",
       "        SEVERE_IMPACT                     INDV   GT DP    GQ  GeneCount  \n",
       "5  FRAMESHIFT_VARIANT  GTEX-T5JW-0002-SM-3UZEZ  0/1  9  99.0          4  \n",
       "6  FRAMESHIFT_VARIANT  GTEX-R55E-0003-SM-3UZFL  0/1  9  44.0          4  "
      ]
     },
     "execution_count": 9,
     "metadata": {},
     "output_type": "execute_result"
    }
   ],
   "source": [
    "GTEx_LGDs.head(2)"
   ]
  },
  {
   "cell_type": "code",
   "execution_count": 10,
   "metadata": {},
   "outputs": [],
   "source": [
    "GTEx_LGDs[\"Exons\"] = \"\"\n",
    "GTEx_LGDs[\"Transcripts\"] = \"\"\n",
    "GencodeMissingGene = []\n",
    "for i, row in GTEx_LGDs.iterrows():\n",
    "    Chr, Pos, Ref, Alt, gene = row[\"CHR\"], row[\"POS\"], row[\"REF\"], row[\"ALT\"], row[\"SEVERE_GENE_NAME\"]\n",
    "    if gene in GTFGeneTransExon:\n",
    "        ExonIDs, TranscriptIDs = searchExon(gene, Pos, Ref, Alt, GTFGeneTransExon)\n",
    "        GTEx_LGDs.loc[i, \"Exons\"] = ExonIDs\n",
    "        GTEx_LGDs.loc[i, \"Transcripts\"] = TranscriptIDs\n",
    "    else:\n",
    "        GencodeMissingGene.append(gene)"
   ]
  },
  {
   "cell_type": "code",
   "execution_count": 186,
   "metadata": {},
   "outputs": [],
   "source": [
    "GTEx_LGDs[\"GTExExonID\"] = \"\"\n",
    "for i, row in GTEx_LGDs.iterrows():\n",
    "    Chr, Pos, Ref, Alt, gene = row[\"CHR\"], row[\"POS\"], row[\"REF\"], row[\"ALT\"], row[\"SEVERE_GENE\"]\n",
    "    GTExExonID = searchExon_GTExExon(gene, Pos, Ref, Alt, gtx_exon)\n",
    "    GTEx_LGDs.loc[i, \"GTExExonID\"] = GTExExonID"
   ]
  },
  {
   "cell_type": "code",
   "execution_count": 187,
   "metadata": {},
   "outputs": [
    {
     "data": {
      "text/html": [
       "<div>\n",
       "<style scoped>\n",
       "    .dataframe tbody tr th:only-of-type {\n",
       "        vertical-align: middle;\n",
       "    }\n",
       "\n",
       "    .dataframe tbody tr th {\n",
       "        vertical-align: top;\n",
       "    }\n",
       "\n",
       "    .dataframe thead th {\n",
       "        text-align: right;\n",
       "    }\n",
       "</style>\n",
       "<table border=\"1\" class=\"dataframe\">\n",
       "  <thead>\n",
       "    <tr style=\"text-align: right;\">\n",
       "      <th></th>\n",
       "      <th>CHR</th>\n",
       "      <th>POS</th>\n",
       "      <th>REF</th>\n",
       "      <th>ALT</th>\n",
       "      <th>AF</th>\n",
       "      <th>SEVERE_GENE</th>\n",
       "      <th>SEVERE_GENE_NAME</th>\n",
       "      <th>SEVERE_IMPACT</th>\n",
       "      <th>INDV</th>\n",
       "      <th>GT</th>\n",
       "      <th>DP</th>\n",
       "      <th>GQ</th>\n",
       "      <th>Exons</th>\n",
       "      <th>Transcripts</th>\n",
       "      <th>GTExExonID</th>\n",
       "    </tr>\n",
       "  </thead>\n",
       "  <tbody>\n",
       "    <tr>\n",
       "      <th>2</th>\n",
       "      <td>1</td>\n",
       "      <td>905784</td>\n",
       "      <td>TG</td>\n",
       "      <td>T</td>\n",
       "      <td>0.002778</td>\n",
       "      <td>ENSG00000187583</td>\n",
       "      <td>PLEKHN1</td>\n",
       "      <td>FRAMESHIFT_VARIANT</td>\n",
       "      <td>GTEX-T5JW-0002-SM-3UZEZ</td>\n",
       "      <td>0/1</td>\n",
       "      <td>15</td>\n",
       "      <td>99.0</td>\n",
       "      <td></td>\n",
       "      <td></td>\n",
       "      <td>ENSG00000187583.6_3</td>\n",
       "    </tr>\n",
       "    <tr>\n",
       "      <th>4</th>\n",
       "      <td>1</td>\n",
       "      <td>984430</td>\n",
       "      <td>TGCAGCTCAGGTGGGCGGGGAGGGGACGGGGCCGGGGCAGCTCAGG...</td>\n",
       "      <td>T</td>\n",
       "      <td>0.002890</td>\n",
       "      <td>ENSG00000188157</td>\n",
       "      <td>AGRN</td>\n",
       "      <td>SPLICE_DONOR_VARIANT</td>\n",
       "      <td>GTEX-X585-0003-SM-3USRA</td>\n",
       "      <td>0/1</td>\n",
       "      <td>14</td>\n",
       "      <td>99.0</td>\n",
       "      <td></td>\n",
       "      <td></td>\n",
       "      <td>ENSG00000188157.9_25</td>\n",
       "    </tr>\n",
       "  </tbody>\n",
       "</table>\n",
       "</div>"
      ],
      "text/plain": [
       "  CHR     POS                                                REF ALT  \\\n",
       "2   1  905784                                                 TG   T   \n",
       "4   1  984430  TGCAGCTCAGGTGGGCGGGGAGGGGACGGGGCCGGGGCAGCTCAGG...   T   \n",
       "\n",
       "         AF      SEVERE_GENE SEVERE_GENE_NAME         SEVERE_IMPACT  \\\n",
       "2  0.002778  ENSG00000187583          PLEKHN1    FRAMESHIFT_VARIANT   \n",
       "4  0.002890  ENSG00000188157             AGRN  SPLICE_DONOR_VARIANT   \n",
       "\n",
       "                      INDV   GT  DP    GQ Exons Transcripts  \\\n",
       "2  GTEX-T5JW-0002-SM-3UZEZ  0/1  15  99.0                     \n",
       "4  GTEX-X585-0003-SM-3USRA  0/1  14  99.0                     \n",
       "\n",
       "             GTExExonID  \n",
       "2   ENSG00000187583.6_3  \n",
       "4  ENSG00000188157.9_25  "
      ]
     },
     "execution_count": 187,
     "metadata": {},
     "output_type": "execute_result"
    }
   ],
   "source": [
    "GTEx_LGDs.head(2)"
   ]
  },
  {
   "cell_type": "code",
   "execution_count": null,
   "metadata": {},
   "outputs": [],
   "source": []
  },
  {
   "cell_type": "code",
   "execution_count": 12,
   "metadata": {},
   "outputs": [],
   "source": [
    "#GTEx_LGDs.to_csv(\"../data/GTEx/GTEx.RecLGD.annoGencode.tsv\", sep=\"\\t\", index=\"False\")"
   ]
  },
  {
   "cell_type": "code",
   "execution_count": 13,
   "metadata": {},
   "outputs": [
    {
     "data": {
      "text/plain": [
       "(5215, 15)"
      ]
     },
     "execution_count": 13,
     "metadata": {},
     "output_type": "execute_result"
    }
   ],
   "source": [
    "GTEx_LGDs.shape"
   ]
  },
  {
   "cell_type": "code",
   "execution_count": 14,
   "metadata": {},
   "outputs": [
    {
     "data": {
      "text/plain": [
       "180"
      ]
     },
     "execution_count": 14,
     "metadata": {},
     "output_type": "execute_result"
    }
   ],
   "source": [
    "len(set(GTEx_LGDs[\"INDV\"].values))"
   ]
  },
  {
   "cell_type": "code",
   "execution_count": 15,
   "metadata": {},
   "outputs": [],
   "source": [
    "writer = csv.writer(open(\"../data/GTEx/180Indiv.list\", 'wt'))\n",
    "for indv in list(set(GTEx_LGDs[\"INDV\"].values)):\n",
    "    writer.writerow([indv])"
   ]
  },
  {
   "cell_type": "code",
   "execution_count": 16,
   "metadata": {},
   "outputs": [],
   "source": [
    "Doners = set([x.split(\"-\")[1] for x in GTEx_LGDs[\"INDV\"].values])\n",
    "#Doners"
   ]
  },
  {
   "cell_type": "code",
   "execution_count": 17,
   "metadata": {},
   "outputs": [
    {
     "name": "stderr",
     "output_type": "stream",
     "text": [
      "/Users/jiayao/anaconda3/lib/python3.7/site-packages/ipykernel_launcher.py:3: SettingWithCopyWarning: \n",
      "A value is trying to be set on a copy of a slice from a DataFrame.\n",
      "Try using .loc[row_indexer,col_indexer] = value instead\n",
      "\n",
      "See the caveats in the documentation: http://pandas.pydata.org/pandas-docs/stable/indexing.html#indexing-view-versus-copy\n",
      "  This is separate from the ipykernel package so we can avoid doing imports until\n"
     ]
    }
   ],
   "source": [
    "Exp_samples = [l.strip() for l in open(\"../data/GTEx/180Indiv.EXP.Samples.list\")]\n",
    "Exp_Samples = Samples[Samples[\"SAMPID\"].isin(Exp_samples)]\n",
    "Exp_Samples[\"Doner\"] = Exp_Samples.apply(lambda row:row['SAMPID'].split(\"-\")[1], axis=1)\n",
    "Exp_Samples = Exp_Samples[[\"Doner\", \"SAMPID\", \"SMTS\", \"SMTSD\"]]"
   ]
  },
  {
   "cell_type": "code",
   "execution_count": 18,
   "metadata": {},
   "outputs": [
    {
     "data": {
      "text/html": [
       "<div>\n",
       "<style scoped>\n",
       "    .dataframe tbody tr th:only-of-type {\n",
       "        vertical-align: middle;\n",
       "    }\n",
       "\n",
       "    .dataframe tbody tr th {\n",
       "        vertical-align: top;\n",
       "    }\n",
       "\n",
       "    .dataframe thead th {\n",
       "        text-align: right;\n",
       "    }\n",
       "</style>\n",
       "<table border=\"1\" class=\"dataframe\">\n",
       "  <thead>\n",
       "    <tr style=\"text-align: right;\">\n",
       "      <th></th>\n",
       "      <th>Doner</th>\n",
       "      <th>SAMPID</th>\n",
       "      <th>SMTS</th>\n",
       "      <th>SMTSD</th>\n",
       "    </tr>\n",
       "  </thead>\n",
       "  <tbody>\n",
       "    <tr>\n",
       "      <th>8116</th>\n",
       "      <td>N7MS</td>\n",
       "      <td>GTEX-N7MS-0007-SM-2D7W1</td>\n",
       "      <td>Blood</td>\n",
       "      <td>Whole Blood</td>\n",
       "    </tr>\n",
       "    <tr>\n",
       "      <th>8117</th>\n",
       "      <td>N7MS</td>\n",
       "      <td>GTEX-N7MS-0008-SM-4E3JI</td>\n",
       "      <td>Skin</td>\n",
       "      <td>Cells - Transformed fibroblasts</td>\n",
       "    </tr>\n",
       "  </tbody>\n",
       "</table>\n",
       "</div>"
      ],
      "text/plain": [
       "     Doner                   SAMPID   SMTS                            SMTSD\n",
       "8116  N7MS  GTEX-N7MS-0007-SM-2D7W1  Blood                      Whole Blood\n",
       "8117  N7MS  GTEX-N7MS-0008-SM-4E3JI   Skin  Cells - Transformed fibroblasts"
      ]
     },
     "execution_count": 18,
     "metadata": {},
     "output_type": "execute_result"
    }
   ],
   "source": [
    "Exp_Samples.head(2)"
   ]
  },
  {
   "cell_type": "code",
   "execution_count": 19,
   "metadata": {},
   "outputs": [
    {
     "data": {
      "text/html": [
       "<div>\n",
       "<style scoped>\n",
       "    .dataframe tbody tr th:only-of-type {\n",
       "        vertical-align: middle;\n",
       "    }\n",
       "\n",
       "    .dataframe tbody tr th {\n",
       "        vertical-align: top;\n",
       "    }\n",
       "\n",
       "    .dataframe thead th {\n",
       "        text-align: right;\n",
       "    }\n",
       "</style>\n",
       "<table border=\"1\" class=\"dataframe\">\n",
       "  <thead>\n",
       "    <tr style=\"text-align: right;\">\n",
       "      <th></th>\n",
       "      <th>Doner</th>\n",
       "      <th>SAMPID</th>\n",
       "      <th>SMTS</th>\n",
       "      <th>SMTSD</th>\n",
       "    </tr>\n",
       "  </thead>\n",
       "  <tbody>\n",
       "    <tr>\n",
       "      <th>8116</th>\n",
       "      <td>N7MS</td>\n",
       "      <td>GTEX-N7MS-0007-SM-2D7W1</td>\n",
       "      <td>Blood</td>\n",
       "      <td>Whole Blood</td>\n",
       "    </tr>\n",
       "    <tr>\n",
       "      <th>8117</th>\n",
       "      <td>N7MS</td>\n",
       "      <td>GTEX-N7MS-0008-SM-4E3JI</td>\n",
       "      <td>Skin</td>\n",
       "      <td>Cells - Transformed fibroblasts</td>\n",
       "    </tr>\n",
       "  </tbody>\n",
       "</table>\n",
       "</div>"
      ],
      "text/plain": [
       "     Doner                   SAMPID   SMTS                            SMTSD\n",
       "8116  N7MS  GTEX-N7MS-0007-SM-2D7W1  Blood                      Whole Blood\n",
       "8117  N7MS  GTEX-N7MS-0008-SM-4E3JI   Skin  Cells - Transformed fibroblasts"
      ]
     },
     "execution_count": 19,
     "metadata": {},
     "output_type": "execute_result"
    }
   ],
   "source": [
    "set(Exp_Samples[\"SMTS\"].values)\n",
    "SelectedTissue = [\"Adipose Tissue\", \"Adrenal Gland\", \"Brain\", \"Heart\", \"Lung\",\n",
    "                  \"Muscle\", \"Nerve\", \"Skin\", \"Thyroid\", \"Blood\"]\n",
    "SelectedTissueSamples = Exp_Samples[Exp_Samples[\"SMTS\"].isin(SelectedTissue)]\n",
    "SelectedTissueSamples = SelectedTissueSamples[SelectedTissueSamples[\"SMTSD\"]!=\"'Cells - EBV-transformed lymphocytes'\"]\n",
    "SelectedTissueSamples = SelectedTissueSamples[SelectedTissueSamples[\"SMTSD\"]!=\"'Cells - EBV-transformed lymphocytes'\"]\n",
    "SelectedTissueSamples.head(2)"
   ]
  },
  {
   "cell_type": "code",
   "execution_count": 20,
   "metadata": {},
   "outputs": [
    {
     "data": {
      "text/plain": [
       "{'Cells - EBV-transformed lymphocytes', 'Whole Blood'}"
      ]
     },
     "execution_count": 20,
     "metadata": {},
     "output_type": "execute_result"
    }
   ],
   "source": [
    "set(SelectedTissueSamples[SelectedTissueSamples[\"SMTS\"]==\"Blood\"][\"SMTSD\"].values)"
   ]
  },
  {
   "cell_type": "code",
   "execution_count": 21,
   "metadata": {},
   "outputs": [
    {
     "name": "stdout",
     "output_type": "stream",
     "text": [
      "['CUL9', 'SLC36A1', 'TANGO2', 'ALPK1', 'CAPN10', 'P2RX7', 'SEC14L4', 'OSGEPL1', 'CPA4', 'NEIL1']\n"
     ]
    }
   ],
   "source": [
    "GenesWithLGD = list(set(GTEx_LGDs[\"SEVERE_GENE_NAME\"].values))\n",
    "len(GenesWithLGD)\n",
    "print(GenesWithLGD[:10])"
   ]
  },
  {
   "cell_type": "code",
   "execution_count": 22,
   "metadata": {},
   "outputs": [
    {
     "data": {
      "text/html": [
       "<div>\n",
       "<style scoped>\n",
       "    .dataframe tbody tr th:only-of-type {\n",
       "        vertical-align: middle;\n",
       "    }\n",
       "\n",
       "    .dataframe tbody tr th {\n",
       "        vertical-align: top;\n",
       "    }\n",
       "\n",
       "    .dataframe thead th {\n",
       "        text-align: right;\n",
       "    }\n",
       "</style>\n",
       "<table border=\"1\" class=\"dataframe\">\n",
       "  <thead>\n",
       "    <tr style=\"text-align: right;\">\n",
       "      <th></th>\n",
       "      <th>Name</th>\n",
       "      <th>Description</th>\n",
       "      <th>GTEX-N7MS-0326-SM-4E3K2</th>\n",
       "      <th>GTEX-NFK9-0326-SM-3MJGV</th>\n",
       "      <th>GTEX-NPJ8-0226-SM-48TBN</th>\n",
       "      <th>GTEX-O5YT-0226-SM-32PK5</th>\n",
       "      <th>GTEX-O5YV-0226-SM-48TBY</th>\n",
       "      <th>GTEX-OHPK-0226-SM-3MJH6</th>\n",
       "      <th>GTEX-OHPM-0226-SM-3LK61</th>\n",
       "      <th>GTEX-OHPN-0226-SM-48TBV</th>\n",
       "      <th>...</th>\n",
       "      <th>GTEX-X4EO-0006-SM-3P5ZF</th>\n",
       "      <th>GTEX-X4EP-0005-SM-3P5ZE</th>\n",
       "      <th>GTEX-X4XX-0005-SM-3NMCS</th>\n",
       "      <th>GTEX-X4XY-0006-SM-46MV2</th>\n",
       "      <th>GTEX-X585-0005-SM-46MV3</th>\n",
       "      <th>GTEX-X5EB-0006-SM-46MV5</th>\n",
       "      <th>GTEX-X62O-0005-SM-46MV1</th>\n",
       "      <th>GTEX-X8HC-0006-SM-46MV6</th>\n",
       "      <th>GTEX-XAJ8-0006-SM-46MVM</th>\n",
       "      <th>GTEX-XBED-0006-SM-47JXO</th>\n",
       "    </tr>\n",
       "  </thead>\n",
       "  <tbody>\n",
       "    <tr>\n",
       "      <th>0</th>\n",
       "      <td>ENSG00000187583.6</td>\n",
       "      <td>PLEKHN1</td>\n",
       "      <td>0.7006</td>\n",
       "      <td>0.4119</td>\n",
       "      <td>0.7434</td>\n",
       "      <td>1.237</td>\n",
       "      <td>0.7485</td>\n",
       "      <td>0.2519</td>\n",
       "      <td>0.9924</td>\n",
       "      <td>0.7341</td>\n",
       "      <td>...</td>\n",
       "      <td>1.0190</td>\n",
       "      <td>0.604900</td>\n",
       "      <td>0.89450</td>\n",
       "      <td>1.04300</td>\n",
       "      <td>4.9640</td>\n",
       "      <td>0.58730</td>\n",
       "      <td>1.1710</td>\n",
       "      <td>1.22300</td>\n",
       "      <td>0.50640</td>\n",
       "      <td>0.9503</td>\n",
       "    </tr>\n",
       "    <tr>\n",
       "      <th>1</th>\n",
       "      <td>ENSG00000188157.9</td>\n",
       "      <td>AGRN</td>\n",
       "      <td>37.1200</td>\n",
       "      <td>18.1200</td>\n",
       "      <td>10.2100</td>\n",
       "      <td>13.120</td>\n",
       "      <td>13.8500</td>\n",
       "      <td>18.3700</td>\n",
       "      <td>21.4900</td>\n",
       "      <td>17.0000</td>\n",
       "      <td>...</td>\n",
       "      <td>1.8110</td>\n",
       "      <td>1.486000</td>\n",
       "      <td>1.21200</td>\n",
       "      <td>1.46600</td>\n",
       "      <td>3.7340</td>\n",
       "      <td>0.32330</td>\n",
       "      <td>1.2460</td>\n",
       "      <td>1.05700</td>\n",
       "      <td>0.43320</td>\n",
       "      <td>1.1550</td>\n",
       "    </tr>\n",
       "    <tr>\n",
       "      <th>2</th>\n",
       "      <td>ENSG00000162571.9</td>\n",
       "      <td>TTLL10</td>\n",
       "      <td>2.4470</td>\n",
       "      <td>1.0040</td>\n",
       "      <td>2.4070</td>\n",
       "      <td>1.081</td>\n",
       "      <td>1.4140</td>\n",
       "      <td>0.6001</td>\n",
       "      <td>1.0320</td>\n",
       "      <td>1.2840</td>\n",
       "      <td>...</td>\n",
       "      <td>0.1198</td>\n",
       "      <td>0.008296</td>\n",
       "      <td>0.03397</td>\n",
       "      <td>0.07946</td>\n",
       "      <td>0.2208</td>\n",
       "      <td>0.01272</td>\n",
       "      <td>0.2224</td>\n",
       "      <td>0.05514</td>\n",
       "      <td>0.02976</td>\n",
       "      <td>0.1753</td>\n",
       "    </tr>\n",
       "    <tr>\n",
       "      <th>3</th>\n",
       "      <td>ENSG00000169972.7</td>\n",
       "      <td>PUSL1</td>\n",
       "      <td>16.9300</td>\n",
       "      <td>9.7020</td>\n",
       "      <td>14.4500</td>\n",
       "      <td>6.392</td>\n",
       "      <td>15.1700</td>\n",
       "      <td>10.1800</td>\n",
       "      <td>16.3100</td>\n",
       "      <td>10.8400</td>\n",
       "      <td>...</td>\n",
       "      <td>10.5700</td>\n",
       "      <td>3.395000</td>\n",
       "      <td>11.06000</td>\n",
       "      <td>6.42700</td>\n",
       "      <td>20.7400</td>\n",
       "      <td>7.73000</td>\n",
       "      <td>8.6030</td>\n",
       "      <td>7.42200</td>\n",
       "      <td>14.53000</td>\n",
       "      <td>7.3240</td>\n",
       "    </tr>\n",
       "    <tr>\n",
       "      <th>4</th>\n",
       "      <td>ENSG00000127054.14</td>\n",
       "      <td>CPSF3L</td>\n",
       "      <td>70.3900</td>\n",
       "      <td>84.9500</td>\n",
       "      <td>69.7800</td>\n",
       "      <td>46.280</td>\n",
       "      <td>54.2500</td>\n",
       "      <td>45.5700</td>\n",
       "      <td>65.5400</td>\n",
       "      <td>36.9900</td>\n",
       "      <td>...</td>\n",
       "      <td>39.5300</td>\n",
       "      <td>12.200000</td>\n",
       "      <td>38.98000</td>\n",
       "      <td>25.13000</td>\n",
       "      <td>78.4300</td>\n",
       "      <td>15.55000</td>\n",
       "      <td>43.1600</td>\n",
       "      <td>21.44000</td>\n",
       "      <td>33.25000</td>\n",
       "      <td>20.4300</td>\n",
       "    </tr>\n",
       "  </tbody>\n",
       "</table>\n",
       "<p>5 rows × 1585 columns</p>\n",
       "</div>"
      ],
      "text/plain": [
       "                 Name Description  GTEX-N7MS-0326-SM-4E3K2  \\\n",
       "0   ENSG00000187583.6     PLEKHN1                   0.7006   \n",
       "1   ENSG00000188157.9        AGRN                  37.1200   \n",
       "2   ENSG00000162571.9      TTLL10                   2.4470   \n",
       "3   ENSG00000169972.7       PUSL1                  16.9300   \n",
       "4  ENSG00000127054.14      CPSF3L                  70.3900   \n",
       "\n",
       "   GTEX-NFK9-0326-SM-3MJGV  GTEX-NPJ8-0226-SM-48TBN  GTEX-O5YT-0226-SM-32PK5  \\\n",
       "0                   0.4119                   0.7434                    1.237   \n",
       "1                  18.1200                  10.2100                   13.120   \n",
       "2                   1.0040                   2.4070                    1.081   \n",
       "3                   9.7020                  14.4500                    6.392   \n",
       "4                  84.9500                  69.7800                   46.280   \n",
       "\n",
       "   GTEX-O5YV-0226-SM-48TBY  GTEX-OHPK-0226-SM-3MJH6  GTEX-OHPM-0226-SM-3LK61  \\\n",
       "0                   0.7485                   0.2519                   0.9924   \n",
       "1                  13.8500                  18.3700                  21.4900   \n",
       "2                   1.4140                   0.6001                   1.0320   \n",
       "3                  15.1700                  10.1800                  16.3100   \n",
       "4                  54.2500                  45.5700                  65.5400   \n",
       "\n",
       "   GTEX-OHPN-0226-SM-48TBV           ...             GTEX-X4EO-0006-SM-3P5ZF  \\\n",
       "0                   0.7341           ...                              1.0190   \n",
       "1                  17.0000           ...                              1.8110   \n",
       "2                   1.2840           ...                              0.1198   \n",
       "3                  10.8400           ...                             10.5700   \n",
       "4                  36.9900           ...                             39.5300   \n",
       "\n",
       "   GTEX-X4EP-0005-SM-3P5ZE  GTEX-X4XX-0005-SM-3NMCS  GTEX-X4XY-0006-SM-46MV2  \\\n",
       "0                 0.604900                  0.89450                  1.04300   \n",
       "1                 1.486000                  1.21200                  1.46600   \n",
       "2                 0.008296                  0.03397                  0.07946   \n",
       "3                 3.395000                 11.06000                  6.42700   \n",
       "4                12.200000                 38.98000                 25.13000   \n",
       "\n",
       "   GTEX-X585-0005-SM-46MV3  GTEX-X5EB-0006-SM-46MV5  GTEX-X62O-0005-SM-46MV1  \\\n",
       "0                   4.9640                  0.58730                   1.1710   \n",
       "1                   3.7340                  0.32330                   1.2460   \n",
       "2                   0.2208                  0.01272                   0.2224   \n",
       "3                  20.7400                  7.73000                   8.6030   \n",
       "4                  78.4300                 15.55000                  43.1600   \n",
       "\n",
       "   GTEX-X8HC-0006-SM-46MV6  GTEX-XAJ8-0006-SM-46MVM  GTEX-XBED-0006-SM-47JXO  \n",
       "0                  1.22300                  0.50640                   0.9503  \n",
       "1                  1.05700                  0.43320                   1.1550  \n",
       "2                  0.05514                  0.02976                   0.1753  \n",
       "3                  7.42200                 14.53000                   7.3240  \n",
       "4                 21.44000                 33.25000                  20.4300  \n",
       "\n",
       "[5 rows x 1585 columns]"
      ]
     },
     "execution_count": 22,
     "metadata": {},
     "output_type": "execute_result"
    }
   ],
   "source": [
    "GeneTPM = pd.read_csv(\"../data/GTEx/GTEx_180Indiv_selectedGeneTissue_gene_tpm.txt\", delimiter=\"\\t\")\n",
    "GeneTPM.head()"
   ]
  },
  {
   "cell_type": "code",
   "execution_count": 33,
   "metadata": {},
   "outputs": [
    {
     "name": "stderr",
     "output_type": "stream",
     "text": [
      "/Users/jiayao/anaconda3/lib/python3.7/site-packages/scipy/stats/stats.py:2253: RuntimeWarning: invalid value encountered in true_divide\n",
      "  return (a - mns) / sstd\n"
     ]
    }
   ],
   "source": [
    "SameExonDat = []#[np.mean(ALLSameExon)]\n",
    "DiffExonDat = []#[np.mean(ALLDiffExon)]\n",
    "SameExonErr = []#[np.std(ALLSameExon)/len(ALLSameExon)]\n",
    "DiffExonErr = []#[np.std(ALLDiffExon)/len(ALLDiffExon)]\n",
    "Tissues = [\"Brain\", \"Blood\", \"Skin\", \"Heart\", \"Lung\"]\n",
    "for Tissue in Tissues:\n",
    "    ALLSameExon, ALLDiffExon = [], []\n",
    "    for EnsGeneID in SELECTED_GENE_ENSID:\n",
    "        RES = GTExTranscriptSimilarity(TransTPM, GTEx_LGDs, SelectedTissueSamples, EnsGeneID, Tissue)\n",
    "        if RES != None:\n",
    "            if RES[0] == RES[0]:\n",
    "                ALLSameExon.extend(RES[0])\n",
    "            if RES[1] == RES[1]:\n",
    "                ALLDiffExon.extend(RES[1])\n",
    "    #print(np.mean(ALLSameExon), np.mean(ALLDiffExon))\n",
    "    print(Tissue, np.mean(ALLSameExon), np.mean(ALLDiffExon))\n",
    "    print(scipy.stats.mannwhitneyu(ALLSameExon, ALLDiffExon))\n",
    "    SameExonDat.append(np.mean(ALLSameExon))\n",
    "    DiffExonDat.append(np.mean(ALLDiffExon))\n",
    "    SameExonErr.append(np.std(ALLSameExon)/len(ALLSameExon))\n",
    "    DiffExonErr.append(np.std(ALLDiffExon)/len(ALLDiffExon))"
   ]
  },
  {
   "cell_type": "code",
   "execution_count": 35,
   "metadata": {},
   "outputs": [
    {
     "name": "stdout",
     "output_type": "stream",
     "text": [
      "Ttest_indResult(statistic=-4.370915244793738, pvalue=1.2379255807022882e-05)\n",
      "-0.0462799336467195 0.002179149344964457\n"
     ]
    },
    {
     "data": {
      "image/png": "[encoded data removed]",
      "text/plain": [
       "<Figure size 432x288 with 1 Axes>"
      ]
     },
     "metadata": {
      "needs_background": "light"
     },
     "output_type": "display_data"
    }
   ],
   "source": [
    "ax = sns.boxplot(data=[L1, L2])\n",
    "plt.ylim((-2, 2))\n",
    "print(scipy.stats.ttest_ind(L1, L2))\n",
    "print(np.mean(L1), np.mean(L2))"
   ]
  },
  {
   "cell_type": "code",
   "execution_count": 36,
   "metadata": {},
   "outputs": [
    {
     "data": {
      "image/png": "[encoded data removed]",
      "text/plain": [
       "<Figure size 432x288 with 1 Axes>"
      ]
     },
     "metadata": {
      "needs_background": "light"
     },
     "output_type": "display_data"
    }
   ],
   "source": [
    "NLGDs = []\n",
    "for Gene in GenesWithLGD:\n",
    "    Gene_LGDs = GTEx_LGDs[GTEx_LGDs[\"SEVERE_GENE_NAME\"]==Gene]\n",
    "    NLGDs.append(Gene_LGDs.shape[0])\n",
    "plt.hist(NLGDs, bins=30)\n",
    "plt.show()"
   ]
  },
  {
   "cell_type": "code",
   "execution_count": 70,
   "metadata": {},
   "outputs": [],
   "source": [
    "TransTPM = pd.read_csv(\"../data/GTEx/GTEx_180Indiv_transcript_tpm.txt\", delimiter=\"\\t\")"
   ]
  },
  {
   "cell_type": "code",
   "execution_count": 71,
   "metadata": {},
   "outputs": [
    {
     "data": {
      "text/html": [
       "<div>\n",
       "<style scoped>\n",
       "    .dataframe tbody tr th:only-of-type {\n",
       "        vertical-align: middle;\n",
       "    }\n",
       "\n",
       "    .dataframe tbody tr th {\n",
       "        vertical-align: top;\n",
       "    }\n",
       "\n",
       "    .dataframe thead th {\n",
       "        text-align: right;\n",
       "    }\n",
       "</style>\n",
       "<table border=\"1\" class=\"dataframe\">\n",
       "  <thead>\n",
       "    <tr style=\"text-align: right;\">\n",
       "      <th></th>\n",
       "      <th>transcript_id</th>\n",
       "      <th>gene_id</th>\n",
       "      <th>GTEX-N7MS-0007-SM-2D7W1</th>\n",
       "      <th>GTEX-N7MS-0008-SM-4E3JI</th>\n",
       "      <th>GTEX-N7MS-0011-R10A-SM-2HMJK</th>\n",
       "      <th>GTEX-N7MS-0011-R11A-SM-2HMJS</th>\n",
       "      <th>GTEX-N7MS-0011-R1a-SM-2HMJG</th>\n",
       "      <th>GTEX-N7MS-0011-R2a-SM-2HML6</th>\n",
       "      <th>GTEX-N7MS-0011-R3a-SM-33HC6</th>\n",
       "      <th>GTEX-N7MS-0011-R4a-SM-2HMKW</th>\n",
       "      <th>...</th>\n",
       "      <th>GTEX-XBED-0126-SM-47JY7</th>\n",
       "      <th>GTEX-XBED-0526-SM-47JY3</th>\n",
       "      <th>GTEX-XBED-0826-SM-47JYC</th>\n",
       "      <th>GTEX-XBED-1326-SM-4AT4F</th>\n",
       "      <th>GTEX-XBED-1926-SM-47JYP</th>\n",
       "      <th>GTEX-XBED-2226-SM-47JYQ</th>\n",
       "      <th>GTEX-XBED-2326-SM-47JYR</th>\n",
       "      <th>GTEX-XBED-2526-SM-47JYD</th>\n",
       "      <th>GTEX-XBED-2626-SM-4E3J5</th>\n",
       "      <th>gene_id_2</th>\n",
       "    </tr>\n",
       "  </thead>\n",
       "  <tbody>\n",
       "    <tr>\n",
       "      <th>0</th>\n",
       "      <td>ENST00000286031</td>\n",
       "      <td>ENSG00000000460</td>\n",
       "      <td>0.0</td>\n",
       "      <td>0.11</td>\n",
       "      <td>0.00</td>\n",
       "      <td>0.00</td>\n",
       "      <td>0.0</td>\n",
       "      <td>0.18</td>\n",
       "      <td>0.00</td>\n",
       "      <td>0.00</td>\n",
       "      <td>...</td>\n",
       "      <td>0.0</td>\n",
       "      <td>0.13</td>\n",
       "      <td>0.0</td>\n",
       "      <td>0.15</td>\n",
       "      <td>0.00</td>\n",
       "      <td>0.00</td>\n",
       "      <td>0.00</td>\n",
       "      <td>0.00</td>\n",
       "      <td>0.00</td>\n",
       "      <td>ENSG00000000460</td>\n",
       "    </tr>\n",
       "    <tr>\n",
       "      <th>1</th>\n",
       "      <td>ENST00000359326</td>\n",
       "      <td>ENSG00000000460</td>\n",
       "      <td>0.0</td>\n",
       "      <td>3.50</td>\n",
       "      <td>0.12</td>\n",
       "      <td>0.81</td>\n",
       "      <td>0.0</td>\n",
       "      <td>0.66</td>\n",
       "      <td>0.42</td>\n",
       "      <td>0.14</td>\n",
       "      <td>...</td>\n",
       "      <td>1.1</td>\n",
       "      <td>0.00</td>\n",
       "      <td>0.0</td>\n",
       "      <td>0.62</td>\n",
       "      <td>0.16</td>\n",
       "      <td>0.33</td>\n",
       "      <td>0.47</td>\n",
       "      <td>0.52</td>\n",
       "      <td>0.25</td>\n",
       "      <td>ENSG00000000460</td>\n",
       "    </tr>\n",
       "  </tbody>\n",
       "</table>\n",
       "<p>2 rows × 1586 columns</p>\n",
       "</div>"
      ],
      "text/plain": [
       "     transcript_id          gene_id  GTEX-N7MS-0007-SM-2D7W1  \\\n",
       "0  ENST00000286031  ENSG00000000460                      0.0   \n",
       "1  ENST00000359326  ENSG00000000460                      0.0   \n",
       "\n",
       "   GTEX-N7MS-0008-SM-4E3JI  GTEX-N7MS-0011-R10A-SM-2HMJK  \\\n",
       "0                     0.11                          0.00   \n",
       "1                     3.50                          0.12   \n",
       "\n",
       "   GTEX-N7MS-0011-R11A-SM-2HMJS  GTEX-N7MS-0011-R1a-SM-2HMJG  \\\n",
       "0                          0.00                          0.0   \n",
       "1                          0.81                          0.0   \n",
       "\n",
       "   GTEX-N7MS-0011-R2a-SM-2HML6  GTEX-N7MS-0011-R3a-SM-33HC6  \\\n",
       "0                         0.18                         0.00   \n",
       "1                         0.66                         0.42   \n",
       "\n",
       "   GTEX-N7MS-0011-R4a-SM-2HMKW       ...         GTEX-XBED-0126-SM-47JY7  \\\n",
       "0                         0.00       ...                             0.0   \n",
       "1                         0.14       ...                             1.1   \n",
       "\n",
       "   GTEX-XBED-0526-SM-47JY3  GTEX-XBED-0826-SM-47JYC  GTEX-XBED-1326-SM-4AT4F  \\\n",
       "0                     0.13                      0.0                     0.15   \n",
       "1                     0.00                      0.0                     0.62   \n",
       "\n",
       "   GTEX-XBED-1926-SM-47JYP  GTEX-XBED-2226-SM-47JYQ  GTEX-XBED-2326-SM-47JYR  \\\n",
       "0                     0.00                     0.00                     0.00   \n",
       "1                     0.16                     0.33                     0.47   \n",
       "\n",
       "   GTEX-XBED-2526-SM-47JYD  GTEX-XBED-2626-SM-4E3J5        gene_id_2  \n",
       "0                     0.00                     0.00  ENSG00000000460  \n",
       "1                     0.52                     0.25  ENSG00000000460  \n",
       "\n",
       "[2 rows x 1586 columns]"
      ]
     },
     "execution_count": 71,
     "metadata": {},
     "output_type": "execute_result"
    }
   ],
   "source": [
    "TransTPM[\"gene_id_2\"] = TransTPM.apply(lambda row:row[\"gene_id\"].split(\".\")[0], axis=1)\n",
    "TransTPM.head(2)"
   ]
  },
  {
   "cell_type": "code",
   "execution_count": 108,
   "metadata": {},
   "outputs": [
    {
     "data": {
      "text/plain": [
       "['ENSG00000065526',\n",
       " 'ENSG00000129347',\n",
       " 'ENSG00000109063',\n",
       " 'ENSG00000110881',\n",
       " 'ENSG00000132950']"
      ]
     },
     "execution_count": 108,
     "metadata": {},
     "output_type": "execute_result"
    }
   ],
   "source": [
    "SELECTED_GENE_ENSID = list(set(GTEx_LGDs[\"SEVERE_GENE\"].values))\n",
    "SELECTED_GENE_ENSID[:5]"
   ]
  },
  {
   "cell_type": "code",
   "execution_count": 133,
   "metadata": {},
   "outputs": [
    {
     "name": "stdout",
     "output_type": "stream",
     "text": [
      "Brain 0.17294886847475135 0.24864651291309003\n",
      "MannwhitneyuResult(statistic=38036.0, pvalue=0.0003492669006237531)\n",
      "Blood 0.33783073040353095 0.3980324898071179\n",
      "MannwhitneyuResult(statistic=8460147.5, pvalue=8.749560209448133e-18)\n",
      "Skin 0.2805563074748345 0.3642860199243468\n",
      "MannwhitneyuResult(statistic=13007921.5, pvalue=9.445743154869425e-41)\n",
      "Heart 0.3001684801429953 0.3610133990638224\n",
      "MannwhitneyuResult(statistic=1060094.5, pvalue=3.229249291228592e-07)\n",
      "Lung 0.2699674621200567 0.3496268802388091\n",
      "MannwhitneyuResult(statistic=3368280.5, pvalue=3.723792718027589e-18)\n"
     ]
    }
   ],
   "source": [
    "Tissue=\"Skin\"\n",
    "SameExonDat = []#[np.mean(ALLSameExon)]\n",
    "DiffExonDat = []#[np.mean(ALLDiffExon)]\n",
    "SameExonErr = []#[np.std(ALLSameExon)/len(ALLSameExon)]\n",
    "DiffExonErr = []#[np.std(ALLDiffExon)/len(ALLDiffExon)]\n",
    "Tissues = [\"Brain\", \"Blood\", \"Skin\", \"Heart\", \"Lung\"]\n",
    "for Tissue in Tissues:\n",
    "    ALLSameExon, ALLDiffExon = [], []\n",
    "    for EnsGeneID in SELECTED_GENE_ENSID:\n",
    "        RES = GTExTranscriptSimilarity(TransTPM, GTEx_LGDs, SelectedTissueSamples, EnsGeneID, Tissue)\n",
    "        if RES != None:\n",
    "            if RES[0] == RES[0]:\n",
    "                ALLSameExon.extend(RES[0])\n",
    "            if RES[1] == RES[1]:\n",
    "                ALLDiffExon.extend(RES[1])\n",
    "    #print(np.mean(ALLSameExon), np.mean(ALLDiffExon))\n",
    "    print(Tissue, np.mean(ALLSameExon), np.mean(ALLDiffExon))\n",
    "    print(scipy.stats.mannwhitneyu(ALLSameExon, ALLDiffExon))\n",
    "    SameExonDat.append(np.mean(ALLSameExon))\n",
    "    DiffExonDat.append(np.mean(ALLDiffExon))\n",
    "    SameExonErr.append(np.std(ALLSameExon)/len(ALLSameExon))\n",
    "    DiffExonErr.append(np.std(ALLDiffExon)/len(ALLDiffExon))"
   ]
  },
  {
   "cell_type": "code",
   "execution_count": 134,
   "metadata": {},
   "outputs": [
    {
     "data": {
      "image/png": "[encoded data removed]",
      "text/plain": [
       "<Figure size 720x480 with 1 Axes>"
      ]
     },
     "metadata": {
      "needs_background": "light"
     },
     "output_type": "display_data"
    }
   ],
   "source": [
    "ind = np.arange(len(Tissues))  # the x locations for the groups\n",
    "width = 0.35  # the width of the bars\n",
    "fig, ax = plt.subplots(dpi=120)\n",
    "rects1 = ax.bar(ind - width/2, SameExonDat, width, yerr=SameExonErr,\n",
    "                label='SameExon')\n",
    "rects2 = ax.bar(ind + width/2, DiffExonDat, width, yerr=DiffExonErr,\n",
    "                label='DiffExon')\n",
    "ax.set_ylabel('')\n",
    "ax.set_title('')\n",
    "ax.set_xticks(ind)\n",
    "ax.set_xticklabels(Tissues)\n",
    "ax.legend(loc=\"upper left\")\n",
    "fig.tight_layout()\n",
    "plt.xticks(rotation=0)\n",
    "plt.show()"
   ]
  },
  {
   "cell_type": "code",
   "execution_count": 51,
   "metadata": {},
   "outputs": [],
   "source": [
    "GTEX_LGDs = ['STOP_LOST', 'SPLICE_ACCEPTOR_VARIANT', 'STOP_GAINED', 'SPLICE_DONOR_VARIANT', \n",
    "             'INITIATOR_CODON_CHANGE', 'FRAMESHIFT_VARIANT', 'STOP_LOST', \n",
    "             'SPLICE_DONOR_VARIANT', 'STOP_GAINED', 'SPLICE_ACCEPTOR_VARIANT']"
   ]
  },
  {
   "cell_type": "code",
   "execution_count": 52,
   "metadata": {},
   "outputs": [],
   "source": [
    "INDELs = pd.read_csv(\"../data/GTEx/GTEx_Data_20140613_ExomeSeq_180Indiv_GATK_HC_indels_annot.tsv\", delimiter=\"\\t\")\n",
    "SNVs = pd.read_csv(\"../data/GTEx/GTEx_Data_20140613_ExomeSeq_180Indiv_GATK_UG_SNPs_annot.tsv\", delimiter=\"\\t\")\n",
    "GTEx_LGDs = pd.concat([INDELs, SNVs])\n",
    "GTEx_LGDs = GTEx_LGDs[(GTEx_LGDs[\"SEVERE_IMPACT\"].isin(GTEX_LGDs)) & \n",
    "                      (GTEx_LGDs[\"GT\"]==\"0/1\")]"
   ]
  },
  {
   "cell_type": "code",
   "execution_count": 53,
   "metadata": {},
   "outputs": [],
   "source": [
    "GTEx_LGDs[\"Exons\"] = \"\"\n",
    "GTEx_LGDs[\"Transcripts\"] = \"\"\n",
    "GencodeMissingGene = []\n",
    "for i, row in GTEx_LGDs.iterrows():\n",
    "    Chr, Pos, Ref, Alt, gene = row[\"CHR\"], row[\"POS\"], row[\"REF\"], row[\"ALT\"], row[\"SEVERE_GENE_NAME\"]\n",
    "    if gene in GTFGeneTransExon:\n",
    "        ExonIDs, TranscriptIDs = searchExon(gene, Pos, Ref, Alt, GTFGeneTransExon)\n",
    "        GTEx_LGDs.loc[i, \"Exons\"] = ExonIDs\n",
    "        GTEx_LGDs.loc[i, \"Transcripts\"] = TranscriptIDs\n",
    "    else:\n",
    "        GencodeMissingGene.append(gene)"
   ]
  },
  {
   "cell_type": "code",
   "execution_count": 54,
   "metadata": {},
   "outputs": [
    {
     "data": {
      "text/html": [
       "<div>\n",
       "<style scoped>\n",
       "    .dataframe tbody tr th:only-of-type {\n",
       "        vertical-align: middle;\n",
       "    }\n",
       "\n",
       "    .dataframe tbody tr th {\n",
       "        vertical-align: top;\n",
       "    }\n",
       "\n",
       "    .dataframe thead th {\n",
       "        text-align: right;\n",
       "    }\n",
       "</style>\n",
       "<table border=\"1\" class=\"dataframe\">\n",
       "  <thead>\n",
       "    <tr style=\"text-align: right;\">\n",
       "      <th></th>\n",
       "      <th>CHR</th>\n",
       "      <th>POS</th>\n",
       "      <th>REF</th>\n",
       "      <th>ALT</th>\n",
       "      <th>AF</th>\n",
       "      <th>SEVERE_GENE</th>\n",
       "      <th>SEVERE_GENE_NAME</th>\n",
       "      <th>SEVERE_IMPACT</th>\n",
       "      <th>INDV</th>\n",
       "      <th>GT</th>\n",
       "      <th>DP</th>\n",
       "      <th>GQ</th>\n",
       "      <th>Exons</th>\n",
       "      <th>Transcripts</th>\n",
       "    </tr>\n",
       "  </thead>\n",
       "  <tbody>\n",
       "    <tr>\n",
       "      <th>2</th>\n",
       "      <td>1</td>\n",
       "      <td>905784</td>\n",
       "      <td>TG</td>\n",
       "      <td>T</td>\n",
       "      <td>0.002778</td>\n",
       "      <td>ENSG00000187583</td>\n",
       "      <td>PLEKHN1</td>\n",
       "      <td>FRAMESHIFT_VARIANT</td>\n",
       "      <td>GTEX-T5JW-0002-SM-3UZEZ</td>\n",
       "      <td>0/1</td>\n",
       "      <td>15</td>\n",
       "      <td>99.0</td>\n",
       "      <td></td>\n",
       "      <td></td>\n",
       "    </tr>\n",
       "    <tr>\n",
       "      <th>4</th>\n",
       "      <td>1</td>\n",
       "      <td>984430</td>\n",
       "      <td>TGCAGCTCAGGTGGGCGGGGAGGGGACGGGGCCGGGGCAGCTCAGG...</td>\n",
       "      <td>T</td>\n",
       "      <td>0.002890</td>\n",
       "      <td>ENSG00000188157</td>\n",
       "      <td>AGRN</td>\n",
       "      <td>SPLICE_DONOR_VARIANT</td>\n",
       "      <td>GTEX-X585-0003-SM-3USRA</td>\n",
       "      <td>0/1</td>\n",
       "      <td>14</td>\n",
       "      <td>99.0</td>\n",
       "      <td></td>\n",
       "      <td></td>\n",
       "    </tr>\n",
       "  </tbody>\n",
       "</table>\n",
       "</div>"
      ],
      "text/plain": [
       "  CHR     POS                                                REF ALT  \\\n",
       "2   1  905784                                                 TG   T   \n",
       "4   1  984430  TGCAGCTCAGGTGGGCGGGGAGGGGACGGGGCCGGGGCAGCTCAGG...   T   \n",
       "\n",
       "         AF      SEVERE_GENE SEVERE_GENE_NAME         SEVERE_IMPACT  \\\n",
       "2  0.002778  ENSG00000187583          PLEKHN1    FRAMESHIFT_VARIANT   \n",
       "4  0.002890  ENSG00000188157             AGRN  SPLICE_DONOR_VARIANT   \n",
       "\n",
       "                      INDV   GT  DP    GQ Exons Transcripts  \n",
       "2  GTEX-T5JW-0002-SM-3UZEZ  0/1  15  99.0                    \n",
       "4  GTEX-X585-0003-SM-3USRA  0/1  14  99.0                    "
      ]
     },
     "execution_count": 54,
     "metadata": {},
     "output_type": "execute_result"
    }
   ],
   "source": [
    "GTEx_LGDs.head(2)"
   ]
  },
  {
   "cell_type": "code",
   "execution_count": 82,
   "metadata": {},
   "outputs": [],
   "source": [
    "Jon_lgd = pd.read_csv(\"../data/GTEx/rare-lgd-jc.csv\")"
   ]
  },
  {
   "cell_type": "code",
   "execution_count": 90,
   "metadata": {
    "scrolled": false
   },
   "outputs": [
    {
     "data": {
      "text/html": [
       "<div>\n",
       "<style scoped>\n",
       "    .dataframe tbody tr th:only-of-type {\n",
       "        vertical-align: middle;\n",
       "    }\n",
       "\n",
       "    .dataframe tbody tr th {\n",
       "        vertical-align: top;\n",
       "    }\n",
       "\n",
       "    .dataframe thead th {\n",
       "        text-align: right;\n",
       "    }\n",
       "</style>\n",
       "<table border=\"1\" class=\"dataframe\">\n",
       "  <thead>\n",
       "    <tr style=\"text-align: right;\">\n",
       "      <th></th>\n",
       "      <th>CHR</th>\n",
       "      <th>POS</th>\n",
       "      <th>REF</th>\n",
       "      <th>ALT</th>\n",
       "      <th>MUT.TYPE</th>\n",
       "      <th>FREQ</th>\n",
       "      <th>ENS.GENE</th>\n",
       "      <th>ENS.TRANS</th>\n",
       "      <th>EXON.POS</th>\n",
       "      <th>SPLICE.POS</th>\n",
       "      <th>ANNOT</th>\n",
       "      <th>BIOTYPE</th>\n",
       "      <th>SAMPLE</th>\n",
       "      <th>SEVERE_GENE</th>\n",
       "      <th>SEVERE_IMPACT</th>\n",
       "      <th>INDV</th>\n",
       "    </tr>\n",
       "  </thead>\n",
       "  <tbody>\n",
       "    <tr>\n",
       "      <th>1</th>\n",
       "      <td>1</td>\n",
       "      <td>1334052</td>\n",
       "      <td>CTAGAG</td>\n",
       "      <td>C</td>\n",
       "      <td>indel</td>\n",
       "      <td>0.025</td>\n",
       "      <td>ENSG00000221978|ENSG00000221978</td>\n",
       "      <td>ENST00000400809|ENST00000408918</td>\n",
       "      <td>NaN</td>\n",
       "      <td>-2|-2</td>\n",
       "      <td>SPLICE_ACCEPTOR_VARIANT&amp;SPLICE_REGION_VARIANT&amp;...</td>\n",
       "      <td>PROTEIN_CODING|PROTEIN_CODING</td>\n",
       "      <td>GTEX-PW2O-0004-SM-4X61N|GTEX-PWOO-0004-SM-3UZF...</td>\n",
       "      <td>ENSG00000221978</td>\n",
       "      <td>SPLICE_ACCEPTOR_VARIANT</td>\n",
       "      <td>GTEX-WQUQ-0002-SM-4X62H</td>\n",
       "    </tr>\n",
       "    <tr>\n",
       "      <th>1</th>\n",
       "      <td>1</td>\n",
       "      <td>1334052</td>\n",
       "      <td>CTAGAG</td>\n",
       "      <td>C</td>\n",
       "      <td>indel</td>\n",
       "      <td>0.025</td>\n",
       "      <td>ENSG00000221978|ENSG00000221978</td>\n",
       "      <td>ENST00000400809|ENST00000408918</td>\n",
       "      <td>NaN</td>\n",
       "      <td>-2|-2</td>\n",
       "      <td>SPLICE_ACCEPTOR_VARIANT&amp;SPLICE_REGION_VARIANT&amp;...</td>\n",
       "      <td>PROTEIN_CODING|PROTEIN_CODING</td>\n",
       "      <td>GTEX-PW2O-0004-SM-4X61N|GTEX-PWOO-0004-SM-3UZF...</td>\n",
       "      <td>ENSG00000221978</td>\n",
       "      <td>SPLICE_ACCEPTOR_VARIANT</td>\n",
       "      <td>GTEX-WQUQ-0002-SM-4X62H</td>\n",
       "    </tr>\n",
       "    <tr>\n",
       "      <th>1</th>\n",
       "      <td>1</td>\n",
       "      <td>1334052</td>\n",
       "      <td>CTAGAG</td>\n",
       "      <td>C</td>\n",
       "      <td>indel</td>\n",
       "      <td>0.025</td>\n",
       "      <td>ENSG00000221978|ENSG00000221978</td>\n",
       "      <td>ENST00000400809|ENST00000408918</td>\n",
       "      <td>NaN</td>\n",
       "      <td>-2|-2</td>\n",
       "      <td>SPLICE_ACCEPTOR_VARIANT&amp;SPLICE_REGION_VARIANT&amp;...</td>\n",
       "      <td>PROTEIN_CODING|PROTEIN_CODING</td>\n",
       "      <td>GTEX-PW2O-0004-SM-4X61N|GTEX-PWOO-0004-SM-3UZF...</td>\n",
       "      <td>ENSG00000221978</td>\n",
       "      <td>SPLICE_ACCEPTOR_VARIANT</td>\n",
       "      <td>GTEX-WQUQ-0002-SM-4X62H</td>\n",
       "    </tr>\n",
       "    <tr>\n",
       "      <th>1</th>\n",
       "      <td>1</td>\n",
       "      <td>1334052</td>\n",
       "      <td>CTAGAG</td>\n",
       "      <td>C</td>\n",
       "      <td>indel</td>\n",
       "      <td>0.025</td>\n",
       "      <td>ENSG00000221978|ENSG00000221978</td>\n",
       "      <td>ENST00000400809|ENST00000408918</td>\n",
       "      <td>NaN</td>\n",
       "      <td>-2|-2</td>\n",
       "      <td>SPLICE_ACCEPTOR_VARIANT&amp;SPLICE_REGION_VARIANT&amp;...</td>\n",
       "      <td>PROTEIN_CODING|PROTEIN_CODING</td>\n",
       "      <td>GTEX-PW2O-0004-SM-4X61N|GTEX-PWOO-0004-SM-3UZF...</td>\n",
       "      <td>ENSG00000221978</td>\n",
       "      <td>SPLICE_ACCEPTOR_VARIANT</td>\n",
       "      <td>GTEX-WQUQ-0002-SM-4X62H</td>\n",
       "    </tr>\n",
       "    <tr>\n",
       "      <th>1</th>\n",
       "      <td>1</td>\n",
       "      <td>1334052</td>\n",
       "      <td>CTAGAG</td>\n",
       "      <td>C</td>\n",
       "      <td>indel</td>\n",
       "      <td>0.025</td>\n",
       "      <td>ENSG00000221978|ENSG00000221978</td>\n",
       "      <td>ENST00000400809|ENST00000408918</td>\n",
       "      <td>NaN</td>\n",
       "      <td>-2|-2</td>\n",
       "      <td>SPLICE_ACCEPTOR_VARIANT&amp;SPLICE_REGION_VARIANT&amp;...</td>\n",
       "      <td>PROTEIN_CODING|PROTEIN_CODING</td>\n",
       "      <td>GTEX-PW2O-0004-SM-4X61N|GTEX-PWOO-0004-SM-3UZF...</td>\n",
       "      <td>ENSG00000221978</td>\n",
       "      <td>SPLICE_ACCEPTOR_VARIANT</td>\n",
       "      <td>GTEX-WQUQ-0002-SM-4X62H</td>\n",
       "    </tr>\n",
       "  </tbody>\n",
       "</table>\n",
       "</div>"
      ],
      "text/plain": [
       "  CHR      POS     REF ALT MUT.TYPE   FREQ                         ENS.GENE  \\\n",
       "1   1  1334052  CTAGAG   C    indel  0.025  ENSG00000221978|ENSG00000221978   \n",
       "1   1  1334052  CTAGAG   C    indel  0.025  ENSG00000221978|ENSG00000221978   \n",
       "1   1  1334052  CTAGAG   C    indel  0.025  ENSG00000221978|ENSG00000221978   \n",
       "1   1  1334052  CTAGAG   C    indel  0.025  ENSG00000221978|ENSG00000221978   \n",
       "1   1  1334052  CTAGAG   C    indel  0.025  ENSG00000221978|ENSG00000221978   \n",
       "\n",
       "                         ENS.TRANS EXON.POS SPLICE.POS  \\\n",
       "1  ENST00000400809|ENST00000408918      NaN      -2|-2   \n",
       "1  ENST00000400809|ENST00000408918      NaN      -2|-2   \n",
       "1  ENST00000400809|ENST00000408918      NaN      -2|-2   \n",
       "1  ENST00000400809|ENST00000408918      NaN      -2|-2   \n",
       "1  ENST00000400809|ENST00000408918      NaN      -2|-2   \n",
       "\n",
       "                                               ANNOT  \\\n",
       "1  SPLICE_ACCEPTOR_VARIANT&SPLICE_REGION_VARIANT&...   \n",
       "1  SPLICE_ACCEPTOR_VARIANT&SPLICE_REGION_VARIANT&...   \n",
       "1  SPLICE_ACCEPTOR_VARIANT&SPLICE_REGION_VARIANT&...   \n",
       "1  SPLICE_ACCEPTOR_VARIANT&SPLICE_REGION_VARIANT&...   \n",
       "1  SPLICE_ACCEPTOR_VARIANT&SPLICE_REGION_VARIANT&...   \n",
       "\n",
       "                         BIOTYPE  \\\n",
       "1  PROTEIN_CODING|PROTEIN_CODING   \n",
       "1  PROTEIN_CODING|PROTEIN_CODING   \n",
       "1  PROTEIN_CODING|PROTEIN_CODING   \n",
       "1  PROTEIN_CODING|PROTEIN_CODING   \n",
       "1  PROTEIN_CODING|PROTEIN_CODING   \n",
       "\n",
       "                                              SAMPLE      SEVERE_GENE  \\\n",
       "1  GTEX-PW2O-0004-SM-4X61N|GTEX-PWOO-0004-SM-3UZF...  ENSG00000221978   \n",
       "1  GTEX-PW2O-0004-SM-4X61N|GTEX-PWOO-0004-SM-3UZF...  ENSG00000221978   \n",
       "1  GTEX-PW2O-0004-SM-4X61N|GTEX-PWOO-0004-SM-3UZF...  ENSG00000221978   \n",
       "1  GTEX-PW2O-0004-SM-4X61N|GTEX-PWOO-0004-SM-3UZF...  ENSG00000221978   \n",
       "1  GTEX-PW2O-0004-SM-4X61N|GTEX-PWOO-0004-SM-3UZF...  ENSG00000221978   \n",
       "\n",
       "             SEVERE_IMPACT                     INDV  \n",
       "1  SPLICE_ACCEPTOR_VARIANT  GTEX-WQUQ-0002-SM-4X62H  \n",
       "1  SPLICE_ACCEPTOR_VARIANT  GTEX-WQUQ-0002-SM-4X62H  \n",
       "1  SPLICE_ACCEPTOR_VARIANT  GTEX-WQUQ-0002-SM-4X62H  \n",
       "1  SPLICE_ACCEPTOR_VARIANT  GTEX-WQUQ-0002-SM-4X62H  \n",
       "1  SPLICE_ACCEPTOR_VARIANT  GTEX-WQUQ-0002-SM-4X62H  "
      ]
     },
     "execution_count": 90,
     "metadata": {},
     "output_type": "execute_result"
    }
   ],
   "source": [
    "Jon_lgd[\"SEVERE_GENE\"] = Jon_lgd.apply(lambda row:row[\"ENS.GENE\"].split(\"|\")[0], axis=1)\n",
    "Jon_lgd[\"SEVERE_IMPACT\"] = Jon_lgd.apply(lambda row:row[\"ANNOT\"].split(\"&\")[0], axis=1)\n",
    "Jon_lgd = Jon_lgd[Jon_lgd[\"SEVERE_IMPACT\"].isin(GTEX_LGDs)]\n",
    "New_df = []\n",
    "for i, row in Jon_lgd.iterrows():\n",
    "    Indvs = row[\"SAMPLE\"].split(\"|\")\n",
    "    new_row = row.copy(deep=True)\n",
    "    for indv in Indvs:\n",
    "        new_row[\"INDV\"] = indv\n",
    "        #print(new_row[\"INDV\"])\n",
    "        New_df.append(new_row)\n",
    "Jon_lgd_new = pd.DataFrame(New_df)\n",
    "Jon_lgd_new.head(5)"
   ]
  },
  {
   "cell_type": "code",
   "execution_count": 119,
   "metadata": {},
   "outputs": [
    {
     "name": "stdout",
     "output_type": "stream",
     "text": [
      "GTEX-WQUQ-0002-SM-4X62H\n",
      "GTEX-WQUQ-0002-SM-4X62H\n"
     ]
    }
   ],
   "source": [
    "print(New_df[0][\"INDV\"])\n",
    "print(New_df[1][\"INDV\"])"
   ]
  },
  {
   "cell_type": "code",
   "execution_count": 59,
   "metadata": {},
   "outputs": [],
   "source": [
    "GeneKept = list(Jon_lgd[\"SEVERE_GENE\"]) + list(GTEx_LGDs[\"SEVERE_GENE\"])\n"
   ]
  },
  {
   "cell_type": "code",
   "execution_count": 64,
   "metadata": {},
   "outputs": [
    {
     "name": "stdout",
     "output_type": "stream",
     "text": [
      "1583 7065\n"
     ]
    }
   ],
   "source": [
    "print(len(SelectedTissueSamples[\"SAMPID\"]), len(GeneKept))"
   ]
  },
  {
   "cell_type": "code",
   "execution_count": 148,
   "metadata": {},
   "outputs": [],
   "source": [
    "#PreProcessTranscripTPM(SelectedTissueSamples[\"SAMPID\"].values, GeneKept)\n",
    "#PreProcessGeneTPM(SelectedTissueSamples[\"SAMPID\"].values, GeneKept)\n",
    "#PreProcessExonTPM(SelectedTissueSamples[\"SAMPID\"].values, GeneKept)"
   ]
  },
  {
   "cell_type": "code",
   "execution_count": 137,
   "metadata": {},
   "outputs": [],
   "source": []
  }
 ],
 "metadata": {
  "kernelspec": {
   "display_name": "Python 3",
   "language": "python",
   "name": "python3"
  },
  "language_info": {
   "codemirror_mode": {
    "name": "ipython",
    "version": 3
   },
   "file_extension": ".py",
   "mimetype": "text/x-python",
   "name": "python",
   "nbconvert_exporter": "python",
   "pygments_lexer": "ipython3",
   "version": "3.7.1"
  }
 },
 "nbformat": 4,
 "nbformat_minor": 2
}
