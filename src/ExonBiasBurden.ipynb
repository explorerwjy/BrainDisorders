{
 "cells": [
  {
   "cell_type": "code",
   "execution_count": 1,
   "metadata": {},
   "outputs": [],
   "source": [
    "%load_ext autoreload\n",
    "%autoreload 2\n",
    "from utils import *\n",
    "from IPython.display import display, HTML\n",
    "import scipy.stats \n",
    "ins = BrainSpan()"
   ]
  },
  {
   "cell_type": "code",
   "execution_count": 5,
   "metadata": {},
   "outputs": [
    {
     "name": "stdout",
     "output_type": "stream",
     "text": [
      "0.23.4\n",
      "1.15.4\n"
     ]
    }
   ],
   "source": [
    "print (pd.__version__)\n",
    "print (np.__version__)"
   ]
  },
  {
   "cell_type": "code",
   "execution_count": 3,
   "metadata": {},
   "outputs": [
    {
     "data": {
      "text/plain": [
       "(391, 16)"
      ]
     },
     "execution_count": 3,
     "metadata": {},
     "output_type": "execute_result"
    }
   ],
   "source": [
    "DatDir = \"/Users/jiayao/Work/BrainDisorders/data/DenovoVariants/\"\n",
    "ProLGD = pd.read_excel(DatDir + \"wigler2014ProLGD.xlsx\")\n",
    "ProLGD.shape"
   ]
  },
  {
   "cell_type": "code",
   "execution_count": 4,
   "metadata": {
    "scrolled": false
   },
   "outputs": [
    {
     "data": {
      "text/plain": [
       "array(['familyId', 'location', 'variant', 'vcfVariant', 'inChild',\n",
       "       'fromParent', 'effectGene', 'effectType', 'familyDescription',\n",
       "       'CSHL', 'YALE', 'UW', 'IossifovWE2012', 'EichlerWE2012',\n",
       "       'StateWE2012', 'EichlerTG2012'], dtype=object)"
      ]
     },
     "execution_count": 4,
     "metadata": {},
     "output_type": "execute_result"
    }
   ],
   "source": [
    "ProLGD.columns.values"
   ]
  },
  {
   "cell_type": "code",
   "execution_count": 5,
   "metadata": {},
   "outputs": [
    {
     "data": {
      "text/html": [
       "<div>\n",
       "<style scoped>\n",
       "    .dataframe tbody tr th:only-of-type {\n",
       "        vertical-align: middle;\n",
       "    }\n",
       "\n",
       "    .dataframe tbody tr th {\n",
       "        vertical-align: top;\n",
       "    }\n",
       "\n",
       "    .dataframe thead th {\n",
       "        text-align: right;\n",
       "    }\n",
       "</style>\n",
       "<table border=\"1\" class=\"dataframe\">\n",
       "  <thead>\n",
       "    <tr style=\"text-align: right;\">\n",
       "      <th></th>\n",
       "      <th>familyId</th>\n",
       "      <th>location</th>\n",
       "      <th>variant</th>\n",
       "      <th>vcfVariant</th>\n",
       "      <th>inChild</th>\n",
       "      <th>fromParent</th>\n",
       "      <th>effectGene</th>\n",
       "      <th>effectType</th>\n",
       "      <th>familyDescription</th>\n",
       "    </tr>\n",
       "  </thead>\n",
       "  <tbody>\n",
       "    <tr>\n",
       "      <th>0</th>\n",
       "      <td>14320</td>\n",
       "      <td>3:127395222</td>\n",
       "      <td>sub(T-&gt;G)</td>\n",
       "      <td>3:127395222:T:G</td>\n",
       "      <td>pF</td>\n",
       "      <td>NaN</td>\n",
       "      <td>ABTB1</td>\n",
       "      <td>noStart</td>\n",
       "      <td>pFsM</td>\n",
       "    </tr>\n",
       "    <tr>\n",
       "      <th>1</th>\n",
       "      <td>13585</td>\n",
       "      <td>12:109577550</td>\n",
       "      <td>ins(G)</td>\n",
       "      <td>12:109577549:A:AG</td>\n",
       "      <td>pM</td>\n",
       "      <td>dad</td>\n",
       "      <td>ACACB</td>\n",
       "      <td>frame-shift</td>\n",
       "      <td>pMsF</td>\n",
       "    </tr>\n",
       "  </tbody>\n",
       "</table>\n",
       "</div>"
      ],
      "text/plain": [
       "   familyId      location    variant         vcfVariant inChild fromParent  \\\n",
       "0     14320   3:127395222  sub(T->G)    3:127395222:T:G      pF        NaN   \n",
       "1     13585  12:109577550     ins(G)  12:109577549:A:AG      pM        dad   \n",
       "\n",
       "  effectGene   effectType familyDescription  \n",
       "0      ABTB1      noStart              pFsM  \n",
       "1      ACACB  frame-shift              pMsF  "
      ]
     },
     "execution_count": 5,
     "metadata": {},
     "output_type": "execute_result"
    }
   ],
   "source": [
    "ProLGD = ProLGD[['familyId', 'location', 'variant', 'vcfVariant', 'inChild',\n",
    "       'fromParent', 'effectGene', 'effectType', 'familyDescription']]\n",
    "ProLGD.loc[ProLGD[\"effectGene\"]==\"MTHFS,ST20-MTHFS\", \"effectGene\"] = \"MTHFS\"\n",
    "ProLGD.loc[ProLGD[\"effectGene\"]==\"UGT1A10,UGT1A8,UGT1A9,UGT1A4,UGT1A5,UGT1A6,UGT1A7,UGT1A1,UGT1A3\", \"effectGene\"] = \"UGT1A1\"\n",
    "ProLGD.head(2)"
   ]
  },
  {
   "cell_type": "code",
   "execution_count": 6,
   "metadata": {},
   "outputs": [
    {
     "name": "stdout",
     "output_type": "stream",
     "text": [
      "352\n"
     ]
    }
   ],
   "source": [
    "SSC_LGD_GENES = set(ProLGD[\"effectGene\"].values)\n",
    "print(len(SSC_LGD_GENES))"
   ]
  },
  {
   "cell_type": "code",
   "execution_count": 7,
   "metadata": {},
   "outputs": [],
   "source": [
    "Genes = {}\n",
    "hand = open(\"../data/gencode.v19.chr_patch_hapl_scaff.annotation.gtf\", 'rt')\n",
    "GeneIDs = []\n",
    "for l in hand:\n",
    "    if l.startswith(\"#\"):\n",
    "        continue\n",
    "    llist = l.strip().split(\"\\t\")\n",
    "    info = gtf_info_parser(llist[8]) \n",
    "    CHR = llist[0].lstrip(\"chr\")\n",
    "    strand = llist[6]\n",
    "    start = int(llist[3])\n",
    "    end = int(llist[4])\n",
    "    if llist[2] == \"gene\":\n",
    "        gene_name = info[\"gene_name\"]\n",
    "        gene_id = info[\"gene_id\"].split(\".\")[0]\n",
    "        Genes[gene_name] = GTFGene(gene_name, gene_id, strand)\n",
    "        GeneIDs.append(gene_id)"
   ]
  },
  {
   "cell_type": "code",
   "execution_count": 8,
   "metadata": {},
   "outputs": [
    {
     "data": {
      "text/plain": [
       "set()"
      ]
     },
     "execution_count": 8,
     "metadata": {},
     "output_type": "execute_result"
    }
   ],
   "source": [
    "GeneNames = set(Genes.keys())\n",
    "SSC_LGD_GENES.difference(GeneNames)"
   ]
  },
  {
   "cell_type": "code",
   "execution_count": 9,
   "metadata": {},
   "outputs": [],
   "source": [
    "#subsetGTF(\"../data/gencode.v19.chr_patch_hapl_scaff.annotation.gtf\", GeneNames, \n",
    "#          \"../data/gencode.v19.SSC_LGD.gtf\")"
   ]
  },
  {
   "cell_type": "code",
   "execution_count": 36,
   "metadata": {},
   "outputs": [],
   "source": [
    "Genes = LoadGTF4FracIso(\"../data/gencode.v19.SSC_LGD.gtf\")"
   ]
  },
  {
   "cell_type": "code",
   "execution_count": 37,
   "metadata": {},
   "outputs": [],
   "source": [
    "ProLGD = LoadVar4FracIso(ProLGD, Genes)"
   ]
  },
  {
   "cell_type": "code",
   "execution_count": 38,
   "metadata": {},
   "outputs": [],
   "source": [
    "def ExonsList2ENSExonID(row):\n",
    "    ExonList = row[\"Exons\"]\n",
    "    ExonList = [exon.split(\".\")[0] for exon in ExonList]\n",
    "    return \";\".join(ExonList)\n",
    "def ExonsList2ENSTransID(row):\n",
    "    ExonList = row[\"Transcripts\"]\n",
    "    ExonList = [exon.split(\".\")[0] for exon in ExonList]\n",
    "    return \";\".join(ExonList)\n",
    "ProLGD[\"ENSExonIDs\"] = ProLGD.apply(lambda row: ExonsList2ENSExonID(row), axis=1)\n",
    "ProLGD[\"ENSTransIDs\"] = ProLGD.apply(lambda row: ExonsList2ENSTransID(row), axis=1)"
   ]
  },
  {
   "cell_type": "code",
   "execution_count": 39,
   "metadata": {},
   "outputs": [
    {
     "data": {
      "text/html": [
       "<div>\n",
       "<style scoped>\n",
       "    .dataframe tbody tr th:only-of-type {\n",
       "        vertical-align: middle;\n",
       "    }\n",
       "\n",
       "    .dataframe tbody tr th {\n",
       "        vertical-align: top;\n",
       "    }\n",
       "\n",
       "    .dataframe thead th {\n",
       "        text-align: right;\n",
       "    }\n",
       "</style>\n",
       "<table border=\"1\" class=\"dataframe\">\n",
       "  <thead>\n",
       "    <tr style=\"text-align: right;\">\n",
       "      <th></th>\n",
       "      <th>familyId</th>\n",
       "      <th>location</th>\n",
       "      <th>variant</th>\n",
       "      <th>vcfVariant</th>\n",
       "      <th>inChild</th>\n",
       "      <th>fromParent</th>\n",
       "      <th>effectGene</th>\n",
       "      <th>effectType</th>\n",
       "      <th>familyDescription</th>\n",
       "      <th>Exons</th>\n",
       "      <th>Transcripts</th>\n",
       "      <th>ENSExonIDs</th>\n",
       "      <th>ENSTransIDs</th>\n",
       "    </tr>\n",
       "  </thead>\n",
       "  <tbody>\n",
       "    <tr>\n",
       "      <th>235</th>\n",
       "      <td>13839</td>\n",
       "      <td>1:145589355</td>\n",
       "      <td>ins(CA)</td>\n",
       "      <td>1:145589354:C:CCA</td>\n",
       "      <td>pM</td>\n",
       "      <td>NaN</td>\n",
       "      <td>NUDT17</td>\n",
       "      <td>frame-shift</td>\n",
       "      <td>pMsF</td>\n",
       "      <td>[ENSE00001905197.1]</td>\n",
       "      <td>[ENST00000334513]</td>\n",
       "      <td>ENSE00001905197</td>\n",
       "      <td>ENST00000334513</td>\n",
       "    </tr>\n",
       "  </tbody>\n",
       "</table>\n",
       "</div>"
      ],
      "text/plain": [
       "     familyId     location  variant         vcfVariant inChild fromParent  \\\n",
       "235     13839  1:145589355  ins(CA)  1:145589354:C:CCA      pM        NaN   \n",
       "\n",
       "    effectGene   effectType familyDescription                Exons  \\\n",
       "235     NUDT17  frame-shift              pMsF  [ENSE00001905197.1]   \n",
       "\n",
       "           Transcripts       ENSExonIDs      ENSTransIDs  \n",
       "235  [ENST00000334513]  ENSE00001905197  ENST00000334513  "
      ]
     },
     "execution_count": 39,
     "metadata": {},
     "output_type": "execute_result"
    }
   ],
   "source": [
    "ProLGD[ProLGD['familyId']==13839]"
   ]
  },
  {
   "cell_type": "code",
   "execution_count": 40,
   "metadata": {},
   "outputs": [],
   "source": [
    "exon_exp_row = pd.read_csv(\n",
    "    \"/Users/jiayao/Work/BrainDisorders/data/expression/brainspan/exons_matrix/rows_metadata.addExonID.csv\", delimiter = \",\")\n",
    "exon_exp_col = pd.read_csv(\n",
    "    \"/Users/jiayao/Work/BrainDisorders/data/expression/brainspan/exons_matrix/columns_metadata.csv\", delimiter=\",\")"
   ]
  },
  {
   "cell_type": "code",
   "execution_count": 41,
   "metadata": {},
   "outputs": [
    {
     "data": {
      "text/html": [
       "<div>\n",
       "<style scoped>\n",
       "    .dataframe tbody tr th:only-of-type {\n",
       "        vertical-align: middle;\n",
       "    }\n",
       "\n",
       "    .dataframe tbody tr th {\n",
       "        vertical-align: top;\n",
       "    }\n",
       "\n",
       "    .dataframe thead th {\n",
       "        text-align: right;\n",
       "    }\n",
       "</style>\n",
       "<table border=\"1\" class=\"dataframe\">\n",
       "  <thead>\n",
       "    <tr style=\"text-align: right;\">\n",
       "      <th></th>\n",
       "      <th>row_num</th>\n",
       "      <th>gene_id</th>\n",
       "      <th>ensembl_gene_id</th>\n",
       "      <th>gene_symbol</th>\n",
       "      <th>entrez_id</th>\n",
       "      <th>start</th>\n",
       "      <th>end</th>\n",
       "      <th>exon length</th>\n",
       "      <th>cds length</th>\n",
       "      <th>EXONID2</th>\n",
       "    </tr>\n",
       "  </thead>\n",
       "  <tbody>\n",
       "    <tr>\n",
       "      <th>0</th>\n",
       "      <td>1</td>\n",
       "      <td>1086864</td>\n",
       "      <td>ENSG00000000003</td>\n",
       "      <td>TSPAN6</td>\n",
       "      <td>7105.0</td>\n",
       "      <td>99883666</td>\n",
       "      <td>99884983</td>\n",
       "      <td>1317</td>\n",
       "      <td>1317</td>\n",
       "      <td>TSPAN6_1</td>\n",
       "    </tr>\n",
       "    <tr>\n",
       "      <th>1</th>\n",
       "      <td>2</td>\n",
       "      <td>1086864</td>\n",
       "      <td>ENSG00000000003</td>\n",
       "      <td>TSPAN6</td>\n",
       "      <td>7105.0</td>\n",
       "      <td>99885755</td>\n",
       "      <td>99885863</td>\n",
       "      <td>108</td>\n",
       "      <td>108</td>\n",
       "      <td>TSPAN6_2</td>\n",
       "    </tr>\n",
       "    <tr>\n",
       "      <th>2</th>\n",
       "      <td>3</td>\n",
       "      <td>1086864</td>\n",
       "      <td>ENSG00000000003</td>\n",
       "      <td>TSPAN6</td>\n",
       "      <td>7105.0</td>\n",
       "      <td>99887481</td>\n",
       "      <td>99887565</td>\n",
       "      <td>84</td>\n",
       "      <td>84</td>\n",
       "      <td>TSPAN6_3</td>\n",
       "    </tr>\n",
       "    <tr>\n",
       "      <th>3</th>\n",
       "      <td>4</td>\n",
       "      <td>1086864</td>\n",
       "      <td>ENSG00000000003</td>\n",
       "      <td>TSPAN6</td>\n",
       "      <td>7105.0</td>\n",
       "      <td>99888401</td>\n",
       "      <td>99888536</td>\n",
       "      <td>135</td>\n",
       "      <td>135</td>\n",
       "      <td>TSPAN6_4</td>\n",
       "    </tr>\n",
       "    <tr>\n",
       "      <th>4</th>\n",
       "      <td>5</td>\n",
       "      <td>1086864</td>\n",
       "      <td>ENSG00000000003</td>\n",
       "      <td>TSPAN6</td>\n",
       "      <td>7105.0</td>\n",
       "      <td>99888927</td>\n",
       "      <td>99889026</td>\n",
       "      <td>99</td>\n",
       "      <td>99</td>\n",
       "      <td>TSPAN6_5</td>\n",
       "    </tr>\n",
       "  </tbody>\n",
       "</table>\n",
       "</div>"
      ],
      "text/plain": [
       "   row_num  gene_id  ensembl_gene_id gene_symbol  entrez_id     start  \\\n",
       "0        1  1086864  ENSG00000000003      TSPAN6     7105.0  99883666   \n",
       "1        2  1086864  ENSG00000000003      TSPAN6     7105.0  99885755   \n",
       "2        3  1086864  ENSG00000000003      TSPAN6     7105.0  99887481   \n",
       "3        4  1086864  ENSG00000000003      TSPAN6     7105.0  99888401   \n",
       "4        5  1086864  ENSG00000000003      TSPAN6     7105.0  99888927   \n",
       "\n",
       "        end  exon length  cds length   EXONID2  \n",
       "0  99884983         1317        1317  TSPAN6_1  \n",
       "1  99885863          108         108  TSPAN6_2  \n",
       "2  99887565           84          84  TSPAN6_3  \n",
       "3  99888536          135         135  TSPAN6_4  \n",
       "4  99889026           99          99  TSPAN6_5  "
      ]
     },
     "execution_count": 41,
     "metadata": {},
     "output_type": "execute_result"
    }
   ],
   "source": [
    "exon_exp_row.head()"
   ]
  },
  {
   "cell_type": "code",
   "execution_count": 42,
   "metadata": {
    "scrolled": false
   },
   "outputs": [
    {
     "name": "stdout",
     "output_type": "stream",
     "text": [
      "gene not find 12563 CCPG1 ENSG00000260916\n",
      "gene not find 12681 GRIN2B ENSG00000273079\n",
      "gene not find 12547 GRIN2B ENSG00000273079\n",
      "gene not find 11691 GRIN2B ENSG00000273079\n",
      "gene not find 13861 KIR2DL2 ENSG00000263175\n",
      "gene not find 12840 TM4SF19 ENSG00000273331\n",
      "exon not find 13913 ZNF853 ENSG00000236609\n"
     ]
    }
   ],
   "source": [
    "def searchExon(ensembl_gene_id, Chr, Pos, Ref, Alt, ExonRow, ExonCol):\n",
    "    Pos, LenV = int(Pos), len(Ref)-len(Alt)\n",
    "    ExonRow = ExonRow[ExonRow[\"ensembl_gene_id\"]==ensembl_gene_id]\n",
    "    if ExonRow.shape[0] == 0:\n",
    "        return -1, -1\n",
    "    for i, row in ExonRow.iterrows():\n",
    "        row_num, start, end = row[\"row_num\"],int(row[\"start\"]),int(row[\"end\"])\n",
    "        #print(Pos, start, end)\n",
    "        if Pos > start -3 and Pos < end + 3:\n",
    "            #return row_num\n",
    "            return \"{}:{}\".format(ensembl_gene_id, start), row_num\n",
    "        elif LenV > 0: # a delition may span a splice site\n",
    "            if (Pos < start-3 and Pos + LenV > start ) or (Pos < end and Pos + LenV > end +3):\n",
    "                #return row_num\n",
    "                return \"{}:{}\".format(ensembl_gene_id, start), row_num\n",
    "    return -2, -2\n",
    "\n",
    "MisLeadingENSG = []\n",
    "ProLGD[\"BrainSpanExonID\"] = \"NA\"\n",
    "ProLGD[\"BrainSpanExonRowNum\"] = \"NA\"\n",
    "for i, row in ProLGD.iterrows():\n",
    "    famid, gene, (Chr, Pos, Ref, Alt) = row[\"familyId\"], row[\"effectGene\"], row[\"vcfVariant\"].split(\":\")\n",
    "    ProLGD.at[i, \"ENSGID\"] = Genes[gene].GeneID\n",
    "    exonId1, exonId2 = searchExon(Genes[gene].GeneID, Chr, Pos, Ref, Alt, exon_exp_row, exon_exp_col)\n",
    "    ProLGD.at[i, \"BrainSpanExonID\"] = exonId1\n",
    "    ProLGD.at[i, \"BrainSpanExonRowNum\"] = exonId2\n",
    "    if len(Ref) == len(Alt):\n",
    "        ProLGD.at[i, \"KEY\"] = \"%s-%s:%d\"%(famid, Chr, int(Pos))\n",
    "    else:\n",
    "        ProLGD.at[i, \"KEY\"] = \"%s-%s:%d\"%(famid, Chr, int(Pos)+1)\n",
    "    if exonId1 == -1:\n",
    "        MisLeadingENSG.append((gene))\n",
    "        print(\"gene not find\", famid, gene, Genes[gene].GeneID)\n",
    "    elif exonId1 == -2:\n",
    "        print(\"exon not find\", famid, gene, Genes[gene].GeneID)"
   ]
  },
  {
   "cell_type": "code",
   "execution_count": 43,
   "metadata": {},
   "outputs": [
    {
     "name": "stdout",
     "output_type": "stream",
     "text": [
      "CCPG1\n",
      "ENSG00000150086\n",
      "ENSG00000150086\n",
      "ENSG00000150086\n",
      "KIR2DL2\n",
      "ENSG00000145107\n"
     ]
    }
   ],
   "source": [
    "NewENSG = {}\n",
    "for g in MisLeadingENSG:\n",
    "    ExonRow = exon_exp_row[exon_exp_row[\"gene_symbol\"]==g]\n",
    "    if ExonRow.head(1).shape[0] == 1:\n",
    "        #display(ExonRow.head(1))\n",
    "        NewENSG[g] = ExonRow.head(1)[\"ensembl_gene_id\"].values[0]\n",
    "        Genes[g].GeneID = ExonRow.head(1)[\"ensembl_gene_id\"].values[0]\n",
    "        print(Genes[g].GeneID)\n",
    "    else:\n",
    "        print(g)"
   ]
  },
  {
   "cell_type": "code",
   "execution_count": 44,
   "metadata": {
    "scrolled": false
   },
   "outputs": [
    {
     "data": {
      "text/plain": [
       "Index(['familyId', 'location', 'variant', 'vcfVariant', 'inChild',\n",
       "       'fromParent', 'effectGene', 'effectType', 'familyDescription', 'Exons',\n",
       "       'Transcripts', 'ENSExonIDs', 'ENSTransIDs', 'BrainSpanExonID',\n",
       "       'BrainSpanExonRowNum', 'ENSGID', 'KEY'],\n",
       "      dtype='object')"
      ]
     },
     "execution_count": 44,
     "metadata": {},
     "output_type": "execute_result"
    }
   ],
   "source": [
    "ProLGD.columns"
   ]
  },
  {
   "cell_type": "code",
   "execution_count": 45,
   "metadata": {},
   "outputs": [
    {
     "data": {
      "text/html": [
       "<div>\n",
       "<style scoped>\n",
       "    .dataframe tbody tr th:only-of-type {\n",
       "        vertical-align: middle;\n",
       "    }\n",
       "\n",
       "    .dataframe tbody tr th {\n",
       "        vertical-align: top;\n",
       "    }\n",
       "\n",
       "    .dataframe thead th {\n",
       "        text-align: right;\n",
       "    }\n",
       "</style>\n",
       "<table border=\"1\" class=\"dataframe\">\n",
       "  <thead>\n",
       "    <tr style=\"text-align: right;\">\n",
       "      <th></th>\n",
       "      <th>KEY</th>\n",
       "      <th>familyId</th>\n",
       "      <th>location</th>\n",
       "      <th>variant</th>\n",
       "      <th>vcfVariant</th>\n",
       "      <th>inChild</th>\n",
       "      <th>fromParent</th>\n",
       "      <th>ENSGID</th>\n",
       "      <th>effectGene</th>\n",
       "      <th>effectType</th>\n",
       "      <th>familyDescription</th>\n",
       "      <th>ENSExonIDs</th>\n",
       "      <th>ENSTransIDs</th>\n",
       "      <th>BrainSpanExonID</th>\n",
       "      <th>BrainSpanExonRowNum</th>\n",
       "    </tr>\n",
       "  </thead>\n",
       "  <tbody>\n",
       "    <tr>\n",
       "      <th>0</th>\n",
       "      <td>14320-3:127395222</td>\n",
       "      <td>14320</td>\n",
       "      <td>3:127395222</td>\n",
       "      <td>sub(T-&gt;G)</td>\n",
       "      <td>3:127395222:T:G</td>\n",
       "      <td>pF</td>\n",
       "      <td>NaN</td>\n",
       "      <td>ENSG00000114626</td>\n",
       "      <td>ABTB1</td>\n",
       "      <td>noStart</td>\n",
       "      <td>pFsM</td>\n",
       "      <td>ENSE00003537266;ENSE00003616869</td>\n",
       "      <td>ENST00000393363;ENST00000232744;ENST0000046813...</td>\n",
       "      <td>ENSG00000114626:127394328</td>\n",
       "      <td>65963</td>\n",
       "    </tr>\n",
       "    <tr>\n",
       "      <th>1</th>\n",
       "      <td>13585-12:109577550</td>\n",
       "      <td>13585</td>\n",
       "      <td>12:109577550</td>\n",
       "      <td>ins(G)</td>\n",
       "      <td>12:109577549:A:AG</td>\n",
       "      <td>pM</td>\n",
       "      <td>dad</td>\n",
       "      <td>ENSG00000076555</td>\n",
       "      <td>ACACB</td>\n",
       "      <td>frame-shift</td>\n",
       "      <td>pMsF</td>\n",
       "      <td>ENSE00002307745;ENSE00002274661</td>\n",
       "      <td>ENST00000539864;ENST00000377854;ENST0000037784...</td>\n",
       "      <td>ENSG00000076555:109577201</td>\n",
       "      <td>23792</td>\n",
       "    </tr>\n",
       "    <tr>\n",
       "      <th>2</th>\n",
       "      <td>13702-3:58491005</td>\n",
       "      <td>13702</td>\n",
       "      <td>3:58491005</td>\n",
       "      <td>del(1)</td>\n",
       "      <td>3:58491004:CA:C</td>\n",
       "      <td>pM</td>\n",
       "      <td>NaN</td>\n",
       "      <td>ENSG00000168306</td>\n",
       "      <td>ACOX2</td>\n",
       "      <td>frame-shift</td>\n",
       "      <td>pMsM</td>\n",
       "      <td>ENSE00003509301</td>\n",
       "      <td>ENST00000302819;ENST00000459701</td>\n",
       "      <td>ENSG00000168306:58490862</td>\n",
       "      <td>171602</td>\n",
       "    </tr>\n",
       "    <tr>\n",
       "      <th>3</th>\n",
       "      <td>12561-20:3655475</td>\n",
       "      <td>12561</td>\n",
       "      <td>20:3655475</td>\n",
       "      <td>sub(G-&gt;A)</td>\n",
       "      <td>20:3655475:G:A</td>\n",
       "      <td>pM</td>\n",
       "      <td>NaN</td>\n",
       "      <td>ENSG00000149451</td>\n",
       "      <td>ADAM33</td>\n",
       "      <td>nonsense</td>\n",
       "      <td>pMsF</td>\n",
       "      <td>ENSE00003214806</td>\n",
       "      <td>ENST00000350009;ENST00000379861;ENST00000356518</td>\n",
       "      <td>ENSG00000149451:3654958</td>\n",
       "      <td>131960</td>\n",
       "    </tr>\n",
       "    <tr>\n",
       "      <th>4</th>\n",
       "      <td>13994-19:8645778</td>\n",
       "      <td>13994</td>\n",
       "      <td>19:8645778</td>\n",
       "      <td>del(9)</td>\n",
       "      <td>19:8645777:CTAGTGGCCA:C</td>\n",
       "      <td>pM</td>\n",
       "      <td>NaN</td>\n",
       "      <td>ENSG00000142303</td>\n",
       "      <td>ADAMTS10</td>\n",
       "      <td>noEnd</td>\n",
       "      <td>pM</td>\n",
       "      <td>ENSE00003109980;ENSE00001316649</td>\n",
       "      <td>ENST00000595838;ENST00000597188;ENST00000270328</td>\n",
       "      <td>ENSG00000142303:8645125</td>\n",
       "      <td>118537</td>\n",
       "    </tr>\n",
       "  </tbody>\n",
       "</table>\n",
       "</div>"
      ],
      "text/plain": [
       "                  KEY  familyId      location    variant  \\\n",
       "0   14320-3:127395222     14320   3:127395222  sub(T->G)   \n",
       "1  13585-12:109577550     13585  12:109577550     ins(G)   \n",
       "2    13702-3:58491005     13702    3:58491005     del(1)   \n",
       "3    12561-20:3655475     12561    20:3655475  sub(G->A)   \n",
       "4    13994-19:8645778     13994    19:8645778     del(9)   \n",
       "\n",
       "                vcfVariant inChild fromParent           ENSGID effectGene  \\\n",
       "0          3:127395222:T:G      pF        NaN  ENSG00000114626      ABTB1   \n",
       "1        12:109577549:A:AG      pM        dad  ENSG00000076555      ACACB   \n",
       "2          3:58491004:CA:C      pM        NaN  ENSG00000168306      ACOX2   \n",
       "3           20:3655475:G:A      pM        NaN  ENSG00000149451     ADAM33   \n",
       "4  19:8645777:CTAGTGGCCA:C      pM        NaN  ENSG00000142303   ADAMTS10   \n",
       "\n",
       "    effectType familyDescription                       ENSExonIDs  \\\n",
       "0      noStart              pFsM  ENSE00003537266;ENSE00003616869   \n",
       "1  frame-shift              pMsF  ENSE00002307745;ENSE00002274661   \n",
       "2  frame-shift              pMsM                  ENSE00003509301   \n",
       "3     nonsense              pMsF                  ENSE00003214806   \n",
       "4        noEnd                pM  ENSE00003109980;ENSE00001316649   \n",
       "\n",
       "                                         ENSTransIDs  \\\n",
       "0  ENST00000393363;ENST00000232744;ENST0000046813...   \n",
       "1  ENST00000539864;ENST00000377854;ENST0000037784...   \n",
       "2                    ENST00000302819;ENST00000459701   \n",
       "3    ENST00000350009;ENST00000379861;ENST00000356518   \n",
       "4    ENST00000595838;ENST00000597188;ENST00000270328   \n",
       "\n",
       "             BrainSpanExonID BrainSpanExonRowNum  \n",
       "0  ENSG00000114626:127394328               65963  \n",
       "1  ENSG00000076555:109577201               23792  \n",
       "2   ENSG00000168306:58490862              171602  \n",
       "3    ENSG00000149451:3654958              131960  \n",
       "4    ENSG00000142303:8645125              118537  "
      ]
     },
     "execution_count": 45,
     "metadata": {},
     "output_type": "execute_result"
    }
   ],
   "source": [
    "ProLGD = ProLGD[['KEY', 'familyId', 'location', 'variant', 'vcfVariant', 'inChild',\n",
    "       'fromParent', 'ENSGID', 'effectGene', 'effectType', 'familyDescription', \n",
    "        'ENSExonIDs', 'ENSTransIDs', 'BrainSpanExonID', \"BrainSpanExonRowNum\"]]\n",
    "ProLGD.head()"
   ]
  },
  {
   "cell_type": "code",
   "execution_count": 46,
   "metadata": {},
   "outputs": [
    {
     "data": {
      "text/plain": [
       "(5, 15)"
      ]
     },
     "execution_count": 46,
     "metadata": {},
     "output_type": "execute_result"
    }
   ],
   "source": [
    "ProLGD[ProLGD[\"ENSExonIDs\"]==\"\"].shape"
   ]
  },
  {
   "cell_type": "code",
   "execution_count": 47,
   "metadata": {},
   "outputs": [],
   "source": [
    "for i, row in ProLGD.iterrows():\n",
    "    famid, gene, (Chr, Pos, Ref, Alt) = row[\"familyId\"], row[\"effectGene\"], row[\"vcfVariant\"].split(\":\")\n",
    "    nlej, isle,  islej = isLEJ(gene, Pos, Ref, Alt, Genes)\n",
    "    #ProLGD.at[i, \"NLEJ\"] = nlej\n",
    "    #ProLGD.at[i, \"isLE\"] = isle\n",
    "    #ProLGD.at[i, \"isLEJ\"] = islej\n",
    "    if (isle == \"T\") or (islej == \"T\"): \n",
    "        #print(isle, islej)\n",
    "        isNMD = \"True\"\n",
    "    else:\n",
    "        #print(isle, islej)\n",
    "        isNMD = \"False\"\n",
    "    ProLGD.at[i, \"isNMD\"] = isNMD"
   ]
  },
  {
   "cell_type": "code",
   "execution_count": 48,
   "metadata": {},
   "outputs": [
    {
     "data": {
      "text/html": [
       "<div>\n",
       "<style scoped>\n",
       "    .dataframe tbody tr th:only-of-type {\n",
       "        vertical-align: middle;\n",
       "    }\n",
       "\n",
       "    .dataframe tbody tr th {\n",
       "        vertical-align: top;\n",
       "    }\n",
       "\n",
       "    .dataframe thead th {\n",
       "        text-align: right;\n",
       "    }\n",
       "</style>\n",
       "<table border=\"1\" class=\"dataframe\">\n",
       "  <thead>\n",
       "    <tr style=\"text-align: right;\">\n",
       "      <th></th>\n",
       "      <th>KEY</th>\n",
       "      <th>familyId</th>\n",
       "      <th>location</th>\n",
       "      <th>variant</th>\n",
       "      <th>vcfVariant</th>\n",
       "      <th>inChild</th>\n",
       "      <th>fromParent</th>\n",
       "      <th>ENSGID</th>\n",
       "      <th>effectGene</th>\n",
       "      <th>effectType</th>\n",
       "      <th>familyDescription</th>\n",
       "      <th>ENSExonIDs</th>\n",
       "      <th>ENSTransIDs</th>\n",
       "      <th>BrainSpanExonID</th>\n",
       "      <th>BrainSpanExonRowNum</th>\n",
       "      <th>isNMD</th>\n",
       "    </tr>\n",
       "  </thead>\n",
       "  <tbody>\n",
       "    <tr>\n",
       "      <th>0</th>\n",
       "      <td>14320-3:127395222</td>\n",
       "      <td>14320</td>\n",
       "      <td>3:127395222</td>\n",
       "      <td>sub(T-&gt;G)</td>\n",
       "      <td>3:127395222:T:G</td>\n",
       "      <td>pF</td>\n",
       "      <td>NaN</td>\n",
       "      <td>ENSG00000114626</td>\n",
       "      <td>ABTB1</td>\n",
       "      <td>noStart</td>\n",
       "      <td>pFsM</td>\n",
       "      <td>ENSE00003537266;ENSE00003616869</td>\n",
       "      <td>ENST00000393363;ENST00000232744;ENST0000046813...</td>\n",
       "      <td>ENSG00000114626:127394328</td>\n",
       "      <td>65963</td>\n",
       "      <td>False</td>\n",
       "    </tr>\n",
       "    <tr>\n",
       "      <th>1</th>\n",
       "      <td>13585-12:109577550</td>\n",
       "      <td>13585</td>\n",
       "      <td>12:109577550</td>\n",
       "      <td>ins(G)</td>\n",
       "      <td>12:109577549:A:AG</td>\n",
       "      <td>pM</td>\n",
       "      <td>dad</td>\n",
       "      <td>ENSG00000076555</td>\n",
       "      <td>ACACB</td>\n",
       "      <td>frame-shift</td>\n",
       "      <td>pMsF</td>\n",
       "      <td>ENSE00002307745;ENSE00002274661</td>\n",
       "      <td>ENST00000539864;ENST00000377854;ENST0000037784...</td>\n",
       "      <td>ENSG00000076555:109577201</td>\n",
       "      <td>23792</td>\n",
       "      <td>True</td>\n",
       "    </tr>\n",
       "    <tr>\n",
       "      <th>2</th>\n",
       "      <td>13702-3:58491005</td>\n",
       "      <td>13702</td>\n",
       "      <td>3:58491005</td>\n",
       "      <td>del(1)</td>\n",
       "      <td>3:58491004:CA:C</td>\n",
       "      <td>pM</td>\n",
       "      <td>NaN</td>\n",
       "      <td>ENSG00000168306</td>\n",
       "      <td>ACOX2</td>\n",
       "      <td>frame-shift</td>\n",
       "      <td>pMsM</td>\n",
       "      <td>ENSE00003509301</td>\n",
       "      <td>ENST00000302819;ENST00000459701</td>\n",
       "      <td>ENSG00000168306:58490862</td>\n",
       "      <td>171602</td>\n",
       "      <td>True</td>\n",
       "    </tr>\n",
       "    <tr>\n",
       "      <th>3</th>\n",
       "      <td>12561-20:3655475</td>\n",
       "      <td>12561</td>\n",
       "      <td>20:3655475</td>\n",
       "      <td>sub(G-&gt;A)</td>\n",
       "      <td>20:3655475:G:A</td>\n",
       "      <td>pM</td>\n",
       "      <td>NaN</td>\n",
       "      <td>ENSG00000149451</td>\n",
       "      <td>ADAM33</td>\n",
       "      <td>nonsense</td>\n",
       "      <td>pMsF</td>\n",
       "      <td>ENSE00003214806</td>\n",
       "      <td>ENST00000350009;ENST00000379861;ENST00000356518</td>\n",
       "      <td>ENSG00000149451:3654958</td>\n",
       "      <td>131960</td>\n",
       "      <td>False</td>\n",
       "    </tr>\n",
       "    <tr>\n",
       "      <th>4</th>\n",
       "      <td>13994-19:8645778</td>\n",
       "      <td>13994</td>\n",
       "      <td>19:8645778</td>\n",
       "      <td>del(9)</td>\n",
       "      <td>19:8645777:CTAGTGGCCA:C</td>\n",
       "      <td>pM</td>\n",
       "      <td>NaN</td>\n",
       "      <td>ENSG00000142303</td>\n",
       "      <td>ADAMTS10</td>\n",
       "      <td>noEnd</td>\n",
       "      <td>pM</td>\n",
       "      <td>ENSE00003109980;ENSE00001316649</td>\n",
       "      <td>ENST00000595838;ENST00000597188;ENST00000270328</td>\n",
       "      <td>ENSG00000142303:8645125</td>\n",
       "      <td>118537</td>\n",
       "      <td>True</td>\n",
       "    </tr>\n",
       "    <tr>\n",
       "      <th>5</th>\n",
       "      <td>14490-3:64547409</td>\n",
       "      <td>14490</td>\n",
       "      <td>3:64547409</td>\n",
       "      <td>sub(G-&gt;A)</td>\n",
       "      <td>3:64547409:G:A</td>\n",
       "      <td>pM</td>\n",
       "      <td>NaN</td>\n",
       "      <td>ENSG00000163638</td>\n",
       "      <td>ADAMTS9</td>\n",
       "      <td>nonsense</td>\n",
       "      <td>pMsF</td>\n",
       "      <td>ENSE00003689376</td>\n",
       "      <td>ENST00000498707;ENST00000295903;ENST00000481060</td>\n",
       "      <td>ENSG00000163638:64547253</td>\n",
       "      <td>157152</td>\n",
       "      <td>False</td>\n",
       "    </tr>\n",
       "    <tr>\n",
       "      <th>6</th>\n",
       "      <td>11717-16:4165337</td>\n",
       "      <td>11717</td>\n",
       "      <td>16:4165337</td>\n",
       "      <td>del(1)</td>\n",
       "      <td>16:4165336:CT:C</td>\n",
       "      <td>pM</td>\n",
       "      <td>NaN</td>\n",
       "      <td>ENSG00000162104</td>\n",
       "      <td>ADCY9</td>\n",
       "      <td>frame-shift</td>\n",
       "      <td>pMsF</td>\n",
       "      <td>ENSE00001062629</td>\n",
       "      <td>ENST00000294016</td>\n",
       "      <td>ENSG00000162104:4163750</td>\n",
       "      <td>152243</td>\n",
       "      <td>False</td>\n",
       "    </tr>\n",
       "    <tr>\n",
       "      <th>7</th>\n",
       "      <td>13545-20:49509095</td>\n",
       "      <td>13545</td>\n",
       "      <td>20:49509095</td>\n",
       "      <td>ins(T)</td>\n",
       "      <td>20:49509094:G:GT</td>\n",
       "      <td>pM</td>\n",
       "      <td>NaN</td>\n",
       "      <td>ENSG00000101126</td>\n",
       "      <td>ADNP</td>\n",
       "      <td>frame-shift</td>\n",
       "      <td>pM</td>\n",
       "      <td>ENSE00001455631;ENSE00001523629</td>\n",
       "      <td>ENST00000396029;ENST00000371602;ENST0000034901...</td>\n",
       "      <td>ENSG00000101126:49505584</td>\n",
       "      <td>41150</td>\n",
       "      <td>True</td>\n",
       "    </tr>\n",
       "    <tr>\n",
       "      <th>8</th>\n",
       "      <td>12130-20:49510028</td>\n",
       "      <td>12130</td>\n",
       "      <td>20:49510028</td>\n",
       "      <td>del(2)</td>\n",
       "      <td>20:49510027:CTT:C</td>\n",
       "      <td>pF</td>\n",
       "      <td>NaN</td>\n",
       "      <td>ENSG00000101126</td>\n",
       "      <td>ADNP</td>\n",
       "      <td>frame-shift</td>\n",
       "      <td>pF</td>\n",
       "      <td>ENSE00001455631;ENSE00001523629</td>\n",
       "      <td>ENST00000396029;ENST00000371602;ENST0000034901...</td>\n",
       "      <td>ENSG00000101126:49505584</td>\n",
       "      <td>41150</td>\n",
       "      <td>True</td>\n",
       "    </tr>\n",
       "    <tr>\n",
       "      <th>9</th>\n",
       "      <td>12246-4:74357772</td>\n",
       "      <td>12246</td>\n",
       "      <td>4:74357772</td>\n",
       "      <td>sub(C-&gt;T)</td>\n",
       "      <td>4:74357772:C:T</td>\n",
       "      <td>pM</td>\n",
       "      <td>NaN</td>\n",
       "      <td>ENSG00000079557</td>\n",
       "      <td>AFM</td>\n",
       "      <td>nonsense</td>\n",
       "      <td>pMsF</td>\n",
       "      <td>ENSE00000721786</td>\n",
       "      <td>ENST00000226355</td>\n",
       "      <td>ENSG00000079557:74357588</td>\n",
       "      <td>26077</td>\n",
       "      <td>False</td>\n",
       "    </tr>\n",
       "  </tbody>\n",
       "</table>\n",
       "</div>"
      ],
      "text/plain": [
       "                  KEY  familyId      location    variant  \\\n",
       "0   14320-3:127395222     14320   3:127395222  sub(T->G)   \n",
       "1  13585-12:109577550     13585  12:109577550     ins(G)   \n",
       "2    13702-3:58491005     13702    3:58491005     del(1)   \n",
       "3    12561-20:3655475     12561    20:3655475  sub(G->A)   \n",
       "4    13994-19:8645778     13994    19:8645778     del(9)   \n",
       "5    14490-3:64547409     14490    3:64547409  sub(G->A)   \n",
       "6    11717-16:4165337     11717    16:4165337     del(1)   \n",
       "7   13545-20:49509095     13545   20:49509095     ins(T)   \n",
       "8   12130-20:49510028     12130   20:49510028     del(2)   \n",
       "9    12246-4:74357772     12246    4:74357772  sub(C->T)   \n",
       "\n",
       "                vcfVariant inChild fromParent           ENSGID effectGene  \\\n",
       "0          3:127395222:T:G      pF        NaN  ENSG00000114626      ABTB1   \n",
       "1        12:109577549:A:AG      pM        dad  ENSG00000076555      ACACB   \n",
       "2          3:58491004:CA:C      pM        NaN  ENSG00000168306      ACOX2   \n",
       "3           20:3655475:G:A      pM        NaN  ENSG00000149451     ADAM33   \n",
       "4  19:8645777:CTAGTGGCCA:C      pM        NaN  ENSG00000142303   ADAMTS10   \n",
       "5           3:64547409:G:A      pM        NaN  ENSG00000163638    ADAMTS9   \n",
       "6          16:4165336:CT:C      pM        NaN  ENSG00000162104      ADCY9   \n",
       "7         20:49509094:G:GT      pM        NaN  ENSG00000101126       ADNP   \n",
       "8        20:49510027:CTT:C      pF        NaN  ENSG00000101126       ADNP   \n",
       "9           4:74357772:C:T      pM        NaN  ENSG00000079557        AFM   \n",
       "\n",
       "    effectType familyDescription                       ENSExonIDs  \\\n",
       "0      noStart              pFsM  ENSE00003537266;ENSE00003616869   \n",
       "1  frame-shift              pMsF  ENSE00002307745;ENSE00002274661   \n",
       "2  frame-shift              pMsM                  ENSE00003509301   \n",
       "3     nonsense              pMsF                  ENSE00003214806   \n",
       "4        noEnd                pM  ENSE00003109980;ENSE00001316649   \n",
       "5     nonsense              pMsF                  ENSE00003689376   \n",
       "6  frame-shift              pMsF                  ENSE00001062629   \n",
       "7  frame-shift                pM  ENSE00001455631;ENSE00001523629   \n",
       "8  frame-shift                pF  ENSE00001455631;ENSE00001523629   \n",
       "9     nonsense              pMsF                  ENSE00000721786   \n",
       "\n",
       "                                         ENSTransIDs  \\\n",
       "0  ENST00000393363;ENST00000232744;ENST0000046813...   \n",
       "1  ENST00000539864;ENST00000377854;ENST0000037784...   \n",
       "2                    ENST00000302819;ENST00000459701   \n",
       "3    ENST00000350009;ENST00000379861;ENST00000356518   \n",
       "4    ENST00000595838;ENST00000597188;ENST00000270328   \n",
       "5    ENST00000498707;ENST00000295903;ENST00000481060   \n",
       "6                                    ENST00000294016   \n",
       "7  ENST00000396029;ENST00000371602;ENST0000034901...   \n",
       "8  ENST00000396029;ENST00000371602;ENST0000034901...   \n",
       "9                                    ENST00000226355   \n",
       "\n",
       "             BrainSpanExonID BrainSpanExonRowNum  isNMD  \n",
       "0  ENSG00000114626:127394328               65963  False  \n",
       "1  ENSG00000076555:109577201               23792   True  \n",
       "2   ENSG00000168306:58490862              171602   True  \n",
       "3    ENSG00000149451:3654958              131960  False  \n",
       "4    ENSG00000142303:8645125              118537   True  \n",
       "5   ENSG00000163638:64547253              157152  False  \n",
       "6    ENSG00000162104:4163750              152243  False  \n",
       "7   ENSG00000101126:49505584               41150   True  \n",
       "8   ENSG00000101126:49505584               41150   True  \n",
       "9   ENSG00000079557:74357588               26077  False  "
      ]
     },
     "execution_count": 48,
     "metadata": {},
     "output_type": "execute_result"
    }
   ],
   "source": [
    "ProLGD.head(10)"
   ]
  },
  {
   "cell_type": "code",
   "execution_count": 49,
   "metadata": {},
   "outputs": [],
   "source": [
    "ProLGD.to_csv(\"lgd-jw.csv\", index=False)"
   ]
  },
  {
   "cell_type": "code",
   "execution_count": 51,
   "metadata": {},
   "outputs": [
    {
     "data": {
      "text/html": [
       "<div>\n",
       "<style scoped>\n",
       "    .dataframe tbody tr th:only-of-type {\n",
       "        vertical-align: middle;\n",
       "    }\n",
       "\n",
       "    .dataframe tbody tr th {\n",
       "        vertical-align: top;\n",
       "    }\n",
       "\n",
       "    .dataframe thead th {\n",
       "        text-align: right;\n",
       "    }\n",
       "</style>\n",
       "<table border=\"1\" class=\"dataframe\">\n",
       "  <thead>\n",
       "    <tr style=\"text-align: right;\">\n",
       "      <th></th>\n",
       "      <th>KEY</th>\n",
       "      <th>familyId</th>\n",
       "      <th>location</th>\n",
       "      <th>variant</th>\n",
       "      <th>vcfVariant</th>\n",
       "      <th>inChild</th>\n",
       "      <th>fromParent</th>\n",
       "      <th>ENSGID</th>\n",
       "      <th>effectGene</th>\n",
       "      <th>effectType</th>\n",
       "      <th>familyDescription</th>\n",
       "      <th>ENSExonIDs</th>\n",
       "      <th>ENSTransIDs</th>\n",
       "      <th>BrainSpanExonID</th>\n",
       "      <th>BrainSpanExonRowNum</th>\n",
       "      <th>isNMD</th>\n",
       "    </tr>\n",
       "  </thead>\n",
       "  <tbody>\n",
       "    <tr>\n",
       "      <th>178</th>\n",
       "      <td>11145-11:118344387</td>\n",
       "      <td>11145</td>\n",
       "      <td>11:118344387</td>\n",
       "      <td>del(1)</td>\n",
       "      <td>11:118344386:TG:T</td>\n",
       "      <td>pM</td>\n",
       "      <td>NaN</td>\n",
       "      <td>ENSG00000118058</td>\n",
       "      <td>KMT2A</td>\n",
       "      <td>frame-shift</td>\n",
       "      <td>pM</td>\n",
       "      <td>ENSE00002704839</td>\n",
       "      <td>ENST00000354520;ENST00000534358;ENST0000053190...</td>\n",
       "      <td>ENSG00000118058:118342376</td>\n",
       "      <td>72511</td>\n",
       "      <td>False</td>\n",
       "    </tr>\n",
       "  </tbody>\n",
       "</table>\n",
       "</div>"
      ],
      "text/plain": [
       "                    KEY  familyId      location variant         vcfVariant  \\\n",
       "178  11145-11:118344387     11145  11:118344387  del(1)  11:118344386:TG:T   \n",
       "\n",
       "    inChild fromParent           ENSGID effectGene   effectType  \\\n",
       "178      pM        NaN  ENSG00000118058      KMT2A  frame-shift   \n",
       "\n",
       "    familyDescription       ENSExonIDs  \\\n",
       "178                pM  ENSE00002704839   \n",
       "\n",
       "                                           ENSTransIDs  \\\n",
       "178  ENST00000354520;ENST00000534358;ENST0000053190...   \n",
       "\n",
       "               BrainSpanExonID BrainSpanExonRowNum  isNMD  \n",
       "178  ENSG00000118058:118342376               72511  False  "
      ]
     },
     "execution_count": 51,
     "metadata": {},
     "output_type": "execute_result"
    }
   ],
   "source": [
    "ProLGD[ProLGD['familyId']==11145]"
   ]
  },
  {
   "cell_type": "code",
   "execution_count": null,
   "metadata": {},
   "outputs": [],
   "source": []
  },
  {
   "cell_type": "code",
   "execution_count": null,
   "metadata": {},
   "outputs": [],
   "source": []
  },
  {
   "cell_type": "code",
   "execution_count": 29,
   "metadata": {},
   "outputs": [
    {
     "name": "stdout",
     "output_type": "stream",
     "text": [
      "2400"
     ]
    },
    {
     "data": {
      "text/html": [
       "<div>\n",
       "<style scoped>\n",
       "    .dataframe tbody tr th:only-of-type {\n",
       "        vertical-align: middle;\n",
       "    }\n",
       "\n",
       "    .dataframe tbody tr th {\n",
       "        vertical-align: top;\n",
       "    }\n",
       "\n",
       "    .dataframe thead th {\n",
       "        text-align: right;\n",
       "    }\n",
       "</style>\n",
       "<table border=\"1\" class=\"dataframe\">\n",
       "  <thead>\n",
       "    <tr style=\"text-align: right;\">\n",
       "      <th></th>\n",
       "      <th>row_num</th>\n",
       "      <th>gene_id</th>\n",
       "      <th>ensembl_gene_id</th>\n",
       "      <th>gene_symbol</th>\n",
       "      <th>entrez_id</th>\n",
       "      <th>start</th>\n",
       "      <th>end</th>\n",
       "      <th>exon length</th>\n",
       "      <th>cds length</th>\n",
       "      <th>EXONID2</th>\n",
       "    </tr>\n",
       "  </thead>\n",
       "  <tbody>\n",
       "    <tr>\n",
       "      <th>0</th>\n",
       "      <td>1249</td>\n",
       "      <td>1086943</td>\n",
       "      <td>ENSG00000005108</td>\n",
       "      <td>THSD7A</td>\n",
       "      <td>221981.0</td>\n",
       "      <td>11410063</td>\n",
       "      <td>11415505</td>\n",
       "      <td>5442</td>\n",
       "      <td>82</td>\n",
       "      <td>THSD7A_1</td>\n",
       "    </tr>\n",
       "    <tr>\n",
       "      <th>1</th>\n",
       "      <td>1250</td>\n",
       "      <td>1086943</td>\n",
       "      <td>ENSG00000005108</td>\n",
       "      <td>THSD7A</td>\n",
       "      <td>221981.0</td>\n",
       "      <td>11416196</td>\n",
       "      <td>11416284</td>\n",
       "      <td>88</td>\n",
       "      <td>88</td>\n",
       "      <td>THSD7A_2</td>\n",
       "    </tr>\n",
       "  </tbody>\n",
       "</table>\n",
       "</div>"
      ],
      "text/plain": [
       "   row_num  gene_id  ensembl_gene_id gene_symbol  entrez_id     start  \\\n",
       "0     1249  1086943  ENSG00000005108      THSD7A   221981.0  11410063   \n",
       "1     1250  1086943  ENSG00000005108      THSD7A   221981.0  11416196   \n",
       "\n",
       "        end  exon length  cds length   EXONID2  \n",
       "0  11415505         5442          82  THSD7A_1  \n",
       "1  11416284           88          88  THSD7A_2  "
      ]
     },
     "metadata": {},
     "output_type": "display_data"
    },
    {
     "data": {
      "text/html": [
       "<div>\n",
       "<style scoped>\n",
       "    .dataframe tbody tr th:only-of-type {\n",
       "        vertical-align: middle;\n",
       "    }\n",
       "\n",
       "    .dataframe tbody tr th {\n",
       "        vertical-align: top;\n",
       "    }\n",
       "\n",
       "    .dataframe thead th {\n",
       "        text-align: right;\n",
       "    }\n",
       "</style>\n",
       "<table border=\"1\" class=\"dataframe\">\n",
       "  <thead>\n",
       "    <tr style=\"text-align: right;\">\n",
       "      <th></th>\n",
       "      <th>Unnamed: 0</th>\n",
       "      <th>column_num</th>\n",
       "      <th>donor_id</th>\n",
       "      <th>donor_name</th>\n",
       "      <th>age</th>\n",
       "      <th>gender</th>\n",
       "      <th>structure_id</th>\n",
       "      <th>structure_acronym</th>\n",
       "      <th>structure_name</th>\n",
       "      <th>Period</th>\n",
       "      <th>Stage</th>\n",
       "      <th>Description</th>\n",
       "    </tr>\n",
       "  </thead>\n",
       "  <tbody>\n",
       "    <tr>\n",
       "      <th>0</th>\n",
       "      <td>0</td>\n",
       "      <td>1</td>\n",
       "      <td>13058</td>\n",
       "      <td>H376.IIA.51</td>\n",
       "      <td>8 pcw</td>\n",
       "      <td>M</td>\n",
       "      <td>10665</td>\n",
       "      <td>URL</td>\n",
       "      <td>upper (rostral) rhombic lip</td>\n",
       "      <td>2A</td>\n",
       "      <td>2</td>\n",
       "      <td>Early prenatal</td>\n",
       "    </tr>\n",
       "    <tr>\n",
       "      <th>1</th>\n",
       "      <td>1</td>\n",
       "      <td>2</td>\n",
       "      <td>13058</td>\n",
       "      <td>H376.IIA.51</td>\n",
       "      <td>8 pcw</td>\n",
       "      <td>M</td>\n",
       "      <td>10194</td>\n",
       "      <td>OFC</td>\n",
       "      <td>orbital frontal cortex</td>\n",
       "      <td>2A</td>\n",
       "      <td>2</td>\n",
       "      <td>Early prenatal</td>\n",
       "    </tr>\n",
       "  </tbody>\n",
       "</table>\n",
       "</div>"
      ],
      "text/plain": [
       "   Unnamed: 0  column_num  donor_id   donor_name    age gender  structure_id  \\\n",
       "0           0           1     13058  H376.IIA.51  8 pcw      M         10665   \n",
       "1           1           2     13058  H376.IIA.51  8 pcw      M         10194   \n",
       "\n",
       "  structure_acronym               structure_name Period  Stage     Description  \n",
       "0               URL  upper (rostral) rhombic lip     2A      2  Early prenatal  \n",
       "1               OFC       orbital frontal cortex     2A      2  Early prenatal  "
      ]
     },
     "metadata": {},
     "output_type": "display_data"
    }
   ],
   "source": [
    "# Columns Meta Data\n",
    "bp_exon_col_meta = pd.read_csv(\"./brainspan/exon_col_meta.csv\")\n",
    "cds_dict = loaddict()\n",
    "bp_exon_row_meta = pd.read_csv(\"./brainspan/rows_metadata.csv\")\n",
    "bp_exon_row_meta[\"exon length\"] = bp_exon_row_meta[\"end\"] - bp_exon_row_meta[\"start\"]\n",
    "bp_exon_row_meta[\"cds length\"] = bp_exon_row_meta.apply(lambda row: addcds(row, cds_dict), axis=1)\n",
    "bp_exon_row_meta = MakeExonID(bp_exon_row_meta)\n",
    "bp_exon_row_meta.head(2)\n",
    "display(bp_exon_row_meta.head(2))\n",
    "display(bp_exon_col_meta.head(2))"
   ]
  },
  {
   "cell_type": "code",
   "execution_count": 276,
   "metadata": {},
   "outputs": [
    {
     "data": {
      "text/html": [
       "<div>\n",
       "<style scoped>\n",
       "    .dataframe tbody tr th:only-of-type {\n",
       "        vertical-align: middle;\n",
       "    }\n",
       "\n",
       "    .dataframe tbody tr th {\n",
       "        vertical-align: top;\n",
       "    }\n",
       "\n",
       "    .dataframe thead th {\n",
       "        text-align: right;\n",
       "    }\n",
       "</style>\n",
       "<table border=\"1\" class=\"dataframe\">\n",
       "  <thead>\n",
       "    <tr style=\"text-align: right;\">\n",
       "      <th></th>\n",
       "      <th>KEY</th>\n",
       "      <th>ExonID</th>\n",
       "    </tr>\n",
       "  </thead>\n",
       "  <tbody>\n",
       "    <tr>\n",
       "      <th>0</th>\n",
       "      <td>13545-20:49509095</td>\n",
       "      <td>41150</td>\n",
       "    </tr>\n",
       "    <tr>\n",
       "      <th>1</th>\n",
       "      <td>12130-20:49510028</td>\n",
       "      <td>41150</td>\n",
       "    </tr>\n",
       "  </tbody>\n",
       "</table>\n",
       "</div>"
      ],
      "text/plain": [
       "                 KEY  ExonID\n",
       "0  13545-20:49509095   41150\n",
       "1  12130-20:49510028   41150"
      ]
     },
     "execution_count": 276,
     "metadata": {},
     "output_type": "execute_result"
    }
   ],
   "source": [
    "Jiayao_features = pd.read_csv(\"unifiedmodel/features.jiayao.65.csv\")\n",
    "#print(Jiayao_features.columns)\n",
    "Jiayao_features = Jiayao_features[[\"KEY\", \"ExonID\"]]\n",
    "Jiayao_features.head(2)"
   ]
  },
  {
   "cell_type": "code",
   "execution_count": 280,
   "metadata": {},
   "outputs": [],
   "source": [
    "row_num2start = {}\n",
    "for i, row in bp_exon_row_meta.iterrows():\n",
    "    new_id = \"%s:%d\" %(row[\"ensembl_gene_id\"], row[\"start\"])\n",
    "    row_num2start[row[\"row_num\"]] = new_id"
   ]
  },
  {
   "cell_type": "code",
   "execution_count": 284,
   "metadata": {},
   "outputs": [],
   "source": [
    "Jiayao_features[\"ID2\"] = Jiayao_features.apply(lambda row: row_num2start[row[\"ExonID\"]], axis=1)\n",
    "Jiayao_features.to_csv(\"../data/RecLGD2BrainSpanExonID.txt\", index=False, sep=\"\\t\")"
   ]
  },
  {
   "cell_type": "code",
   "execution_count": null,
   "metadata": {},
   "outputs": [],
   "source": []
  },
  {
   "cell_type": "code",
   "execution_count": 9,
   "metadata": {},
   "outputs": [
    {
     "data": {
      "text/html": [
       "<div>\n",
       "<style scoped>\n",
       "    .dataframe tbody tr th:only-of-type {\n",
       "        vertical-align: middle;\n",
       "    }\n",
       "\n",
       "    .dataframe tbody tr th {\n",
       "        vertical-align: top;\n",
       "    }\n",
       "\n",
       "    .dataframe thead th {\n",
       "        text-align: right;\n",
       "    }\n",
       "</style>\n",
       "<table border=\"1\" class=\"dataframe\">\n",
       "  <thead>\n",
       "    <tr style=\"text-align: right;\">\n",
       "      <th></th>\n",
       "      <th>0</th>\n",
       "      <th>1</th>\n",
       "      <th>2</th>\n",
       "      <th>3</th>\n",
       "      <th>4</th>\n",
       "      <th>5</th>\n",
       "      <th>6</th>\n",
       "      <th>7</th>\n",
       "      <th>8</th>\n",
       "      <th>9</th>\n",
       "      <th>...</th>\n",
       "      <th>515</th>\n",
       "      <th>516</th>\n",
       "      <th>517</th>\n",
       "      <th>518</th>\n",
       "      <th>519</th>\n",
       "      <th>520</th>\n",
       "      <th>521</th>\n",
       "      <th>522</th>\n",
       "      <th>523</th>\n",
       "      <th>524</th>\n",
       "    </tr>\n",
       "  </thead>\n",
       "  <tbody>\n",
       "    <tr>\n",
       "      <th>0</th>\n",
       "      <td>1249</td>\n",
       "      <td>13.981005</td>\n",
       "      <td>8.395309</td>\n",
       "      <td>2.331361</td>\n",
       "      <td>9.548689</td>\n",
       "      <td>13.077358</td>\n",
       "      <td>4.957344</td>\n",
       "      <td>11.519273</td>\n",
       "      <td>8.687774</td>\n",
       "      <td>8.699095</td>\n",
       "      <td>...</td>\n",
       "      <td>1.683465</td>\n",
       "      <td>1.528594</td>\n",
       "      <td>2.038370</td>\n",
       "      <td>3.015371</td>\n",
       "      <td>2.237213</td>\n",
       "      <td>2.333633</td>\n",
       "      <td>3.401376</td>\n",
       "      <td>1.251418</td>\n",
       "      <td>2.433152</td>\n",
       "      <td>4.952924</td>\n",
       "    </tr>\n",
       "    <tr>\n",
       "      <th>1</th>\n",
       "      <td>1250</td>\n",
       "      <td>13.693688</td>\n",
       "      <td>4.080420</td>\n",
       "      <td>1.455547</td>\n",
       "      <td>10.199496</td>\n",
       "      <td>11.281002</td>\n",
       "      <td>4.150340</td>\n",
       "      <td>14.074131</td>\n",
       "      <td>10.813428</td>\n",
       "      <td>8.187593</td>\n",
       "      <td>...</td>\n",
       "      <td>0.000000</td>\n",
       "      <td>0.452619</td>\n",
       "      <td>1.078534</td>\n",
       "      <td>1.501325</td>\n",
       "      <td>0.878050</td>\n",
       "      <td>1.277496</td>\n",
       "      <td>0.737068</td>\n",
       "      <td>1.999100</td>\n",
       "      <td>3.102934</td>\n",
       "      <td>0.000000</td>\n",
       "    </tr>\n",
       "  </tbody>\n",
       "</table>\n",
       "<p>2 rows × 525 columns</p>\n",
       "</div>"
      ],
      "text/plain": [
       "    0          1         2         3          4          5         6    \\\n",
       "0  1249  13.981005  8.395309  2.331361   9.548689  13.077358  4.957344   \n",
       "1  1250  13.693688  4.080420  1.455547  10.199496  11.281002  4.150340   \n",
       "\n",
       "         7          8         9      ...          515       516       517  \\\n",
       "0  11.519273   8.687774  8.699095    ...     1.683465  1.528594  2.038370   \n",
       "1  14.074131  10.813428  8.187593    ...     0.000000  0.452619  1.078534   \n",
       "\n",
       "        518       519       520       521       522       523       524  \n",
       "0  3.015371  2.237213  2.333633  3.401376  1.251418  2.433152  4.952924  \n",
       "1  1.501325  0.878050  1.277496  0.737068  1.999100  3.102934  0.000000  \n",
       "\n",
       "[2 rows x 525 columns]"
      ]
     },
     "execution_count": 9,
     "metadata": {},
     "output_type": "execute_result"
    }
   ],
   "source": [
    "EXON_EXP_RPKM = pd.read_csv(\"./brainspan/qn.exons_matrix.csv\", header=None)\n",
    "EXON_EXP_RPKM.head(2)"
   ]
  },
  {
   "cell_type": "code",
   "execution_count": 30,
   "metadata": {},
   "outputs": [],
   "source": [
    "Stage2Idx = {}\n",
    "for stage in Stages:\n",
    "    tmp = bp_exon_col_meta[bp_exon_col_meta[\"Period\"]==stage]\n",
    "    Stage2Idx[stage]=tmp[\"column_num\"].values"
   ]
  },
  {
   "cell_type": "code",
   "execution_count": 153,
   "metadata": {},
   "outputs": [],
   "source": [
    "exonid2cds = pd.read_csv(\"../data/Andy-brainspan/brainspan_exon_cds.tsv\", delimiter=\"\\t\")\n",
    "exonid2cds.head(2)\n",
    "exonid2cds = dict(zip(exonid2cds[\"exon_id\"].values, exonid2cds[\"cds_len\"].values))"
   ]
  },
  {
   "cell_type": "code",
   "execution_count": 31,
   "metadata": {},
   "outputs": [],
   "source": [
    "ExonID2EXP_mean = GetExonTimeExp(EXON_EXP_RPKM, Stage2Idx)"
   ]
  },
  {
   "cell_type": "code",
   "execution_count": 56,
   "metadata": {},
   "outputs": [],
   "source": [
    "ExonID2EXP_median = GetExonTimeExp(EXON_EXP_RPKM, Stage2Idx, stat=\"median\")"
   ]
  },
  {
   "cell_type": "code",
   "execution_count": 64,
   "metadata": {},
   "outputs": [],
   "source": [
    "ExonID2EXP_log2 = GetExonTimeExp(EXON_EXP_RPKM, Stage2Idx, stat=\"mean\", log2=True)"
   ]
  },
  {
   "cell_type": "code",
   "execution_count": 80,
   "metadata": {},
   "outputs": [],
   "source": [
    "ExonID2EXP_log2_median = GetExonTimeExp(EXON_EXP_RPKM, Stage2Idx, stat=\"median\", log2=True)"
   ]
  },
  {
   "cell_type": "code",
   "execution_count": 35,
   "metadata": {},
   "outputs": [
    {
     "data": {
      "text/html": [
       "<div>\n",
       "<style scoped>\n",
       "    .dataframe tbody tr th:only-of-type {\n",
       "        vertical-align: middle;\n",
       "    }\n",
       "\n",
       "    .dataframe tbody tr th {\n",
       "        vertical-align: top;\n",
       "    }\n",
       "\n",
       "    .dataframe thead th {\n",
       "        text-align: right;\n",
       "    }\n",
       "</style>\n",
       "<table border=\"1\" class=\"dataframe\">\n",
       "  <thead>\n",
       "    <tr style=\"text-align: right;\">\n",
       "      <th></th>\n",
       "      <th>familyId</th>\n",
       "      <th>location</th>\n",
       "      <th>variant</th>\n",
       "      <th>vcfVariant</th>\n",
       "      <th>inChild</th>\n",
       "      <th>fromParent</th>\n",
       "      <th>effectGene</th>\n",
       "      <th>effectType</th>\n",
       "      <th>familyDescription</th>\n",
       "      <th>ExonID</th>\n",
       "      <th>Gender</th>\n",
       "      <th>VIQ</th>\n",
       "      <th>NVIQ</th>\n",
       "    </tr>\n",
       "  </thead>\n",
       "  <tbody>\n",
       "    <tr>\n",
       "      <th>0</th>\n",
       "      <td>13545</td>\n",
       "      <td>20:49509095</td>\n",
       "      <td>ins(T)</td>\n",
       "      <td>20:49509094:G:GT</td>\n",
       "      <td>pM</td>\n",
       "      <td>NaN</td>\n",
       "      <td>ADNP</td>\n",
       "      <td>frame-shift</td>\n",
       "      <td>pM</td>\n",
       "      <td>41150</td>\n",
       "      <td>M</td>\n",
       "      <td>23</td>\n",
       "      <td>38</td>\n",
       "    </tr>\n",
       "    <tr>\n",
       "      <th>1</th>\n",
       "      <td>12130</td>\n",
       "      <td>20:49510028</td>\n",
       "      <td>del(2)</td>\n",
       "      <td>20:49510027:CTT:C</td>\n",
       "      <td>pF</td>\n",
       "      <td>NaN</td>\n",
       "      <td>ADNP</td>\n",
       "      <td>frame-shift</td>\n",
       "      <td>pF</td>\n",
       "      <td>41150</td>\n",
       "      <td>F</td>\n",
       "      <td>62</td>\n",
       "      <td>55</td>\n",
       "    </tr>\n",
       "  </tbody>\n",
       "</table>\n",
       "</div>"
      ],
      "text/plain": [
       "   familyId     location variant         vcfVariant inChild fromParent  \\\n",
       "0     13545  20:49509095  ins(T)   20:49509094:G:GT      pM        NaN   \n",
       "1     12130  20:49510028  del(2)  20:49510027:CTT:C      pF        NaN   \n",
       "\n",
       "  effectGene   effectType familyDescription  ExonID Gender  VIQ  NVIQ  \n",
       "0       ADNP  frame-shift                pM   41150      M   23    38  \n",
       "1       ADNP  frame-shift                pF   41150      F   62    55  "
      ]
     },
     "execution_count": 35,
     "metadata": {},
     "output_type": "execute_result"
    }
   ],
   "source": [
    "VarFile = pd.read_excel(\"./data/ProLGD_wilger2014_predicted.July20.xlsx\",index=False)\n",
    "VarFile.head(2)"
   ]
  },
  {
   "cell_type": "code",
   "execution_count": 253,
   "metadata": {},
   "outputs": [],
   "source": [
    "exonPartition = pd.read_csv(\"/Users/jiayao/Work/BrainDisorders/data/Andy-brainspan/PartitionExons_v2_byq.csv\")\n",
    "\n",
    "AndyGeneSet = set([x.split(\"_\")[0] for x in exonPartition[\"exon_id\"].values])\n",
    "ExonID2Part = dict(zip(exonPartition[\"exon_id\"].values, exonPartition[\"group_id\"].values))\n",
    "#PredictedLGDGeneSet.difference(AndyGeneSet)\n",
    "#AndyGeneSet.difference(PredictedLGDGeneSet)\n",
    "exonPartition.head(2)\n",
    "Exon_Coord = pd.read_csv(\"../data/Andy-brainspan/BrainSpan_RNAseq_Gencode_Exon_Coordinates.flat\", \n",
    "    delimiter=\"\\t\")\n",
    "Exon_Coord.head(2)\n",
    "Exon_Coord[\"length\"] = Exon_Coord[\"end_post\"] - Exon_Coord[\"start_post\"]\n",
    "ExonID2Length = dict(zip(Exon_Coord[\"exon_id\"].values, Exon_Coord[\"length\"].values))\n",
    "ExonID2Length = exonid2cds"
   ]
  },
  {
   "cell_type": "code",
   "execution_count": 177,
   "metadata": {},
   "outputs": [],
   "source": [
    "Genes = list(AndyGeneSet)\n",
    "expdict_gene = {}\n",
    "ExonPool = PoolTheExons2(ins, ExonID2EXP_mean, VarFile, Genes, bp_exon_row_meta, exonid2cds,\n",
    "                       minLog2RPKMplus1Cut = 1)"
   ]
  },
  {
   "cell_type": "code",
   "execution_count": 234,
   "metadata": {
    "scrolled": false
   },
   "outputs": [
    {
     "name": "stderr",
     "output_type": "stream",
     "text": [
      "/Users/jiayao/Work/BrainDisorders/src/utils.py:3300: RuntimeWarning: invalid value encountered in double_scalars\n",
      "  self.relbias = np.mean(self.exonExp[:6]) / np.mean(self.exonExp[6:])\n",
      "/Users/jiayao/Work/BrainDisorders/src/utils.py:3300: RuntimeWarning: divide by zero encountered in double_scalars\n",
      "  self.relbias = np.mean(self.exonExp[:6]) / np.mean(self.exonExp[6:])\n"
     ]
    }
   ],
   "source": [
    "#ExonID2EXP_median\n",
    "ExonPool2 = PoolTheExons2(ins, ExonID2EXP_median, VarFile, Genes, bp_exon_row_meta, ExonID2Length,\n",
    "                       minLog2RPKMplus1Cut = 1)"
   ]
  },
  {
   "cell_type": "code",
   "execution_count": 228,
   "metadata": {},
   "outputs": [],
   "source": [
    "#ExonID2EXP_log2\n",
    "ExonPool3 = PoolTheExons2(ins, ExonID2EXP_log2, VarFile, Genes, bp_exon_row_meta, ExonID2Length,\n",
    "                       minLog2RPKMplus1Cut = 1)"
   ]
  },
  {
   "cell_type": "code",
   "execution_count": 221,
   "metadata": {},
   "outputs": [],
   "source": [
    "#ExonID2EXP_log2_median\n",
    "ExonPool4 = PoolTheExons2(ins, ExonID2EXP_log2_median, VarFile, Genes, bp_exon_row_meta, ExonID2Length,\n",
    "                       minLog2RPKMplus1Cut = 1)"
   ]
  },
  {
   "cell_type": "code",
   "execution_count": 240,
   "metadata": {},
   "outputs": [],
   "source": [
    "BinsAndy = BinExon_UseAndyBin(ExonPool3, ExonID2Part)\n",
    "BinsJW = BinExon(ExonPool3)"
   ]
  },
  {
   "cell_type": "code",
   "execution_count": 241,
   "metadata": {},
   "outputs": [
    {
     "data": {
      "image/png": "[encoded data removed]",
      "text/plain": [
       "<Figure size 432x288 with 1 Axes>"
      ]
     },
     "metadata": {
      "needs_background": "light"
     },
     "output_type": "display_data"
    },
    {
     "data": {
      "image/png": "[encoded data removed]",
      "text/plain": [
       "<Figure size 432x288 with 1 Axes>"
      ]
     },
     "metadata": {
      "needs_background": "light"
     },
     "output_type": "display_data"
    }
   ],
   "source": [
    "PlotExonBins(BinsAndy)\n",
    "PlotExonHist(BinsAndy)"
   ]
  },
  {
   "cell_type": "code",
   "execution_count": 242,
   "metadata": {},
   "outputs": [
    {
     "data": {
      "image/png": "[encoded data removed]",
      "text/plain": [
       "<Figure size 432x288 with 1 Axes>"
      ]
     },
     "metadata": {
      "needs_background": "light"
     },
     "output_type": "display_data"
    },
    {
     "data": {
      "image/png": "[encoded data removed]",
      "text/plain": [
       "<Figure size 432x288 with 1 Axes>"
      ]
     },
     "metadata": {
      "needs_background": "light"
     },
     "output_type": "display_data"
    },
    {
     "name": "stdout",
     "output_type": "stream",
     "text": [
      "440\n",
      "440\n",
      "440\n",
      "441\n"
     ]
    }
   ],
   "source": [
    "PlotExonBins(BinsJW)\n",
    "PlotExonHist(BinsJW)\n",
    "for XX in BinsJW:\n",
    "    print(len(XX))"
   ]
  },
  {
   "cell_type": "code",
   "execution_count": 243,
   "metadata": {},
   "outputs": [
    {
     "name": "stdout",
     "output_type": "stream",
     "text": [
      "36 96143\n",
      "19 77731\n",
      "26 88341\n",
      "36 98604\n"
     ]
    },
    {
     "data": {
      "image/png": "[encoded data removed]",
      "text/plain": [
       "<Figure size 432x288 with 1 Axes>"
      ]
     },
     "metadata": {
      "needs_background": "light"
     },
     "output_type": "display_data"
    },
    {
     "data": {
      "image/png": "[encoded data removed]",
      "text/plain": [
       "<Figure size 432x288 with 1 Axes>"
      ]
     },
     "metadata": {
      "needs_background": "light"
     },
     "output_type": "display_data"
    }
   ],
   "source": [
    "ExonBinsBurden(BinsAndy)"
   ]
  },
  {
   "cell_type": "code",
   "execution_count": 244,
   "metadata": {},
   "outputs": [
    {
     "name": "stdout",
     "output_type": "stream",
     "text": [
      "35 81072\n",
      "29 105189\n",
      "24 83556\n",
      "29 91002\n"
     ]
    },
    {
     "data": {
      "image/png": "[encoded data removed]",
      "text/plain": [
       "<Figure size 432x288 with 1 Axes>"
      ]
     },
     "metadata": {
      "needs_background": "light"
     },
     "output_type": "display_data"
    },
    {
     "data": {
      "image/png": "[encoded data removed]",
      "text/plain": [
       "<Figure size 432x288 with 1 Axes>"
      ]
     },
     "metadata": {
      "needs_background": "light"
     },
     "output_type": "display_data"
    }
   ],
   "source": [
    "ExonBinsBurden(BinsJW)"
   ]
  },
  {
   "cell_type": "code",
   "execution_count": 249,
   "metadata": {},
   "outputs": [
    {
     "data": {
      "text/html": [
       "<div>\n",
       "<style scoped>\n",
       "    .dataframe tbody tr th:only-of-type {\n",
       "        vertical-align: middle;\n",
       "    }\n",
       "\n",
       "    .dataframe tbody tr th {\n",
       "        vertical-align: top;\n",
       "    }\n",
       "\n",
       "    .dataframe thead th {\n",
       "        text-align: right;\n",
       "    }\n",
       "</style>\n",
       "<table border=\"1\" class=\"dataframe\">\n",
       "  <thead>\n",
       "    <tr style=\"text-align: right;\">\n",
       "      <th></th>\n",
       "      <th>ROW</th>\n",
       "      <th>ENS.GENE</th>\n",
       "      <th>GENE.SYMBOL</th>\n",
       "      <th>ENTREZ</th>\n",
       "      <th>START</th>\n",
       "      <th>END</th>\n",
       "      <th>KEY</th>\n",
       "      <th>PERIOD.1</th>\n",
       "      <th>PERIOD.2</th>\n",
       "      <th>PERIOD.3</th>\n",
       "      <th>...</th>\n",
       "      <th>PERIOD.6</th>\n",
       "      <th>PERIOD.7</th>\n",
       "      <th>PERIOD.8</th>\n",
       "      <th>PERIOD.9</th>\n",
       "      <th>PERIOD.10</th>\n",
       "      <th>PERIOD.11</th>\n",
       "      <th>PERIOD.12</th>\n",
       "      <th>PRENATAL</th>\n",
       "      <th>POSTNATAL</th>\n",
       "      <th>ALL</th>\n",
       "    </tr>\n",
       "  </thead>\n",
       "  <tbody>\n",
       "    <tr>\n",
       "      <th>0</th>\n",
       "      <td>1</td>\n",
       "      <td>ENSG00000000003</td>\n",
       "      <td>TSPAN6</td>\n",
       "      <td>7105.0</td>\n",
       "      <td>99883666</td>\n",
       "      <td>99884983</td>\n",
       "      <td>ENSG00000000003-99883666</td>\n",
       "      <td>23.001009</td>\n",
       "      <td>11.027659</td>\n",
       "      <td>9.982415</td>\n",
       "      <td>...</td>\n",
       "      <td>19.570779</td>\n",
       "      <td>12.423208</td>\n",
       "      <td>4.207665</td>\n",
       "      <td>12.099316</td>\n",
       "      <td>9.095215</td>\n",
       "      <td>5.175308</td>\n",
       "      <td>4.187070</td>\n",
       "      <td>13.289970</td>\n",
       "      <td>7.222306</td>\n",
       "      <td>9.966650</td>\n",
       "    </tr>\n",
       "    <tr>\n",
       "      <th>1</th>\n",
       "      <td>2</td>\n",
       "      <td>ENSG00000000003</td>\n",
       "      <td>TSPAN6</td>\n",
       "      <td>7105.0</td>\n",
       "      <td>99885755</td>\n",
       "      <td>99885863</td>\n",
       "      <td>ENSG00000000003-99885755</td>\n",
       "      <td>50.271498</td>\n",
       "      <td>19.503891</td>\n",
       "      <td>17.471636</td>\n",
       "      <td>...</td>\n",
       "      <td>33.595716</td>\n",
       "      <td>22.045745</td>\n",
       "      <td>7.840054</td>\n",
       "      <td>14.901883</td>\n",
       "      <td>11.759338</td>\n",
       "      <td>7.836597</td>\n",
       "      <td>5.845617</td>\n",
       "      <td>24.221006</td>\n",
       "      <td>10.469125</td>\n",
       "      <td>16.688965</td>\n",
       "    </tr>\n",
       "  </tbody>\n",
       "</table>\n",
       "<p>2 rows × 22 columns</p>\n",
       "</div>"
      ],
      "text/plain": [
       "   ROW         ENS.GENE GENE.SYMBOL  ENTREZ     START       END  \\\n",
       "0    1  ENSG00000000003      TSPAN6  7105.0  99883666  99884983   \n",
       "1    2  ENSG00000000003      TSPAN6  7105.0  99885755  99885863   \n",
       "\n",
       "                        KEY   PERIOD.1   PERIOD.2   PERIOD.3    ...      \\\n",
       "0  ENSG00000000003-99883666  23.001009  11.027659   9.982415    ...       \n",
       "1  ENSG00000000003-99885755  50.271498  19.503891  17.471636    ...       \n",
       "\n",
       "    PERIOD.6   PERIOD.7  PERIOD.8   PERIOD.9  PERIOD.10  PERIOD.11  PERIOD.12  \\\n",
       "0  19.570779  12.423208  4.207665  12.099316   9.095215   5.175308   4.187070   \n",
       "1  33.595716  22.045745  7.840054  14.901883  11.759338   7.836597   5.845617   \n",
       "\n",
       "    PRENATAL  POSTNATAL        ALL  \n",
       "0  13.289970   7.222306   9.966650  \n",
       "1  24.221006  10.469125  16.688965  \n",
       "\n",
       "[2 rows x 22 columns]"
      ]
     },
     "execution_count": 249,
     "metadata": {},
     "output_type": "execute_result"
    }
   ],
   "source": [
    "Andy_period = pd.read_csv(\"/Users/jiayao/Work/BrainDisorders/data/Andy-brainspan/period-andys-method.csv\")\n",
    "Andy_period.head(2)"
   ]
  },
  {
   "cell_type": "code",
   "execution_count": 254,
   "metadata": {},
   "outputs": [
    {
     "data": {
      "text/plain": [
       "(2199, 22)"
      ]
     },
     "execution_count": 254,
     "metadata": {},
     "output_type": "execute_result"
    }
   ],
   "source": [
    "Predicted_Andy_Period = Andy_period[Andy_period[\"GENE.SYMBOL\"].isin(AndyGeneSet)]\n",
    "Predicted_Andy_Period.shape"
   ]
  },
  {
   "cell_type": "code",
   "execution_count": 255,
   "metadata": {},
   "outputs": [
    {
     "name": "stderr",
     "output_type": "stream",
     "text": [
      "/Users/jiayao/anaconda3/lib/python3.7/site-packages/pandas/core/indexing.py:362: SettingWithCopyWarning: \n",
      "A value is trying to be set on a copy of a slice from a DataFrame.\n",
      "Try using .loc[row_indexer,col_indexer] = value instead\n",
      "\n",
      "See the caveats in the documentation: http://pandas.pydata.org/pandas-docs/stable/indexing.html#indexing-view-versus-copy\n",
      "  self.obj[key] = _infer_fill_value(value)\n",
      "/Users/jiayao/anaconda3/lib/python3.7/site-packages/pandas/core/indexing.py:543: SettingWithCopyWarning: \n",
      "A value is trying to be set on a copy of a slice from a DataFrame.\n",
      "Try using .loc[row_indexer,col_indexer] = value instead\n",
      "\n",
      "See the caveats in the documentation: http://pandas.pydata.org/pandas-docs/stable/indexing.html#indexing-view-versus-copy\n",
      "  self.obj[item] = s\n"
     ]
    },
    {
     "name": "stdout",
     "output_type": "stream",
     "text": [
      "223300"
     ]
    }
   ],
   "source": [
    "Predicted_Andy_Period = MakeExonID(Predicted_Andy_Period)"
   ]
  },
  {
   "cell_type": "code",
   "execution_count": 256,
   "metadata": {},
   "outputs": [
    {
     "data": {
      "text/html": [
       "<div>\n",
       "<style scoped>\n",
       "    .dataframe tbody tr th:only-of-type {\n",
       "        vertical-align: middle;\n",
       "    }\n",
       "\n",
       "    .dataframe tbody tr th {\n",
       "        vertical-align: top;\n",
       "    }\n",
       "\n",
       "    .dataframe thead th {\n",
       "        text-align: right;\n",
       "    }\n",
       "</style>\n",
       "<table border=\"1\" class=\"dataframe\">\n",
       "  <thead>\n",
       "    <tr style=\"text-align: right;\">\n",
       "      <th></th>\n",
       "      <th>ROW</th>\n",
       "      <th>ENS.GENE</th>\n",
       "      <th>GENE.SYMBOL</th>\n",
       "      <th>ENTREZ</th>\n",
       "      <th>START</th>\n",
       "      <th>END</th>\n",
       "      <th>KEY</th>\n",
       "      <th>PERIOD.1</th>\n",
       "      <th>PERIOD.2</th>\n",
       "      <th>PERIOD.3</th>\n",
       "      <th>...</th>\n",
       "      <th>PERIOD.7</th>\n",
       "      <th>PERIOD.8</th>\n",
       "      <th>PERIOD.9</th>\n",
       "      <th>PERIOD.10</th>\n",
       "      <th>PERIOD.11</th>\n",
       "      <th>PERIOD.12</th>\n",
       "      <th>PRENATAL</th>\n",
       "      <th>POSTNATAL</th>\n",
       "      <th>ALL</th>\n",
       "      <th>EXONID2</th>\n",
       "    </tr>\n",
       "  </thead>\n",
       "  <tbody>\n",
       "    <tr>\n",
       "      <th>1248</th>\n",
       "      <td>1249</td>\n",
       "      <td>ENSG00000005108</td>\n",
       "      <td>THSD7A</td>\n",
       "      <td>221981.0</td>\n",
       "      <td>11410063</td>\n",
       "      <td>11415505</td>\n",
       "      <td>ENSG00000005108-11410063</td>\n",
       "      <td>7.000226</td>\n",
       "      <td>12.71537</td>\n",
       "      <td>8.057586</td>\n",
       "      <td>...</td>\n",
       "      <td>4.971328</td>\n",
       "      <td>4.202400</td>\n",
       "      <td>1.962977</td>\n",
       "      <td>4.476625</td>\n",
       "      <td>2.042213</td>\n",
       "      <td>2.354877</td>\n",
       "      <td>6.805844</td>\n",
       "      <td>3.011648</td>\n",
       "      <td>4.727725</td>\n",
       "      <td>THSD7A_1</td>\n",
       "    </tr>\n",
       "    <tr>\n",
       "      <th>1249</th>\n",
       "      <td>1250</td>\n",
       "      <td>ENSG00000005108</td>\n",
       "      <td>THSD7A</td>\n",
       "      <td>221981.0</td>\n",
       "      <td>11416196</td>\n",
       "      <td>11416284</td>\n",
       "      <td>ENSG00000005108-11416196</td>\n",
       "      <td>7.979306</td>\n",
       "      <td>13.07255</td>\n",
       "      <td>8.744875</td>\n",
       "      <td>...</td>\n",
       "      <td>2.775317</td>\n",
       "      <td>4.028767</td>\n",
       "      <td>0.324124</td>\n",
       "      <td>4.023622</td>\n",
       "      <td>2.001689</td>\n",
       "      <td>1.565880</td>\n",
       "      <td>6.626785</td>\n",
       "      <td>2.164720</td>\n",
       "      <td>4.182868</td>\n",
       "      <td>THSD7A_2</td>\n",
       "    </tr>\n",
       "  </tbody>\n",
       "</table>\n",
       "<p>2 rows × 23 columns</p>\n",
       "</div>"
      ],
      "text/plain": [
       "       ROW         ENS.GENE GENE.SYMBOL    ENTREZ     START       END  \\\n",
       "1248  1249  ENSG00000005108      THSD7A  221981.0  11410063  11415505   \n",
       "1249  1250  ENSG00000005108      THSD7A  221981.0  11416196  11416284   \n",
       "\n",
       "                           KEY  PERIOD.1  PERIOD.2  PERIOD.3    ...     \\\n",
       "1248  ENSG00000005108-11410063  7.000226  12.71537  8.057586    ...      \n",
       "1249  ENSG00000005108-11416196  7.979306  13.07255  8.744875    ...      \n",
       "\n",
       "      PERIOD.7  PERIOD.8  PERIOD.9  PERIOD.10  PERIOD.11  PERIOD.12  PRENATAL  \\\n",
       "1248  4.971328  4.202400  1.962977   4.476625   2.042213   2.354877  6.805844   \n",
       "1249  2.775317  4.028767  0.324124   4.023622   2.001689   1.565880  6.626785   \n",
       "\n",
       "      POSTNATAL       ALL   EXONID2  \n",
       "1248   3.011648  4.727725  THSD7A_1  \n",
       "1249   2.164720  4.182868  THSD7A_2  \n",
       "\n",
       "[2 rows x 23 columns]"
      ]
     },
     "execution_count": 256,
     "metadata": {},
     "output_type": "execute_result"
    }
   ],
   "source": [
    "Predicted_Andy_Period.head(2)"
   ]
  },
  {
   "cell_type": "code",
   "execution_count": 262,
   "metadata": {},
   "outputs": [],
   "source": [
    "ExonPoolAndy = PoolTheExons3(ins, VarFile, Genes, Predicted_Andy_Period, ExonID2Length,\n",
    "                       minLog2RPKMplus1Cut = 1)"
   ]
  },
  {
   "cell_type": "code",
   "execution_count": 263,
   "metadata": {},
   "outputs": [],
   "source": [
    "BinsAndy = BinExon_UseAndyBin(ExonPoolAndy, ExonID2Part)\n",
    "BinsJW = BinExon(ExonPoolAndy)"
   ]
  },
  {
   "cell_type": "code",
   "execution_count": 264,
   "metadata": {},
   "outputs": [
    {
     "data": {
      "image/png": "[encoded data removed]",
      "text/plain": [
       "<Figure size 432x288 with 1 Axes>"
      ]
     },
     "metadata": {
      "needs_background": "light"
     },
     "output_type": "display_data"
    },
    {
     "data": {
      "image/png": "[encoded data removed]",
      "text/plain": [
       "<Figure size 432x288 with 1 Axes>"
      ]
     },
     "metadata": {
      "needs_background": "light"
     },
     "output_type": "display_data"
    }
   ],
   "source": [
    "PlotExonBins(BinsAndy)\n",
    "PlotExonHist(BinsAndy)"
   ]
  },
  {
   "cell_type": "code",
   "execution_count": 265,
   "metadata": {},
   "outputs": [
    {
     "data": {
      "image/png": "[encoded data removed]",
      "text/plain": [
       "<Figure size 432x288 with 1 Axes>"
      ]
     },
     "metadata": {
      "needs_background": "light"
     },
     "output_type": "display_data"
    },
    {
     "data": {
      "image/png": "[encoded data removed]",
      "text/plain": [
       "<Figure size 432x288 with 1 Axes>"
      ]
     },
     "metadata": {
      "needs_background": "light"
     },
     "output_type": "display_data"
    },
    {
     "name": "stdout",
     "output_type": "stream",
     "text": [
      "453\n",
      "453\n",
      "453\n",
      "455\n"
     ]
    }
   ],
   "source": [
    "PlotExonBins(BinsJW)\n",
    "PlotExonHist(BinsJW)\n",
    "for XX in BinsJW:\n",
    "    print(len(XX))"
   ]
  },
  {
   "cell_type": "code",
   "execution_count": 268,
   "metadata": {},
   "outputs": [
    {
     "name": "stdout",
     "output_type": "stream",
     "text": [
      "36 96537\n",
      "19 78736\n",
      "26 89876\n",
      "37 103125\n"
     ]
    },
    {
     "data": {
      "image/png": "[encoded data removed]",
      "text/plain": [
       "<Figure size 432x288 with 1 Axes>"
      ]
     },
     "metadata": {
      "needs_background": "light"
     },
     "output_type": "display_data"
    },
    {
     "data": {
      "image/png": "[encoded data removed]",
      "text/plain": [
       "<Figure size 432x288 with 1 Axes>"
      ]
     },
     "metadata": {
      "needs_background": "light"
     },
     "output_type": "display_data"
    },
    {
     "name": "stdout",
     "output_type": "stream",
     "text": [
      "49 103391\n",
      "17 95870\n",
      "22 80157\n",
      "30 88856\n"
     ]
    },
    {
     "data": {
      "image/png": "[encoded data removed]",
      "text/plain": [
       "<Figure size 432x288 with 1 Axes>"
      ]
     },
     "metadata": {
      "needs_background": "light"
     },
     "output_type": "display_data"
    },
    {
     "data": {
      "image/png": "[encoded data removed]",
      "text/plain": [
       "<Figure size 432x288 with 1 Axes>"
      ]
     },
     "metadata": {
      "needs_background": "light"
     },
     "output_type": "display_data"
    }
   ],
   "source": [
    "ExonBinsBurden(BinsAndy)\n",
    "ExonBinsBurden(BinsJW)"
   ]
  },
  {
   "cell_type": "code",
   "execution_count": null,
   "metadata": {},
   "outputs": [],
   "source": []
  }
 ],
 "metadata": {
  "kernelspec": {
   "display_name": "Python 3",
   "language": "python",
   "name": "python3"
  },
  "language_info": {
   "codemirror_mode": {
    "name": "ipython",
    "version": 3
   },
   "file_extension": ".py",
   "mimetype": "text/x-python",
   "name": "python",
   "nbconvert_exporter": "python",
   "pygments_lexer": "ipython3",
   "version": "3.7.1"
  }
 },
 "nbformat": 4,
 "nbformat_minor": 2
}
