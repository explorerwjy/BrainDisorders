{
 "cells": [
  {
   "cell_type": "code",
   "execution_count": 250,
   "metadata": {},
   "outputs": [
    {
     "name": "stdout",
     "output_type": "stream",
     "text": [
      "The autoreload extension is already loaded. To reload it, use:\n",
      "  %reload_ext autoreload\n"
     ]
    }
   ],
   "source": [
    "%load_ext autoreload\n",
    "%autoreload 2\n",
    "from utils import *\n",
    "import itertools\n",
    "from IPython.display import display, HTML\n",
    "from scipy.stats import spearmanr\n",
    "from scipy.stats import pearsonr\n",
    "ins = BrainSpan()"
   ]
  },
  {
   "cell_type": "markdown",
   "metadata": {},
   "source": [
    "# Prepare data"
   ]
  },
  {
   "cell_type": "code",
   "execution_count": 93,
   "metadata": {},
   "outputs": [],
   "source": [
    "wigler_fam_info = pd.read_excel(\"/Users/jiayao/Work/BrainDisorders/data/nature13908-s2/Supplementary_Table_1.xlsx\")\n",
    "famID2Gender = dict(zip(wigler_fam_info[\"familyId\"].values, wigler_fam_info[\"probandGender\"].values))\n",
    "famID2VIQ = dict(zip(wigler_fam_info[\"familyId\"].values, wigler_fam_info[\"probandVIQ\"].values))\n",
    "famID2NVIQ = dict(zip(wigler_fam_info[\"familyId\"].values, wigler_fam_info[\"probandNVIQ\"].values))\n",
    "\n",
    "#FSIQ\n",
    "core_desc = pd.read_csv(\n",
    "    \"/Users/jiayao/Work/BrainDisorders/VIP_phenotype/SSC_PhenotypeV15.2/Proband_Data/ssc_core_descriptive.csv\")\n",
    "core_desc = core_desc[[\"individual\", \"ssc_diagnosis_full_scale_iq\",\n",
    "                       \"ssc_diagnosis_nonverbal_iq\", \"ssc_diagnosis_verbal_iq\"]]\n",
    "core_desc[\"familyId\"] = core_desc.apply(lambda row:int(row[\"individual\"].split(\".\")[0]), axis=1)\n",
    "#display(core_desc.head(2))\n",
    "core_desc.columns.values\n",
    "famID2FSIQ = dict(zip(core_desc[\"familyId\"].values, core_desc[\"ssc_diagnosis_full_scale_iq\"].values))\n",
    "\n",
    "#VABS\n",
    "VABS_df = pd.read_csv(\"/Users/jiayao/Work/BrainDisorders/VIP_phenotype/SSC_PhenotypeV15.2/Proband_Data/ssc_proband_vineland_ii.csv\")\n",
    "VABS_df.head()\n",
    "scores = VABS_df[\"composite_standard_score\"].values\n",
    "fams = VABS_df[\"individual\"].values\n",
    "fams = [int(x.split(\".\")[0]) for x in fams]\n",
    "famID2VABS = dict(zip(fams, scores))"
   ]
  },
  {
   "cell_type": "code",
   "execution_count": 94,
   "metadata": {},
   "outputs": [],
   "source": [
    "#Variants = pd.read_excel(\"/Users/jiayao/Work/BrainDisorders/data/DenovoVariants/wigler2014RecProLGD.xlsx\")\n",
    "Variants = pd.read_excel(\"/Users/jiayao/Work/BrainDisorders/data/DenovoVariants/wigler2014ProLGD.xlsx\")\n",
    "Variants = Variants[['familyId','vcfVariant','inChild','effectGene','effectType']]\n",
    "Variants['gender'] = Variants.apply (lambda row: famID2Gender[row[\"familyId\"]], axis=1)\n",
    "Variants['VIQ'] = Variants.apply (lambda row: famID2VIQ[row[\"familyId\"]], axis=1)\n",
    "Variants['NVIQ'] = Variants.apply (lambda row: famID2NVIQ[row[\"familyId\"]], axis=1)\n",
    "Variants['FSIQ'] = Variants.apply (lambda row: famID2FSIQ.get(row[\"familyId\"],-1), axis=1)\n",
    "Variants['VABS'] = Variants.apply (lambda row: famID2VABS.get(row[\"familyId\"],-1), axis=1)"
   ]
  },
  {
   "cell_type": "code",
   "execution_count": 95,
   "metadata": {},
   "outputs": [],
   "source": [
    "Variants[Variants[\"effectGene\"]==\"KMT2E\"]\n",
    "Variants.loc[Variants[\"effectGene\"]==\"KMT2E\", \"effectGene\"] = \"MLL5\" "
   ]
  },
  {
   "cell_type": "code",
   "execution_count": 96,
   "metadata": {},
   "outputs": [
    {
     "data": {
      "text/plain": [
       "(389, 10)"
      ]
     },
     "execution_count": 96,
     "metadata": {},
     "output_type": "execute_result"
    }
   ],
   "source": [
    "Variants = Variants[~Variants[\"effectGene\"].isin([\"ZC3H4\"])]\n",
    "Variants.shape"
   ]
  },
  {
   "cell_type": "code",
   "execution_count": 97,
   "metadata": {},
   "outputs": [
    {
     "name": "stdout",
     "output_type": "stream",
     "text": [
      "351\n"
     ]
    }
   ],
   "source": [
    "AllGenes = set(Variants[\"effectGene\"].values)\n",
    "print(len(AllGenes))"
   ]
  },
  {
   "cell_type": "code",
   "execution_count": 98,
   "metadata": {},
   "outputs": [],
   "source": [
    "Chrs = [x.split(\":\")[0] for x in Variants[\"vcfVariant\"].values]\n",
    "Genes = Variants[\"effectGene\"].values\n",
    "gene2chr = dict(zip(Genes, Chrs))"
   ]
  },
  {
   "cell_type": "code",
   "execution_count": 99,
   "metadata": {},
   "outputs": [],
   "source": [
    "# Check same gene same proband\n",
    "for gene in list(AllGenes):\n",
    "    tmp = Variants[Variants[\"effectGene\"] == gene]\n",
    "    if len(set(tmp[\"familyId\"])) != tmp.shape[0]:\n",
    "        print(gene)\n",
    "        display(tmp)"
   ]
  },
  {
   "cell_type": "code",
   "execution_count": 100,
   "metadata": {},
   "outputs": [
    {
     "data": {
      "text/html": [
       "<div>\n",
       "<style scoped>\n",
       "    .dataframe tbody tr th:only-of-type {\n",
       "        vertical-align: middle;\n",
       "    }\n",
       "\n",
       "    .dataframe tbody tr th {\n",
       "        vertical-align: top;\n",
       "    }\n",
       "\n",
       "    .dataframe thead th {\n",
       "        text-align: right;\n",
       "    }\n",
       "</style>\n",
       "<table border=\"1\" class=\"dataframe\">\n",
       "  <thead>\n",
       "    <tr style=\"text-align: right;\">\n",
       "      <th></th>\n",
       "      <th>column_num</th>\n",
       "      <th>donor_id</th>\n",
       "      <th>donor_name</th>\n",
       "      <th>age</th>\n",
       "      <th>gender</th>\n",
       "      <th>structure_id</th>\n",
       "      <th>structure_acronym</th>\n",
       "      <th>structure_name</th>\n",
       "    </tr>\n",
       "  </thead>\n",
       "  <tbody>\n",
       "    <tr>\n",
       "      <th>0</th>\n",
       "      <td>1</td>\n",
       "      <td>13058</td>\n",
       "      <td>H376.IIA.51</td>\n",
       "      <td>8 pcw</td>\n",
       "      <td>M</td>\n",
       "      <td>10268</td>\n",
       "      <td>Ocx</td>\n",
       "      <td>occipital neocortex</td>\n",
       "    </tr>\n",
       "    <tr>\n",
       "      <th>1</th>\n",
       "      <td>2</td>\n",
       "      <td>13058</td>\n",
       "      <td>H376.IIA.51</td>\n",
       "      <td>8 pcw</td>\n",
       "      <td>M</td>\n",
       "      <td>10291</td>\n",
       "      <td>M1C-S1C</td>\n",
       "      <td>primary motor-sensory cortex (samples)</td>\n",
       "    </tr>\n",
       "  </tbody>\n",
       "</table>\n",
       "</div>"
      ],
      "text/plain": [
       "   column_num  donor_id   donor_name    age gender  structure_id  \\\n",
       "0           1     13058  H376.IIA.51  8 pcw      M         10268   \n",
       "1           2     13058  H376.IIA.51  8 pcw      M         10291   \n",
       "\n",
       "  structure_acronym                          structure_name  \n",
       "0               Ocx                     occipital neocortex  \n",
       "1           M1C-S1C  primary motor-sensory cortex (samples)  "
      ]
     },
     "metadata": {},
     "output_type": "display_data"
    },
    {
     "data": {
      "text/html": [
       "<div>\n",
       "<style scoped>\n",
       "    .dataframe tbody tr th:only-of-type {\n",
       "        vertical-align: middle;\n",
       "    }\n",
       "\n",
       "    .dataframe tbody tr th {\n",
       "        vertical-align: top;\n",
       "    }\n",
       "\n",
       "    .dataframe thead th {\n",
       "        text-align: right;\n",
       "    }\n",
       "</style>\n",
       "<table border=\"1\" class=\"dataframe\">\n",
       "  <thead>\n",
       "    <tr style=\"text-align: right;\">\n",
       "      <th></th>\n",
       "      <th>row_num</th>\n",
       "      <th>gene_id</th>\n",
       "      <th>ensembl_gene_id</th>\n",
       "      <th>gene_symbol</th>\n",
       "      <th>entrez_id</th>\n",
       "    </tr>\n",
       "  </thead>\n",
       "  <tbody>\n",
       "    <tr>\n",
       "      <th>0</th>\n",
       "      <td>1</td>\n",
       "      <td>7062.0</td>\n",
       "      <td>ENSG00000000003</td>\n",
       "      <td>TSPAN6</td>\n",
       "      <td>7105.0</td>\n",
       "    </tr>\n",
       "    <tr>\n",
       "      <th>1</th>\n",
       "      <td>2</td>\n",
       "      <td>40735.0</td>\n",
       "      <td>ENSG00000000005</td>\n",
       "      <td>TNMD</td>\n",
       "      <td>64102.0</td>\n",
       "    </tr>\n",
       "  </tbody>\n",
       "</table>\n",
       "</div>"
      ],
      "text/plain": [
       "   row_num  gene_id  ensembl_gene_id gene_symbol  entrez_id\n",
       "0        1   7062.0  ENSG00000000003      TSPAN6     7105.0\n",
       "1        2  40735.0  ENSG00000000005        TNMD    64102.0"
      ]
     },
     "metadata": {},
     "output_type": "display_data"
    }
   ],
   "source": [
    "gene_exp_col = pd.read_csv(\n",
    "    \"/Users/jiayao/Work/BrainDisorders/data/expression/brainspan/gene_matrix/columns_metadata.csv\")\n",
    "gene_exp_row = pd.read_csv(\n",
    "    \"/Users/jiayao/Work/BrainDisorders/data/expression/brainspan/gene_matrix/rows_metadata.csv\")\n",
    "display(gene_exp_col.head(2))\n",
    "display(gene_exp_row.head(2))"
   ]
  },
  {
   "cell_type": "code",
   "execution_count": 101,
   "metadata": {},
   "outputs": [
    {
     "data": {
      "text/html": [
       "<div>\n",
       "<style scoped>\n",
       "    .dataframe tbody tr th:only-of-type {\n",
       "        vertical-align: middle;\n",
       "    }\n",
       "\n",
       "    .dataframe tbody tr th {\n",
       "        vertical-align: top;\n",
       "    }\n",
       "\n",
       "    .dataframe thead th {\n",
       "        text-align: right;\n",
       "    }\n",
       "</style>\n",
       "<table border=\"1\" class=\"dataframe\">\n",
       "  <thead>\n",
       "    <tr style=\"text-align: right;\">\n",
       "      <th></th>\n",
       "      <th>column_num</th>\n",
       "      <th>donor_id</th>\n",
       "      <th>donor_name</th>\n",
       "      <th>age</th>\n",
       "      <th>gender</th>\n",
       "      <th>structure_id</th>\n",
       "      <th>structure_acronym</th>\n",
       "      <th>structure_name</th>\n",
       "      <th>Period</th>\n",
       "      <th>Stage</th>\n",
       "      <th>Description</th>\n",
       "    </tr>\n",
       "  </thead>\n",
       "  <tbody>\n",
       "    <tr>\n",
       "      <th>0</th>\n",
       "      <td>1</td>\n",
       "      <td>13058</td>\n",
       "      <td>H376.IIA.51</td>\n",
       "      <td>8 pcw</td>\n",
       "      <td>M</td>\n",
       "      <td>10665</td>\n",
       "      <td>URL</td>\n",
       "      <td>upper (rostral) rhombic lip</td>\n",
       "      <td>2A</td>\n",
       "      <td>2</td>\n",
       "      <td>Early prenatal</td>\n",
       "    </tr>\n",
       "    <tr>\n",
       "      <th>1</th>\n",
       "      <td>2</td>\n",
       "      <td>13058</td>\n",
       "      <td>H376.IIA.51</td>\n",
       "      <td>8 pcw</td>\n",
       "      <td>M</td>\n",
       "      <td>10194</td>\n",
       "      <td>OFC</td>\n",
       "      <td>orbital frontal cortex</td>\n",
       "      <td>2A</td>\n",
       "      <td>2</td>\n",
       "      <td>Early prenatal</td>\n",
       "    </tr>\n",
       "  </tbody>\n",
       "</table>\n",
       "</div>"
      ],
      "text/plain": [
       "   column_num  donor_id   donor_name    age gender  structure_id  \\\n",
       "0           1     13058  H376.IIA.51  8 pcw      M         10665   \n",
       "1           2     13058  H376.IIA.51  8 pcw      M         10194   \n",
       "\n",
       "  structure_acronym               structure_name Period Stage     Description  \n",
       "0               URL  upper (rostral) rhombic lip     2A     2  Early prenatal  \n",
       "1               OFC       orbital frontal cortex     2A     2  Early prenatal  "
      ]
     },
     "metadata": {},
     "output_type": "display_data"
    },
    {
     "data": {
      "text/html": [
       "<div>\n",
       "<style scoped>\n",
       "    .dataframe tbody tr th:only-of-type {\n",
       "        vertical-align: middle;\n",
       "    }\n",
       "\n",
       "    .dataframe tbody tr th {\n",
       "        vertical-align: top;\n",
       "    }\n",
       "\n",
       "    .dataframe thead th {\n",
       "        text-align: right;\n",
       "    }\n",
       "</style>\n",
       "<table border=\"1\" class=\"dataframe\">\n",
       "  <thead>\n",
       "    <tr style=\"text-align: right;\">\n",
       "      <th></th>\n",
       "      <th>row_num</th>\n",
       "      <th>gene_id</th>\n",
       "      <th>ensembl_gene_id</th>\n",
       "      <th>gene_symbol</th>\n",
       "      <th>entrez_id</th>\n",
       "      <th>start</th>\n",
       "      <th>end</th>\n",
       "      <th>exon length</th>\n",
       "      <th>cds length</th>\n",
       "    </tr>\n",
       "  </thead>\n",
       "  <tbody>\n",
       "    <tr>\n",
       "      <th>0</th>\n",
       "      <td>1</td>\n",
       "      <td>1086864</td>\n",
       "      <td>ENSG00000000003</td>\n",
       "      <td>TSPAN6</td>\n",
       "      <td>7105.0</td>\n",
       "      <td>99883666</td>\n",
       "      <td>99884983</td>\n",
       "      <td>1317</td>\n",
       "      <td>1317</td>\n",
       "    </tr>\n",
       "    <tr>\n",
       "      <th>1</th>\n",
       "      <td>2</td>\n",
       "      <td>1086864</td>\n",
       "      <td>ENSG00000000003</td>\n",
       "      <td>TSPAN6</td>\n",
       "      <td>7105.0</td>\n",
       "      <td>99885755</td>\n",
       "      <td>99885863</td>\n",
       "      <td>108</td>\n",
       "      <td>108</td>\n",
       "    </tr>\n",
       "  </tbody>\n",
       "</table>\n",
       "</div>"
      ],
      "text/plain": [
       "   row_num  gene_id  ensembl_gene_id gene_symbol  entrez_id     start  \\\n",
       "0        1  1086864  ENSG00000000003      TSPAN6     7105.0  99883666   \n",
       "1        2  1086864  ENSG00000000003      TSPAN6     7105.0  99885755   \n",
       "\n",
       "        end  exon length  cds length  \n",
       "0  99884983         1317        1317  \n",
       "1  99885863          108         108  "
      ]
     },
     "metadata": {},
     "output_type": "display_data"
    }
   ],
   "source": [
    "exon_exp_col = pd.read_csv(\n",
    "    \"/Users/jiayao/Work/BrainDisorders/data/expression/brainspan/exons_matrix/columns_metadata.csv\")\n",
    "exon_exp_row = pd.read_csv(\n",
    "    \"/Users/jiayao/Work/BrainDisorders/data/expression/brainspan/exons_matrix/rows_metadata.csv\")\n",
    "cds_dict = loaddict()\n",
    "exon_exp_row[\"exon length\"] = exon_exp_row[\"end\"] - exon_exp_row[\"start\"]\n",
    "exon_exp_row[\"cds length\"] = exon_exp_row.apply(lambda row: addcds(row, cds_dict), axis=1)\n",
    "exon_exp_col[\"Period\"] = exon_exp_col.apply(lambda row: ins.TemporalMap(row[\"age\"])[0], axis=1)\n",
    "exon_exp_col[\"Stage\"] = exon_exp_col.apply(lambda row: ins.TemporalMap(row[\"age\"])[1], axis=1)\n",
    "exon_exp_col[\"Description\"] = exon_exp_col.apply(lambda row: ins.TemporalMap(row[\"age\"])[2], axis=1)\n",
    "gene_exp_col[\"Period\"] = gene_exp_col.apply(lambda row: ins.TemporalMap(row[\"age\"])[0], axis=1)\n",
    "display(exon_exp_col.head(2))\n",
    "display(exon_exp_row.head(2))"
   ]
  },
  {
   "cell_type": "code",
   "execution_count": 102,
   "metadata": {},
   "outputs": [],
   "source": [
    "qn_gene_exp_recgenes = pd.read_csv(\"unifiedmodel/LGDGenes_exp_matrix.csv\")\n",
    "qn_exon_exp_recgenes = pd.read_csv(\"unifiedmodel/LGDExons_exp_matrix.csv\")"
   ]
  },
  {
   "cell_type": "code",
   "execution_count": 103,
   "metadata": {},
   "outputs": [
    {
     "name": "stderr",
     "output_type": "stream",
     "text": [
      "/Users/jiayao/anaconda3/lib/python3.7/site-packages/ipykernel_launcher.py:2: SettingWithCopyWarning: \n",
      "A value is trying to be set on a copy of a slice from a DataFrame.\n",
      "Try using .loc[row_indexer,col_indexer] = value instead\n",
      "\n",
      "See the caveats in the documentation: http://pandas.pydata.org/pandas-docs/stable/indexing.html#indexing-view-versus-copy\n",
      "  \n",
      "/Users/jiayao/anaconda3/lib/python3.7/site-packages/ipykernel_launcher.py:3: SettingWithCopyWarning: \n",
      "A value is trying to be set on a copy of a slice from a DataFrame.\n",
      "Try using .loc[row_indexer,col_indexer] = value instead\n",
      "\n",
      "See the caveats in the documentation: http://pandas.pydata.org/pandas-docs/stable/indexing.html#indexing-view-versus-copy\n",
      "  This is separate from the ipykernel package so we can avoid doing imports until\n",
      "/Users/jiayao/anaconda3/lib/python3.7/site-packages/ipykernel_launcher.py:12: RuntimeWarning: invalid value encountered in double_scalars\n",
      "  if sys.path[0] == '':\n"
     ]
    }
   ],
   "source": [
    "exon_exp_row_recgenes = exon_exp_row[exon_exp_row[\"gene_symbol\"].isin(AllGenes)]\n",
    "exon_exp_row_recgenes[\"rel.exp\"] = 0.0\n",
    "exon_exp_row_recgenes[\"isLastExon\"] = \"F\"\n",
    "for i, row in exon_exp_row_recgenes.iterrows():\n",
    "    gene, exonId = row[\"gene_symbol\"], row[\"row_num\"]\n",
    "    gene_index = gene_exp_row[gene_exp_row[\"gene_symbol\"]==gene][\"row_num\"].values[0]\n",
    "    GeneExp = qn_gene_exp_recgenes[qn_gene_exp_recgenes[\"index\"]==gene_index].values[0][1:]\n",
    "    ExonExp = qn_exon_exp_recgenes[qn_exon_exp_recgenes[\"index\"]==exonId].values[0][1:]\n",
    "    #print(GeneExp[:5], ExonExp[:5])\n",
    "    gene_amean, exon_amean = np.mean(GeneExp), np.mean(ExonExp)\n",
    "    #gene_gmean, exon_gmean = sudogmean(GeneExp), sudogmean(ExonExp)\n",
    "    exon_exp_row_recgenes.at[i, \"rel.exp\"] = exon_amean/gene_amean\n",
    "    try:\n",
    "        if gene != exon_exp_row_recgenes.at[i+1, \"gene_symbol\"]:\n",
    "            exon_exp_row_recgenes.at[i, \"isLastExon\"] = \"T\"\n",
    "    except:\n",
    "        exon_exp_row_recgenes.at[i, \"isLastExon\"] = \"T\"\n",
    "#exon_exp_row_recgenes = exon_exp_row_recgenes[exon_exp_row_recgenes[\"isLastExon\"]==\"F\"]"
   ]
  },
  {
   "cell_type": "code",
   "execution_count": 104,
   "metadata": {},
   "outputs": [
    {
     "name": "stderr",
     "output_type": "stream",
     "text": [
      "/Users/jiayao/anaconda3/lib/python3.7/site-packages/ipykernel_launcher.py:1: SettingWithCopyWarning: \n",
      "A value is trying to be set on a copy of a slice from a DataFrame.\n",
      "Try using .loc[row_indexer,col_indexer] = value instead\n",
      "\n",
      "See the caveats in the documentation: http://pandas.pydata.org/pandas-docs/stable/indexing.html#indexing-view-versus-copy\n",
      "  \"\"\"Entry point for launching an IPython kernel.\n"
     ]
    },
    {
     "data": {
      "text/html": [
       "<div>\n",
       "<style scoped>\n",
       "    .dataframe tbody tr th:only-of-type {\n",
       "        vertical-align: middle;\n",
       "    }\n",
       "\n",
       "    .dataframe tbody tr th {\n",
       "        vertical-align: top;\n",
       "    }\n",
       "\n",
       "    .dataframe thead th {\n",
       "        text-align: right;\n",
       "    }\n",
       "</style>\n",
       "<table border=\"1\" class=\"dataframe\">\n",
       "  <thead>\n",
       "    <tr style=\"text-align: right;\">\n",
       "      <th></th>\n",
       "      <th>row_num</th>\n",
       "      <th>gene_id</th>\n",
       "      <th>ensembl_gene_id</th>\n",
       "      <th>gene_symbol</th>\n",
       "      <th>entrez_id</th>\n",
       "      <th>start</th>\n",
       "      <th>end</th>\n",
       "      <th>exon length</th>\n",
       "      <th>cds length</th>\n",
       "      <th>rel.exp</th>\n",
       "      <th>isLastExon</th>\n",
       "      <th>Chr</th>\n",
       "    </tr>\n",
       "  </thead>\n",
       "  <tbody>\n",
       "    <tr>\n",
       "      <th>1248</th>\n",
       "      <td>1249</td>\n",
       "      <td>1086943</td>\n",
       "      <td>ENSG00000005108</td>\n",
       "      <td>THSD7A</td>\n",
       "      <td>221981.0</td>\n",
       "      <td>11410063</td>\n",
       "      <td>11415505</td>\n",
       "      <td>5442</td>\n",
       "      <td>5442</td>\n",
       "      <td>1.188120</td>\n",
       "      <td>F</td>\n",
       "      <td>7</td>\n",
       "    </tr>\n",
       "    <tr>\n",
       "      <th>1249</th>\n",
       "      <td>1250</td>\n",
       "      <td>1086943</td>\n",
       "      <td>ENSG00000005108</td>\n",
       "      <td>THSD7A</td>\n",
       "      <td>221981.0</td>\n",
       "      <td>11416196</td>\n",
       "      <td>11416284</td>\n",
       "      <td>88</td>\n",
       "      <td>88</td>\n",
       "      <td>1.051193</td>\n",
       "      <td>F</td>\n",
       "      <td>7</td>\n",
       "    </tr>\n",
       "    <tr>\n",
       "      <th>1250</th>\n",
       "      <td>1251</td>\n",
       "      <td>1086943</td>\n",
       "      <td>ENSG00000005108</td>\n",
       "      <td>THSD7A</td>\n",
       "      <td>221981.0</td>\n",
       "      <td>11418696</td>\n",
       "      <td>11418907</td>\n",
       "      <td>211</td>\n",
       "      <td>211</td>\n",
       "      <td>1.168342</td>\n",
       "      <td>F</td>\n",
       "      <td>7</td>\n",
       "    </tr>\n",
       "    <tr>\n",
       "      <th>1251</th>\n",
       "      <td>1252</td>\n",
       "      <td>1086943</td>\n",
       "      <td>ENSG00000005108</td>\n",
       "      <td>THSD7A</td>\n",
       "      <td>221981.0</td>\n",
       "      <td>11419256</td>\n",
       "      <td>11419382</td>\n",
       "      <td>126</td>\n",
       "      <td>126</td>\n",
       "      <td>0.781333</td>\n",
       "      <td>F</td>\n",
       "      <td>7</td>\n",
       "    </tr>\n",
       "    <tr>\n",
       "      <th>1252</th>\n",
       "      <td>1253</td>\n",
       "      <td>1086943</td>\n",
       "      <td>ENSG00000005108</td>\n",
       "      <td>THSD7A</td>\n",
       "      <td>221981.0</td>\n",
       "      <td>11422147</td>\n",
       "      <td>11422243</td>\n",
       "      <td>96</td>\n",
       "      <td>96</td>\n",
       "      <td>1.098260</td>\n",
       "      <td>F</td>\n",
       "      <td>7</td>\n",
       "    </tr>\n",
       "  </tbody>\n",
       "</table>\n",
       "</div>"
      ],
      "text/plain": [
       "      row_num  gene_id  ensembl_gene_id gene_symbol  entrez_id     start  \\\n",
       "1248     1249  1086943  ENSG00000005108      THSD7A   221981.0  11410063   \n",
       "1249     1250  1086943  ENSG00000005108      THSD7A   221981.0  11416196   \n",
       "1250     1251  1086943  ENSG00000005108      THSD7A   221981.0  11418696   \n",
       "1251     1252  1086943  ENSG00000005108      THSD7A   221981.0  11419256   \n",
       "1252     1253  1086943  ENSG00000005108      THSD7A   221981.0  11422147   \n",
       "\n",
       "           end  exon length  cds length   rel.exp isLastExon Chr  \n",
       "1248  11415505         5442        5442  1.188120          F   7  \n",
       "1249  11416284           88          88  1.051193          F   7  \n",
       "1250  11418907          211         211  1.168342          F   7  \n",
       "1251  11419382          126         126  0.781333          F   7  \n",
       "1252  11422243           96          96  1.098260          F   7  "
      ]
     },
     "execution_count": 104,
     "metadata": {},
     "output_type": "execute_result"
    }
   ],
   "source": [
    "exon_exp_row_recgenes[\"Chr\"] = exon_exp_row_recgenes.apply(lambda row: gene2chr[row[\"gene_symbol\"]], axis=1 )\n",
    "exon_exp_row_recgenes.head()"
   ]
  },
  {
   "cell_type": "code",
   "execution_count": 105,
   "metadata": {},
   "outputs": [],
   "source": [
    "exon_exp_row_recgenes.to_csv(\"unifiedmodel/exon_exp_row_lgdgenes.csv\", index=False)"
   ]
  },
  {
   "cell_type": "code",
   "execution_count": 106,
   "metadata": {},
   "outputs": [
    {
     "data": {
      "text/html": [
       "<div>\n",
       "<style scoped>\n",
       "    .dataframe tbody tr th:only-of-type {\n",
       "        vertical-align: middle;\n",
       "    }\n",
       "\n",
       "    .dataframe tbody tr th {\n",
       "        vertical-align: top;\n",
       "    }\n",
       "\n",
       "    .dataframe thead th {\n",
       "        text-align: right;\n",
       "    }\n",
       "</style>\n",
       "<table border=\"1\" class=\"dataframe\">\n",
       "  <thead>\n",
       "    <tr style=\"text-align: right;\">\n",
       "      <th></th>\n",
       "      <th>gene_id</th>\n",
       "      <th>ensembl_gene_id</th>\n",
       "      <th>gene_symbol</th>\n",
       "      <th>entrez_id</th>\n",
       "      <th>start</th>\n",
       "      <th>end</th>\n",
       "      <th>exon length</th>\n",
       "      <th>cds length</th>\n",
       "      <th>rel.exp</th>\n",
       "      <th>isLastExon</th>\n",
       "      <th>Chr</th>\n",
       "      <th>phyloP100way</th>\n",
       "      <th>phastCons100way</th>\n",
       "    </tr>\n",
       "    <tr>\n",
       "      <th>row_num</th>\n",
       "      <th></th>\n",
       "      <th></th>\n",
       "      <th></th>\n",
       "      <th></th>\n",
       "      <th></th>\n",
       "      <th></th>\n",
       "      <th></th>\n",
       "      <th></th>\n",
       "      <th></th>\n",
       "      <th></th>\n",
       "      <th></th>\n",
       "      <th></th>\n",
       "      <th></th>\n",
       "    </tr>\n",
       "  </thead>\n",
       "  <tbody>\n",
       "    <tr>\n",
       "      <th>1249</th>\n",
       "      <td>1086943</td>\n",
       "      <td>ENSG00000005108</td>\n",
       "      <td>THSD7A</td>\n",
       "      <td>221981.0</td>\n",
       "      <td>11410063</td>\n",
       "      <td>11415505</td>\n",
       "      <td>5442</td>\n",
       "      <td>5442</td>\n",
       "      <td>1.188120</td>\n",
       "      <td>F</td>\n",
       "      <td>7</td>\n",
       "      <td>0.793141</td>\n",
       "      <td>0.296318</td>\n",
       "    </tr>\n",
       "    <tr>\n",
       "      <th>1250</th>\n",
       "      <td>1086943</td>\n",
       "      <td>ENSG00000005108</td>\n",
       "      <td>THSD7A</td>\n",
       "      <td>221981.0</td>\n",
       "      <td>11416196</td>\n",
       "      <td>11416284</td>\n",
       "      <td>88</td>\n",
       "      <td>88</td>\n",
       "      <td>1.051193</td>\n",
       "      <td>F</td>\n",
       "      <td>7</td>\n",
       "      <td>5.170170</td>\n",
       "      <td>0.977000</td>\n",
       "    </tr>\n",
       "  </tbody>\n",
       "</table>\n",
       "</div>"
      ],
      "text/plain": [
       "         gene_id  ensembl_gene_id gene_symbol  entrez_id     start       end  \\\n",
       "row_num                                                                        \n",
       "1249     1086943  ENSG00000005108      THSD7A   221981.0  11410063  11415505   \n",
       "1250     1086943  ENSG00000005108      THSD7A   221981.0  11416196  11416284   \n",
       "\n",
       "         exon length  cds length   rel.exp isLastExon Chr  phyloP100way  \\\n",
       "row_num                                                                   \n",
       "1249            5442        5442  1.188120          F   7      0.793141   \n",
       "1250              88          88  1.051193          F   7      5.170170   \n",
       "\n",
       "         phastCons100way  \n",
       "row_num                   \n",
       "1249            0.296318  \n",
       "1250            0.977000  "
      ]
     },
     "execution_count": 106,
     "metadata": {},
     "output_type": "execute_result"
    }
   ],
   "source": [
    "exon_exp_row_recgenes_phyloP = pd.read_csv(\"unifiedmodel/exon_exp_row_lgdgenes.phyloP.csv\")\n",
    "exon_exp_row_recgenes_phyloP.set_index('row_num', inplace=True)\n",
    "exon_exp_row_recgenes_phyloP.head(2)"
   ]
  },
  {
   "cell_type": "code",
   "execution_count": 107,
   "metadata": {},
   "outputs": [
    {
     "name": "stdout",
     "output_type": "stream",
     "text": [
      "237 237\n"
     ]
    }
   ],
   "source": [
    "Prenatal = Stages[:6]\n",
    "Postnatal = Stages[6:]\n",
    "PrenatalGeneCols = gene_exp_col[gene_exp_col[\"Period\"].isin(Prenatal)][\"column_num\"].values\n",
    "PostnatalGeneCols = gene_exp_col[gene_exp_col[\"Period\"].isin(Postnatal)][\"column_num\"].values\n",
    "PrenatalExonCols = exon_exp_col[exon_exp_col[\"Period\"].isin(Prenatal)][\"column_num\"].values\n",
    "PostnatalExonCols = exon_exp_col[exon_exp_col[\"Period\"].isin(Postnatal)][\"column_num\"].values\n",
    "print(PrenatalGeneCols[-1], PrenatalExonCols[-1])\n",
    "#print(PrenatalGeneCols, PostnatalGeneCols)"
   ]
  },
  {
   "cell_type": "code",
   "execution_count": 108,
   "metadata": {},
   "outputs": [
    {
     "data": {
      "text/html": [
       "<div>\n",
       "<style scoped>\n",
       "    .dataframe tbody tr th:only-of-type {\n",
       "        vertical-align: middle;\n",
       "    }\n",
       "\n",
       "    .dataframe tbody tr th {\n",
       "        vertical-align: top;\n",
       "    }\n",
       "\n",
       "    .dataframe thead th {\n",
       "        text-align: right;\n",
       "    }\n",
       "</style>\n",
       "<table border=\"1\" class=\"dataframe\">\n",
       "  <thead>\n",
       "    <tr style=\"text-align: right;\">\n",
       "      <th></th>\n",
       "      <th>DOM.TRUNC</th>\n",
       "      <th>DOM.KEPT</th>\n",
       "      <th>DOM.TRUNC.N</th>\n",
       "      <th>DOM.KEPT.N</th>\n",
       "      <th>DOM.TRUNC.FRAC</th>\n",
       "    </tr>\n",
       "    <tr>\n",
       "      <th>KEY</th>\n",
       "      <th></th>\n",
       "      <th></th>\n",
       "      <th></th>\n",
       "      <th></th>\n",
       "      <th></th>\n",
       "    </tr>\n",
       "  </thead>\n",
       "  <tbody>\n",
       "    <tr>\n",
       "      <th>11563-1:1222518</th>\n",
       "      <td>PF00858</td>\n",
       "      <td>NaN</td>\n",
       "      <td>1.0</td>\n",
       "      <td>0.0</td>\n",
       "      <td>1.0</td>\n",
       "    </tr>\n",
       "    <tr>\n",
       "      <th>14075-1:3519050</th>\n",
       "      <td>PF00053 PF07645 PF14670</td>\n",
       "      <td>NaN</td>\n",
       "      <td>3.0</td>\n",
       "      <td>0.0</td>\n",
       "      <td>1.0</td>\n",
       "    </tr>\n",
       "  </tbody>\n",
       "</table>\n",
       "</div>"
      ],
      "text/plain": [
       "                               DOM.TRUNC DOM.KEPT  DOM.TRUNC.N  DOM.KEPT.N  \\\n",
       "KEY                                                                          \n",
       "11563-1:1222518                  PF00858      NaN          1.0         0.0   \n",
       "14075-1:3519050  PF00053 PF07645 PF14670      NaN          3.0         0.0   \n",
       "\n",
       "                 DOM.TRUNC.FRAC  \n",
       "KEY                              \n",
       "11563-1:1222518             1.0  \n",
       "14075-1:3519050             1.0  "
      ]
     },
     "metadata": {},
     "output_type": "display_data"
    },
    {
     "data": {
      "text/html": [
       "<div>\n",
       "<style scoped>\n",
       "    .dataframe tbody tr th:only-of-type {\n",
       "        vertical-align: middle;\n",
       "    }\n",
       "\n",
       "    .dataframe tbody tr th {\n",
       "        vertical-align: top;\n",
       "    }\n",
       "\n",
       "    .dataframe thead th {\n",
       "        text-align: right;\n",
       "    }\n",
       "</style>\n",
       "<table border=\"1\" class=\"dataframe\">\n",
       "  <thead>\n",
       "    <tr style=\"text-align: right;\">\n",
       "      <th></th>\n",
       "      <th>ensembl_exon_id</th>\n",
       "      <th>ensembl_transcript_id</th>\n",
       "      <th>ensembl_gene_id</th>\n",
       "      <th>chromosome_name</th>\n",
       "      <th>exon_chrom_start</th>\n",
       "      <th>exon_chrom_end</th>\n",
       "      <th>entrezgene</th>\n",
       "      <th>CONSERV</th>\n",
       "    </tr>\n",
       "    <tr>\n",
       "      <th>KEY</th>\n",
       "      <th></th>\n",
       "      <th></th>\n",
       "      <th></th>\n",
       "      <th></th>\n",
       "      <th></th>\n",
       "      <th></th>\n",
       "      <th></th>\n",
       "      <th></th>\n",
       "    </tr>\n",
       "  </thead>\n",
       "  <tbody>\n",
       "    <tr>\n",
       "      <th>11563-1:1222518</th>\n",
       "      <td>ENSE00003620052</td>\n",
       "      <td>ENST00000338555</td>\n",
       "      <td>ENSG00000162572</td>\n",
       "      <td>1</td>\n",
       "      <td>1222489.0</td>\n",
       "      <td>1222679.0</td>\n",
       "      <td>6339.0</td>\n",
       "      <td>0.296541</td>\n",
       "    </tr>\n",
       "    <tr>\n",
       "      <th>14075-1:3519050</th>\n",
       "      <td>ENSE00001477190</td>\n",
       "      <td>ENST00000356575</td>\n",
       "      <td>ENSG00000162591</td>\n",
       "      <td>1</td>\n",
       "      <td>3519030.0</td>\n",
       "      <td>3519164.0</td>\n",
       "      <td>1953.0</td>\n",
       "      <td>1.888373</td>\n",
       "    </tr>\n",
       "  </tbody>\n",
       "</table>\n",
       "</div>"
      ],
      "text/plain": [
       "                 ensembl_exon_id ensembl_transcript_id  ensembl_gene_id  \\\n",
       "KEY                                                                       \n",
       "11563-1:1222518  ENSE00003620052       ENST00000338555  ENSG00000162572   \n",
       "14075-1:3519050  ENSE00001477190       ENST00000356575  ENSG00000162591   \n",
       "\n",
       "                chromosome_name  exon_chrom_start  exon_chrom_end  entrezgene  \\\n",
       "KEY                                                                             \n",
       "11563-1:1222518               1         1222489.0       1222679.0      6339.0   \n",
       "14075-1:3519050               1         3519030.0       3519164.0      1953.0   \n",
       "\n",
       "                  CONSERV  \n",
       "KEY                        \n",
       "11563-1:1222518  0.296541  \n",
       "14075-1:3519050  1.888373  "
      ]
     },
     "metadata": {},
     "output_type": "display_data"
    },
    {
     "name": "stdout",
     "output_type": "stream",
     "text": [
      "137 123\n"
     ]
    }
   ],
   "source": [
    "domain_Jon = pd.read_csv(\"unifiedmodel/mut-domains.csv\")\n",
    "domain_Jon.set_index('KEY', inplace=True)\n",
    "display(domain_Jon.head(2))\n",
    "gerp_Jon = pd.read_csv(\"unifiedmodel/mut-gerp.csv\")\n",
    "gerp_Jon.set_index('KEY', inplace=True)\n",
    "display(gerp_Jon.head(2))\n",
    "#domain_Jon.loc[\"14075-1:3519050\"][\"DOM.TRUNC.FRAC\"]\n",
    "SSC_proband_metadata = pd.read_csv(\"/Users/jiayao/Work/BrainDisorders/JW/SSC_proband_metadata.csv\")\n",
    "DEVEL = \"/Users/jiayao/Work/BrainDisorders/JW/Functional_Cluster_Gene_Lists/Cluster_DEVEL.txt\"\n",
    "NEURO = \"/Users/jiayao/Work/BrainDisorders/JW/Functional_Cluster_Gene_Lists/Cluster_NEURO.txt\"\n",
    "neuronal = [l.strip() for l in open(NEURO, 'rt')]\n",
    "develop  = [l.strip() for l in open(DEVEL, 'rt')]\n",
    "print(len(neuronal), len(develop))"
   ]
  },
  {
   "cell_type": "code",
   "execution_count": 109,
   "metadata": {},
   "outputs": [
    {
     "data": {
      "text/html": [
       "<div>\n",
       "<style scoped>\n",
       "    .dataframe tbody tr th:only-of-type {\n",
       "        vertical-align: middle;\n",
       "    }\n",
       "\n",
       "    .dataframe tbody tr th {\n",
       "        vertical-align: top;\n",
       "    }\n",
       "\n",
       "    .dataframe thead th {\n",
       "        text-align: right;\n",
       "    }\n",
       "</style>\n",
       "<table border=\"1\" class=\"dataframe\">\n",
       "  <thead>\n",
       "    <tr style=\"text-align: right;\">\n",
       "      <th></th>\n",
       "      <th>individual</th>\n",
       "      <th>family</th>\n",
       "      <th>age</th>\n",
       "      <th>sex</th>\n",
       "      <th>famid</th>\n",
       "    </tr>\n",
       "  </thead>\n",
       "  <tbody>\n",
       "    <tr>\n",
       "      <th>0</th>\n",
       "      <td>11000.p1</td>\n",
       "      <td>quad</td>\n",
       "      <td>110</td>\n",
       "      <td>male</td>\n",
       "      <td>11000</td>\n",
       "    </tr>\n",
       "    <tr>\n",
       "      <th>1</th>\n",
       "      <td>11001.p1</td>\n",
       "      <td>trio</td>\n",
       "      <td>93</td>\n",
       "      <td>male</td>\n",
       "      <td>11001</td>\n",
       "    </tr>\n",
       "    <tr>\n",
       "      <th>2</th>\n",
       "      <td>11002.p1</td>\n",
       "      <td>quad</td>\n",
       "      <td>92</td>\n",
       "      <td>female</td>\n",
       "      <td>11002</td>\n",
       "    </tr>\n",
       "    <tr>\n",
       "      <th>3</th>\n",
       "      <td>11004.p1</td>\n",
       "      <td>quad</td>\n",
       "      <td>190</td>\n",
       "      <td>male</td>\n",
       "      <td>11004</td>\n",
       "    </tr>\n",
       "    <tr>\n",
       "      <th>4</th>\n",
       "      <td>11010.p1</td>\n",
       "      <td>quad</td>\n",
       "      <td>49</td>\n",
       "      <td>male</td>\n",
       "      <td>11010</td>\n",
       "    </tr>\n",
       "  </tbody>\n",
       "</table>\n",
       "</div>"
      ],
      "text/plain": [
       "  individual family  age     sex  famid\n",
       "0   11000.p1   quad  110    male  11000\n",
       "1   11001.p1   trio   93    male  11001\n",
       "2   11002.p1   quad   92  female  11002\n",
       "3   11004.p1   quad  190    male  11004\n",
       "4   11010.p1   quad   49    male  11010"
      ]
     },
     "execution_count": 109,
     "metadata": {},
     "output_type": "execute_result"
    }
   ],
   "source": [
    "SSC_proband_metadata[\"famid\"] = SSC_proband_metadata.apply(lambda row:row[0].split(\".\")[0], axis=1)\n",
    "famid2age = dict(zip(SSC_proband_metadata[\"famid\"].values, SSC_proband_metadata[\"age\"].values))\n",
    "SSC_proband_metadata.head()"
   ]
  },
  {
   "cell_type": "code",
   "execution_count": 110,
   "metadata": {},
   "outputs": [
    {
     "name": "stdout",
     "output_type": "stream",
     "text": [
      "exon not find 11208 C16orf13\n",
      "gene not find 14575 CCDC171\n",
      "exon not find 14575 CCDC171\n",
      "gene not find 12563 CCPG1\n",
      "exon not find 12563 CCPG1\n",
      "gene not find 13548 GALNT18\n",
      "exon not find 13548 GALNT18\n",
      "gene not find 13861 KIR2DL2\n",
      "exon not find 13861 KIR2DL2\n",
      "gene not find 11145 KMT2A\n",
      "exon not find 11145 KMT2A\n",
      "gene not find 11148 KMT2C\n",
      "exon not find 11148 KMT2C\n",
      "gene not find 13590 MTHFS,ST20-MTHFS\n",
      "exon not find 13590 MTHFS,ST20-MTHFS\n",
      "gene not find 14473 NXPE4\n",
      "exon not find 14473 NXPE4\n"
     ]
    },
    {
     "name": "stderr",
     "output_type": "stream",
     "text": [
      "/Users/jiayao/anaconda3/lib/python3.7/site-packages/ipykernel_launcher.py:103: RuntimeWarning: invalid value encountered in double_scalars\n"
     ]
    },
    {
     "name": "stdout",
     "output_type": "stream",
     "text": [
      "gene not find 11925 SKIDA1\n",
      "exon not find 11925 SKIDA1\n"
     ]
    },
    {
     "name": "stderr",
     "output_type": "stream",
     "text": [
      "/Users/jiayao/anaconda3/lib/python3.7/site-packages/ipykernel_launcher.py:100: RuntimeWarning: invalid value encountered in double_scalars\n",
      "/Users/jiayao/anaconda3/lib/python3.7/site-packages/ipykernel_launcher.py:101: RuntimeWarning: invalid value encountered in double_scalars\n",
      "/Users/jiayao/anaconda3/lib/python3.7/site-packages/ipykernel_launcher.py:104: RuntimeWarning: invalid value encountered in double_scalars\n",
      "/Users/jiayao/anaconda3/lib/python3.7/site-packages/ipykernel_launcher.py:106: RuntimeWarning: invalid value encountered in double_scalars\n"
     ]
    },
    {
     "name": "stdout",
     "output_type": "stream",
     "text": [
      "gene not find 14644 UGT1A10,UGT1A8,UGT1A9,UGT1A4,UGT1A5,UGT1A6,UGT1A7,UGT1A1,UGT1A3\n",
      "exon not find 14644 UGT1A10,UGT1A8,UGT1A9,UGT1A4,UGT1A5,UGT1A6,UGT1A7,UGT1A1,UGT1A3\n",
      "gene not find 13913 ZNF853\n",
      "exon not find 13913 ZNF853\n"
     ]
    }
   ],
   "source": [
    "def sudogmean(values):\n",
    "    #values = [math.log2(x+1) for x in values]\n",
    "    #gmean = np.mean(values)\n",
    "    #return math.pow(2, gmean)\n",
    "    values = [(x+1) for x in values]\n",
    "    gmean = scipy.stats.mstats.gmean(values)\n",
    "    return gmean-1\n",
    "def searchExon(Gene, Chr, Pos, Ref, Alt, ExonExp, ExonRow, ExonCol):\n",
    "    Pos, LenV = int(Pos), len(Ref)-len(Alt)\n",
    "    ExonRow = ExonRow[ExonRow[\"gene_symbol\"]==Gene]\n",
    "    ith = 1\n",
    "    for i, row in ExonRow.iterrows():\n",
    "        row_num, start, end = row[\"row_num\"],int(row[\"start\"]),int(row[\"end\"])\n",
    "        #print(Pos, start, end)\n",
    "        if Pos > start -3 and Pos < end + 3:\n",
    "            if ith == ExonRow.shape[0]:\n",
    "                return row_num, \"Y\"\n",
    "            else:\n",
    "                return row_num, \"N\"\n",
    "        elif LenV > 0: # a delition may span a splice site\n",
    "            if (Pos < start-3 and Pos + LenV > start ) or (Pos < end and Pos + LenV > end +3):\n",
    "                if ith == ExonRow.shape[0]:\n",
    "                    return row_num, \"Y\"\n",
    "                else:\n",
    "                    return row_num, \"N\"\n",
    "        ith += 1\n",
    "    return 0, \"0\"\n",
    "def FunctionalGrouping(gene):\n",
    "    if gene in neuronal:\n",
    "        return 1\n",
    "    elif gene in develop:\n",
    "        return 2\n",
    "    else:\n",
    "        return 0\n",
    "def DOM_TRUNC(X):\n",
    "    if pd.isnull(X):\n",
    "        return 0\n",
    "    else:\n",
    "        return 1\n",
    "\n",
    "Variants[\"ExonID\"] = 0\n",
    "Variants[\"LastExon\"] = \"N\"\n",
    "Variants[\"GeneExp.amean\"] = 0.0\n",
    "Variants[\"GeneExp.gmean\"] = 0.0\n",
    "Variants[\"ExonExp.amean\"] = 0.0\n",
    "Variants[\"ExonExp.gmean\"] = 0.0\n",
    "Variants[\"GenePrenatalExp.amean\"] = 0.0\n",
    "Variants[\"GenePrenatalExp.gmean\"] = 0.0\n",
    "Variants[\"ExonPrenatalExp.amean\"] = 0.0\n",
    "Variants[\"ExonPrenatalExp.gmean\"] = 0.0\n",
    "Variants[\"GenePostnatalExp.amean\"] = 0.0\n",
    "Variants[\"GenePostnatalExp.gmean\"] = 0.0\n",
    "Variants[\"ExonPostnatalExp.amean\"] = 0.0\n",
    "Variants[\"ExonPostnatalExp.gmean\"] = 0.0\n",
    "Variants[\"phyloP100way\"] = 0.0\n",
    "for i, row in Variants.iterrows():\n",
    "    famid, gene, (Chr, Pos, Ref, Alt) = row[\"familyId\"], row[\"effectGene\"], row[\"vcfVariant\"].split(\":\")\n",
    "    Variants.at[i, \"Functional\"] = FunctionalGrouping(gene)\n",
    "    try:\n",
    "        Variants.at[i, \"Age\"] = famid2age[str(famid)]\n",
    "    except:\n",
    "        Variants.at[i, \"Age\"] = 0\n",
    "    try:\n",
    "        GeneExp = qn_gene_exp_recgenes[qn_gene_exp_recgenes[\"index\"]==\n",
    "                                       gene_exp_row[gene_exp_row[\"gene_symbol\"]==gene][\"row_num\"].values[0]].values[0][1:]\n",
    "    except IndexError:\n",
    "        print(\"gene not find\", famid, gene)\n",
    "    #print(np.mean(GeneExp), scipy.stats.mstats.gmean(GeneExp), sudogmean(GeneExp))\n",
    "    GeneExpPre, GeneExpPost = GeneExp[1:238], GeneExp[238:]\n",
    "    #GeneExp = [x for x in GeneExp if x != 0]\n",
    "    #GeneExpPre = [x for x in GeneExpPre if x != 0]\n",
    "    #GeneExpPre = [x for x in GeneExpPre if x != 0]\n",
    "    gene_nmean, gene_gmean = np.mean(GeneExp), sudogmean(GeneExp)\n",
    "    Variants.at[i, \"GeneExp.amean\"] = gene_nmean\n",
    "    Variants.at[i, \"GeneExp.gmean\"] = gene_gmean\n",
    "    exonId, LastExon = searchExon(gene, Chr, Pos, Ref, Alt, qn_exon_exp_recgenes, exon_exp_row, exon_exp_col)\n",
    "    if len(Ref) == len(Alt):\n",
    "        Variants.at[i, \"KEY\"] = \"%s-%s:%d\"%(famid, Chr, int(Pos))\n",
    "        Variants.at[i, \"DOM.TRUNC.FRAC\"] = domain_Jon.loc[\"%s-%s:%d\"%(famid, Chr, int(Pos))][\"DOM.TRUNC.FRAC\"]\n",
    "        Variants.at[i, \"DOM.TRUNC\"] = DOM_TRUNC(domain_Jon.loc[\"%s-%s:%d\"%(famid, Chr, int(Pos))][\"DOM.TRUNC\"])\n",
    "        Variants.at[i, \"GERP\"] = gerp_Jon.loc[\"%s-%s:%d\"%(famid, Chr, int(Pos))][\"CONSERV\"]\n",
    "    else:\n",
    "        Variants.at[i, \"KEY\"] = \"%s-%s:%d\"%(famid, Chr, int(Pos)+1)\n",
    "        Variants.at[i, \"DOM.TRUNC.FRAC\"] = DOM_TRUNC(domain_Jon.loc[\"%s-%s:%d\"%(famid, Chr, int(Pos)+1)][\"DOM.TRUNC.FRAC\"])\n",
    "        Variants.at[i, \"DOM.TRUNC\"] = DOM_TRUNC(domain_Jon.loc[\"%s-%s:%d\"%(famid, Chr, int(Pos)+1)][\"DOM.TRUNC\"])\n",
    "        Variants.at[i, \"GERP\"] = gerp_Jon.loc[\"%s-%s:%d\"%(famid, Chr, int(Pos)+1)][\"CONSERV\"]\n",
    "    if exonId != 0:\n",
    "        Variants.at[i, \"ExonID\"] = exonId\n",
    "        Variants.at[i, \"LastExon\"] = LastExon\n",
    "        ExonExp = qn_exon_exp_recgenes[qn_exon_exp_recgenes[\"index\"]==exonId].values[0][1:]\n",
    "        ExonExpPre, ExonExpPost = ExonExp[1:238], ExonExp[238:]\n",
    "        \n",
    "        exon_nmean, exon_gmean = np.mean(ExonExp), sudogmean(ExonExp)\n",
    "        Variants.at[i, \"ExonExp.amean\"] = exon_nmean\n",
    "        Variants.at[i, \"ExonExp.gmean\"] = exon_gmean\n",
    "        Variants.at[i, \"ExonPrenatalExp.amean\"] = np.mean(ExonExpPre)\n",
    "        Variants.at[i, \"ExonPrenatalExp.gmean\"] = sudogmean(ExonExpPre)\n",
    "        Variants.at[i, \"ExonPostnatalExp.amean\"] = np.mean(ExonExpPost)\n",
    "        Variants.at[i, \"ExonPostnatalExp.gmean\"] = sudogmean(ExonExpPost)\n",
    "        Variants.at[i, \"Rel.exp.amean\"] = exon_nmean/gene_nmean\n",
    "        Variants.at[i, \"Rel.exp.gmean\"] = exon_gmean/gene_gmean\n",
    "        \n",
    "        Variants.at[i, \"Rel.exp.prenatal\"] = np.mean(ExonExpPre)/np.mean(GeneExpPre)\n",
    "        Variants.at[i, \"Rel.exp.postnatal\"] = np.mean(ExonExpPost)/np.mean(GeneExpPost)\n",
    "        try:\n",
    "            Variants.at[i, \"Prenatal.Bias\"] = math.log2(np.mean(ExonExpPre)/np.mean(ExonExpPost))\n",
    "        except ValueError:\n",
    "            Variants.at[i, \"Prenatal.Bias\"] = 0\n",
    "        #if LastExon == \"N\":\n",
    "        Variants.at[i, \"phyloP100way\"] = exon_exp_row_recgenes_phyloP.loc[exonId][\"phyloP100way\"]\n",
    "        Variants.at[i, \"phastCons100way\"] = exon_exp_row_recgenes_phyloP.loc[exonId][\"phastCons100way\"]\n",
    "    else:\n",
    "        print(\"exon not find\", famid, gene)"
   ]
  },
  {
   "cell_type": "code",
   "execution_count": 136,
   "metadata": {},
   "outputs": [],
   "source": [
    "def mapgender(row):\n",
    "    if row[\"gender\"] == \"M\": \n",
    "        return 1\n",
    "    elif row[\"gender\"] == \"F\":\n",
    "        return 2\n",
    "Variants[\"gender1\"] = Variants.apply(lambda row:mapgender(row), axis=1)\n",
    "Variants.head()\n",
    "VariantsOut = Variants[['KEY','familyId', 'vcfVariant', 'inChild', 'effectGene', 'effectType',\n",
    "       'gender', 'FSIQ', 'VIQ', 'NVIQ', 'VABS', 'ExonID', 'GeneExp.amean', 'ExonExp.amean',\n",
    "       'GenePrenatalExp.amean', 'ExonPrenatalExp.amean', 'GenePostnatalExp.amean', 'ExonPostnatalExp.amean', \n",
    "       'Functional', 'DOM.TRUNC.FRAC','DOM.TRUNC', 'GERP', 'Rel.exp.amean','Rel.exp.gmean',\n",
    "       'Rel.exp.prenatal', 'Rel.exp.postnatal', 'Prenatal.Bias',\n",
    "       'phyloP100way', 'phastCons100way', 'gender1', 'Age']]\n",
    "VariantsOut.to_csv(\"unifiedmodel/features.jiayao.65.csv\", index=False)\n",
    "Variants.to_csv(\"unifiedmodel/SSC.LGD.features.csv\", index=\"False\")"
   ]
  },
  {
   "cell_type": "code",
   "execution_count": 137,
   "metadata": {},
   "outputs": [],
   "source": [
    "tmpdf = Variants[np.isfinite(Variants['phyloP100way'])]\n",
    "tmpdf = tmpdf[np.isfinite(tmpdf['NVIQ'])]"
   ]
  },
  {
   "cell_type": "code",
   "execution_count": 138,
   "metadata": {},
   "outputs": [
    {
     "name": "stdout",
     "output_type": "stream",
     "text": [
      "-0.16035774720792725 0.0015295285798677255\n",
      "-0.13485497767684795 0.007815801504331771\n"
     ]
    }
   ],
   "source": [
    "r, p = spearmanr(np.array(tmpdf[\"phyloP100way\"]), np.array(tmpdf[\"NVIQ\"]))\n",
    "print(r,p)\n",
    "r, p = pearsonr(np.array(tmpdf[\"phyloP100way\"]), np.array(tmpdf[\"NVIQ\"]))\n",
    "print(r,p)"
   ]
  },
  {
   "cell_type": "code",
   "execution_count": 139,
   "metadata": {},
   "outputs": [
    {
     "data": {
      "text/html": [
       "<div>\n",
       "<style scoped>\n",
       "    .dataframe tbody tr th:only-of-type {\n",
       "        vertical-align: middle;\n",
       "    }\n",
       "\n",
       "    .dataframe tbody tr th {\n",
       "        vertical-align: top;\n",
       "    }\n",
       "\n",
       "    .dataframe thead th {\n",
       "        text-align: right;\n",
       "    }\n",
       "</style>\n",
       "<table border=\"1\" class=\"dataframe\">\n",
       "  <thead>\n",
       "    <tr style=\"text-align: right;\">\n",
       "      <th></th>\n",
       "      <th>familyId</th>\n",
       "      <th>vcfVariant</th>\n",
       "      <th>inChild</th>\n",
       "      <th>effectGene</th>\n",
       "      <th>effectType</th>\n",
       "      <th>gender</th>\n",
       "      <th>VIQ</th>\n",
       "      <th>NVIQ</th>\n",
       "      <th>FSIQ</th>\n",
       "      <th>VABS</th>\n",
       "      <th>...</th>\n",
       "      <th>DOM.TRUNC</th>\n",
       "      <th>GERP</th>\n",
       "      <th>Rel.exp.amean</th>\n",
       "      <th>Rel.exp.gmean</th>\n",
       "      <th>Rel.exp.prenatal</th>\n",
       "      <th>Rel.exp.postnatal</th>\n",
       "      <th>Prenatal.Bias</th>\n",
       "      <th>phastCons100way</th>\n",
       "      <th>gender1</th>\n",
       "      <th>GeneCount</th>\n",
       "    </tr>\n",
       "  </thead>\n",
       "  <tbody>\n",
       "    <tr>\n",
       "      <th>26</th>\n",
       "      <td>13447</td>\n",
       "      <td>6:157527664:CTGTT:C</td>\n",
       "      <td>pF</td>\n",
       "      <td>ARID1B</td>\n",
       "      <td>frame-shift</td>\n",
       "      <td>F</td>\n",
       "      <td>32.0</td>\n",
       "      <td>51.0</td>\n",
       "      <td>44.0</td>\n",
       "      <td>58.0</td>\n",
       "      <td>...</td>\n",
       "      <td>1.0</td>\n",
       "      <td>2.284661</td>\n",
       "      <td>2.717545</td>\n",
       "      <td>2.844262</td>\n",
       "      <td>2.516281</td>\n",
       "      <td>3.028648</td>\n",
       "      <td>0.730105</td>\n",
       "      <td>0.875879</td>\n",
       "      <td>2</td>\n",
       "      <td>2</td>\n",
       "    </tr>\n",
       "    <tr>\n",
       "      <th>255</th>\n",
       "      <td>12323</td>\n",
       "      <td>9:96439929:AT:A</td>\n",
       "      <td>pM</td>\n",
       "      <td>PHF2</td>\n",
       "      <td>frame-shift</td>\n",
       "      <td>M</td>\n",
       "      <td>92.0</td>\n",
       "      <td>90.0</td>\n",
       "      <td>90.0</td>\n",
       "      <td>83.0</td>\n",
       "      <td>...</td>\n",
       "      <td>0.0</td>\n",
       "      <td>2.572848</td>\n",
       "      <td>1.141488</td>\n",
       "      <td>1.181713</td>\n",
       "      <td>1.015046</td>\n",
       "      <td>1.393761</td>\n",
       "      <td>0.843528</td>\n",
       "      <td>0.654036</td>\n",
       "      <td>1</td>\n",
       "      <td>2</td>\n",
       "    </tr>\n",
       "    <tr>\n",
       "      <th>331</th>\n",
       "      <td>13796</td>\n",
       "      <td>2:162275481:A:AC</td>\n",
       "      <td>pF</td>\n",
       "      <td>TBR1</td>\n",
       "      <td>frame-shift</td>\n",
       "      <td>F</td>\n",
       "      <td>69.0</td>\n",
       "      <td>63.0</td>\n",
       "      <td>61.0</td>\n",
       "      <td>73.0</td>\n",
       "      <td>...</td>\n",
       "      <td>1.0</td>\n",
       "      <td>4.266059</td>\n",
       "      <td>0.960084</td>\n",
       "      <td>1.046558</td>\n",
       "      <td>0.937590</td>\n",
       "      <td>1.078703</td>\n",
       "      <td>2.341579</td>\n",
       "      <td>0.482697</td>\n",
       "      <td>2</td>\n",
       "      <td>2</td>\n",
       "    </tr>\n",
       "  </tbody>\n",
       "</table>\n",
       "<p>3 rows × 39 columns</p>\n",
       "</div>"
      ],
      "text/plain": [
       "     familyId           vcfVariant inChild effectGene   effectType gender  \\\n",
       "26      13447  6:157527664:CTGTT:C      pF     ARID1B  frame-shift      F   \n",
       "255     12323      9:96439929:AT:A      pM       PHF2  frame-shift      M   \n",
       "331     13796     2:162275481:A:AC      pF       TBR1  frame-shift      F   \n",
       "\n",
       "      VIQ  NVIQ  FSIQ  VABS    ...      DOM.TRUNC      GERP  Rel.exp.amean  \\\n",
       "26   32.0  51.0  44.0  58.0    ...            1.0  2.284661       2.717545   \n",
       "255  92.0  90.0  90.0  83.0    ...            0.0  2.572848       1.141488   \n",
       "331  69.0  63.0  61.0  73.0    ...            1.0  4.266059       0.960084   \n",
       "\n",
       "     Rel.exp.gmean  Rel.exp.prenatal  Rel.exp.postnatal  Prenatal.Bias  \\\n",
       "26        2.844262          2.516281           3.028648       0.730105   \n",
       "255       1.181713          1.015046           1.393761       0.843528   \n",
       "331       1.046558          0.937590           1.078703       2.341579   \n",
       "\n",
       "     phastCons100way  gender1  GeneCount  \n",
       "26          0.875879        2          2  \n",
       "255         0.654036        1          2  \n",
       "331         0.482697        2          2  \n",
       "\n",
       "[3 rows x 39 columns]"
      ]
     },
     "execution_count": 139,
     "metadata": {},
     "output_type": "execute_result"
    }
   ],
   "source": [
    "GeneCount = Variants.groupby(\"effectGene\")[\"effectGene\"].count()\n",
    "Variants[\"GeneCount\"] = Variants.apply(lambda row: GeneCount[row[\"effectGene\"]], axis=1)\n",
    "Variants = Variants[Variants[\"GeneCount\"]>=2]\n",
    "Variants[Variants[\"LastExon\"]==\"Y\"]"
   ]
  },
  {
   "cell_type": "code",
   "execution_count": 140,
   "metadata": {},
   "outputs": [
    {
     "name": "stdout",
     "output_type": "stream",
     "text": [
      "65\n"
     ]
    },
    {
     "name": "stderr",
     "output_type": "stream",
     "text": [
      "/Users/jiayao/anaconda3/lib/python3.7/site-packages/ipykernel_launcher.py:3: SettingWithCopyWarning: \n",
      "A value is trying to be set on a copy of a slice from a DataFrame.\n",
      "Try using .loc[row_indexer,col_indexer] = value instead\n",
      "\n",
      "See the caveats in the documentation: http://pandas.pydata.org/pandas-docs/stable/indexing.html#indexing-view-versus-copy\n",
      "  This is separate from the ipykernel package so we can avoid doing imports until\n"
     ]
    }
   ],
   "source": [
    "#Variants = Variants[~Variants[\"familyId\"].isin(LastExonFamilID)]\n",
    "GeneCount = Variants.groupby(\"effectGene\")[\"effectGene\"].count()\n",
    "Variants[\"GeneCount\"] = Variants.apply(lambda row: GeneCount[row[\"effectGene\"]], axis=1)\n",
    "Variants = Variants[Variants[\"GeneCount\"]>=2]\n",
    "print(Variants.shape[0])"
   ]
  },
  {
   "cell_type": "code",
   "execution_count": 141,
   "metadata": {},
   "outputs": [
    {
     "data": {
      "text/plain": [
       "(10, 39)"
      ]
     },
     "execution_count": 141,
     "metadata": {},
     "output_type": "execute_result"
    }
   ],
   "source": [
    "Variants[Variants[\"Functional\"]==0].shape"
   ]
  },
  {
   "cell_type": "code",
   "execution_count": 142,
   "metadata": {},
   "outputs": [
    {
     "name": "stderr",
     "output_type": "stream",
     "text": [
      "/Users/jiayao/anaconda3/lib/python3.7/site-packages/scipy/stats/stats.py:1713: FutureWarning: Using a non-tuple sequence for multidimensional indexing is deprecated; use `arr[tuple(seq)]` instead of `arr[seq]`. In the future this will be interpreted as an array index, `arr[np.array(seq)]`, which will result either in an error or a different result.\n",
      "  return np.add.reduce(sorted[indexer] * weights, axis=axis) / sumval\n",
      "/Users/jiayao/anaconda3/lib/python3.7/site-packages/seaborn/axisgrid.py:1847: UserWarning: JointGrid annotation is deprecated and will be removed in a future release.\n",
      "  warnings.warn(UserWarning(msg))\n"
     ]
    },
    {
     "data": {
      "image/png": "[encoded data removed]",
      "text/plain": [
       "<Figure size 432x432 with 3 Axes>"
      ]
     },
     "metadata": {
      "needs_background": "light"
     },
     "output_type": "display_data"
    }
   ],
   "source": [
    "gerp = list(Variants[\"GERP\"].values[:16]) + list(Variants[\"GERP\"].values[18:])\n",
    "phyloP = list(Variants[\"phyloP100way\"].values[:16]) + list(Variants[\"phyloP100way\"].values[18:])\n",
    "j = sns.jointplot(x=gerp, y=phyloP, kind='reg', color=\"black\")\n",
    "j.annotate(spearmanr)\n",
    "plt.xlabel(\"gerp\")\n",
    "plt.ylabel(\"phyloP\")\n",
    "plt.show()"
   ]
  },
  {
   "cell_type": "code",
   "execution_count": 143,
   "metadata": {},
   "outputs": [],
   "source": [
    "#Variants = Variants[Variants[\"familyId\"]!=13900]\n",
    "gene2slope = {}\n",
    "ALL_RelExp = np.array([])\n",
    "ALL_Normed_IQD = np.array([])\n",
    "Genes = list(set(Variants[\"effectGene\"].values))\n",
    "for gene in Genes:\n",
    "    df = Variants[Variants[\"effectGene\"]==gene]\n",
    "    IQs = [max(0, (100-x)) for x in df[\"NVIQ\"].values]\n",
    "    #rel_exps = [x for x in df[\"Rel.exp.amean\"].values] #Rel.exp.prenatal\n",
    "    #rel_exps = [x for x in df[\"Rel.exp.prenatal\"].values] #Rel.exp.prenatal\n",
    "    rel_exps = [x for x in df[\"Rel.exp.amean\"].values]\n",
    "    regr = regGene(rel_exps, IQs)\n",
    "    slope = regr.coef_[0]\n",
    "    #if slope == 0:\n",
    "    #    continue\n",
    "    gene2slope[gene] = slope\n",
    "    ALL_RelExp = np.append(ALL_RelExp, rel_exps)\n",
    "    NormIQDs = np.array([x/slope for x in IQs])\n",
    "    ALL_Normed_IQD = np.append(ALL_Normed_IQD, NormIQDs)"
   ]
  },
  {
   "cell_type": "code",
   "execution_count": 144,
   "metadata": {},
   "outputs": [
    {
     "data": {
      "image/png": "[encoded data removed]",
      "text/plain": [
       "<Figure size 480x480 with 1 Axes>"
      ]
     },
     "metadata": {
      "needs_background": "light"
     },
     "output_type": "display_data"
    }
   ],
   "source": [
    "model = linear_model.LinearRegression(fit_intercept=False)\n",
    "ALL_RelExp = ALL_RelExp.reshape(-1,1)\n",
    "R, P = scipy.stats.pearsonr([x[0] for x in ALL_RelExp], ALL_Normed_IQD) \n",
    "plt.figure(figsize=(4,4), dpi=120)\n",
    "plt.title(\"Relative expression of exon containing LGD mutation\")\n",
    "model.fit(ALL_RelExp, ALL_Normed_IQD)\n",
    "plt.scatter(ALL_RelExp, ALL_Normed_IQD, s=40, facecolors='none', edgecolors='black')\n",
    "plt.plot([0, 3], [0,model.predict([[3.0]])], color='red')\n",
    "plt.text(0, 2.7, \"R=%.3f\"%(R))\n",
    "plt.show()"
   ]
  },
  {
   "cell_type": "code",
   "execution_count": 145,
   "metadata": {},
   "outputs": [],
   "source": [
    "def cdf(weights):\n",
    "    total = sum(weights)\n",
    "    result = []\n",
    "    cumsum = 0\n",
    "    for w in weights:\n",
    "        cumsum += w\n",
    "        result.append(cumsum / total)\n",
    "    return result\n",
    "def choice(population, weights):\n",
    "    assert len(population) == len(weights)\n",
    "    cdf_vals = cdf(weights)\n",
    "    x = random.random()\n",
    "    idx = bisect.bisect(cdf_vals, x)\n",
    "    return population[idx]\n",
    "def GetExonProb(exon_df):\n",
    "    Total_length = sum(exon_df[\"cds length\"].values)\n",
    "    Probs = [float(x)/Total_length for x in exon_df[\"cds length\"].values]\n",
    "    return exon_df.index.values, Probs"
   ]
  },
  {
   "cell_type": "code",
   "execution_count": 146,
   "metadata": {
    "scrolled": false
   },
   "outputs": [
    {
     "name": "stdout",
     "output_type": "stream",
     "text": [
      "68.32307692307693\n",
      "(65, 39)\n",
      "12752 CHD8 93.0 [27.83118645] 1.7445203292022404\n",
      "13900 CHD8 27.0 [80.47699445] 0.672300850348769\n",
      "11403 FOXP1 64.0 0 2.879538174647055\n",
      "12952 MLL5 58.0 0 1.4159638594755717\n"
     ]
    },
    {
     "data": {
      "image/png": "[encoded data removed]",
      "text/plain": [
       "<Figure size 480x480 with 1 Axes>"
      ]
     },
     "metadata": {
      "needs_background": "light"
     },
     "output_type": "display_data"
    },
    {
     "name": "stdout",
     "output_type": "stream",
     "text": [
      "65 [-0.35798041] -0.43448070584448173 [0.05332961]\n",
      "Mean\n",
      "(65, 40)\n"
     ]
    }
   ],
   "source": [
    "IQ_diff1, IQ_diff2, IQ_diff3 = [], [], []\n",
    "SSE1, SSE2, SSE3 = 0,0,0\n",
    "avg_IQ = np.mean(Variants[\"NVIQ\"].values)\n",
    "print(avg_IQ)\n",
    "N = 0\n",
    "ExcludeList = []\n",
    "#Variants = Variants[Variants[\"familyId\"]!=13900]\n",
    "print(Variants.shape)\n",
    "for i, row in Variants.iterrows():\n",
    "    familyId, gene, ralexp, IQ = row[\"familyId\"], row[\"effectGene\"], row[\"Rel.exp.amean\"], row[\"NVIQ\"]\n",
    "    #familyId, gene, ralexp, IQ = row[\"familyId\"], row[\"effectGene\"], row[\"Rel.exp.prenatal\"], row[\"NVIQ\"]\n",
    "    df = Variants[(Variants[\"effectGene\"]==gene) & (Variants[\"familyId\"]!=familyId)]\n",
    "    IQs = df[\"NVIQ\"].values\n",
    "    IQDiffs = [max(0, (100-x)) for x in IQs]\n",
    "    rel_exps = [x for x in df[\"Rel.exp.gmean\"].values]\n",
    "    #rel_exps = [x for x in df[\"Rel.exp.prenatal\"].values] #Rel.exp.prenatal\n",
    "    regr = regGene(rel_exps, IQDiffs)\n",
    "    slope = regr.coef_[0]\n",
    "    IQpre_dosage = max(0, (100 - slope * ralexp))\n",
    "\n",
    "    IQpre_gene = np.mean(IQs)\n",
    "    if abs(IQ - IQpre_dosage) > 50:\n",
    "        print(familyId, gene, IQ, IQpre_dosage, ralexp)\n",
    "    #    Variants.at[i, \"Dosage\"] = IQpre_dosage\n",
    "    #    ExcludeList.append(familyId)\n",
    "    #    continue\n",
    "    Variants.at[i, \"Dosage\"] = IQpre_dosage\n",
    "    IQ_diff1.append(abs(IQ - IQpre_dosage))\n",
    "    IQ_diff2.append(abs(IQ - IQpre_gene))\n",
    "    IQ_diff3.append(abs(IQ - 70))\n",
    "    SSE1 += (IQ - IQpre_dosage) ** 2\n",
    "    SSE2 += (IQ - IQpre_gene) ** 2\n",
    "    SSE3 += (IQ - avg_IQ) ** 2\n",
    "    N += 1\n",
    "plt.figure(figsize=(4,4), dpi=120)\n",
    "plt.boxplot([IQ_diff1, IQ_diff2, IQ_diff3], labels = [\"dosamge\", \"gene\", \"mean\"])\n",
    "plt.ylabel(\"Nonverbal IQ difference\")\n",
    "plt.grid(True)\n",
    "plt.show()\n",
    "print(N, (1-SSE1/SSE3),(1-SSE2/SSE3),(1-SSE1/SSE2))\n",
    "print(\"Mean\")\n",
    "print(Variants.shape)"
   ]
  },
  {
   "cell_type": "code",
   "execution_count": 147,
   "metadata": {},
   "outputs": [],
   "source": [
    "VariantsOut = Variants[['KEY','familyId', 'vcfVariant', 'inChild', 'effectGene', 'effectType',\n",
    "       'gender', 'FSIQ', 'VIQ', 'NVIQ', 'VABS', 'ExonID', 'GeneExp.amean', 'ExonExp.amean',\n",
    "       'GenePrenatalExp.amean', 'ExonPrenatalExp.amean', 'GenePostnatalExp.amean', 'ExonPostnatalExp.amean', \n",
    "       'Functional', 'DOM.TRUNC.FRAC','DOM.TRUNC', 'GERP', 'Rel.exp.amean','Rel.exp.gmean',\n",
    "       'Rel.exp.prenatal', 'Rel.exp.postnatal', 'Prenatal.Bias',\n",
    "       'phyloP100way', 'phastCons100way', 'gender1', 'Age', 'Dosage']]\n",
    "VariantsOut.to_csv(\"unifiedmodel/features.jiayao.65.csv\", index=False)"
   ]
  },
  {
   "cell_type": "code",
   "execution_count": 148,
   "metadata": {},
   "outputs": [
    {
     "name": "stdout",
     "output_type": "stream",
     "text": [
      "GERP nan 1.0\n"
     ]
    }
   ],
   "source": [
    "gerp = list(Variants[\"GERP\"].values[:16]) + list(Variants[\"GERP\"].values[18:])\n",
    "tmpIQs = list(Variants[\"NVIQ\"].values[:16]) + list(Variants[\"NVIQ\"].values[18:])\n",
    "r, p = pearsonr(np.array(gerp), np.array(tmpIQs))\n",
    "print(\"GERP\", r, p)"
   ]
  },
  {
   "cell_type": "code",
   "execution_count": 149,
   "metadata": {
    "scrolled": false
   },
   "outputs": [
    {
     "data": {
      "text/html": [
       "<div>\n",
       "<style scoped>\n",
       "    .dataframe tbody tr th:only-of-type {\n",
       "        vertical-align: middle;\n",
       "    }\n",
       "\n",
       "    .dataframe tbody tr th {\n",
       "        vertical-align: top;\n",
       "    }\n",
       "\n",
       "    .dataframe thead th {\n",
       "        text-align: right;\n",
       "    }\n",
       "</style>\n",
       "<table border=\"1\" class=\"dataframe\">\n",
       "  <thead>\n",
       "    <tr style=\"text-align: right;\">\n",
       "      <th></th>\n",
       "      <th>KEY</th>\n",
       "      <th>familyId</th>\n",
       "      <th>vcfVariant</th>\n",
       "      <th>inChild</th>\n",
       "      <th>effectGene</th>\n",
       "      <th>effectType</th>\n",
       "      <th>gender</th>\n",
       "      <th>FSIQ</th>\n",
       "      <th>VIQ</th>\n",
       "      <th>NVIQ</th>\n",
       "      <th>...</th>\n",
       "      <th>Rel.exp.amean</th>\n",
       "      <th>Rel.exp.gmean</th>\n",
       "      <th>Rel.exp.prenatal</th>\n",
       "      <th>Rel.exp.postnatal</th>\n",
       "      <th>Prenatal.Bias</th>\n",
       "      <th>phyloP100way</th>\n",
       "      <th>phastCons100way</th>\n",
       "      <th>gender1</th>\n",
       "      <th>Age</th>\n",
       "      <th>Dosage</th>\n",
       "    </tr>\n",
       "  </thead>\n",
       "  <tbody>\n",
       "    <tr>\n",
       "      <th>0</th>\n",
       "      <td>13545-20:49509095</td>\n",
       "      <td>13545</td>\n",
       "      <td>20:49509094:G:GT</td>\n",
       "      <td>pM</td>\n",
       "      <td>ADNP</td>\n",
       "      <td>frame-shift</td>\n",
       "      <td>M</td>\n",
       "      <td>30.0</td>\n",
       "      <td>23.0</td>\n",
       "      <td>38.0</td>\n",
       "      <td>...</td>\n",
       "      <td>1.248356</td>\n",
       "      <td>1.29008</td>\n",
       "      <td>1.215442</td>\n",
       "      <td>1.32567</td>\n",
       "      <td>1.423534</td>\n",
       "      <td>2.813101</td>\n",
       "      <td>0.732081</td>\n",
       "      <td>1</td>\n",
       "      <td>61.0</td>\n",
       "      <td>56.455400</td>\n",
       "    </tr>\n",
       "    <tr>\n",
       "      <th>1</th>\n",
       "      <td>12130-20:49510028</td>\n",
       "      <td>12130</td>\n",
       "      <td>20:49510027:CTT:C</td>\n",
       "      <td>pF</td>\n",
       "      <td>ADNP</td>\n",
       "      <td>frame-shift</td>\n",
       "      <td>F</td>\n",
       "      <td>54.0</td>\n",
       "      <td>62.0</td>\n",
       "      <td>55.0</td>\n",
       "      <td>...</td>\n",
       "      <td>1.248356</td>\n",
       "      <td>1.29008</td>\n",
       "      <td>1.215442</td>\n",
       "      <td>1.32567</td>\n",
       "      <td>1.423534</td>\n",
       "      <td>2.813101</td>\n",
       "      <td>0.732081</td>\n",
       "      <td>2</td>\n",
       "      <td>101.0</td>\n",
       "      <td>40.005218</td>\n",
       "    </tr>\n",
       "  </tbody>\n",
       "</table>\n",
       "<p>2 rows × 32 columns</p>\n",
       "</div>"
      ],
      "text/plain": [
       "                 KEY  familyId         vcfVariant inChild effectGene  \\\n",
       "0  13545-20:49509095     13545   20:49509094:G:GT      pM       ADNP   \n",
       "1  12130-20:49510028     12130  20:49510027:CTT:C      pF       ADNP   \n",
       "\n",
       "    effectType gender  FSIQ   VIQ  NVIQ    ...      Rel.exp.amean  \\\n",
       "0  frame-shift      M  30.0  23.0  38.0    ...           1.248356   \n",
       "1  frame-shift      F  54.0  62.0  55.0    ...           1.248356   \n",
       "\n",
       "   Rel.exp.gmean  Rel.exp.prenatal  Rel.exp.postnatal  Prenatal.Bias  \\\n",
       "0        1.29008          1.215442            1.32567       1.423534   \n",
       "1        1.29008          1.215442            1.32567       1.423534   \n",
       "\n",
       "   phyloP100way  phastCons100way  gender1    Age     Dosage  \n",
       "0      2.813101         0.732081        1   61.0  56.455400  \n",
       "1      2.813101         0.732081        2  101.0  40.005218  \n",
       "\n",
       "[2 rows x 32 columns]"
      ]
     },
     "execution_count": 149,
     "metadata": {},
     "output_type": "execute_result"
    }
   ],
   "source": [
    "Jiayao_features = pd.read_csv(\"unifiedmodel/features.jiayao.65.csv\")\n",
    "Jiayao_features.head(2)"
   ]
  },
  {
   "cell_type": "code",
   "execution_count": 150,
   "metadata": {},
   "outputs": [
    {
     "name": "stdout",
     "output_type": "stream",
     "text": [
      "(52, 33)\n"
     ]
    }
   ],
   "source": [
    "ExcludeList = [\"13398-1:151377904\", \"13627-1:151378489\", \"13664-1:202698172\", \"13447-6:157527665\", \n",
    "               \"12323-9:96439930\", \"13545-20:49509095\", \"12130-20:49510028\", \"12764-2:183791570\", \"13735-21:41414331\"]\n",
    "#ExcludeList = []\n",
    "Jiayao_features = Jiayao_features[~Jiayao_features[\"KEY\"].isin(ExcludeList)]\n",
    "GeneCount = Jiayao_features.groupby(\"effectGene\")[\"effectGene\"].count()\n",
    "Jiayao_features[\"GeneCount\"] = Jiayao_features.apply(lambda row: GeneCount[row[\"effectGene\"]], axis=1)\n",
    "Jiayao_features = Jiayao_features[Jiayao_features[\"GeneCount\"]>=2]\n",
    "print(Jiayao_features.shape)"
   ]
  },
  {
   "cell_type": "code",
   "execution_count": 151,
   "metadata": {},
   "outputs": [],
   "source": [
    "Jiayao_features.to_csv(\"unifiedmodel/features.jiayao.52.csv\", index=False)"
   ]
  },
  {
   "cell_type": "code",
   "execution_count": 152,
   "metadata": {},
   "outputs": [],
   "source": [
    "FamExclude = [12673, 13319, 12681, 12810, 11403, 12044, 12817, 13844, \n",
    "              14486, 12952, 12703, 12323, 12324, 13094, 13735, 14376, \n",
    "              12329, 11178, 11691, 12969, 13614, 13618, 12600, 12090, \n",
    "              13885, 12991, 14016, 11329, 13890, 14530, 13000, 13256, \n",
    "              14030, 13903, 12624, 12752, 13012, 13398, 11480, 12507, \n",
    "              14299, 11872, 12645, 14183, 11114, 13552, 14327, 11003,]\n",
    "FamExcludeCadd20 = [int(x.strip()) for x in open(\"unifiedmodel/cadd.20.list\", 'rt')]\n",
    "FamExcludeCadd30 = [int(x.strip()) for x in open(\"unifiedmodel/cadd.30.list\", 'rt')]"
   ]
  },
  {
   "cell_type": "code",
   "execution_count": 153,
   "metadata": {},
   "outputs": [
    {
     "name": "stdout",
     "output_type": "stream",
     "text": [
      "(52, 33)\n",
      "68.25\n",
      "13900-14:21895990 CHD8 27.0 80.26547976838384 0.672300850348769\n",
      "23\n"
     ]
    }
   ],
   "source": [
    "Jiayao_features = pd.read_csv(\"unifiedmodel/features.jiayao.52.csv\")\n",
    "#Jiayao_features = Jiayao_features[Jiayao_features[\"gender\"]==\"M\"]\n",
    "Jiayao_features_without_mis = Jiayao_features[~Jiayao_features[\"familyId\"].isin(FamExclude)]\n",
    "Jiayao_features_with_mis = Jiayao_features[Jiayao_features[\"familyId\"].isin(FamExclude)]\n",
    "print(Jiayao_features.shape)\n",
    "IQ_diff1, IQ_diff2, IQ_diff3 = [], [], []\n",
    "avg_IQ = np.mean(Jiayao_features[\"NVIQ\"].values)\n",
    "print(avg_IQ)\n",
    "N,n = 0,0\n",
    "for i, row in Jiayao_features_without_mis.iterrows():\n",
    "    familyId, gene, ralexp, IQ = row[\"familyId\"], row[\"effectGene\"], row[\"Rel.exp.amean\"], row[\"NVIQ\"]\n",
    "    df = Jiayao_features[(Jiayao_features[\"effectGene\"]==gene) & (Jiayao_features[\"familyId\"]!=familyId)]\n",
    "    #df = Jiayao_features_without_mis[(Jiayao_features_without_mis[\"effectGene\"]==gene) & (Jiayao_features_without_mis[\"familyId\"]!=familyId)]\n",
    "    if df.shape[0] < 1:\n",
    "        continue\n",
    "    IQs = df[\"NVIQ\"].values\n",
    "    IQDiffs = [max(0, (100-x)) for x in IQs]\n",
    "    rel_exps = [x for x in df[\"Rel.exp.amean\"].values]\n",
    "    regr = regGene(rel_exps, IQDiffs)\n",
    "    slope = regr.coef_[0][0]\n",
    "    IQpre_dosage = max(0, (100 - slope * ralexp))\n",
    "\n",
    "    IQpre_gene = np.mean(IQs)\n",
    "    if abs(IQ - IQpre_dosage) > 40:\n",
    "        print(row[\"KEY\"], gene, IQ, IQpre_dosage, ralexp)\n",
    "        #Jiayao_features.at[i, \"Dosage\"] = IQpre_dosage\n",
    "        #ExcludeList.append(familyId)\n",
    "        #continue\n",
    "    Jiayao_features_without_mis.at[i, \"Dosage\"] = IQpre_dosage\n",
    "    IQ_diff1.append(abs(IQ - IQpre_dosage))\n",
    "    IQ_diff2.append(abs(IQ - IQpre_gene))\n",
    "    IQ_diff3.append(abs(IQ - 70))\n",
    "    N += 1\n",
    "print(N)"
   ]
  },
  {
   "cell_type": "code",
   "execution_count": 154,
   "metadata": {},
   "outputs": [
    {
     "name": "stdout",
     "output_type": "stream",
     "text": [
      "12752-14:21861377 CHD8 93.0 27.87568177809308 1.7445203292022404\n",
      "11403-3:71026115 FOXP1 64.0 0 2.879538174647055\n",
      "12952-7:104748101 MLL5 58.0 0 1.4159638594755717\n",
      "29\n",
      "W/O Mis:14.16 20.34 19.09\n",
      "W/ Mis: 21.13 20.07 14.90\n",
      "0.11913879041585484 0.44500050043620576 0.17815629814428136\n"
     ]
    }
   ],
   "source": [
    "IQ_diff4, IQ_diff5, IQ_diff6 = [], [], []\n",
    "N = 0\n",
    "for i, row in Jiayao_features_with_mis.iterrows():\n",
    "    familyId, gene, ralexp, IQ = row[\"familyId\"], row[\"effectGene\"], row[\"Rel.exp.amean\"], row[\"NVIQ\"]\n",
    "    df = Jiayao_features[(Jiayao_features[\"effectGene\"]==gene) & (Jiayao_features[\"familyId\"]!=familyId)]\n",
    "    #df = Jiayao_features_with_mis[(Jiayao_features_with_mis[\"effectGene\"]==gene) & (Jiayao_features_with_mis[\"familyId\"]!=familyId)]\n",
    "    if df.shape[0] < 1:\n",
    "        continue\n",
    "    IQs = df[\"NVIQ\"].values\n",
    "    IQDiffs = [max(0, (100-x)) for x in IQs]\n",
    "    rel_exps = [x for x in df[\"Rel.exp.amean\"].values]\n",
    "    regr = regGene(rel_exps, IQDiffs)\n",
    "    slope = regr.coef_[0][0]\n",
    "    IQpre_dosage = max(0, (100 - slope * ralexp))\n",
    "    \n",
    "    IQpre_gene = np.mean(IQs)\n",
    "    if abs(IQ - IQpre_dosage) > 50:\n",
    "        print(row[\"KEY\"], gene, IQ, IQpre_dosage, ralexp)\n",
    "    Jiayao_features_with_mis.at[i, \"Dosage\"] = IQpre_dosage\n",
    "    IQ_diff4.append(abs(IQ - IQpre_dosage))\n",
    "    IQ_diff5.append(abs(IQ - IQpre_gene))\n",
    "    IQ_diff6.append(abs(IQ - 70))\n",
    "    N += 1\n",
    "    \n",
    "print(N)\n",
    "#scipy.stats.ks_2samp(IQ_diff2, IQ_diff5)\n",
    "print( \"W/O Mis:%.2f %.2f %.2f\\nW/ Mis: %.2f %.2f %.2f\" % \n",
    "      (np.mean(IQ_diff1), np.mean(IQ_diff2), np.mean(IQ_diff3), \n",
    "       np.mean(IQ_diff4), np.mean(IQ_diff5), np.mean(IQ_diff6)))\n",
    "t1, p1 = scipy.stats.mannwhitneyu(IQ_diff1, IQ_diff4)\n",
    "t2, p2 = scipy.stats.mannwhitneyu(IQ_diff2, IQ_diff5)\n",
    "t3, p3 = scipy.stats.mannwhitneyu(IQ_diff3, IQ_diff6)\n",
    "print(p1,p2,p3)"
   ]
  },
  {
   "cell_type": "code",
   "execution_count": 155,
   "metadata": {},
   "outputs": [
    {
     "data": {
      "image/png": "[encoded data removed]",
      "text/plain": [
       "<Figure size 800x400 with 2 Axes>"
      ]
     },
     "metadata": {
      "needs_background": "light"
     },
     "output_type": "display_data"
    }
   ],
   "source": [
    "fig, ax = plt.subplots(1,2, figsize=(8,4), dpi=100,)\n",
    "fig.tight_layout()\n",
    "ax[0].boxplot([IQ_diff1, IQ_diff2, IQ_diff3]+[IQ_diff4, IQ_diff5, IQ_diff6], \n",
    "            labels = [\"dosamge w/o mis\", \"gene w/o mis\", \"mean w/o mis\"]+\n",
    "            [\"dosamge w/ mis\", \"gene w/ mis\", \"mean w/ mis\"])\n",
    "ax[0].tick_params(labelrotation=45)\n",
    "ax[0].set_ylabel(\"IQ difference\")\n",
    "ax[0].grid(True)\n",
    "ax[1].boxplot([Jiayao_features_without_mis[\"NVIQ\"], Jiayao_features_with_mis[\"NVIQ\"]],\n",
    "            labels = [\"w/o mis\", \"w/ mis\"])\n",
    "ax[1].grid(True)\n",
    "ax[1].set_ylabel(\"IQ\")\n",
    "plt.show()"
   ]
  },
  {
   "cell_type": "code",
   "execution_count": 156,
   "metadata": {},
   "outputs": [
    {
     "name": "stdout",
     "output_type": "stream",
     "text": [
      "9.481633467150019\n",
      "                 Generalized Linear Model Regression Results                  \n",
      "==============================================================================\n",
      "Dep. Variable:                      y   No. Observations:                   23\n",
      "Model:                            GLM   Df Residuals:                       14\n",
      "Model Family:                Gaussian   Df Model:                            8\n",
      "Link Function:               identity   Scale:                          454.03\n",
      "Method:                          IRLS   Log-Likelihood:                -97.286\n",
      "Date:                Mon, 08 Jul 2019   Deviance:                       6356.5\n",
      "Time:                        12:05:00   Pearson chi2:                 6.36e+03\n",
      "No. Iterations:                     3   Covariance Type:             nonrobust\n",
      "==============================================================================\n",
      "                 coef    std err          z      P>|z|      [0.025      0.975]\n",
      "------------------------------------------------------------------------------\n",
      "const         14.3005     53.434      0.268      0.789     -90.429     119.030\n",
      "x1             0.7723      0.395      1.956      0.050      -0.002       1.546\n",
      "x2            -4.2991     30.827     -0.139      0.889     -64.719      56.121\n",
      "x3             4.3935     24.311      0.181      0.857     -43.255      52.042\n",
      "x4            -2.6496      3.698     -0.717      0.474      -9.897       4.598\n",
      "x5             0.6131      8.025      0.076      0.939     -15.116      16.343\n",
      "x6            12.6595     17.146      0.738      0.460     -20.946      46.265\n",
      "x7            -2.1845     12.893     -0.169      0.865     -27.454      23.085\n",
      "x8            -7.0132      4.393     -1.597      0.110     -15.623       1.596\n",
      "==============================================================================\n"
     ]
    }
   ],
   "source": [
    "df = Jiayao_features_without_mis\n",
    "X = np.array(df[\"Dosage\"].values)\n",
    "X = np.reshape(X, (-1,1))\n",
    "const = np.reshape(  np.ones(X.shape[0]),(-1,1))\n",
    "X = np.hstack((const, X))\n",
    "Y = np.reshape(np.array(df[\"NVIQ\"].values), (-1, 1))\n",
    "glm = sm.GLM(Y, X, family=sm.families.Gaussian())\n",
    "res = glm.fit(method=\"Newton\")\n",
    "#GLMs.append(res)\n",
    "pred = res.predict(X)\n",
    "for feature in [\"Rel.exp.prenatal\", \"Rel.exp.postnatal\",\n",
    "               \"phyloP100way\", \"Functional\", \"DOM.TRUNC\", \"gender1\", \"Prenatal.Bias\"]:\n",
    "#    r, p = spearmanr(np.array(df[feature].values), np.array(df[\"NVIQ\"].values))\n",
    "    x = np.array(df[feature].values)\n",
    "    x = np.reshape(x, (-1,1))\n",
    "    X = np.hstack((X, x))\n",
    "    glm = sm.GLM(Y, X, family=sm.families.Gaussian())\n",
    "    res = glm.fit()\n",
    "    #GLMs.append(res)\n",
    "    pred = res.predict(X)\n",
    "print(PredErrMedian(pred, Y))\n",
    "print(res.summary())"
   ]
  },
  {
   "cell_type": "code",
   "execution_count": 157,
   "metadata": {},
   "outputs": [
    {
     "data": {
      "image/png": "[encoded data removed]",
      "text/plain": [
       "<Figure size 160x160 with 1 Axes>"
      ]
     },
     "metadata": {
      "needs_background": "light"
     },
     "output_type": "display_data"
    },
    {
     "data": {
      "image/png": "[encoded data removed]",
      "text/plain": [
       "<Figure size 160x160 with 1 Axes>"
      ]
     },
     "metadata": {
      "needs_background": "light"
     },
     "output_type": "display_data"
    },
    {
     "data": {
      "image/png": "[encoded data removed]",
      "text/plain": [
       "<Figure size 160x160 with 1 Axes>"
      ]
     },
     "metadata": {
      "needs_background": "light"
     },
     "output_type": "display_data"
    }
   ],
   "source": [
    "def plotGene(gene, dat):\n",
    "    dat = dat[dat[\"effectGene\"]==gene]\n",
    "    X_train = np.array(dat[\"Rel.exp.gmean\"].values)\n",
    "    IQs = dat[\"NVIQ\"].values\n",
    "    y_train = np.array([max(0, (100-x)) for x in IQs])\n",
    "    regr = regGene(rel_exps, IQDiffs)\n",
    "    y_pred = regr.predict(np.reshape(X_train, (-1,1)))\n",
    "    R, P = scipy.stats.pearsonr(X_train, y_train)\n",
    "    plt.figure(figsize=(2,2), dpi=80)\n",
    "    plt.title(\"Gene:%s, R:%.3f, P:%.3f\"%(gene, R,P))\n",
    "    plt.xlim(0,3)\n",
    "    plt.ylim(0, max(y_train[0]+y_pred[0]))\n",
    "    plt.scatter(X_train, y_train,  color='black')\n",
    "    plt.plot(np.append(X_train, [0]), np.append(y_pred, 0), color='blue', linewidth=3)\n",
    "    plt.xlabel(\"exon.rel.exp\")\n",
    "    plt.ylabel(\"IQ.decrease\")\n",
    "    plt.show()\n",
    "Jiayao_features = pd.read_csv(\"unifiedmodel/features.jiayao.52.csv\")\n",
    "plotGene(\"CHD8\", Jiayao_features)\n",
    "plotGene(\"FOXP1\", Jiayao_features) \n",
    "plotGene(\"DYRK1A\", Jiayao_features)"
   ]
  },
  {
   "cell_type": "code",
   "execution_count": 158,
   "metadata": {},
   "outputs": [
    {
     "name": "stdout",
     "output_type": "stream",
     "text": [
      "(52, 33)\n",
      "             feature\tspearmanr\t  P_corr\t R2_gene\t R2_mean\tMean.Err\n",
      "              Dosage\t   0.352\t1.06e-02\t  0.9876\t  0.9825\t 15.6476\n",
      "       Prenatal.Bias\t   0.352\t1.06e-02\t  0.9876\t  0.9825\t 13.0000\n",
      "                 Generalized Linear Model Regression Results                  \n",
      "==============================================================================\n",
      "Dep. Variable:                      y   No. Observations:                   52\n",
      "Model:                            GLM   Df Residuals:                       50\n",
      "Model Family:                Gaussian   Df Model:                            1\n",
      "Link Function:               identity   Scale:                          403.86\n",
      "Method:                          IRLS   Log-Likelihood:                -228.79\n",
      "Date:                Mon, 08 Jul 2019   Deviance:                       20193.\n",
      "Time:                        12:05:01   Pearson chi2:                 2.02e+04\n",
      "No. Iterations:                     3   Covariance Type:             nonrobust\n",
      "==============================================================================\n",
      "                 coef    std err          z      P>|z|      [0.025      0.975]\n",
      "------------------------------------------------------------------------------\n",
      "const         49.9108      8.695      5.740      0.000      32.870      66.952\n",
      "x1             0.2790      0.125      2.227      0.026       0.033       0.525\n",
      "==============================================================================\n"
     ]
    }
   ],
   "source": [
    "Jiayao_features = pd.read_csv(\"unifiedmodel/features.jiayao.52.csv\")\n",
    "#Jiayao_features = Jiayao_features[~Jiayao_features[\"familyId\"].isin(ExcludeList)]\n",
    "print(Jiayao_features.shape)\n",
    "print(\"%20s\\t%8s\\t%8s\\t%8s\\t%8s\\t%8s\"%(\"feature\", \"spearmanr\", \"P_corr\", \"R2_gene\", \"R2_mean\", \"Mean.Err\"))\n",
    "X = np.array(Jiayao_features[\"Dosage\"].values)\n",
    "\n",
    "X = np.reshape(X, (-1,1))\n",
    "const = np.reshape(  np.ones(X.shape[0]),(-1,1))\n",
    "X = np.hstack((const, X))\n",
    "Y = np.reshape(np.array(Jiayao_features[\"NVIQ\"].values), (-1, 1))\n",
    "glm = sm.GLM(Y, X, family=sm.families.Gaussian())\n",
    "res = glm.fit()\n",
    "pred = res.predict(X)\n",
    "r, p = spearmanr(np.array(Jiayao_features[\"Dosage\"]), np.array(Jiayao_features[\"NVIQ\"]))\n",
    "R2_gene = 1- SSE(pred, Y)/SSE_Gene\n",
    "R2_mean = 1- SSE(pred, Y)/SSE_Mean\n",
    "print(\"%20s\\t%8.3f\\t%8.2e\\t%8.4f\\t%8.4f\\t%8.4f\"%(\"Dosage\", r, p, R2_gene, R2_mean, PredErrMean(pred, Y)))\n",
    "for feature in []:#[\"Rel.exp.prenatal\", \"Rel.exp.postnatal\",\n",
    "                #\"phyloP100way\", \"Functional\", \"DOM.TRUNC\", \"Age\", \"gender1\", \"Prenatal.Bias\"]:\n",
    "    r, p = spearmanr(np.array(Jiayao_features[feature].values), np.array(Jiayao_features[\"NVIQ\"].values))\n",
    "    x = np.array(Jiayao_features[feature].values)\n",
    "    x = np.reshape(x, (-1,1))\n",
    "    X = np.hstack((X, x))\n",
    "    glm = sm.GLM(Y, X, family=sm.families.Gaussian())\n",
    "    res = glm.fit()\n",
    "    pred = res.predict(X)\n",
    "    R2_gene = 1- SSE(pred, Y)/SSE_Gene\n",
    "    R2_mean = 1- SSE(pred, Y)/SSE_Mean\n",
    "print(\"%20s\\t%8.3f\\t%8.2e\\t%8.4f\\t%8.4f\\t%8.4f\"%(feature, r, p, R2_gene, R2_mean, PredErrMedian(pred, Y)))\n",
    "print(res.summary())"
   ]
  },
  {
   "cell_type": "code",
   "execution_count": 159,
   "metadata": {},
   "outputs": [],
   "source": [
    "#Jiayao_features.to_csv(\"unifiedmodel/features.jiayao.52.csv\", index=False)"
   ]
  },
  {
   "cell_type": "code",
   "execution_count": 160,
   "metadata": {},
   "outputs": [
    {
     "name": "stdout",
     "output_type": "stream",
     "text": [
      "12752-14:21861377 CHD8 93.0 27.87568177809308 1.7445203292022404\n",
      "13900-14:21895990 CHD8 27.0 80.26547976838384 0.672300850348769\n",
      "11403-3:71026115 FOXP1 64.0 0 2.879538174647055\n",
      "12817-3:71050171 FOXP1 34.0 77.82006481693614 1.77411027974527\n",
      "12952-7:104748101 MLL5 58.0 0 1.4159638594755717\n",
      "52\n"
     ]
    },
    {
     "data": {
      "image/png": "[encoded data removed]",
      "text/plain": [
       "<Figure size 480x480 with 1 Axes>"
      ]
     },
     "metadata": {
      "needs_background": "light"
     },
     "output_type": "display_data"
    },
    {
     "name": "stdout",
     "output_type": "stream",
     "text": [
      "MannwhitneyuResult(statistic=1299.0, pvalue=0.3664249944168407)\n",
      "MannwhitneyuResult(statistic=1143.5, pvalue=0.08808704573854204)\n",
      "Mean:\tDosage:18.049\tGene:20.192\tMean:16.683\n",
      "Median:\tDosage:10.915\tGene:18.000\tMean:13.500\n"
     ]
    },
    {
     "ename": "AttributeError",
     "evalue": "'tuple' object has no attribute 'shape'",
     "output_type": "error",
     "traceback": [
      "\u001b[0;31m---------------------------------------------------------------------------\u001b[0m",
      "\u001b[0;31mAttributeError\u001b[0m                            Traceback (most recent call last)",
      "\u001b[0;32m<ipython-input-160-019ac49ae2b5>\u001b[0m in \u001b[0;36m<module>\u001b[0;34m\u001b[0m\n\u001b[1;32m      1\u001b[0m \u001b[0mJiayao_features\u001b[0m \u001b[0;34m=\u001b[0m \u001b[0mpd\u001b[0m\u001b[0;34m.\u001b[0m\u001b[0mread_csv\u001b[0m\u001b[0;34m(\u001b[0m\u001b[0;34m\"unifiedmodel/features.jiayao.52.csv\"\u001b[0m\u001b[0;34m)\u001b[0m\u001b[0;34m\u001b[0m\u001b[0;34m\u001b[0m\u001b[0m\n\u001b[1;32m      2\u001b[0m \u001b[0mdf\u001b[0m \u001b[0;34m=\u001b[0m \u001b[0mDosageModel\u001b[0m\u001b[0;34m(\u001b[0m\u001b[0mJiayao_features\u001b[0m\u001b[0;34m)\u001b[0m\u001b[0;34m\u001b[0m\u001b[0;34m\u001b[0m\u001b[0m\n\u001b[0;32m----> 3\u001b[0;31m \u001b[0mdf\u001b[0m\u001b[0;34m.\u001b[0m\u001b[0mshape\u001b[0m\u001b[0;34m\u001b[0m\u001b[0;34m\u001b[0m\u001b[0m\n\u001b[0m",
      "\u001b[0;31mAttributeError\u001b[0m: 'tuple' object has no attribute 'shape'"
     ]
    }
   ],
   "source": [
    "Jiayao_features = pd.read_csv(\"unifiedmodel/features.jiayao.52.csv\")\n",
    "df = DosageModel(Jiayao_features)\n",
    "df.shape"
   ]
  },
  {
   "cell_type": "code",
   "execution_count": 161,
   "metadata": {},
   "outputs": [],
   "source": [
    "Addfeatures_singlefeature = []\n",
    "TestingErrs_singlefeature = []\n",
    "TestingErrConf_singlefeature = []\n",
    "for feature in features:\n",
    "    Addfeatures_singlefeature.append(feature)\n",
    "    Scores_Train, Scores_Test = CrossVal(Jiayao_features, Splits, [feature], Error=Error)\n",
    "    TestingErrs_singlefeature.append(np.mean(Scores_Test))\n",
    "    #TestingErrConf_singlefeature.append(np.std(Scores_Test)  / math.sqrt(Fold))\n",
    "    TestingErrConf_singlefeature.append(abs(Scores_Test[5] - Scores_Test[95])/2)"
   ]
  },
  {
   "cell_type": "code",
   "execution_count": 162,
   "metadata": {
    "scrolled": false
   },
   "outputs": [
    {
     "data": {
      "image/png": "[encoded data removed]",
      "text/plain": [
       "<Figure size 1200x600 with 1 Axes>"
      ]
     },
     "metadata": {
      "needs_background": "light"
     },
     "output_type": "display_data"
    }
   ],
   "source": [
    "Addfeatures = []\n",
    "TestingErrs = []\n",
    "TestingErrConf = []\n",
    "for feature1, feature2 in itertools.combinations(features, 2):\n",
    "    #Addfeatures.append(feature)\n",
    "    Scores_Train, Scores_Test = CrossVal(Jiayao_features, Splits, [feature1, feature2], Error=Error)\n",
    "    Addfeatures.append([feature1, feature2])\n",
    "    TestingErrs.append(np.mean(Scores_Test))\n",
    "    #TestingErrConf.append(np.std(Scores_Test)  / math.sqrt(Fold))\n",
    "    TestingErrConf.append(abs(Scores_Test[5] - Scores_Test[95])/2)\n",
    "Addfeatures.extend([[x] for x in Addfeatures_singlefeature])\n",
    "TestingErrs.extend(TestingErrs_singlefeature)\n",
    "TestingErrConf.extend(TestingErrConf_singlefeature)\n",
    "tmp = list(zip(Addfeatures, TestingErrs, TestingErrConf))\n",
    "tmp = sorted(tmp, key=lambda x:x[1])\n",
    "Addfeatures = [x for x,y,z in tmp]\n",
    "TestingErrs = [y for x,y,z in tmp]\n",
    "TestingErrConf = [z for x,y,z in tmp]\n",
    "x_pos = np.arange(len(Addfeatures))\n",
    "fig, ax = plt.subplots(figsize=(10,5), dpi=120)\n",
    "plt.title(\"Testing Err of Linear model\")\n",
    "ax.bar(x_pos, TestingErrs, 0.5 ,yerr=TestingErrConf, color=\"orange\")\n",
    "ax.set_xticks(x_pos)\n",
    "ax.set_xticklabels([\"+\".join(x) for x in Addfeatures])\n",
    "plt.ylabel(\"Avg IQ prediction err\")\n",
    "plt.xticks(rotation=90)\n",
    "plt.show()"
   ]
  },
  {
   "cell_type": "code",
   "execution_count": 163,
   "metadata": {},
   "outputs": [],
   "source": [
    "#SameExonIQ\n",
    "Jiayao_features = pd.read_csv(\"unifiedmodel/features.65.jiayao.csv\")\n",
    "ExonCount = Jiayao_features.groupby(\"ExonID\")[\"ExonID\"].count()\n",
    "Jiayao_features[\"ExonCount\"] = Jiayao_features.apply(lambda row: ExonCount[row[\"ExonID\"]], axis=1)\n",
    "SameExon = Jiayao_features[Jiayao_features[\"ExonCount\"]>=2]"
   ]
  },
  {
   "cell_type": "code",
   "execution_count": 164,
   "metadata": {},
   "outputs": [],
   "source": [
    "VIQ_diff, NVIQ_diff = [], []\n",
    "for exon in list(set(SameExon['ExonID'].values)):\n",
    "    tmpdf = SameExon[SameExon[\"ExonID\"]==exon]\n",
    "    VIQs = tmpdf[\"VIQ\"].values\n",
    "    NVIQs = tmpdf[\"NVIQ\"].values\n",
    "    VIQ_diff.append(abs(VIQs[0]-VIQs[1]))\n",
    "    NVIQ_diff.append(abs(NVIQs[0]-NVIQs[1]))"
   ]
  },
  {
   "cell_type": "code",
   "execution_count": 165,
   "metadata": {},
   "outputs": [
    {
     "name": "stdout",
     "output_type": "stream",
     "text": [
      "17.25 8.25 9.0\n",
      "WilcoxonResult(statistic=3.0, pvalue=0.0625089161964483)\n",
      "0.03125445809822415\n"
     ]
    },
    {
     "name": "stderr",
     "output_type": "stream",
     "text": [
      "/Users/jiayao/anaconda3/lib/python3.7/site-packages/scipy/stats/morestats.py:2388: UserWarning: Warning: sample size too small for normal approximation.\n",
      "  warnings.warn(\"Warning: sample size too small for normal approximation.\")\n"
     ]
    }
   ],
   "source": [
    "print(np.mean(VIQ_diff), np.mean(NVIQ_diff), 17.25-8.25)\n",
    "print(scipy.stats.wilcoxon(VIQ_diff, NVIQ_diff))\n",
    "print(0.0625089161964483/2)"
   ]
  },
  {
   "cell_type": "code",
   "execution_count": 166,
   "metadata": {},
   "outputs": [
    {
     "data": {
      "image/png": "[encoded data removed]",
      "text/plain": [
       "<Figure size 432x288 with 1 Axes>"
      ]
     },
     "metadata": {
      "needs_background": "light"
     },
     "output_type": "display_data"
    },
    {
     "data": {
      "text/plain": [
       "MannwhitneyuResult(statistic=155.0, pvalue=0.17607152321001907)"
      ]
     },
     "execution_count": 166,
     "metadata": {},
     "output_type": "execute_result"
    }
   ],
   "source": [
    "shared_phy = list(set(SameExon[\"phyloP100way\"].values))\n",
    "other_phy = list(set(Jiayao_features[Jiayao_features[\"ExonCount\"]==1][\"phyloP100way\"].values))\n",
    "plt.hist(shared_phy, color=\"r\", density=1)\n",
    "plt.hist(other_phy, color=\"b\", density=1)\n",
    "plt.show()\n",
    "scipy.stats.mannwhitneyu(shared_phy, other_phy)#, alternative='less')"
   ]
  },
  {
   "cell_type": "code",
   "execution_count": 167,
   "metadata": {},
   "outputs": [
    {
     "name": "stdout",
     "output_type": "stream",
     "text": [
      "835.8854437869824 426.12639053254446\n"
     ]
    },
    {
     "data": {
      "image/png": "[encoded data removed]",
      "text/plain": [
       "<Figure size 432x288 with 1 Axes>"
      ]
     },
     "metadata": {
      "needs_background": "light"
     },
     "output_type": "display_data"
    },
    {
     "name": "stdout",
     "output_type": "stream",
     "text": [
      "1.961590416266752 0.9960912686552379\n"
     ]
    }
   ],
   "source": [
    "VIQs = Jiayao_features[\"VIQ\"].values\n",
    "NVIQs = Jiayao_features[\"NVIQ\"].values\n",
    "print(np.var(VIQs), np.var(NVIQs))\n",
    "plt.hist(VIQs, color=\"r\")\n",
    "plt.hist(NVIQs, color=\"b\")\n",
    "plt.show()\n",
    "\n",
    "F = np.var(VIQs)/np.var(NVIQs)\n",
    "df1 = len(VIQs) - 1\n",
    "df2 = len(NVIQs) - 1\n",
    "p_value = scipy.stats.f.cdf(F, df1, df2)\n",
    "print(F, p_value)"
   ]
  },
  {
   "cell_type": "code",
   "execution_count": 168,
   "metadata": {},
   "outputs": [
    {
     "name": "stdout",
     "output_type": "stream",
     "text": [
      "589.359375 270.25\n"
     ]
    },
    {
     "data": {
      "image/png": "[encoded data removed]",
      "text/plain": [
       "<Figure size 432x288 with 1 Axes>"
      ]
     },
     "metadata": {
      "needs_background": "light"
     },
     "output_type": "display_data"
    },
    {
     "name": "stdout",
     "output_type": "stream",
     "text": [
      "2.1807932469935247 0.9288181390728384\n",
      "LeveneResult(statistic=0.7884861940648551, pvalue=0.381622541900992)\n"
     ]
    }
   ],
   "source": [
    "VIQs = SameExon[\"VIQ\"].values\n",
    "NVIQs = SameExon[\"NVIQ\"].values\n",
    "print(np.var(VIQs), np.var(NVIQs))\n",
    "plt.hist(VIQs, color=\"r\")\n",
    "plt.hist(NVIQs, color=\"b\")\n",
    "plt.show()\n",
    "\n",
    "F = np.var(VIQs)/np.var(NVIQs)\n",
    "df1 = len(VIQs) - 1\n",
    "df2 = len(NVIQs) - 1\n",
    "p_value = scipy.stats.f.cdf(F, df1, df2)\n",
    "print(F, p_value)\n",
    "print(scipy.stats.levene(VIQs, NVIQs))"
   ]
  },
  {
   "cell_type": "code",
   "execution_count": 169,
   "metadata": {},
   "outputs": [
    {
     "name": "stdout",
     "output_type": "stream",
     "text": [
      "12752-14:21861377 CHD8 93.0 27.87568177809308 1.7445203292022404\n",
      "13900-14:21895990 CHD8 27.0 80.26547976838384 0.672300850348769\n",
      "11403-3:71026115 FOXP1 64.0 0 2.879538174647055\n",
      "12817-3:71050171 FOXP1 34.0 77.82006481693614 1.77411027974527\n",
      "12952-7:104748101 MLL5 58.0 0 1.4159638594755717\n",
      "52\n"
     ]
    },
    {
     "data": {
      "image/png": "[encoded data removed]",
      "text/plain": [
       "<Figure size 480x480 with 1 Axes>"
      ]
     },
     "metadata": {
      "needs_background": "light"
     },
     "output_type": "display_data"
    },
    {
     "name": "stdout",
     "output_type": "stream",
     "text": [
      "MannwhitneyuResult(statistic=1299.0, pvalue=0.3664249944168407)\n",
      "MannwhitneyuResult(statistic=1143.5, pvalue=0.08808704573854204)\n",
      "Mean:\tDosage:18.049\tGene:20.192\tMean:16.683\n",
      "Median:\tDosage:10.915\tGene:18.000\tMean:13.500\n",
      "52\n",
      "52\n",
      "17.767030790270734\n",
      "                 Generalized Linear Model Regression Results                  \n",
      "==============================================================================\n",
      "Dep. Variable:                      y   No. Observations:                   52\n",
      "Model:                            GLM   Df Residuals:                       51\n",
      "Model Family:                Gaussian   Df Model:                            0\n",
      "Link Function:               identity   Scale:                          603.73\n",
      "Method:                          IRLS   Log-Likelihood:                -239.76\n",
      "Date:                Mon, 08 Jul 2019   Deviance:                       30790.\n",
      "Time:                        12:06:00   Pearson chi2:                 3.08e+04\n",
      "No. Iterations:                     3   Covariance Type:             nonrobust\n",
      "==============================================================================\n",
      "                 coef    std err          z      P>|z|      [0.025      0.975]\n",
      "------------------------------------------------------------------------------\n",
      "x1             0.9406      0.048     19.672      0.000       0.847       1.034\n",
      "==============================================================================\n"
     ]
    }
   ],
   "source": [
    "Jiayao_features = pd.read_csv(\"unifiedmodel/features.jiayao.52.csv\")\n",
    "#Jiayao_features = Jiayao_features[~\n",
    "#    Jiayao_features[\"KEY\"].isin([\"13735-21:41414331\",\"12764-2:183791570\",\"12323-9:96439930\"])]\n",
    "df, pred_dosage, pred_gene, pred_mean, ALL_IQ = DosageModel(Jiayao_features)\n",
    "\n",
    "print(df.shape[0])\n",
    "#df = df[abs(df[\"Dosage\"] - df[\"NVIQ\"]) < 50]\n",
    "print(df.shape[0])\n",
    "X = np.array(df[\"Dosage\"].values)\n",
    "X = np.reshape(X, (-1,1))\n",
    "#const = np.reshape(  np.ones(X.shape[0]),(-1,1))\n",
    "#X = np.hstack((const, X))\n",
    "Y = np.reshape(np.array(df[\"NVIQ\"].values), (-1, 1))\n",
    "glm = sm.GLM(Y, X, family=sm.families.Gaussian())\n",
    "res = glm.fit(method=\"Newton\")\n",
    "pred = res.predict(X)\n",
    "for feature in [\"Rel.exp.prenatal\", \"Rel.exp.postnatal\",\n",
    "                \"phyloP100way\", \"Functional\", \"DOM.TRUNC\", \"Age\", \"gender1\", \"Prenatal.Bias\"]:\n",
    "    r, p = spearmanr(np.array(df[feature].values), np.array(df[\"NVIQ\"].values))\n",
    "    x = np.array(df[feature].values)\n",
    "    x = np.reshape(x, (-1,1))\n",
    "    #X = np.hstack((X, x))\n",
    "    glm = sm.GLM(Y, X, family=sm.families.Gaussian())\n",
    "    res = glm.fit()\n",
    "    pred = res.predict(X)\n",
    "print(PredErrMean(pred, Y))\n",
    "print(res.summary())"
   ]
  },
  {
   "cell_type": "code",
   "execution_count": 170,
   "metadata": {
    "scrolled": false
   },
   "outputs": [
    {
     "data": {
      "image/png": "[encoded data removed]",
      "text/plain": [
       "<Figure size 480x400 with 9 Axes>"
      ]
     },
     "metadata": {
      "needs_background": "light"
     },
     "output_type": "display_data"
    }
   ],
   "source": [
    "features = [\"Dosage\", \"Rel.exp.prenatal\", \"Rel.exp.postnatal\", \"phyloP100way\", \"Functional\", \"DOM.TRUNC\", \n",
    "            \"Age\", \"gender1\", \"Prenatal.Bias\"]\n",
    "features = [\"Dosage\", \"ExonPrenatalExp.amean\", \"ExonPostnatalExp.amean\", \"phyloP100way\", \"Functional\", \"DOM.TRUNC\", \n",
    "            \"Age\", \"gender1\", \"Prenatal.Bias\"]\n",
    "Y = np.reshape(np.array(df[\"NVIQ\"].values), (-1, 1))\n",
    "fig, axs = plt.subplots(3,3,figsize=(6,5), dpi=80,)\n",
    "axs = axs.flatten()\n",
    "fig.tight_layout()\n",
    "models = {}\n",
    "for ax,feature in zip(axs, features):  \n",
    "    X = np.reshape(df[feature].values, (-1,1))\n",
    "    X = max(X) - X\n",
    "    regr = linear_model.LinearRegression()\n",
    "    regr.fit(X, Y)\n",
    "    slope = regr.coef_[0][0]\n",
    "    intercept = regr.intercept_[0]\n",
    "    y_pred = regr.predict(X) \n",
    "    models[feature] = regr\n",
    "    ax.scatter(X, Y, s=2)\n",
    "    #ax.scatter(y_pred, Y, s=2)\n",
    "    if feature == \"Dosage\":\n",
    "        ax.plot(np.append(X, [0]), np.append(y_pred, intercept), color='black', linewidth=1)\n",
    "        #ax.plot(np.append(100, [0]), np.append(100, 0), color='red', linewidth=1)\n",
    "    else:\n",
    "        ax.plot(np.append(X, [0]), np.append(y_pred, intercept), color='black', linewidth=1)\n",
    "    #    ax.plot(np.append(X, [0]), np.append(y_pred, intercept), color='black', linewidth=1)\n",
    "    ax.set_ylabel(\"IQ\")\n",
    "    ax.set_xlabel(feature)\n",
    "plt.show()"
   ]
  },
  {
   "cell_type": "code",
   "execution_count": 171,
   "metadata": {},
   "outputs": [
    {
     "name": "stdout",
     "output_type": "stream",
     "text": [
      "TSS: 22195.75 22195.75\n",
      "R2 1.126780137073236 -0.42922280553367065\n",
      "31722.67208592397 31307.05555555556 22195.75\n",
      "              Dosage\t   0.329\t   0.108\t  -0.429\t  -0.013\n",
      "ExonPrenatalExp.amean\t   0.188\t   0.035\t  -1.833\t  -1.008\n",
      "ExonPostnatalExp.amean\t   0.053\t   0.003\t  -3.533\t  -2.214\n",
      "        phyloP100way\t   0.259\t   0.067\t -10.068\t  -6.847\n",
      "          Functional\t   0.131\t   0.017\t -10.649\t  -7.258\n",
      "           DOM.TRUNC\t  -0.112\t   0.013\t -10.856\t  -7.406\n",
      "                 Generalized Linear Model Regression Results                  \n",
      "==============================================================================\n",
      "Dep. Variable:                      y   No. Observations:                   52\n",
      "Model:                            GLM   Df Residuals:                       46\n",
      "Model Family:                Gaussian   Df Model:                            5\n",
      "Link Function:               identity   Scale:                          460.81\n",
      "Method:                          IRLS   Log-Likelihood:                -230.05\n",
      "Date:                Mon, 08 Jul 2019   Deviance:                       21197.\n",
      "Time:                        12:06:01   Pearson chi2:                 2.12e+04\n",
      "No. Iterations:                     3   Covariance Type:             nonrobust\n",
      "==============================================================================\n",
      "                 coef    std err          z      P>|z|      [0.025      0.975]\n",
      "------------------------------------------------------------------------------\n",
      "x1             0.3647      0.144      2.531      0.011       0.082       0.647\n",
      "x2             0.3956      0.300      1.319      0.187      -0.192       0.983\n",
      "x3             0.4190      0.395      1.061      0.289      -0.355       1.194\n",
      "x4             2.2484      1.885      1.193      0.233      -1.446       5.943\n",
      "x5             8.5022      4.178      2.035      0.042       0.313      16.691\n",
      "x6             3.6439      7.912      0.461      0.645     -11.863      19.151\n",
      "==============================================================================\n"
     ]
    }
   ],
   "source": [
    "df, pred_dosage, pred_gene, pred_mean, IQs = DosageModel(Jiayao_features, plot=False)\n",
    "TSS = sum([(x-y)**2 for x,y in zip(IQs, pred_mean)])\n",
    "print(\"TSS:\",TSS,len(IQs)*np.var(IQs))\n",
    "ESS = sum([(x-y)**2 for x,y in zip([np.mean(pred_dosage)]*len(pred_dosage), pred_dosage)])\n",
    "SSR = sum([(x-y)**2 for x,y in zip(IQs, pred_dosage)])\n",
    "print(\"R2\", ESS/TSS, 1-SSR/TSS)\n",
    "SSE_Dosage = sum([(x-y)**2 for x,y in zip(pred_dosage, IQs)])\n",
    "SSE_Gene = sum([(x-y)**2 for x,y in zip(pred_gene, IQs)])\n",
    "SSE_Mean = sum([(x-y)**2 for x,y in zip(pred_mean, IQs)])\n",
    "print(SSE_Dosage, SSE_Gene, SSE_Mean)\n",
    "X = np.array(df[\"Dosage\"].values)\n",
    "X = np.reshape(X, (-1,1))\n",
    "#const = np.reshape(  np.ones(X.shape[0]),(-1,1))\n",
    "#X = np.hstack((const, X))\n",
    "features = [\"Dosage\", \"ExonPrenatalExp.amean\", \"ExonPostnatalExp.amean\", \"phyloP100way\", \"Functional\", \"DOM.TRUNC\"]\n",
    "#print(\"%20s\\t%8s\\t%8s\\t%8s\\t%8s\\t%8s\"%(\"feature\", \"pearsonr\", \"P_corr\", \"R2_gene\", \"R2_mean\", \"Err\"))\n",
    "Y = np.reshape(np.array(df[\"NVIQ\"].values), (-1, 1))\n",
    "glm = sm.GLM(Y, X, family=sm.families.Gaussian())\n",
    "res = glm.fit()\n",
    "#X = models[\"Dosage\"].predict(X)\n",
    "pred = res.predict(X)\n",
    "r, p = pearsonr(np.array(Jiayao_features[\"Dosage\"]), np.array(Jiayao_features[\"NVIQ\"]))\n",
    "r1, p1 = pearsonr(X, Y)\n",
    "SSR = sum([(x-y)**2 for x,y in zip(X, IQs)])\n",
    "R2_gene = 1- SSR/SSE_Gene\n",
    "R2_mean = 1- SSR/TSS\n",
    "#R2_mean = 1- SSR/TSS\n",
    "print(\"%20s\\t%8.3f\\t%8.3f\\t%8.3f\\t%8.3f\"%(\"Dosage\", r1, r1**2, R2_mean, R2_gene))\n",
    "\n",
    "for feature in features[1:7]:\n",
    "    x = np.array(df[feature].values)\n",
    "    x = np.reshape(x, (-1,1))\n",
    "    if feature == \"Dosage\":\n",
    "        #x = x\n",
    "        x = models[feature].predict(x)\n",
    "    else:\n",
    "        x = max(x) - x\n",
    "        #x = models[feature].predict(x)\n",
    "    X = np.hstack((X, x))\n",
    "    #r, p = spearmanr(x, Y)\n",
    "    r, p = pearsonr(x, Y)\n",
    "    glm = sm.GLM(Y, x, family=sm.families.Gaussian())\n",
    "    res = glm.fit()\n",
    "    pred = res.predict(x)\n",
    "    SSR = sum([(x-y)**2 for x,y in zip(IQs, x)])\n",
    "    R2_gene = 1- SSR/SSE_Gene\n",
    "    R2_mean = 1- SSR/TSS\n",
    "    print(\"%20s\\t%8.3f\\t%8.3f\\t%8.3f\\t%8.3f\"%(feature, r, r**2, R2_mean, R2_gene))\n",
    "    #print(\"%20s\\t%8.3f\\t%8.2e\\t%8.4f\\t%8.4f\\t%8.4f\"%(feature, r, p, R2_gene, R2_mean, PredErrMedian(pred, Y)))\n",
    "glm = sm.GLM(Y, X, family=sm.families.Gaussian())\n",
    "res = glm.fit(method=\"IRLS\", max_start_irls=6)\n",
    "pred = res.predict(X)\n",
    "print(res.summary())"
   ]
  },
  {
   "cell_type": "code",
   "execution_count": 173,
   "metadata": {},
   "outputs": [
    {
     "name": "stdout",
     "output_type": "stream",
     "text": [
      "(52, 33)\n",
      "[(0, 9), (10, 19), (20, 29), (30, 39), (40, 52)]\n"
     ]
    },
    {
     "data": {
      "image/png": "[encoded data removed]",
      "text/plain": [
       "<Figure size 720x480 with 1 Axes>"
      ]
     },
     "metadata": {
      "needs_background": "light"
     },
     "output_type": "display_data"
    }
   ],
   "source": [
    "Error = \"mean\"\n",
    "Jiayao_features = pd.read_csv(\"unifiedmodel/features.jiayao.52.csv\")\n",
    "#Jiayao_features = Jiayao_features[Jiayao_features[\"gender\"]==\"M\"]\n",
    "#Jiayao_features = Jiayao_features[~Jiayao_features[\"familyId\"].isin(FamExclude)]\n",
    "Jiayao_features = Jiayao_features.sample(frac=1).reset_index(drop=True)\n",
    "print(Jiayao_features.shape)\n",
    "Fold = 5\n",
    "step = int(Jiayao_features.shape[0]/Fold)\n",
    "Splits = [(i*step, i*step+step-1) for i in range(Fold-1)] + [((Fold-1)*step, Jiayao_features.shape[0])]\n",
    "#Splits = [(0,9), (10,19), (20,29), (30, 39), (40, 52)]\n",
    "print(Splits)\n",
    "features = [\"Dosage\", \"Rel.exp.prenatal\", \"Rel.exp.postnatal\", \"phyloP100way\", \"Functional\", \"DOM.TRUNC\", \n",
    "            \"Age\", \"gender1\", \"Prenatal.Bias\"]\n",
    "Addfeatures = []\n",
    "Fold = 5\n",
    "TrainingErr, TrainingErrConf = [],[]\n",
    "TestingErr, TestingErrConf = [],[]\n",
    "for feature in features:\n",
    "    Addfeatures.append(feature)\n",
    "    Scores_Train, Scores_Test = CrossVal(Jiayao_features, Splits, Addfeatures, Error=Error)\n",
    "    TrainingErr.append(np.mean(Scores_Train))\n",
    "    Scores_Train = sorted(Scores_Train)\n",
    "    #TrainingErrConf.append(np.std(Scores_Train)  / math.sqrt(100))\n",
    "    TrainingErrConf.append(abs(Scores_Train[5] - Scores_Train[95])/2)\n",
    "    TestingErr.append(np.mean(Scores_Test))\n",
    "    Scores_Test = sorted(Scores_Test)\n",
    "    #TestingErrConf.append(np.std(Scores_Test)  / math.sqrt(100))\n",
    "    TestingErrConf.append(abs(Scores_Test[5] - Scores_Test[95])/2)\n",
    "    #print(\", \".join(Addfeatures))\n",
    "    #print(\"Training Err(mean): %0.2f (+/- %0.2f)\" % (np.mean(Scores_Train), np.std(Scores_Train) * 2))\n",
    "    #print(\"Testing Err(mean): %0.2f (+/- %0.2f)\" % (np.mean(Scores_Test), np.std(Scores_Test) * 2))\n",
    "    #print()\n",
    "ind = np.arange(len(features))  # the x locations for the groups\n",
    "width = 0.35  # the width of the bars\n",
    "fig, ax = plt.subplots(dpi=120)\n",
    "rects1 = ax.bar(ind - width/2, TrainingErr, width, yerr=TrainingErrConf,\n",
    "                label='Training Error')\n",
    "rects2 = ax.bar(ind + width/2, TestingErr, width, yerr=TestingErrConf,\n",
    "                label='Testing Error')\n",
    "ax.set_ylabel('Avg IQ prediction Error')\n",
    "ax.set_title('Avg IQ prediction Error by adding features')\n",
    "ax.set_xticks(ind)\n",
    "ax.set_xticklabels(features)\n",
    "ax.legend(loc=\"upper left\")\n",
    "fig.tight_layout()\n",
    "plt.xticks(rotation=45)\n",
    "plt.show()"
   ]
  },
  {
   "cell_type": "code",
   "execution_count": null,
   "metadata": {},
   "outputs": [],
   "source": []
  },
  {
   "cell_type": "code",
   "execution_count": null,
   "metadata": {},
   "outputs": [],
   "source": []
  },
  {
   "cell_type": "code",
   "execution_count": 174,
   "metadata": {},
   "outputs": [
    {
     "name": "stdout",
     "output_type": "stream",
     "text": [
      "13890-21:38865466 DYRK1A 42.0 89.78203338509266 0.8686728280512421\n",
      "13256-21:38877892 DYRK1A 85.0 14.855858040216418 1.2752138377276143\n",
      "10\n"
     ]
    },
    {
     "data": {
      "image/png": "[encoded data removed]",
      "text/plain": [
       "<Figure size 480x480 with 1 Axes>"
      ]
     },
     "metadata": {
      "needs_background": "light"
     },
     "output_type": "display_data"
    },
    {
     "name": "stdout",
     "output_type": "stream",
     "text": [
      "MannwhitneyuResult(statistic=39.0, pvalue=0.21350375154221196)\n",
      "MannwhitneyuResult(statistic=42.0, pvalue=0.2843543114604846)\n",
      "Mean:\tDosage:17.656\tGene:28.600\tMean:20.140\n",
      "Median:\tDosage:6.507\tGene:42.000\tMean:21.500\n"
     ]
    },
    {
     "ename": "AttributeError",
     "evalue": "'tuple' object has no attribute 'shape'",
     "output_type": "error",
     "traceback": [
      "\u001b[0;31m---------------------------------------------------------------------------\u001b[0m",
      "\u001b[0;31mAttributeError\u001b[0m                            Traceback (most recent call last)",
      "\u001b[0;32m<ipython-input-174-e3fe121261f1>\u001b[0m in \u001b[0;36m<module>\u001b[0;34m\u001b[0m\n\u001b[1;32m      2\u001b[0m \u001b[0mJiayao_features\u001b[0m \u001b[0;34m=\u001b[0m \u001b[0mJiayao_features\u001b[0m\u001b[0;34m[\u001b[0m\u001b[0mJiayao_features\u001b[0m\u001b[0;34m[\u001b[0m\u001b[0;34m\"Age\"\u001b[0m\u001b[0;34m]\u001b[0m\u001b[0;34m>=\u001b[0m\u001b[0;36m144\u001b[0m\u001b[0;34m]\u001b[0m\u001b[0;34m\u001b[0m\u001b[0;34m\u001b[0m\u001b[0m\n\u001b[1;32m      3\u001b[0m \u001b[0mdf\u001b[0m \u001b[0;34m=\u001b[0m \u001b[0mDosageModel\u001b[0m\u001b[0;34m(\u001b[0m\u001b[0mJiayao_features\u001b[0m\u001b[0;34m)\u001b[0m\u001b[0;34m\u001b[0m\u001b[0;34m\u001b[0m\u001b[0m\n\u001b[0;32m----> 4\u001b[0;31m \u001b[0mprint\u001b[0m\u001b[0;34m(\u001b[0m\u001b[0mdf\u001b[0m\u001b[0;34m.\u001b[0m\u001b[0mshape\u001b[0m\u001b[0;34m[\u001b[0m\u001b[0;36m0\u001b[0m\u001b[0;34m]\u001b[0m\u001b[0;34m)\u001b[0m\u001b[0;34m\u001b[0m\u001b[0;34m\u001b[0m\u001b[0m\n\u001b[0m\u001b[1;32m      5\u001b[0m \u001b[0;31m#df = df[abs(df[\"Dosage\"] - df[\"NVIQ\"]) < 30]\u001b[0m\u001b[0;34m\u001b[0m\u001b[0;34m\u001b[0m\u001b[0;34m\u001b[0m\u001b[0m\n\u001b[1;32m      6\u001b[0m \u001b[0mprint\u001b[0m\u001b[0;34m(\u001b[0m\u001b[0mdf\u001b[0m\u001b[0;34m.\u001b[0m\u001b[0mshape\u001b[0m\u001b[0;34m[\u001b[0m\u001b[0;36m0\u001b[0m\u001b[0;34m]\u001b[0m\u001b[0;34m)\u001b[0m\u001b[0;34m\u001b[0m\u001b[0;34m\u001b[0m\u001b[0m\n",
      "\u001b[0;31mAttributeError\u001b[0m: 'tuple' object has no attribute 'shape'"
     ]
    }
   ],
   "source": [
    "Jiayao_features = pd.read_csv(\"unifiedmodel/features.jiayao.52.csv\")\n",
    "Jiayao_features = Jiayao_features[Jiayao_features[\"Age\"]>=144]\n",
    "df = DosageModel(Jiayao_features)\n",
    "print(df.shape[0])\n",
    "#df = df[abs(df[\"Dosage\"] - df[\"NVIQ\"]) < 30]\n",
    "print(df.shape[0])\n",
    "X = np.array(df[\"Dosage\"].values)\n",
    "X = np.reshape(X, (-1,1))\n",
    "const = np.reshape(  np.ones(X.shape[0]),(-1,1))\n",
    "X = np.hstack((const, X))\n",
    "Y = np.reshape(np.array(df[\"NVIQ\"].values), (-1, 1))\n",
    "glm = sm.GLM(Y, X, family=sm.families.Gaussian())\n",
    "res = glm.fit(method=\"Newton\")\n",
    "GLMs.append(res)\n",
    "pred = res.predict(X)\n",
    "for feature in []:#[\"Rel.exp.prenatal\", \"Rel.exp.postnatal\",\n",
    "               #\"phyloP100way\", \"Functional\", \"DOM.TRUNC\"]:#, #\"gender1\", \"Prenatal.Bias\"]:\n",
    "    r, p = spearmanr(np.array(df[feature].values), np.array(df[\"NVIQ\"].values))\n",
    "    x = np.array(df[feature].values)\n",
    "    x = np.reshape(x, (-1,1))\n",
    "    X = np.hstack((X, x))\n",
    "    glm = sm.GLM(Y, X, family=sm.families.Gaussian())\n",
    "    res = glm.fit()\n",
    "    GLMs.append(res)\n",
    "    pred = res.predict(X)\n",
    "print(PredErrMedian(pred, Y))\n",
    "print(res.summary())"
   ]
  },
  {
   "cell_type": "code",
   "execution_count": 175,
   "metadata": {},
   "outputs": [
    {
     "name": "stdout",
     "output_type": "stream",
     "text": [
      "13900-14:21895990 CHD8 27.0 76.30643960003607 0.672300850348769\n",
      "11403-3:71026115 FOXP1 64.0 0 2.879538174647055\n",
      "12817-3:71050171 FOXP1 34.0 77.82006481693614 1.77411027974527\n",
      "12952-7:104748101 MLL5 58.0 0 1.4159638594755717\n",
      "35\n"
     ]
    },
    {
     "data": {
      "image/png": "[encoded data removed]",
      "text/plain": [
       "<Figure size 480x480 with 1 Axes>"
      ]
     },
     "metadata": {
      "needs_background": "light"
     },
     "output_type": "display_data"
    },
    {
     "name": "stdout",
     "output_type": "stream",
     "text": [
      "MannwhitneyuResult(statistic=541.0, pvalue=0.20210916303601362)\n",
      "MannwhitneyuResult(statistic=528.5, pvalue=0.16316601357950006)\n",
      "Mean:\tDosage:16.516\tGene:17.586\tMean:16.220\n",
      "Median:\tDosage:11.065\tGene:17.000\tMean:11.857\n"
     ]
    },
    {
     "ename": "AttributeError",
     "evalue": "'tuple' object has no attribute 'shape'",
     "output_type": "error",
     "traceback": [
      "\u001b[0;31m---------------------------------------------------------------------------\u001b[0m",
      "\u001b[0;31mAttributeError\u001b[0m                            Traceback (most recent call last)",
      "\u001b[0;32m<ipython-input-175-72211181f614>\u001b[0m in \u001b[0;36m<module>\u001b[0;34m\u001b[0m\n\u001b[1;32m      2\u001b[0m \u001b[0mJiayao_features\u001b[0m \u001b[0;34m=\u001b[0m \u001b[0mJiayao_features\u001b[0m\u001b[0;34m[\u001b[0m\u001b[0mJiayao_features\u001b[0m\u001b[0;34m[\u001b[0m\u001b[0;34m\"gender\"\u001b[0m\u001b[0;34m]\u001b[0m\u001b[0;34m==\u001b[0m\u001b[0;34m'M'\u001b[0m\u001b[0;34m]\u001b[0m\u001b[0;34m\u001b[0m\u001b[0;34m\u001b[0m\u001b[0m\n\u001b[1;32m      3\u001b[0m \u001b[0mdf\u001b[0m \u001b[0;34m=\u001b[0m \u001b[0mDosageModel\u001b[0m\u001b[0;34m(\u001b[0m\u001b[0mJiayao_features\u001b[0m\u001b[0;34m)\u001b[0m\u001b[0;34m\u001b[0m\u001b[0;34m\u001b[0m\u001b[0m\n\u001b[0;32m----> 4\u001b[0;31m \u001b[0mprint\u001b[0m\u001b[0;34m(\u001b[0m\u001b[0mdf\u001b[0m\u001b[0;34m.\u001b[0m\u001b[0mshape\u001b[0m\u001b[0;34m[\u001b[0m\u001b[0;36m0\u001b[0m\u001b[0;34m]\u001b[0m\u001b[0;34m)\u001b[0m\u001b[0;34m\u001b[0m\u001b[0;34m\u001b[0m\u001b[0m\n\u001b[0m\u001b[1;32m      5\u001b[0m \u001b[0;31m#df = df[abs(df[\"Dosage\"] - df[\"NVIQ\"]) < 30]\u001b[0m\u001b[0;34m\u001b[0m\u001b[0;34m\u001b[0m\u001b[0;34m\u001b[0m\u001b[0m\n\u001b[1;32m      6\u001b[0m \u001b[0;31m#print(df.shape[0])\u001b[0m\u001b[0;34m\u001b[0m\u001b[0;34m\u001b[0m\u001b[0;34m\u001b[0m\u001b[0m\n",
      "\u001b[0;31mAttributeError\u001b[0m: 'tuple' object has no attribute 'shape'"
     ]
    }
   ],
   "source": [
    "Jiayao_features = pd.read_csv(\"unifiedmodel/features.jiayao.52.csv\")\n",
    "Jiayao_features = Jiayao_features[Jiayao_features[\"gender\"]=='M']\n",
    "df = DosageModel(Jiayao_features)\n",
    "print(df.shape[0])\n",
    "#df = df[abs(df[\"Dosage\"] - df[\"NVIQ\"]) < 30]\n",
    "#print(df.shape[0])\n",
    "X = np.array(df[\"Dosage\"].values)\n",
    "X = np.reshape(X, (-1,1))\n",
    "const = np.reshape(  np.ones(X.shape[0]),(-1,1))\n",
    "X = np.hstack((const, X))\n",
    "Y = np.reshape(np.array(df[\"NVIQ\"].values), (-1, 1))\n",
    "glm = sm.GLM(Y, X, family=sm.families.Gaussian())\n",
    "res = glm.fit(method=\"Newton\")\n",
    "GLMs.append(res)\n",
    "pred = res.predict(X)\n",
    "for feature in [\"Rel.exp.prenatal\", \"Rel.exp.postnatal\",\n",
    "                \"phyloP100way\", \"Functional\", \"DOM.TRUNC\", \"Age\", \"gender1\", \"Prenatal.Bias\"]:\n",
    "    r, p = spearmanr(np.array(df[feature].values), np.array(df[\"NVIQ\"].values))\n",
    "    x = np.array(df[feature].values)\n",
    "    x = np.reshape(x, (-1,1))\n",
    "    X = np.hstack((X, x))\n",
    "    glm = sm.GLM(Y, X, family=sm.families.Gaussian())\n",
    "    res = glm.fit()\n",
    "    GLMs.append(res)\n",
    "    pred = res.predict(X)\n",
    "print(PredErrMean(pred, Y))\n",
    "print(res.summary())"
   ]
  },
  {
   "cell_type": "code",
   "execution_count": 176,
   "metadata": {},
   "outputs": [
    {
     "data": {
      "text/html": [
       "<div>\n",
       "<style scoped>\n",
       "    .dataframe tbody tr th:only-of-type {\n",
       "        vertical-align: middle;\n",
       "    }\n",
       "\n",
       "    .dataframe tbody tr th {\n",
       "        vertical-align: top;\n",
       "    }\n",
       "\n",
       "    .dataframe thead th {\n",
       "        text-align: right;\n",
       "    }\n",
       "</style>\n",
       "<table border=\"1\" class=\"dataframe\">\n",
       "  <thead>\n",
       "    <tr style=\"text-align: right;\">\n",
       "      <th></th>\n",
       "      <th>KEY</th>\n",
       "      <th>ENTREZ</th>\n",
       "      <th>NVIQ</th>\n",
       "      <th>PRED</th>\n",
       "      <th>AGE</th>\n",
       "      <th>GEND</th>\n",
       "      <th>DOM.TRUNC</th>\n",
       "      <th>DOM.TRUNC.FRAC</th>\n",
       "      <th>PRENATAL</th>\n",
       "      <th>POSTNATAL</th>\n",
       "      <th>DEV.BIAS</th>\n",
       "      <th>CONSERV</th>\n",
       "      <th>FUNC</th>\n",
       "    </tr>\n",
       "  </thead>\n",
       "  <tbody>\n",
       "    <tr>\n",
       "      <th>0</th>\n",
       "      <td>12645-4:114232545</td>\n",
       "      <td>287</td>\n",
       "      <td>84</td>\n",
       "      <td>4.928226</td>\n",
       "      <td>51.0</td>\n",
       "      <td>M</td>\n",
       "      <td>True</td>\n",
       "      <td>0.40</td>\n",
       "      <td>0.871835</td>\n",
       "      <td>1.098588</td>\n",
       "      <td>-0.333523</td>\n",
       "      <td>2.840792</td>\n",
       "      <td>NEUR</td>\n",
       "    </tr>\n",
       "    <tr>\n",
       "      <th>1</th>\n",
       "      <td>13768-4:114277600</td>\n",
       "      <td>287</td>\n",
       "      <td>94</td>\n",
       "      <td>7.530656</td>\n",
       "      <td>176.0</td>\n",
       "      <td>M</td>\n",
       "      <td>True</td>\n",
       "      <td>0.20</td>\n",
       "      <td>0.894915</td>\n",
       "      <td>0.575636</td>\n",
       "      <td>0.636595</td>\n",
       "      <td>1.621037</td>\n",
       "      <td>NEUR</td>\n",
       "    </tr>\n",
       "    <tr>\n",
       "      <th>2</th>\n",
       "      <td>14256-4:114251469</td>\n",
       "      <td>287</td>\n",
       "      <td>98</td>\n",
       "      <td>11.144313</td>\n",
       "      <td>183.0</td>\n",
       "      <td>M</td>\n",
       "      <td>True</td>\n",
       "      <td>0.40</td>\n",
       "      <td>0.699788</td>\n",
       "      <td>0.939402</td>\n",
       "      <td>-0.424824</td>\n",
       "      <td>3.604094</td>\n",
       "      <td>NEUR</td>\n",
       "    </tr>\n",
       "    <tr>\n",
       "      <th>3</th>\n",
       "      <td>13614-15:93563244</td>\n",
       "      <td>1106</td>\n",
       "      <td>81</td>\n",
       "      <td>13.164656</td>\n",
       "      <td>113.0</td>\n",
       "      <td>M</td>\n",
       "      <td>False</td>\n",
       "      <td>0.00</td>\n",
       "      <td>0.209119</td>\n",
       "      <td>0.150609</td>\n",
       "      <td>0.473517</td>\n",
       "      <td>3.270302</td>\n",
       "      <td>DEV</td>\n",
       "    </tr>\n",
       "    <tr>\n",
       "      <th>4</th>\n",
       "      <td>13618-15:93524061</td>\n",
       "      <td>1106</td>\n",
       "      <td>49</td>\n",
       "      <td>73.382222</td>\n",
       "      <td>159.0</td>\n",
       "      <td>F</td>\n",
       "      <td>True</td>\n",
       "      <td>0.25</td>\n",
       "      <td>0.813168</td>\n",
       "      <td>0.610889</td>\n",
       "      <td>0.412643</td>\n",
       "      <td>4.175000</td>\n",
       "      <td>DEV</td>\n",
       "    </tr>\n",
       "  </tbody>\n",
       "</table>\n",
       "</div>"
      ],
      "text/plain": [
       "                 KEY  ENTREZ  NVIQ       PRED    AGE GEND  DOM.TRUNC  \\\n",
       "0  12645-4:114232545     287    84   4.928226   51.0    M       True   \n",
       "1  13768-4:114277600     287    94   7.530656  176.0    M       True   \n",
       "2  14256-4:114251469     287    98  11.144313  183.0    M       True   \n",
       "3  13614-15:93563244    1106    81  13.164656  113.0    M      False   \n",
       "4  13618-15:93524061    1106    49  73.382222  159.0    F       True   \n",
       "\n",
       "   DOM.TRUNC.FRAC  PRENATAL  POSTNATAL  DEV.BIAS   CONSERV  FUNC  \n",
       "0            0.40  0.871835   1.098588 -0.333523  2.840792  NEUR  \n",
       "1            0.20  0.894915   0.575636  0.636595  1.621037  NEUR  \n",
       "2            0.40  0.699788   0.939402 -0.424824  3.604094  NEUR  \n",
       "3            0.00  0.209119   0.150609  0.473517  3.270302   DEV  \n",
       "4            0.25  0.813168   0.610889  0.412643  4.175000   DEV  "
      ]
     },
     "execution_count": 176,
     "metadata": {},
     "output_type": "execute_result"
    }
   ],
   "source": [
    "Jon_features = pd.read_csv(\"unifiedmodel/model-features.csv\")\n",
    "Jon_features = Jon_features[~Jon_features[\"KEY\"].isin(ExcludeList)]\n",
    "Jon_features.head()"
   ]
  },
  {
   "cell_type": "code",
   "execution_count": 177,
   "metadata": {},
   "outputs": [
    {
     "data": {
      "text/html": [
       "<div>\n",
       "<style scoped>\n",
       "    .dataframe tbody tr th:only-of-type {\n",
       "        vertical-align: middle;\n",
       "    }\n",
       "\n",
       "    .dataframe tbody tr th {\n",
       "        vertical-align: top;\n",
       "    }\n",
       "\n",
       "    .dataframe thead th {\n",
       "        text-align: right;\n",
       "    }\n",
       "</style>\n",
       "<table border=\"1\" class=\"dataframe\">\n",
       "  <thead>\n",
       "    <tr style=\"text-align: right;\">\n",
       "      <th></th>\n",
       "      <th>KEY</th>\n",
       "      <th>ENTREZ</th>\n",
       "      <th>NVIQ</th>\n",
       "      <th>PRED</th>\n",
       "      <th>AGE</th>\n",
       "      <th>GEND</th>\n",
       "      <th>DOM.TRUNC</th>\n",
       "      <th>DOM.TRUNC.FRAC</th>\n",
       "      <th>PRENATAL</th>\n",
       "      <th>POSTNATAL</th>\n",
       "      <th>DEV.BIAS</th>\n",
       "      <th>CONSERV</th>\n",
       "      <th>FUNC</th>\n",
       "      <th>GEND2</th>\n",
       "      <th>FUNC2</th>\n",
       "      <th>DOM.TRUNC2</th>\n",
       "    </tr>\n",
       "  </thead>\n",
       "  <tbody>\n",
       "    <tr>\n",
       "      <th>0</th>\n",
       "      <td>12645-4:114232545</td>\n",
       "      <td>287</td>\n",
       "      <td>84</td>\n",
       "      <td>4.928226</td>\n",
       "      <td>51.0</td>\n",
       "      <td>M</td>\n",
       "      <td>True</td>\n",
       "      <td>0.40</td>\n",
       "      <td>0.871835</td>\n",
       "      <td>1.098588</td>\n",
       "      <td>-0.333523</td>\n",
       "      <td>2.840792</td>\n",
       "      <td>NEUR</td>\n",
       "      <td>1</td>\n",
       "      <td>1</td>\n",
       "      <td>1</td>\n",
       "    </tr>\n",
       "    <tr>\n",
       "      <th>1</th>\n",
       "      <td>13768-4:114277600</td>\n",
       "      <td>287</td>\n",
       "      <td>94</td>\n",
       "      <td>7.530656</td>\n",
       "      <td>176.0</td>\n",
       "      <td>M</td>\n",
       "      <td>True</td>\n",
       "      <td>0.20</td>\n",
       "      <td>0.894915</td>\n",
       "      <td>0.575636</td>\n",
       "      <td>0.636595</td>\n",
       "      <td>1.621037</td>\n",
       "      <td>NEUR</td>\n",
       "      <td>1</td>\n",
       "      <td>1</td>\n",
       "      <td>1</td>\n",
       "    </tr>\n",
       "    <tr>\n",
       "      <th>2</th>\n",
       "      <td>14256-4:114251469</td>\n",
       "      <td>287</td>\n",
       "      <td>98</td>\n",
       "      <td>11.144313</td>\n",
       "      <td>183.0</td>\n",
       "      <td>M</td>\n",
       "      <td>True</td>\n",
       "      <td>0.40</td>\n",
       "      <td>0.699788</td>\n",
       "      <td>0.939402</td>\n",
       "      <td>-0.424824</td>\n",
       "      <td>3.604094</td>\n",
       "      <td>NEUR</td>\n",
       "      <td>1</td>\n",
       "      <td>1</td>\n",
       "      <td>1</td>\n",
       "    </tr>\n",
       "    <tr>\n",
       "      <th>3</th>\n",
       "      <td>13614-15:93563244</td>\n",
       "      <td>1106</td>\n",
       "      <td>81</td>\n",
       "      <td>13.164656</td>\n",
       "      <td>113.0</td>\n",
       "      <td>M</td>\n",
       "      <td>False</td>\n",
       "      <td>0.00</td>\n",
       "      <td>0.209119</td>\n",
       "      <td>0.150609</td>\n",
       "      <td>0.473517</td>\n",
       "      <td>3.270302</td>\n",
       "      <td>DEV</td>\n",
       "      <td>1</td>\n",
       "      <td>2</td>\n",
       "      <td>1</td>\n",
       "    </tr>\n",
       "    <tr>\n",
       "      <th>4</th>\n",
       "      <td>13618-15:93524061</td>\n",
       "      <td>1106</td>\n",
       "      <td>49</td>\n",
       "      <td>73.382222</td>\n",
       "      <td>159.0</td>\n",
       "      <td>F</td>\n",
       "      <td>True</td>\n",
       "      <td>0.25</td>\n",
       "      <td>0.813168</td>\n",
       "      <td>0.610889</td>\n",
       "      <td>0.412643</td>\n",
       "      <td>4.175000</td>\n",
       "      <td>DEV</td>\n",
       "      <td>2</td>\n",
       "      <td>2</td>\n",
       "      <td>2</td>\n",
       "    </tr>\n",
       "  </tbody>\n",
       "</table>\n",
       "</div>"
      ],
      "text/plain": [
       "                 KEY  ENTREZ  NVIQ       PRED    AGE GEND  DOM.TRUNC  \\\n",
       "0  12645-4:114232545     287    84   4.928226   51.0    M       True   \n",
       "1  13768-4:114277600     287    94   7.530656  176.0    M       True   \n",
       "2  14256-4:114251469     287    98  11.144313  183.0    M       True   \n",
       "3  13614-15:93563244    1106    81  13.164656  113.0    M      False   \n",
       "4  13618-15:93524061    1106    49  73.382222  159.0    F       True   \n",
       "\n",
       "   DOM.TRUNC.FRAC  PRENATAL  POSTNATAL  DEV.BIAS   CONSERV  FUNC  GEND2  \\\n",
       "0            0.40  0.871835   1.098588 -0.333523  2.840792  NEUR      1   \n",
       "1            0.20  0.894915   0.575636  0.636595  1.621037  NEUR      1   \n",
       "2            0.40  0.699788   0.939402 -0.424824  3.604094  NEUR      1   \n",
       "3            0.00  0.209119   0.150609  0.473517  3.270302   DEV      1   \n",
       "4            0.25  0.813168   0.610889  0.412643  4.175000   DEV      2   \n",
       "\n",
       "   FUNC2  DOM.TRUNC2  \n",
       "0      1           1  \n",
       "1      1           1  \n",
       "2      1           1  \n",
       "3      2           1  \n",
       "4      2           2  "
      ]
     },
     "execution_count": 177,
     "metadata": {},
     "output_type": "execute_result"
    }
   ],
   "source": [
    "def mapgender(row):\n",
    "    if row[\"GEND\"] == \"M\": \n",
    "        return 1\n",
    "    elif row[\"GEND\"] == \"F\":\n",
    "        return 2\n",
    "def mapfunc(row):\n",
    "    if row[\"FUNC\"] == \"NEUR\": \n",
    "        return 1\n",
    "    elif row[\"FUNC\"] == \"DEV\":\n",
    "        return 2\n",
    "    else:\n",
    "        return 0\n",
    "def mapdomain(row):\n",
    "    if row[\"DOM.TRUNC\"] == True: \n",
    "        return 1\n",
    "    elif row[\"DOM.TRUNC\"] == False:\n",
    "        return 2\n",
    "Jon_features[\"GEND2\"] = Jon_features.apply(lambda row:mapgender(row), axis=1)\n",
    "Jon_features[\"FUNC2\"] = Jon_features.apply(lambda row:mapfunc(row), axis=1)\n",
    "Jon_features[\"DOM.TRUNC2\"] = Jon_features.apply(lambda row:mapgender(row), axis=1)\n",
    "#Jon_features[\"effectGene\"] = Jon_features.apply(lambda row:mapgender(row), axis=1)\n",
    "Jon_features.head()"
   ]
  },
  {
   "cell_type": "code",
   "execution_count": 178,
   "metadata": {},
   "outputs": [
    {
     "name": "stdout",
     "output_type": "stream",
     "text": [
      "69.08928571428571\n",
      "(56, 16)\n",
      "13900-14:21895990 57680 27 82.62766745934226 0.4550057791595517\n",
      "14233-14:21859176 57680 19 82.62766745934226 0.4550057791595517\n"
     ]
    },
    {
     "data": {
      "image/png": "[encoded data removed]",
      "text/plain": [
       "<Figure size 480x480 with 1 Axes>"
      ]
     },
     "metadata": {
      "needs_background": "light"
     },
     "output_type": "display_data"
    },
    {
     "name": "stdout",
     "output_type": "stream",
     "text": [
      "32945.050721714324 31307.055555555555 22232.37882653062\n",
      "52 -0.4818500070896563 -0.40817389807139426 -0.05232032003942644\n"
     ]
    }
   ],
   "source": [
    "IQ_diff1, IQ_diff2, IQ_diff3 = [], [], []\n",
    "SSE1, SSE2, SSE3 = 0,0,0\n",
    "avg_IQ = np.mean(Jon_features[\"NVIQ\"].values)\n",
    "print(avg_IQ)\n",
    "N = 0\n",
    "ExcludeList = []\n",
    "print(Jon_features.shape)\n",
    "for i, row in Jon_features.iterrows():\n",
    "    familyId, gene, pred, IQ = row[\"KEY\"], row[\"ENTREZ\"], row[\"PRED\"], row[\"NVIQ\"]\n",
    "    df = Jon_features[(Jon_features[\"ENTREZ\"]==gene) & (Jon_features[\"KEY\"]!=familyId)]\n",
    "    if len(df[\"NVIQ\"].values)<1:\n",
    "        #print(gene)\n",
    "        continue\n",
    "    if abs(IQ - IQpre_dosage) > 50:\n",
    "        print(row[\"KEY\"], gene, IQ, IQpre_dosage, ralexp)\n",
    "        #Variants.at[i, \"Dosage\"] = IQpre_dosage\n",
    "        #ExcludeList.append(familyId)\n",
    "        #continue\n",
    "    IQpre_gene = np.mean(df[\"NVIQ\"].values)\n",
    "    IQ_diff1.append(abs(IQ - (100-pred)))\n",
    "    IQ_diff2.append(abs(IQ - IQpre_gene))\n",
    "    IQ_diff3.append(abs(IQ - 70))\n",
    "    SSE1 += (IQ - IQpre_dosage) ** 2\n",
    "    SSE2 += (IQ - IQpre_gene) ** 2\n",
    "    SSE3 += (IQ - avg_IQ) ** 2\n",
    "    N += 1\n",
    "plt.figure(figsize=(4,4), dpi=120)\n",
    "plt.boxplot([IQ_diff1, IQ_diff2, IQ_diff3], labels = [\"dosamge\", \"gene\", \"mean\"])\n",
    "plt.ylabel(\"Nonverbal IQ difference\")\n",
    "plt.grid(True)\n",
    "plt.show()\n",
    "print(SSE1, SSE2, SSE3)\n",
    "print(N, (1-SSE1/SSE3),(1-SSE2/SSE3),(1-SSE1/SSE2))"
   ]
  },
  {
   "cell_type": "code",
   "execution_count": 179,
   "metadata": {},
   "outputs": [
    {
     "name": "stdout",
     "output_type": "stream",
     "text": [
      "             feature\tspearmanr\t  P_corr\t R2_gene\tR2_mean\n",
      "                PRED\t  -0.373\t4.64e-03\t  0.9232\t0.89190643\n",
      "            PRENATAL\t  -0.196\t1.48e-01\t  0.9412\t0.91722693\n",
      "           POSTNATAL\t  -0.101\t4.61e-01\t  0.9521\t0.93254816\n",
      "            DEV.BIAS\t  -0.077\t5.73e-01\t  0.9600\t0.94364778\n",
      "             CONSERV\t  -0.310\t1.99e-02\t  0.9748\t0.96453596\n",
      "               GEND2\t  -0.164\t2.28e-01\t  0.9769\t0.96743469\n",
      "               FUNC2\t  -0.113\t4.06e-01\t  0.9769\t0.96743622\n",
      "          DOM.TRUNC2\t  -0.164\t2.28e-01\t  0.9769\t0.96743622\n"
     ]
    }
   ],
   "source": [
    "print(\"%20s\\t%8s\\t%8s\\t%8s\\t%.8s\"%(\"feature\", \"spearmanr\", \"P_corr\", \"R2_gene\", \"R2_mean\"))\n",
    "X = np.array(Jon_features[\"PRED\"].values)\n",
    "X = np.reshape(X, (-1,1))\n",
    "Y = np.reshape(np.array(Jon_features[\"NVIQ\"].values), (-1, 1))\n",
    "glm = sm.GLM(Y, X, family=sm.families.Gaussian())\n",
    "res = glm.fit()\n",
    "pred = res.predict(X)\n",
    "r, p = spearmanr(np.array(Jon_features[\"PRED\"]), np.array(Jon_features[\"NVIQ\"]))\n",
    "R2_gene = 1- SSE(pred, Y)/SSE2\n",
    "R2_mean = 1- SSE(pred, Y)/SSE3\n",
    "print(\"%20s\\t%8.3f\\t%8.2e\\t%8.4f\\t%.8f\"%(\"PRED\", r, p, R2_gene, R2_mean))\n",
    "for feature in [\"PRENATAL\",\"POSTNATAL\",\"DEV.BIAS\",\"CONSERV\",\"GEND2\",\"FUNC2\",\"DOM.TRUNC2\"]:\n",
    "    r, p = spearmanr(np.array(Jon_features[feature].values), np.array(Jon_features[\"NVIQ\"].values))\n",
    "    x = np.array(Jon_features[feature].values)\n",
    "    x = np.reshape(x, (-1,1))\n",
    "    X = np.hstack((X, x))\n",
    "    glm = sm.GLM(Y, X, family=sm.families.Gaussian())\n",
    "    res = glm.fit()\n",
    "    pred = res.predict(X)\n",
    "    R2_gene = 1- SSE(pred, Y)/SSE2\n",
    "    R2_mean = 1- SSE(pred, Y)/SSE3\n",
    "    print(\"%20s\\t%8.3f\\t%8.2e\\t%8.4f\\t%.8f\"%(feature, r, p, R2_gene, R2_mean))"
   ]
  },
  {
   "cell_type": "code",
   "execution_count": 180,
   "metadata": {},
   "outputs": [
    {
     "name": "stdout",
     "output_type": "stream",
     "text": [
      "{'12681-12:13722953', '13796-2:162275482', '13903-9:96437988', '11654-14:21871373', '12752-14:21861377', '14200-10:28879674', '12090-10:114910883', '13905-16:89351043', '14030-2:183866862', '13890-21:38865466', '11114-2:166210819', '11872-18:44603833', '14204-10:28899669', '12418-1:202705466', '13618-15:93524061', '14393-6:157510806'}\n",
      "set()\n",
      "40\n"
     ]
    }
   ],
   "source": [
    "Jon_keys = set(Jon_features[\"KEY\"].values)\n",
    "Jiayao_keys = set(Jiayao_features[\"KEY\"].values)\n",
    "print(Jon_keys.difference(Jiayao_keys))\n",
    "print(Jiayao_keys.difference(Jon_keys))\n",
    "common_keys = Jon_keys.intersection(Jiayao_keys)\n",
    "print(len(common_keys))"
   ]
  },
  {
   "cell_type": "code",
   "execution_count": 181,
   "metadata": {},
   "outputs": [
    {
     "ename": "TypeError",
     "evalue": "tuple indices must be integers or slices, not str",
     "output_type": "error",
     "traceback": [
      "\u001b[0;31m---------------------------------------------------------------------------\u001b[0m",
      "\u001b[0;31mTypeError\u001b[0m                                 Traceback (most recent call last)",
      "\u001b[0;32m<ipython-input-181-42da8983bf8a>\u001b[0m in \u001b[0;36m<module>\u001b[0;34m\u001b[0m\n\u001b[1;32m      1\u001b[0m \u001b[0mJiayao_features_common\u001b[0m \u001b[0;34m=\u001b[0m \u001b[0mJiayao_features\u001b[0m\u001b[0;34m[\u001b[0m\u001b[0mJiayao_features\u001b[0m\u001b[0;34m[\u001b[0m\u001b[0;34m\"KEY\"\u001b[0m\u001b[0;34m]\u001b[0m\u001b[0;34m.\u001b[0m\u001b[0misin\u001b[0m\u001b[0;34m(\u001b[0m\u001b[0mcommon_keys\u001b[0m\u001b[0;34m)\u001b[0m\u001b[0;34m]\u001b[0m\u001b[0;34m\u001b[0m\u001b[0;34m\u001b[0m\u001b[0m\n\u001b[1;32m      2\u001b[0m \u001b[0;32mfor\u001b[0m \u001b[0mrow\u001b[0m \u001b[0;32min\u001b[0m \u001b[0mJiayao_features_common\u001b[0m\u001b[0;34m.\u001b[0m\u001b[0miterrows\u001b[0m\u001b[0;34m(\u001b[0m\u001b[0;34m)\u001b[0m\u001b[0;34m:\u001b[0m\u001b[0;34m\u001b[0m\u001b[0;34m\u001b[0m\u001b[0m\n\u001b[0;32m----> 3\u001b[0;31m     \u001b[0mfamilyId\u001b[0m\u001b[0;34m,\u001b[0m \u001b[0mgene\u001b[0m\u001b[0;34m,\u001b[0m \u001b[0mralexp\u001b[0m\u001b[0;34m,\u001b[0m \u001b[0mIQ\u001b[0m \u001b[0;34m=\u001b[0m \u001b[0mrow\u001b[0m\u001b[0;34m[\u001b[0m\u001b[0;34m\"familyId\"\u001b[0m\u001b[0;34m]\u001b[0m\u001b[0;34m,\u001b[0m \u001b[0mrow\u001b[0m\u001b[0;34m[\u001b[0m\u001b[0;34m\"effectGene\"\u001b[0m\u001b[0;34m]\u001b[0m\u001b[0;34m,\u001b[0m \u001b[0mrow\u001b[0m\u001b[0;34m[\u001b[0m\u001b[0;34m\"Rel.exp.amean\"\u001b[0m\u001b[0;34m]\u001b[0m\u001b[0;34m,\u001b[0m \u001b[0mrow\u001b[0m\u001b[0;34m[\u001b[0m\u001b[0;34m\"NVIQ\"\u001b[0m\u001b[0;34m]\u001b[0m\u001b[0;34m\u001b[0m\u001b[0;34m\u001b[0m\u001b[0m\n\u001b[0m\u001b[1;32m      4\u001b[0m     \u001b[0;31m#familyId, gene, ralexp, IQ = row[\"familyId\"], row[\"effectGene\"], row[\"Rel.exp.prenatal\"], row[\"NVIQ\"]\u001b[0m\u001b[0;34m\u001b[0m\u001b[0;34m\u001b[0m\u001b[0;34m\u001b[0m\u001b[0m\n\u001b[1;32m      5\u001b[0m     \u001b[0mdf\u001b[0m \u001b[0;34m=\u001b[0m \u001b[0mVariants\u001b[0m\u001b[0;34m[\u001b[0m\u001b[0;34m(\u001b[0m\u001b[0mVariants\u001b[0m\u001b[0;34m[\u001b[0m\u001b[0;34m\"effectGene\"\u001b[0m\u001b[0;34m]\u001b[0m\u001b[0;34m==\u001b[0m\u001b[0mgene\u001b[0m\u001b[0;34m)\u001b[0m \u001b[0;34m&\u001b[0m \u001b[0;34m(\u001b[0m\u001b[0mVariants\u001b[0m\u001b[0;34m[\u001b[0m\u001b[0;34m\"familyId\"\u001b[0m\u001b[0;34m]\u001b[0m\u001b[0;34m!=\u001b[0m\u001b[0mfamilyId\u001b[0m\u001b[0;34m)\u001b[0m\u001b[0;34m]\u001b[0m\u001b[0;34m\u001b[0m\u001b[0;34m\u001b[0m\u001b[0m\n",
      "\u001b[0;31mTypeError\u001b[0m: tuple indices must be integers or slices, not str"
     ]
    }
   ],
   "source": [
    "Jiayao_features_common = Jiayao_features[Jiayao_features[\"KEY\"].isin(common_keys)]\n",
    "for row in Jiayao_features_common.iterrows():\n",
    "    familyId, gene, ralexp, IQ = row[\"familyId\"], row[\"effectGene\"], row[\"Rel.exp.amean\"], row[\"NVIQ\"]\n",
    "    #familyId, gene, ralexp, IQ = row[\"familyId\"], row[\"effectGene\"], row[\"Rel.exp.prenatal\"], row[\"NVIQ\"]\n",
    "    df = Variants[(Variants[\"effectGene\"]==gene) & (Variants[\"familyId\"]!=familyId)]\n",
    "    IQs = df[\"NVIQ\"].values\n",
    "    IQDiffs = [max(0, (100-x)) for x in IQs]\n",
    "    rel_exps = [x for x in df[\"Rel.exp.amean\"].values]\n",
    "    #rel_exps = [x for x in df[\"Rel.exp.prenatal\"].values] #Rel.exp.prenatal\n",
    "    regr = regGene(rel_exps, IQDiffs)\n",
    "    slope = regr.coef_[0]\n",
    "    IQpre_dosage = max(0, (100 - slope * ralexp))\n",
    "\n",
    "    IQpre_gene = np.mean(IQs)\n",
    "    if abs(IQ - IQpre_dosage) > 50:\n",
    "        print(familyId, IQ, IQpre_dosage, ralexp)\n",
    "        Variants.at[i, \"Dosage\"] = IQpre_dosage\n",
    "        ExcludeList.append(familyId)\n",
    "        continue\n",
    "    Variants.at[i, \"Dosage\"] = IQpre_dosage\n",
    "    IQ_diff1.append(abs(IQ - IQpre_dosage))\n",
    "    IQ_diff2.append(abs(IQ - IQpre_gene))\n",
    "    IQ_diff3.append(abs(IQ - avg_IQ))\n",
    "    SSE1 += (IQ - IQpre_dosage) ** 2\n",
    "    SSE2 += (IQ - IQpre_gene) ** 2\n",
    "    SSE3 += (IQ - avg_IQ) ** 2\n",
    "    N += 1"
   ]
  },
  {
   "cell_type": "code",
   "execution_count": 182,
   "metadata": {},
   "outputs": [
    {
     "data": {
      "text/html": [
       "<div>\n",
       "<style scoped>\n",
       "    .dataframe tbody tr th:only-of-type {\n",
       "        vertical-align: middle;\n",
       "    }\n",
       "\n",
       "    .dataframe tbody tr th {\n",
       "        vertical-align: top;\n",
       "    }\n",
       "\n",
       "    .dataframe thead th {\n",
       "        text-align: right;\n",
       "    }\n",
       "</style>\n",
       "<table border=\"1\" class=\"dataframe\">\n",
       "  <thead>\n",
       "    <tr style=\"text-align: right;\">\n",
       "      <th></th>\n",
       "      <th>KEY</th>\n",
       "      <th>ENTREZ</th>\n",
       "      <th>NVIQ</th>\n",
       "      <th>PRED</th>\n",
       "      <th>AGE</th>\n",
       "      <th>GEND</th>\n",
       "      <th>DOM.TRUNC</th>\n",
       "      <th>DOM.TRUNC.FRAC</th>\n",
       "      <th>PRENATAL</th>\n",
       "      <th>POSTNATAL</th>\n",
       "      <th>DEV.BIAS</th>\n",
       "      <th>CONSERV</th>\n",
       "      <th>FUNC</th>\n",
       "      <th>GEND2</th>\n",
       "      <th>FUNC2</th>\n",
       "      <th>DOM.TRUNC2</th>\n",
       "      <th>famid</th>\n",
       "    </tr>\n",
       "  </thead>\n",
       "  <tbody>\n",
       "  </tbody>\n",
       "</table>\n",
       "</div>"
      ],
      "text/plain": [
       "Empty DataFrame\n",
       "Columns: [KEY, ENTREZ, NVIQ, PRED, AGE, GEND, DOM.TRUNC, DOM.TRUNC.FRAC, PRENATAL, POSTNATAL, DEV.BIAS, CONSERV, FUNC, GEND2, FUNC2, DOM.TRUNC2, famid]\n",
       "Index: []"
      ]
     },
     "execution_count": 182,
     "metadata": {},
     "output_type": "execute_result"
    }
   ],
   "source": [
    "Jon_features[\"famid\"] = Jon_features.apply(lambda row:int(row[\"KEY\"].split(\"-\")[0]), axis=1)\n",
    "Jon_features[Jon_features[\"famid\"].isin(ExcludeList)]"
   ]
  },
  {
   "cell_type": "code",
   "execution_count": 183,
   "metadata": {},
   "outputs": [
    {
     "data": {
      "text/html": [
       "<div>\n",
       "<style scoped>\n",
       "    .dataframe tbody tr th:only-of-type {\n",
       "        vertical-align: middle;\n",
       "    }\n",
       "\n",
       "    .dataframe tbody tr th {\n",
       "        vertical-align: top;\n",
       "    }\n",
       "\n",
       "    .dataframe thead th {\n",
       "        text-align: right;\n",
       "    }\n",
       "</style>\n",
       "<table border=\"1\" class=\"dataframe\">\n",
       "  <thead>\n",
       "    <tr style=\"text-align: right;\">\n",
       "      <th></th>\n",
       "      <th>KEY</th>\n",
       "      <th>familyId</th>\n",
       "      <th>vcfVariant</th>\n",
       "      <th>inChild</th>\n",
       "      <th>effectGene</th>\n",
       "      <th>effectType</th>\n",
       "      <th>gender</th>\n",
       "      <th>FSIQ</th>\n",
       "      <th>VIQ</th>\n",
       "      <th>NVIQ</th>\n",
       "      <th>...</th>\n",
       "      <th>Rel.exp.gmean</th>\n",
       "      <th>Rel.exp.prenatal</th>\n",
       "      <th>Rel.exp.postnatal</th>\n",
       "      <th>Prenatal.Bias</th>\n",
       "      <th>phyloP100way</th>\n",
       "      <th>phastCons100way</th>\n",
       "      <th>gender1</th>\n",
       "      <th>Age</th>\n",
       "      <th>Dosage</th>\n",
       "      <th>GeneCount</th>\n",
       "    </tr>\n",
       "  </thead>\n",
       "  <tbody>\n",
       "  </tbody>\n",
       "</table>\n",
       "<p>0 rows × 33 columns</p>\n",
       "</div>"
      ],
      "text/plain": [
       "Empty DataFrame\n",
       "Columns: [KEY, familyId, vcfVariant, inChild, effectGene, effectType, gender, FSIQ, VIQ, NVIQ, VABS, ExonID, GeneExp.amean, ExonExp.amean, GenePrenatalExp.amean, ExonPrenatalExp.amean, GenePostnatalExp.amean, ExonPostnatalExp.amean, Functional, DOM.TRUNC.FRAC, DOM.TRUNC, GERP, Rel.exp.amean, Rel.exp.gmean, Rel.exp.prenatal, Rel.exp.postnatal, Prenatal.Bias, phyloP100way, phastCons100way, gender1, Age, Dosage, GeneCount]\n",
       "Index: []\n",
       "\n",
       "[0 rows x 33 columns]"
      ]
     },
     "execution_count": 183,
     "metadata": {},
     "output_type": "execute_result"
    }
   ],
   "source": [
    "Jiayao_features[Jiayao_features[\"familyId\"].isin(ExcludeList)]"
   ]
  },
  {
   "cell_type": "code",
   "execution_count": 184,
   "metadata": {},
   "outputs": [
    {
     "name": "stdout",
     "output_type": "stream",
     "text": [
      "[]\n"
     ]
    }
   ],
   "source": [
    "print(ExcludeList)"
   ]
  },
  {
   "cell_type": "code",
   "execution_count": 185,
   "metadata": {},
   "outputs": [
    {
     "name": "stderr",
     "output_type": "stream",
     "text": [
      "/Users/jiayao/anaconda3/lib/python3.7/site-packages/scipy/stats/stats.py:1713: FutureWarning: Using a non-tuple sequence for multidimensional indexing is deprecated; use `arr[tuple(seq)]` instead of `arr[seq]`. In the future this will be interpreted as an array index, `arr[np.array(seq)]`, which will result either in an error or a different result.\n",
      "  return np.add.reduce(sorted[indexer] * weights, axis=axis) / sumval\n",
      "/Users/jiayao/anaconda3/lib/python3.7/site-packages/seaborn/axisgrid.py:1847: UserWarning: JointGrid annotation is deprecated and will be removed in a future release.\n",
      "  warnings.warn(UserWarning(msg))\n"
     ]
    },
    {
     "data": {
      "image/png": "[encoded data removed]",
      "text/plain": [
       "<Figure size 432x432 with 3 Axes>"
      ]
     },
     "metadata": {
      "needs_background": "light"
     },
     "output_type": "display_data"
    }
   ],
   "source": [
    "PredCor = []\n",
    "Jiayao_pre = []\n",
    "Jon_pre = []\n",
    "for key in common_keys:\n",
    "    Jiayao_pre.append(100-Jiayao_features[Jiayao_features[\"KEY\"]==key][\"Dosage\"].values[0])\n",
    "    Jon_pre.append(Jon_features[Jon_features[\"KEY\"]==key][\"PRED\"].values[0])\n",
    "    \n",
    "j = sns.jointplot(x=Jiayao_pre, y=Jon_pre, kind='reg', color=\"black\")\n",
    "j.annotate(pearsonr)\n",
    "plt.xlabel(\"Jiayao\")\n",
    "plt.ylabel(\"Jon\")\n",
    "plt.show()"
   ]
  },
  {
   "cell_type": "code",
   "execution_count": 311,
   "metadata": {},
   "outputs": [],
   "source": [
    "#SameExonIQ\n",
    "Jiayao_features = pd.read_csv(\"unifiedmodel/features.jiayao.65.csv\")\n",
    "SSC_LGD = pd.read_csv(\"unifiedmodel/SSC.LGD.features.csv\")\n",
    "DF = Jiayao_features\n",
    "#DF = SSC_LGD.dropna()\n",
    "#DF = DF[(DF[\"FSIQ\"]!=-1) & (DF[\"VABS\"]!=-1)]\n",
    "#Jiayao_features[\"VABS\"] = Jiayao_features.apply(lambda row:indv2vabs.get(row[\"familyId\"], np.nan), axis=1)"
   ]
  },
  {
   "cell_type": "code",
   "execution_count": 316,
   "metadata": {},
   "outputs": [
    {
     "data": {
      "image/png": "[encoded data removed]",
      "text/plain": [
       "<Figure size 648x288 with 2 Axes>"
      ]
     },
     "metadata": {
      "needs_background": "light"
     },
     "output_type": "display_data"
    }
   ],
   "source": [
    "SameExonPredictions, SameExonTarget, SameExonPredictErr, NewSameExon = SameExonPred(DF, \"NVIQ\")\n",
    "res1, GLM_err1, pred_test1, Y_test1 = llllll(True, DF, NewSameExon, \"NVIQ\")\n",
    "PlotScatter4R2(SameExonPredictions, SameExonTarget,pred_test1,Y_test1,\"NVIQ\")"
   ]
  },
  {
   "cell_type": "code",
   "execution_count": 317,
   "metadata": {},
   "outputs": [
    {
     "data": {
      "image/png": "[encoded data removed]",
      "text/plain": [
       "<Figure size 648x288 with 2 Axes>"
      ]
     },
     "metadata": {
      "needs_background": "light"
     },
     "output_type": "display_data"
    }
   ],
   "source": [
    "SameExonPredictions, SameExonTarget, SameExonPredictErr, NewSameExon = SameExonPred(DF, \"FSIQ\")\n",
    "res1, GLM_err1, pred_test1, Y_test1 = llllll(True, DF, NewSameExon, \"FSIQ\")\n",
    "PlotScatter4R2(SameExonPredictions, SameExonTarget,pred_test1,Y_test1,\"FSIQ\")"
   ]
  },
  {
   "cell_type": "code",
   "execution_count": 318,
   "metadata": {},
   "outputs": [
    {
     "data": {
      "image/png": "[encoded data removed]",
      "text/plain": [
       "<Figure size 648x288 with 2 Axes>"
      ]
     },
     "metadata": {
      "needs_background": "light"
     },
     "output_type": "display_data"
    }
   ],
   "source": [
    "SameExonPredictions, SameExonTarget, SameExonPredictErr, NewSameExon = SameExonPred(DF, \"VIQ\")\n",
    "res1, GLM_err1, pred_test1, Y_test1 = llllll(True, DF, NewSameExon, \"VIQ\")\n",
    "PlotScatter4R2(SameExonPredictions, SameExonTarget,pred_test1,Y_test1,\"VIQ\")"
   ]
  },
  {
   "cell_type": "code",
   "execution_count": 323,
   "metadata": {},
   "outputs": [
    {
     "name": "stdout",
     "output_type": "stream",
     "text": [
      "6.875\n",
      "5.211168323889446\n"
     ]
    },
    {
     "data": {
      "image/png": "[encoded data removed]",
      "text/plain": [
       "<Figure size 648x288 with 2 Axes>"
      ]
     },
     "metadata": {
      "needs_background": "light"
     },
     "output_type": "display_data"
    }
   ],
   "source": [
    "SameExonPredictions, SameExonTarget, SameExonPredictErr, NewSameExon = SameExonPred(DF, \"VABS\")\n",
    "print(np.mean(SameExonPredictErr))\n",
    "res1, GLM_err1, pred_test1, Y_test1 = llllll(True, DF, NewSameExon, \"VABS\")\n",
    "print(np.mean(GLM_err1))\n",
    "PlotScatter4R2(SameExonPredictions, SameExonTarget,pred_test1,Y_test1,\"VABS\")"
   ]
  },
  {
   "cell_type": "code",
   "execution_count": 321,
   "metadata": {},
   "outputs": [
    {
     "data": {
      "text/html": [
       "<table class=\"simpletable\">\n",
       "<caption>Generalized Linear Model Regression Results</caption>\n",
       "<tr>\n",
       "  <th>Dep. Variable:</th>          <td>y</td>        <th>  No. Observations:  </th>  <td>    49</td>  \n",
       "</tr>\n",
       "<tr>\n",
       "  <th>Model:</th>                 <td>GLM</td>       <th>  Df Residuals:      </th>  <td>    43</td>  \n",
       "</tr>\n",
       "<tr>\n",
       "  <th>Model Family:</th>       <td>Gaussian</td>     <th>  Df Model:          </th>  <td>     5</td>  \n",
       "</tr>\n",
       "<tr>\n",
       "  <th>Link Function:</th>      <td>identity</td>     <th>  Scale:             </th> <td>  128.19</td> \n",
       "</tr>\n",
       "<tr>\n",
       "  <th>Method:</th>               <td>IRLS</td>       <th>  Log-Likelihood:    </th> <td> -185.24</td> \n",
       "</tr>\n",
       "<tr>\n",
       "  <th>Date:</th>           <td>Mon, 08 Jul 2019</td> <th>  Deviance:          </th> <td>  5512.0</td> \n",
       "</tr>\n",
       "<tr>\n",
       "  <th>Time:</th>               <td>20:48:34</td>     <th>  Pearson chi2:      </th> <td>5.51e+03</td> \n",
       "</tr>\n",
       "<tr>\n",
       "  <th>No. Iterations:</th>         <td>3</td>        <th>  Covariance Type:   </th> <td>nonrobust</td>\n",
       "</tr>\n",
       "</table>\n",
       "<table class=\"simpletable\">\n",
       "<tr>\n",
       "    <td></td>       <th>coef</th>     <th>std err</th>      <th>z</th>      <th>P>|z|</th>  <th>[0.025</th>    <th>0.975]</th>  \n",
       "</tr>\n",
       "<tr>\n",
       "  <th>const</th> <td>   77.7997</td> <td>    6.479</td> <td>   12.009</td> <td> 0.000</td> <td>   65.102</td> <td>   90.498</td>\n",
       "</tr>\n",
       "<tr>\n",
       "  <th>x1</th>    <td>   -0.1476</td> <td>    0.149</td> <td>   -0.990</td> <td> 0.322</td> <td>   -0.440</td> <td>    0.145</td>\n",
       "</tr>\n",
       "<tr>\n",
       "  <th>x2</th>    <td>    0.1095</td> <td>    0.208</td> <td>    0.527</td> <td> 0.598</td> <td>   -0.298</td> <td>    0.517</td>\n",
       "</tr>\n",
       "<tr>\n",
       "  <th>x3</th>    <td>   -1.5007</td> <td>    1.002</td> <td>   -1.498</td> <td> 0.134</td> <td>   -3.464</td> <td>    0.463</td>\n",
       "</tr>\n",
       "<tr>\n",
       "  <th>x4</th>    <td>   -2.6849</td> <td>    2.330</td> <td>   -1.152</td> <td> 0.249</td> <td>   -7.251</td> <td>    1.881</td>\n",
       "</tr>\n",
       "<tr>\n",
       "  <th>x5</th>    <td>    0.0577</td> <td>    4.401</td> <td>    0.013</td> <td> 0.990</td> <td>   -8.569</td> <td>    8.684</td>\n",
       "</tr>\n",
       "</table>"
      ],
      "text/plain": [
       "<class 'statsmodels.iolib.summary.Summary'>\n",
       "\"\"\"\n",
       "                 Generalized Linear Model Regression Results                  \n",
       "==============================================================================\n",
       "Dep. Variable:                      y   No. Observations:                   49\n",
       "Model:                            GLM   Df Residuals:                       43\n",
       "Model Family:                Gaussian   Df Model:                            5\n",
       "Link Function:               identity   Scale:                          128.19\n",
       "Method:                          IRLS   Log-Likelihood:                -185.24\n",
       "Date:                Mon, 08 Jul 2019   Deviance:                       5512.0\n",
       "Time:                        20:48:34   Pearson chi2:                 5.51e+03\n",
       "No. Iterations:                     3   Covariance Type:             nonrobust\n",
       "==============================================================================\n",
       "                 coef    std err          z      P>|z|      [0.025      0.975]\n",
       "------------------------------------------------------------------------------\n",
       "const         77.7997      6.479     12.009      0.000      65.102      90.498\n",
       "x1            -0.1476      0.149     -0.990      0.322      -0.440       0.145\n",
       "x2             0.1095      0.208      0.527      0.598      -0.298       0.517\n",
       "x3            -1.5007      1.002     -1.498      0.134      -3.464       0.463\n",
       "x4            -2.6849      2.330     -1.152      0.249      -7.251       1.881\n",
       "x5             0.0577      4.401      0.013      0.990      -8.569       8.684\n",
       "==============================================================================\n",
       "\"\"\""
      ]
     },
     "execution_count": 321,
     "metadata": {},
     "output_type": "execute_result"
    }
   ],
   "source": [
    "res1.summary()"
   ]
  },
  {
   "cell_type": "code",
   "execution_count": null,
   "metadata": {},
   "outputs": [],
   "source": []
  }
 ],
 "metadata": {
  "kernelspec": {
   "display_name": "Python 3",
   "language": "python",
   "name": "python3"
  },
  "language_info": {
   "codemirror_mode": {
    "name": "ipython",
    "version": 3
   },
   "file_extension": ".py",
   "mimetype": "text/x-python",
   "name": "python",
   "nbconvert_exporter": "python",
   "pygments_lexer": "ipython3",
   "version": "3.7.1"
  }
 },
 "nbformat": 4,
 "nbformat_minor": 2
}
