{
 "cells": [
  {
   "cell_type": "code",
   "execution_count": 81,
   "metadata": {},
   "outputs": [
    {
     "name": "stdout",
     "output_type": "stream",
     "text": [
      "The autoreload extension is already loaded. To reload it, use:\n",
      "  %reload_ext autoreload\n"
     ]
    }
   ],
   "source": [
    "%load_ext autoreload\n",
    "%autoreload 2\n",
    "from utils import *\n",
    "from IPython.display import display, HTML\n",
    "ins = BrainSpan()"
   ]
  },
  {
   "cell_type": "code",
   "execution_count": 82,
   "metadata": {},
   "outputs": [],
   "source": [
    "#DIR = \"/Users/jiayao/Work/BrainDisorders/VIP_phenotype/Simons_VIP_Phase_2_Single_Gene_Dataset_v5.0\"\n",
    "DIR = \"/Users/jiayao/Work/BrainDisorders/VIP_phenotype/Simons_Searchlight_Single_Gene_Dataset_v6.0\"\n",
    "VABS_DF, LGD_DF = LoadVIPSingleGeneData(DIR)\n",
    "LGD_DF[\"HGVS\"] = LGD_DF.apply(lambda row:addHGVS(row, Gene2Trans), axis=1)\n",
    "LGD_DF.to_csv(\"data/SVIP.V6.Genes.HGVS.tsv\", sep=\"\\t\", index=False)\n",
    "#CleanUpSVIPVEPData()"
   ]
  },
  {
   "cell_type": "code",
   "execution_count": 83,
   "metadata": {},
   "outputs": [],
   "source": [
    "Gene2Trans = LoadGenCodeTrans()\n",
    "Transcripts = [x for x in Gene2Trans.values()]\n",
    "SSC = LoadSSCCohort()"
   ]
  },
  {
   "cell_type": "code",
   "execution_count": 89,
   "metadata": {},
   "outputs": [],
   "source": [
    "VABS_DF = AnnotateVEP2VABSDF(VABS_DF, LGD_DF, Gene2Trans, VEP)\n",
    "VABS_DF.to_csv(\"data/svip.V6.recgenes.withlocation.csv\", index=False)"
   ]
  },
  {
   "cell_type": "code",
   "execution_count": 90,
   "metadata": {},
   "outputs": [
    {
     "name": "stdout",
     "output_type": "stream",
     "text": [
      "(191, 6)\n",
      "(135, 6)\n"
     ]
    }
   ],
   "source": [
    "VIP_VABS = pd.read_csv(\"data/svip.V6.recgenes.withlocation.csv\")\n",
    "sfari_id2vabs = {}\n",
    "for sfari_id in VIP_VABS[\"sfari_id\"].values:\n",
    "    tmpdf = VIP_VABS[VIP_VABS[\"sfari_id\"]==sfari_id]\n",
    "    vabs = np.mean(tmpdf[\"composite_standard_score\"].values)\n",
    "    sfari_id2vabs[sfari_id] = vabs\n",
    "print(VIP_VABS.shape)\n",
    "VIP_VABS = VIP_VABS.drop_duplicates(subset=\"sfari_id\", keep=\"first\")\n",
    "#VIP_VABS.head(2)\n",
    "print(VIP_VABS.shape)\n",
    "VIP_VABS[\"composite_standard_score\"] = VIP_VABS.apply(lambda row:sfari_id2vabs[row[\"sfari_id\"]], axis=1)\n",
    "VIP_VABS[\"Cohort\"] = \"VIP\""
   ]
  },
  {
   "cell_type": "code",
   "execution_count": 91,
   "metadata": {},
   "outputs": [
    {
     "name": "stderr",
     "output_type": "stream",
     "text": [
      "/Users/jiayao/anaconda3/lib/python3.7/site-packages/ipykernel_launcher.py:1: FutureWarning: Sorting because non-concatenation axis is not aligned. A future version\n",
      "of pandas will change to not sort by default.\n",
      "\n",
      "To accept the future behavior, pass 'sort=False'.\n",
      "\n",
      "To retain the current behavior and silence the warning, pass 'sort=True'.\n",
      "\n",
      "  \"\"\"Entry point for launching an IPython kernel.\n"
     ]
    }
   ],
   "source": [
    "VABS = pd.concat([SSC, VIP_VABS])\n",
    "VABS = VABS[VABS[\"inheritance_status\"]==\"de-novo\"]\n",
    "#VABS = VABS.dropna()\n",
    "VABS = VABS.reset_index(drop=True)"
   ]
  },
  {
   "cell_type": "code",
   "execution_count": 93,
   "metadata": {},
   "outputs": [],
   "source": [
    "Genes = {}\n",
    "hand = open(\"unifiedmodel/VIPgenes.gencode.v19.gtf\", 'rt')\n",
    "for l in hand:\n",
    "    if l.startswith(\"#\"):\n",
    "        continue\n",
    "    llist = l.strip().split(\"\\t\")\n",
    "    info = gtf_info_parser(llist[8]) \n",
    "    CHR = llist[0].lstrip(\"chr\")\n",
    "    strand = llist[6]\n",
    "    start = int(llist[3])\n",
    "    end = int(llist[4])\n",
    "    if llist[2] == \"gene\":\n",
    "        gene_name = info[\"gene_name\"]\n",
    "        gene_id = info[\"gene_id\"]\n",
    "        Genes[gene_name] = GTFGene(gene_name, gene_id, strand)\n",
    "    elif llist[2] == \"transcript\":\n",
    "        gene_name = info[\"gene_name\"]\n",
    "        gene_id = info[\"gene_id\"]\n",
    "        transcript_name = info[\"transcript_id\"]\n",
    "        transcript_id = info[\"transcript_id\"]\n",
    "        transcript_type = info[\"transcript_type\"]\n",
    "        if transcript_id not in Genes[gene_name].Transcripts and transcript_type==\"protein_coding\" and transcript_id in selectedTrans:\n",
    "            Genes[gene_name].Transcripts[transcript_id] = GTFTranscript(gene_name, transcript_name, transcript_id, strand)\n",
    "    elif llist[2] == \"exon\":\n",
    "        gene_name = info[\"gene_name\"]\n",
    "        gene_id = info[\"gene_id\"]\n",
    "        exon_id = info[\"exon_id\"]\n",
    "        transcript_name = info[\"transcript_id\"]\n",
    "        transcript_id = info[\"transcript_id\"]\n",
    "        transcript_type = info[\"transcript_type\"]\n",
    "        if transcript_type==\"protein_coding\" and transcript_id in selectedTrans:\n",
    "            exon= GTFExon(exon_id, start, end, transcript_id, strand)\n",
    "            #Genes[gene_name].Transcripts[transcript_id].Exons.append(exon)\n",
    "            Genes[gene_name].Transcripts[transcript_id].Exons[exon_id] = exon\n",
    "            "
   ]
  },
  {
   "cell_type": "code",
   "execution_count": 101,
   "metadata": {},
   "outputs": [
    {
     "name": "stdout",
     "output_type": "stream",
     "text": [
      "(93567602, 93571237) (93563433, 93563488)\n",
      "(93567602, 93571237) (93563433, 93563488)\n",
      "(93567602, 93571237) (93563433, 93563488)\n",
      "(93567602, 93571237) (93563433, 93563488)\n",
      "(93567602, 93571237) (93563433, 93563488)\n"
     ]
    }
   ],
   "source": [
    "def searchExon(Gene, Location, Genes):\n",
    "    Chr, interval = Location.split(\":\")\n",
    "    Start, End = interval.split(\"-\")\n",
    "    Pos, LenV = int(Start), int(End)-int(Start)\n",
    "    gene_obj = Genes[Gene]\n",
    "    _Exons, Transcripts = [],[]\n",
    "    #print(Location, Pos, LenV)\n",
    "    islej = \"F\"\n",
    "    for transid, transobj in gene_obj.Transcripts.items():\n",
    "        if transid not in selectedTrans:\n",
    "            continue\n",
    "        transobj.SortExons()\n",
    "        for exon in transobj.ExonSeq:\n",
    "            if Pos > exon.start -3 and Pos < exon.end +3:\n",
    "                _Exons.append(exon.ExonID)\n",
    "                Transcripts.append(transid)\n",
    "                break\n",
    "            elif LenV > 0:\n",
    "                if (Pos < exon.start-3 and Pos + LenV > exon.start ) or (Pos < exon.end and Pos + LenV > exon.end +3):\n",
    "                    _Exons.append(exon.ExonID)\n",
    "                    Transcripts.append(transid)\n",
    "                    break\n",
    "    for transid, transobj in gene_obj.Transcripts.items():\n",
    "        if len(transobj.Exons) >= 2:\n",
    "            interval1, interval2 = transobj.LastExonJunction()\n",
    "            if Gene==\"CHD2\":\n",
    "                print(interval1, interval2)\n",
    "            if (Pos > interval1[0] and Pos < interval1[1]):\n",
    "                islej = \"T\"\n",
    "            elif (Pos > interval2[0] and Pos < interval2[1]):\n",
    "                islej = \"T\"\n",
    "    if len(list(set(_Exons))) == 0:\n",
    "        return \"NA\", \"NA\", \"NA\"\n",
    "    else:\n",
    "        return list(set(_Exons))[0], list(set(Transcripts))[0], islej\n",
    "\n",
    "\n",
    "VABS[\"Exons\"] = \"\"\n",
    "VABS[\"Transcripts\"] = \"\"\n",
    "#VABS = VABS[VABS[\"Cohort\"]==\"VIP\"]\n",
    "VABS = VABS[VABS[\"genetic_status\"].isin(SVIPGenes)]\n",
    "for i, row in VABS.iterrows():\n",
    "    famid, gene, location = row[\"sfari_id\"], row[\"genetic_status\"], row[\"location\"]\n",
    "    ExonIDs, TranscriptIDs, islej = searchExon(gene, location, Genes)\n",
    "    VABS.at[i, \"Exons\"] = ExonIDs\n",
    "    VABS.at[i, \"Transcripts\"] = TranscriptIDs\n",
    "    VABS.at[i, \"isLEJ\"] = islej\n",
    "VABS = VABS.dropna()"
   ]
  },
  {
   "cell_type": "code",
   "execution_count": 102,
   "metadata": {},
   "outputs": [
    {
     "data": {
      "text/html": [
       "<div>\n",
       "<style scoped>\n",
       "    .dataframe tbody tr th:only-of-type {\n",
       "        vertical-align: middle;\n",
       "    }\n",
       "\n",
       "    .dataframe tbody tr th {\n",
       "        vertical-align: top;\n",
       "    }\n",
       "\n",
       "    .dataframe thead th {\n",
       "        text-align: right;\n",
       "    }\n",
       "</style>\n",
       "<table border=\"1\" class=\"dataframe\">\n",
       "  <thead>\n",
       "    <tr style=\"text-align: right;\">\n",
       "      <th></th>\n",
       "      <th>Cohort</th>\n",
       "      <th>composite_standard_score</th>\n",
       "      <th>genetic_status</th>\n",
       "      <th>inheritance_status</th>\n",
       "      <th>location</th>\n",
       "      <th>sex</th>\n",
       "      <th>sfari_id</th>\n",
       "      <th>Exons</th>\n",
       "      <th>Transcripts</th>\n",
       "      <th>isLEJ</th>\n",
       "    </tr>\n",
       "  </thead>\n",
       "  <tbody>\n",
       "    <tr>\n",
       "      <th>0</th>\n",
       "      <td>SSC</td>\n",
       "      <td>53.0</td>\n",
       "      <td>ADNP</td>\n",
       "      <td>de-novo</td>\n",
       "      <td>20:49509094-49509094</td>\n",
       "      <td>M</td>\n",
       "      <td>13545</td>\n",
       "      <td>ENSE00001455631.1</td>\n",
       "      <td>ENST00000396029.3</td>\n",
       "      <td>T</td>\n",
       "    </tr>\n",
       "    <tr>\n",
       "      <th>1</th>\n",
       "      <td>SSC</td>\n",
       "      <td>67.0</td>\n",
       "      <td>ADNP</td>\n",
       "      <td>de-novo</td>\n",
       "      <td>20:49510027-49510029</td>\n",
       "      <td>F</td>\n",
       "      <td>12130</td>\n",
       "      <td>ENSE00001455631.1</td>\n",
       "      <td>ENST00000396029.3</td>\n",
       "      <td>T</td>\n",
       "    </tr>\n",
       "  </tbody>\n",
       "</table>\n",
       "</div>"
      ],
      "text/plain": [
       "  Cohort  composite_standard_score genetic_status inheritance_status  \\\n",
       "0    SSC                      53.0           ADNP            de-novo   \n",
       "1    SSC                      67.0           ADNP            de-novo   \n",
       "\n",
       "               location sex sfari_id              Exons        Transcripts  \\\n",
       "0  20:49509094-49509094   M    13545  ENSE00001455631.1  ENST00000396029.3   \n",
       "1  20:49510027-49510029   F    12130  ENSE00001455631.1  ENST00000396029.3   \n",
       "\n",
       "  isLEJ  \n",
       "0     T  \n",
       "1     T  "
      ]
     },
     "execution_count": 102,
     "metadata": {},
     "output_type": "execute_result"
    }
   ],
   "source": [
    "VABS2 = VABS[VABS[\"isLEJ\"]==\"T\"]\n",
    "VABS.head(2)"
   ]
  },
  {
   "cell_type": "code",
   "execution_count": 126,
   "metadata": {},
   "outputs": [],
   "source": [
    "res = {}\n",
    "#VABS2 = VABS[~VABS[\"sfari_id\"].isin([\"16159-x1\", \"16171-x1\"])]\n",
    "for gene in RecGenes:\n",
    "    res[gene] = {}\n",
    "    res[gene][\"SameExon\"] = []\n",
    "    res[gene][\"SameExonSameGender\"] = []\n",
    "    res[gene][\"DiffExon\"] = []\n",
    "    #df = VABS2[VABS2[\"genetic_status\"]==gene]\n",
    "    df = VABS[VABS[\"genetic_status\"]==gene]\n",
    "    #df = VABS[(VABS[\"genetic_status\"]==gene)&(VABS[\"isLEJ\"]!=\"T\")]\n",
    "    for row1, row2 in itertools.combinations(df.iterrows(), r=2):\n",
    "        row1,row2 = row1[1], row2[1]\n",
    "        score1 = row1[\"composite_standard_score\"]\n",
    "        score2 = row2[\"composite_standard_score\"]\n",
    "        if row1[\"Exons\"] == row2[\"Exons\"]:\n",
    "            if row1[\"isLEJ\"] == \"T\" or row2[\"isLEJ\"] == \"T\":\n",
    "                continue\n",
    "            res[gene][\"SameExon\"].append( abs(score1-score2) )\n",
    "            if row1[\"sex\"] == row2[\"sex\"]:\n",
    "                res[gene][\"SameExonSameGender\"].append( abs(score1-score2) )\n",
    "        else:\n",
    "            res[gene][\"DiffExon\"].append( abs(score1-score2) )"
   ]
  },
  {
   "cell_type": "code",
   "execution_count": 145,
   "metadata": {},
   "outputs": [
    {
     "name": "stdout",
     "output_type": "stream",
     "text": [
      "[5.0, 20.0, 12.0, 9.0, 14.0, 13.0, 34.0, 22.25, 18.0, 27.0, 25.0, 17.0, 14.0, 19.0, 18.0, 39.0, 27.25, 23.0, 32.0, 8.0, 11.0, 6.0, 7.0, 14.0, 2.25, 2.0, 7.0, 3.0, 2.0, 1.0, 22.0, 10.25, 6.0, 15.0, 5.0, 4.0, 25.0, 13.25, 9.0, 18.0, 1.0, 20.0, 8.25, 4.0, 13.0, 21.0, 9.25, 5.0, 14.0, 11.75, 16.0, 7.0, 4.25, 4.75, 9.0]\n",
      "[5.0, 20.0, 12.0, 9.0, 14.0, 13.0, 34.0, 22.25, 18.0, 27.0, 25.0, 17.0, 14.0, 19.0, 18.0, 39.0, 27.25, 23.0, 32.0, 8.0, 11.0, 6.0, 7.0, 14.0, 2.25, 2.0, 7.0, 3.0, 2.0, 1.0, 22.0, 10.25, 6.0, 15.0, 5.0, 4.0, 25.0, 13.25, 9.0, 18.0, 1.0, 20.0, 8.25, 4.0, 13.0, 21.0, 9.25, 5.0, 14.0, 11.75, 16.0, 7.0, 4.25, 4.75, 9.0]\n"
     ]
    }
   ],
   "source": [
    "print(res[\"ASXL3\"][\"SameExonSameGender\"])\n",
    "print(res[\"ASXL3\"][\"SameExon\"])"
   ]
  },
  {
   "cell_type": "code",
   "execution_count": 165,
   "metadata": {},
   "outputs": [
    {
     "name": "stdout",
     "output_type": "stream",
     "text": [
      "    SameExonVABSDiff\t       NSameExonPair\tSameExonSameGenderVABSDiff\tNSameExonSameGenderPair\tSameGeneVABSDiff\tNSameGenePair\t\n",
      "ASXL3\t13.23\t55\t13.23\t55\t15.49\t165\n",
      "CHD2\t3.50\t2\t2.00\t1\t15.38\t8\n",
      "CHD8\t11.00\t1\tnan\t0\t12.75\t20\n",
      "DSCAM\t1.00\t1\t1.00\t1\t12.50\t2\n",
      "DYRK1A\t12.83\t6\t14.00\t3\t17.32\t22\n",
      "FOXP1\t7.78\t3\t1.17\t1\t10.24\t7\n",
      "HIVEP2\t5.67\t3\t8.50\t1\t16.00\t7\n",
      "SCN2A\t9.75\t12\t5.87\t5\t13.23\t178\n",
      "STXBP1\t18.00\t1\tnan\t0\t12.89\t9\n",
      "SYNGAP1\t2.33\t1\t2.33\t1\t13.85\t35\n",
      "[13.227272727272727, 3.5, 11.0, 1.0, 12.833333333333334, 7.777777777777781, 5.666666666666667, 9.75, 18.0, 2.3333333333333357] [15.488383838383841, 15.375, 12.75, 12.5, 17.318181818181817, 10.238095238095237, 16.0, 13.228464419475657, 12.88888888888889, 13.847619047619048]\n",
      "WilcoxonResult(statistic=6.0, pvalue=0.02841686417486375)\n",
      "WilcoxonResult(statistic=0.0, pvalue=0.011718685599768628)\n",
      "['ADNP', 'CHAMP1', 'CSNK2A1', 'GRIN2B', 'HNRNPH2', 'MED13L', 'PACS1', 'PPP2R5D', 'SETBP1']\n",
      "7.011047979797981 14.24946804521945\n"
     ]
    },
    {
     "name": "stderr",
     "output_type": "stream",
     "text": [
      "/Users/jiayao/anaconda3/lib/python3.7/site-packages/scipy/stats/morestats.py:2388: UserWarning: Warning: sample size too small for normal approximation.\n",
      "  warnings.warn(\"Warning: sample size too small for normal approximation.\")\n"
     ]
    }
   ],
   "source": [
    "SameExonMeans, DiffExonMeans, SameExonSameGenderMeans, DiffExonMeans2 = [],[],[],[]\n",
    "print(\"%20s\\t%20s\\t%s\\t%s\\t%s\\t%s\\t\"%(\"SameExonVABSDiff\", \"NSameExonPair\",\"SameExonSameGenderVABSDiff\",\n",
    "                                            \"NSameExonSameGenderPair\",\"SameGeneVABSDiff\", \"NSameGenePair\"))\n",
    "ExcludedGene = []\n",
    "Mean1, Mean2 = [],[]\n",
    "for gene in RecGenes:\n",
    "    SameExon = res[gene][\"SameExon\"]\n",
    "    SameExonSameGender = res[gene][\"SameExonSameGender\"]\n",
    "    DiffExon = res[gene][\"DiffExon\"]\n",
    "    if len(SameExon) == 0 or len(DiffExon) == 0:\n",
    "        ExcludedGene.append(gene)\n",
    "        continue\n",
    "    SameExonMeans.append(np.mean(SameExon))\n",
    "    DiffExonMeans.append(np.mean(DiffExon))\n",
    "    if len(SameExonSameGender) != 0:\n",
    "        SameExonSameGenderMeans.append(np.mean(SameExonSameGender))\n",
    "        DiffExonMeans2.append(np.mean(DiffExon))\n",
    "        Mean1.append(np.mean(SameExon))\n",
    "        Mean2.append(np.mean(DiffExon))\n",
    "    print(\"%s\\t%.2f\\t%d\\t%.2f\\t%d\\t%.2f\\t%d\"%(gene, np.mean(SameExon), len(SameExon), np.mean(SameExonSameGender), \n",
    "                                    len(SameExonSameGender), np.mean(DiffExon), len(DiffExon)))\n",
    "\n",
    "print(SameExonMeans, DiffExonMeans)\n",
    "print(scipy.stats.wilcoxon(SameExonMeans, DiffExonMeans))\n",
    "print(scipy.stats.wilcoxon(SameExonSameGenderMeans, DiffExonMeans2))\n",
    "print(ExcludedGene)\n",
    "print(np.mean(Mean1), np.mean(Mean2))"
   ]
  },
  {
   "cell_type": "code",
   "execution_count": null,
   "metadata": {},
   "outputs": [],
   "source": []
  },
  {
   "cell_type": "code",
   "execution_count": null,
   "metadata": {},
   "outputs": [],
   "source": [
    "print(scipy.stats.mannwhitneyu(SameExon, SameGene))\n",
    "ind = np.arange(4)  # the x locations for the groups\n",
    "width = 0.35  # the width of the bars\n",
    "fig, ax = plt.subplots(dpi=80)\n",
    "rects = ax.bar(ind, Dat, width, yerr=Err,)"
   ]
  },
  {
   "cell_type": "code",
   "execution_count": 146,
   "metadata": {},
   "outputs": [
    {
     "data": {
      "text/html": [
       "<div>\n",
       "<style scoped>\n",
       "    .dataframe tbody tr th:only-of-type {\n",
       "        vertical-align: middle;\n",
       "    }\n",
       "\n",
       "    .dataframe tbody tr th {\n",
       "        vertical-align: top;\n",
       "    }\n",
       "\n",
       "    .dataframe thead th {\n",
       "        text-align: right;\n",
       "    }\n",
       "</style>\n",
       "<table border=\"1\" class=\"dataframe\">\n",
       "  <thead>\n",
       "    <tr style=\"text-align: right;\">\n",
       "      <th></th>\n",
       "      <th>Cohort</th>\n",
       "      <th>composite_standard_score</th>\n",
       "      <th>genetic_status</th>\n",
       "      <th>inheritance_status</th>\n",
       "      <th>location</th>\n",
       "      <th>sex</th>\n",
       "      <th>sfari_id</th>\n",
       "      <th>Exons</th>\n",
       "      <th>Transcripts</th>\n",
       "      <th>isLEJ</th>\n",
       "    </tr>\n",
       "  </thead>\n",
       "  <tbody>\n",
       "    <tr>\n",
       "      <th>66</th>\n",
       "      <td>VIP</td>\n",
       "      <td>37.00</td>\n",
       "      <td>ASXL3</td>\n",
       "      <td>de-novo</td>\n",
       "      <td>18:31319345-31319349</td>\n",
       "      <td>F</td>\n",
       "      <td>16159-x1</td>\n",
       "      <td>ENSE00003631966.1</td>\n",
       "      <td>ENST00000269197.5</td>\n",
       "      <td>F</td>\n",
       "    </tr>\n",
       "    <tr>\n",
       "      <th>67</th>\n",
       "      <td>VIP</td>\n",
       "      <td>32.00</td>\n",
       "      <td>ASXL3</td>\n",
       "      <td>de-novo</td>\n",
       "      <td>18:31318721-31318722</td>\n",
       "      <td>F</td>\n",
       "      <td>16171-x1</td>\n",
       "      <td>ENSE00003631966.1</td>\n",
       "      <td>ENST00000269197.5</td>\n",
       "      <td>F</td>\n",
       "    </tr>\n",
       "    <tr>\n",
       "      <th>68</th>\n",
       "      <td>VIP</td>\n",
       "      <td>57.00</td>\n",
       "      <td>ASXL3</td>\n",
       "      <td>de-novo</td>\n",
       "      <td>18:31318559-31318563</td>\n",
       "      <td>F</td>\n",
       "      <td>16179-x1</td>\n",
       "      <td>ENSE00003631966.1</td>\n",
       "      <td>ENST00000269197.5</td>\n",
       "      <td>F</td>\n",
       "    </tr>\n",
       "    <tr>\n",
       "      <th>70</th>\n",
       "      <td>VIP</td>\n",
       "      <td>49.00</td>\n",
       "      <td>ASXL3</td>\n",
       "      <td>de-novo</td>\n",
       "      <td>18:31318839-31318839</td>\n",
       "      <td>F</td>\n",
       "      <td>16188-x1</td>\n",
       "      <td>ENSE00003631966.1</td>\n",
       "      <td>ENST00000269197.5</td>\n",
       "      <td>F</td>\n",
       "    </tr>\n",
       "    <tr>\n",
       "      <th>72</th>\n",
       "      <td>VIP</td>\n",
       "      <td>46.00</td>\n",
       "      <td>ASXL3</td>\n",
       "      <td>de-novo</td>\n",
       "      <td>18:31319216-31319218</td>\n",
       "      <td>F</td>\n",
       "      <td>16207-x1</td>\n",
       "      <td>ENSE00003631966.1</td>\n",
       "      <td>ENST00000269197.5</td>\n",
       "      <td>F</td>\n",
       "    </tr>\n",
       "    <tr>\n",
       "      <th>73</th>\n",
       "      <td>VIP</td>\n",
       "      <td>51.00</td>\n",
       "      <td>ASXL3</td>\n",
       "      <td>de-novo</td>\n",
       "      <td>18:31318575-31318575</td>\n",
       "      <td>F</td>\n",
       "      <td>16221-x2</td>\n",
       "      <td>ENSE00003631966.1</td>\n",
       "      <td>ENST00000269197.5</td>\n",
       "      <td>F</td>\n",
       "    </tr>\n",
       "    <tr>\n",
       "      <th>77</th>\n",
       "      <td>VIP</td>\n",
       "      <td>50.00</td>\n",
       "      <td>ASXL3</td>\n",
       "      <td>de-novo</td>\n",
       "      <td>18:31319188-31319189</td>\n",
       "      <td>F</td>\n",
       "      <td>16248-x1</td>\n",
       "      <td>ENSE00003631966.1</td>\n",
       "      <td>ENST00000269197.5</td>\n",
       "      <td>F</td>\n",
       "    </tr>\n",
       "    <tr>\n",
       "      <th>81</th>\n",
       "      <td>VIP</td>\n",
       "      <td>71.00</td>\n",
       "      <td>ASXL3</td>\n",
       "      <td>de-novo</td>\n",
       "      <td>18:31318903-31318903</td>\n",
       "      <td>F</td>\n",
       "      <td>16745-x1</td>\n",
       "      <td>ENSE00003631966.1</td>\n",
       "      <td>ENST00000269197.5</td>\n",
       "      <td>F</td>\n",
       "    </tr>\n",
       "    <tr>\n",
       "      <th>82</th>\n",
       "      <td>VIP</td>\n",
       "      <td>59.25</td>\n",
       "      <td>ASXL3</td>\n",
       "      <td>de-novo</td>\n",
       "      <td>18:31319345-31319349</td>\n",
       "      <td>F</td>\n",
       "      <td>15215-x1</td>\n",
       "      <td>ENSE00003631966.1</td>\n",
       "      <td>ENST00000269197.5</td>\n",
       "      <td>F</td>\n",
       "    </tr>\n",
       "    <tr>\n",
       "      <th>83</th>\n",
       "      <td>VIP</td>\n",
       "      <td>55.00</td>\n",
       "      <td>ASXL3</td>\n",
       "      <td>de-novo</td>\n",
       "      <td>18:31318846-31318848</td>\n",
       "      <td>F</td>\n",
       "      <td>15234-x1</td>\n",
       "      <td>ENSE00003631966.1</td>\n",
       "      <td>ENST00000269197.5</td>\n",
       "      <td>F</td>\n",
       "    </tr>\n",
       "    <tr>\n",
       "      <th>84</th>\n",
       "      <td>VIP</td>\n",
       "      <td>64.00</td>\n",
       "      <td>ASXL3</td>\n",
       "      <td>de-novo</td>\n",
       "      <td>18:31319307-31319307</td>\n",
       "      <td>F</td>\n",
       "      <td>15452-x1</td>\n",
       "      <td>ENSE00003631966.1</td>\n",
       "      <td>ENST00000269197.5</td>\n",
       "      <td>F</td>\n",
       "    </tr>\n",
       "  </tbody>\n",
       "</table>\n",
       "</div>"
      ],
      "text/plain": [
       "   Cohort  composite_standard_score genetic_status inheritance_status  \\\n",
       "66    VIP                     37.00          ASXL3            de-novo   \n",
       "67    VIP                     32.00          ASXL3            de-novo   \n",
       "68    VIP                     57.00          ASXL3            de-novo   \n",
       "70    VIP                     49.00          ASXL3            de-novo   \n",
       "72    VIP                     46.00          ASXL3            de-novo   \n",
       "73    VIP                     51.00          ASXL3            de-novo   \n",
       "77    VIP                     50.00          ASXL3            de-novo   \n",
       "81    VIP                     71.00          ASXL3            de-novo   \n",
       "82    VIP                     59.25          ASXL3            de-novo   \n",
       "83    VIP                     55.00          ASXL3            de-novo   \n",
       "84    VIP                     64.00          ASXL3            de-novo   \n",
       "\n",
       "                location sex  sfari_id              Exons        Transcripts  \\\n",
       "66  18:31319345-31319349   F  16159-x1  ENSE00003631966.1  ENST00000269197.5   \n",
       "67  18:31318721-31318722   F  16171-x1  ENSE00003631966.1  ENST00000269197.5   \n",
       "68  18:31318559-31318563   F  16179-x1  ENSE00003631966.1  ENST00000269197.5   \n",
       "70  18:31318839-31318839   F  16188-x1  ENSE00003631966.1  ENST00000269197.5   \n",
       "72  18:31319216-31319218   F  16207-x1  ENSE00003631966.1  ENST00000269197.5   \n",
       "73  18:31318575-31318575   F  16221-x2  ENSE00003631966.1  ENST00000269197.5   \n",
       "77  18:31319188-31319189   F  16248-x1  ENSE00003631966.1  ENST00000269197.5   \n",
       "81  18:31318903-31318903   F  16745-x1  ENSE00003631966.1  ENST00000269197.5   \n",
       "82  18:31319345-31319349   F  15215-x1  ENSE00003631966.1  ENST00000269197.5   \n",
       "83  18:31318846-31318848   F  15234-x1  ENSE00003631966.1  ENST00000269197.5   \n",
       "84  18:31319307-31319307   F  15452-x1  ENSE00003631966.1  ENST00000269197.5   \n",
       "\n",
       "   isLEJ  \n",
       "66     F  \n",
       "67     F  \n",
       "68     F  \n",
       "70     F  \n",
       "72     F  \n",
       "73     F  \n",
       "77     F  \n",
       "81     F  \n",
       "82     F  \n",
       "83     F  \n",
       "84     F  "
      ]
     },
     "execution_count": 146,
     "metadata": {},
     "output_type": "execute_result"
    }
   ],
   "source": [
    "VABS[(VABS[\"genetic_status\"]==\"ASXL3\")&(VABS[\"isLEJ\"]==\"F\")]\n",
    "#VABS[VABS[\"genetic_status\"]==\"STXBP1\"]"
   ]
  },
  {
   "cell_type": "code",
   "execution_count": 156,
   "metadata": {},
   "outputs": [
    {
     "data": {
      "text/plain": [
       "<matplotlib.axes._subplots.AxesSubplot at 0x1c222a7cf8>"
      ]
     },
     "execution_count": 156,
     "metadata": {},
     "output_type": "execute_result"
    },
    {
     "data": {
      "image/png": "[encoded data removed]",
      "text/plain": [
       "<Figure size 432x288 with 1 Axes>"
      ]
     },
     "metadata": {
      "needs_background": "light"
     },
     "output_type": "display_data"
    }
   ],
   "source": [
    "Gene = \"ASXL3\"\n",
    "#Gene = \"DYRK1A\"\n",
    "#Gene = \"SCN2A\"\n",
    "VABS[(VABS[\"genetic_status\"]==Gene)&(VABS[\"isLEJ\"]==\"F\")][\"composite_standard_score\"].hist()"
   ]
  },
  {
   "cell_type": "code",
   "execution_count": 157,
   "metadata": {},
   "outputs": [
    {
     "data": {
      "image/png": "[encoded data removed]",
      "text/plain": [
       "<Figure size 432x288 with 1 Axes>"
      ]
     },
     "metadata": {
      "needs_background": "light"
     },
     "output_type": "display_data"
    }
   ],
   "source": [
    "plt.hist(res[Gene][\"SameExon\"])\n",
    "plt.grid(True)"
   ]
  },
  {
   "cell_type": "code",
   "execution_count": 106,
   "metadata": {},
   "outputs": [],
   "source": [
    "DFF = VABS[VABS[\"isLEJ\"]==\"F\"]"
   ]
  },
  {
   "cell_type": "code",
   "execution_count": 131,
   "metadata": {},
   "outputs": [],
   "source": [
    "SameExon = []\n",
    "SameExonSameGender = []\n",
    "SameGene = []\n",
    "ALLPairs = []\n",
    "#Test = VABS[VABS[\"genetic_status\"]!=\"ASXL3\"]\n",
    "Test = DFF[DFF[\"Cohort\"]==\"VIP\"]\n",
    "#Test = DFF[(DFF[\"Cohort\"]==\"VIP\")&(DFF[\"genetic_status\"]!=\"ASXL3\")]\n",
    "for row1, row2 in itertools.combinations(Test.iterrows(), r=2):\n",
    "    row1,row2 = row1[1], row2[1]\n",
    "    score1 = row1[\"composite_standard_score\"]\n",
    "    score2 = row2[\"composite_standard_score\"]\n",
    "    diff = abs(score1-score2)\n",
    "    ALLPairs.append(diff)\n",
    "    if row1[\"genetic_status\"] == row2[\"genetic_status\"]:\n",
    "        SameGene.append(diff)\n",
    "        if row1[\"Exons\"] == row2[\"Exons\"]:\n",
    "            if row1[\"isLEJ\"] == \"T\" or row2[\"isLEJ\"] == \"T\":\n",
    "                continue\n",
    "            SameExon.append(diff)\n",
    "            if row1[\"sex\"] == row2[\"sex\"]:\n",
    "                SameExonSameGender.append(diff)"
   ]
  },
  {
   "cell_type": "code",
   "execution_count": 158,
   "metadata": {},
   "outputs": [],
   "source": [
    "SameExon = []\n",
    "SameExonSameGender = []\n",
    "SameGene = []\n",
    "ALLPairs = []\n",
    "#Test = VABS[VABS[\"genetic_status\"]!=\"ASXL3\"]\n",
    "#Test = DFF[DFF[\"Cohort\"]==\"VIP\"]\n",
    "Test = DFF[(DFF[\"Cohort\"]==\"VIP\")&(DFF[\"genetic_status\"]!=\"ASXL3\")]\n",
    "for row1, row2 in itertools.combinations(Test.iterrows(), r=2):\n",
    "    row1,row2 = row1[1], row2[1]\n",
    "    score1 = row1[\"composite_standard_score\"]\n",
    "    score2 = row2[\"composite_standard_score\"]\n",
    "    diff = abs(score1-score2)\n",
    "    ALLPairs.append(diff)\n",
    "    \n",
    "    if row1[\"Exons\"] == row2[\"Exons\"]:\n",
    "        if row1[\"isLEJ\"] == \"T\" or row2[\"isLEJ\"] == \"T\":\n",
    "            continue\n",
    "        SameExon.append(diff)\n",
    "        if row1[\"sex\"] == row2[\"sex\"]:\n",
    "            SameExonSameGender.append(diff)\n",
    "    elif row1[\"genetic_status\"] == row2[\"genetic_status\"]:\n",
    "        SameGene.append(diff)"
   ]
  },
  {
   "cell_type": "code",
   "execution_count": 159,
   "metadata": {},
   "outputs": [],
   "source": [
    "Seq = [SameExonSameGender, SameExon, SameGene, ALLPairs]\n",
    "Dat = [np.mean(x) for x in Seq]\n",
    "Err = [np.std(x)/math.sqrt(len(x)) for x in Seq]"
   ]
  },
  {
   "cell_type": "code",
   "execution_count": 160,
   "metadata": {},
   "outputs": [
    {
     "name": "stdout",
     "output_type": "stream",
     "text": [
      "MannwhitneyuResult(statistic=2093.5, pvalue=0.001124496361039905)\n"
     ]
    },
    {
     "data": {
      "image/png": "[encoded data removed]",
      "text/plain": [
       "<Figure size 480x320 with 1 Axes>"
      ]
     },
     "metadata": {
      "needs_background": "light"
     },
     "output_type": "display_data"
    }
   ],
   "source": [
    "print(scipy.stats.mannwhitneyu(SameExon, SameGene))\n",
    "ind = np.arange(4)  # the x locations for the groups\n",
    "width = 0.35  # the width of the bars\n",
    "fig, ax = plt.subplots(dpi=80)\n",
    "rects = ax.bar(ind, Dat, width, yerr=Err,)\n",
    "ax.set_ylabel('')\n",
    "ax.set_title('')\n",
    "ax.set_xticks(ind)\n",
    "ax.set_xticklabels([\"SameExonGender\", \"SameExon\", \"SameGene\", \"AllPairs\"])\n",
    "fig.tight_layout()\n",
    "plt.xticks(rotation=0)\n",
    "plt.show()"
   ]
  },
  {
   "cell_type": "code",
   "execution_count": null,
   "metadata": {},
   "outputs": [],
   "source": []
  }
 ],
 "metadata": {
  "kernelspec": {
   "display_name": "Python 3",
   "language": "python",
   "name": "python3"
  },
  "language_info": {
   "codemirror_mode": {
    "name": "ipython",
    "version": 3
   },
   "file_extension": ".py",
   "mimetype": "text/x-python",
   "name": "python",
   "nbconvert_exporter": "python",
   "pygments_lexer": "ipython3",
   "version": "3.7.1"
  }
 },
 "nbformat": 4,
 "nbformat_minor": 2
}
