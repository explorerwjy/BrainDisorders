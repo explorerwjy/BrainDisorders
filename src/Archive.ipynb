{
 "cells": [
  {
   "cell_type": "code",
   "execution_count": null,
   "metadata": {
    "collapsed": true
   },
   "outputs": [],
   "source": [
    "Coding = [\"coding\", \"coding-near-splice\", \"coding-unknown\", \"codingComplex\",\"codingComplex-near-splice\",\n",
    "          \"frameshift\", \"frameshift-near-splice\", \"missense\", \"missense-near-splice\",\n",
    "          \"non-coding-exon\", \"non-coding-exon-near-splice\", \"splice-acceptor\", \"splice-donor\",\n",
    "          \"start-lost\", \"stop-gained\", \"stop-gained-near-splice\", \"stop-lost\"]\n",
    "nonssc = pd.read_csv(\"../data/DenovoVariants/denovo-db.non-ssc-samples.variants.tsv\", delimiter=\"\\t\", header=1)\n",
    "ExonicAutsimNonSSC = nonssc[(nonssc[\"PrimaryPhenotype\"]==\"autism\") & (nonssc[\"FunctionClass\"].isin(Coding))]\n",
    "ExonicAutsimNonSSC.head()\n",
    "ssc = pd.read_csv(\"../data/DenovoVariants/denovo-db.ssc-samples.variants.tsv\", delimiter=\"\\t\", header=1)\n",
    "ExonicAutismSSC = ssc[(ssc[\"PrimaryPhenotype\"]==\"autism\") & (ssc[\"FunctionClass\"].isin(Coding))]\n",
    "ExonicAutismSSC.head()\n",
    "df = pd.concat([ExonicAutsimNonSSC, ExonicAutismSSC])\n",
    "df.to_csv(\"../data/DenovoVariants/ALL.Autism.Coding.csv\", index=False)"
   ]
  },
  {
   "cell_type": "code",
   "execution_count": null,
   "metadata": {
    "collapsed": true
   },
   "outputs": [],
   "source": [
    "AutismVars = pd.read_csv(\"../data/DenovoVariants/ALL.Autism.Coding.csv\")\n",
    "AutismVars = AutismVars.drop_duplicates([\"#SampleID\",\"Chr\",\"Position\"])\n",
    "AutismVars = AutismVars[ (AutismVars[\"CaddScore\"]>15) | (AutismVars[\"CaddScore\"]==-1)]\n",
    "GeneCount = AutismVars.groupby(\"Gene\")[\"Gene\"].count()\n",
    "AutismVars.insert(list(df.columns.values).index(\"Gene\")+1, \"GeneCount\", AutismVars.apply\n",
    "                 (lambda row: GeneCount[row[\"Gene\"]], axis=1), allow_duplicates=False )\n",
    "AutismVars = AutismVars.sort_values(['GeneCount', 'Gene'], ascending=[0, 0])\n",
    "AutismVars.to_csv(\"../data/DenovoVariants/tmp.csv\", index=False)"
   ]
  },
  {
   "cell_type": "code",
   "execution_count": null,
   "metadata": {
    "collapsed": true
   },
   "outputs": [],
   "source": [
    "bp_exon_row_meta[bp_exon_row_meta[\"gene_symbol\"]==\"CHD8\"].tail(2)\n",
    "Look(\"CHD8\", \"STC\", bp_exon_row_meta, bp_exon_col_meta, NormExonExp)\n",
    "Regions = [\"OFC\", \"VFC\", \"ITC\", \"DFC\", \"STC\", \"MFC\", \"AMY\"]\n",
    "LookGrid(\"CHD8\", Regions, bp_exon_row_meta, bp_exon_col_meta, NormExonExp)"
   ]
  },
  {
   "cell_type": "code",
   "execution_count": null,
   "metadata": {
    "collapsed": true
   },
   "outputs": [],
   "source": [
    "#Look2(\"DYRK1A\", \"OFC\", GeneRow, GeneCol, GeneExp)\n",
    "Regions = [\"OFC\", \"VFC\", \"ITC\", \"DFC\", \"STC\", \"MFC\", \"AMY\"]\n",
    "#Regions = [\"OFC\", \"VFC\", \"ITC\", \"DFC\", \"STC\", \"MFC\"]\n",
    "LookGrid(\"CHD8\", Regionsgt20, GeneRow, GeneCol, GeneExp, smooth=True)"
   ]
  },
  {
   "cell_type": "code",
   "execution_count": null,
   "metadata": {
    "collapsed": true
   },
   "outputs": [],
   "source": [
    "Regions = [\"OFC\", \"VFC\", \"ITC\", \"DFC\", \"STC\", \"MFC\"]\n",
    "LookGridSumRegion(\"DYRK1A\", Regions, bp_exon_row_meta, bp_exon_col_meta, NormExonExp)"
   ]
  },
  {
   "cell_type": "code",
   "execution_count": null,
   "metadata": {
    "collapsed": true
   },
   "outputs": [],
   "source": [
    "selected_exons = list(bp_exon_row_meta_with_var[\"row_num\"])\n",
    "Notselected_exons = list(bp_exon_row_meta_without_var[\"row_num\"])\n",
    "Select_UnSelect = dict(zip([\"Targeted\", \"Untargeted\"],[(\"r\", selected_exons),(\"b\", Notselected_exons)]))\n",
    "ins.LookALLMutationTargetedExon3(Select_UnSelect, Regionsgt20, bp_exon_row_meta, \n",
    "                                      bp_exon_col_meta, ExonExp)"
   ]
  },
  {
   "cell_type": "code",
   "execution_count": null,
   "metadata": {
    "collapsed": true
   },
   "outputs": [],
   "source": [
    "selected_exons = list(bp_exon_row_meta_with_var[\"row_num\"])\n",
    "Notselected_exons = list(bp_exon_row_meta_without_var[\"row_num\"].sample(107))\n",
    "Select_UnSelect = dict(zip([\"Targeted\", \"Untargeted\"],[(\"r\", selected_exons),(\"b\", Notselected_exons)]))\n",
    "ins.LookALLMutationTargetedExon3(Select_UnSelect, Regionsgt20, bp_exon_row_meta, \n",
    "                                      bp_exon_col_meta, ExonExp)"
   ]
  }
 ],
 "metadata": {
  "kernelspec": {
   "display_name": "Python 2",
   "language": "python",
   "name": "python2"
  },
  "language_info": {
   "codemirror_mode": {
    "name": "ipython",
    "version": 2
   },
   "file_extension": ".py",
   "mimetype": "text/x-python",
   "name": "python",
   "nbconvert_exporter": "python",
   "pygments_lexer": "ipython2",
   "version": "2.7.13"
  }
 },
 "nbformat": 4,
 "nbformat_minor": 2
}
