{
 "cells": [
  {
   "cell_type": "code",
   "execution_count": 25,
   "metadata": {},
   "outputs": [
    {
     "name": "stdout",
     "output_type": "stream",
     "text": [
      "The autoreload extension is already loaded. To reload it, use:\n",
      "  %reload_ext autoreload\n"
     ]
    }
   ],
   "source": [
    "%load_ext autoreload\n",
    "%autoreload 2\n",
    "from utils import *\n",
    "from IPython.display import display, HTML\n",
    "import os"
   ]
  },
  {
   "cell_type": "code",
   "execution_count": 2,
   "metadata": {},
   "outputs": [],
   "source": [
    "#CollectASECount()\n",
    "#SEVERE_IMPACT=SYNONYMOUS_VARIANT;SEVERE_GENE=ENSG00000057252;SEVERE_GENE_NAME=SOAT1"
   ]
  },
  {
   "cell_type": "code",
   "execution_count": 3,
   "metadata": {},
   "outputs": [],
   "source": [
    "GTEX_ASE = pd.read_csv(\"data/GTEX_ASE.Anno.tsv\", delimiter=\"\\t\")"
   ]
  },
  {
   "cell_type": "code",
   "execution_count": 4,
   "metadata": {},
   "outputs": [],
   "source": [
    "set(GTEX_ASE[\"SEVERE_IMPACT\"].values)\n",
    "LGDs = ['FRAMESHIFT_VARIANT', 'SPLICE_ACCEPTOR_VARIANT', 'SPLICE_DONOR_VARIANT', 'STOP_GAINED']"
   ]
  },
  {
   "cell_type": "code",
   "execution_count": 5,
   "metadata": {},
   "outputs": [],
   "source": [
    "GTEX_ASE_LGD = GTEX_ASE[GTEX_ASE[\"SEVERE_IMPACT\"].isin(LGDs)]\n",
    "GENES_WITH_LGD = set(GTEX_ASE_LGD[\"SEVERE_GENE_NAME\"].values)\n",
    "GTEX_ASE_SYN = GTEX_ASE[(GTEX_ASE[\"SEVERE_IMPACT\"]==\"SYNONYMOUS_VARIANT\") & \n",
    "                        (GTEX_ASE[\"SEVERE_GENE_NAME\"].isin(GENES_WITH_LGD))]"
   ]
  },
  {
   "cell_type": "code",
   "execution_count": 6,
   "metadata": {},
   "outputs": [],
   "source": [
    "GTEX_ASE_LGD.to_csv(\"NMD_model/GTEx.ASE.LGD.tsv\", index=False, sep=\"\\t\")\n",
    "GTEX_ASE_SYN.to_csv(\"NMD_model/GTEX_ASE.SYN.tsv\", index=False, sep=\"\\t\")"
   ]
  },
  {
   "cell_type": "code",
   "execution_count": 7,
   "metadata": {},
   "outputs": [],
   "source": [
    "Samples = pd.read_csv(\"../data/GTEx/GTEx_v7_Annotations_SampleAttributesDS.txt\", delimiter=\"\\t\")"
   ]
  },
  {
   "cell_type": "code",
   "execution_count": 8,
   "metadata": {},
   "outputs": [
    {
     "data": {
      "text/html": [
       "<div>\n",
       "<style scoped>\n",
       "    .dataframe tbody tr th:only-of-type {\n",
       "        vertical-align: middle;\n",
       "    }\n",
       "\n",
       "    .dataframe tbody tr th {\n",
       "        vertical-align: top;\n",
       "    }\n",
       "\n",
       "    .dataframe thead th {\n",
       "        text-align: right;\n",
       "    }\n",
       "</style>\n",
       "<table border=\"1\" class=\"dataframe\">\n",
       "  <thead>\n",
       "    <tr style=\"text-align: right;\">\n",
       "      <th></th>\n",
       "      <th>SAMPID</th>\n",
       "      <th>SMATSSCR</th>\n",
       "      <th>SMCENTER</th>\n",
       "      <th>SMPTHNTS</th>\n",
       "      <th>SMRIN</th>\n",
       "      <th>SMTS</th>\n",
       "      <th>SMTSD</th>\n",
       "      <th>SMUBRID</th>\n",
       "      <th>SMTSISCH</th>\n",
       "      <th>SMTSPAX</th>\n",
       "      <th>...</th>\n",
       "      <th>SME1ANTI</th>\n",
       "      <th>SMSPLTRD</th>\n",
       "      <th>SMBSMMRT</th>\n",
       "      <th>SME1SNSE</th>\n",
       "      <th>SME1PCTS</th>\n",
       "      <th>SMRRNART</th>\n",
       "      <th>SME1MPRT</th>\n",
       "      <th>SMNUM5CD</th>\n",
       "      <th>SMDPMPRT</th>\n",
       "      <th>SME2PCTS</th>\n",
       "    </tr>\n",
       "  </thead>\n",
       "  <tbody>\n",
       "    <tr>\n",
       "      <th>0</th>\n",
       "      <td>GTEX-1117F-0003-SM-58Q7G</td>\n",
       "      <td>NaN</td>\n",
       "      <td>B1</td>\n",
       "      <td>NaN</td>\n",
       "      <td>NaN</td>\n",
       "      <td>Blood</td>\n",
       "      <td>Whole Blood</td>\n",
       "      <td>13756</td>\n",
       "      <td>1188.0</td>\n",
       "      <td>NaN</td>\n",
       "      <td>...</td>\n",
       "      <td>NaN</td>\n",
       "      <td>NaN</td>\n",
       "      <td>NaN</td>\n",
       "      <td>NaN</td>\n",
       "      <td>NaN</td>\n",
       "      <td>NaN</td>\n",
       "      <td>NaN</td>\n",
       "      <td>NaN</td>\n",
       "      <td>NaN</td>\n",
       "      <td>NaN</td>\n",
       "    </tr>\n",
       "    <tr>\n",
       "      <th>1</th>\n",
       "      <td>GTEX-1117F-0003-SM-5DWSB</td>\n",
       "      <td>NaN</td>\n",
       "      <td>B1</td>\n",
       "      <td>NaN</td>\n",
       "      <td>NaN</td>\n",
       "      <td>Blood</td>\n",
       "      <td>Whole Blood</td>\n",
       "      <td>13756</td>\n",
       "      <td>1188.0</td>\n",
       "      <td>NaN</td>\n",
       "      <td>...</td>\n",
       "      <td>NaN</td>\n",
       "      <td>NaN</td>\n",
       "      <td>NaN</td>\n",
       "      <td>NaN</td>\n",
       "      <td>NaN</td>\n",
       "      <td>NaN</td>\n",
       "      <td>NaN</td>\n",
       "      <td>NaN</td>\n",
       "      <td>NaN</td>\n",
       "      <td>NaN</td>\n",
       "    </tr>\n",
       "  </tbody>\n",
       "</table>\n",
       "<p>2 rows × 63 columns</p>\n",
       "</div>"
      ],
      "text/plain": [
       "                     SAMPID  SMATSSCR SMCENTER SMPTHNTS  SMRIN   SMTS  \\\n",
       "0  GTEX-1117F-0003-SM-58Q7G       NaN       B1      NaN    NaN  Blood   \n",
       "1  GTEX-1117F-0003-SM-5DWSB       NaN       B1      NaN    NaN  Blood   \n",
       "\n",
       "         SMTSD SMUBRID  SMTSISCH  SMTSPAX    ...    SME1ANTI SMSPLTRD  \\\n",
       "0  Whole Blood   13756    1188.0      NaN    ...         NaN      NaN   \n",
       "1  Whole Blood   13756    1188.0      NaN    ...         NaN      NaN   \n",
       "\n",
       "  SMBSMMRT SME1SNSE SME1PCTS SMRRNART SME1MPRT SMNUM5CD  SMDPMPRT  SME2PCTS  \n",
       "0      NaN      NaN      NaN      NaN      NaN      NaN       NaN       NaN  \n",
       "1      NaN      NaN      NaN      NaN      NaN      NaN       NaN       NaN  \n",
       "\n",
       "[2 rows x 63 columns]"
      ]
     },
     "execution_count": 8,
     "metadata": {},
     "output_type": "execute_result"
    }
   ],
   "source": [
    "Samples.head(2)"
   ]
  },
  {
   "cell_type": "code",
   "execution_count": 50,
   "metadata": {},
   "outputs": [
    {
     "name": "stdout",
     "output_type": "stream",
     "text": [
      "['Adipose Tissue', 'Adrenal Gland', 'Bladder', 'Blood', 'Blood Vessel', 'Bone Marrow', 'Brain', 'Breast', 'Cervix Uteri', 'Colon', 'Esophagus', 'Fallopian Tube', 'Heart', 'Kidney', 'Liver', 'Lung', 'Muscle', 'Nerve', 'Ovary', 'Pancreas', 'Pituitary', 'Prostate', 'Salivary Gland', 'Skin', 'Small Intestine', 'Spleen', 'Stomach', 'Testis', 'Thyroid', 'Uterus', 'Vagina']\n"
     ]
    }
   ],
   "source": [
    "print(sorted(list(set(Samples[\"SMTS\"].values))))"
   ]
  },
  {
   "cell_type": "code",
   "execution_count": 9,
   "metadata": {},
   "outputs": [],
   "source": [
    "for i, row in Samples.iterrows():\n",
    "    SAMPID = row[\"SAMPID\"]\n",
    "    DONER = SAMPID.split(\"-\")[1]\n",
    "    SMTS = row[\"SMTS\"]\n",
    "    SMTSD = row[\"SMTSD\"]"
   ]
  },
  {
   "cell_type": "code",
   "execution_count": 10,
   "metadata": {},
   "outputs": [
    {
     "data": {
      "text/html": [
       "<div>\n",
       "<style scoped>\n",
       "    .dataframe tbody tr th:only-of-type {\n",
       "        vertical-align: middle;\n",
       "    }\n",
       "\n",
       "    .dataframe tbody tr th {\n",
       "        vertical-align: top;\n",
       "    }\n",
       "\n",
       "    .dataframe thead th {\n",
       "        text-align: right;\n",
       "    }\n",
       "</style>\n",
       "<table border=\"1\" class=\"dataframe\">\n",
       "  <thead>\n",
       "    <tr style=\"text-align: right;\">\n",
       "      <th></th>\n",
       "      <th>SAMPLE</th>\n",
       "      <th>ID</th>\n",
       "      <th>INFO</th>\n",
       "      <th>NREF</th>\n",
       "      <th>NALT</th>\n",
       "      <th>SEVERE_IMPACT</th>\n",
       "      <th>SEVERE_GENE</th>\n",
       "      <th>SEVERE_GENE_NAME</th>\n",
       "    </tr>\n",
       "  </thead>\n",
       "  <tbody>\n",
       "    <tr>\n",
       "      <th>52</th>\n",
       "      <td>GTEX-T6MN-0226-SM-5S2SO</td>\n",
       "      <td>snp_7_100552738</td>\n",
       "      <td>7_100552738_C_T</td>\n",
       "      <td>8</td>\n",
       "      <td>0</td>\n",
       "      <td>STOP_GAINED</td>\n",
       "      <td>ENSG00000169894</td>\n",
       "      <td>MUC3A</td>\n",
       "    </tr>\n",
       "    <tr>\n",
       "      <th>99</th>\n",
       "      <td>GTEX-S32W-0326-SM-5S2T4</td>\n",
       "      <td>snp_8_52733231</td>\n",
       "      <td>8_52733231_G_A</td>\n",
       "      <td>36</td>\n",
       "      <td>0</td>\n",
       "      <td>STOP_GAINED</td>\n",
       "      <td>ENSG00000168300</td>\n",
       "      <td>PCMTD1</td>\n",
       "    </tr>\n",
       "    <tr>\n",
       "      <th>182</th>\n",
       "      <td>GTEX-S32W-0726-SM-5S2T3</td>\n",
       "      <td>snp_8_52733231</td>\n",
       "      <td>8_52733231_G_A</td>\n",
       "      <td>23</td>\n",
       "      <td>0</td>\n",
       "      <td>STOP_GAINED</td>\n",
       "      <td>ENSG00000168300</td>\n",
       "      <td>PCMTD1</td>\n",
       "    </tr>\n",
       "    <tr>\n",
       "      <th>312</th>\n",
       "      <td>GTEX-S32W-2226-SM-5S2S7</td>\n",
       "      <td>snp_8_52733231</td>\n",
       "      <td>8_52733231_G_A</td>\n",
       "      <td>8</td>\n",
       "      <td>0</td>\n",
       "      <td>STOP_GAINED</td>\n",
       "      <td>ENSG00000168300</td>\n",
       "      <td>PCMTD1</td>\n",
       "    </tr>\n",
       "    <tr>\n",
       "      <th>451</th>\n",
       "      <td>GTEX-WFON-0426-SM-5S2T1</td>\n",
       "      <td>snp_21_44323720</td>\n",
       "      <td>21_44323720_C_T</td>\n",
       "      <td>13</td>\n",
       "      <td>12</td>\n",
       "      <td>STOP_GAINED</td>\n",
       "      <td>ENSG00000160194</td>\n",
       "      <td>NDUFV3</td>\n",
       "    </tr>\n",
       "  </tbody>\n",
       "</table>\n",
       "</div>"
      ],
      "text/plain": [
       "                      SAMPLE               ID             INFO  NREF  NALT  \\\n",
       "52   GTEX-T6MN-0226-SM-5S2SO  snp_7_100552738  7_100552738_C_T     8     0   \n",
       "99   GTEX-S32W-0326-SM-5S2T4   snp_8_52733231   8_52733231_G_A    36     0   \n",
       "182  GTEX-S32W-0726-SM-5S2T3   snp_8_52733231   8_52733231_G_A    23     0   \n",
       "312  GTEX-S32W-2226-SM-5S2S7   snp_8_52733231   8_52733231_G_A     8     0   \n",
       "451  GTEX-WFON-0426-SM-5S2T1  snp_21_44323720  21_44323720_C_T    13    12   \n",
       "\n",
       "    SEVERE_IMPACT      SEVERE_GENE SEVERE_GENE_NAME  \n",
       "52    STOP_GAINED  ENSG00000169894            MUC3A  \n",
       "99    STOP_GAINED  ENSG00000168300           PCMTD1  \n",
       "182   STOP_GAINED  ENSG00000168300           PCMTD1  \n",
       "312   STOP_GAINED  ENSG00000168300           PCMTD1  \n",
       "451   STOP_GAINED  ENSG00000160194           NDUFV3  "
      ]
     },
     "execution_count": 10,
     "metadata": {},
     "output_type": "execute_result"
    }
   ],
   "source": [
    "GTEX_ASE_LGD.head()"
   ]
  },
  {
   "cell_type": "code",
   "execution_count": 11,
   "metadata": {},
   "outputs": [
    {
     "name": "stdout",
     "output_type": "stream",
     "text": [
      "1543\n"
     ]
    }
   ],
   "source": [
    "GENES_WITH_LGD = list(GENES_WITH_LGD)\n",
    "print(len(GENES_WITH_LGD))"
   ]
  },
  {
   "cell_type": "code",
   "execution_count": 46,
   "metadata": {},
   "outputs": [
    {
     "data": {
      "text/html": [
       "<div>\n",
       "<style scoped>\n",
       "    .dataframe tbody tr th:only-of-type {\n",
       "        vertical-align: middle;\n",
       "    }\n",
       "\n",
       "    .dataframe tbody tr th {\n",
       "        vertical-align: top;\n",
       "    }\n",
       "\n",
       "    .dataframe thead th {\n",
       "        text-align: right;\n",
       "    }\n",
       "</style>\n",
       "<table border=\"1\" class=\"dataframe\">\n",
       "  <thead>\n",
       "    <tr style=\"text-align: right;\">\n",
       "      <th></th>\n",
       "      <th>SAMPLE</th>\n",
       "      <th>ID</th>\n",
       "      <th>INFO</th>\n",
       "      <th>NREF</th>\n",
       "      <th>NALT</th>\n",
       "      <th>SEVERE_IMPACT</th>\n",
       "      <th>SEVERE_GENE</th>\n",
       "      <th>SEVERE_GENE_NAME</th>\n",
       "    </tr>\n",
       "  </thead>\n",
       "  <tbody>\n",
       "    <tr>\n",
       "      <th>10</th>\n",
       "      <td>GTEX-T6MN-0226-SM-5S2SO</td>\n",
       "      <td>snp_12_53647177</td>\n",
       "      <td>12_53647177_T_G</td>\n",
       "      <td>12</td>\n",
       "      <td>0</td>\n",
       "      <td>SYNONYMOUS_VARIANT</td>\n",
       "      <td>ENSG00000182544</td>\n",
       "      <td>MFSD5</td>\n",
       "    </tr>\n",
       "    <tr>\n",
       "      <th>11</th>\n",
       "      <td>GTEX-T6MN-0226-SM-5S2SO</td>\n",
       "      <td>snp_12_53647373</td>\n",
       "      <td>12_53647373_T_C</td>\n",
       "      <td>14</td>\n",
       "      <td>8</td>\n",
       "      <td>SYNONYMOUS_VARIANT</td>\n",
       "      <td>ENSG00000182544</td>\n",
       "      <td>MFSD5</td>\n",
       "    </tr>\n",
       "    <tr>\n",
       "      <th>18</th>\n",
       "      <td>GTEX-T6MN-0226-SM-5S2SO</td>\n",
       "      <td>snp_2_29092679</td>\n",
       "      <td>2_29092679_T_C</td>\n",
       "      <td>18</td>\n",
       "      <td>37</td>\n",
       "      <td>SYNONYMOUS_VARIANT</td>\n",
       "      <td>ENSG00000171103</td>\n",
       "      <td>TRMT61B</td>\n",
       "    </tr>\n",
       "    <tr>\n",
       "      <th>19</th>\n",
       "      <td>GTEX-T6MN-0226-SM-5S2SO</td>\n",
       "      <td>snp_2_29092850</td>\n",
       "      <td>2_29092850_G_T</td>\n",
       "      <td>21</td>\n",
       "      <td>42</td>\n",
       "      <td>SYNONYMOUS_VARIANT</td>\n",
       "      <td>ENSG00000171103</td>\n",
       "      <td>TRMT61B</td>\n",
       "    </tr>\n",
       "    <tr>\n",
       "      <th>22</th>\n",
       "      <td>GTEX-T6MN-0226-SM-5S2SO</td>\n",
       "      <td>snp_2_135711516</td>\n",
       "      <td>2_135711516_C_T</td>\n",
       "      <td>34</td>\n",
       "      <td>44</td>\n",
       "      <td>SYNONYMOUS_VARIANT</td>\n",
       "      <td>ENSG00000082258</td>\n",
       "      <td>CCNT2</td>\n",
       "    </tr>\n",
       "  </tbody>\n",
       "</table>\n",
       "</div>"
      ],
      "text/plain": [
       "                     SAMPLE               ID             INFO  NREF  NALT  \\\n",
       "10  GTEX-T6MN-0226-SM-5S2SO  snp_12_53647177  12_53647177_T_G    12     0   \n",
       "11  GTEX-T6MN-0226-SM-5S2SO  snp_12_53647373  12_53647373_T_C    14     8   \n",
       "18  GTEX-T6MN-0226-SM-5S2SO   snp_2_29092679   2_29092679_T_C    18    37   \n",
       "19  GTEX-T6MN-0226-SM-5S2SO   snp_2_29092850   2_29092850_G_T    21    42   \n",
       "22  GTEX-T6MN-0226-SM-5S2SO  snp_2_135711516  2_135711516_C_T    34    44   \n",
       "\n",
       "         SEVERE_IMPACT      SEVERE_GENE SEVERE_GENE_NAME  \n",
       "10  SYNONYMOUS_VARIANT  ENSG00000182544            MFSD5  \n",
       "11  SYNONYMOUS_VARIANT  ENSG00000182544            MFSD5  \n",
       "18  SYNONYMOUS_VARIANT  ENSG00000171103          TRMT61B  \n",
       "19  SYNONYMOUS_VARIANT  ENSG00000171103          TRMT61B  \n",
       "22  SYNONYMOUS_VARIANT  ENSG00000082258            CCNT2  "
      ]
     },
     "execution_count": 46,
     "metadata": {},
     "output_type": "execute_result"
    }
   ],
   "source": [
    "GTEX_ASE_SYN.head()"
   ]
  },
  {
   "cell_type": "code",
   "execution_count": 55,
   "metadata": {},
   "outputs": [
    {
     "data": {
      "text/plain": [
       "[<matplotlib.lines.Line2D at 0x1c2279dfd0>]"
      ]
     },
     "execution_count": 55,
     "metadata": {},
     "output_type": "execute_result"
    },
    {
     "data": {
      "image/png": "[encoded data removed]",
      "text/plain": [
       "<Figure size 432x288 with 1 Axes>"
      ]
     },
     "metadata": {
      "needs_background": "light"
     },
     "output_type": "display_data"
    }
   ],
   "source": [
    "from scipy.stats import beta\n",
    "fig, ax = plt.subplots(1, 1)\n",
    "a, b = 2,5\n",
    "x = np.linspace(beta.ppf(0.01, a, b), beta.ppf(0.99, a, b), 100)\n",
    "ax.plot(x, beta.pdf(x, a, b), 'r-', lw=5, alpha=0.6, label='beta pdf')"
   ]
  },
  {
   "cell_type": "code",
   "execution_count": 18,
   "metadata": {},
   "outputs": [],
   "source": [
    "P = 1e-6\n",
    "Q = math.log10(P)"
   ]
  },
  {
   "cell_type": "code",
   "execution_count": 19,
   "metadata": {},
   "outputs": [
    {
     "data": {
      "text/plain": [
       "-6.0"
      ]
     },
     "execution_count": 19,
     "metadata": {},
     "output_type": "execute_result"
    }
   ],
   "source": [
    "Q"
   ]
  },
  {
   "cell_type": "code",
   "execution_count": 45,
   "metadata": {},
   "outputs": [
    {
     "data": {
      "text/plain": [
       "0.9365489651388929"
      ]
     },
     "execution_count": 45,
     "metadata": {},
     "output_type": "execute_result"
    }
   ],
   "source": [
    "scipy.stats.halfcauchy.cdf(10)"
   ]
  },
  {
   "cell_type": "code",
   "execution_count": 24,
   "metadata": {},
   "outputs": [
    {
     "data": {
      "text/plain": [
       "4"
      ]
     },
     "execution_count": 24,
     "metadata": {},
     "output_type": "execute_result"
    }
   ],
   "source": [
    "2 ** 2"
   ]
  },
  {
   "cell_type": "code",
   "execution_count": 26,
   "metadata": {},
   "outputs": [
    {
     "name": "stdout",
     "output_type": "stream",
     "text": [
      "(22.668029953424497, 26.701844952486894)\n"
     ]
    }
   ],
   "source": [
    "print(reparameter(0.459147,0.142321))"
   ]
  },
  {
   "cell_type": "code",
   "execution_count": 34,
   "metadata": {},
   "outputs": [],
   "source": [
    "mu = lambda a,b : a/(a+b)\n",
    "sigma = lambda a,b :1/math.sqrt(a+b)"
   ]
  },
  {
   "cell_type": "code",
   "execution_count": 36,
   "metadata": {},
   "outputs": [
    {
     "name": "stdout",
     "output_type": "stream",
     "text": [
      "0.4591474245115453 0.29800997754107494\n",
      "0.3398993215145546 0.1479412967049349\n"
     ]
    }
   ],
   "source": [
    "print(mu(5.17, 6.09), sigma(5.17, 6.09))\n",
    "print(mu(15.53,30.16), sigma(15.53,30.16))"
   ]
  },
  {
   "cell_type": "code",
   "execution_count": 39,
   "metadata": {},
   "outputs": [
    {
     "data": {
      "text/plain": [
       "0.06932155585067272"
      ]
     },
     "execution_count": 39,
     "metadata": {},
     "output_type": "execute_result"
    }
   ],
   "source": [
    "scipy.stats.beta.std(15.53,30.16)"
   ]
  },
  {
   "cell_type": "code",
   "execution_count": 42,
   "metadata": {},
   "outputs": [
    {
     "data": {
      "text/plain": [
       "0.0"
      ]
     },
     "execution_count": 42,
     "metadata": {},
     "output_type": "execute_result"
    }
   ],
   "source": [
    "scipy.stats.uniform.logpdf(0.5)"
   ]
  },
  {
   "cell_type": "code",
   "execution_count": null,
   "metadata": {},
   "outputs": [],
   "source": []
  }
 ],
 "metadata": {
  "kernelspec": {
   "display_name": "Python 3",
   "language": "python",
   "name": "python3"
  },
  "language_info": {
   "codemirror_mode": {
    "name": "ipython",
    "version": 3
   },
   "file_extension": ".py",
   "mimetype": "text/x-python",
   "name": "python",
   "nbconvert_exporter": "python",
   "pygments_lexer": "ipython3",
   "version": "3.7.1"
  }
 },
 "nbformat": 4,
 "nbformat_minor": 2
}
