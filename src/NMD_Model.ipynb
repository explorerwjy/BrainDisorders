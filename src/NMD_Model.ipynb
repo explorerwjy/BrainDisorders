{
 "cells": [
  {
   "cell_type": "code",
   "execution_count": 1,
   "metadata": {},
   "outputs": [],
   "source": [
    "%load_ext autoreload\n",
    "%autoreload 2\n",
    "from utils import *\n",
    "from IPython.display import display, HTML\n",
    "import os"
   ]
  },
  {
   "cell_type": "code",
   "execution_count": 2,
   "metadata": {},
   "outputs": [],
   "source": [
    "CollectASECount(\"\")\n",
    "#SEVERE_IMPACT=SYNONYMOUS_VARIANT;SEVERE_GENE=ENSG00000057252;SEVERE_GENE_NAME=SOAT1"
   ]
  },
  {
   "cell_type": "code",
   "execution_count": 470,
   "metadata": {},
   "outputs": [],
   "source": [
    "GTEX_ASE = pd.read_csv(\"data/GTEX_ASE.Anno.2.tsv\", delimiter=\"\\t\")"
   ]
  },
  {
   "cell_type": "code",
   "execution_count": 471,
   "metadata": {},
   "outputs": [],
   "source": [
    "set(GTEX_ASE[\"SEVERE_IMPACT\"].values)\n",
    "LGDs = ['FRAMESHIFT_VARIANT', 'SPLICE_ACCEPTOR_VARIANT', 'SPLICE_DONOR_VARIANT', 'STOP_GAINED']"
   ]
  },
  {
   "cell_type": "code",
   "execution_count": 472,
   "metadata": {},
   "outputs": [],
   "source": [
    "GTEX_ASE_LGD = GTEX_ASE[GTEX_ASE[\"SEVERE_IMPACT\"].isin(LGDs)]\n",
    "GENES_WITH_LGD = set(GTEX_ASE_LGD[\"SEVERE_GENE_NAME\"].values)\n",
    "GTEX_ASE_SYN = GTEX_ASE[(GTEX_ASE[\"SEVERE_IMPACT\"]==\"SYNONYMOUS_VARIANT\") & \n",
    "                        (GTEX_ASE[\"SEVERE_GENE_NAME\"].isin(GENES_WITH_LGD))]"
   ]
  },
  {
   "cell_type": "code",
   "execution_count": 473,
   "metadata": {},
   "outputs": [],
   "source": [
    "GTEX_ASE_LGD.to_csv(\"NMD_model/GTEx.ASE.LGD.2.tsv\", index=False, sep=\"\\t\")\n",
    "GTEX_ASE_SYN.to_csv(\"NMD_model/GTEX_ASE.SYN.2.tsv\", index=False, sep=\"\\t\")"
   ]
  },
  {
   "cell_type": "code",
   "execution_count": 474,
   "metadata": {},
   "outputs": [],
   "source": [
    "Samples = pd.read_csv(\"../data/GTEx/GTEx_v7_Annotations_SampleAttributesDS.txt\", delimiter=\"\\t\")"
   ]
  },
  {
   "cell_type": "code",
   "execution_count": 475,
   "metadata": {},
   "outputs": [
    {
     "data": {
      "text/html": [
       "<div>\n",
       "<style scoped>\n",
       "    .dataframe tbody tr th:only-of-type {\n",
       "        vertical-align: middle;\n",
       "    }\n",
       "\n",
       "    .dataframe tbody tr th {\n",
       "        vertical-align: top;\n",
       "    }\n",
       "\n",
       "    .dataframe thead th {\n",
       "        text-align: right;\n",
       "    }\n",
       "</style>\n",
       "<table border=\"1\" class=\"dataframe\">\n",
       "  <thead>\n",
       "    <tr style=\"text-align: right;\">\n",
       "      <th></th>\n",
       "      <th>SAMPID</th>\n",
       "      <th>SMATSSCR</th>\n",
       "      <th>SMCENTER</th>\n",
       "      <th>SMPTHNTS</th>\n",
       "      <th>SMRIN</th>\n",
       "      <th>SMTS</th>\n",
       "      <th>SMTSD</th>\n",
       "      <th>SMUBRID</th>\n",
       "      <th>SMTSISCH</th>\n",
       "      <th>SMTSPAX</th>\n",
       "      <th>...</th>\n",
       "      <th>SME1ANTI</th>\n",
       "      <th>SMSPLTRD</th>\n",
       "      <th>SMBSMMRT</th>\n",
       "      <th>SME1SNSE</th>\n",
       "      <th>SME1PCTS</th>\n",
       "      <th>SMRRNART</th>\n",
       "      <th>SME1MPRT</th>\n",
       "      <th>SMNUM5CD</th>\n",
       "      <th>SMDPMPRT</th>\n",
       "      <th>SME2PCTS</th>\n",
       "    </tr>\n",
       "  </thead>\n",
       "  <tbody>\n",
       "    <tr>\n",
       "      <th>0</th>\n",
       "      <td>GTEX-1117F-0003-SM-58Q7G</td>\n",
       "      <td>NaN</td>\n",
       "      <td>B1</td>\n",
       "      <td>NaN</td>\n",
       "      <td>NaN</td>\n",
       "      <td>Blood</td>\n",
       "      <td>Whole Blood</td>\n",
       "      <td>13756</td>\n",
       "      <td>1188.0</td>\n",
       "      <td>NaN</td>\n",
       "      <td>...</td>\n",
       "      <td>NaN</td>\n",
       "      <td>NaN</td>\n",
       "      <td>NaN</td>\n",
       "      <td>NaN</td>\n",
       "      <td>NaN</td>\n",
       "      <td>NaN</td>\n",
       "      <td>NaN</td>\n",
       "      <td>NaN</td>\n",
       "      <td>NaN</td>\n",
       "      <td>NaN</td>\n",
       "    </tr>\n",
       "    <tr>\n",
       "      <th>1</th>\n",
       "      <td>GTEX-1117F-0003-SM-5DWSB</td>\n",
       "      <td>NaN</td>\n",
       "      <td>B1</td>\n",
       "      <td>NaN</td>\n",
       "      <td>NaN</td>\n",
       "      <td>Blood</td>\n",
       "      <td>Whole Blood</td>\n",
       "      <td>13756</td>\n",
       "      <td>1188.0</td>\n",
       "      <td>NaN</td>\n",
       "      <td>...</td>\n",
       "      <td>NaN</td>\n",
       "      <td>NaN</td>\n",
       "      <td>NaN</td>\n",
       "      <td>NaN</td>\n",
       "      <td>NaN</td>\n",
       "      <td>NaN</td>\n",
       "      <td>NaN</td>\n",
       "      <td>NaN</td>\n",
       "      <td>NaN</td>\n",
       "      <td>NaN</td>\n",
       "    </tr>\n",
       "  </tbody>\n",
       "</table>\n",
       "<p>2 rows × 63 columns</p>\n",
       "</div>"
      ],
      "text/plain": [
       "                     SAMPID  SMATSSCR SMCENTER SMPTHNTS  SMRIN   SMTS  \\\n",
       "0  GTEX-1117F-0003-SM-58Q7G       NaN       B1      NaN    NaN  Blood   \n",
       "1  GTEX-1117F-0003-SM-5DWSB       NaN       B1      NaN    NaN  Blood   \n",
       "\n",
       "         SMTSD SMUBRID  SMTSISCH  SMTSPAX    ...    SME1ANTI SMSPLTRD  \\\n",
       "0  Whole Blood   13756    1188.0      NaN    ...         NaN      NaN   \n",
       "1  Whole Blood   13756    1188.0      NaN    ...         NaN      NaN   \n",
       "\n",
       "  SMBSMMRT SME1SNSE SME1PCTS SMRRNART SME1MPRT SMNUM5CD  SMDPMPRT  SME2PCTS  \n",
       "0      NaN      NaN      NaN      NaN      NaN      NaN       NaN       NaN  \n",
       "1      NaN      NaN      NaN      NaN      NaN      NaN       NaN       NaN  \n",
       "\n",
       "[2 rows x 63 columns]"
      ]
     },
     "execution_count": 475,
     "metadata": {},
     "output_type": "execute_result"
    }
   ],
   "source": [
    "Samples.head(2)"
   ]
  },
  {
   "cell_type": "code",
   "execution_count": 476,
   "metadata": {},
   "outputs": [
    {
     "name": "stdout",
     "output_type": "stream",
     "text": [
      "['Adipose Tissue', 'Adrenal Gland', 'Bladder', 'Blood', 'Blood Vessel', 'Bone Marrow', 'Brain', 'Breast', 'Cervix Uteri', 'Colon', 'Esophagus', 'Fallopian Tube', 'Heart', 'Kidney', 'Liver', 'Lung', 'Muscle', 'Nerve', 'Ovary', 'Pancreas', 'Pituitary', 'Prostate', 'Salivary Gland', 'Skin', 'Small Intestine', 'Spleen', 'Stomach', 'Testis', 'Thyroid', 'Uterus', 'Vagina']\n"
     ]
    }
   ],
   "source": [
    "print(sorted(list(set(Samples[\"SMTS\"].values))))"
   ]
  },
  {
   "cell_type": "code",
   "execution_count": 477,
   "metadata": {},
   "outputs": [
    {
     "name": "stdout",
     "output_type": "stream",
     "text": [
      "['Adipose - Subcutaneous', 'Adipose - Visceral (Omentum)', 'Adrenal Gland', 'Artery - Aorta', 'Artery - Coronary', 'Artery - Tibial', 'Bladder', 'Brain - Amygdala', 'Brain - Anterior cingulate cortex (BA24)', 'Brain - Caudate (basal ganglia)', 'Brain - Cerebellar Hemisphere', 'Brain - Cerebellum', 'Brain - Cortex', 'Brain - Frontal Cortex (BA9)', 'Brain - Hippocampus', 'Brain - Hypothalamus', 'Brain - Nucleus accumbens (basal ganglia)', 'Brain - Putamen (basal ganglia)', 'Brain - Spinal cord (cervical c-1)', 'Brain - Substantia nigra', 'Breast - Mammary Tissue', 'Cells - EBV-transformed lymphocytes', 'Cells - Leukemia cell line (CML)', 'Cells - Transformed fibroblasts', 'Cervix - Ectocervix', 'Cervix - Endocervix', 'Colon - Sigmoid', 'Colon - Transverse', 'Esophagus - Gastroesophageal Junction', 'Esophagus - Mucosa', 'Esophagus - Muscularis', 'Fallopian Tube', 'Heart - Atrial Appendage', 'Heart - Left Ventricle', 'Kidney - Cortex', 'Liver', 'Lung', 'Minor Salivary Gland', 'Muscle - Skeletal', 'Nerve - Tibial', 'Ovary', 'Pancreas', 'Pituitary', 'Prostate', 'Skin - Not Sun Exposed (Suprapubic)', 'Skin - Sun Exposed (Lower leg)', 'Small Intestine - Terminal Ileum', 'Spleen', 'Stomach', 'Testis', 'Thyroid', 'Uterus', 'Vagina', 'Whole Blood']\n"
     ]
    }
   ],
   "source": [
    "print(sorted(list(set(Samples[\"SMTSD\"].values))))"
   ]
  },
  {
   "cell_type": "code",
   "execution_count": 478,
   "metadata": {},
   "outputs": [],
   "source": [
    "for i, row in Samples.iterrows():\n",
    "    SAMPID = row[\"SAMPID\"]\n",
    "    DONER = SAMPID.split(\"-\")[1]\n",
    "    SMTS = row[\"SMTS\"]\n",
    "    SMTSD = row[\"SMTSD\"]"
   ]
  },
  {
   "cell_type": "code",
   "execution_count": 479,
   "metadata": {},
   "outputs": [
    {
     "data": {
      "text/html": [
       "<div>\n",
       "<style scoped>\n",
       "    .dataframe tbody tr th:only-of-type {\n",
       "        vertical-align: middle;\n",
       "    }\n",
       "\n",
       "    .dataframe tbody tr th {\n",
       "        vertical-align: top;\n",
       "    }\n",
       "\n",
       "    .dataframe thead th {\n",
       "        text-align: right;\n",
       "    }\n",
       "</style>\n",
       "<table border=\"1\" class=\"dataframe\">\n",
       "  <thead>\n",
       "    <tr style=\"text-align: right;\">\n",
       "      <th></th>\n",
       "      <th>SAMPLE</th>\n",
       "      <th>ID</th>\n",
       "      <th>INFO</th>\n",
       "      <th>NREF</th>\n",
       "      <th>NALT</th>\n",
       "      <th>SEVERE_IMPACT</th>\n",
       "      <th>SEVERE_GENE</th>\n",
       "      <th>SEVERE_GENE_NAME</th>\n",
       "    </tr>\n",
       "  </thead>\n",
       "  <tbody>\n",
       "    <tr>\n",
       "      <th>123</th>\n",
       "      <td>GTEX-T6MN-0226-SM-5S2SO</td>\n",
       "      <td>snp_7_100552738</td>\n",
       "      <td>7_100552738_C_T</td>\n",
       "      <td>8</td>\n",
       "      <td>0</td>\n",
       "      <td>STOP_GAINED</td>\n",
       "      <td>ENSG00000169894</td>\n",
       "      <td>MUC3A</td>\n",
       "    </tr>\n",
       "    <tr>\n",
       "      <th>137</th>\n",
       "      <td>GTEX-T6MN-0226-SM-5S2SO</td>\n",
       "      <td>snp_8_52733231</td>\n",
       "      <td>8_52733231_G_A</td>\n",
       "      <td>0</td>\n",
       "      <td>0</td>\n",
       "      <td>STOP_GAINED</td>\n",
       "      <td>ENSG00000168300</td>\n",
       "      <td>PCMTD1</td>\n",
       "    </tr>\n",
       "    <tr>\n",
       "      <th>247</th>\n",
       "      <td>GTEX-S32W-0326-SM-5S2T4</td>\n",
       "      <td>snp_8_52733231</td>\n",
       "      <td>8_52733231_G_A</td>\n",
       "      <td>36</td>\n",
       "      <td>0</td>\n",
       "      <td>STOP_GAINED</td>\n",
       "      <td>ENSG00000168300</td>\n",
       "      <td>PCMTD1</td>\n",
       "    </tr>\n",
       "    <tr>\n",
       "      <th>340</th>\n",
       "      <td>GTEX-VUSG-2826-SM-5S2RZ</td>\n",
       "      <td>snp_8_52733231</td>\n",
       "      <td>8_52733231_G_A</td>\n",
       "      <td>4</td>\n",
       "      <td>0</td>\n",
       "      <td>STOP_GAINED</td>\n",
       "      <td>ENSG00000168300</td>\n",
       "      <td>PCMTD1</td>\n",
       "    </tr>\n",
       "    <tr>\n",
       "      <th>434</th>\n",
       "      <td>GTEX-S32W-0726-SM-5S2T3</td>\n",
       "      <td>snp_8_52733231</td>\n",
       "      <td>8_52733231_G_A</td>\n",
       "      <td>23</td>\n",
       "      <td>0</td>\n",
       "      <td>STOP_GAINED</td>\n",
       "      <td>ENSG00000168300</td>\n",
       "      <td>PCMTD1</td>\n",
       "    </tr>\n",
       "  </tbody>\n",
       "</table>\n",
       "</div>"
      ],
      "text/plain": [
       "                      SAMPLE               ID             INFO  NREF  NALT  \\\n",
       "123  GTEX-T6MN-0226-SM-5S2SO  snp_7_100552738  7_100552738_C_T     8     0   \n",
       "137  GTEX-T6MN-0226-SM-5S2SO   snp_8_52733231   8_52733231_G_A     0     0   \n",
       "247  GTEX-S32W-0326-SM-5S2T4   snp_8_52733231   8_52733231_G_A    36     0   \n",
       "340  GTEX-VUSG-2826-SM-5S2RZ   snp_8_52733231   8_52733231_G_A     4     0   \n",
       "434  GTEX-S32W-0726-SM-5S2T3   snp_8_52733231   8_52733231_G_A    23     0   \n",
       "\n",
       "    SEVERE_IMPACT      SEVERE_GENE SEVERE_GENE_NAME  \n",
       "123   STOP_GAINED  ENSG00000169894            MUC3A  \n",
       "137   STOP_GAINED  ENSG00000168300           PCMTD1  \n",
       "247   STOP_GAINED  ENSG00000168300           PCMTD1  \n",
       "340   STOP_GAINED  ENSG00000168300           PCMTD1  \n",
       "434   STOP_GAINED  ENSG00000168300           PCMTD1  "
      ]
     },
     "execution_count": 479,
     "metadata": {},
     "output_type": "execute_result"
    }
   ],
   "source": [
    "GTEX_ASE_LGD.head()"
   ]
  },
  {
   "cell_type": "code",
   "execution_count": 480,
   "metadata": {},
   "outputs": [
    {
     "name": "stdout",
     "output_type": "stream",
     "text": [
      "1807\n"
     ]
    }
   ],
   "source": [
    "GENES_WITH_LGD = list(GENES_WITH_LGD)\n",
    "print(len(GENES_WITH_LGD))"
   ]
  },
  {
   "cell_type": "code",
   "execution_count": 481,
   "metadata": {},
   "outputs": [
    {
     "data": {
      "text/html": [
       "<div>\n",
       "<style scoped>\n",
       "    .dataframe tbody tr th:only-of-type {\n",
       "        vertical-align: middle;\n",
       "    }\n",
       "\n",
       "    .dataframe tbody tr th {\n",
       "        vertical-align: top;\n",
       "    }\n",
       "\n",
       "    .dataframe thead th {\n",
       "        text-align: right;\n",
       "    }\n",
       "</style>\n",
       "<table border=\"1\" class=\"dataframe\">\n",
       "  <thead>\n",
       "    <tr style=\"text-align: right;\">\n",
       "      <th></th>\n",
       "      <th>SAMPLE</th>\n",
       "      <th>ID</th>\n",
       "      <th>INFO</th>\n",
       "      <th>NREF</th>\n",
       "      <th>NALT</th>\n",
       "      <th>SEVERE_IMPACT</th>\n",
       "      <th>SEVERE_GENE</th>\n",
       "      <th>SEVERE_GENE_NAME</th>\n",
       "    </tr>\n",
       "  </thead>\n",
       "  <tbody>\n",
       "    <tr>\n",
       "      <th>21</th>\n",
       "      <td>GTEX-T6MN-0226-SM-5S2SO</td>\n",
       "      <td>snp_12_53647177</td>\n",
       "      <td>12_53647177_T_G</td>\n",
       "      <td>12</td>\n",
       "      <td>0</td>\n",
       "      <td>SYNONYMOUS_VARIANT</td>\n",
       "      <td>ENSG00000182544</td>\n",
       "      <td>MFSD5</td>\n",
       "    </tr>\n",
       "    <tr>\n",
       "      <th>22</th>\n",
       "      <td>GTEX-T6MN-0226-SM-5S2SO</td>\n",
       "      <td>snp_12_53647373</td>\n",
       "      <td>12_53647373_T_C</td>\n",
       "      <td>14</td>\n",
       "      <td>8</td>\n",
       "      <td>SYNONYMOUS_VARIANT</td>\n",
       "      <td>ENSG00000182544</td>\n",
       "      <td>MFSD5</td>\n",
       "    </tr>\n",
       "    <tr>\n",
       "      <th>35</th>\n",
       "      <td>GTEX-T6MN-0226-SM-5S2SO</td>\n",
       "      <td>snp_17_21318897</td>\n",
       "      <td>17_21318897_G_C</td>\n",
       "      <td>3</td>\n",
       "      <td>0</td>\n",
       "      <td>SYNONYMOUS_VARIANT</td>\n",
       "      <td>ENSG00000184185</td>\n",
       "      <td>KCNJ12</td>\n",
       "    </tr>\n",
       "    <tr>\n",
       "      <th>36</th>\n",
       "      <td>GTEX-T6MN-0226-SM-5S2SO</td>\n",
       "      <td>snp_17_21318918</td>\n",
       "      <td>17_21318918_G_A</td>\n",
       "      <td>3</td>\n",
       "      <td>0</td>\n",
       "      <td>SYNONYMOUS_VARIANT</td>\n",
       "      <td>ENSG00000184185</td>\n",
       "      <td>KCNJ12</td>\n",
       "    </tr>\n",
       "    <tr>\n",
       "      <th>37</th>\n",
       "      <td>GTEX-T6MN-0226-SM-5S2SO</td>\n",
       "      <td>snp_17_21318948</td>\n",
       "      <td>17_21318948_C_T</td>\n",
       "      <td>4</td>\n",
       "      <td>0</td>\n",
       "      <td>SYNONYMOUS_VARIANT</td>\n",
       "      <td>ENSG00000184185</td>\n",
       "      <td>KCNJ12</td>\n",
       "    </tr>\n",
       "  </tbody>\n",
       "</table>\n",
       "</div>"
      ],
      "text/plain": [
       "                     SAMPLE               ID             INFO  NREF  NALT  \\\n",
       "21  GTEX-T6MN-0226-SM-5S2SO  snp_12_53647177  12_53647177_T_G    12     0   \n",
       "22  GTEX-T6MN-0226-SM-5S2SO  snp_12_53647373  12_53647373_T_C    14     8   \n",
       "35  GTEX-T6MN-0226-SM-5S2SO  snp_17_21318897  17_21318897_G_C     3     0   \n",
       "36  GTEX-T6MN-0226-SM-5S2SO  snp_17_21318918  17_21318918_G_A     3     0   \n",
       "37  GTEX-T6MN-0226-SM-5S2SO  snp_17_21318948  17_21318948_C_T     4     0   \n",
       "\n",
       "         SEVERE_IMPACT      SEVERE_GENE SEVERE_GENE_NAME  \n",
       "21  SYNONYMOUS_VARIANT  ENSG00000182544            MFSD5  \n",
       "22  SYNONYMOUS_VARIANT  ENSG00000182544            MFSD5  \n",
       "35  SYNONYMOUS_VARIANT  ENSG00000184185           KCNJ12  \n",
       "36  SYNONYMOUS_VARIANT  ENSG00000184185           KCNJ12  \n",
       "37  SYNONYMOUS_VARIANT  ENSG00000184185           KCNJ12  "
      ]
     },
     "execution_count": 481,
     "metadata": {},
     "output_type": "execute_result"
    }
   ],
   "source": [
    "GTEX_ASE_SYN.head()"
   ]
  },
  {
   "cell_type": "code",
   "execution_count": 485,
   "metadata": {},
   "outputs": [],
   "source": [
    "SYN_ADPS = TissueGeneMut(GTEX_ASE_SYN, Samples, \"Adipose Tissue\")"
   ]
  },
  {
   "cell_type": "code",
   "execution_count": null,
   "metadata": {},
   "outputs": [],
   "source": []
  },
  {
   "cell_type": "code",
   "execution_count": 486,
   "metadata": {},
   "outputs": [
    {
     "data": {
      "text/plain": [
       "1253"
      ]
     },
     "execution_count": 486,
     "metadata": {},
     "output_type": "execute_result"
    }
   ],
   "source": [
    "len(SYN_ADPS.keys())"
   ]
  },
  {
   "cell_type": "code",
   "execution_count": 487,
   "metadata": {},
   "outputs": [
    {
     "name": "stdout",
     "output_type": "stream",
     "text": [
      "(7006, 8)\n"
     ]
    }
   ],
   "source": [
    "print(GTEX_ASE_SYN[GTEX_ASE_SYN[\"SEVERE_GENE\"]==\"ENSG00000234745\"].shape)"
   ]
  },
  {
   "cell_type": "code",
   "execution_count": 488,
   "metadata": {},
   "outputs": [
    {
     "name": "stdout",
     "output_type": "stream",
     "text": [
      "411\n"
     ]
    }
   ],
   "source": [
    "Count = 0\n",
    "ADPS_genes = []\n",
    "for gene, Vars in SYN_ADPS.items():\n",
    "    SYNs = set([])\n",
    "    INDVs = set([])\n",
    "    for var in Vars:\n",
    "        SYNs.add(var.id)\n",
    "        INDVs.add(var.sample)\n",
    "    #print(len(SYNs), len(INDVs))\n",
    "    if len(SYNs) >= 4 and len(INDVs) >= 10:\n",
    "        Count += 1\n",
    "        #print(gene, len(SYNs), len(INDVs))\n",
    "        ADPS_genes.append([gene, len(SYNs), len(INDVs)])\n",
    "print(Count)"
   ]
  },
  {
   "cell_type": "code",
   "execution_count": 489,
   "metadata": {},
   "outputs": [
    {
     "data": {
      "text/plain": [
       "(3917, 7)"
      ]
     },
     "execution_count": 489,
     "metadata": {},
     "output_type": "execute_result"
    }
   ],
   "source": [
    "# Compare to Andy\n",
    "Andy_ADPSBQ = pd.read_csv(\"NMD_model/TissueASE/ADPSBQ.csv\")\n",
    "Andy_ADPSBQ_keep = Andy_ADPSBQ[(Andy_ADPSBQ[\"nvar\"]>=4)&(Andy_ADPSBQ[\"nobs\"]>=10)]\n",
    "Andy_ADPSBQ_keep.shape"
   ]
  },
  {
   "cell_type": "code",
   "execution_count": 492,
   "metadata": {},
   "outputs": [
    {
     "data": {
      "text/html": [
       "<div>\n",
       "<style scoped>\n",
       "    .dataframe tbody tr th:only-of-type {\n",
       "        vertical-align: middle;\n",
       "    }\n",
       "\n",
       "    .dataframe tbody tr th {\n",
       "        vertical-align: top;\n",
       "    }\n",
       "\n",
       "    .dataframe thead th {\n",
       "        text-align: right;\n",
       "    }\n",
       "</style>\n",
       "<table border=\"1\" class=\"dataframe\">\n",
       "  <thead>\n",
       "    <tr style=\"text-align: right;\">\n",
       "      <th></th>\n",
       "      <th>gene</th>\n",
       "      <th>ahat</th>\n",
       "      <th>bhat</th>\n",
       "      <th>mu</th>\n",
       "      <th>sigma</th>\n",
       "      <th>nvar</th>\n",
       "      <th>nobs</th>\n",
       "    </tr>\n",
       "  </thead>\n",
       "  <tbody>\n",
       "    <tr>\n",
       "      <th>2</th>\n",
       "      <td>ENSG00000000457</td>\n",
       "      <td>24.1</td>\n",
       "      <td>26.86</td>\n",
       "      <td>0.472920</td>\n",
       "      <td>0.069262</td>\n",
       "      <td>5</td>\n",
       "      <td>113</td>\n",
       "    </tr>\n",
       "    <tr>\n",
       "      <th>5</th>\n",
       "      <td>ENSG00000000971</td>\n",
       "      <td>0.2</td>\n",
       "      <td>0.83</td>\n",
       "      <td>0.194175</td>\n",
       "      <td>0.277632</td>\n",
       "      <td>7</td>\n",
       "      <td>167</td>\n",
       "    </tr>\n",
       "  </tbody>\n",
       "</table>\n",
       "</div>"
      ],
      "text/plain": [
       "              gene  ahat   bhat        mu     sigma  nvar  nobs\n",
       "2  ENSG00000000457  24.1  26.86  0.472920  0.069262     5   113\n",
       "5  ENSG00000000971   0.2   0.83  0.194175  0.277632     7   167"
      ]
     },
     "execution_count": 492,
     "metadata": {},
     "output_type": "execute_result"
    }
   ],
   "source": [
    "Andy_ADPSBQ_keep.head(2)"
   ]
  },
  {
   "cell_type": "code",
   "execution_count": 493,
   "metadata": {},
   "outputs": [
    {
     "name": "stdout",
     "output_type": "stream",
     "text": [
      "['ENSG00000167930', 4, 36]\n",
      "['ENSG00000089159', 4, 17]\n",
      "['ENSG00000116016', 4, 16]\n",
      "['ENSG00000133030', 5, 17]\n",
      "['ENSG00000135917', 4, 12]\n",
      "['ENSG00000131473', 4, 31]\n"
     ]
    }
   ],
   "source": [
    "Andy_ADPS_genes = []\n",
    "for i, gene in enumerate([x for x,y,z in ADPS_genes]):\n",
    "    row = Andy_ADPSBQ_keep[Andy_ADPSBQ_keep[\"gene\"]==gene]\n",
    "    if row.shape[0] == 0:\n",
    "        continue\n",
    "    #print(row[\"nvar\"].values[0], row[\"nobs\"].values[0])\n",
    "    Andy_ADPS_genes.append([gene, row[\"nvar\"].values[0], row[\"nobs\"].values[0]])\n",
    "    if ADPS_genes[i][1] == row[\"nvar\"].values[0] and ADPS_genes[i][2] == row[\"nobs\"].values[0]:\n",
    "        print(ADPS_genes[i])"
   ]
  },
  {
   "cell_type": "code",
   "execution_count": 494,
   "metadata": {},
   "outputs": [
    {
     "ename": "ValueError",
     "evalue": "x and y must be the same size",
     "output_type": "error",
     "traceback": [
      "\u001b[0;31m---------------------------------------------------------------------------\u001b[0m",
      "\u001b[0;31mValueError\u001b[0m                                Traceback (most recent call last)",
      "\u001b[0;32m<ipython-input-494-3a422e18b3f7>\u001b[0m in \u001b[0;36m<module>\u001b[0;34m\u001b[0m\n\u001b[0;32m----> 1\u001b[0;31m \u001b[0mplt\u001b[0m\u001b[0;34m.\u001b[0m\u001b[0mscatter\u001b[0m\u001b[0;34m(\u001b[0m\u001b[0;34m[\u001b[0m\u001b[0my\u001b[0m \u001b[0;32mfor\u001b[0m \u001b[0mx\u001b[0m\u001b[0;34m,\u001b[0m\u001b[0my\u001b[0m\u001b[0;34m,\u001b[0m\u001b[0mz\u001b[0m \u001b[0;32min\u001b[0m \u001b[0mADPS_genes\u001b[0m\u001b[0;34m]\u001b[0m\u001b[0;34m,\u001b[0m \u001b[0;34m[\u001b[0m\u001b[0my\u001b[0m \u001b[0;32mfor\u001b[0m \u001b[0mx\u001b[0m\u001b[0;34m,\u001b[0m\u001b[0my\u001b[0m\u001b[0;34m,\u001b[0m\u001b[0mz\u001b[0m \u001b[0;32min\u001b[0m \u001b[0mAndy_ADPS_genes\u001b[0m\u001b[0;34m]\u001b[0m\u001b[0;34m)\u001b[0m\u001b[0;34m\u001b[0m\u001b[0;34m\u001b[0m\u001b[0m\n\u001b[0m\u001b[1;32m      2\u001b[0m \u001b[0mplt\u001b[0m\u001b[0;34m.\u001b[0m\u001b[0mplot\u001b[0m\u001b[0;34m(\u001b[0m\u001b[0;34m(\u001b[0m\u001b[0;36m0\u001b[0m\u001b[0;34m,\u001b[0m\u001b[0;36m60\u001b[0m\u001b[0;34m)\u001b[0m\u001b[0;34m,\u001b[0m \u001b[0;34m(\u001b[0m\u001b[0;36m0\u001b[0m\u001b[0;34m,\u001b[0m\u001b[0;36m60\u001b[0m\u001b[0;34m)\u001b[0m\u001b[0;34m,\u001b[0m \u001b[0;34m'k-'\u001b[0m\u001b[0;34m,\u001b[0m \u001b[0malpha\u001b[0m\u001b[0;34m=\u001b[0m\u001b[0;36m0.75\u001b[0m\u001b[0;34m,\u001b[0m \u001b[0mzorder\u001b[0m\u001b[0;34m=\u001b[0m\u001b[0;36m0\u001b[0m\u001b[0;34m)\u001b[0m\u001b[0;34m\u001b[0m\u001b[0;34m\u001b[0m\u001b[0m\n\u001b[1;32m      3\u001b[0m \u001b[0mplt\u001b[0m\u001b[0;34m.\u001b[0m\u001b[0mshow\u001b[0m\u001b[0;34m(\u001b[0m\u001b[0;34m)\u001b[0m\u001b[0;34m\u001b[0m\u001b[0;34m\u001b[0m\u001b[0m\n\u001b[1;32m      4\u001b[0m \u001b[0mplt\u001b[0m\u001b[0;34m.\u001b[0m\u001b[0mscatter\u001b[0m\u001b[0;34m(\u001b[0m\u001b[0;34m[\u001b[0m\u001b[0mz\u001b[0m \u001b[0;32mfor\u001b[0m \u001b[0mx\u001b[0m\u001b[0;34m,\u001b[0m\u001b[0my\u001b[0m\u001b[0;34m,\u001b[0m\u001b[0mz\u001b[0m \u001b[0;32min\u001b[0m \u001b[0mADPS_genes\u001b[0m\u001b[0;34m]\u001b[0m\u001b[0;34m,\u001b[0m \u001b[0;34m[\u001b[0m\u001b[0mz\u001b[0m \u001b[0;32mfor\u001b[0m \u001b[0mx\u001b[0m\u001b[0;34m,\u001b[0m\u001b[0my\u001b[0m\u001b[0;34m,\u001b[0m\u001b[0mz\u001b[0m \u001b[0;32min\u001b[0m \u001b[0mAndy_ADPS_genes\u001b[0m\u001b[0;34m]\u001b[0m\u001b[0;34m)\u001b[0m\u001b[0;34m\u001b[0m\u001b[0;34m\u001b[0m\u001b[0m\n\u001b[1;32m      5\u001b[0m \u001b[0mplt\u001b[0m\u001b[0;34m.\u001b[0m\u001b[0mplot\u001b[0m\u001b[0;34m(\u001b[0m\u001b[0;34m(\u001b[0m\u001b[0;36m0\u001b[0m\u001b[0;34m,\u001b[0m\u001b[0;36m120\u001b[0m\u001b[0;34m)\u001b[0m\u001b[0;34m,\u001b[0m \u001b[0;34m(\u001b[0m\u001b[0;36m0\u001b[0m\u001b[0;34m,\u001b[0m\u001b[0;36m120\u001b[0m\u001b[0;34m)\u001b[0m\u001b[0;34m,\u001b[0m \u001b[0;34m'k-'\u001b[0m\u001b[0;34m,\u001b[0m \u001b[0malpha\u001b[0m\u001b[0;34m=\u001b[0m\u001b[0;36m0.75\u001b[0m\u001b[0;34m,\u001b[0m \u001b[0mzorder\u001b[0m\u001b[0;34m=\u001b[0m\u001b[0;36m0\u001b[0m\u001b[0;34m)\u001b[0m\u001b[0;34m\u001b[0m\u001b[0;34m\u001b[0m\u001b[0m\n",
      "\u001b[0;32m~/anaconda3/lib/python3.7/site-packages/matplotlib/pyplot.py\u001b[0m in \u001b[0;36mscatter\u001b[0;34m(x, y, s, c, marker, cmap, norm, vmin, vmax, alpha, linewidths, verts, edgecolors, data, **kwargs)\u001b[0m\n\u001b[1;32m   2862\u001b[0m         \u001b[0mvmin\u001b[0m\u001b[0;34m=\u001b[0m\u001b[0mvmin\u001b[0m\u001b[0;34m,\u001b[0m \u001b[0mvmax\u001b[0m\u001b[0;34m=\u001b[0m\u001b[0mvmax\u001b[0m\u001b[0;34m,\u001b[0m \u001b[0malpha\u001b[0m\u001b[0;34m=\u001b[0m\u001b[0malpha\u001b[0m\u001b[0;34m,\u001b[0m \u001b[0mlinewidths\u001b[0m\u001b[0;34m=\u001b[0m\u001b[0mlinewidths\u001b[0m\u001b[0;34m,\u001b[0m\u001b[0;34m\u001b[0m\u001b[0;34m\u001b[0m\u001b[0m\n\u001b[1;32m   2863\u001b[0m         verts=verts, edgecolors=edgecolors, **({\"data\": data} if data\n\u001b[0;32m-> 2864\u001b[0;31m         is not None else {}), **kwargs)\n\u001b[0m\u001b[1;32m   2865\u001b[0m     \u001b[0msci\u001b[0m\u001b[0;34m(\u001b[0m\u001b[0m__ret\u001b[0m\u001b[0;34m)\u001b[0m\u001b[0;34m\u001b[0m\u001b[0;34m\u001b[0m\u001b[0m\n\u001b[1;32m   2866\u001b[0m     \u001b[0;32mreturn\u001b[0m \u001b[0m__ret\u001b[0m\u001b[0;34m\u001b[0m\u001b[0;34m\u001b[0m\u001b[0m\n",
      "\u001b[0;32m~/anaconda3/lib/python3.7/site-packages/matplotlib/__init__.py\u001b[0m in \u001b[0;36minner\u001b[0;34m(ax, data, *args, **kwargs)\u001b[0m\n\u001b[1;32m   1808\u001b[0m                         \u001b[0;34m\"the Matplotlib list!)\"\u001b[0m \u001b[0;34m%\u001b[0m \u001b[0;34m(\u001b[0m\u001b[0mlabel_namer\u001b[0m\u001b[0;34m,\u001b[0m \u001b[0mfunc\u001b[0m\u001b[0;34m.\u001b[0m\u001b[0m__name__\u001b[0m\u001b[0;34m)\u001b[0m\u001b[0;34m,\u001b[0m\u001b[0;34m\u001b[0m\u001b[0;34m\u001b[0m\u001b[0m\n\u001b[1;32m   1809\u001b[0m                         RuntimeWarning, stacklevel=2)\n\u001b[0;32m-> 1810\u001b[0;31m             \u001b[0;32mreturn\u001b[0m \u001b[0mfunc\u001b[0m\u001b[0;34m(\u001b[0m\u001b[0max\u001b[0m\u001b[0;34m,\u001b[0m \u001b[0;34m*\u001b[0m\u001b[0margs\u001b[0m\u001b[0;34m,\u001b[0m \u001b[0;34m**\u001b[0m\u001b[0mkwargs\u001b[0m\u001b[0;34m)\u001b[0m\u001b[0;34m\u001b[0m\u001b[0;34m\u001b[0m\u001b[0m\n\u001b[0m\u001b[1;32m   1811\u001b[0m \u001b[0;34m\u001b[0m\u001b[0m\n\u001b[1;32m   1812\u001b[0m         inner.__doc__ = _add_data_doc(inner.__doc__,\n",
      "\u001b[0;32m~/anaconda3/lib/python3.7/site-packages/matplotlib/axes/_axes.py\u001b[0m in \u001b[0;36mscatter\u001b[0;34m(self, x, y, s, c, marker, cmap, norm, vmin, vmax, alpha, linewidths, verts, edgecolors, **kwargs)\u001b[0m\n\u001b[1;32m   4180\u001b[0m         \u001b[0my\u001b[0m \u001b[0;34m=\u001b[0m \u001b[0mnp\u001b[0m\u001b[0;34m.\u001b[0m\u001b[0mma\u001b[0m\u001b[0;34m.\u001b[0m\u001b[0mravel\u001b[0m\u001b[0;34m(\u001b[0m\u001b[0my\u001b[0m\u001b[0;34m)\u001b[0m\u001b[0;34m\u001b[0m\u001b[0;34m\u001b[0m\u001b[0m\n\u001b[1;32m   4181\u001b[0m         \u001b[0;32mif\u001b[0m \u001b[0mx\u001b[0m\u001b[0;34m.\u001b[0m\u001b[0msize\u001b[0m \u001b[0;34m!=\u001b[0m \u001b[0my\u001b[0m\u001b[0;34m.\u001b[0m\u001b[0msize\u001b[0m\u001b[0;34m:\u001b[0m\u001b[0;34m\u001b[0m\u001b[0;34m\u001b[0m\u001b[0m\n\u001b[0;32m-> 4182\u001b[0;31m             \u001b[0;32mraise\u001b[0m \u001b[0mValueError\u001b[0m\u001b[0;34m(\u001b[0m\u001b[0;34m\"x and y must be the same size\"\u001b[0m\u001b[0;34m)\u001b[0m\u001b[0;34m\u001b[0m\u001b[0;34m\u001b[0m\u001b[0m\n\u001b[0m\u001b[1;32m   4183\u001b[0m \u001b[0;34m\u001b[0m\u001b[0m\n\u001b[1;32m   4184\u001b[0m         \u001b[0;32mif\u001b[0m \u001b[0ms\u001b[0m \u001b[0;32mis\u001b[0m \u001b[0;32mNone\u001b[0m\u001b[0;34m:\u001b[0m\u001b[0;34m\u001b[0m\u001b[0;34m\u001b[0m\u001b[0m\n",
      "\u001b[0;31mValueError\u001b[0m: x and y must be the same size"
     ]
    },
    {
     "data": {
      "image/png": "[encoded data removed]",
      "text/plain": [
       "<Figure size 432x288 with 1 Axes>"
      ]
     },
     "metadata": {
      "needs_background": "light"
     },
     "output_type": "display_data"
    }
   ],
   "source": [
    "plt.scatter([y for x,y,z in ADPS_genes], [y for x,y,z in Andy_ADPS_genes])\n",
    "plt.plot((0,60), (0,60), 'k-', alpha=0.75, zorder=0)\n",
    "plt.show()\n",
    "plt.scatter([z for x,y,z in ADPS_genes], [z for x,y,z in Andy_ADPS_genes])\n",
    "plt.plot((0,120), (0,120), 'k-', alpha=0.75, zorder=0)\n",
    "plt.show()"
   ]
  },
  {
   "cell_type": "code",
   "execution_count": 495,
   "metadata": {},
   "outputs": [
    {
     "name": "stdout",
     "output_type": "stream",
     "text": [
      "419\n"
     ]
    }
   ],
   "source": [
    "SYN_SKIN = TissueGeneMut(GTEX_ASE_SYN, Samples, \"Skin\")\n",
    "Count = 0\n",
    "SKIN_genes = []\n",
    "for gene, Vars in SYN_SKIN.items():\n",
    "    SYNs = set([])\n",
    "    INDVs = set([])\n",
    "    for var in Vars:\n",
    "        SYNs.add(var.id)\n",
    "        INDVs.add(var.sample)\n",
    "    #print(len(SYNs), len(INDVs))\n",
    "    if len(SYNs) >= 4 and len(INDVs) >= 10:\n",
    "        Count += 1\n",
    "        #print(gene, len(SYNs), len(INDVs))\n",
    "        SKIN_genes.append([gene, len(SYNs), len(INDVs)])\n",
    "print(Count)"
   ]
  },
  {
   "cell_type": "code",
   "execution_count": 105,
   "metadata": {},
   "outputs": [],
   "source": [
    "Andy_SKIN = pd.read_csv(\"NMD_model/TissueASE/SKINS.csv\")\n",
    "Andy_SKIN_keep = Andy_SKIN[(Andy_SKIN[\"nvar\"]>=4)&(Andy_SKIN[\"nobs\"]>=10)]\n",
    "Andy_SKIN_genes = []\n",
    "for gene in [x for x,y,z in SKIN_genes]:\n",
    "    row = Andy_SKIN_keep[Andy_SKIN_keep[\"gene\"]==gene]\n",
    "    #print(row[\"nvar\"].values[0], row[\"nobs\"].values[0])\n",
    "    Andy_SKIN_genes.append([gene, row[\"nvar\"].values[0], row[\"nobs\"].values[0]])"
   ]
  },
  {
   "cell_type": "code",
   "execution_count": 178,
   "metadata": {},
   "outputs": [
    {
     "data": {
      "image/png": "[encoded data removed]",
      "text/plain": [
       "<Figure size 432x288 with 1 Axes>"
      ]
     },
     "metadata": {
      "needs_background": "light"
     },
     "output_type": "display_data"
    },
    {
     "name": "stdout",
     "output_type": "stream",
     "text": [
      "5.773502691896257\n"
     ]
    }
   ],
   "source": [
    "#Andy_SKIN[\"pseudoVar\"] = 1/math.sqrt(Andy_SKIN[\"ahat\"]+Andy_SKIN[\"bhat\"])\n",
    "pseudoVar = []\n",
    "for i, row in Andy_SKIN.iterrows():\n",
    "    a, b = row[\"ahat\"], row[\"bhat\"]\n",
    "    pseudoVar.append(1/math.sqrt(a+b))\n",
    "plt.hist(pseudoVar,bins=100)\n",
    "plt.show()\n",
    "print(max(pseudoVar))"
   ]
  },
  {
   "cell_type": "code",
   "execution_count": null,
   "metadata": {},
   "outputs": [],
   "source": []
  },
  {
   "cell_type": "code",
   "execution_count": 110,
   "metadata": {},
   "outputs": [
    {
     "data": {
      "image/png": "[encoded data removed]",
      "text/plain": [
       "<Figure size 432x288 with 1 Axes>"
      ]
     },
     "metadata": {
      "needs_background": "light"
     },
     "output_type": "display_data"
    },
    {
     "data": {
      "image/png": "[encoded data removed]",
      "text/plain": [
       "<Figure size 432x288 with 1 Axes>"
      ]
     },
     "metadata": {
      "needs_background": "light"
     },
     "output_type": "display_data"
    }
   ],
   "source": [
    "plt.scatter([y for x,y,z in SKIN_genes], [y for x,y,z in Andy_SKIN_genes], s=1)\n",
    "plt.plot((0,60), (0,60), 'k-', alpha=0.75, zorder=0)\n",
    "plt.show()\n",
    "plt.scatter([z for x,y,z in SKIN_genes], [z for x,y,z in Andy_SKIN_genes], s=1)\n",
    "plt.plot((0,120), (0,120), 'k-', alpha=0.75, zorder=0)\n",
    "plt.show()"
   ]
  },
  {
   "cell_type": "code",
   "execution_count": 117,
   "metadata": {},
   "outputs": [
    {
     "name": "stdout",
     "output_type": "stream",
     "text": [
      "[<utils.ASEVar object at 0x1c224b79e8>, <utils.ASEVar object at 0x1c23d62940>, <utils.ASEVar object at 0x1c23d63f60>, <utils.ASEVar object at 0x1c23d6c7b8>, <utils.ASEVar object at 0x1c24222a90>, <utils.ASEVar object at 0x1c23d792e8>, <utils.ASEVar object at 0x1c23d94908>, <utils.ASEVar object at 0x1c241dec50>, <utils.ASEVar object at 0x1c24217048>, <utils.ASEVar object at 0x1c2412c2e8>, <utils.ASEVar object at 0x1c2412f748>, <utils.ASEVar object at 0x1c24156898>, <utils.ASEVar object at 0x1c23ca13c8>, <utils.ASEVar object at 0x1c23cce2e8>, <utils.ASEVar object at 0x1c248d7fd0>, <utils.ASEVar object at 0x1c249fcd30>, <utils.ASEVar object at 0x1c24936828>, <utils.ASEVar object at 0x1c22daf2e8>, <utils.ASEVar object at 0x1c22dd7a90>, <utils.ASEVar object at 0x1c24da5a58>, <utils.ASEVar object at 0x1c24dbc358>, <utils.ASEVar object at 0x1c24dd4a90>, <utils.ASEVar object at 0x1c22f729b0>, <utils.ASEVar object at 0x1c23145dd8>, <utils.ASEVar object at 0x1c232a5f60>, <utils.ASEVar object at 0x1c232d66d8>, <utils.ASEVar object at 0x1c23310b70>, <utils.ASEVar object at 0x1c22dfb390>, <utils.ASEVar object at 0x1c22e07eb8>, <utils.ASEVar object at 0x1c22ea2eb8>, <utils.ASEVar object at 0x1c22ebf6d8>, <utils.ASEVar object at 0x1c233c8ba8>, <utils.ASEVar object at 0x1c233db0f0>, <utils.ASEVar object at 0x1c233e64e0>, <utils.ASEVar object at 0x1c23b465f8>, <utils.ASEVar object at 0x1c22ee94a8>]\n"
     ]
    }
   ],
   "source": [
    "print(SYN_ADPS[\"ENSG00000167930\"])"
   ]
  },
  {
   "cell_type": "code",
   "execution_count": 748,
   "metadata": {},
   "outputs": [],
   "source": [
    "a_b_q = SamplingAlphaBeta(step = 1)"
   ]
  },
  {
   "cell_type": "code",
   "execution_count": 749,
   "metadata": {},
   "outputs": [
    {
     "data": {
      "text/plain": [
       "441"
      ]
     },
     "execution_count": 749,
     "metadata": {},
     "output_type": "execute_result"
    }
   ],
   "source": [
    "len(a_b_q)"
   ]
  },
  {
   "cell_type": "code",
   "execution_count": 742,
   "metadata": {},
   "outputs": [
    {
     "data": {
      "text/plain": [
       "[[1490.4789935208642, 1490.4789935208642, -0.4519181116623506],\n",
       " [4051.541963787692, 4051.541963787692, -0.4517061074791782],\n",
       " [11013.232897403359, 11013.232897403359, -0.45162810418867166]]"
      ]
     },
     "execution_count": 742,
     "metadata": {},
     "output_type": "execute_result"
    }
   ],
   "source": [
    "a_b_q"
   ]
  },
  {
   "cell_type": "code",
   "execution_count": 692,
   "metadata": {},
   "outputs": [],
   "source": [
    "genedat = SYN_ADPS[\"ENSG00000167930\"]\n",
    "#max_posteriori, _alpha, _beta = GridSearchASE(a_b_q, genedat)"
   ]
  },
  {
   "cell_type": "code",
   "execution_count": 695,
   "metadata": {},
   "outputs": [],
   "source": [
    "df = pd.read_csv(\"/Users/jiayao/Work/BrainDisorders/src/NMD_model/ENSG00000167930.idx\")\n",
    "\n",
    "genedat = []\n",
    "for i, row in df.iterrows():\n",
    "    nref, nalt = row[\"Ref\"], row[\"Alt\"]\n",
    "    genedat.append(ASEVar(\"\",\"\",\"\",nref, nalt,\"\"))"
   ]
  },
  {
   "cell_type": "code",
   "execution_count": 696,
   "metadata": {},
   "outputs": [
    {
     "data": {
      "text/html": [
       "<div>\n",
       "<style scoped>\n",
       "    .dataframe tbody tr th:only-of-type {\n",
       "        vertical-align: middle;\n",
       "    }\n",
       "\n",
       "    .dataframe tbody tr th {\n",
       "        vertical-align: top;\n",
       "    }\n",
       "\n",
       "    .dataframe thead th {\n",
       "        text-align: right;\n",
       "    }\n",
       "</style>\n",
       "<table border=\"1\" class=\"dataframe\">\n",
       "  <thead>\n",
       "    <tr style=\"text-align: right;\">\n",
       "      <th></th>\n",
       "      <th>Variant</th>\n",
       "      <th>Carrier</th>\n",
       "      <th>Repl</th>\n",
       "      <th>Sample</th>\n",
       "      <th>Ref</th>\n",
       "      <th>Alt</th>\n",
       "    </tr>\n",
       "  </thead>\n",
       "  <tbody>\n",
       "    <tr>\n",
       "      <th>0</th>\n",
       "      <td>snp_16_304514</td>\n",
       "      <td>GTEX-X62O</td>\n",
       "      <td>0</td>\n",
       "      <td>SRR1101643</td>\n",
       "      <td>45</td>\n",
       "      <td>24</td>\n",
       "    </tr>\n",
       "    <tr>\n",
       "      <th>1</th>\n",
       "      <td>snp_16_304514</td>\n",
       "      <td>GTEX-QDVJ</td>\n",
       "      <td>0</td>\n",
       "      <td>SRR613342</td>\n",
       "      <td>7</td>\n",
       "      <td>8</td>\n",
       "    </tr>\n",
       "  </tbody>\n",
       "</table>\n",
       "</div>"
      ],
      "text/plain": [
       "         Variant    Carrier  Repl      Sample  Ref  Alt\n",
       "0  snp_16_304514  GTEX-X62O     0  SRR1101643   45   24\n",
       "1  snp_16_304514  GTEX-QDVJ     0   SRR613342    7    8"
      ]
     },
     "execution_count": 696,
     "metadata": {},
     "output_type": "execute_result"
    }
   ],
   "source": [
    "df.head(2)"
   ]
  },
  {
   "cell_type": "code",
   "execution_count": null,
   "metadata": {},
   "outputs": [],
   "source": []
  },
  {
   "cell_type": "code",
   "execution_count": 750,
   "metadata": {},
   "outputs": [
    {
     "name": "stdout",
     "output_type": "stream",
     "text": [
      " 50 computed"
     ]
    },
    {
     "name": "stderr",
     "output_type": "stream",
     "text": [
      "/Users/jiayao/anaconda3/lib/python3.7/site-packages/scipy/integrate/quadpack.py:385: IntegrationWarning: The integral is probably divergent, or slowly convergent.\n",
      "  warnings.warn(msg, IntegrationWarning)\n"
     ]
    },
    {
     "name": "stdout",
     "output_type": "stream",
     "text": [
      " 140 computed"
     ]
    },
    {
     "name": "stderr",
     "output_type": "stream",
     "text": [
      "/Users/jiayao/anaconda3/lib/python3.7/site-packages/scipy/integrate/quadpack.py:385: IntegrationWarning: The integral is probably divergent, or slowly convergent.\n",
      "  warnings.warn(msg, IntegrationWarning)\n",
      "/Users/jiayao/anaconda3/lib/python3.7/site-packages/scipy/integrate/quadpack.py:385: IntegrationWarning: The integral is probably divergent, or slowly convergent.\n",
      "  warnings.warn(msg, IntegrationWarning)\n"
     ]
    },
    {
     "name": "stdout",
     "output_type": "stream",
     "text": [
      " 310 computed"
     ]
    },
    {
     "name": "stderr",
     "output_type": "stream",
     "text": [
      "/Users/jiayao/anaconda3/lib/python3.7/site-packages/scipy/integrate/quadpack.py:385: IntegrationWarning: The integral is probably divergent, or slowly convergent.\n",
      "  warnings.warn(msg, IntegrationWarning)\n"
     ]
    },
    {
     "name": "stdout",
     "output_type": "stream",
     "text": [
      " 440 computed"
     ]
    }
   ],
   "source": [
    "res = GridSearchASE(a_b_q, genedat)"
   ]
  },
  {
   "cell_type": "code",
   "execution_count": 751,
   "metadata": {},
   "outputs": [
    {
     "data": {
      "text/plain": [
       "[[(2.061060050457031e-09, 4.5397868702434395e-05), -824.9721306195488],\n",
       " [(5.6025420825202305e-09, 0.00012340420154459704), -788.4740143782285],\n",
       " [(1.5229288336091837e-08, 0.00033544739861417574), -751.9791349068449],\n",
       " [(4.1397497744361734e-08, 0.0009118405680567719), -715.4930535155548],\n",
       " [(1.1253006586217281e-07, 0.002478639646600496), -679.0308850334878],\n",
       " [(3.058884331884439e-07, 0.006737641110652279), -642.6336982965711],\n",
       " [(8.314909694719557e-07, 0.018314807397764706), -606.4130014543506],\n",
       " [(2.2602267928434125e-06, 0.0497848081410711), -570.6709749185908],\n",
       " [(6.143933419182514e-06, 0.1353291393031935), -536.2225125338339],\n",
       " [(1.6700942568626075e-05, 0.3678627402288737), -505.24021601149695],\n",
       " [(4.5397868702434395e-05, 0.9999546021312976), -483.38342921868787],\n",
       " [(0.00012340420154459704, 2.7181584242575005), -484.7508293304676],\n",
       " [(0.00033544739861417574, 7.3887206515320365), -541.3085900292992],\n",
       " [(0.0009118405680567719, 20.08462508261961), -712.5954347055398],\n",
       " [(0.002478639646600496, 54.59567139349764), -1074.1192380839782],\n",
       " [(0.006737641110652279, 148.40642146146595), -1663.9188897861557],\n",
       " [(0.01831480739776471, 403.41047868533735), -2441.3167026876417],\n",
       " [(0.0497848081410711, 1096.5833736203174), -3328.4396900616307],\n",
       " [(0.1353291393031935, 2980.822657902425), -4275.277923048985],\n",
       " [(0.3678627402288737, 8102.7160648351555), -5254.878669845547],\n",
       " [(0.9999546021312978, 22025.465840204586), -6218.78911920126],\n",
       " [(5.6021050828465214e-09, 4.539432765740201e-05), -787.9779028834719],\n",
       " [(1.5228100447819753e-08, 0.00012339457598623175), -751.4797866772062],\n",
       " [(4.139426872925748e-08, 0.0003354212336337826), -714.9849073008351],\n",
       " [(1.125212884890911e-07, 0.0009117694442660272), -678.4988261657847],\n",
       " [(3.0586457381469427e-07, 0.0024784463120925437), -642.0366583652698],\n",
       " [(8.314261129698537e-07, 0.006737115572972497), -605.6394733710504],\n",
       " [(2.2600504945922903e-06, 0.018313378838239587), -569.4187804824875],\n",
       " [(6.1434541908501015e-06, 0.04978092491367309), -533.6767588822103],\n",
       " [(1.66996398909584e-05, 0.13531858359672175), -499.2282712133758],\n",
       " [(4.5394327657402003e-05, 0.36783404684378496), -468.24567495066077],\n",
       " [(0.00012339457598623172, 0.9998766054240138), -446.3869830224306],\n",
       " [(0.0003354212336337826, 2.717946407225411), -447.745432343685],\n",
       " [(0.0009117694442660272, 7.388144329486384), -504.26906092055214],\n",
       " [(0.0024784463120925437, 20.083058476875575), -675.4431081083308],\n",
       " [(0.006737115572972497, 54.59141291757126), -1036.6296086631412],\n",
       " [(0.018313378838239587, 148.39484572373837), -1625.4826054592863],\n",
       " [(0.04978092491367309, 403.37901256782146), -2400.310302333293],\n",
       " [(0.13531858359672172, 1096.4978398448618), -3280.4331806860514],\n",
       " [(0.3678340468437849, 2980.5901529948846), -4210.513203132112],\n",
       " [(0.9998766054240139, 8102.08405096996), -5150.045245073917],\n",
       " [(2.7179464072254116, 22023.747848399493), -6034.400181689111],\n",
       " [(1.522487236901824e-08, 4.538470489011584e-05), -750.9935912485338],\n",
       " [(4.1385493901310506e-08, 0.00012336841859277825), -714.4954751375279],\n",
       " [(1.1249743603373496e-07, 0.0003353501304664781), -678.0005960193524],\n",
       " [(3.057997361187356e-07, 0.0009115761658183975), -641.5145155806346],\n",
       " [(8.3124986583913e-07, 0.0024779209268005194), -605.0523496324516],\n",
       " [(2.2595714052195262e-06, 0.006735687427680248), -568.6551693943512],\n",
       " [(6.142151890913908e-06, 0.018309496736843265), -532.4344871741249],\n",
       " [(1.669609987270664e-05, 0.04977037226799124), -496.6924790493186],\n",
       " [(4.538470489011584e-05, 0.13528989853172257), -462.24392272138766],\n",
       " [(0.00012336841859277825, 0.36775607275284955), -431.26051224623],\n",
       " [(0.00033535013046647816, 0.9996646498695335), -409.39664514614924],\n",
       " [(0.0009115761658183976, 2.7173702522932266), -410.7307834350183],\n",
       " [(0.00247792092680052, 7.38657817800385), -467.16174407856346],\n",
       " [(0.0067356874276802495, 20.078801235759986), -638.0298779518633],\n",
       " [(0.018309496736843265, 54.579840536407396), -998.3042086194162],\n",
       " [(0.04977037226799124, 148.3633887303086), -1584.6166676388389],\n",
       " [(0.1352898985317226, 403.2935035942034), -2352.681316998507],\n",
       " [(0.36775607275284955, 1096.2654023557056), -3215.6040111768216],\n",
       " [(0.9996646498695336, 2979.958322391859), -4107.590975229528],\n",
       " [(2.7173702522932275, 8100.366557323091), -4968.066565087068],\n",
       " [(7.386578178003852, 22019.079216628714), -5731.989713251835],\n",
       " [(4.1361660235817236e-08, 4.5358568102249036e-05), -714.0362198452838],\n",
       " [(1.1243264941391907e-07, 0.00012329737143726565), -677.5381039930174],\n",
       " [(3.0562362782736276e-07, 0.0003351570042746845), -641.0432255761415],\n",
       " [(8.307711538708503e-07, 0.0009110511944006454), -604.5571470289773],\n",
       " [(2.2582701311750857e-06, 0.0024764939065351835), -568.094986132429],\n",
       " [(6.13861466132506e-06, 0.0067318083844241415), -531.6978187362057],\n",
       " [(1.6686484685792186e-05, 0.018298952404048385), -495.47716555679744],\n",
       " [(4.5358568102249036e-05, 0.049741709799761696), -459.7351940872346],\n",
       " [(0.00012329737143726565, 0.13521198586517544), -425.28645164387547],\n",
       " [(0.0003351570042746845, 0.36754428416716767), -394.3008320783811],\n",
       " [(0.0009110511944006454, 0.9990889488055994), -372.42292340099937],\n",
       " [(0.0024764939065351835, 2.7158053345525097), -373.69112299214873],\n",
       " [(0.006731808384424143, 7.382324290546226), -429.87101610186437],\n",
       " [(0.018298952404048392, 20.06723797078362), -599.9127264893957],\n",
       " [(0.049741709799761696, 54.548408323344475), -957.7439710934028],\n",
       " [(0.13521198586517544, 148.27794711671143), -1537.405230257674],\n",
       " [(0.36754428416716767, 403.0612492085679), -2288.4558743182015],\n",
       " [(0.9990889488055994, 1095.634069479653), -3111.91937452832],\n",
       " [(2.7158053345525106, 2978.242181707176), -3925.8680608222135],\n",
       " [(7.382324290546227, 8095.701603284838), -4665.001565296682],\n",
       " [(20.067237970783623, 22006.398556835935), -5365.17599927352],\n",
       " [(1.1225691764031236e-07, 4.528767284484454e-05), -677.1519724368427],\n",
       " [(3.0514593934048473e-07, 0.00012310465814733908), -640.6538572864023],\n",
       " [(8.294726619373057e-07, 0.00033463315524057455), -604.1589807719965],\n",
       " [(2.254740464147731e-06, 0.0009096272250903685), -567.6729073760905],\n",
       " [(6.12902003158409e-06, 0.0024726231566347743), -531.2107601053444],\n",
       " [(1.6660403778116512e-05, 0.00672128659530735), -494.8136276066471],\n",
       " [(4.528767284484454e-05, 0.018270351215889335), -458.5930532546868],\n",
       " [(0.00012310465814733908, 0.0496639637097166), -422.8511816045217],\n",
       " [(0.00033463315524057455, 0.13500065008137213), -388.4019370628949],\n",
       " [(0.0009096272250903686, 0.366969813946352), -357.41034326224474],\n",
       " [(0.0024726231566347748, 0.9975273768433652), -335.4944569200531],\n",
       " [(0.006721286595307351, 2.711560541863738), -336.58448573479586],\n",
       " [(0.01827035121588934, 7.370785747714761), -392.0879721144231],\n",
       " [(0.04966396370971661, 20.035872959477953), -559.9201755018794],\n",
       " [(0.13500065008137213, 54.46314938306286), -911.3262338763416],\n",
       " [(0.366969813946352, 148.04618928863025), -1474.2401451389683],\n",
       " [(0.9975273768433653, 402.43126611589173), -2186.4073228287434],\n",
       " [(2.711560541863738, 1093.9215978865948), -2931.1831041535406],\n",
       " [(7.370785747714762, 2973.5872012940135), -3608.942705808748],\n",
       " [(20.035872959477953, 8083.048054615906), -4153.9124480075],\n",
       " [(54.46314938306288, 21972.002645423654), -4908.967375343219],\n",
       " [(3.0385496187331427e-07, 4.509607480061154e-05), -640.4657086300466],\n",
       " [(8.259634213473464e-07, 0.00012258384066533222), -603.9675953765432],\n",
       " [(2.245201359220353e-06, 0.0003332174265432915), -567.4727240241477],\n",
       " [(6.103090056000235e-06, 0.000905778875498516), -530.9866644732709],\n",
       " [(1.6589918796674536e-05, 0.002462162257869684), -494.5245540910914],\n",
       " [(4.5096074800611536e-05, 0.0066928509242848554), -458.1275159597676],\n",
       " [(0.0001225838406653322, 0.018193055048068847), -421.9071550416293],\n",
       " [(0.00033321742654329154, 0.049453850941320654), -386.1655560303042],\n",
       " [(0.0009057788754985161, 0.1344295043611142), -351.7149745387493],\n",
       " [(0.0024621622578696843, 0.3654172789135727), -320.7073655483674],\n",
       " [(0.006692850924284856, 0.9933071490757152), -298.689642834283],\n",
       " [(0.018193055048068847, 2.700088773410976), -299.303130838267],\n",
       " [(0.04945385094132066, 7.33960224798933), -353.0114646886438],\n",
       " [(0.1344295043611142, 19.951107418826552), -515.092562950191],\n",
       " [(0.3654172789135726, 54.23273275423066), -850.533377719361],\n",
       " [(0.9933071490757153, 147.41985195350088), -1375.2857422109973],\n",
       " [(2.7000887734109766, 400.7287047193241), -2010.0518315250504],\n",
       " [(7.33960224798933, 1089.293556180469), -2622.6463027771856],\n",
       " [(19.951107418826556, 2961.0068796229016), -3125.542901609629],\n",
       " [(54.23273275423067, 8048.8511948211535), -3534.7706618823936],\n",
       " [(147.4198519535009, 21879.045942853216), -3640.504943225154],\n",
       " [(8.16572668972262e-07, 4.458335709351259e-05), -604.311870465515],\n",
       " [(2.219674647683603e-06, 0.00012119012943899596), -567.8137623087213],\n",
       " [(6.033701259889572e-06, 0.00032942892664262227), -531.3189046938842],\n",
       " [(1.640130049310827e-05, 0.000895480665061408), -494.8328822558174],\n",
       " [(4.4583357093512586e-05, 0.002434168819572846), -458.37087064137614],\n",
       " [(0.00012119012943899592, 0.006616756869646471), -421.97408542882346],\n",
       " [(0.0003294289266426222, 0.017986209962091555), -385.75429852091946],\n",
       " [(0.0008954806650614078, 0.04889158770280254), -350.0134497201517],\n",
       " [(0.002434168819572846, 0.13290111441703986), -315.55943408513184],\n",
       " [(0.006616756869646471, 0.36126268430179587), -284.5099040882197],\n",
       " [(0.017986209962091555, 0.9820137900379085), -262.22537838182404],\n",
       " [(0.048891587702802525, 2.6693902407562424), -261.59860740287945],\n",
       " [(0.13290111441703983, 7.256154984513611), -310.7248505145241],\n",
       " [(0.3612626843017958, 19.724274238885872), -458.76434878789075],\n",
       " [(0.9820137900379083, 53.616136243106325), -758.4187582271661],\n",
       " [(2.6693902407562424, 145.74376886182037), -1208.0751996191932],\n",
       " [(7.25615498451361, 396.1726385082215), -1713.296767367458],\n",
       " [(19.72427423888587, 1076.9088841895727), -2147.1998068312378],\n",
       " [(53.616136243106325, 2927.341850798622), -2457.4478926445177],\n",
       " [(145.74376886182034, 7957.340158713564), -2667.3430003799726],\n",
       " [(396.1726385082215, 21630.293156298496), -2666.253687749064],\n",
       " [(2.1531313111860465e-06, 4.324679845129881e-05), -569.5642475470568],\n",
       " [(5.852817717483228e-06, 0.00011755698636919633), -533.06615260177],\n",
       " [(1.5909608046717804e-05, 0.0003195530198557941), -496.57133085960305],\n",
       " [(4.324679845129881e-05, 0.0008686351671032174), -460.08540521746744],\n",
       " [(0.00011755698636919635, 0.002361195190297162), -423.62365143543934],\n",
       " [(0.0003195530198557941, 0.006418393979229673), -387.22752820858796],\n",
       " [(0.0008686351671032174, 0.017447003721630962), -351.00925721841463],\n",
       " [(0.0023611951902971625, 0.04742587317756678), -315.2705052444665],\n",
       " [(0.0064183939792296744, 0.12891688925738304), -280.80851941611667],\n",
       " [(0.017447003721630966, 0.35043243744981134), -249.65609376440392],\n",
       " [(0.04742587317756679, 0.9525741268224333), -226.7145739695552],\n",
       " [(0.12891688925738304, 2.589364939201662), -223.08159313913288],\n",
       " [(0.3504324374498114, 7.038623661480839), -261.5722139619352],\n",
       " [(0.9525741268224334, 19.132962796365234), -379.59907523031075],\n",
       " [(2.5893649392016624, 52.00878509394257), -611.4966861849553],\n",
       " [(7.038623661480839, 141.37453544109576), -938.772467644031],\n",
       " [(19.132962796365238, 384.2958306963699), -1269.1653788555107],\n",
       " [(52.00878509394258, 1044.624373334516), -1513.451733712835],\n",
       " [(141.3745354410958, 2839.5834516006325), -1639.4389658799425],\n",
       " [(384.29583069637, 7718.788096879014), -1711.1133049356565],\n",
       " [(1044.6243733345163, 20981.8414214722), -1972.2820052346744],\n",
       " [(5.411804287287096e-06, 3.998812547519776e-05), -538.3614751462179],\n",
       " [(1.4710809253309268e-05, 0.00010869899483337029), -501.8634124688894],\n",
       " [(3.9988125475197754e-05, 0.0002954745024273141), -465.3686782288591],\n",
       " [(0.00010869899483337029, 0.000803182970721146), -428.88298888389073],\n",
       " [(0.00029547450242731405, 0.0021832776742390443), -392.4218659250731],\n",
       " [(0.0008031829707211459, 0.005934764028364321), -356.0273728965622],\n",
       " [(0.0021832776742390443, 0.016132361214495135), -319.8129165001558],\n",
       " [(0.005934764028364321, 0.043852304339499625), -284.0801319182011],\n",
       " [(0.016132361214495135, 0.11920292202211757), -249.6046557043403],\n",
       " [(0.043852304339499625, 0.32402713683194273), -218.23975312405182],\n",
       " [(0.11920292202211755, 0.8807970779778824), -193.9217339398175],\n",
       " [(0.3240271368319427, 2.3942546916271024), -184.18039431456987],\n",
       " [(0.8807970779778823, 6.508259020952768), -202.629593876878],\n",
       " [(2.3942546916271024, 17.691282231560564), -269.98800282968256],\n",
       " [(6.508259020952767, 48.08989101219147), -401.32045012054095],\n",
       " [(17.691282231560564, 130.72187687101604), -574.327254980558],\n",
       " [(48.08989101219147, 355.33890248054365), -729.005752964983],\n",
       " [(130.721876871016, 965.9112815574425), -824.5881952310237],\n",
       " [(355.33890248054365, 2625.6190845611845), -906.1509144705661],\n",
       " [(965.9112815574425, 7137.172646017942), -1030.278128216852],\n",
       " [(2625.619084561185, 19400.846710245532), -1256.8983135764502],\n",
       " [(1.220992164042062e-05, 3.319000812206423e-05), -515.1502064258616],\n",
       " [(3.319000812206423e-05, 9.021979596461533e-05), -478.65221108941506],\n",
       " [(9.021979596461533e-05, 0.0002452428319378965), -442.157659577931],\n",
       " [(0.0002452428319378965, 0.0006666391336166197), -405.6724645484389],\n",
       " [(0.0006666391336166197, 0.0018121130430497389), -369.2126676372011],\n",
       " [(0.0018121130430497389, 0.004925833956035728), -332.82164945525574],\n",
       " [(0.004925833956035728, 0.013389804932698451), -296.61569248437246],\n",
       " [(0.013389804932698453, 0.03639726343516549), -260.89925957135006],\n",
       " [(0.0363972634351655, 0.0989380198014472), -226.42270411847636],\n",
       " [(0.0989380198014472, 0.2689414213699951), -194.78737786324942],\n",
       " [(0.2689414213699951, 0.7310585786300049), -168.56189387160794],\n",
       " [(0.7310585786300049, 1.9872232498290403), -150.61212495412047],\n",
       " [(1.9872232498290405, 5.40183284910161), -144.32459546749934],\n",
       " [(5.40183284910161, 14.683704074086059), -154.98206706311555],\n",
       " [(14.683704074086059, 39.91444595905818), -185.70510805110985],\n",
       " [(39.91444595905818, 108.49871314351842), -227.48921670713307],\n",
       " [(108.49871314351842, 294.9300803492167), -262.54260239991027],\n",
       " [(294.93008034921667, 801.7030780792418), -282.8841550837796],\n",
       " [(801.703078079242, 2179.2549089624863), -292.08425367688653],\n",
       " [(2179.2549089624863, 5923.829018612898), -306.20813785278244],\n",
       " [(5923.829018612899, 16102.63677619382), -827.4631765226236],\n",
       " [(2.2699964881242427e-05, 2.2699964881242427e-05), -506.2617934416749],\n",
       " [(6.170490204333978e-05, 6.170490204333978e-05), -469.7639020842268],\n",
       " [(0.00016773131395125593, 0.00016773131395125593), -433.26963302631356],\n",
       " [(0.0004559409827772581, 0.0004559409827772581), -396.7852043774061],\n",
       " [(0.0012393760883331792, 0.0012393760883331792), -360.32748032030156],\n",
       " [(0.0033689734995427335, 0.0033689734995427335), -323.942020374056],\n",
       " [(0.00915781944436709, 0.00915781944436709), -287.7506152028158],\n",
       " [(0.024893534183931972, 0.024893534183931972), -252.06976233756245],\n",
       " [(0.06766764161830635, 0.06766764161830635), -217.66312247973022],\n",
       " [(0.18393972058572117, 0.18393972058572117), -186.06108371088106],\n",
       " [(0.5, 0.5), -159.2567091169067],\n",
       " [(1.3591409142295225, 1.3591409142295225), -138.15557947255843],\n",
       " [(3.694528049465325, 3.694528049465325), -122.32863559271047],\n",
       " [(10.042768461593834, 10.042768461593834), -111.8644929480624],\n",
       " [(27.299075016572118, 27.299075016572118), -107.03767778771882],\n",
       " [(74.2065795512883, 74.2065795512883), -106.41612752163053],\n",
       " [(201.71439674636756, 201.71439674636756), -107.39190878128143],\n",
       " [(548.3165792142293, 548.3165792142293), -108.40488387327244],\n",
       " [(1490.4789935208642, 1490.4789935208642), -109.16919188364417],\n",
       " [(4051.541963787692, 4051.541963787692), -109.77913298895417],\n",
       " [(11013.232897403359, 11013.232897403359), -110.32145199316744],\n",
       " [(3.319000812206423e-05, 1.2209921640420623e-05), -515.1503274998885],\n",
       " [(9.021979596461533e-05, 3.319000812206423e-05), -478.6525402017782],\n",
       " [(0.00024524283193789656, 9.021979596461529e-05), -442.15855419096357],\n",
       " [(0.0006666391336166197, 0.0002452428319378965), -405.67489630615404],\n",
       " [(0.0018121130430497389, 0.0006666391336166196), -369.21927745116295],\n",
       " [(0.004925833956035728, 0.0018121130430497389), -332.8396139207295],\n",
       " [(0.013389804932698451, 0.004925833956035727), -296.6645037752673],\n",
       " [(0.03639726343516549, 0.013389804932698451), -261.0317864476944],\n",
       " [(0.0989380198014472, 0.0363972634351655), -226.7818088775682],\n",
       " [(0.2689414213699951, 0.09893801980144723), -195.75532362878317],\n",
       " [(0.7310585786300049, 0.2689414213699951), -171.13644816382518],\n",
       " [(1.9872232498290403, 0.7310585786300048), -157.25274618838014],\n",
       " [(5.40183284910161, 1.9872232498290403), -160.42166311614582],\n",
       " [(14.683704074086057, 5.401832849101611), -189.93471550410675],\n",
       " [(39.914445959058185, 14.683704074086052), -249.82780372475585],\n",
       " [(108.49871314351843, 39.91444595905817), -323.45507519292875],\n",
       " [(294.93008034921667, 108.49871314351844), -382.30235566927075],\n",
       " [(801.7030780792418, 294.9300803492167), -415.4397750617886],\n",
       " [(2179.2549089624863, 801.703078079242), -430.13119330186856],\n",
       " [(5923.829018612897, 2179.254908962487), -472.0845626104989],\n",
       " [(16102.636776193818, 5923.8290186129), -973.5015020109746],\n",
       " [(3.9988125475197754e-05, 5.4118042872871e-06), -538.3616746827856],\n",
       " [(0.0001086989948333703, 1.4710809253309261e-05), -501.86395486392615],\n",
       " [(0.0002954745024273141, 3.998812547519775e-05), -465.37015259969104],\n",
       " [(0.000803182970721146, 0.00010869899483337026), -428.8869965525867],\n",
       " [(0.0021832776742390443, 0.00029547450242731416), -392.43275925724646],\n",
       " [(0.005934764028364321, 0.0008031829707211462), -356.05697931117544],\n",
       " [(0.016132361214495135, 0.002183277674239044), -319.89336016701907],\n",
       " [(0.043852304339499625, 0.00593476402836432), -284.2985436076324],\n",
       " [(0.11920292202211755, 0.016132361214495156), -250.19648381267706],\n",
       " [(0.32402713683194273, 0.043852304339499604), -219.83505365357476],\n",
       " [(0.8807970779778824, 0.11920292202211757), -198.165934917355],\n",
       " [(2.3942546916271024, 0.32402713683194273), -195.13971827298306],\n",
       " [(6.508259020952768, 0.8807970779778822), -229.2949899890302],\n",
       " [(17.691282231560564, 2.394254691627104), -328.48101617284124],\n",
       " [(48.089891012191465, 6.508259020952771), -511.2400669866126],\n",
       " [(130.72187687101604, 17.691282231560564), -745.7769400660043],\n",
       " [(355.33890248054365, 48.08989101219146), -953.2358611589376],\n",
       " [(965.9112815574424, 130.7218768710161), -1081.7964039195513],\n",
       " [(2625.6190845611845, 355.33890248054377), -1184.9942634323988],\n",
       " [(7137.172646017942, 965.9112815574426), -1351.4098380160256],\n",
       " [(19400.846710245536, 2625.619084561182), -1554.568818352154],\n",
       " [(4.3246798451298804e-05, 2.1531313111860503e-06), -569.5644846945904],\n",
       " [(0.00011755698636919632, 5.8528177174832415e-06), -533.0667972337127],\n",
       " [(0.0003195530198557941, 1.590960804671778e-05), -496.57308313694546],\n",
       " [(0.0008686351671032175, 4.3246798451298716e-05), -460.0901682980324],\n",
       " [(0.002361195190297162, 0.00011755698636919639), -423.63659806919594],\n",
       " [(0.006418393979229674, 0.0003195530198557934), -387.2627151839329],\n",
       " [(0.01744700372163096, 0.0008686351671032197), -351.10486384839777],\n",
       " [(0.04742587317756678, 0.0023611951902971634), -315.53008586078676],\n",
       " [(0.12891688925738304, 0.006418393979229664), -281.5119052341905],\n",
       " [(0.35043243744981134, 0.017447003721630994), -251.5521520180876],\n",
       " [(0.9525741268224333, 0.047425873177566746), -231.7597035610469],\n",
       " [(2.589364939201662, 0.1289168892573831), -236.11873476457177],\n",
       " [(7.038623661480838, 0.350432437449812), -293.3770455582042],\n",
       " [(19.132962796365234, 0.9525741268224337), -449.8969710780205],\n",
       " [(52.00878509394257, 2.5893649392016655), -746.1213198300788],\n",
       " [(141.37453544109576, 7.038623661480841), -1156.6987085241822],\n",
       " [(384.2958306963699, 19.132962796365234), -1569.5695612544494],\n",
       " [(1044.624373334516, 52.008785093942606), -1875.621249728352],\n",
       " [(2839.5834516006325, 141.37453544109576), -2041.434158770733],\n",
       " [(7718.788096879014, 384.2958306963701), -2117.7608674534945],\n",
       " [(20981.841421472203, 1044.6243733345145), -2386.623422384818],\n",
       " [(4.458335709351259e-05, 8.165726689722612e-07), -604.312123039344],\n",
       " [(0.00012119012943899595, 2.2196746476836116e-06), -567.8144488735677],\n",
       " [(0.00032942892664262227, 6.033701259889582e-06), -531.3207709557694],\n",
       " [(0.000895480665061408, 1.640130049310824e-05), -494.8379551717879],\n",
       " [(0.0024341688195728462, 4.458335709351226e-05), -458.38465944555344],\n",
       " [(0.006616756869646471, 0.00012119012943899617), -422.0115612950507],\n",
       " [(0.017986209962091555, 0.0003294289266426234), -385.85612430616044],\n",
       " [(0.04889158770280253, 0.0008954806650614128), -350.2899159705326],\n",
       " [(0.13290111441703986, 0.0024341688195728406), -316.30857622121476],\n",
       " [(0.36126268430179587, 0.006616756869646467), -286.52932767029415],\n",
       " [(0.9820137900379085, 0.01798620996209155), -267.5991485547318],\n",
       " [(2.669390240756243, 0.04889158770280222), -275.48980238103985],\n",
       " [(7.256154984513611, 0.13290111441703978), -344.65643397014765],\n",
       " [(19.724274238885872, 0.36126268430179564), -534.0524819991157],\n",
       " [(53.616136243106325, 0.9820137900379109), -904.0935331509376],\n",
       " [(145.74376886182034, 2.6693902407562575), -1449.1381665517365],\n",
       " [(396.1726385082215, 7.256154984513614), -2058.1025685484756],\n",
       " [(1076.9088841895725, 19.724274238885982), -2583.5139413929223],\n",
       " [(2927.341850798622, 53.61613624310621), -2956.9098749632894],\n",
       " [(7957.340158713564, 145.74376886182017), -3230.6893062536465],\n",
       " [(21630.293156298496, 396.172638508222), -3237.899208819128],\n",
       " [(4.5096074800611536e-05, 3.0385496187331824e-07), -640.4659671215625],\n",
       " [(0.00012258384066533222, 8.259634213473449e-07), -603.9682980272761],\n",
       " [(0.0003332174265432915, 2.2452013592203705e-06), -567.4746340116811],\n",
       " [(0.000905778875498516, 6.103090056000233e-06), -530.9918562453049],\n",
       " [(0.002462162257869684, 1.6589918796674607e-05), -494.5386659605452],\n",
       " [(0.0066928509242848554, 4.509607480061156e-05), -458.1658698682042],\n",
       " [(0.018193055048068847, 0.0001225838406653315), -422.0113665592904],\n",
       " [(0.049453850941320654, 0.0003332174265432905), -386.44849978826943],\n",
       " [(0.13442950436111417, 0.0009057788754985308), -352.4816693479153],\n",
       " [(0.3654172789135726, 0.0024621622578697155), -322.77411473088523],\n",
       " [(0.9933071490757152, 0.006692850924284843), -304.1895058522283],\n",
       " [(2.700088773410976, 0.018193055048068896), -313.52226108650996],\n",
       " [(7.339602247989329, 0.0494538509413216), -387.7622327005998],\n",
       " [(19.951107418826552, 0.13442950436111545), -592.3237760606819],\n",
       " [(54.23273275423066, 0.36541727891357567), -1000.6156367374339],\n",
       " [(147.41985195350088, 0.9933071490757186), -1626.3703722313276],\n",
       " [(400.7287047193241, 2.7000887734109824), -2377.407311271022],\n",
       " [(1089.2935561804693, 7.339602247989205), -3109.338285189509],\n",
       " [(2961.0068796229016, 19.951107418826723), -3696.98587262451],\n",
       " [(8048.8511948211535, 54.23273275423071), -4187.125438606899],\n",
       " [(21879.045942853216, 147.41985195350208), -4352.513289480585],\n",
       " [(4.5287672844844546e-05, 1.1225691764030785e-07), -677.1522331397479],\n",
       " [(0.00012310465814733908, 3.0514593934047817e-07), -640.6545659482919],\n",
       " [(0.00033463315524057455, 8.294726619373013e-07), -604.1609070993926],\n",
       " [(0.0009096272250903685, 2.254740464147716e-06), -567.6781435635778],\n",
       " [(0.0024726231566347743, 6.129020031584147e-06), -531.2249927014176],\n",
       " [(0.00672128659530735, 1.6660403778116784e-05), -494.8523096316443],\n",
       " [(0.018270351215889335, 4.5287672844843835e-05), -458.69815629936056],\n",
       " [(0.0496639637097166, 0.00012310465814734106), -423.1365459499778],\n",
       " [(0.13500065008137213, 0.00033463315524057125), -389.17519116013494],\n",
       " [(0.366969813946352, 0.0009096272250903592), -359.49477780799145],\n",
       " [(0.9975273768433652, 0.002472623156634768), -341.04144308233936],\n",
       " [(2.711560541863738, 0.006721286595307241), -350.926208561855],\n",
       " [(7.370785747714761, 0.01827035121588949), -427.1453659773794],\n",
       " [(20.035872959477953, 0.049663963709715375), -637.8825090288418],\n",
       " [(54.46314938306286, 0.1350006500813734), -1063.0989958884995],\n",
       " [(148.04618928863025, 0.36696981394635486), -1729.2476005252815],\n",
       " [(402.43126611589173, 0.9975273768433794), -2563.155811569034],\n",
       " [(1093.9215978865948, 2.7115605418637188), -3433.769916661569],\n",
       " [(2973.5872012940135, 7.370785747714763), -4231.024416215718],\n",
       " [(8083.048054615906, 20.035872959478183), -4869.101998389026],\n",
       " [(21972.002645423654, 54.463149383063865), -5631.735168226545],\n",
       " [(4.535856810224904e-05, 4.1361660235811836e-08), -714.0364813664512],\n",
       " [(0.00012329737143726565, 1.1243264941390957e-07), -677.5388148791623],\n",
       " [(0.0003351570042746845, 3.056236278273618e-07), -641.0451579496345],\n",
       " [(0.0009110511944006454, 8.307711538708528e-07), -604.5623996510401],\n",
       " [(0.0024764939065351835, 2.258270131175015e-06), -568.1092633998611],\n",
       " [(0.006731808384424142, 6.138614661324593e-06), -531.7366221711543],\n",
       " [(0.018298952404048385, 1.6686484685793368e-05), -495.5825984849915],\n",
       " [(0.049741709799761696, 4.535856810224809e-05), -460.0214541004352],\n",
       " [(0.13521198586517544, 0.00012329737143726427), -426.0621328153751],\n",
       " [(0.36754428416716767, 0.00033515700427466655), -396.3918106028723],\n",
       " [(0.9990889488055994, 0.0009110511944006028), -377.98734657622305],\n",
       " [(2.7158053345525097, 0.002476493906535371), -388.0782140690349],\n",
       " [(7.382324290546226, 0.0067318083844245535), -465.0419389611114],\n",
       " [(20.06723797078362, 0.018298952404048663), -678.146063391422],\n",
       " [(54.548408323344475, 0.049741709799761225), -1110.1317326155809],\n",
       " [(148.27794711671143, 0.13521198586516903), -1793.8872982607713],\n",
       " [(403.0612492085679, 0.3675442841671952), -2668.88295180194],\n",
       " [(1095.634069479653, 0.9990889488055927), -3621.6540253691883],\n",
       " [(2978.242181707176, 2.715805334552442), -4569.8983572255165],\n",
       " [(8095.701603284838, 7.382324290546421), -5418.7777918342335],\n",
       " [(22006.398556835935, 20.067237970783026), -6296.375737712541],\n",
       " [(4.538470489011584e-05, 1.5224872369015718e-08), -750.9938530713683],\n",
       " [(0.00012336841859277825, 4.138549390130821e-08), -714.4961868436812],\n",
       " [(0.0003353501304664781, 1.1249743603374473e-07), -678.0025306218427],\n",
       " [(0.0009115761658183975, 3.057997361187231e-07), -641.5197742616195],\n",
       " [(0.0024779209268005194, 8.312498658391392e-07), -605.0666433685913],\n",
       " [(0.006735687427680248, 2.259571405219263e-06), -568.69401758922],\n",
       " [(0.018309496736843265, 6.1421518909136885e-06), -532.5400417197131],\n",
       " [(0.049770372267991234, 1.6696099872710868e-05), -496.97906926625507],\n",
       " [(0.1352898985317226, 4.538470489010016e-05), -463.02049867705506],\n",
       " [(0.3677560727528496, 0.00012336841859272862), -433.3539033277263],\n",
       " [(0.9996646498695335, 0.000335350130466483), -414.9674968483805],\n",
       " [(2.7173702522932266, 0.0009115761658184951), -425.1346012015788],\n",
       " [(7.38657817800385, 0.0024779209268004365), -502.3745311734192],\n",
       " [(20.078801235759986, 0.006735687427681825), -716.3632204271778],\n",
       " [(54.579840536407396, 0.018309496736840458), -1150.9276426883266],\n",
       " [(148.3633887303086, 0.049770372268000074), -1841.725415254693],\n",
       " [(403.2935035942034, 0.1352898985317097), -2734.4975243297986],\n",
       " [(1096.2654023557056, 0.3677560727528544), -3728.643195595903],\n",
       " [(2979.9583223918585, 0.9996646498698283), -4755.28621875296],\n",
       " [(8100.366557323091, 2.7173702522932217), -5753.002684431132],\n",
       " [(22019.079216628714, 7.386578178004129), -6683.239641092456],\n",
       " [(4.5394327657402003e-05, 5.6021050828507376e-09), -787.9781648173363],\n",
       " [(0.00012339457598623175, 1.5228100447810386e-08), -751.4804986852829],\n",
       " [(0.0003354212336337826, 4.139426872925905e-08), -714.9868427239767],\n",
       " [(0.0009117694442660271, 1.1252128848918304e-07), -678.5040870774473],\n",
       " [(0.0024784463120925437, 3.058645738148076e-07), -642.0509581647366],\n",
       " [(0.006737115572972497, 8.31426112970178e-07), -605.6783380446595],\n",
       " [(0.018313378838239587, 2.2600504945916033e-06), -569.524379781778],\n",
       " [(0.0497809249136731, 6.143454190844777e-06), -533.963470646454],\n",
       " [(0.13531858359672175, 1.6699639890954687e-05), -500.0051766011575],\n",
       " [(0.3678340468437849, 4.539432765743312e-05), -470.339954262648],\n",
       " [(0.9998766054240138, 0.00012339457598620207), -451.9602015208029],\n",
       " [(2.717946407225411, 0.00033542123363394794), -462.1554084869174],\n",
       " [(7.388144329486384, 0.0009117694442659641), -539.497262477917],\n",
       " [(20.083058476875575, 0.002478446312093041), -753.8132821230057],\n",
       " [(54.59141291757126, 0.006737115572974517), -1189.3389928005718],\n",
       " [(148.39484572373837, 0.018313378838229255), -1882.770944096457],\n",
       " [(403.37901256782146, 0.04978092491364805), -2782.9440627064223],\n",
       " [(1096.4978398448618, 0.13531858359669968), -3796.3923801400933],\n",
       " [(2980.5901529948846, 0.3678340468436545), -4859.893151216158],\n",
       " [(8102.08405096996, 0.999876605424106), -5941.509810601691],\n",
       " [(22023.747848399493, 2.7179464072250994), -6989.175329395316],\n",
       " [(4.53978687024344e-05, 2.0610600504528164e-09), -824.9723925943866],\n",
       " [(0.00012340420154459704, 5.602542082523568e-09), -788.4747264973562],\n",
       " [(0.0003354473986141758, 1.522928833605844e-08), -751.9810706320569],\n",
       " [(0.000911840568056772, 4.1397497744241965e-08), -715.4983152482249],\n",
       " [(0.002478639646600496, 1.1253006586232558e-07), -679.0451870641432],\n",
       " [(0.006737641110652278, 3.0588843318891945e-07), -642.6725690342677],\n",
       " [(0.018314807397764706, 8.314909694731587e-07), -606.5186172512704],\n",
       " [(0.0497848081410711, 2.2602267928453768e-06), -570.9577314191903],\n",
       " [(0.1353291393031935, 6.143933419189285e-06), -536.9995391203481],\n",
       " [(0.3678627402288737, 1.6700942568614874e-05), -507.3348221802788],\n",
       " [(0.9999546021312976, 4.5397868702390376e-05), -488.95751866666745],\n",
       " [(2.7181584242575005, 0.00012340420154455245), -499.1630716872343],\n",
       " [(7.3887206515320365, 0.0003354473986139084), -576.5424640756681],\n",
       " [(20.084625082619613, 0.0009118405680546005), -790.9791638498187],\n",
       " [(54.59567139349764, 0.002478639646597003), -1226.8602646562751],\n",
       " [(148.40642146146595, 0.006737641110646564), -1921.2705074522282],\n",
       " [(403.4104786853373, 0.018314807397814548), -2823.8396178920093],\n",
       " [(1096.5833736203174, 0.04978480814111208), -3843.142534084977],\n",
       " [(2980.8226579024254, 0.13532913930293944), -4925.075429393965],\n",
       " [(8102.7160648351555, 0.367862740228702), -6048.116078232515],\n",
       " [(22025.465840204586, 0.9999546021317656), -7176.184737229043]]"
      ]
     },
     "execution_count": 751,
     "metadata": {},
     "output_type": "execute_result"
    }
   ],
   "source": [
    "res"
   ]
  },
  {
   "cell_type": "code",
   "execution_count": 752,
   "metadata": {},
   "outputs": [],
   "source": [
    "loglikelihoods = [x[1] for x in res]"
   ]
  },
  {
   "cell_type": "code",
   "execution_count": 753,
   "metadata": {},
   "outputs": [
    {
     "name": "stdout",
     "output_type": "stream",
     "text": [
      "[(74.2065795512883, 74.2065795512883), -106.41612752163053]\n"
     ]
    }
   ],
   "source": [
    "idx = np.argmax(loglikelihoods)\n",
    "print(res[idx])"
   ]
  },
  {
   "cell_type": "code",
   "execution_count": 754,
   "metadata": {},
   "outputs": [
    {
     "name": "stdout",
     "output_type": "stream",
     "text": [
      "37.489644037332155\n",
      "37.489644037332155\n"
     ]
    }
   ],
   "source": [
    "print(np.average(alphas, weights=likelihoods))\n",
    "print(np.average(betas, weights=likelihoods))"
   ]
  },
  {
   "cell_type": "code",
   "execution_count": 755,
   "metadata": {},
   "outputs": [
    {
     "name": "stdout",
     "output_type": "stream",
     "text": [
      "-102.96669806381978\n"
     ]
    }
   ],
   "source": [
    "#a = 235.48; b = 273.18;\n",
    "a = 83; b = 95;\n",
    "post = ComputeLikelihood(genedat, a, b, math.log(scipy.stats.halfcauchy.pdf(1/math.sqrt(a+b))))\n",
    "print(post)"
   ]
  },
  {
   "cell_type": "code",
   "execution_count": 756,
   "metadata": {},
   "outputs": [
    {
     "name": "stdout",
     "output_type": "stream",
     "text": [
      "-103.48895137944243\n"
     ]
    }
   ],
   "source": [
    "a = 235.48; b = 273.18;\n",
    "#a = 83; b = 95;\n",
    "post = ComputeLikelihood(genedat, a, b, math.log(scipy.stats.halfcauchy.pdf(1/math.sqrt(a+b))))\n",
    "print(post)"
   ]
  },
  {
   "cell_type": "code",
   "execution_count": 757,
   "metadata": {},
   "outputs": [
    {
     "name": "stdout",
     "output_type": "stream",
     "text": [
      "-107.97827726982223\n"
     ]
    }
   ],
   "source": [
    "a = 20; b = 20;\n",
    "post = ComputeLikelihood(genedat, a, b, math.log(scipy.stats.halfcauchy.pdf(1/math.sqrt(a+b))))\n",
    "print(post)"
   ]
  },
  {
   "cell_type": "code",
   "execution_count": 739,
   "metadata": {},
   "outputs": [
    {
     "name": "stdout",
     "output_type": "stream",
     "text": [
      "-107.06337551283255\n"
     ]
    }
   ],
   "source": [
    "a = 27; b = 27;\n",
    "post = ComputeLikelihood(genedat, a, b, math.log(scipy.stats.halfcauchy.pdf(1/math.sqrt(a+b))))\n",
    "print(post)"
   ]
  },
  {
   "cell_type": "code",
   "execution_count": 689,
   "metadata": {},
   "outputs": [
    {
     "name": "stdout",
     "output_type": "stream",
     "text": [
      "235.48 273.18 0.4629418472063854 0.022086840861581813\n"
     ]
    }
   ],
   "source": [
    "#_alpha, _beta\n",
    "a = 235.48; b = 273.18;\n",
    "#a, b = 27.299075016572118, 27.299075016572118\n",
    "mean = scipy.stats.beta.mean(a,b)\n",
    "var = scipy.stats.beta.std(a,b)\n",
    "print(a, b, mean, var)"
   ]
  },
  {
   "cell_type": "code",
   "execution_count": 720,
   "metadata": {},
   "outputs": [
    {
     "name": "stdout",
     "output_type": "stream",
     "text": [
      "(-2.17475008743004, -5.545270172148161)\n",
      "-5.0 1.7461439779140548 -0.5785107163324273 -8.08062336312605 -11.912990101544422\n"
     ]
    }
   ],
   "source": [
    "af, bf = 6.508259020952768, 0.8807970779778822\n",
    "k = 24; n = 69\n",
    "#6.508259020952768 0.8807970779778822\n",
    "#24 69 -11.334479385212042\n",
    "print(beta_binom_ASE2(0.5, af, bf, k, n))\n",
    "res = SimpsonQuad(beta_binom_ASE, 0, 1, args=(af, bf, k, n), steps=100)\n",
    "J1 = math.log(Jacobian1(af, bf))\n",
    "J2 = math.log(Jacobian2(af, bf))\n",
    "prior = scipy.stats.halfcauchy.logpdf(1/math.sqrt(af+bf))\n",
    "res2 = math.log(res) + J1 + J2 + prior\n",
    "print(J1, J2, prior, math.log(res), res2)"
   ]
  },
  {
   "cell_type": "code",
   "execution_count": null,
   "metadata": {},
   "outputs": [],
   "source": []
  },
  {
   "cell_type": "code",
   "execution_count": null,
   "metadata": {},
   "outputs": [],
   "source": []
  },
  {
   "cell_type": "code",
   "execution_count": null,
   "metadata": {},
   "outputs": [],
   "source": []
  },
  {
   "cell_type": "code",
   "execution_count": null,
   "metadata": {},
   "outputs": [],
   "source": []
  },
  {
   "cell_type": "code",
   "execution_count": 133,
   "metadata": {},
   "outputs": [
    {
     "data": {
      "text/plain": [
       "[<matplotlib.lines.Line2D at 0x1c34800780>]"
      ]
     },
     "execution_count": 133,
     "metadata": {},
     "output_type": "execute_result"
    },
    {
     "data": {
      "image/png": "[encoded data removed]",
      "text/plain": [
       "<Figure size 432x288 with 1 Axes>"
      ]
     },
     "metadata": {
      "needs_background": "light"
     },
     "output_type": "display_data"
    }
   ],
   "source": [
    "from scipy.stats import beta\n",
    "fig, ax = plt.subplots(1, 1)\n",
    "a, b = 0.1,0.9\n",
    "x = np.linspace(beta.ppf(0.01, a, b), beta.ppf(0.99, a, b), 100)\n",
    "ax.plot(x, beta.pdf(x, a, b), 'r-', lw=5, alpha=0.6, label='beta pdf')"
   ]
  },
  {
   "cell_type": "code",
   "execution_count": 186,
   "metadata": {},
   "outputs": [],
   "source": [
    "# Test with 1 example\n",
    "# parse idx file\n",
    "Test_ASE_GENE = ASEGene(\"ENSG00000167930\")\n",
    "\n",
    "idx_fil = pd.read_csv(\"NMD_Model/ENSG00000167930.idx\")\n",
    "for i, row in idx_fil.iterrows():\n",
    "    var = ASEVar(row[\"Sample\"], row[\"Variant\"], row[\"Ref\"], row[\"Alt\"], \"ENSG00000167930\")\n",
    "    Test_ASE_GENE.ASEVars.append(var)"
   ]
  },
  {
   "cell_type": "code",
   "execution_count": 193,
   "metadata": {},
   "outputs": [
    {
     "name": "stdout",
     "output_type": "stream",
     "text": [
      "-121.77439452826998 0.4629418472063854 0.022086840861581813\n"
     ]
    }
   ],
   "source": [
    "a = 235.48; b = 273.18;\n",
    "#a = 83; b = 95;\n",
    "post = ComputeLikelihood(genedat, a, b, math.log(scipy.stats.halfcauchy.pdf(1/math.sqrt(a+b))))\n",
    "print(post, scipy.stats.beta.mean(a,b), scipy.stats.beta.std(a,b))"
   ]
  },
  {
   "cell_type": "code",
   "execution_count": 497,
   "metadata": {},
   "outputs": [],
   "source": [
    "#\n",
    "Andy_LGD = pd.read_csv(\"NMD_model/DEBUG_parmfit_table_ef.csv\")\n",
    "Andy_LGD.head(2)\n",
    "ADPSBQ_LGD = Andy_LGD[Andy_LGD[\"tissue\"]==\"ADPSBQ\"]\n",
    "ADPSBQ_vars = set(ADPSBQ_LGD[\"variant\"].values)"
   ]
  },
  {
   "cell_type": "code",
   "execution_count": 500,
   "metadata": {},
   "outputs": [
    {
     "data": {
      "text/plain": [
       "{'indel:1D_10_125780752',\n",
       " 'indel:1D_10_27687759',\n",
       " 'indel:1D_10_70156582',\n",
       " 'indel:1D_10_88417866',\n",
       " 'indel:1D_11_720552',\n",
       " 'indel:1D_12_4735969',\n",
       " 'indel:1D_12_66704273',\n",
       " 'indel:1D_14_105173980',\n",
       " 'indel:1D_14_51378590',\n",
       " 'indel:1D_15_42160355',\n",
       " 'indel:1D_17_17075180',\n",
       " 'indel:1D_17_78078909',\n",
       " 'indel:1D_19_3544726',\n",
       " 'indel:1D_19_43979688',\n",
       " 'indel:1D_19_48581032',\n",
       " 'indel:1D_2_100210334',\n",
       " 'indel:1D_2_242163075',\n",
       " 'indel:1D_4_2074702',\n",
       " 'indel:1D_5_60195521',\n",
       " 'indel:1D_6_99958089',\n",
       " 'indel:1D_7_107664504',\n",
       " 'indel:1D_7_92146720',\n",
       " 'indel:1D_8_121293166',\n",
       " 'indel:1D_8_144940776',\n",
       " 'indel:1D_8_22570907',\n",
       " 'indel:1D_9_130162219',\n",
       " 'indel:1D_9_139235481',\n",
       " 'indel:1D_X_130409665',\n",
       " 'indel:1I_10_118215310',\n",
       " 'indel:1I_10_27687534',\n",
       " 'indel:1I_12_122064788',\n",
       " 'indel:1I_12_39720130',\n",
       " 'indel:1I_12_4735965',\n",
       " 'indel:1I_13_113719405',\n",
       " 'indel:1I_14_23235885',\n",
       " 'indel:1I_14_73976140',\n",
       " 'indel:1I_16_19592990',\n",
       " 'indel:1I_16_50763778',\n",
       " 'indel:1I_16_89811434',\n",
       " 'indel:1I_17_7751917',\n",
       " 'indel:1I_19_11326148',\n",
       " 'indel:1I_1_28785729',\n",
       " 'indel:1I_20_61512380',\n",
       " 'indel:1I_2_135965179',\n",
       " 'indel:1I_3_122345822',\n",
       " 'indel:1I_3_125752493',\n",
       " 'indel:1I_3_73437221',\n",
       " 'indel:1I_5_78317458',\n",
       " 'indel:1I_7_158536387',\n",
       " 'indel:1I_7_92132483',\n",
       " 'indel:1I_8_144940792',\n",
       " 'indel:1I_8_1851668',\n",
       " 'indel:2D_10_129905111',\n",
       " 'indel:2D_10_135084005',\n",
       " 'indel:2D_10_33136818',\n",
       " 'indel:2D_10_70509284',\n",
       " 'indel:2D_11_6590085',\n",
       " 'indel:2D_14_105173940',\n",
       " 'indel:2D_14_81297440',\n",
       " 'indel:2D_15_42160351',\n",
       " 'indel:2D_16_88677691',\n",
       " 'indel:2D_1_201617772',\n",
       " 'indel:2D_1_43002199',\n",
       " 'indel:2D_20_60908752',\n",
       " 'indel:2D_22_43933284',\n",
       " 'indel:2D_2_197943382',\n",
       " 'indel:2D_2_242163365',\n",
       " 'indel:2D_3_65372849',\n",
       " 'indel:2D_7_131241039',\n",
       " 'indel:2D_7_98507872',\n",
       " 'indel:2D_8_144940782',\n",
       " 'indel:2D_9_112151611',\n",
       " 'indel:2I_4_39448263',\n",
       " 'indel:2I_8_144940785',\n",
       " 'indel:3D_14_90489419',\n",
       " 'indel:3I_10_116331054',\n",
       " 'indel:3I_8_144940798',\n",
       " 'indel:4D_14_72056009',\n",
       " 'indel:4D_17_67125893',\n",
       " 'indel:4D_17_78293241',\n",
       " 'indel:4D_19_39230769',\n",
       " 'indel:4D_19_871634',\n",
       " 'indel:4D_3_151165617',\n",
       " 'indel:4D_3_52427030',\n",
       " 'indel:4D_7_131241042',\n",
       " 'indel:4I_19_1004896',\n",
       " 'indel:4I_19_55526103',\n",
       " 'indel:4I_3_100170640',\n",
       " 'indel:4I_7_155532525',\n",
       " 'indel:4I_8_126056913',\n",
       " 'indel:5D_19_7794205',\n",
       " 'indel:5D_2_100210337',\n",
       " 'indel:5I_X_153050163',\n",
       " 'indel:6D_13_25832831',\n",
       " 'snp_10_99133585',\n",
       " 'snp_11_102573484',\n",
       " 'snp_11_10655623',\n",
       " 'snp_11_6592054',\n",
       " 'snp_11_71152447',\n",
       " 'snp_11_800453',\n",
       " 'snp_12_113403675',\n",
       " 'snp_12_121458486',\n",
       " 'snp_12_125432618',\n",
       " 'snp_12_132626669',\n",
       " 'snp_12_7526166',\n",
       " 'snp_13_113749363',\n",
       " 'snp_13_32972626',\n",
       " 'snp_14_50295348',\n",
       " 'snp_14_58832019',\n",
       " 'snp_14_64560092',\n",
       " 'snp_15_42143077',\n",
       " 'snp_15_42145817',\n",
       " 'snp_15_42646611',\n",
       " 'snp_15_52433368',\n",
       " 'snp_15_62283295',\n",
       " 'snp_15_90260182',\n",
       " 'snp_15_90764219',\n",
       " 'snp_16_1245567',\n",
       " 'snp_16_1394089',\n",
       " 'snp_16_47697635',\n",
       " 'snp_16_67299990',\n",
       " 'snp_16_81211411',\n",
       " 'snp_16_84495318',\n",
       " 'snp_16_8732980',\n",
       " 'snp_16_88779303',\n",
       " 'snp_17_15234412',\n",
       " 'snp_17_27424239',\n",
       " 'snp_17_3419764',\n",
       " 'snp_17_7290695',\n",
       " 'snp_17_74097311',\n",
       " 'snp_17_7679346',\n",
       " 'snp_17_79972949',\n",
       " 'snp_17_80369330',\n",
       " 'snp_17_8731461',\n",
       " 'snp_18_66513612',\n",
       " 'snp_18_67864880',\n",
       " 'snp_19_1056244',\n",
       " 'snp_19_1627422',\n",
       " 'snp_19_2936535',\n",
       " 'snp_19_35837096',\n",
       " 'snp_19_36592957',\n",
       " 'snp_19_44988611',\n",
       " 'snp_19_45860730',\n",
       " 'snp_19_49686146',\n",
       " 'snp_19_55697712',\n",
       " 'snp_19_56171880',\n",
       " 'snp_19_871604',\n",
       " 'snp_1_145074975',\n",
       " 'snp_1_146747766',\n",
       " 'snp_1_152275410',\n",
       " 'snp_1_156533066',\n",
       " 'snp_1_186043957',\n",
       " 'snp_1_206516364',\n",
       " 'snp_1_223285215',\n",
       " 'snp_1_228465550',\n",
       " 'snp_1_228469903',\n",
       " 'snp_1_236959039',\n",
       " 'snp_1_3396465',\n",
       " 'snp_1_3753057',\n",
       " 'snp_1_38328104',\n",
       " 'snp_1_42047513',\n",
       " 'snp_1_43777501',\n",
       " 'snp_1_48708228',\n",
       " 'snp_1_5935162',\n",
       " 'snp_20_18142462',\n",
       " 'snp_20_18393499',\n",
       " 'snp_20_3687141',\n",
       " 'snp_20_39983351',\n",
       " 'snp_20_4162531',\n",
       " 'snp_20_47873952',\n",
       " 'snp_21_28216059',\n",
       " 'snp_21_45838383',\n",
       " 'snp_22_19188987',\n",
       " 'snp_22_25755793',\n",
       " 'snp_22_32000873',\n",
       " 'snp_2_110922263',\n",
       " 'snp_2_11727507',\n",
       " 'snp_2_135878431',\n",
       " 'snp_2_162904013',\n",
       " 'snp_2_201505908',\n",
       " 'snp_2_219495414',\n",
       " 'snp_2_219602418',\n",
       " 'snp_2_219613658',\n",
       " 'snp_2_220405322',\n",
       " 'snp_2_239170960',\n",
       " 'snp_2_241496770',\n",
       " 'snp_2_242046783',\n",
       " 'snp_2_85777745',\n",
       " 'snp_3_105452851',\n",
       " 'snp_3_113145119',\n",
       " 'snp_3_168825713',\n",
       " 'snp_3_41746566',\n",
       " 'snp_3_56628033',\n",
       " 'snp_4_38942588',\n",
       " 'snp_4_944210',\n",
       " 'snp_5_112403876',\n",
       " 'snp_5_154291324',\n",
       " 'snp_5_37157424',\n",
       " 'snp_5_78340149',\n",
       " 'snp_5_95128742',\n",
       " 'snp_6_139581478',\n",
       " 'snp_6_17633077',\n",
       " 'snp_6_31124849',\n",
       " 'snp_6_36981543',\n",
       " 'snp_6_99936132',\n",
       " 'snp_7_150746207',\n",
       " 'snp_7_2752059',\n",
       " 'snp_7_92763811',\n",
       " 'snp_7_99499799',\n",
       " 'snp_8_100133706',\n",
       " 'snp_8_110472066',\n",
       " 'snp_8_144411525',\n",
       " 'snp_8_144811340',\n",
       " 'snp_8_22053701',\n",
       " 'snp_8_95800143',\n",
       " 'snp_8_99139843',\n",
       " 'snp_9_100056376',\n",
       " 'snp_9_100124113',\n",
       " 'snp_9_101782726',\n",
       " 'snp_9_134385435',\n",
       " 'snp_9_17298291',\n",
       " 'snp_9_19357166'}"
      ]
     },
     "execution_count": 500,
     "metadata": {},
     "output_type": "execute_result"
    }
   ],
   "source": [
    "my_ADPS_LGD_vars = set(LGD_ADPS.keys())\n",
    "ADPSBQ_vars.difference(my_ADPS_LGD_vars)"
   ]
  },
  {
   "cell_type": "code",
   "execution_count": 501,
   "metadata": {},
   "outputs": [
    {
     "data": {
      "text/plain": [
       "{'indel:1D_10_102796865',\n",
       " 'indel:1D_10_75184515',\n",
       " 'indel:1D_10_7820915',\n",
       " 'indel:1D_11_108032283',\n",
       " 'indel:1D_11_58920050',\n",
       " 'indel:1D_11_58979221',\n",
       " 'indel:1D_11_77784146',\n",
       " 'indel:1D_12_13061364',\n",
       " 'indel:1D_12_31246253',\n",
       " 'indel:1D_13_103443332',\n",
       " 'indel:1D_13_50589928',\n",
       " 'indel:1D_13_61985658',\n",
       " 'indel:1D_14_24683266',\n",
       " 'indel:1D_14_24909628',\n",
       " 'indel:1D_14_62259561',\n",
       " 'indel:1D_15_43653962',\n",
       " 'indel:1D_15_91428521',\n",
       " 'indel:1D_16_2059621',\n",
       " 'indel:1D_16_67864358',\n",
       " 'indel:1D_16_732287',\n",
       " 'indel:1D_17_15406368',\n",
       " 'indel:1D_17_27893565',\n",
       " 'indel:1D_17_41108413',\n",
       " 'indel:1D_17_45247388',\n",
       " 'indel:1D_17_4689194',\n",
       " 'indel:1D_17_7165395',\n",
       " 'indel:1D_17_74383107',\n",
       " 'indel:1D_17_78201715',\n",
       " 'indel:1D_18_3452222',\n",
       " 'indel:1D_19_33444647',\n",
       " 'indel:1D_19_33444671',\n",
       " 'indel:1D_19_58301766',\n",
       " 'indel:1D_1_1289828',\n",
       " 'indel:1D_1_171165802',\n",
       " 'indel:1D_1_218504399',\n",
       " 'indel:1D_1_27699670',\n",
       " 'indel:1D_1_89729566',\n",
       " 'indel:1D_20_13752092',\n",
       " 'indel:1D_20_30156016',\n",
       " 'indel:1D_20_30610544',\n",
       " 'indel:1D_20_31022441',\n",
       " 'indel:1D_20_3655624',\n",
       " 'indel:1D_21_37518508',\n",
       " 'indel:1D_22_19431830',\n",
       " 'indel:1D_22_42473722',\n",
       " 'indel:1D_2_114500276',\n",
       " 'indel:1D_2_128018890',\n",
       " 'indel:1D_2_152236045',\n",
       " 'indel:1D_2_160843746',\n",
       " 'indel:1D_2_179309228',\n",
       " 'indel:1D_2_219526223',\n",
       " 'indel:1D_2_223559986',\n",
       " 'indel:1D_2_61361325',\n",
       " 'indel:1D_2_74684948',\n",
       " 'indel:1D_2_96992576',\n",
       " 'indel:1D_2_97261350',\n",
       " 'indel:1D_2_99778776',\n",
       " 'indel:1D_3_113729786',\n",
       " 'indel:1D_3_129155547',\n",
       " 'indel:1D_3_195453017',\n",
       " 'indel:1D_3_30691871',\n",
       " 'indel:1D_3_38049647',\n",
       " 'indel:1D_3_42956732',\n",
       " 'indel:1D_4_101108875',\n",
       " 'indel:1D_4_159136407',\n",
       " 'indel:1D_4_15937653',\n",
       " 'indel:1D_4_39558079',\n",
       " 'indel:1D_4_49034669',\n",
       " 'indel:1D_4_6925403',\n",
       " 'indel:1D_5_122365082',\n",
       " 'indel:1D_5_131931451',\n",
       " 'indel:1D_5_149374879',\n",
       " 'indel:1D_5_149375720',\n",
       " 'indel:1D_5_150563119',\n",
       " 'indel:1D_5_158630641',\n",
       " 'indel:1D_5_159437546',\n",
       " 'indel:1D_5_176942300',\n",
       " 'indel:1D_5_41181566',\n",
       " 'indel:1D_5_56177873',\n",
       " 'indel:1D_6_109763947',\n",
       " 'indel:1D_6_29910716',\n",
       " 'indel:1D_6_30545853',\n",
       " 'indel:1D_6_31105857',\n",
       " 'indel:1D_6_32549579',\n",
       " 'indel:1D_6_88218354',\n",
       " 'indel:1D_7_1037382',\n",
       " 'indel:1D_7_149174821',\n",
       " 'indel:1D_7_149462995',\n",
       " 'indel:1D_7_15725822',\n",
       " 'indel:1D_7_44112996',\n",
       " 'indel:1D_7_44118323',\n",
       " 'indel:1D_7_76240785',\n",
       " 'indel:1D_7_80285888',\n",
       " 'indel:1D_7_86556198',\n",
       " 'indel:1D_7_99711868',\n",
       " 'indel:1D_8_101721932',\n",
       " 'indel:1D_8_67590022',\n",
       " 'indel:1D_8_74706351',\n",
       " 'indel:1D_9_127982851',\n",
       " 'indel:1D_9_33387043',\n",
       " 'indel:1D_9_38396905',\n",
       " 'indel:1I_10_126673560',\n",
       " 'indel:1I_10_74890583',\n",
       " 'indel:1I_10_91162616',\n",
       " 'indel:1I_11_119210189',\n",
       " 'indel:1I_11_47282886',\n",
       " 'indel:1I_11_73104842',\n",
       " 'indel:1I_11_94230119',\n",
       " 'indel:1I_12_1038978',\n",
       " 'indel:1I_12_104373728',\n",
       " 'indel:1I_12_120649756',\n",
       " 'indel:1I_12_122618566',\n",
       " 'indel:1I_12_66547155',\n",
       " 'indel:1I_13_51530586',\n",
       " 'indel:1I_14_20925581',\n",
       " 'indel:1I_14_24030824',\n",
       " 'indel:1I_14_92537378',\n",
       " 'indel:1I_16_3119297',\n",
       " 'indel:1I_16_70563083',\n",
       " 'indel:1I_16_89986202',\n",
       " 'indel:1I_16_90038228',\n",
       " 'indel:1I_17_15517060',\n",
       " 'indel:1I_17_62522259',\n",
       " 'indel:1I_17_77082393',\n",
       " 'indel:1I_17_80615774',\n",
       " 'indel:1I_18_12337487',\n",
       " 'indel:1I_18_9104204',\n",
       " 'indel:1I_19_1434835',\n",
       " 'indel:1I_19_4512685',\n",
       " 'indel:1I_19_49442849',\n",
       " 'indel:1I_1_1115544',\n",
       " 'indel:1I_1_112020370',\n",
       " 'indel:1I_1_16262465',\n",
       " 'indel:1I_1_171174481',\n",
       " 'indel:1I_1_40981245',\n",
       " 'indel:1I_1_79128570',\n",
       " 'indel:1I_1_89473441',\n",
       " 'indel:1I_20_34215234',\n",
       " 'indel:1I_20_34220525',\n",
       " 'indel:1I_20_62332638',\n",
       " 'indel:1I_22_18072986',\n",
       " 'indel:1I_22_20100166',\n",
       " 'indel:1I_22_30824659',\n",
       " 'indel:1I_22_41257834',\n",
       " 'indel:1I_2_203848307',\n",
       " 'indel:1I_2_223799377',\n",
       " 'indel:1I_2_55771462',\n",
       " 'indel:1I_2_9552383',\n",
       " 'indel:1I_3_180334077',\n",
       " 'indel:1I_3_196281447',\n",
       " 'indel:1I_3_52004097',\n",
       " 'indel:1I_3_73111481',\n",
       " 'indel:1I_4_15607423',\n",
       " 'indel:1I_4_678570',\n",
       " 'indel:1I_5_139931629',\n",
       " 'indel:1I_6_136359280',\n",
       " 'indel:1I_6_146865249',\n",
       " 'indel:1I_6_30558477',\n",
       " 'indel:1I_6_31106500',\n",
       " 'indel:1I_6_32549584',\n",
       " 'indel:1I_6_32609228',\n",
       " 'indel:1I_7_1192728',\n",
       " 'indel:1I_7_127894704',\n",
       " 'indel:1I_7_99270273',\n",
       " 'indel:1I_8_145689658',\n",
       " 'indel:1I_9_131709581',\n",
       " 'indel:1I_9_139837166',\n",
       " 'indel:1I_9_35906600',\n",
       " 'indel:2D_10_27436461',\n",
       " 'indel:2D_10_5043798',\n",
       " 'indel:2D_11_60165352',\n",
       " 'indel:2D_11_830066',\n",
       " 'indel:2D_12_114793285',\n",
       " 'indel:2D_12_117448195',\n",
       " 'indel:2D_12_9016562',\n",
       " 'indel:2D_14_102808301',\n",
       " 'indel:2D_14_24651624',\n",
       " 'indel:2D_14_58831995',\n",
       " 'indel:2D_15_78558584',\n",
       " 'indel:2D_17_36878928',\n",
       " 'indel:2D_17_43112231',\n",
       " 'indel:2D_17_76993426',\n",
       " 'indel:2D_18_3452221',\n",
       " 'indel:2D_19_19790876',\n",
       " 'indel:2D_19_50154299',\n",
       " 'indel:2D_19_50154308',\n",
       " 'indel:2D_19_53269073',\n",
       " 'indel:2D_19_6381033',\n",
       " 'indel:2D_1_120254691',\n",
       " 'indel:2D_1_155173096',\n",
       " 'indel:2D_1_16262475',\n",
       " 'indel:2D_1_26608871',\n",
       " 'indel:2D_1_40981007',\n",
       " 'indel:2D_1_47280746',\n",
       " 'indel:2D_20_62329691',\n",
       " 'indel:2D_2_135711535',\n",
       " 'indel:2D_2_170885904',\n",
       " 'indel:2D_2_179315734',\n",
       " 'indel:2D_3_49060538',\n",
       " 'indel:2D_4_54319247',\n",
       " 'indel:2D_5_139931626',\n",
       " 'indel:2D_5_56177870',\n",
       " 'indel:2D_6_116988120',\n",
       " 'indel:2D_6_26465566',\n",
       " 'indel:2D_6_28200853',\n",
       " 'indel:2D_6_28294208',\n",
       " 'indel:2D_6_31238928',\n",
       " 'indel:2D_6_32130614',\n",
       " 'indel:2D_6_32609220',\n",
       " 'indel:2D_6_32609235',\n",
       " 'indel:2D_6_32609276',\n",
       " 'indel:2D_6_90334322',\n",
       " 'indel:2D_7_100552710',\n",
       " 'indel:2D_7_139094364',\n",
       " 'indel:2D_7_15725819',\n",
       " 'indel:2D_7_56140759',\n",
       " 'indel:2D_7_99668774',\n",
       " 'indel:2D_8_101719034',\n",
       " 'indel:2D_9_110093970',\n",
       " 'indel:2D_9_15465555',\n",
       " 'indel:2D_9_35906612',\n",
       " 'indel:2D_9_79118099',\n",
       " 'indel:2I_12_2997474',\n",
       " 'indel:2I_14_21458351',\n",
       " 'indel:2I_14_59930916',\n",
       " 'indel:2I_19_24309302',\n",
       " 'indel:2I_19_7542174',\n",
       " 'indel:2I_1_151090650',\n",
       " 'indel:2I_4_77100846',\n",
       " 'indel:2I_5_139931628',\n",
       " 'indel:2I_5_52097585',\n",
       " 'indel:2I_6_31238908',\n",
       " 'indel:2I_6_31795708',\n",
       " 'indel:2I_6_31939832',\n",
       " 'indel:2I_6_32497958',\n",
       " 'indel:2I_6_32497959',\n",
       " 'indel:2I_6_32609224',\n",
       " 'indel:2I_6_32609279',\n",
       " 'indel:2I_6_32634299',\n",
       " 'indel:2I_7_100552714',\n",
       " 'indel:2I_7_99818815',\n",
       " 'indel:2I_9_115449785',\n",
       " 'indel:2I_X_50350728',\n",
       " 'indel:3D_11_101868327',\n",
       " 'indel:3D_19_33444612',\n",
       " 'indel:3D_3_186505264',\n",
       " 'indel:3D_6_117865690',\n",
       " 'indel:3I_16_29821429',\n",
       " 'indel:4D_10_18834948',\n",
       " 'indel:4D_10_75258449',\n",
       " 'indel:4D_11_119210098',\n",
       " 'indel:4D_11_17981083',\n",
       " 'indel:4D_11_64000258',\n",
       " 'indel:4D_12_102120196',\n",
       " 'indel:4D_12_108086675',\n",
       " 'indel:4D_12_48151826',\n",
       " 'indel:4D_12_49667057',\n",
       " 'indel:4D_12_56553805',\n",
       " 'indel:4D_14_73572606',\n",
       " 'indel:4D_14_74060513',\n",
       " 'indel:4D_16_69748923',\n",
       " 'indel:4D_16_74709590',\n",
       " 'indel:4D_17_45438886',\n",
       " 'indel:4D_19_35175431',\n",
       " 'indel:4D_19_46815703',\n",
       " 'indel:4D_19_51729103',\n",
       " 'indel:4D_22_40798141',\n",
       " 'indel:4D_22_42967207',\n",
       " 'indel:4D_2_113089707',\n",
       " 'indel:4D_2_179343146',\n",
       " 'indel:4D_3_129155541',\n",
       " 'indel:4D_3_196198976',\n",
       " 'indel:4D_4_141458611',\n",
       " 'indel:4D_5_141024690',\n",
       " 'indel:4D_6_153019099',\n",
       " 'indel:4D_6_2838168',\n",
       " 'indel:4D_7_44148572',\n",
       " 'indel:4D_7_75615559',\n",
       " 'indel:4D_7_80303460',\n",
       " 'indel:4D_7_99662511',\n",
       " 'indel:4D_9_123631997',\n",
       " 'indel:4I_13_113979972',\n",
       " 'indel:4I_14_74060511',\n",
       " 'indel:4I_15_75641265',\n",
       " 'indel:4I_15_75641315',\n",
       " 'indel:4I_16_1822797',\n",
       " 'indel:4I_2_58386928',\n",
       " 'indel:4I_2_61413822',\n",
       " 'indel:4I_3_149238595',\n",
       " 'indel:4I_8_145579312',\n",
       " 'indel:4I_9_35562393',\n",
       " 'indel:5D_13_108862341',\n",
       " 'indel:5D_17_76420034',\n",
       " 'indel:5D_18_71825630',\n",
       " 'indel:5D_19_49513740',\n",
       " 'indel:5D_21_34860749',\n",
       " 'indel:5D_2_17962993',\n",
       " 'indel:5D_2_38976658',\n",
       " 'indel:5D_3_169514072',\n",
       " 'indel:5I_12_9885707',\n",
       " 'indel:5I_15_41862898',\n",
       " 'indel:5I_15_42138461',\n",
       " 'indel:5I_5_111500816',\n",
       " 'indel:6D_3_17208252',\n",
       " 'snp_10_102797189',\n",
       " 'snp_10_1065710',\n",
       " 'snp_10_112657843',\n",
       " 'snp_10_115612530',\n",
       " 'snp_10_4889403',\n",
       " 'snp_10_5141639',\n",
       " 'snp_10_75264736',\n",
       " 'snp_10_81146179',\n",
       " 'snp_10_81146197',\n",
       " 'snp_10_90354423',\n",
       " 'snp_10_90701591',\n",
       " 'snp_10_91162816',\n",
       " 'snp_10_95082882',\n",
       " 'snp_11_129991606',\n",
       " 'snp_11_33106616',\n",
       " 'snp_11_47074048',\n",
       " 'snp_11_5719649',\n",
       " 'snp_11_59940500',\n",
       " 'snp_11_61165741',\n",
       " 'snp_11_64037702',\n",
       " 'snp_11_64088241',\n",
       " 'snp_11_65486247',\n",
       " 'snp_11_66052339',\n",
       " 'snp_11_67208889',\n",
       " 'snp_11_70279766',\n",
       " 'snp_11_72466165',\n",
       " 'snp_11_73978243',\n",
       " 'snp_11_74563077',\n",
       " 'snp_11_7509386',\n",
       " 'snp_11_85345324',\n",
       " 'snp_12_1022569',\n",
       " 'snp_12_1023218',\n",
       " 'snp_12_10271087',\n",
       " 'snp_12_109017692',\n",
       " 'snp_12_109017693',\n",
       " 'snp_12_109895854',\n",
       " 'snp_12_110897617',\n",
       " 'snp_12_113357193',\n",
       " 'snp_12_21627774',\n",
       " 'snp_12_2997158',\n",
       " 'snp_12_47629396',\n",
       " 'snp_12_4766944',\n",
       " 'snp_12_52711549',\n",
       " 'snp_12_52711747',\n",
       " 'snp_12_53647277',\n",
       " 'snp_12_53700646',\n",
       " 'snp_12_54422479',\n",
       " 'snp_12_56088226',\n",
       " 'snp_12_58017860',\n",
       " 'snp_12_58019472',\n",
       " 'snp_12_69050235',\n",
       " 'snp_12_7091021',\n",
       " 'snp_12_76740088',\n",
       " 'snp_12_82752457',\n",
       " 'snp_12_8289461',\n",
       " 'snp_13_111290824',\n",
       " 'snp_13_20426175',\n",
       " 'snp_13_22077082',\n",
       " 'snp_13_26788842',\n",
       " 'snp_13_40301686',\n",
       " 'snp_13_45914957',\n",
       " 'snp_13_50235314',\n",
       " 'snp_13_52605154',\n",
       " 'snp_13_61985660',\n",
       " 'snp_13_77570221',\n",
       " 'snp_14_21679564',\n",
       " 'snp_14_24423039',\n",
       " 'snp_14_24566139',\n",
       " 'snp_14_35564280',\n",
       " 'snp_14_50798955',\n",
       " 'snp_14_52735063',\n",
       " 'snp_14_68053899',\n",
       " 'snp_14_74763086',\n",
       " 'snp_14_74947404',\n",
       " 'snp_14_78182164',\n",
       " 'snp_14_94563265',\n",
       " 'snp_15_41044324',\n",
       " 'snp_15_41862356',\n",
       " 'snp_15_41862801',\n",
       " 'snp_15_41865198',\n",
       " 'snp_15_41865199',\n",
       " 'snp_15_43658935',\n",
       " 'snp_15_75641682',\n",
       " 'snp_15_92706164',\n",
       " 'snp_16_105519',\n",
       " 'snp_16_12758809',\n",
       " 'snp_16_20638576',\n",
       " 'snp_16_28962374',\n",
       " 'snp_16_29821435',\n",
       " 'snp_16_29847080',\n",
       " 'snp_16_304386',\n",
       " 'snp_16_31505044',\n",
       " 'snp_16_4407246',\n",
       " 'snp_16_57464236',\n",
       " 'snp_16_67268293',\n",
       " 'snp_16_70694000',\n",
       " 'snp_16_79245651',\n",
       " 'snp_16_81183325',\n",
       " 'snp_16_84529382',\n",
       " 'snp_16_90097748',\n",
       " 'snp_17_15930699',\n",
       " 'snp_17_17494909',\n",
       " 'snp_17_18148965',\n",
       " 'snp_17_1943094',\n",
       " 'snp_17_19578873',\n",
       " 'snp_17_21204210',\n",
       " 'snp_17_26883286',\n",
       " 'snp_17_33689850',\n",
       " 'snp_17_34171734',\n",
       " 'snp_17_3422077',\n",
       " 'snp_17_36894839',\n",
       " 'snp_17_38062484',\n",
       " 'snp_17_42254011',\n",
       " 'snp_17_42268255',\n",
       " 'snp_17_4442931',\n",
       " 'snp_17_4461748',\n",
       " 'snp_17_45214558',\n",
       " 'snp_17_45247362',\n",
       " 'snp_17_45249360',\n",
       " 'snp_17_45452257',\n",
       " 'snp_17_5392783',\n",
       " 'snp_17_58740633',\n",
       " 'snp_17_62500389',\n",
       " 'snp_17_6544421',\n",
       " 'snp_17_6661584',\n",
       " 'snp_17_6663899',\n",
       " 'snp_17_67212031',\n",
       " 'snp_17_7187643',\n",
       " 'snp_17_7296182',\n",
       " 'snp_17_73126932',\n",
       " 'snp_17_74077797',\n",
       " 'snp_17_75398417',\n",
       " 'snp_17_75398418',\n",
       " 'snp_17_76200907',\n",
       " 'snp_17_7760574',\n",
       " 'snp_17_78197061',\n",
       " 'snp_17_79973101',\n",
       " 'snp_17_80280768',\n",
       " 'snp_17_80616375',\n",
       " 'snp_17_8192377',\n",
       " 'snp_17_8363479',\n",
       " 'snp_18_29437668',\n",
       " 'snp_19_11560245',\n",
       " 'snp_19_11618766',\n",
       " 'snp_19_12429782',\n",
       " 'snp_19_17337802',\n",
       " 'snp_19_21910125',\n",
       " 'snp_19_35739852',\n",
       " 'snp_19_36250842',\n",
       " 'snp_19_38897548',\n",
       " 'snp_19_40761070',\n",
       " 'snp_19_41089512',\n",
       " 'snp_19_41292607',\n",
       " 'snp_19_44056400',\n",
       " 'snp_19_46271371',\n",
       " 'snp_19_46823702',\n",
       " 'snp_19_49513245',\n",
       " 'snp_19_49513299',\n",
       " 'snp_19_49840207',\n",
       " 'snp_19_51920613',\n",
       " 'snp_19_52090836',\n",
       " 'snp_19_52919164',\n",
       " 'snp_19_52919387',\n",
       " 'snp_19_55098667',\n",
       " 'snp_19_58003580',\n",
       " 'snp_19_58153465',\n",
       " 'snp_19_58265600',\n",
       " 'snp_19_58773815',\n",
       " 'snp_19_8601430',\n",
       " 'snp_19_891102',\n",
       " 'snp_1_109823457',\n",
       " 'snp_1_11253722',\n",
       " 'snp_1_114523768',\n",
       " 'snp_1_117663561',\n",
       " 'snp_1_1309250',\n",
       " 'snp_1_1337543',\n",
       " 'snp_1_145075683',\n",
       " 'snp_1_145563082',\n",
       " 'snp_1_150482172',\n",
       " 'snp_1_152323132',\n",
       " 'snp_1_156707519',\n",
       " 'snp_1_161069277',\n",
       " 'snp_1_161088000',\n",
       " 'snp_1_161476204',\n",
       " 'snp_1_171083232',\n",
       " 'snp_1_171254588',\n",
       " 'snp_1_201454483',\n",
       " 'snp_1_203186950',\n",
       " 'snp_1_203186975',\n",
       " 'snp_1_2333723',\n",
       " 'snp_1_234745166',\n",
       " 'snp_1_236714292',\n",
       " 'snp_1_247320105',\n",
       " 'snp_1_249211983',\n",
       " 'snp_1_26644537',\n",
       " 'snp_1_33479004',\n",
       " 'snp_1_3544083',\n",
       " 'snp_1_35944752',\n",
       " 'snp_1_43239249',\n",
       " 'snp_1_43273064',\n",
       " 'snp_1_43917098',\n",
       " 'snp_1_44154668',\n",
       " 'snp_1_47080679',\n",
       " 'snp_1_47280859',\n",
       " 'snp_1_55182300',\n",
       " 'snp_1_79101171',\n",
       " 'snp_1_89655720',\n",
       " 'snp_20_1294073',\n",
       " 'snp_20_2634956',\n",
       " 'snp_20_32257228',\n",
       " 'snp_20_33722687',\n",
       " 'snp_20_34214723',\n",
       " 'snp_20_43577450',\n",
       " 'snp_20_44511257',\n",
       " 'snp_20_61296275',\n",
       " 'snp_21_31744127',\n",
       " 'snp_21_33867372',\n",
       " 'snp_21_37747607',\n",
       " 'snp_21_44323720',\n",
       " 'snp_21_45557227',\n",
       " 'snp_21_45725746',\n",
       " 'snp_22_18912677',\n",
       " 'snp_22_24108412',\n",
       " 'snp_22_29656431',\n",
       " 'snp_22_31985511',\n",
       " 'snp_2_108998301',\n",
       " 'snp_2_130912720',\n",
       " 'snp_2_1544542',\n",
       " 'snp_2_179300871',\n",
       " 'snp_2_21225765',\n",
       " 'snp_2_228195564',\n",
       " 'snp_2_228205097',\n",
       " 'snp_2_24300463',\n",
       " 'snp_2_24302464',\n",
       " 'snp_2_27551325',\n",
       " 'snp_2_37000956',\n",
       " 'snp_2_71351575',\n",
       " 'snp_2_74185336',\n",
       " 'snp_2_74690429',\n",
       " 'snp_2_85554773',\n",
       " 'snp_2_85820069',\n",
       " 'snp_2_85921552',\n",
       " 'snp_2_86364591',\n",
       " 'snp_3_119306449',\n",
       " 'snp_3_127292589',\n",
       " 'snp_3_129152089',\n",
       " 'snp_3_132337477',\n",
       " 'snp_3_136664970',\n",
       " 'snp_3_136699353',\n",
       " 'snp_3_142746021',\n",
       " 'snp_3_172224557',\n",
       " 'snp_3_50289853',\n",
       " 'snp_3_50311489',\n",
       " 'snp_3_50391167',\n",
       " 'snp_3_52029036',\n",
       " 'snp_3_52325759',\n",
       " 'snp_3_52860572',\n",
       " 'snp_3_53899276',\n",
       " 'snp_3_99569487',\n",
       " 'snp_4_111431444',\n",
       " 'snp_4_1244682',\n",
       " 'snp_4_130030763',\n",
       " 'snp_4_159052038',\n",
       " 'snp_4_20728910',\n",
       " 'snp_4_79833182',\n",
       " 'snp_4_995868',\n",
       " 'snp_5_111504714',\n",
       " 'snp_5_137906816',\n",
       " 'snp_5_140625979',\n",
       " 'snp_5_150174991',\n",
       " 'snp_5_150406502',\n",
       " 'snp_5_150407000',\n",
       " 'snp_5_154200915',\n",
       " 'snp_5_41934124',\n",
       " 'snp_5_86690220',\n",
       " 'snp_6_116600895',\n",
       " 'snp_6_117083214',\n",
       " 'snp_6_117866762',\n",
       " 'snp_6_136582401',\n",
       " 'snp_6_136582616',\n",
       " 'snp_6_136582617',\n",
       " 'snp_6_136597456',\n",
       " 'snp_6_153043303',\n",
       " 'snp_6_17602826',\n",
       " 'snp_6_20212410',\n",
       " 'snp_6_25969631',\n",
       " 'snp_6_26446011',\n",
       " 'snp_6_26446014',\n",
       " 'snp_6_30623307',\n",
       " 'snp_6_30627853',\n",
       " 'snp_6_31324143',\n",
       " 'snp_6_31324528',\n",
       " 'snp_6_31324535',\n",
       " 'snp_6_31711970',\n",
       " 'snp_6_31939823',\n",
       " 'snp_6_32551935',\n",
       " 'snp_6_32552141',\n",
       " 'snp_6_32552143',\n",
       " 'snp_6_33037523',\n",
       " 'snp_6_33048466',\n",
       " 'snp_6_36193085',\n",
       " 'snp_6_43180979',\n",
       " 'snp_6_56917907',\n",
       " 'snp_7_100552738',\n",
       " 'snp_7_100771765',\n",
       " 'snp_7_104752798',\n",
       " 'snp_7_1132246',\n",
       " 'snp_7_140374064',\n",
       " 'snp_7_150325378',\n",
       " 'snp_7_156468480',\n",
       " 'snp_7_156468559',\n",
       " 'snp_7_30791800',\n",
       " 'snp_7_30830967',\n",
       " 'snp_7_44151804',\n",
       " 'snp_7_63981713',\n",
       " 'snp_7_64452738',\n",
       " 'snp_7_66459273',\n",
       " 'snp_7_80300449',\n",
       " 'snp_7_91503872',\n",
       " 'snp_8_100904277',\n",
       " 'snp_8_101719226',\n",
       " 'snp_8_110308777',\n",
       " 'snp_8_18080115',\n",
       " 'snp_8_195481',\n",
       " 'snp_8_19819724',\n",
       " 'snp_8_22058684',\n",
       " 'snp_8_22885843',\n",
       " 'snp_8_31030535',\n",
       " 'snp_8_37702304',\n",
       " 'snp_8_52733231',\n",
       " 'snp_8_6357381',\n",
       " 'snp_8_91029359',\n",
       " 'snp_8_99205612',\n",
       " 'snp_9_123550466',\n",
       " 'snp_9_127572229',\n",
       " 'snp_9_132897384',\n",
       " 'snp_9_134105048',\n",
       " 'snp_9_136029645',\n",
       " 'snp_9_2828726',\n",
       " 'snp_9_34648088',\n",
       " 'snp_9_35076517',\n",
       " 'snp_9_37430644',\n",
       " 'snp_9_38396877',\n",
       " 'snp_9_6255967',\n",
       " 'snp_9_75775782',\n",
       " 'snp_9_90345360',\n",
       " 'snp_X_153208488',\n",
       " 'snp_X_2833605',\n",
       " 'snp_X_54957176',\n",
       " 'snp_X_55172630'}"
      ]
     },
     "execution_count": 501,
     "metadata": {},
     "output_type": "execute_result"
    }
   ],
   "source": [
    "my_ADPS_LGD_vars.difference(ADPSBQ_vars)"
   ]
  },
  {
   "cell_type": "code",
   "execution_count": 270,
   "metadata": {},
   "outputs": [
    {
     "data": {
      "text/html": [
       "<div>\n",
       "<style scoped>\n",
       "    .dataframe tbody tr th:only-of-type {\n",
       "        vertical-align: middle;\n",
       "    }\n",
       "\n",
       "    .dataframe tbody tr th {\n",
       "        vertical-align: top;\n",
       "    }\n",
       "\n",
       "    .dataframe thead th {\n",
       "        text-align: right;\n",
       "    }\n",
       "</style>\n",
       "<table border=\"1\" class=\"dataframe\">\n",
       "  <thead>\n",
       "    <tr style=\"text-align: right;\">\n",
       "      <th></th>\n",
       "      <th>tissue</th>\n",
       "      <th>a_hat</th>\n",
       "      <th>b_hat</th>\n",
       "    </tr>\n",
       "  </thead>\n",
       "  <tbody>\n",
       "    <tr>\n",
       "      <th>0</th>\n",
       "      <td>ADPSBQ</td>\n",
       "      <td>1.73</td>\n",
       "      <td>0.98</td>\n",
       "    </tr>\n",
       "    <tr>\n",
       "      <th>1</th>\n",
       "      <td>ARTTBL</td>\n",
       "      <td>2.01</td>\n",
       "      <td>0.99</td>\n",
       "    </tr>\n",
       "    <tr>\n",
       "      <th>2</th>\n",
       "      <td>BRAINS</td>\n",
       "      <td>2.08</td>\n",
       "      <td>0.99</td>\n",
       "    </tr>\n",
       "    <tr>\n",
       "      <th>3</th>\n",
       "      <td>BRNACC</td>\n",
       "      <td>2.60</td>\n",
       "      <td>1.75</td>\n",
       "    </tr>\n",
       "    <tr>\n",
       "      <th>4</th>\n",
       "      <td>BRNAMY</td>\n",
       "      <td>3.23</td>\n",
       "      <td>1.12</td>\n",
       "    </tr>\n",
       "    <tr>\n",
       "      <th>5</th>\n",
       "      <td>BRNCDT</td>\n",
       "      <td>4.11</td>\n",
       "      <td>1.17</td>\n",
       "    </tr>\n",
       "    <tr>\n",
       "      <th>6</th>\n",
       "      <td>BRNCHA</td>\n",
       "      <td>2.09</td>\n",
       "      <td>0.95</td>\n",
       "    </tr>\n",
       "    <tr>\n",
       "      <th>7</th>\n",
       "      <td>BRNCHB</td>\n",
       "      <td>2.70</td>\n",
       "      <td>0.94</td>\n",
       "    </tr>\n",
       "    <tr>\n",
       "      <th>8</th>\n",
       "      <td>BRNCTXA</td>\n",
       "      <td>2.58</td>\n",
       "      <td>0.98</td>\n",
       "    </tr>\n",
       "    <tr>\n",
       "      <th>9</th>\n",
       "      <td>BRNCTXB</td>\n",
       "      <td>2.19</td>\n",
       "      <td>0.97</td>\n",
       "    </tr>\n",
       "    <tr>\n",
       "      <th>10</th>\n",
       "      <td>BRNHPP</td>\n",
       "      <td>5.20</td>\n",
       "      <td>1.93</td>\n",
       "    </tr>\n",
       "    <tr>\n",
       "      <th>11</th>\n",
       "      <td>BRNHPT</td>\n",
       "      <td>2.31</td>\n",
       "      <td>1.19</td>\n",
       "    </tr>\n",
       "    <tr>\n",
       "      <th>12</th>\n",
       "      <td>BRNNCC</td>\n",
       "      <td>3.67</td>\n",
       "      <td>1.37</td>\n",
       "    </tr>\n",
       "    <tr>\n",
       "      <th>13</th>\n",
       "      <td>BRNPTM</td>\n",
       "      <td>9.65</td>\n",
       "      <td>3.46</td>\n",
       "    </tr>\n",
       "    <tr>\n",
       "      <th>14</th>\n",
       "      <td>BRNSNG</td>\n",
       "      <td>2.12</td>\n",
       "      <td>1.18</td>\n",
       "    </tr>\n",
       "    <tr>\n",
       "      <th>15</th>\n",
       "      <td>BRNSPC</td>\n",
       "      <td>5.57</td>\n",
       "      <td>1.24</td>\n",
       "    </tr>\n",
       "    <tr>\n",
       "      <th>16</th>\n",
       "      <td>HRTLV</td>\n",
       "      <td>2.02</td>\n",
       "      <td>1.03</td>\n",
       "    </tr>\n",
       "    <tr>\n",
       "      <th>17</th>\n",
       "      <td>LUNG</td>\n",
       "      <td>1.48</td>\n",
       "      <td>0.98</td>\n",
       "    </tr>\n",
       "    <tr>\n",
       "      <th>18</th>\n",
       "      <td>MSCLSK</td>\n",
       "      <td>2.00</td>\n",
       "      <td>0.99</td>\n",
       "    </tr>\n",
       "    <tr>\n",
       "      <th>19</th>\n",
       "      <td>NERVET</td>\n",
       "      <td>1.47</td>\n",
       "      <td>0.98</td>\n",
       "    </tr>\n",
       "    <tr>\n",
       "      <th>20</th>\n",
       "      <td>SKINS</td>\n",
       "      <td>2.73</td>\n",
       "      <td>2.20</td>\n",
       "    </tr>\n",
       "    <tr>\n",
       "      <th>21</th>\n",
       "      <td>THYROID</td>\n",
       "      <td>1.37</td>\n",
       "      <td>0.96</td>\n",
       "    </tr>\n",
       "    <tr>\n",
       "      <th>22</th>\n",
       "      <td>WHLBLD</td>\n",
       "      <td>1.95</td>\n",
       "      <td>0.99</td>\n",
       "    </tr>\n",
       "  </tbody>\n",
       "</table>\n",
       "</div>"
      ],
      "text/plain": [
       "     tissue  a_hat  b_hat\n",
       "0    ADPSBQ   1.73   0.98\n",
       "1    ARTTBL   2.01   0.99\n",
       "2    BRAINS   2.08   0.99\n",
       "3    BRNACC   2.60   1.75\n",
       "4    BRNAMY   3.23   1.12\n",
       "5    BRNCDT   4.11   1.17\n",
       "6    BRNCHA   2.09   0.95\n",
       "7    BRNCHB   2.70   0.94\n",
       "8   BRNCTXA   2.58   0.98\n",
       "9   BRNCTXB   2.19   0.97\n",
       "10   BRNHPP   5.20   1.93\n",
       "11   BRNHPT   2.31   1.19\n",
       "12   BRNNCC   3.67   1.37\n",
       "13   BRNPTM   9.65   3.46\n",
       "14   BRNSNG   2.12   1.18\n",
       "15   BRNSPC   5.57   1.24\n",
       "16    HRTLV   2.02   1.03\n",
       "17     LUNG   1.48   0.98\n",
       "18   MSCLSK   2.00   0.99\n",
       "19   NERVET   1.47   0.98\n",
       "20    SKINS   2.73   2.20\n",
       "21  THYROID   1.37   0.96\n",
       "22   WHLBLD   1.95   0.99"
      ]
     },
     "execution_count": 270,
     "metadata": {},
     "output_type": "execute_result"
    }
   ],
   "source": [
    "#Andy's NMD efficiency\n",
    "AEBE = pd.read_csv(\"NMD_model/DEBUG_parm_eps_abhat_bytissue.csv\")\n",
    "AEBE"
   ]
  },
  {
   "cell_type": "code",
   "execution_count": 201,
   "metadata": {},
   "outputs": [],
   "source": [
    "LGD_ADPS = TissueLGD(GTEX_ASE_LGD, Samples, \"Adipose Tissue\")"
   ]
  },
  {
   "cell_type": "code",
   "execution_count": 208,
   "metadata": {},
   "outputs": [
    {
     "data": {
      "text/plain": [
       "'ENSG00000007923'"
      ]
     },
     "execution_count": 208,
     "metadata": {},
     "output_type": "execute_result"
    }
   ],
   "source": [
    "LGD_ADPS[\"indel:2D_1_6727802\"].gene"
   ]
  },
  {
   "cell_type": "code",
   "execution_count": 586,
   "metadata": {},
   "outputs": [
    {
     "name": "stdout",
     "output_type": "stream",
     "text": [
      "GTEX-SNOS-1426-SM-32PLY\n",
      "ENSG00000010165\n",
      "-2.197471227111831 0.32\n"
     ]
    },
    {
     "data": {
      "image/png": "[encoded data removed]",
      "text/plain": [
       "<Figure size 432x288 with 1 Axes>"
      ]
     },
     "metadata": {
      "needs_background": "light"
     },
     "output_type": "display_data"
    }
   ],
   "source": [
    "TestOneVar(LGD_ADPS[\"snp_1_171751126\"], AEBE, Tissue=\"ADPSBQ\")"
   ]
  },
  {
   "cell_type": "code",
   "execution_count": 258,
   "metadata": {},
   "outputs": [
    {
     "name": "stdout",
     "output_type": "stream",
     "text": [
      "GTEX-WFG8-2326-SM-5S2UE\n",
      "ENSG00000014164\n"
     ]
    }
   ],
   "source": [
    "#snp_8_144522387,GTEX-WFG8,ADPSBQ,0.0588984\n",
    "var = \"snp_8_144522387\"\n",
    "print(LGD_ADPS[var].sample)\n",
    "print(LGD_ADPS[var].gene)"
   ]
  },
  {
   "cell_type": "code",
   "execution_count": null,
   "metadata": {},
   "outputs": [],
   "source": []
  },
  {
   "cell_type": "code",
   "execution_count": 587,
   "metadata": {},
   "outputs": [
    {
     "name": "stdout",
     "output_type": "stream",
     "text": [
      "GTEX-WFG8-2326-SM-5S2UE\n",
      "ENSG00000014164\n",
      "-0.01991667909039554 0.999\n"
     ]
    },
    {
     "data": {
      "image/png": "[encoded data removed]",
      "text/plain": [
       "<Figure size 432x288 with 1 Axes>"
      ]
     },
     "metadata": {
      "needs_background": "light"
     },
     "output_type": "display_data"
    }
   ],
   "source": [
    "TestOneVar(LGD_ADPS[\"snp_8_144522387\"], AEBE, Tissue=\"ADPSBQ\")"
   ]
  },
  {
   "cell_type": "code",
   "execution_count": 588,
   "metadata": {},
   "outputs": [
    {
     "name": "stdout",
     "output_type": "stream",
     "text": [
      "GTEX-X261-0226-SM-3NMD2\n",
      "ENSG00000054523\n",
      "GTEX-X261-0226-SM-3NMD2\n",
      "ENSG00000054523\n",
      "-1.1874017031732558 0.659\n"
     ]
    },
    {
     "data": {
      "image/png": "[encoded data removed]",
      "text/plain": [
       "<Figure size 432x288 with 1 Axes>"
      ]
     },
     "metadata": {
      "needs_background": "light"
     },
     "output_type": "display_data"
    }
   ],
   "source": [
    "# indel:1I_1_10425476,GTEX-X261,ADPSBQ,0.62443\n",
    "var = \"indel:1I_1_10425476\"\n",
    "print(LGD_ADPS[var].sample)\n",
    "print(LGD_ADPS[var].gene)\n",
    "TestOneVar(LGD_ADPS[var], AEBE, Tissue=\"ADPSBQ\")"
   ]
  },
  {
   "cell_type": "code",
   "execution_count": 591,
   "metadata": {},
   "outputs": [],
   "source": [
    "aa = math.exp(-5/2)"
   ]
  },
  {
   "cell_type": "code",
   "execution_count": 593,
   "metadata": {},
   "outputs": [
    {
     "data": {
      "text/plain": [
       "518.012824668342"
      ]
     },
     "execution_count": 593,
     "metadata": {},
     "output_type": "execute_result"
    }
   ],
   "source": [
    "math.pow(aa, -5/2)"
   ]
  },
  {
   "cell_type": "code",
   "execution_count": null,
   "metadata": {},
   "outputs": [],
   "source": [
    "np.average()"
   ]
  },
  {
   "cell_type": "code",
   "execution_count": 281,
   "metadata": {},
   "outputs": [
    {
     "name": "stdout",
     "output_type": "stream",
     "text": [
      "6 2\n"
     ]
    }
   ],
   "source": [
    "print(LGD_ADPS[var].nref, LGD_ADPS[var].nalt)\n",
    "EA"
   ]
  },
  {
   "cell_type": "code",
   "execution_count": 287,
   "metadata": {},
   "outputs": [
    {
     "name": "stdout",
     "output_type": "stream",
     "text": [
      "-4.5485263316364275 0.26\n",
      "-2.4249821548842703 0.42000000000000004\n",
      "-3.776601126670508 0.31\n",
      "-6.692921914669308 0.26\n"
     ]
    }
   ],
   "source": [
    "#4\n",
    "ae, be = 2, 1\n",
    "af, bf = 10, 10\n",
    "for nref, nalt in [(16, 44-16), (6,13-6), (14,34-14), (273, 639-273)]:\n",
    "    var = ASEVar(\"1\", \"1\", \"1\", nref, nalt, \"GENE\")\n",
    "    maxP, e_hat, all_e, allPosts = EstimateE_hat(var, af, bf, ae, be, dx=0.01)\n",
    "    print(maxP, e_hat)"
   ]
  },
  {
   "cell_type": "code",
   "execution_count": 290,
   "metadata": {},
   "outputs": [
    {
     "name": "stdout",
     "output_type": "stream",
     "text": [
      "-11.933368027268449 6.56756100000001e-06\n",
      "-6.166175544854475 0.0020992491520000016\n",
      "-3.0511151423790874 0.04730614188299999\n",
      "-1.0785792096220934 0.34007836262399954\n",
      "0.20042652502997707 1.2219238281249998\n",
      "0.9487463309187287 2.582470066175997\n",
      "1.1853741595569307 3.2719108091669993\n",
      "0.7652962607449769 2.149631131648\n",
      "-0.9472451405873539 0.38780790948899974\n"
     ]
    }
   ],
   "source": [
    "a, b = 10, 5\n",
    "for x in np.arange(0.1, 1, 0.1):\n",
    "    print(math.log(beta.pdf(x, a, b)), beta.pdf(x, a, b))"
   ]
  },
  {
   "cell_type": "code",
   "execution_count": 295,
   "metadata": {},
   "outputs": [
    {
     "name": "stdout",
     "output_type": "stream",
     "text": [
      "-5.169394993109451 0.0056880090631057124\n",
      "-3.303527551727676 0.03675328933083685\n",
      "-2.2178186678954743 0.1088462799413245\n",
      "-1.6328850719757604 0.1953651178434032\n",
      "-1.4409940641656567 0.23669235431027658\n",
      "-1.5900296433261438 0.20391956679039228\n",
      "-2.0549181719051104 0.1281033175990924\n",
      "-2.828108060138591 0.05912460812265811\n",
      "-3.917150897790551 0.01989770465666376\n",
      "-5.347120322413103 0.004761843849457997\n",
      "-7.170132335145263 0.0007692209295278294\n",
      "-9.493919635789911 7.530834275097634e-05\n",
      "-12.597865493984134 3.3792205080566344e-06\n"
     ]
    }
   ],
   "source": [
    "a, b = 10, 5\n",
    "for x in np.arange(0,13,1):\n",
    "    print(math.log(binom.pmf(x, 12, 0.35)), binom.pmf(x, 12, 0.35))"
   ]
  },
  {
   "cell_type": "code",
   "execution_count": 585,
   "metadata": {},
   "outputs": [
    {
     "name": "stdout",
     "output_type": "stream",
     "text": [
      "12 48\n",
      "0.00 0.00 0.00000 -inf -inf\n",
      "0.00 0.10 0.10000 -6.45699 0.37100\n",
      "0.00 0.20 0.20000 -2.37941 1.88027\n",
      "0.00 0.30 0.30000 -2.32096 -3.63550\n",
      "0.00 0.40 0.40000 -4.41820 -13.43045\n",
      "0.00 0.50 0.50000 -8.30405 -27.24056\n",
      "0.00 0.60 0.60000 -14.14936 -45.86766\n",
      "0.00 0.70 0.70000 -22.65611 -71.41932\n",
      "0.00 0.80 0.80000 -35.65047 -109.02327\n",
      "0.00 0.90 0.90000 -59.19037 -175.40697\n",
      "12 48\n",
      "0.10 0.00 0.00000 -inf -inf\n",
      "0.10 0.10 0.09091 -7.23890 0.37100\n",
      "0.10 0.20 0.18367 -2.67400 1.88027\n",
      "0.10 0.30 0.27835 -2.12324 -3.63550\n",
      "0.10 0.40 0.37500 -3.72307 -13.43045\n",
      "0.10 0.50 0.47368 -7.10630 -27.24056\n",
      "0.10 0.60 0.57447 -12.44367 -45.86766\n",
      "0.10 0.70 0.67742 -20.43704 -71.41932\n",
      "0.10 0.80 0.78261 -32.91248 -109.02327\n",
      "0.10 0.90 0.89011 -55.92779 -175.40697\n",
      "12 48\n",
      "0.20 0.00 0.00000 -inf -inf\n",
      "0.20 0.10 0.08163 -8.16498 0.37100\n",
      "0.20 0.20 0.16667 -3.09768 1.88027\n",
      "0.20 0.30 0.25532 -2.02866 -3.63550\n",
      "0.20 0.40 0.34783 -3.09360 -13.43045\n",
      "0.20 0.50 0.44444 -5.92447 -27.24056\n",
      "0.20 0.60 0.54545 -10.69108 -45.86766\n",
      "0.20 0.70 0.65116 -18.09433 -71.41932\n",
      "0.20 0.80 0.76190 -29.95923 -109.02327\n",
      "0.20 0.90 0.87805 -52.34245 -175.40697\n",
      "12 48\n",
      "0.30 0.00 0.00000 -inf -inf\n",
      "0.30 0.10 0.07216 -9.27504 0.37100\n",
      "0.30 0.20 0.14894 -3.68949 1.88027\n",
      "0.30 0.30 0.23077 -2.07414 -3.63550\n",
      "0.30 0.40 0.31818 -2.56229 -13.43045\n",
      "0.30 0.50 0.41176 -4.78324 -27.24056\n",
      "0.30 0.60 0.51220 -8.90381 -45.86766\n",
      "0.30 0.70 0.62025 -15.62153 -71.41932\n",
      "0.30 0.80 0.73684 -26.75760 -109.02327\n",
      "0.30 0.90 0.86301 -48.36436 -175.40697\n",
      "12 48\n",
      "0.40 0.00 0.00000 -inf -inf\n",
      "0.40 0.10 0.06250 -10.62744 0.37100\n",
      "0.40 0.20 0.13043 -4.50700 1.88027\n",
      "0.40 0.30 0.20455 -2.31486 -3.63550\n",
      "0.40 0.40 0.28571 -2.17914 -13.43045\n",
      "0.40 0.50 0.37500 -3.72307 -27.24056\n",
      "0.40 0.60 0.47368 -7.10630 -45.86766\n",
      "0.40 0.70 0.58333 -13.01782 -71.41932\n",
      "0.40 0.80 0.70588 -23.26858 -109.02327\n",
      "0.40 0.90 0.84375 -43.89850 -175.40697\n",
      "12 48\n",
      "0.50 0.00 0.00000 -inf -inf\n",
      "0.50 0.10 0.05263 -12.31267 0.37100\n",
      "0.50 0.20 0.11111 -5.63987 1.88027\n",
      "0.50 0.30 0.17647 -2.83781 -3.63550\n",
      "0.50 0.40 0.25000 -2.02507 -13.43045\n",
      "0.50 0.50 0.33333 -2.81308 -27.24056\n",
      "0.50 0.60 0.42857 -5.34673 -45.86766\n",
      "0.50 0.70 0.53846 -10.29629 -71.41932\n",
      "0.50 0.80 0.66667 -19.44861 -109.02327\n",
      "0.50 0.90 0.81818 -38.81197 -175.40697\n",
      "12 48\n",
      "0.60 0.00 0.00000 -inf -inf\n",
      "0.60 0.10 0.04255 -14.48245 0.37100\n",
      "0.60 0.20 0.09091 -7.23890 1.88027\n",
      "0.60 0.30 0.14634 -3.79080 -3.63550\n",
      "0.60 0.40 0.21053 -2.24072 -13.43045\n",
      "0.60 0.50 0.28571 -2.17914 -27.24056\n",
      "0.60 0.60 0.37500 -3.72307 -45.86766\n",
      "0.60 0.70 0.48276 -7.50469 -71.41932\n",
      "0.60 0.80 0.61538 -15.25749 -109.02327\n",
      "0.60 0.90 0.78261 -32.91248 -175.40697\n",
      "12 48\n",
      "0.70 0.00 0.00000 -inf -inf\n",
      "0.70 0.10 0.03226 -17.42127 0.37100\n",
      "0.70 0.20 0.06977 -9.58758 1.88027\n",
      "0.70 0.30 0.11392 -5.45396 -3.63550\n",
      "0.70 0.40 0.16667 -3.09768 -13.43045\n",
      "0.70 0.50 0.23077 -2.07414 -27.24056\n",
      "0.70 0.60 0.31034 -2.45013 -45.86766\n",
      "0.70 0.70 0.41176 -4.78324 -71.41932\n",
      "0.70 0.80 0.54545 -10.69108 -109.02327\n",
      "0.70 0.90 0.72973 -25.91394 -175.40697\n",
      "12 48\n",
      "0.80 0.00 0.00000 -inf -inf\n",
      "0.80 0.10 0.02174 -21.76792 0.37100\n",
      "0.80 0.20 0.04762 -13.32370 1.88027\n",
      "0.80 0.30 0.07895 -8.46124 -3.63550\n",
      "0.80 0.40 0.11765 -5.21965 -13.43045\n",
      "0.80 0.50 0.16667 -3.09768 -27.24056\n",
      "0.80 0.60 0.23077 -2.07414 -45.86766\n",
      "0.80 0.70 0.31818 -2.56229 -71.41932\n",
      "0.80 0.80 0.44444 -5.92447 -109.02327\n",
      "0.80 0.90 0.64286 -17.40128 -175.40697\n",
      "12 48\n",
      "0.90 0.00 0.00000 -inf -inf\n",
      "0.90 0.10 0.01099 -29.56109 0.37100\n",
      "0.90 0.20 0.02439 -20.48478 1.88027\n",
      "0.90 0.30 0.04110 -14.84586 -3.63550\n",
      "0.90 0.40 0.06250 -10.62744 -13.43045\n",
      "0.90 0.50 0.09091 -7.23890 -27.24056\n",
      "0.90 0.60 0.13043 -4.50700 -45.86766\n",
      "0.90 0.70 0.18919 -2.56302 -71.41932\n",
      "0.90 0.80 0.28571 -2.17914 -109.02327\n",
      "0.90 0.90 0.47368 -7.10630 -175.40697\n"
     ]
    }
   ],
   "source": [
    "af, bf = 20, 100\n",
    "e = 0\n",
    "k = 12; n = 48\n",
    "ae, be = 2, 1\n",
    "var = ASEVar(\"1\", \"1\", \"1\", 48-12, 12, \"GENE\")\n",
    "#res, err = quad(beta_binom_Ehat, 0, 1, args=(e, af, bf, k, n))\n",
    "#print(res)\n",
    "maxP, e_hat, all_e, allPosts = EstimateE_hat2(var, af, bf, ae, be, dx=0.1)"
   ]
  },
  {
   "cell_type": "code",
   "execution_count": 559,
   "metadata": {},
   "outputs": [
    {
     "name": "stdout",
     "output_type": "stream",
     "text": [
      "0 0.1 -30.45486078343931 5.937751453203997e-14\n",
      "1 0.2 -32.95513258771452 4.872678603769675e-15\n",
      "2 0.30000000000000004 -35.912027966574776 2.5328205440935585e-16\n",
      "3 0.4 -39.48268739722387 7.126671368416443e-18\n",
      "4 0.5 -43.9152394030055 8.469423620963016e-20\n",
      "5 0.6 -49.63318696084398 2.783433075398311e-22\n",
      "6 0.7000000000000001 -57.445478289733536 1.126537799471378e-25\n",
      "7 0.8 -69.20219232895707 8.828150655200438e-31\n",
      "8 0.9 -90.9116783422639 3.292757558848576e-40\n"
     ]
    }
   ],
   "source": [
    "for i, (e, P) in enumerate(zip(all_e, allPosts)):\n",
    "    print(i, e, P, math.exp(P))"
   ]
  },
  {
   "cell_type": "code",
   "execution_count": 445,
   "metadata": {},
   "outputs": [
    {
     "name": "stdout",
     "output_type": "stream",
     "text": [
      "0 0.1 -4.918292527300896 0.007311604559668204\n",
      "1 0.2 -5.3921368830616005 0.004552235340370688\n",
      "2 0.30000000000000004 -5.978519431186667 0.002532573166640112\n",
      "3 0.4 -6.71865387660443 0.001208163456918867\n",
      "4 0.5 -7.678260731592783 0.00046277909628295467\n",
      "5 0.6 -8.97061409037012 0.00012709012336634517\n",
      "6 0.7000000000000001 -10.814187883445825 2.0112121128315003e-05\n",
      "7 0.8 -13.713389053668518 1.1075180317514426e-06\n",
      "8 0.9 -19.321206046752575 4.063561436450683e-09\n"
     ]
    }
   ],
   "source": [
    "for i, (e, P) in enumerate(zip(all_e, allPosts)):\n",
    "    print(i, e, P, math.exp(P))"
   ]
  },
  {
   "cell_type": "code",
   "execution_count": 556,
   "metadata": {},
   "outputs": [
    {
     "name": "stdout",
     "output_type": "stream",
     "text": [
      "-1.3988810110276972e-14 -6.661338147750939e-16\n"
     ]
    }
   ],
   "source": [
    "f = lambda x: beta.pdf(x, 1, 2)\n",
    "f2 = lambda x: binom.pmf(x, 10, 0.5)\n",
    "def f(x, a, b):\n",
    "    return beta.pdf(x,a,b)\n",
    "res1 = SimpsonQuad(f, 0, 1, args=(10,20), steps=10)\n",
    "res2, err = quad(f, 0, 1, args=(10, 20))\n",
    "print(1-res, 1-res2)"
   ]
  },
  {
   "cell_type": "code",
   "execution_count": 431,
   "metadata": {},
   "outputs": [],
   "source": [
    "def SimpsonQuad(func, start, end, args, steps=100):\n",
    "    step_size = (end - start ) / steps\n",
    "    res = 0\n",
    "    for step in range(steps):\n",
    "        x = start + step_size/2\n",
    "        _args = tuple([x] + [_ for _ in args])\n",
    "        start += step_size\n",
    "        h = func(*_args)\n",
    "        res += step_size*h\n",
    "    return res\n",
    "\n",
    "def f(x, b, c):\n",
    "    return x * x * x + b*x + c"
   ]
  },
  {
   "cell_type": "code",
   "execution_count": 432,
   "metadata": {},
   "outputs": [
    {
     "data": {
      "text/plain": [
       "2.7499875000000005"
      ]
     },
     "execution_count": 432,
     "metadata": {},
     "output_type": "execute_result"
    }
   ],
   "source": [
    "SimpsonQuad(f, 0, 1, args=(1,2))"
   ]
  },
  {
   "cell_type": "code",
   "execution_count": 433,
   "metadata": {},
   "outputs": [
    {
     "data": {
      "text/plain": [
       "(2.7500000000000004, 3.053113317719181e-14)"
      ]
     },
     "execution_count": 433,
     "metadata": {},
     "output_type": "execute_result"
    }
   ],
   "source": [
    "quad(f, 0,1, args=(1,2))"
   ]
  },
  {
   "cell_type": "code",
   "execution_count": 435,
   "metadata": {},
   "outputs": [
    {
     "data": {
      "text/plain": [
       "0.03678928214271003"
      ]
     },
     "execution_count": 435,
     "metadata": {},
     "output_type": "execute_result"
    }
   ],
   "source": [
    "res, err = quad(beta_binom_Ehat, 0, 1, args=(e, af, bf, k, n))\n",
    "res"
   ]
  },
  {
   "cell_type": "code",
   "execution_count": 436,
   "metadata": {},
   "outputs": [
    {
     "data": {
      "text/plain": [
       "0.03678928214229183"
      ]
     },
     "execution_count": 436,
     "metadata": {},
     "output_type": "execute_result"
    }
   ],
   "source": [
    "SimpsonQuad(beta_binom_Ehat, 0, 1, args=(e, af, bf, k, n))"
   ]
  },
  {
   "cell_type": "code",
   "execution_count": 510,
   "metadata": {},
   "outputs": [
    {
     "data": {
      "text/plain": [
       "(2.3942546916271024, 17.691282231560564)"
      ]
     },
     "execution_count": 510,
     "metadata": {},
     "output_type": "execute_result"
    }
   ],
   "source": [
    "a, b = reparameter(-2, 3)\n",
    "a,b"
   ]
  },
  {
   "cell_type": "code",
   "execution_count": 511,
   "metadata": {},
   "outputs": [
    {
     "name": "stdout",
     "output_type": "stream",
     "text": [
      "-2.0 3.0\n"
     ]
    }
   ],
   "source": [
    "print(math.log(a/b), math.log(a+b))"
   ]
  },
  {
   "cell_type": "code",
   "execution_count": 543,
   "metadata": {},
   "outputs": [],
   "source": [
    "def f(x):\n",
    "    return math.sin(math.cos(x))*math.tan(x)"
   ]
  },
  {
   "cell_type": "code",
   "execution_count": 544,
   "metadata": {},
   "outputs": [
    {
     "data": {
      "text/plain": [
       "1.892166147654902"
      ]
     },
     "execution_count": 544,
     "metadata": {},
     "output_type": "execute_result"
    }
   ],
   "source": [
    "x = SimpsonQuad(f, 0, math.pi, args=(), steps=10000)\n",
    "#x = quad(f, )\n",
    "x"
   ]
  },
  {
   "cell_type": "code",
   "execution_count": 623,
   "metadata": {},
   "outputs": [],
   "source": [
    "def LoadLGDDat(fname):\n",
    "    hand = open(fname, 'rt')\n",
    "    l = next(hand)\n",
    "    res = []\n",
    "    for l in hand:\n",
    "        llist = l.strip().split(\",\")\n",
    "        res.append([int(x) for x in llist] )\n",
    "    return res"
   ]
  },
  {
   "cell_type": "code",
   "execution_count": 795,
   "metadata": {},
   "outputs": [],
   "source": [
    "#LGD_Dat = LoadLGDDat(\"./NMD_model/BRNAMY.obs\")\n",
    "LGD_Dat = LoadLGDDat(\"./NMD_model/test.2.obs\")"
   ]
  },
  {
   "cell_type": "code",
   "execution_count": 796,
   "metadata": {},
   "outputs": [
    {
     "name": "stdout",
     "output_type": "stream",
     "text": [
      "12 54 -5.148998779581304\n",
      "0 90 -2.320296124820904\n",
      "6 52 -2.7353150778789055\n",
      "9 78 -3.0995767157063057\n",
      "5 34 -2.8376434653269764\n",
      "7 33 -4.050059080434127\n",
      "3 66 -2.164093109090438\n",
      "4 33 -2.4190249131301766\n",
      "5 28 -3.1616085496742854\n",
      "-3.6754396127514815 1.2858108225415685 -0.20692071580732257\n"
     ]
    }
   ],
   "source": [
    "a, b = 3.23, 1.12\n",
    "post = ComputeLikelihoodNMDPara(LGD_Dat, a, b, math.log(scipy.stats.halfcauchy.pdf(1/math.sqrt(a+b))))"
   ]
  },
  {
   "cell_type": "code",
   "execution_count": 797,
   "metadata": {},
   "outputs": [
    {
     "data": {
      "text/plain": [
       "-30.533165321660658"
      ]
     },
     "execution_count": 797,
     "metadata": {},
     "output_type": "execute_result"
    }
   ],
   "source": [
    "post"
   ]
  },
  {
   "cell_type": "code",
   "execution_count": null,
   "metadata": {},
   "outputs": [],
   "source": [
    "a, b = 3.23, 1.12\n",
    "post = ComputeLikelihoodNMDPara(LGD_Dat, a, b, math.log(scipy.stats.halfcauchy.pdf(1/math.sqrt(a+b))))"
   ]
  },
  {
   "cell_type": "code",
   "execution_count": 794,
   "metadata": {},
   "outputs": [
    {
     "data": {
      "text/plain": [
       "-28.683237378551535"
      ]
     },
     "execution_count": 794,
     "metadata": {},
     "output_type": "execute_result"
    }
   ],
   "source": [
    "post"
   ]
  },
  {
   "cell_type": "code",
   "execution_count": 779,
   "metadata": {},
   "outputs": [],
   "source": [
    "def func1(x,y):\n",
    "    return math.exp(math.sin(x)+math.cos(y))\n",
    "def func2(x,y):\n",
    "    return math.sin(x+y)\n",
    "def func3(x,y):\n",
    "    return x/math.log(x+y)"
   ]
  },
  {
   "cell_type": "code",
   "execution_count": 780,
   "metadata": {},
   "outputs": [
    {
     "data": {
      "text/plain": [
       "3.8211448200278406"
      ]
     },
     "execution_count": 780,
     "metadata": {},
     "output_type": "execute_result"
    }
   ],
   "source": [
    "res, err = dblquad(func1, 0,1,lambda x:0, lambda x:1)\n",
    "res"
   ]
  },
  {
   "cell_type": "code",
   "execution_count": 777,
   "metadata": {},
   "outputs": [
    {
     "data": {
      "text/plain": [
       "-2.0009874725063637"
      ]
     },
     "execution_count": 777,
     "metadata": {},
     "output_type": "execute_result"
    }
   ],
   "source": [
    "res, err = dblquad(func2, 0,10,lambda x:0, lambda x:10)\n",
    "res"
   ]
  },
  {
   "cell_type": "code",
   "execution_count": 778,
   "metadata": {},
   "outputs": [
    {
     "data": {
      "text/plain": [
       "5.820621354724327"
      ]
     },
     "execution_count": 778,
     "metadata": {},
     "output_type": "execute_result"
    }
   ],
   "source": [
    "res, err = dblquad(func3, 1,3,lambda x:1, lambda x:3)\n",
    "res"
   ]
  },
  {
   "cell_type": "code",
   "execution_count": null,
   "metadata": {},
   "outputs": [],
   "source": []
  }
 ],
 "metadata": {
  "kernelspec": {
   "display_name": "Python 3",
   "language": "python",
   "name": "python3"
  },
  "language_info": {
   "codemirror_mode": {
    "name": "ipython",
    "version": 3
   },
   "file_extension": ".py",
   "mimetype": "text/x-python",
   "name": "python",
   "nbconvert_exporter": "python",
   "pygments_lexer": "ipython3",
   "version": "3.7.1"
  }
 },
 "nbformat": 4,
 "nbformat_minor": 2
}
